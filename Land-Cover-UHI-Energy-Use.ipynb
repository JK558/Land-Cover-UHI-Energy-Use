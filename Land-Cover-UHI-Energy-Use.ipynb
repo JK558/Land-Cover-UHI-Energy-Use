{
 "cells": [
  {
   "cell_type": "markdown",
   "metadata": {
    "toc": true
   },
   "source": [
    "<h1>Table of Contents<span class=\"tocSkip\"></span></h1>\n",
    "<div class=\"toc\"><ul class=\"toc-item\"><li><span><a href=\"#Data-Wrangling\" data-toc-modified-id=\"Data-Wrangling-1\"><span class=\"toc-item-num\">1&nbsp;&nbsp;</span>Data Wrangling</a></span><ul class=\"toc-item\"><li><span><a href=\"#check-GPS-information\" data-toc-modified-id=\"check-GPS-information-1.1\"><span class=\"toc-item-num\">1.1&nbsp;&nbsp;</span>check GPS information</a></span></li><li><span><a href=\"#select-a-subset-of-columns-to-keep\" data-toc-modified-id=\"select-a-subset-of-columns-to-keep-1.2\"><span class=\"toc-item-num\">1.2&nbsp;&nbsp;</span>select a subset of columns to keep</a></span></li><li><span><a href=\"#reshape-from-long-to-wide,-creat-new-column-month,-elec_use,-elec_bill,\" data-toc-modified-id=\"reshape-from-long-to-wide,-creat-new-column-month,-elec_use,-elec_bill,-1.3\"><span class=\"toc-item-num\">1.3&nbsp;&nbsp;</span>reshape from long to wide, creat new column <code>month</code>, <code>elec_use</code>, <code>elec_bill</code>,</a></span></li><li><span><a href=\"#rename-columns\" data-toc-modified-id=\"rename-columns-1.4\"><span class=\"toc-item-num\">1.4&nbsp;&nbsp;</span>rename columns</a></span></li><li><span><a href=\"#merge-with-LandCover,-LandSurfaceTemperature,-VegetationField\" data-toc-modified-id=\"merge-with-LandCover,-LandSurfaceTemperature,-VegetationField-1.5\"><span class=\"toc-item-num\">1.5&nbsp;&nbsp;</span>merge with LandCover, LandSurfaceTemperature, VegetationField</a></span></li><li><span><a href=\"#clean-up-city-name\" data-toc-modified-id=\"clean-up-city-name-1.6\"><span class=\"toc-item-num\">1.6&nbsp;&nbsp;</span>clean up <code>city</code> name</a></span></li><li><span><a href=\"#create-dummies-for-north,-summer,-new-building,-single-family-house\" data-toc-modified-id=\"create-dummies-for-north,-summer,-new-building,-single-family-house-1.7\"><span class=\"toc-item-num\">1.7&nbsp;&nbsp;</span>create dummies for north, summer, new building, single family house</a></span></li><li><span><a href=\"#generate-LC_Type3,-Vege_Cover,-DD_sq\" data-toc-modified-id=\"generate-LC_Type3,-Vege_Cover,-DD_sq-1.8\"><span class=\"toc-item-num\">1.8&nbsp;&nbsp;</span>generate <code>LC_Type3</code>, <code>Vege_Cover</code>, <code>DD_sq</code></a></span></li></ul></li><li><span><a href=\"#Analysis\" data-toc-modified-id=\"Analysis-2\"><span class=\"toc-item-num\">2&nbsp;&nbsp;</span>Analysis</a></span><ul class=\"toc-item\"><li><span><a href=\"#Graphs,-maps,-Degree-Days-Box-plot\" data-toc-modified-id=\"Graphs,-maps,-Degree-Days-Box-plot-2.1\"><span class=\"toc-item-num\">2.1&nbsp;&nbsp;</span>Graphs, maps, <code>Degree Days</code> Box plot</a></span></li><li><span><a href=\"#outliers-in-elec_use\" data-toc-modified-id=\"outliers-in-elec_use-2.2\"><span class=\"toc-item-num\">2.2&nbsp;&nbsp;</span>outliers in <code>elec_use</code></a></span></li></ul></li><li><span><a href=\"#Models\" data-toc-modified-id=\"Models-3\"><span class=\"toc-item-num\">3&nbsp;&nbsp;</span>Models</a></span><ul class=\"toc-item\"><li><span><a href=\"#Cross-Section-Model\" data-toc-modified-id=\"Cross-Section-Model-3.1\"><span class=\"toc-item-num\">3.1&nbsp;&nbsp;</span>Cross Section Model</a></span></li><li><span><a href=\"#Panel-Model\" data-toc-modified-id=\"Panel-Model-3.2\"><span class=\"toc-item-num\">3.2&nbsp;&nbsp;</span>Panel Model</a></span></li><li><span><a href=\"#Summer\" data-toc-modified-id=\"Summer-3.3\"><span class=\"toc-item-num\">3.3&nbsp;&nbsp;</span>Summer</a></span></li><li><span><a href=\"#Winter\" data-toc-modified-id=\"Winter-3.4\"><span class=\"toc-item-num\">3.4&nbsp;&nbsp;</span>Winter</a></span></li><li><span><a href=\"#North-China\" data-toc-modified-id=\"North-China-3.5\"><span class=\"toc-item-num\">3.5&nbsp;&nbsp;</span>North China</a></span></li><li><span><a href=\"#South-China\" data-toc-modified-id=\"South-China-3.6\"><span class=\"toc-item-num\">3.6&nbsp;&nbsp;</span>South China</a></span></li><li><span><a href=\"#Robust-Checks\" data-toc-modified-id=\"Robust-Checks-3.7\"><span class=\"toc-item-num\">3.7&nbsp;&nbsp;</span>Robust Checks</a></span></li><li><span><a href=\"#Machine-Learning-Models\" data-toc-modified-id=\"Machine-Learning-Models-3.8\"><span class=\"toc-item-num\">3.8&nbsp;&nbsp;</span>Machine Learning Models</a></span><ul class=\"toc-item\"><li><span><a href=\"#prepare-training-and-test-set\" data-toc-modified-id=\"prepare-training-and-test-set-3.8.1\"><span class=\"toc-item-num\">3.8.1&nbsp;&nbsp;</span>prepare training and test set</a></span></li><li><span><a href=\"#Linear-Regression\" data-toc-modified-id=\"Linear-Regression-3.8.2\"><span class=\"toc-item-num\">3.8.2&nbsp;&nbsp;</span>Linear Regression</a></span></li><li><span><a href=\"#Lasso\" data-toc-modified-id=\"Lasso-3.8.3\"><span class=\"toc-item-num\">3.8.3&nbsp;&nbsp;</span>Lasso</a></span></li><li><span><a href=\"#Random-Forest\" data-toc-modified-id=\"Random-Forest-3.8.4\"><span class=\"toc-item-num\">3.8.4&nbsp;&nbsp;</span>Random Forest</a></span></li><li><span><a href=\"#Boosting\" data-toc-modified-id=\"Boosting-3.8.5\"><span class=\"toc-item-num\">3.8.5&nbsp;&nbsp;</span>Boosting</a></span></li></ul></li></ul></li></ul></div>"
   ]
  },
  {
   "cell_type": "code",
   "execution_count": 1343,
   "metadata": {},
   "outputs": [],
   "source": [
    "import pandas as pd\n",
    "import numpy as np\n",
    "import seaborn as sns\n",
    "# import matplotlib\n",
    "import matplotlib.pyplot as plt\n",
    "from linearmodels.panel import PanelOLS\n",
    "import statsmodels.api as sm"
   ]
  },
  {
   "cell_type": "code",
   "execution_count": 1344,
   "metadata": {},
   "outputs": [
    {
     "data": {
      "text/plain": [
       "60"
      ]
     },
     "execution_count": 1344,
     "metadata": {},
     "output_type": "execute_result"
    }
   ],
   "source": [
    "pd.options.display.max_rows"
   ]
  },
  {
   "cell_type": "code",
   "execution_count": 1345,
   "metadata": {},
   "outputs": [],
   "source": [
    "pd.options.display.max_columns = 80"
   ]
  },
  {
   "cell_type": "markdown",
   "metadata": {},
   "source": [
    "# Data Wrangling"
   ]
  },
  {
   "cell_type": "code",
   "execution_count": 1346,
   "metadata": {},
   "outputs": [],
   "source": [
    "# dfhousehold = pd.read_stata(\"CRECS2012年数据.dta\")\n",
    "# dfhousehold_copy = dfhousehold.copy()"
   ]
  },
  {
   "cell_type": "code",
   "execution_count": 1347,
   "metadata": {},
   "outputs": [],
   "source": [
    "dfhousehold  = dfhousehold_copy.copy()"
   ]
  },
  {
   "cell_type": "code",
   "execution_count": 1348,
   "metadata": {},
   "outputs": [],
   "source": [
    "# itr = pd.read_stata('CRECS2012年数据.dta', iterator=True)\n",
    "# col_dict = itr.variable_labels()\n",
    "# # itr.value_labels()"
   ]
  },
  {
   "cell_type": "code",
   "execution_count": 1349,
   "metadata": {},
   "outputs": [
    {
     "data": {
      "text/plain": [
       "pandas.io.stata.StataReader"
      ]
     },
     "execution_count": 1349,
     "metadata": {},
     "output_type": "execute_result"
    }
   ],
   "source": [
    "type(itr)"
   ]
  },
  {
   "cell_type": "code",
   "execution_count": 1350,
   "metadata": {
    "scrolled": true
   },
   "outputs": [],
   "source": [
    "# dfhousehold.info(verbose=True, null_counts=True)"
   ]
  },
  {
   "cell_type": "code",
   "execution_count": 1351,
   "metadata": {},
   "outputs": [
    {
     "data": {
      "text/plain": [
       "True"
      ]
     },
     "execution_count": 1351,
     "metadata": {},
     "output_type": "execute_result"
    }
   ],
   "source": [
    "dfhousehold.index.is_unique"
   ]
  },
  {
   "cell_type": "code",
   "execution_count": 1352,
   "metadata": {},
   "outputs": [
    {
     "data": {
      "text/plain": [
       "False"
      ]
     },
     "execution_count": 1352,
     "metadata": {},
     "output_type": "execute_result"
    }
   ],
   "source": [
    "dfhousehold.serial.is_unique"
   ]
  },
  {
   "cell_type": "code",
   "execution_count": 1353,
   "metadata": {},
   "outputs": [
    {
     "data": {
      "text/plain": [
       "True"
      ]
     },
     "execution_count": 1353,
     "metadata": {},
     "output_type": "execute_result"
    }
   ],
   "source": [
    "dfhousehold.index.is_monotonic"
   ]
  },
  {
   "cell_type": "markdown",
   "metadata": {},
   "source": [
    "## check GPS information"
   ]
  },
  {
   "cell_type": "code",
   "execution_count": 1354,
   "metadata": {
    "scrolled": false
   },
   "outputs": [
    {
     "data": {
      "text/plain": [
       "count    1450.000000\n",
       "mean      114.280000\n",
       "std         6.879738\n",
       "min        83.000000\n",
       "25%       112.000000\n",
       "50%       115.000000\n",
       "75%       118.000000\n",
       "max       130.000000\n",
       "Name: longitude_deg, dtype: float64"
      ]
     },
     "execution_count": 1354,
     "metadata": {},
     "output_type": "execute_result"
    }
   ],
   "source": [
    "dfhousehold.longitude_deg.describe()"
   ]
  },
  {
   "cell_type": "code",
   "execution_count": 1355,
   "metadata": {
    "scrolled": true
   },
   "outputs": [
    {
     "data": {
      "text/plain": [
       "count    1450.000000\n",
       "mean       33.802759\n",
       "std         6.009860\n",
       "min        19.000000\n",
       "25%        29.250000\n",
       "50%        34.000000\n",
       "75%        38.000000\n",
       "max        50.000000\n",
       "Name: latitude_deg, dtype: float64"
      ]
     },
     "execution_count": 1355,
     "metadata": {},
     "output_type": "execute_result"
    }
   ],
   "source": [
    "dfhousehold.latitude_deg.describe()"
   ]
  },
  {
   "cell_type": "code",
   "execution_count": 1356,
   "metadata": {
    "scrolled": false
   },
   "outputs": [
    {
     "data": {
      "text/plain": [
       "count    1449.000000\n",
       "mean       29.104900\n",
       "std        22.362379\n",
       "min         0.000000\n",
       "25%        13.000000\n",
       "50%        28.000000\n",
       "75%        42.000000\n",
       "max       408.000000\n",
       "Name: longitude_min, dtype: float64"
      ]
     },
     "execution_count": 1356,
     "metadata": {},
     "output_type": "execute_result"
    }
   ],
   "source": [
    "dfhousehold.longitude_min.describe()"
   ]
  },
  {
   "cell_type": "code",
   "execution_count": 1357,
   "metadata": {
    "scrolled": false
   },
   "outputs": [
    {
     "data": {
      "text/plain": [
       "count      1319.000000\n",
       "mean        595.346313\n",
       "std       20111.531250\n",
       "min           0.000000\n",
       "25%          15.000000\n",
       "50%          30.000000\n",
       "75%          47.000000\n",
       "max      730318.000000\n",
       "Name: longitude_sec, dtype: float64"
      ]
     },
     "execution_count": 1357,
     "metadata": {},
     "output_type": "execute_result"
    }
   ],
   "source": [
    "dfhousehold.longitude_sec.describe()"
   ]
  },
  {
   "cell_type": "code",
   "execution_count": 1358,
   "metadata": {},
   "outputs": [
    {
     "data": {
      "text/plain": [
       "count    1449.000000\n",
       "mean       30.574499\n",
       "std        20.525574\n",
       "min         0.000000\n",
       "25%        11.000000\n",
       "50%        31.000000\n",
       "75%        49.000000\n",
       "max       172.000000\n",
       "Name: latitude_min, dtype: float64"
      ]
     },
     "execution_count": 1358,
     "metadata": {},
     "output_type": "execute_result"
    }
   ],
   "source": [
    "dfhousehold.latitude_min.describe()"
   ]
  },
  {
   "cell_type": "code",
   "execution_count": 1359,
   "metadata": {
    "scrolled": true
   },
   "outputs": [
    {
     "data": {
      "text/plain": [
       "count    1316.000000\n",
       "mean       29.553146\n",
       "std        18.404516\n",
       "min         0.000000\n",
       "25%        13.000000\n",
       "50%        28.000000\n",
       "75%        45.000000\n",
       "max        91.000000\n",
       "Name: latitude_sec, dtype: float64"
      ]
     },
     "execution_count": 1359,
     "metadata": {},
     "output_type": "execute_result"
    }
   ],
   "source": [
    "dfhousehold.latitude_sec.describe()"
   ]
  },
  {
   "cell_type": "code",
   "execution_count": 1360,
   "metadata": {
    "scrolled": false
   },
   "outputs": [],
   "source": [
    "dfhousehold.loc[dfhousehold.longitude_min >60,'longitude_min'] = 0"
   ]
  },
  {
   "cell_type": "code",
   "execution_count": 1361,
   "metadata": {},
   "outputs": [
    {
     "data": {
      "text/plain": [
       "Series([], Name: longitude_min, dtype: float64)"
      ]
     },
     "execution_count": 1361,
     "metadata": {},
     "output_type": "execute_result"
    }
   ],
   "source": [
    "# checking\n",
    "dfhousehold[dfhousehold.longitude_min >60]['longitude_min']"
   ]
  },
  {
   "cell_type": "code",
   "execution_count": 1362,
   "metadata": {
    "scrolled": false
   },
   "outputs": [],
   "source": [
    "dfhousehold.longitude_min.fillna(0, inplace=True)"
   ]
  },
  {
   "cell_type": "code",
   "execution_count": 1363,
   "metadata": {
    "scrolled": true
   },
   "outputs": [],
   "source": [
    "dfhousehold.loc[dfhousehold.longitude_sec >60,'longitude_sec'] = 0\n",
    "dfhousehold.longitude_sec.fillna(0, inplace=True)\n",
    "\n",
    "dfhousehold.loc[dfhousehold.latitude_min >60,'latitude_min'] = 0\n",
    "dfhousehold.latitude_min.fillna(0, inplace=True)\n",
    "\n",
    "dfhousehold.loc[dfhousehold.latitude_sec >60,'latitude_sec'] = 0\n",
    "dfhousehold.latitude_sec.fillna(0, inplace=True)"
   ]
  },
  {
   "cell_type": "code",
   "execution_count": 1364,
   "metadata": {},
   "outputs": [],
   "source": [
    "dfhousehold['longitude'] = dfhousehold['longitude_deg'] + dfhousehold['longitude_min']/60 + dfhousehold['longitude_sec']/3600\n",
    "dfhousehold['latitude'] = dfhousehold['latitude_deg'] + dfhousehold['latitude_min']/60 + dfhousehold['latitude_sec']/3600"
   ]
  },
  {
   "cell_type": "markdown",
   "metadata": {},
   "source": [
    "## select a subset of columns to keep"
   ]
  },
  {
   "cell_type": "code",
   "execution_count": 1365,
   "metadata": {},
   "outputs": [
    {
     "data": {
      "text/plain": [
       "<matplotlib.axes._subplots.AxesSubplot at 0x1c5cfbc828>"
      ]
     },
     "execution_count": 1365,
     "metadata": {},
     "output_type": "execute_result"
    },
    {
     "data": {
      "image/png": "[encoded data removed]",
      "text/plain": [
       "<Figure size 432x288 with 1 Axes>"
      ]
     },
     "metadata": {
      "needs_background": "light"
     },
     "output_type": "display_data"
    }
   ],
   "source": [
    "dfhousehold.isna().mean().hist()"
   ]
  },
  {
   "cell_type": "code",
   "execution_count": 1366,
   "metadata": {},
   "outputs": [],
   "source": [
    "dfhousehold = dfhousehold.loc[:, dfhousehold.isna().mean()<0.5]"
   ]
  },
  {
   "cell_type": "code",
   "execution_count": 1367,
   "metadata": {},
   "outputs": [
    {
     "data": {
      "text/plain": [
       "<matplotlib.axes._subplots.AxesSubplot at 0x1c5e3a5f98>"
      ]
     },
     "execution_count": 1367,
     "metadata": {},
     "output_type": "execute_result"
    },
    {
     "data": {
      "image/png": "[encoded data removed]",
      "text/plain": [
       "<Figure size 432x288 with 1 Axes>"
      ]
     },
     "metadata": {
      "needs_background": "light"
     },
     "output_type": "display_data"
    }
   ],
   "source": [
    "dfhousehold.isna().mean().hist()"
   ]
  },
  {
   "cell_type": "code",
   "execution_count": 1368,
   "metadata": {},
   "outputs": [
    {
     "data": {
      "text/plain": [
       "(1450, 281)"
      ]
     },
     "execution_count": 1368,
     "metadata": {},
     "output_type": "execute_result"
    }
   ],
   "source": [
    "dfhousehold.shape"
   ]
  },
  {
   "cell_type": "code",
   "execution_count": 1369,
   "metadata": {
    "scrolled": true
   },
   "outputs": [],
   "source": [
    "# cols= a2_1* (household info), b1-b26 (~b15) (house features), f3_*_a (elec_use), f3_*_d (elec_bill)\n",
    "cols = []\n",
    "for col in dfhousehold.columns:\n",
    "    if col.startswith(\"a2_1\") or \\\n",
    "     (col.startswith(\"b\") and len(col) <=3) or \\\n",
    "        (col.count(\"_\") == 2 and col.startswith(\"f3_\") and (col[-2:] in ['_a', \"_d\"])):    \n",
    "        cols.append(col)\n"
   ]
  },
  {
   "cell_type": "code",
   "execution_count": 1370,
   "metadata": {},
   "outputs": [],
   "source": [
    "# some extra columns to keep\n",
    "column_to_keep = ['index', 'serial', 'province', 'city', 'county', 'zipcode', 'respondent','latitude','longitude', \n",
    "                  'a1' ,'f1a']"
   ]
  },
  {
   "cell_type": "code",
   "execution_count": 1371,
   "metadata": {},
   "outputs": [],
   "source": [
    "column_to_keep = column_to_keep + cols"
   ]
  },
  {
   "cell_type": "code",
   "execution_count": 1372,
   "metadata": {},
   "outputs": [],
   "source": [
    "# select subset of columns\n",
    "dfhousehold = dfhousehold[column_to_keep]"
   ]
  },
  {
   "cell_type": "code",
   "execution_count": 1373,
   "metadata": {},
   "outputs": [
    {
     "data": {
      "text/plain": [
       "Index(['index', 'serial', 'province', 'city', 'county', 'zipcode',\n",
       "       'respondent', 'latitude', 'longitude', 'a1', 'f1a', 'a2_1_a', 'a2_1_b',\n",
       "       'a2_1_c', 'a2_1_d', 'a2_1_e', 'a2_1_f', 'a2_1_g', 'a2_1_h', 'a2_1_i',\n",
       "       'a2_1_j', 'a2_1_k', 'b1', 'b2', 'b3', 'b4', 'b5', 'b6', 'b7', 'b8',\n",
       "       'b9', 'b10', 'b11', 'b12', 'b13', 'b14', 'b16', 'b17', 'b18', 'b19',\n",
       "       'b20', 'b21', 'b22', 'b23', 'b24', 'b25', 'b26', 'f3_1_a', 'f3_2_a',\n",
       "       'f3_3_a', 'f3_4_a', 'f3_5_a', 'f3_6_a', 'f3_7_a', 'f3_8_a', 'f3_9_a',\n",
       "       'f3_10_a', 'f3_11_a', 'f3_12_a', 'f3_13_a', 'f3_1_d', 'f3_2_d',\n",
       "       'f3_3_d', 'f3_4_d', 'f3_5_d', 'f3_6_d', 'f3_7_d', 'f3_8_d', 'f3_9_d',\n",
       "       'f3_10_d', 'f3_11_d', 'f3_12_d', 'f3_13_d'],\n",
       "      dtype='object')"
      ]
     },
     "execution_count": 1373,
     "metadata": {},
     "output_type": "execute_result"
    }
   ],
   "source": [
    "dfhousehold.columns"
   ]
  },
  {
   "cell_type": "markdown",
   "metadata": {},
   "source": [
    "## reshape from long to wide, creat new column `month`, `elec_use`, `elec_bill`, "
   ]
  },
  {
   "cell_type": "code",
   "execution_count": 1374,
   "metadata": {
    "scrolled": false
   },
   "outputs": [],
   "source": [
    "dfelec_use = pd.melt(dfhousehold, id_vars=['index'], value_vars=['f3_1_a',\n",
    " 'f3_2_a',\n",
    " 'f3_3_a',\n",
    " 'f3_4_a',\n",
    " 'f3_5_a',\n",
    " 'f3_6_a',\n",
    " 'f3_7_a',\n",
    " 'f3_8_a',\n",
    " 'f3_9_a',\n",
    " 'f3_10_a',\n",
    " 'f3_11_a',\n",
    " 'f3_12_a'])"
   ]
  },
  {
   "cell_type": "code",
   "execution_count": 1375,
   "metadata": {},
   "outputs": [],
   "source": [
    "dfelec_use.variable.replace({'f3_1_a':1,\n",
    "                             'f3_2_a':2,\n",
    "                             'f3_3_a':3,\n",
    "                             'f3_4_a':4,\n",
    "                             'f3_5_a':5,\n",
    "                             'f3_6_a':6,\n",
    "                             'f3_7_a':7,\n",
    "                             'f3_8_a':8,\n",
    "                             'f3_9_a':9,\n",
    "                             'f3_10_a':10,\n",
    "                             'f3_11_a':11,\n",
    "                             'f3_12_a':12}, inplace=True)"
   ]
  },
  {
   "cell_type": "code",
   "execution_count": 1376,
   "metadata": {
    "scrolled": false
   },
   "outputs": [],
   "source": [
    "dfelec_use.rename(columns={'variable':\"month\", 'value':'elec_use'}, inplace=True)\n",
    "# dfelec_use"
   ]
  },
  {
   "cell_type": "code",
   "execution_count": 1377,
   "metadata": {},
   "outputs": [],
   "source": [
    "dfelec_bill = pd.melt(dfhousehold, id_vars=['index'], value_vars=['f3_1_d',\n",
    " 'f3_2_d',\n",
    " 'f3_3_d',\n",
    " 'f3_4_d',\n",
    " 'f3_5_d',\n",
    " 'f3_6_d',\n",
    " 'f3_7_d',\n",
    " 'f3_8_d',\n",
    " 'f3_9_d',\n",
    " 'f3_10_d',\n",
    " 'f3_11_d',\n",
    " 'f3_12_d'])"
   ]
  },
  {
   "cell_type": "code",
   "execution_count": 1378,
   "metadata": {},
   "outputs": [],
   "source": [
    "dfelec_bill.variable.replace({'f3_1_d':1,\n",
    "                             'f3_2_d':2,\n",
    "                             'f3_3_d':3,\n",
    "                             'f3_4_d':4,\n",
    "                             'f3_5_d':5,\n",
    "                             'f3_6_d':6,\n",
    "                             'f3_7_d':7,\n",
    "                             'f3_8_d':8,\n",
    "                             'f3_9_d':9,\n",
    "                             'f3_10_d':10,\n",
    "                             'f3_11_d':11,\n",
    "                             'f3_12_d':12}, inplace=True)"
   ]
  },
  {
   "cell_type": "code",
   "execution_count": 1379,
   "metadata": {
    "scrolled": false
   },
   "outputs": [],
   "source": [
    "dfelec_bill.rename(columns={'variable':\"month\", 'value':'elec_bill'}, inplace=True)\n",
    "#dfelec_bill"
   ]
  },
  {
   "cell_type": "code",
   "execution_count": 1380,
   "metadata": {},
   "outputs": [],
   "source": [
    "dfelec = pd.merge(dfelec_use, dfelec_bill, how='inner')"
   ]
  },
  {
   "cell_type": "code",
   "execution_count": 1381,
   "metadata": {},
   "outputs": [],
   "source": [
    "dfelec['price'] = dfelec.elec_bill/dfelec.elec_use\n",
    "dfelec['Month'] = dfelec.month"
   ]
  },
  {
   "cell_type": "code",
   "execution_count": 1382,
   "metadata": {
    "scrolled": true
   },
   "outputs": [
    {
     "data": {
      "text/html": [
       "<div>\n",
       "<style scoped>\n",
       "    .dataframe tbody tr th:only-of-type {\n",
       "        vertical-align: middle;\n",
       "    }\n",
       "\n",
       "    .dataframe tbody tr th {\n",
       "        vertical-align: top;\n",
       "    }\n",
       "\n",
       "    .dataframe thead th {\n",
       "        text-align: right;\n",
       "    }\n",
       "</style>\n",
       "<table border=\"1\" class=\"dataframe\">\n",
       "  <thead>\n",
       "    <tr style=\"text-align: right;\">\n",
       "      <th></th>\n",
       "      <th>index</th>\n",
       "      <th>month</th>\n",
       "      <th>elec_use</th>\n",
       "      <th>elec_bill</th>\n",
       "      <th>price</th>\n",
       "      <th>Month</th>\n",
       "    </tr>\n",
       "  </thead>\n",
       "  <tbody>\n",
       "    <tr>\n",
       "      <th>0</th>\n",
       "      <td>1</td>\n",
       "      <td>1</td>\n",
       "      <td>265.0</td>\n",
       "      <td>140.029999</td>\n",
       "      <td>0.528415</td>\n",
       "      <td>1</td>\n",
       "    </tr>\n",
       "    <tr>\n",
       "      <th>1</th>\n",
       "      <td>2</td>\n",
       "      <td>1</td>\n",
       "      <td>78.0</td>\n",
       "      <td>41.209999</td>\n",
       "      <td>0.528333</td>\n",
       "      <td>1</td>\n",
       "    </tr>\n",
       "    <tr>\n",
       "      <th>2</th>\n",
       "      <td>3</td>\n",
       "      <td>1</td>\n",
       "      <td>330.0</td>\n",
       "      <td>184.559998</td>\n",
       "      <td>0.559273</td>\n",
       "      <td>1</td>\n",
       "    </tr>\n",
       "    <tr>\n",
       "      <th>3</th>\n",
       "      <td>4</td>\n",
       "      <td>1</td>\n",
       "      <td>200.0</td>\n",
       "      <td>105.599998</td>\n",
       "      <td>0.528000</td>\n",
       "      <td>1</td>\n",
       "    </tr>\n",
       "    <tr>\n",
       "      <th>4</th>\n",
       "      <td>5</td>\n",
       "      <td>1</td>\n",
       "      <td>265.0</td>\n",
       "      <td>140.000000</td>\n",
       "      <td>0.528302</td>\n",
       "      <td>1</td>\n",
       "    </tr>\n",
       "  </tbody>\n",
       "</table>\n",
       "</div>"
      ],
      "text/plain": [
       "   index  month  elec_use   elec_bill     price  Month\n",
       "0      1      1     265.0  140.029999  0.528415      1\n",
       "1      2      1      78.0   41.209999  0.528333      1\n",
       "2      3      1     330.0  184.559998  0.559273      1\n",
       "3      4      1     200.0  105.599998  0.528000      1\n",
       "4      5      1     265.0  140.000000  0.528302      1"
      ]
     },
     "execution_count": 1382,
     "metadata": {},
     "output_type": "execute_result"
    }
   ],
   "source": [
    "dfelec.head()"
   ]
  },
  {
   "cell_type": "code",
   "execution_count": 1383,
   "metadata": {
    "scrolled": false
   },
   "outputs": [
    {
     "data": {
      "text/plain": [
       "Index(['index', 'serial', 'province', 'city', 'county', 'zipcode',\n",
       "       'respondent', 'latitude', 'longitude', 'a1', 'f1a', 'a2_1_a', 'a2_1_b',\n",
       "       'a2_1_c', 'a2_1_d', 'a2_1_e', 'a2_1_f', 'a2_1_g', 'a2_1_h', 'a2_1_i',\n",
       "       'a2_1_j', 'a2_1_k', 'b1', 'b2', 'b3', 'b4', 'b5', 'b6', 'b7', 'b8',\n",
       "       'b9', 'b10', 'b11', 'b12', 'b13', 'b14', 'b16', 'b17', 'b18', 'b19',\n",
       "       'b20', 'b21', 'b22', 'b23', 'b24', 'b25', 'b26', 'f3_1_a', 'f3_2_a',\n",
       "       'f3_3_a', 'f3_4_a', 'f3_5_a', 'f3_6_a', 'f3_7_a', 'f3_8_a', 'f3_9_a',\n",
       "       'f3_10_a', 'f3_11_a', 'f3_12_a', 'f3_13_a', 'f3_1_d', 'f3_2_d',\n",
       "       'f3_3_d', 'f3_4_d', 'f3_5_d', 'f3_6_d', 'f3_7_d', 'f3_8_d', 'f3_9_d',\n",
       "       'f3_10_d', 'f3_11_d', 'f3_12_d', 'f3_13_d'],\n",
       "      dtype='object')"
      ]
     },
     "execution_count": 1383,
     "metadata": {},
     "output_type": "execute_result"
    }
   ],
   "source": [
    "dfhousehold.columns"
   ]
  },
  {
   "cell_type": "code",
   "execution_count": 1384,
   "metadata": {},
   "outputs": [],
   "source": [
    "dfhousehold.drop(labels=['f3_1_a','f3_2_a', 'f3_3_a', 'f3_4_a', 'f3_5_a', 'f3_6_a', 'f3_7_a', 'f3_8_a',\n",
    "       'f3_9_a', 'f3_10_a', 'f3_11_a', 'f3_12_a', 'f3_13_a', 'f3_1_d',\n",
    "       'f3_2_d', 'f3_3_d', 'f3_4_d', 'f3_5_d', 'f3_6_d', 'f3_7_d', 'f3_8_d',\n",
    "       'f3_9_d', 'f3_10_d', 'f3_11_d', 'f3_12_d', 'f3_13_d'], axis=1, inplace=True)"
   ]
  },
  {
   "cell_type": "code",
   "execution_count": 1385,
   "metadata": {
    "scrolled": false
   },
   "outputs": [
    {
     "data": {
      "text/html": [
       "<div>\n",
       "<style scoped>\n",
       "    .dataframe tbody tr th:only-of-type {\n",
       "        vertical-align: middle;\n",
       "    }\n",
       "\n",
       "    .dataframe tbody tr th {\n",
       "        vertical-align: top;\n",
       "    }\n",
       "\n",
       "    .dataframe thead th {\n",
       "        text-align: right;\n",
       "    }\n",
       "</style>\n",
       "<table border=\"1\" class=\"dataframe\">\n",
       "  <thead>\n",
       "    <tr style=\"text-align: right;\">\n",
       "      <th></th>\n",
       "      <th>index</th>\n",
       "      <th>serial</th>\n",
       "      <th>province</th>\n",
       "      <th>city</th>\n",
       "      <th>county</th>\n",
       "      <th>zipcode</th>\n",
       "      <th>respondent</th>\n",
       "      <th>latitude</th>\n",
       "      <th>longitude</th>\n",
       "      <th>a1</th>\n",
       "      <th>f1a</th>\n",
       "      <th>a2_1_a</th>\n",
       "      <th>a2_1_b</th>\n",
       "      <th>a2_1_c</th>\n",
       "      <th>a2_1_d</th>\n",
       "      <th>a2_1_e</th>\n",
       "      <th>a2_1_f</th>\n",
       "      <th>a2_1_g</th>\n",
       "      <th>a2_1_h</th>\n",
       "      <th>a2_1_i</th>\n",
       "      <th>a2_1_j</th>\n",
       "      <th>a2_1_k</th>\n",
       "      <th>b1</th>\n",
       "      <th>b2</th>\n",
       "      <th>b3</th>\n",
       "      <th>b4</th>\n",
       "      <th>b5</th>\n",
       "      <th>b6</th>\n",
       "      <th>b7</th>\n",
       "      <th>b8</th>\n",
       "      <th>b9</th>\n",
       "      <th>b10</th>\n",
       "      <th>b11</th>\n",
       "      <th>b12</th>\n",
       "      <th>b13</th>\n",
       "      <th>b14</th>\n",
       "      <th>b16</th>\n",
       "      <th>b17</th>\n",
       "      <th>b18</th>\n",
       "      <th>b19</th>\n",
       "      <th>b20</th>\n",
       "      <th>b21</th>\n",
       "      <th>b22</th>\n",
       "      <th>b23</th>\n",
       "      <th>b24</th>\n",
       "      <th>b25</th>\n",
       "      <th>b26</th>\n",
       "    </tr>\n",
       "  </thead>\n",
       "  <tbody>\n",
       "    <tr>\n",
       "      <th>0</th>\n",
       "      <td>1</td>\n",
       "      <td>2.010202e+17</td>\n",
       "      <td>广西</td>\n",
       "      <td>玉林市</td>\n",
       "      <td>容县</td>\n",
       "      <td>537500</td>\n",
       "      <td>1.0</td>\n",
       "      <td>22.860323</td>\n",
       "      <td>110.550392</td>\n",
       "      <td>3.0</td>\n",
       "      <td>(15-20] 万</td>\n",
       "      <td>本人</td>\n",
       "      <td>男</td>\n",
       "      <td>1974.0</td>\n",
       "      <td>全职工作</td>\n",
       "      <td>国有企业</td>\n",
       "      <td>公司职员</td>\n",
       "      <td>电力,热力,燃气及水生产和供应业</td>\n",
       "      <td>汉族</td>\n",
       "      <td>大专</td>\n",
       "      <td>16.0</td>\n",
       "      <td>12.0</td>\n",
       "      <td>乡镇</td>\n",
       "      <td>多层住宅（4-6层）</td>\n",
       "      <td>3.0</td>\n",
       "      <td>一层</td>\n",
       "      <td>2004.0</td>\n",
       "      <td>7.0</td>\n",
       "      <td>他人</td>\n",
       "      <td>5.0</td>\n",
       "      <td>1990-1999</td>\n",
       "      <td>砖石混合</td>\n",
       "      <td>混凝土</td>\n",
       "      <td>(2.8 , 4.5] 米</td>\n",
       "      <td>(70-90] m</td>\n",
       "      <td>(70-90] m</td>\n",
       "      <td>NaN</td>\n",
       "      <td>NaN</td>\n",
       "      <td>所有窗户</td>\n",
       "      <td>有</td>\n",
       "      <td>没有</td>\n",
       "      <td>没有</td>\n",
       "      <td>没有</td>\n",
       "      <td>没有</td>\n",
       "      <td>没有</td>\n",
       "      <td>(1,2] 小时</td>\n",
       "      <td>(2,3] 小时</td>\n",
       "    </tr>\n",
       "    <tr>\n",
       "      <th>1</th>\n",
       "      <td>2</td>\n",
       "      <td>2.010202e+17</td>\n",
       "      <td>广西</td>\n",
       "      <td>玉林市</td>\n",
       "      <td>容县</td>\n",
       "      <td>537500</td>\n",
       "      <td>1.0</td>\n",
       "      <td>22.859726</td>\n",
       "      <td>110.551969</td>\n",
       "      <td>3.0</td>\n",
       "      <td>(8-12] 万</td>\n",
       "      <td>本人</td>\n",
       "      <td>男</td>\n",
       "      <td>1966.0</td>\n",
       "      <td>兼职工作（包括退休后返聘）</td>\n",
       "      <td>私营企业</td>\n",
       "      <td>其他</td>\n",
       "      <td>金融业</td>\n",
       "      <td>汉族</td>\n",
       "      <td>大专</td>\n",
       "      <td>15.0</td>\n",
       "      <td>12.0</td>\n",
       "      <td>乡镇</td>\n",
       "      <td>多层住宅（4-6层）</td>\n",
       "      <td>1.0</td>\n",
       "      <td>四层及以上</td>\n",
       "      <td>1992.0</td>\n",
       "      <td>7.0</td>\n",
       "      <td>NaN</td>\n",
       "      <td>5.0</td>\n",
       "      <td>1990-1999</td>\n",
       "      <td>砖泥混合</td>\n",
       "      <td>混凝土</td>\n",
       "      <td>(2.8 , 4.5] 米</td>\n",
       "      <td>(180-250] m2</td>\n",
       "      <td>(180-250] m2</td>\n",
       "      <td>NaN</td>\n",
       "      <td>NaN</td>\n",
       "      <td>没有更换过</td>\n",
       "      <td>没有</td>\n",
       "      <td>没有</td>\n",
       "      <td>没有</td>\n",
       "      <td>没有</td>\n",
       "      <td>有</td>\n",
       "      <td>有</td>\n",
       "      <td>(2,3] 小时</td>\n",
       "      <td>(3,4] 小时</td>\n",
       "    </tr>\n",
       "    <tr>\n",
       "      <th>2</th>\n",
       "      <td>3</td>\n",
       "      <td>2.010202e+17</td>\n",
       "      <td>广西</td>\n",
       "      <td>玉林市</td>\n",
       "      <td>容县</td>\n",
       "      <td>537500</td>\n",
       "      <td>1.0</td>\n",
       "      <td>22.855398</td>\n",
       "      <td>110.549361</td>\n",
       "      <td>3.0</td>\n",
       "      <td>(1-3] 万</td>\n",
       "      <td>本人</td>\n",
       "      <td>男</td>\n",
       "      <td>1969.0</td>\n",
       "      <td>全职工作</td>\n",
       "      <td>国有企业</td>\n",
       "      <td>事业单位职工</td>\n",
       "      <td>电力,热力,燃气及水生产和供应业</td>\n",
       "      <td>汉族</td>\n",
       "      <td>大专</td>\n",
       "      <td>15.0</td>\n",
       "      <td>12.0</td>\n",
       "      <td>乡镇</td>\n",
       "      <td>多层住宅（4-6层）</td>\n",
       "      <td>1.0</td>\n",
       "      <td>四层及以上</td>\n",
       "      <td>1982.0</td>\n",
       "      <td>7.0</td>\n",
       "      <td>自有</td>\n",
       "      <td>5.0</td>\n",
       "      <td>1980-1989</td>\n",
       "      <td>砖头</td>\n",
       "      <td>混凝土</td>\n",
       "      <td>(2.8 , 4.5] 米</td>\n",
       "      <td>(50-70] m2</td>\n",
       "      <td>(50-70] m2</td>\n",
       "      <td>NaN</td>\n",
       "      <td>NaN</td>\n",
       "      <td>少部分窗户</td>\n",
       "      <td>有</td>\n",
       "      <td>没有</td>\n",
       "      <td>没有</td>\n",
       "      <td>没有</td>\n",
       "      <td>没有</td>\n",
       "      <td>没有</td>\n",
       "      <td>(4,5] 小时</td>\n",
       "      <td>(4,5] 小时</td>\n",
       "    </tr>\n",
       "    <tr>\n",
       "      <th>3</th>\n",
       "      <td>4</td>\n",
       "      <td>2.010202e+17</td>\n",
       "      <td>广西</td>\n",
       "      <td>玉林市</td>\n",
       "      <td>容县</td>\n",
       "      <td>537500</td>\n",
       "      <td>1.0</td>\n",
       "      <td>22.857195</td>\n",
       "      <td>110.550453</td>\n",
       "      <td>5.0</td>\n",
       "      <td>≤1万</td>\n",
       "      <td>本人</td>\n",
       "      <td>男</td>\n",
       "      <td>1981.0</td>\n",
       "      <td>全职工作</td>\n",
       "      <td>国有企业</td>\n",
       "      <td>公司职员</td>\n",
       "      <td>水利,环境和公共设施管理业</td>\n",
       "      <td>汉族</td>\n",
       "      <td>大专</td>\n",
       "      <td>14.0</td>\n",
       "      <td>12.0</td>\n",
       "      <td>城市（县级市及以上）</td>\n",
       "      <td>多层住宅（4-6层）</td>\n",
       "      <td>6.0</td>\n",
       "      <td>一层</td>\n",
       "      <td>2000.0</td>\n",
       "      <td>7.0</td>\n",
       "      <td>他人</td>\n",
       "      <td>7.0</td>\n",
       "      <td>1980-1989</td>\n",
       "      <td>砖石混合</td>\n",
       "      <td>混凝土</td>\n",
       "      <td>(2.8 , 4.5] 米</td>\n",
       "      <td>(50-70] m2</td>\n",
       "      <td>(50-70] m2</td>\n",
       "      <td>NaN</td>\n",
       "      <td>NaN</td>\n",
       "      <td>没有更换过</td>\n",
       "      <td>没有</td>\n",
       "      <td>没有</td>\n",
       "      <td>没有</td>\n",
       "      <td>没有</td>\n",
       "      <td>没有</td>\n",
       "      <td>没有</td>\n",
       "      <td>(7,8] 小时</td>\n",
       "      <td>(6,7] 小时</td>\n",
       "    </tr>\n",
       "    <tr>\n",
       "      <th>4</th>\n",
       "      <td>5</td>\n",
       "      <td>2.010202e+17</td>\n",
       "      <td>广西</td>\n",
       "      <td>玉林市</td>\n",
       "      <td>容县</td>\n",
       "      <td>537500</td>\n",
       "      <td>1.0</td>\n",
       "      <td>22.857195</td>\n",
       "      <td>110.550453</td>\n",
       "      <td>5.0</td>\n",
       "      <td>(5-8] 万</td>\n",
       "      <td>本人</td>\n",
       "      <td>男</td>\n",
       "      <td>1952.0</td>\n",
       "      <td>全职工作</td>\n",
       "      <td>国家机关或事业单位</td>\n",
       "      <td>事业单位职工</td>\n",
       "      <td>公共管理,社会保障和社会组织</td>\n",
       "      <td>汉族</td>\n",
       "      <td>高中（包括中专,职高）</td>\n",
       "      <td>12.0</td>\n",
       "      <td>12.0</td>\n",
       "      <td>城市（县级市及以上）</td>\n",
       "      <td>多层住宅（4-6层）</td>\n",
       "      <td>3.0</td>\n",
       "      <td>一层</td>\n",
       "      <td>2004.0</td>\n",
       "      <td>7.0</td>\n",
       "      <td>他人</td>\n",
       "      <td>6.0</td>\n",
       "      <td>2000-2009</td>\n",
       "      <td>砖石混合</td>\n",
       "      <td>混凝土</td>\n",
       "      <td>(2.8 , 4.5] 米</td>\n",
       "      <td>(50-70] m2</td>\n",
       "      <td>(50-70] m2</td>\n",
       "      <td>2.0</td>\n",
       "      <td>1.0</td>\n",
       "      <td>没有更换过</td>\n",
       "      <td>没有</td>\n",
       "      <td>没有</td>\n",
       "      <td>没有</td>\n",
       "      <td>没有</td>\n",
       "      <td>没有</td>\n",
       "      <td>没有</td>\n",
       "      <td>(5,6] 小时</td>\n",
       "      <td>(6,7] 小时</td>\n",
       "    </tr>\n",
       "  </tbody>\n",
       "</table>\n",
       "</div>"
      ],
      "text/plain": [
       "   index        serial province city county  zipcode  respondent   latitude  \\\n",
       "0      1  2.010202e+17       广西  玉林市     容县   537500         1.0  22.860323   \n",
       "1      2  2.010202e+17       广西  玉林市     容县   537500         1.0  22.859726   \n",
       "2      3  2.010202e+17       广西  玉林市     容县   537500         1.0  22.855398   \n",
       "3      4  2.010202e+17       广西  玉林市     容县   537500         1.0  22.857195   \n",
       "4      5  2.010202e+17       广西  玉林市     容县   537500         1.0  22.857195   \n",
       "\n",
       "    longitude   a1        f1a a2_1_a a2_1_b  a2_1_c         a2_1_d     a2_1_e  \\\n",
       "0  110.550392  3.0  (15-20] 万     本人      男  1974.0           全职工作       国有企业   \n",
       "1  110.551969  3.0   (8-12] 万     本人      男  1966.0  兼职工作（包括退休后返聘）       私营企业   \n",
       "2  110.549361  3.0    (1-3] 万     本人      男  1969.0           全职工作       国有企业   \n",
       "3  110.550453  5.0        ≤1万     本人      男  1981.0           全职工作       国有企业   \n",
       "4  110.550453  5.0    (5-8] 万     本人      男  1952.0           全职工作  国家机关或事业单位   \n",
       "\n",
       "   a2_1_f            a2_1_g a2_1_h       a2_1_i  a2_1_j  a2_1_k          b1  \\\n",
       "0    公司职员  电力,热力,燃气及水生产和供应业     汉族           大专    16.0    12.0          乡镇   \n",
       "1      其他               金融业     汉族           大专    15.0    12.0          乡镇   \n",
       "2  事业单位职工  电力,热力,燃气及水生产和供应业     汉族           大专    15.0    12.0          乡镇   \n",
       "3    公司职员     水利,环境和公共设施管理业     汉族           大专    14.0    12.0  城市（县级市及以上）   \n",
       "4  事业单位职工    公共管理,社会保障和社会组织     汉族  高中（包括中专,职高）    12.0    12.0  城市（县级市及以上）   \n",
       "\n",
       "           b2   b3     b4      b5   b6   b7   b8         b9   b10  b11  \\\n",
       "0  多层住宅（4-6层）  3.0     一层  2004.0  7.0   他人  5.0  1990-1999  砖石混合  混凝土   \n",
       "1  多层住宅（4-6层）  1.0  四层及以上  1992.0  7.0  NaN  5.0  1990-1999  砖泥混合  混凝土   \n",
       "2  多层住宅（4-6层）  1.0  四层及以上  1982.0  7.0   自有  5.0  1980-1989    砖头  混凝土   \n",
       "3  多层住宅（4-6层）  6.0     一层  2000.0  7.0   他人  7.0  1980-1989  砖石混合  混凝土   \n",
       "4  多层住宅（4-6层）  3.0     一层  2004.0  7.0   他人  6.0  2000-2009  砖石混合  混凝土   \n",
       "\n",
       "             b12           b13           b14  b16  b17    b18 b19 b20 b21 b22  \\\n",
       "0  (2.8 , 4.5] 米     (70-90] m     (70-90] m  NaN  NaN   所有窗户   有  没有  没有  没有   \n",
       "1  (2.8 , 4.5] 米  (180-250] m2  (180-250] m2  NaN  NaN  没有更换过  没有  没有  没有  没有   \n",
       "2  (2.8 , 4.5] 米    (50-70] m2    (50-70] m2  NaN  NaN  少部分窗户   有  没有  没有  没有   \n",
       "3  (2.8 , 4.5] 米    (50-70] m2    (50-70] m2  NaN  NaN  没有更换过  没有  没有  没有  没有   \n",
       "4  (2.8 , 4.5] 米    (50-70] m2    (50-70] m2  2.0  1.0  没有更换过  没有  没有  没有  没有   \n",
       "\n",
       "  b23 b24       b25       b26  \n",
       "0  没有  没有  (1,2] 小时  (2,3] 小时  \n",
       "1   有   有  (2,3] 小时  (3,4] 小时  \n",
       "2  没有  没有  (4,5] 小时  (4,5] 小时  \n",
       "3  没有  没有  (7,8] 小时  (6,7] 小时  \n",
       "4  没有  没有  (5,6] 小时  (6,7] 小时  "
      ]
     },
     "execution_count": 1385,
     "metadata": {},
     "output_type": "execute_result"
    }
   ],
   "source": [
    "dfhousehold.head()"
   ]
  },
  {
   "cell_type": "code",
   "execution_count": 1386,
   "metadata": {},
   "outputs": [],
   "source": [
    "dfhousehold = dfelec.merge(dfhousehold, how='inner' )"
   ]
  },
  {
   "cell_type": "code",
   "execution_count": 1387,
   "metadata": {
    "scrolled": true
   },
   "outputs": [],
   "source": [
    "dfhousehold.sort_values(by=['index','month'], inplace=True)"
   ]
  },
  {
   "cell_type": "markdown",
   "metadata": {},
   "source": [
    "## rename columns"
   ]
  },
  {
   "cell_type": "code",
   "execution_count": 1388,
   "metadata": {
    "scrolled": true
   },
   "outputs": [],
   "source": [
    "# get a subset of col_dict, only the kept columns (cols)\n",
    "# firt get a dict , with keys = cols, value = None\n",
    "old_column_name = col_dict.fromkeys(cols)"
   ]
  },
  {
   "cell_type": "code",
   "execution_count": 1389,
   "metadata": {},
   "outputs": [],
   "source": [
    "# get the values\n",
    "for i in old_column_name:\n",
    "    old_column_name[i] = col_dict[i]"
   ]
  },
  {
   "cell_type": "code",
   "execution_count": 1390,
   "metadata": {
    "scrolled": false
   },
   "outputs": [
    {
     "data": {
      "text/plain": [
       "{'a2_1_a': '与户主关系',\n",
       " 'a2_1_b': '性别',\n",
       " 'a2_1_c': '出生年份',\n",
       " 'a2_1_d': '2012年职业状况',\n",
       " 'a2_1_e': '工作单位性质',\n",
       " 'a2_1_f': '职业类型',\n",
       " 'a2_1_g': '行业类别',\n",
       " 'a2_1_h': '民族',\n",
       " 'a2_1_i': '教育水平',\n",
       " 'a2_1_j': '受教育总年限',\n",
       " 'a2_1_k': '2012年在家中居住时间有几个月',\n",
       " 'b1': '对该建筑所处地理位置描述',\n",
       " 'b2': '按层数划分',\n",
       " 'b3': '该住房位于该建筑第___层',\n",
       " 'b4': '该家庭自身使用的住房空间有几层',\n",
       " 'b5': '该户迁入该住房时间',\n",
       " 'b6': '该户每周在该住房居住时长：____天',\n",
       " 'b7': '现有房屋的产权是',\n",
       " 'b8': '按房屋政策属性,该住房属于',\n",
       " 'b9': '该住房建筑年代',\n",
       " 'b10': '该建筑外墙主体材料',\n",
       " 'b11': '该建筑屋顶主要材料',\n",
       " 'b12': '该住房大致层高',\n",
       " 'b13': '该住房建筑面积 ',\n",
       " 'b14': '该住房实际使用面积',\n",
       " 'b16': '卫生间数量',\n",
       " 'b17': '阳台数量',\n",
       " 'b18': '主动更换过多少窗户',\n",
       " 'b19': '是否给门窗进行过封边处理',\n",
       " 'b20': '是否给外墙进行过保暖改造',\n",
       " 'b21': '是否给阁楼,天花板,管道等添加过隔热绝缘材料',\n",
       " 'b22': '是否有私人独立的地下室',\n",
       " 'b23': '是否有阁楼',\n",
       " 'b24': '是否有封闭式,独立车库',\n",
       " 'b25': '该房屋冬季平均每天日照时间 ',\n",
       " 'b26': '该房屋夏季平均每天日照时间',\n",
       " 'f3_1_a': '一月电力消费量',\n",
       " 'f3_2_a': '二月电力消费量',\n",
       " 'f3_3_a': '三月电力消费量',\n",
       " 'f3_4_a': '四月电力消费量',\n",
       " 'f3_5_a': '五月电力消费量',\n",
       " 'f3_6_a': '六月电力消费量',\n",
       " 'f3_7_a': '七月电力消费量',\n",
       " 'f3_8_a': '八月电力消费量',\n",
       " 'f3_9_a': '九月电力消费量',\n",
       " 'f3_10_a': '十月电力消费量',\n",
       " 'f3_11_a': '十一月电力消费量',\n",
       " 'f3_12_a': '十二月电力消费量',\n",
       " 'f3_13_a': '2012年电力消费量合计',\n",
       " 'f3_1_d': '一月电费支出',\n",
       " 'f3_2_d': '二月电费支出',\n",
       " 'f3_3_d': '三月电费支出',\n",
       " 'f3_4_d': '四月电费支出',\n",
       " 'f3_5_d': '五月电费支出',\n",
       " 'f3_6_d': '六月电费支出',\n",
       " 'f3_7_d': '七月电费支出',\n",
       " 'f3_8_d': '八月电费支出',\n",
       " 'f3_9_d': '九月电费支出',\n",
       " 'f3_10_d': '十月电费支出',\n",
       " 'f3_11_d': '十一月电费支出',\n",
       " 'f3_12_d': '十二月电费支出',\n",
       " 'f3_13_d': '212年电费支出合计'}"
      ]
     },
     "execution_count": 1390,
     "metadata": {},
     "output_type": "execute_result"
    }
   ],
   "source": [
    "# old names\n",
    "old_column_name"
   ]
  },
  {
   "cell_type": "code",
   "execution_count": 1391,
   "metadata": {},
   "outputs": [],
   "source": [
    "# new names\n",
    "column_namemapper = {'index':\"ID\",\n",
    "                     'a1':\"fsize\",\n",
    "                     'b1':'urban',\n",
    "                     'f1a':'income',\n",
    "                     \n",
    "                     'a2_1_a': 'rltn_to_HoH',\n",
    "                     'a2_1_b': 'sex',\n",
    "                     'a2_1_c': 'birthyr',\n",
    "                     'a2_1_d': 'employment',\n",
    "                     'a2_1_e': 'employer',\n",
    "                     'a2_1_f': 'occupation',\n",
    "                     'a2_1_g': 'sector',\n",
    "                     'a2_1_h': 'ethnicity',\n",
    "                     'a2_1_i': 'edu_lvl',\n",
    "                     'a2_1_j': 'edu_yrs',\n",
    "                     'a2_1_k': 'mths_at_home',\n",
    "                     \n",
    "                     'b2': 'bldlvl',\n",
    "                     'b3': 'level',\n",
    "                     'b4': 'stories',\n",
    "                     'b5': 'moveinyr',\n",
    "                     'b5a': 'moveinmth',\n",
    "                     'b6': 'daystyd',\n",
    "                     'b7': 'own',\n",
    "                     'b8': 'owntyp',\n",
    "                     'b9': 'bltyr',\n",
    "                     'b10': 'wall',\n",
    "                     'b11': 'roof',\n",
    "                     'b12': 'height',\n",
    "                     'b13': 'size',\n",
    "                     'b14': 'size2',\n",
    "                     'b16': 'bathroom',\n",
    "                     'b17': 'balcony',\n",
    "                     'b18': 'newwdw',\n",
    "                     'b19': 'window_D',\n",
    "                     'b20': 'wall_D',\n",
    "                     'b21': 'insltn_D',\n",
    "                     'b22': 'bsmt_D',\n",
    "                     'b23': 'attic_D',\n",
    "                     'b24': 'garage_D',\n",
    "                     'b25': 'dlgt_w',\n",
    "                     'b26': 'dlgt_s'}"
   ]
  },
  {
   "cell_type": "code",
   "execution_count": 1392,
   "metadata": {
    "scrolled": true
   },
   "outputs": [],
   "source": [
    "dfhousehold.rename(column_namemapper, axis=1, inplace=True)"
   ]
  },
  {
   "cell_type": "code",
   "execution_count": 1393,
   "metadata": {},
   "outputs": [
    {
     "data": {
      "text/plain": [
       "Index(['ID', 'month', 'elec_use', 'elec_bill', 'price', 'Month', 'serial',\n",
       "       'province', 'city', 'county', 'zipcode', 'respondent', 'latitude',\n",
       "       'longitude', 'fsize', 'income', 'rltn_to_HoH', 'sex', 'birthyr',\n",
       "       'employment', 'employer', 'occupation', 'sector', 'ethnicity',\n",
       "       'edu_lvl', 'edu_yrs', 'mths_at_home', 'urban', 'bldlvl', 'level',\n",
       "       'stories', 'moveinyr', 'daystyd', 'own', 'owntyp', 'bltyr', 'wall',\n",
       "       'roof', 'height', 'size', 'size2', 'bathroom', 'balcony', 'newwdw',\n",
       "       'window_D', 'wall_D', 'insltn_D', 'bsmt_D', 'attic_D', 'garage_D',\n",
       "       'dlgt_w', 'dlgt_s'],\n",
       "      dtype='object')"
      ]
     },
     "execution_count": 1393,
     "metadata": {},
     "output_type": "execute_result"
    }
   ],
   "source": [
    "dfhousehold.columns"
   ]
  },
  {
   "cell_type": "code",
   "execution_count": 1394,
   "metadata": {},
   "outputs": [],
   "source": [
    "dfhousehold.to_csv('dfhousehold_pre.csv')"
   ]
  },
  {
   "cell_type": "markdown",
   "metadata": {},
   "source": [
    "## merge with LandCover, LandSurfaceTemperature, VegetationField"
   ]
  },
  {
   "cell_type": "code",
   "execution_count": 1395,
   "metadata": {},
   "outputs": [],
   "source": [
    "LST_pre = pd.read_stata(\"LST_pre.dta\")\n",
    "LC_pre = pd.read_stata(\"LC_pre.dta\")\n",
    "VGF_pre = pd.read_stata(\"VGF_pre.dta\")"
   ]
  },
  {
   "cell_type": "code",
   "execution_count": 1396,
   "metadata": {},
   "outputs": [
    {
     "data": {
      "text/html": [
       "<div>\n",
       "<style scoped>\n",
       "    .dataframe tbody tr th:only-of-type {\n",
       "        vertical-align: middle;\n",
       "    }\n",
       "\n",
       "    .dataframe tbody tr th {\n",
       "        vertical-align: top;\n",
       "    }\n",
       "\n",
       "    .dataframe thead th {\n",
       "        text-align: right;\n",
       "    }\n",
       "</style>\n",
       "<table border=\"1\" class=\"dataframe\">\n",
       "  <thead>\n",
       "    <tr style=\"text-align: right;\">\n",
       "      <th></th>\n",
       "      <th>ID</th>\n",
       "      <th>DD_monthly</th>\n",
       "      <th>month</th>\n",
       "      <th>goodday_count</th>\n",
       "    </tr>\n",
       "  </thead>\n",
       "  <tbody>\n",
       "    <tr>\n",
       "      <th>0</th>\n",
       "      <td>1</td>\n",
       "      <td>306.279388</td>\n",
       "      <td>1</td>\n",
       "      <td>8.0</td>\n",
       "    </tr>\n",
       "    <tr>\n",
       "      <th>1</th>\n",
       "      <td>1</td>\n",
       "      <td>8.446699</td>\n",
       "      <td>2</td>\n",
       "      <td>8.0</td>\n",
       "    </tr>\n",
       "    <tr>\n",
       "      <th>2</th>\n",
       "      <td>1</td>\n",
       "      <td>20.421148</td>\n",
       "      <td>3</td>\n",
       "      <td>8.0</td>\n",
       "    </tr>\n",
       "    <tr>\n",
       "      <th>3</th>\n",
       "      <td>1</td>\n",
       "      <td>210.733170</td>\n",
       "      <td>4</td>\n",
       "      <td>9.0</td>\n",
       "    </tr>\n",
       "    <tr>\n",
       "      <th>4</th>\n",
       "      <td>1</td>\n",
       "      <td>262.653107</td>\n",
       "      <td>5</td>\n",
       "      <td>15.0</td>\n",
       "    </tr>\n",
       "  </tbody>\n",
       "</table>\n",
       "</div>"
      ],
      "text/plain": [
       "   ID  DD_monthly  month  goodday_count\n",
       "0   1  306.279388      1            8.0\n",
       "1   1    8.446699      2            8.0\n",
       "2   1   20.421148      3            8.0\n",
       "3   1  210.733170      4            9.0\n",
       "4   1  262.653107      5           15.0"
      ]
     },
     "execution_count": 1396,
     "metadata": {},
     "output_type": "execute_result"
    }
   ],
   "source": [
    "LST_pre.head()"
   ]
  },
  {
   "cell_type": "code",
   "execution_count": 1397,
   "metadata": {},
   "outputs": [
    {
     "data": {
      "text/html": [
       "<div>\n",
       "<style scoped>\n",
       "    .dataframe tbody tr th:only-of-type {\n",
       "        vertical-align: middle;\n",
       "    }\n",
       "\n",
       "    .dataframe tbody tr th {\n",
       "        vertical-align: top;\n",
       "    }\n",
       "\n",
       "    .dataframe thead th {\n",
       "        text-align: right;\n",
       "    }\n",
       "</style>\n",
       "<table border=\"1\" class=\"dataframe\">\n",
       "  <thead>\n",
       "    <tr style=\"text-align: right;\">\n",
       "      <th></th>\n",
       "      <th>ID</th>\n",
       "      <th>LC_Type1</th>\n",
       "      <th>LC_Type2</th>\n",
       "    </tr>\n",
       "  </thead>\n",
       "  <tbody>\n",
       "    <tr>\n",
       "      <th>0</th>\n",
       "      <td>1</td>\n",
       "      <td>13</td>\n",
       "      <td>13</td>\n",
       "    </tr>\n",
       "    <tr>\n",
       "      <th>1</th>\n",
       "      <td>2</td>\n",
       "      <td>13</td>\n",
       "      <td>13</td>\n",
       "    </tr>\n",
       "    <tr>\n",
       "      <th>2</th>\n",
       "      <td>3</td>\n",
       "      <td>13</td>\n",
       "      <td>13</td>\n",
       "    </tr>\n",
       "    <tr>\n",
       "      <th>3</th>\n",
       "      <td>4</td>\n",
       "      <td>13</td>\n",
       "      <td>13</td>\n",
       "    </tr>\n",
       "    <tr>\n",
       "      <th>4</th>\n",
       "      <td>5</td>\n",
       "      <td>13</td>\n",
       "      <td>13</td>\n",
       "    </tr>\n",
       "  </tbody>\n",
       "</table>\n",
       "</div>"
      ],
      "text/plain": [
       "   ID  LC_Type1  LC_Type2\n",
       "0   1        13        13\n",
       "1   2        13        13\n",
       "2   3        13        13\n",
       "3   4        13        13\n",
       "4   5        13        13"
      ]
     },
     "execution_count": 1397,
     "metadata": {},
     "output_type": "execute_result"
    }
   ],
   "source": [
    "LC_pre.head()"
   ]
  },
  {
   "cell_type": "code",
   "execution_count": 1398,
   "metadata": {
    "scrolled": true
   },
   "outputs": [
    {
     "data": {
      "text/html": [
       "<div>\n",
       "<style scoped>\n",
       "    .dataframe tbody tr th:only-of-type {\n",
       "        vertical-align: middle;\n",
       "    }\n",
       "\n",
       "    .dataframe tbody tr th {\n",
       "        vertical-align: top;\n",
       "    }\n",
       "\n",
       "    .dataframe thead th {\n",
       "        text-align: right;\n",
       "    }\n",
       "</style>\n",
       "<table border=\"1\" class=\"dataframe\">\n",
       "  <thead>\n",
       "    <tr style=\"text-align: right;\">\n",
       "      <th></th>\n",
       "      <th>ID</th>\n",
       "      <th>NonTree_Vege</th>\n",
       "      <th>NonVege</th>\n",
       "      <th>Tree_Cover</th>\n",
       "    </tr>\n",
       "  </thead>\n",
       "  <tbody>\n",
       "    <tr>\n",
       "      <th>0</th>\n",
       "      <td>1</td>\n",
       "      <td>39.0</td>\n",
       "      <td>56.0</td>\n",
       "      <td>5.0</td>\n",
       "    </tr>\n",
       "    <tr>\n",
       "      <th>1</th>\n",
       "      <td>2</td>\n",
       "      <td>36.0</td>\n",
       "      <td>58.0</td>\n",
       "      <td>6.0</td>\n",
       "    </tr>\n",
       "    <tr>\n",
       "      <th>2</th>\n",
       "      <td>3</td>\n",
       "      <td>25.0</td>\n",
       "      <td>74.0</td>\n",
       "      <td>1.0</td>\n",
       "    </tr>\n",
       "    <tr>\n",
       "      <th>3</th>\n",
       "      <td>4</td>\n",
       "      <td>37.0</td>\n",
       "      <td>57.0</td>\n",
       "      <td>6.0</td>\n",
       "    </tr>\n",
       "    <tr>\n",
       "      <th>4</th>\n",
       "      <td>5</td>\n",
       "      <td>37.0</td>\n",
       "      <td>57.0</td>\n",
       "      <td>6.0</td>\n",
       "    </tr>\n",
       "  </tbody>\n",
       "</table>\n",
       "</div>"
      ],
      "text/plain": [
       "   ID  NonTree_Vege  NonVege  Tree_Cover\n",
       "0   1          39.0     56.0         5.0\n",
       "1   2          36.0     58.0         6.0\n",
       "2   3          25.0     74.0         1.0\n",
       "3   4          37.0     57.0         6.0\n",
       "4   5          37.0     57.0         6.0"
      ]
     },
     "execution_count": 1398,
     "metadata": {},
     "output_type": "execute_result"
    }
   ],
   "source": [
    "VGF_pre.head()"
   ]
  },
  {
   "cell_type": "code",
   "execution_count": 1399,
   "metadata": {
    "scrolled": true
   },
   "outputs": [],
   "source": [
    "# VGF_pre = VGF_pre.astype('Int16')"
   ]
  },
  {
   "cell_type": "code",
   "execution_count": 1400,
   "metadata": {
    "scrolled": false
   },
   "outputs": [
    {
     "data": {
      "text/html": [
       "<div>\n",
       "<style scoped>\n",
       "    .dataframe tbody tr th:only-of-type {\n",
       "        vertical-align: middle;\n",
       "    }\n",
       "\n",
       "    .dataframe tbody tr th {\n",
       "        vertical-align: top;\n",
       "    }\n",
       "\n",
       "    .dataframe thead th {\n",
       "        text-align: right;\n",
       "    }\n",
       "</style>\n",
       "<table border=\"1\" class=\"dataframe\">\n",
       "  <thead>\n",
       "    <tr style=\"text-align: right;\">\n",
       "      <th></th>\n",
       "      <th>ID</th>\n",
       "      <th>NonTree_Vege</th>\n",
       "      <th>NonVege</th>\n",
       "      <th>Tree_Cover</th>\n",
       "    </tr>\n",
       "  </thead>\n",
       "  <tbody>\n",
       "    <tr>\n",
       "      <th>760</th>\n",
       "      <td>761</td>\n",
       "      <td>33.0</td>\n",
       "      <td>57.0</td>\n",
       "      <td>10.0</td>\n",
       "    </tr>\n",
       "    <tr>\n",
       "      <th>886</th>\n",
       "      <td>887</td>\n",
       "      <td>40.0</td>\n",
       "      <td>51.0</td>\n",
       "      <td>9.0</td>\n",
       "    </tr>\n",
       "    <tr>\n",
       "      <th>1040</th>\n",
       "      <td>1041</td>\n",
       "      <td>18.0</td>\n",
       "      <td>76.0</td>\n",
       "      <td>6.0</td>\n",
       "    </tr>\n",
       "    <tr>\n",
       "      <th>1348</th>\n",
       "      <td>1349</td>\n",
       "      <td>50.0</td>\n",
       "      <td>41.0</td>\n",
       "      <td>9.0</td>\n",
       "    </tr>\n",
       "    <tr>\n",
       "      <th>1223</th>\n",
       "      <td>1224</td>\n",
       "      <td>26.0</td>\n",
       "      <td>66.0</td>\n",
       "      <td>8.0</td>\n",
       "    </tr>\n",
       "  </tbody>\n",
       "</table>\n",
       "</div>"
      ],
      "text/plain": [
       "        ID  NonTree_Vege  NonVege  Tree_Cover\n",
       "760    761          33.0     57.0        10.0\n",
       "886    887          40.0     51.0         9.0\n",
       "1040  1041          18.0     76.0         6.0\n",
       "1348  1349          50.0     41.0         9.0\n",
       "1223  1224          26.0     66.0         8.0"
      ]
     },
     "execution_count": 1400,
     "metadata": {},
     "output_type": "execute_result"
    }
   ],
   "source": [
    "VGF_pre.sample(5)"
   ]
  },
  {
   "cell_type": "code",
   "execution_count": 1401,
   "metadata": {},
   "outputs": [],
   "source": [
    "master1 = dfhousehold.merge(LST_pre, on=['ID','month'])"
   ]
  },
  {
   "cell_type": "code",
   "execution_count": 1402,
   "metadata": {},
   "outputs": [],
   "source": [
    "master1 = master1.merge(LC_pre, on='ID')"
   ]
  },
  {
   "cell_type": "code",
   "execution_count": 1403,
   "metadata": {},
   "outputs": [],
   "source": [
    "master1 = master1.merge(VGF_pre, on='ID')"
   ]
  },
  {
   "cell_type": "markdown",
   "metadata": {},
   "source": [
    "## clean up `city` name"
   ]
  },
  {
   "cell_type": "markdown",
   "metadata": {},
   "source": [
    "first, create new column `city_` `county_` to store cleaned up city and county names"
   ]
  },
  {
   "cell_type": "code",
   "execution_count": 1406,
   "metadata": {},
   "outputs": [],
   "source": [
    "master1['city_'] = master1.city\n",
    "master1['county_'] = master1.county"
   ]
  },
  {
   "cell_type": "code",
   "execution_count": 1407,
   "metadata": {},
   "outputs": [],
   "source": [
    "prov = ['上海', '北京', '天津', '重庆']\n",
    "\n",
    "for i in master1.index:\n",
    "    if master1.loc[i,'county'] == '':\n",
    "        master1.loc[i,'county_'] = master1.loc[i,'city']\n",
    "    if master1.loc[i,'province'] in prov:\n",
    "        master1.loc[i,'city_'] = master1.loc[i,'province']"
   ]
  },
  {
   "cell_type": "code",
   "execution_count": 1408,
   "metadata": {},
   "outputs": [
    {
     "name": "stdout",
     "output_type": "stream",
     "text": [
      "    province  city county city_\n",
      "ID                             \n",
      "259       重庆  九龙坡区    谢家湾    重庆\n",
      "264       重庆  九龙坡区    石新路    重庆\n",
      "267       重庆  沙坪坝区   重庆大学    重庆\n"
     ]
    }
   ],
   "source": [
    "print(master1[master1['province'] == '重庆'].groupby('ID')[['province','city','county','city_']].last().loc[(259,264,267),:])"
   ]
  },
  {
   "cell_type": "code",
   "execution_count": 1409,
   "metadata": {
    "scrolled": false
   },
   "outputs": [],
   "source": [
    "# for i in ['上海', '北京', '天津', '重庆']:\n",
    "#     print(master1[master1['province'] == i].groupby('ID')[['province','city','county','city_','county_']].first())"
   ]
  },
  {
   "cell_type": "code",
   "execution_count": 1410,
   "metadata": {},
   "outputs": [
    {
     "data": {
      "text/html": [
       "<div>\n",
       "<style scoped>\n",
       "    .dataframe tbody tr th:only-of-type {\n",
       "        vertical-align: middle;\n",
       "    }\n",
       "\n",
       "    .dataframe tbody tr th {\n",
       "        vertical-align: top;\n",
       "    }\n",
       "\n",
       "    .dataframe thead th {\n",
       "        text-align: right;\n",
       "    }\n",
       "</style>\n",
       "<table border=\"1\" class=\"dataframe\">\n",
       "  <thead>\n",
       "    <tr style=\"text-align: right;\">\n",
       "      <th></th>\n",
       "      <th>province</th>\n",
       "      <th>city</th>\n",
       "      <th>county</th>\n",
       "      <th>city_</th>\n",
       "      <th>county_</th>\n",
       "    </tr>\n",
       "  </thead>\n",
       "  <tbody>\n",
       "    <tr>\n",
       "      <th>0</th>\n",
       "      <td>广西</td>\n",
       "      <td>玉林市</td>\n",
       "      <td>容县</td>\n",
       "      <td>玉林市</td>\n",
       "      <td>容县</td>\n",
       "    </tr>\n",
       "    <tr>\n",
       "      <th>1</th>\n",
       "      <td>广西</td>\n",
       "      <td>玉林市</td>\n",
       "      <td>容县</td>\n",
       "      <td>玉林市</td>\n",
       "      <td>容县</td>\n",
       "    </tr>\n",
       "    <tr>\n",
       "      <th>2</th>\n",
       "      <td>广西</td>\n",
       "      <td>玉林市</td>\n",
       "      <td>容县</td>\n",
       "      <td>玉林市</td>\n",
       "      <td>容县</td>\n",
       "    </tr>\n",
       "    <tr>\n",
       "      <th>3</th>\n",
       "      <td>广西</td>\n",
       "      <td>玉林市</td>\n",
       "      <td>容县</td>\n",
       "      <td>玉林市</td>\n",
       "      <td>容县</td>\n",
       "    </tr>\n",
       "    <tr>\n",
       "      <th>4</th>\n",
       "      <td>广西</td>\n",
       "      <td>玉林市</td>\n",
       "      <td>容县</td>\n",
       "      <td>玉林市</td>\n",
       "      <td>容县</td>\n",
       "    </tr>\n",
       "    <tr>\n",
       "      <th>...</th>\n",
       "      <td>...</td>\n",
       "      <td>...</td>\n",
       "      <td>...</td>\n",
       "      <td>...</td>\n",
       "      <td>...</td>\n",
       "    </tr>\n",
       "    <tr>\n",
       "      <th>17395</th>\n",
       "      <td>福建</td>\n",
       "      <td>漳州</td>\n",
       "      <td>芗城</td>\n",
       "      <td>漳州</td>\n",
       "      <td>芗城</td>\n",
       "    </tr>\n",
       "    <tr>\n",
       "      <th>17396</th>\n",
       "      <td>福建</td>\n",
       "      <td>漳州</td>\n",
       "      <td>芗城</td>\n",
       "      <td>漳州</td>\n",
       "      <td>芗城</td>\n",
       "    </tr>\n",
       "    <tr>\n",
       "      <th>17397</th>\n",
       "      <td>福建</td>\n",
       "      <td>漳州</td>\n",
       "      <td>芗城</td>\n",
       "      <td>漳州</td>\n",
       "      <td>芗城</td>\n",
       "    </tr>\n",
       "    <tr>\n",
       "      <th>17398</th>\n",
       "      <td>福建</td>\n",
       "      <td>漳州</td>\n",
       "      <td>芗城</td>\n",
       "      <td>漳州</td>\n",
       "      <td>芗城</td>\n",
       "    </tr>\n",
       "    <tr>\n",
       "      <th>17399</th>\n",
       "      <td>福建</td>\n",
       "      <td>漳州</td>\n",
       "      <td>芗城</td>\n",
       "      <td>漳州</td>\n",
       "      <td>芗城</td>\n",
       "    </tr>\n",
       "  </tbody>\n",
       "</table>\n",
       "<p>17400 rows × 5 columns</p>\n",
       "</div>"
      ],
      "text/plain": [
       "      province city county city_ county_\n",
       "0           广西  玉林市     容县   玉林市      容县\n",
       "1           广西  玉林市     容县   玉林市      容县\n",
       "2           广西  玉林市     容县   玉林市      容县\n",
       "3           广西  玉林市     容县   玉林市      容县\n",
       "4           广西  玉林市     容县   玉林市      容县\n",
       "...        ...  ...    ...   ...     ...\n",
       "17395       福建   漳州     芗城    漳州      芗城\n",
       "17396       福建   漳州     芗城    漳州      芗城\n",
       "17397       福建   漳州     芗城    漳州      芗城\n",
       "17398       福建   漳州     芗城    漳州      芗城\n",
       "17399       福建   漳州     芗城    漳州      芗城\n",
       "\n",
       "[17400 rows x 5 columns]"
      ]
     },
     "execution_count": 1410,
     "metadata": {},
     "output_type": "execute_result"
    }
   ],
   "source": [
    "master1[['province','city','county','city_','county_']]"
   ]
  },
  {
   "cell_type": "markdown",
   "metadata": {},
   "source": [
    " further clean up `city_` name, consolidate ##市 and ##"
   ]
  },
  {
   "cell_type": "code",
   "execution_count": 1411,
   "metadata": {},
   "outputs": [
    {
     "data": {
      "text/plain": [
       "临沂市    624\n",
       "潍坊     564\n",
       "常德市    480\n",
       "衡水市    432\n",
       "玉林市    360\n",
       "      ... \n",
       "承德      12\n",
       "成都      12\n",
       "项城市     12\n",
       "济南      12\n",
       "渝北区     12\n",
       "Name: city, Length: 128, dtype: int64"
      ]
     },
     "execution_count": 1411,
     "metadata": {},
     "output_type": "execute_result"
    }
   ],
   "source": [
    "master1.city.value_counts(dropna=False)"
   ]
  },
  {
   "cell_type": "code",
   "execution_count": 1412,
   "metadata": {},
   "outputs": [
    {
     "data": {
      "text/plain": [
       "北京     864\n",
       "上海     792\n",
       "临沂市    624\n",
       "潍坊     564\n",
       "常德市    480\n",
       "      ... \n",
       "项城市     12\n",
       "运城      12\n",
       "莆田      12\n",
       "济南      12\n",
       "保定市     12\n",
       "Name: city_, Length: 99, dtype: int64"
      ]
     },
     "execution_count": 1412,
     "metadata": {},
     "output_type": "execute_result"
    }
   ],
   "source": [
    "master1.city_.value_counts(dropna=False)"
   ]
  },
  {
   "cell_type": "code",
   "execution_count": 1413,
   "metadata": {},
   "outputs": [
    {
     "data": {
      "text/plain": [
       "99"
      ]
     },
     "execution_count": 1413,
     "metadata": {},
     "output_type": "execute_result"
    }
   ],
   "source": [
    "city_names = set(master1.city_)\n",
    "len(city_names)"
   ]
  },
  {
   "cell_type": "code",
   "execution_count": 1414,
   "metadata": {},
   "outputs": [
    {
     "data": {
      "text/plain": [
       "51"
      ]
     },
     "execution_count": 1414,
     "metadata": {},
     "output_type": "execute_result"
    }
   ],
   "source": [
    "city_names_withshi = {i for i in city_names if i.endswith('市')}\n",
    "len(city_names_withshi )"
   ]
  },
  {
   "cell_type": "code",
   "execution_count": 1415,
   "metadata": {},
   "outputs": [],
   "source": [
    "city_names_withoutshi = {i.rstrip('市') for i in city_names }"
   ]
  },
  {
   "cell_type": "code",
   "execution_count": 1416,
   "metadata": {},
   "outputs": [
    {
     "data": {
      "text/plain": [
       "91"
      ]
     },
     "execution_count": 1416,
     "metadata": {},
     "output_type": "execute_result"
    }
   ],
   "source": [
    "len(city_names_withoutshi)"
   ]
  },
  {
   "cell_type": "code",
   "execution_count": 1417,
   "metadata": {},
   "outputs": [],
   "source": [
    "city_diff = city_names_withoutshi - city_names "
   ]
  },
  {
   "cell_type": "code",
   "execution_count": 1418,
   "metadata": {
    "scrolled": true
   },
   "outputs": [
    {
     "data": {
      "text/plain": [
       "43"
      ]
     },
     "execution_count": 1418,
     "metadata": {},
     "output_type": "execute_result"
    }
   ],
   "source": [
    "len(city_diff)  # df.city = df.city.str.rstrip('shi')"
   ]
  },
  {
   "cell_type": "code",
   "execution_count": 1419,
   "metadata": {},
   "outputs": [],
   "source": [
    "city_names_withshi_strip = {i.rstrip('市') for i in city_names_withshi}"
   ]
  },
  {
   "cell_type": "code",
   "execution_count": 1420,
   "metadata": {},
   "outputs": [],
   "source": [
    "city_dup = city_names_withshi_strip - city_diff "
   ]
  },
  {
   "cell_type": "code",
   "execution_count": 1421,
   "metadata": {},
   "outputs": [
    {
     "data": {
      "text/plain": [
       "{'成都', '潍坊', '濮阳', '荆州', '荆门', '衡水', '赤峰', '长春'}"
      ]
     },
     "execution_count": 1421,
     "metadata": {},
     "output_type": "execute_result"
    }
   ],
   "source": [
    "city_dup"
   ]
  },
  {
   "cell_type": "code",
   "execution_count": 1422,
   "metadata": {},
   "outputs": [],
   "source": [
    "# for similar case with '区'\n",
    "city_names_withshi2 = {i for i in city_names if i.endswith('区')}\n",
    "city_names_withoutshi2 = {i.rstrip('区') for i in city_names }\n",
    "city_diff2 = city_names_withoutshi2 - city_names \n",
    "city_names_withshi_strip2 = {i.rstrip('区') for i in city_names_withshi2}\n",
    "city_dup2 = city_names_withshi_strip2 - city_diff2 "
   ]
  },
  {
   "cell_type": "code",
   "execution_count": 1423,
   "metadata": {},
   "outputs": [
    {
     "data": {
      "text/plain": [
       "set()"
      ]
     },
     "execution_count": 1423,
     "metadata": {},
     "output_type": "execute_result"
    }
   ],
   "source": [
    "city_dup2"
   ]
  },
  {
   "cell_type": "code",
   "execution_count": 1424,
   "metadata": {},
   "outputs": [],
   "source": [
    "# 黄埔 黄浦区 likely a typo"
   ]
  },
  {
   "cell_type": "code",
   "execution_count": 1425,
   "metadata": {},
   "outputs": [],
   "source": [
    "city_name_mapper = {'成都':'成都市', '潍坊':'潍坊市', '濮阳':'濮阳市', '荆州':'荆州市', '荆门':'荆门市', '衡水':'衡水市', \n",
    "                    '赤峰':'赤峰市',\n",
    "                    '长春':'长春市'}"
   ]
  },
  {
   "cell_type": "code",
   "execution_count": 1426,
   "metadata": {},
   "outputs": [],
   "source": [
    "master1.city_.replace(city_name_mapper, inplace=True)"
   ]
  },
  {
   "cell_type": "code",
   "execution_count": 1427,
   "metadata": {},
   "outputs": [
    {
     "data": {
      "text/plain": [
       "北京     864\n",
       "上海     792\n",
       "潍坊市    756\n",
       "临沂市    624\n",
       "衡水市    576\n",
       "      ... \n",
       "抚州市     12\n",
       "莆田      12\n",
       "东营      12\n",
       "本溪市     12\n",
       "保定市     12\n",
       "Name: city_, Length: 91, dtype: int64"
      ]
     },
     "execution_count": 1427,
     "metadata": {},
     "output_type": "execute_result"
    }
   ],
   "source": [
    "master1.city_.value_counts(dropna=False)"
   ]
  },
  {
   "cell_type": "code",
   "execution_count": 1428,
   "metadata": {},
   "outputs": [
    {
     "data": {
      "text/plain": [
       "0.0"
      ]
     },
     "execution_count": 1428,
     "metadata": {},
     "output_type": "execute_result"
    }
   ],
   "source": [
    "master1.city_.isna().mean()"
   ]
  },
  {
   "cell_type": "markdown",
   "metadata": {},
   "source": [
    "## create dummies for north, summer, new building, single family house"
   ]
  },
  {
   "cell_type": "markdown",
   "metadata": {},
   "source": [
    "##### create dummy for north china, central, south china"
   ]
  },
  {
   "cell_type": "code",
   "execution_count": 1430,
   "metadata": {},
   "outputs": [],
   "source": [
    "north = ['内蒙古', '北京', '吉林', '天津', '宁夏回族自治区', '山东', '山西', '新疆', '河北', '河南', '甘肃', '辽宁','黑龙江']\n",
    "master1[\"is_north\"] = master1['province'].isin(north)\n",
    "south = ['云南', '广东', '广西', '江西', '海南', '湖南', '福建', '贵州']\n",
    "master1[\"is_south\"] = master1['province'].isin(south)"
   ]
  },
  {
   "cell_type": "code",
   "execution_count": 1431,
   "metadata": {},
   "outputs": [
    {
     "data": {
      "text/plain": [
       "True     9792\n",
       "False    7608\n",
       "Name: is_north, dtype: int64"
      ]
     },
     "execution_count": 1431,
     "metadata": {},
     "output_type": "execute_result"
    }
   ],
   "source": [
    "master1[\"is_north\"].value_counts(dropna=False)"
   ]
  },
  {
   "cell_type": "code",
   "execution_count": 1432,
   "metadata": {},
   "outputs": [
    {
     "data": {
      "text/plain": [
       "False    13956\n",
       "True      3444\n",
       "Name: is_south, dtype: int64"
      ]
     },
     "execution_count": 1432,
     "metadata": {},
     "output_type": "execute_result"
    }
   ],
   "source": [
    "master1[\"is_south\"].value_counts(dropna=False)"
   ]
  },
  {
   "cell_type": "code",
   "execution_count": 1433,
   "metadata": {},
   "outputs": [],
   "source": [
    "# check out central"
   ]
  },
  {
   "cell_type": "markdown",
   "metadata": {},
   "source": [
    "##### create `sumer` `is_summer` dummy"
   ]
  },
  {
   "cell_type": "code",
   "execution_count": 1434,
   "metadata": {
    "scrolled": true
   },
   "outputs": [],
   "source": [
    "master1['summer'] = np.where((master1.month>=4) & (master1.month<=9) , 1, 0)"
   ]
  },
  {
   "cell_type": "code",
   "execution_count": 1435,
   "metadata": {},
   "outputs": [],
   "source": [
    "master1['is_summer'] = (master1.month>=4) & (master1.month<=9)"
   ]
  },
  {
   "cell_type": "code",
   "execution_count": 1436,
   "metadata": {},
   "outputs": [
    {
     "data": {
      "text/html": [
       "<div>\n",
       "<style scoped>\n",
       "    .dataframe tbody tr th:only-of-type {\n",
       "        vertical-align: middle;\n",
       "    }\n",
       "\n",
       "    .dataframe tbody tr th {\n",
       "        vertical-align: top;\n",
       "    }\n",
       "\n",
       "    .dataframe thead th {\n",
       "        text-align: right;\n",
       "    }\n",
       "</style>\n",
       "<table border=\"1\" class=\"dataframe\">\n",
       "  <thead>\n",
       "    <tr style=\"text-align: right;\">\n",
       "      <th>is_summer</th>\n",
       "      <th>False</th>\n",
       "      <th>True</th>\n",
       "    </tr>\n",
       "    <tr>\n",
       "      <th>summer</th>\n",
       "      <th></th>\n",
       "      <th></th>\n",
       "    </tr>\n",
       "  </thead>\n",
       "  <tbody>\n",
       "    <tr>\n",
       "      <th>0</th>\n",
       "      <td>8700</td>\n",
       "      <td>0</td>\n",
       "    </tr>\n",
       "    <tr>\n",
       "      <th>1</th>\n",
       "      <td>0</td>\n",
       "      <td>8700</td>\n",
       "    </tr>\n",
       "  </tbody>\n",
       "</table>\n",
       "</div>"
      ],
      "text/plain": [
       "is_summer  False  True \n",
       "summer                 \n",
       "0           8700      0\n",
       "1              0   8700"
      ]
     },
     "execution_count": 1436,
     "metadata": {},
     "output_type": "execute_result"
    }
   ],
   "source": [
    "pd.crosstab(master1.summer, master1.is_summer)"
   ]
  },
  {
   "cell_type": "markdown",
   "metadata": {},
   "source": [
    "##### create new building `new` dummy"
   ]
  },
  {
   "cell_type": "code",
   "execution_count": 1437,
   "metadata": {
    "scrolled": true
   },
   "outputs": [
    {
     "data": {
      "text/plain": [
       "2000-2009    8400\n",
       "1990-1999    5148\n",
       "1980-1989    2196\n",
       "2010年及以后      924\n",
       "1970-1979     384\n",
       "1960-1969     132\n",
       "早于1949年        96\n",
       "NaN            84\n",
       "1949-1959      36\n",
       "Name: bltyr, dtype: int64"
      ]
     },
     "execution_count": 1437,
     "metadata": {},
     "output_type": "execute_result"
    }
   ],
   "source": [
    "master1.bltyr.value_counts(dropna=False)"
   ]
  },
  {
   "cell_type": "code",
   "execution_count": 1438,
   "metadata": {
    "scrolled": true
   },
   "outputs": [
    {
     "data": {
      "text/plain": [
       "CategoricalDtype(categories=['早于1949年', '1949-1959', '1960-1969', '1970-1979',\n",
       "                  '1980-1989', '1990-1999', '2000-2009', '2010年及以后'],\n",
       "                 ordered=True)"
      ]
     },
     "execution_count": 1438,
     "metadata": {},
     "output_type": "execute_result"
    }
   ],
   "source": [
    "master1.bltyr.dtypes"
   ]
  },
  {
   "cell_type": "code",
   "execution_count": 1439,
   "metadata": {},
   "outputs": [],
   "source": [
    "# master1.drop(columns='new', inplace=True)"
   ]
  },
  {
   "cell_type": "code",
   "execution_count": 1440,
   "metadata": {
    "scrolled": true
   },
   "outputs": [
    {
     "data": {
      "text/plain": [
       "359    1990-1999\n",
       "Name: bltyr, dtype: category\n",
       "Categories (8, object): [早于1949年 < 1949-1959 < 1960-1969 < 1970-1979 < 1980-1989 < 1990-1999 < 2000-2009 < 2010年及以后]"
      ]
     },
     "execution_count": 1440,
     "metadata": {},
     "output_type": "execute_result"
    }
   ],
   "source": [
    "master1.loc[[359],'bltyr'] "
   ]
  },
  {
   "cell_type": "code",
   "execution_count": 1441,
   "metadata": {},
   "outputs": [
    {
     "data": {
      "text/plain": [
       "True"
      ]
     },
     "execution_count": 1441,
     "metadata": {},
     "output_type": "execute_result"
    }
   ],
   "source": [
    "master1.loc[359,'bltyr'] >= '1949-1959'"
   ]
  },
  {
   "cell_type": "code",
   "execution_count": 1442,
   "metadata": {
    "scrolled": true
   },
   "outputs": [
    {
     "data": {
      "text/plain": [
       "360    NaN\n",
       "Name: bltyr, dtype: category\n",
       "Categories (8, object): [早于1949年 < 1949-1959 < 1960-1969 < 1970-1979 < 1980-1989 < 1990-1999 < 2000-2009 < 2010年及以后]"
      ]
     },
     "execution_count": 1442,
     "metadata": {},
     "output_type": "execute_result"
    }
   ],
   "source": [
    "master1.loc[[360],'bltyr'] "
   ]
  },
  {
   "cell_type": "code",
   "execution_count": 1443,
   "metadata": {},
   "outputs": [
    {
     "data": {
      "text/plain": [
       "float"
      ]
     },
     "execution_count": 1443,
     "metadata": {},
     "output_type": "execute_result"
    }
   ],
   "source": [
    "type(master1.bltyr[360])"
   ]
  },
  {
   "cell_type": "code",
   "execution_count": 1444,
   "metadata": {},
   "outputs": [],
   "source": [
    "# new = []\n",
    "# old = ['早于1949年', '1949-1959','1960-1969']"
   ]
  },
  {
   "cell_type": "code",
   "execution_count": 1445,
   "metadata": {},
   "outputs": [],
   "source": [
    "def gen_newbld(row):\n",
    "    new = None\n",
    "    if isinstance(row.bltyr, str):\n",
    "        return row.bltyr >= '1990-1999' \n",
    "    return new"
   ]
  },
  {
   "cell_type": "code",
   "execution_count": 1446,
   "metadata": {},
   "outputs": [],
   "source": [
    "master1['new']= master1.apply(gen_newbld, axis=1)"
   ]
  },
  {
   "cell_type": "code",
   "execution_count": 1447,
   "metadata": {},
   "outputs": [
    {
     "data": {
      "text/plain": [
       "dtype('O')"
      ]
     },
     "execution_count": 1447,
     "metadata": {},
     "output_type": "execute_result"
    }
   ],
   "source": [
    "master1['new'].dtype"
   ]
  },
  {
   "cell_type": "code",
   "execution_count": 1448,
   "metadata": {},
   "outputs": [
    {
     "data": {
      "text/plain": [
       "True     14568\n",
       "False     2748\n",
       "NaN         84\n",
       "Name: new, dtype: int64"
      ]
     },
     "execution_count": 1448,
     "metadata": {},
     "output_type": "execute_result"
    }
   ],
   "source": [
    "master1['new'].value_counts(dropna=False)"
   ]
  },
  {
   "cell_type": "code",
   "execution_count": 1449,
   "metadata": {},
   "outputs": [],
   "source": [
    "# '早于1949年' wrong!"
   ]
  },
  {
   "cell_type": "code",
   "execution_count": 1450,
   "metadata": {},
   "outputs": [
    {
     "data": {
      "text/html": [
       "<div>\n",
       "<style scoped>\n",
       "    .dataframe tbody tr th:only-of-type {\n",
       "        vertical-align: middle;\n",
       "    }\n",
       "\n",
       "    .dataframe tbody tr th {\n",
       "        vertical-align: top;\n",
       "    }\n",
       "\n",
       "    .dataframe thead th {\n",
       "        text-align: right;\n",
       "    }\n",
       "</style>\n",
       "<table border=\"1\" class=\"dataframe\">\n",
       "  <thead>\n",
       "    <tr style=\"text-align: right;\">\n",
       "      <th>bltyr</th>\n",
       "      <th>早于1949年</th>\n",
       "      <th>1949-1959</th>\n",
       "      <th>1960-1969</th>\n",
       "      <th>1970-1979</th>\n",
       "      <th>1980-1989</th>\n",
       "      <th>1990-1999</th>\n",
       "      <th>2000-2009</th>\n",
       "      <th>2010年及以后</th>\n",
       "    </tr>\n",
       "    <tr>\n",
       "      <th>new</th>\n",
       "      <th></th>\n",
       "      <th></th>\n",
       "      <th></th>\n",
       "      <th></th>\n",
       "      <th></th>\n",
       "      <th></th>\n",
       "      <th></th>\n",
       "      <th></th>\n",
       "    </tr>\n",
       "  </thead>\n",
       "  <tbody>\n",
       "    <tr>\n",
       "      <th>False</th>\n",
       "      <td>0</td>\n",
       "      <td>36</td>\n",
       "      <td>132</td>\n",
       "      <td>384</td>\n",
       "      <td>2196</td>\n",
       "      <td>0</td>\n",
       "      <td>0</td>\n",
       "      <td>0</td>\n",
       "    </tr>\n",
       "    <tr>\n",
       "      <th>True</th>\n",
       "      <td>96</td>\n",
       "      <td>0</td>\n",
       "      <td>0</td>\n",
       "      <td>0</td>\n",
       "      <td>0</td>\n",
       "      <td>5148</td>\n",
       "      <td>8400</td>\n",
       "      <td>924</td>\n",
       "    </tr>\n",
       "  </tbody>\n",
       "</table>\n",
       "</div>"
      ],
      "text/plain": [
       "bltyr  早于1949年  1949-1959  1960-1969  1970-1979  1980-1989  1990-1999  \\\n",
       "new                                                                     \n",
       "False        0         36        132        384       2196          0   \n",
       "True        96          0          0          0          0       5148   \n",
       "\n",
       "bltyr  2000-2009  2010年及以后  \n",
       "new                         \n",
       "False          0         0  \n",
       "True        8400       924  "
      ]
     },
     "execution_count": 1450,
     "metadata": {},
     "output_type": "execute_result"
    }
   ],
   "source": [
    "pd.crosstab(master1.new, master1.bltyr, dropna=False)"
   ]
  },
  {
   "cell_type": "code",
   "execution_count": 1451,
   "metadata": {},
   "outputs": [],
   "source": [
    "master1['new'] = np.where(master1.bltyr >= '1990-1999' , 1, 0)"
   ]
  },
  {
   "cell_type": "code",
   "execution_count": 1452,
   "metadata": {},
   "outputs": [],
   "source": [
    "master1.loc[master1.bltyr.isnull(), 'new'] = None"
   ]
  },
  {
   "cell_type": "code",
   "execution_count": 1453,
   "metadata": {
    "scrolled": true
   },
   "outputs": [
    {
     "data": {
      "text/plain": [
       "1.0    14472\n",
       "0.0     2844\n",
       "NaN       84\n",
       "Name: new, dtype: int64"
      ]
     },
     "execution_count": 1453,
     "metadata": {},
     "output_type": "execute_result"
    }
   ],
   "source": [
    "master1['new'].value_counts(dropna=False)"
   ]
  },
  {
   "cell_type": "code",
   "execution_count": 1454,
   "metadata": {
    "scrolled": false
   },
   "outputs": [
    {
     "data": {
      "text/html": [
       "<div>\n",
       "<style scoped>\n",
       "    .dataframe tbody tr th:only-of-type {\n",
       "        vertical-align: middle;\n",
       "    }\n",
       "\n",
       "    .dataframe tbody tr th {\n",
       "        vertical-align: top;\n",
       "    }\n",
       "\n",
       "    .dataframe thead th {\n",
       "        text-align: right;\n",
       "    }\n",
       "</style>\n",
       "<table border=\"1\" class=\"dataframe\">\n",
       "  <thead>\n",
       "    <tr style=\"text-align: right;\">\n",
       "      <th>bltyr</th>\n",
       "      <th>早于1949年</th>\n",
       "      <th>1949-1959</th>\n",
       "      <th>1960-1969</th>\n",
       "      <th>1970-1979</th>\n",
       "      <th>1980-1989</th>\n",
       "      <th>1990-1999</th>\n",
       "      <th>2000-2009</th>\n",
       "      <th>2010年及以后</th>\n",
       "      <th>All</th>\n",
       "    </tr>\n",
       "    <tr>\n",
       "      <th>new</th>\n",
       "      <th></th>\n",
       "      <th></th>\n",
       "      <th></th>\n",
       "      <th></th>\n",
       "      <th></th>\n",
       "      <th></th>\n",
       "      <th></th>\n",
       "      <th></th>\n",
       "      <th></th>\n",
       "    </tr>\n",
       "  </thead>\n",
       "  <tbody>\n",
       "    <tr>\n",
       "      <th>0.0</th>\n",
       "      <td>96</td>\n",
       "      <td>36</td>\n",
       "      <td>132</td>\n",
       "      <td>384</td>\n",
       "      <td>2196</td>\n",
       "      <td>0</td>\n",
       "      <td>0</td>\n",
       "      <td>0</td>\n",
       "      <td>2844</td>\n",
       "    </tr>\n",
       "    <tr>\n",
       "      <th>1.0</th>\n",
       "      <td>0</td>\n",
       "      <td>0</td>\n",
       "      <td>0</td>\n",
       "      <td>0</td>\n",
       "      <td>0</td>\n",
       "      <td>5148</td>\n",
       "      <td>8400</td>\n",
       "      <td>924</td>\n",
       "      <td>14472</td>\n",
       "    </tr>\n",
       "    <tr>\n",
       "      <th>All</th>\n",
       "      <td>96</td>\n",
       "      <td>36</td>\n",
       "      <td>132</td>\n",
       "      <td>384</td>\n",
       "      <td>2196</td>\n",
       "      <td>5148</td>\n",
       "      <td>8400</td>\n",
       "      <td>924</td>\n",
       "      <td>17400</td>\n",
       "    </tr>\n",
       "  </tbody>\n",
       "</table>\n",
       "</div>"
      ],
      "text/plain": [
       "bltyr  早于1949年  1949-1959  1960-1969  1970-1979  1980-1989  1990-1999  \\\n",
       "new                                                                     \n",
       "0.0         96         36        132        384       2196          0   \n",
       "1.0          0          0          0          0          0       5148   \n",
       "All         96         36        132        384       2196       5148   \n",
       "\n",
       "bltyr  2000-2009  2010年及以后    All  \n",
       "new                                \n",
       "0.0            0         0   2844  \n",
       "1.0         8400       924  14472  \n",
       "All         8400       924  17400  "
      ]
     },
     "execution_count": 1454,
     "metadata": {},
     "output_type": "execute_result"
    }
   ],
   "source": [
    "pd.crosstab(master1.new, master1.bltyr, dropna=False, margins=True)"
   ]
  },
  {
   "cell_type": "code",
   "execution_count": 1455,
   "metadata": {},
   "outputs": [],
   "source": [
    "# 'is_new'"
   ]
  },
  {
   "cell_type": "code",
   "execution_count": 1456,
   "metadata": {},
   "outputs": [],
   "source": [
    "master1['is_new'] = master1.bltyr >= '1990-1999'"
   ]
  },
  {
   "cell_type": "code",
   "execution_count": 1457,
   "metadata": {},
   "outputs": [],
   "source": [
    "# boolean NA type?"
   ]
  },
  {
   "cell_type": "code",
   "execution_count": 1458,
   "metadata": {},
   "outputs": [],
   "source": [
    "master1.loc[master1.bltyr.isnull(), 'is_new'] = np.nan"
   ]
  },
  {
   "cell_type": "code",
   "execution_count": 1459,
   "metadata": {},
   "outputs": [
    {
     "data": {
      "text/plain": [
       "1.0    14472\n",
       "0.0     2844\n",
       "NaN       84\n",
       "Name: is_new, dtype: int64"
      ]
     },
     "execution_count": 1459,
     "metadata": {},
     "output_type": "execute_result"
    }
   ],
   "source": [
    "# turn is_new to float\n",
    "master1['is_new'].value_counts(dropna=False)"
   ]
  },
  {
   "cell_type": "code",
   "execution_count": 1460,
   "metadata": {
    "scrolled": true
   },
   "outputs": [
    {
     "data": {
      "text/html": [
       "<div>\n",
       "<style scoped>\n",
       "    .dataframe tbody tr th:only-of-type {\n",
       "        vertical-align: middle;\n",
       "    }\n",
       "\n",
       "    .dataframe tbody tr th {\n",
       "        vertical-align: top;\n",
       "    }\n",
       "\n",
       "    .dataframe thead th {\n",
       "        text-align: right;\n",
       "    }\n",
       "</style>\n",
       "<table border=\"1\" class=\"dataframe\">\n",
       "  <thead>\n",
       "    <tr style=\"text-align: right;\">\n",
       "      <th>bltyr</th>\n",
       "      <th>早于1949年</th>\n",
       "      <th>1949-1959</th>\n",
       "      <th>1960-1969</th>\n",
       "      <th>1970-1979</th>\n",
       "      <th>1980-1989</th>\n",
       "      <th>1990-1999</th>\n",
       "      <th>2000-2009</th>\n",
       "      <th>2010年及以后</th>\n",
       "    </tr>\n",
       "    <tr>\n",
       "      <th>is_new</th>\n",
       "      <th></th>\n",
       "      <th></th>\n",
       "      <th></th>\n",
       "      <th></th>\n",
       "      <th></th>\n",
       "      <th></th>\n",
       "      <th></th>\n",
       "      <th></th>\n",
       "    </tr>\n",
       "  </thead>\n",
       "  <tbody>\n",
       "    <tr>\n",
       "      <th>0.0</th>\n",
       "      <td>96</td>\n",
       "      <td>36</td>\n",
       "      <td>132</td>\n",
       "      <td>384</td>\n",
       "      <td>2196</td>\n",
       "      <td>0</td>\n",
       "      <td>0</td>\n",
       "      <td>0</td>\n",
       "    </tr>\n",
       "    <tr>\n",
       "      <th>1.0</th>\n",
       "      <td>0</td>\n",
       "      <td>0</td>\n",
       "      <td>0</td>\n",
       "      <td>0</td>\n",
       "      <td>0</td>\n",
       "      <td>5148</td>\n",
       "      <td>8400</td>\n",
       "      <td>924</td>\n",
       "    </tr>\n",
       "  </tbody>\n",
       "</table>\n",
       "</div>"
      ],
      "text/plain": [
       "bltyr   早于1949年  1949-1959  1960-1969  1970-1979  1980-1989  1990-1999  \\\n",
       "is_new                                                                   \n",
       "0.0          96         36        132        384       2196          0   \n",
       "1.0           0          0          0          0          0       5148   \n",
       "\n",
       "bltyr   2000-2009  2010年及以后  \n",
       "is_new                       \n",
       "0.0             0         0  \n",
       "1.0          8400       924  "
      ]
     },
     "execution_count": 1460,
     "metadata": {},
     "output_type": "execute_result"
    }
   ],
   "source": [
    "pd.crosstab(master1.is_new, master1.bltyr, dropna=False)"
   ]
  },
  {
   "cell_type": "markdown",
   "metadata": {},
   "source": [
    "##### create single family home `sf` dummy"
   ]
  },
  {
   "cell_type": "code",
   "execution_count": 1461,
   "metadata": {
    "scrolled": false
   },
   "outputs": [
    {
     "data": {
      "text/plain": [
       "多层住宅（4-6层）             8652\n",
       "低层住宅（1-3层）             5292\n",
       "中高层住宅（7-10层,也称为小高层）    2028\n",
       "高层住宅（11-30层）           1284\n",
       "超高层住宅（30层以上）            108\n",
       "NaN                      36\n",
       "Name: bldlvl, dtype: int64"
      ]
     },
     "execution_count": 1461,
     "metadata": {},
     "output_type": "execute_result"
    }
   ],
   "source": [
    "master1.bldlvl.value_counts(dropna=False)"
   ]
  },
  {
   "cell_type": "code",
   "execution_count": 1462,
   "metadata": {
    "scrolled": true
   },
   "outputs": [
    {
     "data": {
      "text/plain": [
       "Index(['低层住宅（1-3层）', '多层住宅（4-6层）', '中高层住宅（7-10层,也称为小高层）', '高层住宅（11-30层）',\n",
       "       '超高层住宅（30层以上）'],\n",
       "      dtype='object')"
      ]
     },
     "execution_count": 1462,
     "metadata": {},
     "output_type": "execute_result"
    }
   ],
   "source": [
    "master1.bldlvl.cat.categories"
   ]
  },
  {
   "cell_type": "code",
   "execution_count": 1463,
   "metadata": {},
   "outputs": [
    {
     "data": {
      "text/plain": [
       "1.0     5844\n",
       "2.0     2424\n",
       "3.0     2292\n",
       "4.0     2220\n",
       "5.0     1848\n",
       "6.0     1080\n",
       "7.0      444\n",
       "NaN      168\n",
       "11.0     144\n",
       "9.0      132\n",
       "10.0     132\n",
       "Name: level, dtype: int64"
      ]
     },
     "execution_count": 1463,
     "metadata": {},
     "output_type": "execute_result"
    }
   ],
   "source": [
    "master1.level.value_counts(dropna=False)[:10]"
   ]
  },
  {
   "cell_type": "code",
   "execution_count": 1464,
   "metadata": {},
   "outputs": [],
   "source": [
    "master1['sf'] = np.where(master1.bldlvl == '低层住宅（1-3层）' , 1, 0)"
   ]
  },
  {
   "cell_type": "code",
   "execution_count": 1465,
   "metadata": {},
   "outputs": [],
   "source": [
    "master1.loc[master1.bldlvl.isnull(), 'sf'] = np.nan"
   ]
  },
  {
   "cell_type": "code",
   "execution_count": 1466,
   "metadata": {},
   "outputs": [
    {
     "data": {
      "text/plain": [
       "0.0    12072\n",
       "1.0     5292\n",
       "NaN       36\n",
       "Name: sf, dtype: int64"
      ]
     },
     "execution_count": 1466,
     "metadata": {},
     "output_type": "execute_result"
    }
   ],
   "source": [
    "master1['sf'].value_counts(dropna=False)"
   ]
  },
  {
   "cell_type": "markdown",
   "metadata": {},
   "source": [
    "## generate `LC_Type3`, `Vege_Cover`, `DD_sq`"
   ]
  },
  {
   "cell_type": "code",
   "execution_count": 1467,
   "metadata": {},
   "outputs": [],
   "source": [
    "master1['Vege_Cover'] = master1['Tree_Cover'] + master1['NonTree_Vege'] "
   ]
  },
  {
   "cell_type": "code",
   "execution_count": 1469,
   "metadata": {},
   "outputs": [],
   "source": [
    "LC_Type2_mapper ={0: 'Water', \n",
    "                  2: 'Evergreen',\n",
    "                 5: 'Mixed forest',\n",
    "                 8: 'Woody Savanna',\n",
    "                 9: 'Savanna',\n",
    "                 10: 'Grassland',\n",
    "                 11: 'Wetland',\n",
    "                 12: 'Cropland',\n",
    "                 13: 'Built-up/Urban',\n",
    "                 14: 'cropland mosaic',\n",
    "                 15: 'Non-Vegetated'}"
   ]
  },
  {
   "cell_type": "code",
   "execution_count": 1470,
   "metadata": {},
   "outputs": [],
   "source": [
    "master1['LC_Type2s'] = master1.LC_Type2.replace(LC_Type2_mapper)"
   ]
  },
  {
   "cell_type": "code",
   "execution_count": 1472,
   "metadata": {},
   "outputs": [
    {
     "data": {
      "text/html": [
       "<div>\n",
       "<style scoped>\n",
       "    .dataframe tbody tr th:only-of-type {\n",
       "        vertical-align: middle;\n",
       "    }\n",
       "\n",
       "    .dataframe tbody tr th {\n",
       "        vertical-align: top;\n",
       "    }\n",
       "\n",
       "    .dataframe thead th {\n",
       "        text-align: right;\n",
       "    }\n",
       "</style>\n",
       "<table border=\"1\" class=\"dataframe\">\n",
       "  <thead>\n",
       "    <tr style=\"text-align: right;\">\n",
       "      <th>LC_Type2s</th>\n",
       "      <th>Built-up/Urban</th>\n",
       "      <th>Cropland</th>\n",
       "      <th>Evergreen</th>\n",
       "      <th>Grassland</th>\n",
       "      <th>Mixed forest</th>\n",
       "      <th>Non-Vegetated</th>\n",
       "      <th>Savanna</th>\n",
       "      <th>Water</th>\n",
       "      <th>Wetland</th>\n",
       "      <th>Woody Savanna</th>\n",
       "      <th>cropland mosaic</th>\n",
       "    </tr>\n",
       "    <tr>\n",
       "      <th>LC_Type2</th>\n",
       "      <th></th>\n",
       "      <th></th>\n",
       "      <th></th>\n",
       "      <th></th>\n",
       "      <th></th>\n",
       "      <th></th>\n",
       "      <th></th>\n",
       "      <th></th>\n",
       "      <th></th>\n",
       "      <th></th>\n",
       "      <th></th>\n",
       "    </tr>\n",
       "  </thead>\n",
       "  <tbody>\n",
       "    <tr>\n",
       "      <th>0</th>\n",
       "      <td>0</td>\n",
       "      <td>0</td>\n",
       "      <td>0</td>\n",
       "      <td>0</td>\n",
       "      <td>0</td>\n",
       "      <td>0</td>\n",
       "      <td>0</td>\n",
       "      <td>336</td>\n",
       "      <td>0</td>\n",
       "      <td>0</td>\n",
       "      <td>0</td>\n",
       "    </tr>\n",
       "    <tr>\n",
       "      <th>2</th>\n",
       "      <td>0</td>\n",
       "      <td>0</td>\n",
       "      <td>48</td>\n",
       "      <td>0</td>\n",
       "      <td>0</td>\n",
       "      <td>0</td>\n",
       "      <td>0</td>\n",
       "      <td>0</td>\n",
       "      <td>0</td>\n",
       "      <td>0</td>\n",
       "      <td>0</td>\n",
       "    </tr>\n",
       "    <tr>\n",
       "      <th>5</th>\n",
       "      <td>0</td>\n",
       "      <td>0</td>\n",
       "      <td>0</td>\n",
       "      <td>0</td>\n",
       "      <td>48</td>\n",
       "      <td>0</td>\n",
       "      <td>0</td>\n",
       "      <td>0</td>\n",
       "      <td>0</td>\n",
       "      <td>0</td>\n",
       "      <td>0</td>\n",
       "    </tr>\n",
       "    <tr>\n",
       "      <th>8</th>\n",
       "      <td>0</td>\n",
       "      <td>0</td>\n",
       "      <td>0</td>\n",
       "      <td>0</td>\n",
       "      <td>0</td>\n",
       "      <td>0</td>\n",
       "      <td>0</td>\n",
       "      <td>0</td>\n",
       "      <td>0</td>\n",
       "      <td>96</td>\n",
       "      <td>0</td>\n",
       "    </tr>\n",
       "    <tr>\n",
       "      <th>9</th>\n",
       "      <td>0</td>\n",
       "      <td>0</td>\n",
       "      <td>0</td>\n",
       "      <td>0</td>\n",
       "      <td>0</td>\n",
       "      <td>0</td>\n",
       "      <td>2040</td>\n",
       "      <td>0</td>\n",
       "      <td>0</td>\n",
       "      <td>0</td>\n",
       "      <td>0</td>\n",
       "    </tr>\n",
       "    <tr>\n",
       "      <th>10</th>\n",
       "      <td>0</td>\n",
       "      <td>0</td>\n",
       "      <td>0</td>\n",
       "      <td>744</td>\n",
       "      <td>0</td>\n",
       "      <td>0</td>\n",
       "      <td>0</td>\n",
       "      <td>0</td>\n",
       "      <td>0</td>\n",
       "      <td>0</td>\n",
       "      <td>0</td>\n",
       "    </tr>\n",
       "    <tr>\n",
       "      <th>11</th>\n",
       "      <td>0</td>\n",
       "      <td>0</td>\n",
       "      <td>0</td>\n",
       "      <td>0</td>\n",
       "      <td>0</td>\n",
       "      <td>0</td>\n",
       "      <td>0</td>\n",
       "      <td>0</td>\n",
       "      <td>108</td>\n",
       "      <td>0</td>\n",
       "      <td>0</td>\n",
       "    </tr>\n",
       "    <tr>\n",
       "      <th>12</th>\n",
       "      <td>0</td>\n",
       "      <td>2208</td>\n",
       "      <td>0</td>\n",
       "      <td>0</td>\n",
       "      <td>0</td>\n",
       "      <td>0</td>\n",
       "      <td>0</td>\n",
       "      <td>0</td>\n",
       "      <td>0</td>\n",
       "      <td>0</td>\n",
       "      <td>0</td>\n",
       "    </tr>\n",
       "    <tr>\n",
       "      <th>13</th>\n",
       "      <td>11172</td>\n",
       "      <td>0</td>\n",
       "      <td>0</td>\n",
       "      <td>0</td>\n",
       "      <td>0</td>\n",
       "      <td>0</td>\n",
       "      <td>0</td>\n",
       "      <td>0</td>\n",
       "      <td>0</td>\n",
       "      <td>0</td>\n",
       "      <td>0</td>\n",
       "    </tr>\n",
       "    <tr>\n",
       "      <th>14</th>\n",
       "      <td>0</td>\n",
       "      <td>0</td>\n",
       "      <td>0</td>\n",
       "      <td>0</td>\n",
       "      <td>0</td>\n",
       "      <td>0</td>\n",
       "      <td>0</td>\n",
       "      <td>0</td>\n",
       "      <td>0</td>\n",
       "      <td>0</td>\n",
       "      <td>516</td>\n",
       "    </tr>\n",
       "    <tr>\n",
       "      <th>15</th>\n",
       "      <td>0</td>\n",
       "      <td>0</td>\n",
       "      <td>0</td>\n",
       "      <td>0</td>\n",
       "      <td>0</td>\n",
       "      <td>84</td>\n",
       "      <td>0</td>\n",
       "      <td>0</td>\n",
       "      <td>0</td>\n",
       "      <td>0</td>\n",
       "      <td>0</td>\n",
       "    </tr>\n",
       "  </tbody>\n",
       "</table>\n",
       "</div>"
      ],
      "text/plain": [
       "LC_Type2s  Built-up/Urban  Cropland  Evergreen  Grassland  Mixed forest  \\\n",
       "LC_Type2                                                                  \n",
       "0                       0         0          0          0             0   \n",
       "2                       0         0         48          0             0   \n",
       "5                       0         0          0          0            48   \n",
       "8                       0         0          0          0             0   \n",
       "9                       0         0          0          0             0   \n",
       "10                      0         0          0        744             0   \n",
       "11                      0         0          0          0             0   \n",
       "12                      0      2208          0          0             0   \n",
       "13                  11172         0          0          0             0   \n",
       "14                      0         0          0          0             0   \n",
       "15                      0         0          0          0             0   \n",
       "\n",
       "LC_Type2s  Non-Vegetated  Savanna  Water  Wetland  Woody Savanna  \\\n",
       "LC_Type2                                                           \n",
       "0                      0        0    336        0              0   \n",
       "2                      0        0      0        0              0   \n",
       "5                      0        0      0        0              0   \n",
       "8                      0        0      0        0             96   \n",
       "9                      0     2040      0        0              0   \n",
       "10                     0        0      0        0              0   \n",
       "11                     0        0      0      108              0   \n",
       "12                     0        0      0        0              0   \n",
       "13                     0        0      0        0              0   \n",
       "14                     0        0      0        0              0   \n",
       "15                    84        0      0        0              0   \n",
       "\n",
       "LC_Type2s  cropland mosaic  \n",
       "LC_Type2                    \n",
       "0                        0  \n",
       "2                        0  \n",
       "5                        0  \n",
       "8                        0  \n",
       "9                        0  \n",
       "10                       0  \n",
       "11                       0  \n",
       "12                       0  \n",
       "13                       0  \n",
       "14                     516  \n",
       "15                       0  "
      ]
     },
     "execution_count": 1472,
     "metadata": {},
     "output_type": "execute_result"
    }
   ],
   "source": [
    "pd.crosstab(master1['LC_Type2'], master1['LC_Type2s'], dropna=False)"
   ]
  },
  {
   "cell_type": "code",
   "execution_count": 1473,
   "metadata": {},
   "outputs": [],
   "source": [
    "def gen_LC3(LC_Type2):\n",
    "    if LC_Type2 ==0 or LC_Type2==11:\n",
    "        return 'water'\n",
    "    if LC_Type2 >0 and LC_Type2<10:\n",
    "        return 'forest/savanna'\n",
    "    if LC_Type2 ==10:\n",
    "        return 'grassland'\n",
    "    if LC_Type2 ==12 or LC_Type2==14:\n",
    "        return 'cropland'\n",
    "    if LC_Type2 ==13:\n",
    "        return 'Urban built-up'\n",
    "    if LC_Type2 ==15:\n",
    "        return 'barren'"
   ]
  },
  {
   "cell_type": "code",
   "execution_count": 1474,
   "metadata": {},
   "outputs": [],
   "source": [
    "LC_Type3_mapper ={0: 'water', \n",
    "                  2: 'forest/savanna',\n",
    "                 5: 'forest/savanna',\n",
    "                 8: 'forest/savanna',\n",
    "                 9: 'forest/savanna',\n",
    "                 10: 'grassland',\n",
    "                 11: 'water',\n",
    "                 12: 'cropland',\n",
    "                 13: 'Built-up/Urban',\n",
    "                 14: 'cropland',\n",
    "                 15: 'non-Vegetated'}"
   ]
  },
  {
   "cell_type": "code",
   "execution_count": 1475,
   "metadata": {},
   "outputs": [],
   "source": [
    "#master1['LC_Type3'] = master1['LC_Type2'].apply(gen_LC3)"
   ]
  },
  {
   "cell_type": "code",
   "execution_count": 1476,
   "metadata": {},
   "outputs": [],
   "source": [
    "master1['LC_Type3'] = master1['LC_Type2'].replace(LC_Type3_mapper)"
   ]
  },
  {
   "cell_type": "code",
   "execution_count": 1477,
   "metadata": {},
   "outputs": [
    {
     "data": {
      "text/plain": [
       "Built-up/Urban    11172\n",
       "cropland           2724\n",
       "forest/savanna     2232\n",
       "grassland           744\n",
       "water               444\n",
       "non-Vegetated        84\n",
       "Name: LC_Type3, dtype: int64"
      ]
     },
     "execution_count": 1477,
     "metadata": {},
     "output_type": "execute_result"
    }
   ],
   "source": [
    "master1['LC_Type3'].value_counts(dropna=False)"
   ]
  },
  {
   "cell_type": "code",
   "execution_count": 1478,
   "metadata": {},
   "outputs": [
    {
     "data": {
      "text/plain": [
       "Built-up/Urban    11172\n",
       "cropland           2724\n",
       "forest/savanna     2232\n",
       "grassland           744\n",
       "water               444\n",
       "non-Vegetated        84\n",
       "Name: LC_Type3, dtype: int64"
      ]
     },
     "execution_count": 1478,
     "metadata": {},
     "output_type": "execute_result"
    }
   ],
   "source": [
    "master1['LC_Type3'].value_counts(dropna=False)"
   ]
  },
  {
   "cell_type": "code",
   "execution_count": 1479,
   "metadata": {},
   "outputs": [],
   "source": [
    "# def gen_LC4(LC_Type2):\n",
    "#     if LC_Type2 ==0 or LC_Type2==11:\n",
    "#         return 'water'\n",
    "#     elif LC_Type2 ==13:\n",
    "#         return 'Urban built-up'\n",
    "#     elif LC_Type2 ==15:\n",
    "#         return 'barren'\n",
    "#     else:\n",
    "#         return 'vege'"
   ]
  },
  {
   "cell_type": "code",
   "execution_count": 1480,
   "metadata": {},
   "outputs": [],
   "source": [
    "LC_Type4_mapper ={0: 'water', \n",
    "                  2: 'vege',\n",
    "                 5: 'vege',\n",
    "                 8: 'vege',\n",
    "                 9: 'vege',\n",
    "                 10: 'vege',\n",
    "                 11: 'water',\n",
    "                 12: 'vege',\n",
    "                 13: 'Built-up/Urban',\n",
    "                 14: 'vege',\n",
    "                 15: 'non-Vegetated'}"
   ]
  },
  {
   "cell_type": "code",
   "execution_count": 1481,
   "metadata": {},
   "outputs": [
    {
     "data": {
      "text/plain": [
       "Built-up/Urban    11172\n",
       "vege               5700\n",
       "water               444\n",
       "non-Vegetated        84\n",
       "Name: LC_Type4, dtype: int64"
      ]
     },
     "execution_count": 1481,
     "metadata": {},
     "output_type": "execute_result"
    }
   ],
   "source": [
    "master1['LC_Type4'] = master1['LC_Type2'].replace(LC_Type4_mapper)\n",
    "master1['LC_Type4'].value_counts(dropna=False)"
   ]
  },
  {
   "cell_type": "code",
   "execution_count": 1482,
   "metadata": {},
   "outputs": [
    {
     "data": {
      "text/plain": [
       "Built-up/Urban    11172\n",
       "vege               5700\n",
       "water               444\n",
       "non-Vegetated        84\n",
       "Name: LC_Type4, dtype: int64"
      ]
     },
     "execution_count": 1482,
     "metadata": {},
     "output_type": "execute_result"
    }
   ],
   "source": [
    "#master1['LC_Type4'] = master1['LC_Type2'].apply(gen_LC4)\n",
    "master1['LC_Type4'].value_counts(dropna=False)"
   ]
  },
  {
   "cell_type": "code",
   "execution_count": 1483,
   "metadata": {},
   "outputs": [],
   "source": [
    "# # diff from Stata\n",
    "# def gen_LC5(LC_Type2):\n",
    "#     if LC_Type2 ==0 or LC_Type2==11:\n",
    "#         return 'water'\n",
    "#     elif LC_Type2 ==13:\n",
    "#         return 'Urban built-up'\n",
    "#     elif LC_Type2 ==15:\n",
    "#         return 'barren'\n",
    "#     elif LC_Type2 ==12 or LC_Type2==14:\n",
    "#         return 'cropland'\n",
    "#     else:\n",
    "#         return 'natural_vege'"
   ]
  },
  {
   "cell_type": "code",
   "execution_count": 1484,
   "metadata": {},
   "outputs": [],
   "source": [
    "LC_Type5_mapper ={0: 'water', \n",
    "                  2: 'natural_vege',\n",
    "                 5: 'natural_vege',\n",
    "                 8: 'natural_vege',\n",
    "                 9: 'natural_vege',\n",
    "                 10: 'natural_vege',\n",
    "                 11: 'water',\n",
    "                 12: 'cropland',\n",
    "                 13: 'Built-up/Urban',\n",
    "                 14: 'cropland',\n",
    "                 15: 'non-Vegetated'}"
   ]
  },
  {
   "cell_type": "code",
   "execution_count": 1485,
   "metadata": {
    "scrolled": true
   },
   "outputs": [
    {
     "data": {
      "text/plain": [
       "Built-up/Urban    11172\n",
       "natural_vege       2976\n",
       "cropland           2724\n",
       "water               444\n",
       "non-Vegetated        84\n",
       "Name: LC_Type5, dtype: int64"
      ]
     },
     "execution_count": 1485,
     "metadata": {},
     "output_type": "execute_result"
    }
   ],
   "source": [
    "master1['LC_Type5'] = master1['LC_Type2'].replace(LC_Type5_mapper)\n",
    "master1['LC_Type5'].value_counts(dropna=False)"
   ]
  },
  {
   "cell_type": "code",
   "execution_count": 1486,
   "metadata": {
    "scrolled": true
   },
   "outputs": [
    {
     "data": {
      "text/plain": [
       "Built-up/Urban    11172\n",
       "natural_vege       2976\n",
       "cropland           2724\n",
       "water               444\n",
       "non-Vegetated        84\n",
       "Name: LC_Type5, dtype: int64"
      ]
     },
     "execution_count": 1486,
     "metadata": {},
     "output_type": "execute_result"
    }
   ],
   "source": [
    "#master1['LC_Type5'] = master1['LC_Type2'].apply(gen_LC5)\n",
    "master1['LC_Type5'].value_counts(dropna=False)"
   ]
  },
  {
   "cell_type": "code",
   "execution_count": 1487,
   "metadata": {},
   "outputs": [],
   "source": [
    "master1['DD_sq'] = master1['DD_monthly'] ** 2"
   ]
  },
  {
   "cell_type": "code",
   "execution_count": 1488,
   "metadata": {
    "scrolled": false
   },
   "outputs": [
    {
     "data": {
      "text/plain": [
       "Index(['ID', 'month', 'elec_use', 'elec_bill', 'price', 'Month', 'serial',\n",
       "       'province', 'city', 'county', 'zipcode', 'respondent', 'latitude',\n",
       "       'longitude', 'fsize', 'income', 'rltn_to_HoH', 'sex', 'birthyr',\n",
       "       'employment', 'employer', 'occupation', 'sector', 'ethnicity',\n",
       "       'edu_lvl', 'edu_yrs', 'mths_at_home', 'urban', 'bldlvl', 'level',\n",
       "       'stories', 'moveinyr', 'daystyd', 'own', 'owntyp', 'bltyr', 'wall',\n",
       "       'roof', 'height', 'size', 'size2', 'bathroom', 'balcony', 'newwdw',\n",
       "       'window_D', 'wall_D', 'insltn_D', 'bsmt_D', 'attic_D', 'garage_D',\n",
       "       'dlgt_w', 'dlgt_s', 'DD_monthly', 'goodday_count', 'LC_Type1',\n",
       "       'LC_Type2', 'NonTree_Vege', 'NonVege', 'Tree_Cover', 'city_', 'county_',\n",
       "       'is_north', 'is_south', 'summer', 'is_summer', 'new', 'is_new', 'sf',\n",
       "       'Vege_Cover', 'LC_Type2s', 'LC_Type3', 'LC_Type4', 'LC_Type5', 'DD_sq'],\n",
       "      dtype='object')"
      ]
     },
     "execution_count": 1488,
     "metadata": {},
     "output_type": "execute_result"
    }
   ],
   "source": [
    "master1.columns"
   ]
  },
  {
   "cell_type": "code",
   "execution_count": 1489,
   "metadata": {},
   "outputs": [
    {
     "data": {
      "text/plain": [
       "(17400, 74)"
      ]
     },
     "execution_count": 1489,
     "metadata": {},
     "output_type": "execute_result"
    }
   ],
   "source": [
    "master1.shape"
   ]
  },
  {
   "cell_type": "code",
   "execution_count": 1086,
   "metadata": {},
   "outputs": [],
   "source": [
    "# gen m_elec_use=0\n",
    "# replace m_elec_use=1 if elec_use==.\n",
    "\n",
    "# by ID: gen m_elec_use_sum = sum(m_elec_use)\n",
    "# by ID: egen m_elec_use_tot = total(m_elec_use)\n",
    "# order m_elec_use m_elec_use_sum m_elec_use_tot, after (elec_use)"
   ]
  },
  {
   "cell_type": "code",
   "execution_count": 1492,
   "metadata": {},
   "outputs": [],
   "source": [
    "master1.to_csv('master1.csv')\n",
    "#'master1.csv', clean merged data w/ selected var, 17400*76"
   ]
  },
  {
   "cell_type": "markdown",
   "metadata": {},
   "source": [
    "# Analysis"
   ]
  },
  {
   "cell_type": "markdown",
   "metadata": {},
   "source": [
    "## Graphs, maps, `Degree Days` Box plot"
   ]
  },
  {
   "cell_type": "code",
   "execution_count": 1088,
   "metadata": {
    "scrolled": false
   },
   "outputs": [
    {
     "data": {
      "text/html": [
       "<div class='tableauPlaceholder' id='viz1583895459344' style='position: relative'><noscript><a href='#'><img alt=' ' src='https:&#47;&#47;public.tableau.com&#47;static&#47;images&#47;6Z&#47;6ZS9S6WKB&#47;1_rss.png' style='border: none' /></a></noscript><object class='tableauViz'  style='display:none;'><param name='host_url' value='https%3A%2F%2Fpublic.tableau.com%2F' /> <param name='embed_code_version' value='3' /> <param name='path' value='shared&#47;6ZS9S6WKB' /> <param name='toolbar' value='yes' /><param name='static_image' value='https:&#47;&#47;public.tableau.com&#47;static&#47;images&#47;6Z&#47;6ZS9S6WKB&#47;1.png' /> <param name='animate_transition' value='yes' /><param name='display_static_image' value='yes' /><param name='display_spinner' value='yes' /><param name='display_overlay' value='yes' /><param name='display_count' value='yes' /><param name='filter' value='publish=yes' /></object></div>                <script type='text/javascript'>                    var divElement = document.getElementById('viz1583895459344');                    var vizElement = divElement.getElementsByTagName('object')[0];                    vizElement.style.width='100%';vizElement.style.height=(divElement.offsetWidth*0.75)+'px';                    var scriptElement = document.createElement('script');                    scriptElement.src = 'https://public.tableau.com/javascripts/api/viz_v1.js';                    vizElement.parentNode.insertBefore(scriptElement, vizElement);                </script>\n"
      ],
      "text/plain": [
       "<IPython.core.display.HTML object>"
      ]
     },
     "metadata": {},
     "output_type": "display_data"
    }
   ],
   "source": [
    "%%HTML\n",
    "<div class='tableauPlaceholder' id='viz1583895459344' style='position: relative'><noscript><a href='#'><img alt=' ' src='https:&#47;&#47;public.tableau.com&#47;static&#47;images&#47;6Z&#47;6ZS9S6WKB&#47;1_rss.png' style='border: none' /></a></noscript><object class='tableauViz'  style='display:none;'><param name='host_url' value='https%3A%2F%2Fpublic.tableau.com%2F' /> <param name='embed_code_version' value='3' /> <param name='path' value='shared&#47;6ZS9S6WKB' /> <param name='toolbar' value='yes' /><param name='static_image' value='https:&#47;&#47;public.tableau.com&#47;static&#47;images&#47;6Z&#47;6ZS9S6WKB&#47;1.png' /> <param name='animate_transition' value='yes' /><param name='display_static_image' value='yes' /><param name='display_spinner' value='yes' /><param name='display_overlay' value='yes' /><param name='display_count' value='yes' /><param name='filter' value='publish=yes' /></object></div>                <script type='text/javascript'>                    var divElement = document.getElementById('viz1583895459344');                    var vizElement = divElement.getElementsByTagName('object')[0];                    vizElement.style.width='100%';vizElement.style.height=(divElement.offsetWidth*0.75)+'px';                    var scriptElement = document.createElement('script');                    scriptElement.src = 'https://public.tableau.com/javascripts/api/viz_v1.js';                    vizElement.parentNode.insertBefore(scriptElement, vizElement);                </script>"
   ]
  },
  {
   "cell_type": "code",
   "execution_count": 1579,
   "metadata": {},
   "outputs": [
    {
     "data": {
      "text/html": [
       "<div class='tableauPlaceholder' id='viz1584922312047' style='position: relative'><noscript><a href='#'><img alt=' ' src='https:&#47;&#47;public.tableau.com&#47;static&#47;images&#47;WW&#47;WWW5YPQG4&#47;1_rss.png' style='border: none' /></a></noscript><object class='tableauViz'  style='display:none;'><param name='host_url' value='https%3A%2F%2Fpublic.tableau.com%2F' /> <param name='embed_code_version' value='3' /> <param name='path' value='shared&#47;WWW5YPQG4' /> <param name='toolbar' value='yes' /><param name='static_image' value='https:&#47;&#47;public.tableau.com&#47;static&#47;images&#47;WW&#47;WWW5YPQG4&#47;1.png' /> <param name='animate_transition' value='yes' /><param name='display_static_image' value='yes' /><param name='display_spinner' value='yes' /><param name='display_overlay' value='yes' /><param name='display_count' value='yes' /></object></div>                <script type='text/javascript'>                    var divElement = document.getElementById('viz1584922312047');                    var vizElement = divElement.getElementsByTagName('object')[0];                    vizElement.style.width='100%';vizElement.style.height=(divElement.offsetWidth*0.75)+'px';                    var scriptElement = document.createElement('script');                    scriptElement.src = 'https://public.tableau.com/javascripts/api/viz_v1.js';                    vizElement.parentNode.insertBefore(scriptElement, vizElement);                </script>\n"
      ],
      "text/plain": [
       "<IPython.core.display.HTML object>"
      ]
     },
     "metadata": {},
     "output_type": "display_data"
    }
   ],
   "source": [
    "%%HTML\n",
    "<div class='tableauPlaceholder' id='viz1584922312047' style='position: relative'><noscript><a href='#'><img alt=' ' src='https:&#47;&#47;public.tableau.com&#47;static&#47;images&#47;WW&#47;WWW5YPQG4&#47;1_rss.png' style='border: none' /></a></noscript><object class='tableauViz'  style='display:none;'><param name='host_url' value='https%3A%2F%2Fpublic.tableau.com%2F' /> <param name='embed_code_version' value='3' /> <param name='path' value='shared&#47;WWW5YPQG4' /> <param name='toolbar' value='yes' /><param name='static_image' value='https:&#47;&#47;public.tableau.com&#47;static&#47;images&#47;WW&#47;WWW5YPQG4&#47;1.png' /> <param name='animate_transition' value='yes' /><param name='display_static_image' value='yes' /><param name='display_spinner' value='yes' /><param name='display_overlay' value='yes' /><param name='display_count' value='yes' /></object></div>                <script type='text/javascript'>                    var divElement = document.getElementById('viz1584922312047');                    var vizElement = divElement.getElementsByTagName('object')[0];                    vizElement.style.width='100%';vizElement.style.height=(divElement.offsetWidth*0.75)+'px';                    var scriptElement = document.createElement('script');                    scriptElement.src = 'https://public.tableau.com/javascripts/api/viz_v1.js';                    vizElement.parentNode.insertBefore(scriptElement, vizElement);                </script>"
   ]
  },
  {
   "cell_type": "code",
   "execution_count": 1089,
   "metadata": {
    "scrolled": true
   },
   "outputs": [],
   "source": [
    "# master1 = master1.reset_index()"
   ]
  },
  {
   "cell_type": "code",
   "execution_count": 1493,
   "metadata": {
    "scrolled": true
   },
   "outputs": [
    {
     "data": {
      "text/plain": [
       "<matplotlib.axes._subplots.AxesSubplot at 0x1c5e411a90>"
      ]
     },
     "execution_count": 1493,
     "metadata": {},
     "output_type": "execute_result"
    },
    {
     "data": {
      "image/png": "[encoded data removed]",
      "text/plain": [
       "<Figure size 432x288 with 1 Axes>"
      ]
     },
     "metadata": {
      "needs_background": "light"
     },
     "output_type": "display_data"
    }
   ],
   "source": [
    "master1.pivot_table(values='DD_monthly',\n",
    "    index='ID',\n",
    "    columns=['month']).plot(kind='box')"
   ]
  },
  {
   "cell_type": "code",
   "execution_count": 1494,
   "metadata": {},
   "outputs": [
    {
     "data": {
      "text/plain": [
       "<matplotlib.axes._subplots.AxesSubplot at 0x1c318d1c50>"
      ]
     },
     "execution_count": 1494,
     "metadata": {},
     "output_type": "execute_result"
    },
    {
     "data": {
      "image/png": "[encoded data removed]",
      "text/plain": [
       "<Figure size 432x288 with 1 Axes>"
      ]
     },
     "metadata": {
      "needs_background": "light"
     },
     "output_type": "display_data"
    }
   ],
   "source": [
    "master1[master1.elec_use<3000].pivot_table(values='elec_use',\n",
    "    index='ID',\n",
    "    columns=['month']).plot(kind='box')"
   ]
  },
  {
   "cell_type": "code",
   "execution_count": 1502,
   "metadata": {},
   "outputs": [
    {
     "data": {
      "text/plain": [
       "<matplotlib.axes._subplots.AxesSubplot at 0x1c61c2fc50>"
      ]
     },
     "execution_count": 1502,
     "metadata": {},
     "output_type": "execute_result"
    },
    {
     "data": {
      "image/png": "[encoded data removed]",
      "text/plain": [
       "<Figure size 432x288 with 1 Axes>"
      ]
     },
     "metadata": {
      "needs_background": "light"
     },
     "output_type": "display_data"
    }
   ],
   "source": [
    "master1[master1.elec_use<3000].pivot_table(values='elec_use',\n",
    "    index='ID',\n",
    "    columns=['month']).plot(kind='box', ylim=(-1,300))"
   ]
  },
  {
   "cell_type": "code",
   "execution_count": 1515,
   "metadata": {
    "scrolled": false
   },
   "outputs": [
    {
     "data": {
      "text/plain": [
       "array([<matplotlib.axes._subplots.AxesSubplot object at 0x1c625ea3c8>,\n",
       "       <matplotlib.axes._subplots.AxesSubplot object at 0x1c626067b8>],\n",
       "      dtype=object)"
      ]
     },
     "execution_count": 1515,
     "metadata": {},
     "output_type": "execute_result"
    },
    {
     "data": {
      "image/png": "[encoded data removed]",
      "text/plain": [
       "<Figure size 864x288 with 2 Axes>"
      ]
     },
     "metadata": {
      "needs_background": "light"
     },
     "output_type": "display_data"
    }
   ],
   "source": [
    "master1.hist(column='Tree_Cover', by='is_north',grid=True, figsize=(12,4), sharey=True, color='#86bf91')"
   ]
  },
  {
   "cell_type": "code",
   "execution_count": 1503,
   "metadata": {
    "scrolled": false
   },
   "outputs": [
    {
     "data": {
      "text/plain": [
       "is_north\n",
       "False    AxesSubplot(0.125,0.125;0.775x0.755)\n",
       "True     AxesSubplot(0.125,0.125;0.775x0.755)\n",
       "Name: Tree_Cover, dtype: object"
      ]
     },
     "execution_count": 1503,
     "metadata": {},
     "output_type": "execute_result"
    },
    {
     "data": {
      "image/png": "[encoded data removed]",
      "text/plain": [
       "<Figure size 432x288 with 1 Axes>"
      ]
     },
     "metadata": {
      "needs_background": "light"
     },
     "output_type": "display_data"
    }
   ],
   "source": [
    "master1.groupby('is_north')['Tree_Cover'].hist(alpha=0.8, label='is_north')"
   ]
  },
  {
   "cell_type": "code",
   "execution_count": 1094,
   "metadata": {},
   "outputs": [
    {
     "data": {
      "text/plain": [
       "array([[<matplotlib.axes._subplots.AxesSubplot object at 0x1c49b0fe48>,\n",
       "        <matplotlib.axes._subplots.AxesSubplot object at 0x1c49b369b0>],\n",
       "       [<matplotlib.axes._subplots.AxesSubplot object at 0x1c49b6c978>,\n",
       "        <matplotlib.axes._subplots.AxesSubplot object at 0x1c49a11940>],\n",
       "       [<matplotlib.axes._subplots.AxesSubplot object at 0x1c4ac6b908>,\n",
       "        <matplotlib.axes._subplots.AxesSubplot object at 0x1c4ad058d0>]],\n",
       "      dtype=object)"
      ]
     },
     "execution_count": 1094,
     "metadata": {},
     "output_type": "execute_result"
    },
    {
     "data": {
      "image/png": "[encoded data removed]",
      "text/plain": [
       "<Figure size 864x720 with 6 Axes>"
      ]
     },
     "metadata": {
      "needs_background": "light"
     },
     "output_type": "display_data"
    }
   ],
   "source": [
    "master1.hist(column='Tree_Cover', by='LC_Type3', grid=False, figsize=(12,10), layout=(3,2),\n",
    "             sharex=True, color='#86bf91', zorder=2, rwidth=0.9)"
   ]
  },
  {
   "cell_type": "markdown",
   "metadata": {},
   "source": [
    "##### DD_monthly vs elec_use"
   ]
  },
  {
   "cell_type": "code",
   "execution_count": 1517,
   "metadata": {},
   "outputs": [
    {
     "data": {
      "text/plain": [
       "<matplotlib.axes._subplots.AxesSubplot at 0x1c62eff550>"
      ]
     },
     "execution_count": 1517,
     "metadata": {},
     "output_type": "execute_result"
    },
    {
     "data": {
      "image/png": "[encoded data removed]",
      "text/plain": [
       "<Figure size 432x288 with 1 Axes>"
      ]
     },
     "metadata": {
      "needs_background": "light"
     },
     "output_type": "display_data"
    }
   ],
   "source": [
    "# DD_monthly vs elec_use\n",
    "master1.plot(x='elec_use', y='DD_monthly', kind='scatter')"
   ]
  },
  {
   "cell_type": "code",
   "execution_count": 1096,
   "metadata": {
    "scrolled": false
   },
   "outputs": [
    {
     "data": {
      "text/plain": [
       "<matplotlib.axes._subplots.AxesSubplot at 0x1c4b5cd278>"
      ]
     },
     "execution_count": 1096,
     "metadata": {},
     "output_type": "execute_result"
    },
    {
     "data": {
      "image/png": "[encoded data removed]",
      "text/plain": [
       "<Figure size 432x288 with 1 Axes>"
      ]
     },
     "metadata": {
      "needs_background": "light"
     },
     "output_type": "display_data"
    }
   ],
   "source": [
    "# winter\n",
    "master1[~master1.is_summer].plot(x='elec_use', y='DD_monthly', kind='scatter')"
   ]
  },
  {
   "cell_type": "code",
   "execution_count": 1097,
   "metadata": {
    "scrolled": false
   },
   "outputs": [
    {
     "data": {
      "text/plain": [
       "<matplotlib.axes._subplots.AxesSubplot at 0x1c42a55cc0>"
      ]
     },
     "execution_count": 1097,
     "metadata": {},
     "output_type": "execute_result"
    },
    {
     "data": {
      "image/png": "[encoded data removed]",
      "text/plain": [
       "<Figure size 432x288 with 1 Axes>"
      ]
     },
     "metadata": {
      "needs_background": "light"
     },
     "output_type": "display_data"
    }
   ],
   "source": [
    "# summer\n",
    "master1[master1.is_summer].plot(x='elec_use', y='DD_monthly', kind='scatter')"
   ]
  },
  {
   "cell_type": "code",
   "execution_count": 1516,
   "metadata": {
    "scrolled": false
   },
   "outputs": [
    {
     "data": {
      "text/plain": [
       "<matplotlib.axes._subplots.AxesSubplot at 0x1c62c39a90>"
      ]
     },
     "execution_count": 1516,
     "metadata": {},
     "output_type": "execute_result"
    },
    {
     "data": {
      "image/png": "[encoded data removed]",
      "text/plain": [
       "<Figure size 432x288 with 1 Axes>"
      ]
     },
     "metadata": {
      "needs_background": "light"
     },
     "output_type": "display_data"
    }
   ],
   "source": [
    "# summer\n",
    "master1[(master1.elec_use<3000) & master1.is_summer].plot(x='elec_use', y='DD_monthly', kind='scatter')"
   ]
  },
  {
   "cell_type": "markdown",
   "metadata": {},
   "source": [
    "## outliers in `elec_use`"
   ]
  },
  {
   "cell_type": "code",
   "execution_count": 1518,
   "metadata": {
    "scrolled": false
   },
   "outputs": [
    {
     "data": {
      "text/plain": [
       "1195.0359"
      ]
     },
     "execution_count": 1518,
     "metadata": {},
     "output_type": "execute_result"
    }
   ],
   "source": [
    "master1.elec_use.quantile(.999)"
   ]
  },
  {
   "cell_type": "code",
   "execution_count": 1519,
   "metadata": {
    "scrolled": true
   },
   "outputs": [
    {
     "data": {
      "text/html": [
       "<div>\n",
       "<style scoped>\n",
       "    .dataframe tbody tr th:only-of-type {\n",
       "        vertical-align: middle;\n",
       "    }\n",
       "\n",
       "    .dataframe tbody tr th {\n",
       "        vertical-align: top;\n",
       "    }\n",
       "\n",
       "    .dataframe thead th {\n",
       "        text-align: right;\n",
       "    }\n",
       "</style>\n",
       "<table border=\"1\" class=\"dataframe\">\n",
       "  <thead>\n",
       "    <tr style=\"text-align: right;\">\n",
       "      <th></th>\n",
       "      <th>ID</th>\n",
       "      <th>month</th>\n",
       "      <th>elec_use</th>\n",
       "      <th>elec_bill</th>\n",
       "      <th>price</th>\n",
       "      <th>Month</th>\n",
       "      <th>serial</th>\n",
       "      <th>province</th>\n",
       "      <th>city</th>\n",
       "      <th>county</th>\n",
       "      <th>zipcode</th>\n",
       "      <th>respondent</th>\n",
       "      <th>latitude</th>\n",
       "      <th>longitude</th>\n",
       "      <th>fsize</th>\n",
       "      <th>income</th>\n",
       "      <th>rltn_to_HoH</th>\n",
       "      <th>sex</th>\n",
       "      <th>birthyr</th>\n",
       "      <th>employment</th>\n",
       "      <th>employer</th>\n",
       "      <th>occupation</th>\n",
       "      <th>sector</th>\n",
       "      <th>ethnicity</th>\n",
       "      <th>edu_lvl</th>\n",
       "      <th>edu_yrs</th>\n",
       "      <th>mths_at_home</th>\n",
       "      <th>urban</th>\n",
       "      <th>bldlvl</th>\n",
       "      <th>level</th>\n",
       "      <th>stories</th>\n",
       "      <th>moveinyr</th>\n",
       "      <th>daystyd</th>\n",
       "      <th>own</th>\n",
       "      <th>owntyp</th>\n",
       "      <th>bltyr</th>\n",
       "      <th>wall</th>\n",
       "      <th>roof</th>\n",
       "      <th>height</th>\n",
       "      <th>size</th>\n",
       "      <th>size2</th>\n",
       "      <th>bathroom</th>\n",
       "      <th>balcony</th>\n",
       "      <th>newwdw</th>\n",
       "      <th>window_D</th>\n",
       "      <th>wall_D</th>\n",
       "      <th>insltn_D</th>\n",
       "      <th>bsmt_D</th>\n",
       "      <th>attic_D</th>\n",
       "      <th>garage_D</th>\n",
       "      <th>dlgt_w</th>\n",
       "      <th>dlgt_s</th>\n",
       "      <th>DD_monthly</th>\n",
       "      <th>goodday_count</th>\n",
       "      <th>LC_Type1</th>\n",
       "      <th>LC_Type2</th>\n",
       "      <th>NonTree_Vege</th>\n",
       "      <th>NonVege</th>\n",
       "      <th>Tree_Cover</th>\n",
       "      <th>city_</th>\n",
       "      <th>county_</th>\n",
       "      <th>is_north</th>\n",
       "      <th>is_south</th>\n",
       "      <th>summer</th>\n",
       "      <th>is_summer</th>\n",
       "      <th>new</th>\n",
       "      <th>is_new</th>\n",
       "      <th>sf</th>\n",
       "      <th>Vege_Cover</th>\n",
       "      <th>LC_Type2s</th>\n",
       "      <th>LC_Type3</th>\n",
       "      <th>LC_Type4</th>\n",
       "      <th>LC_Type5</th>\n",
       "      <th>DD_sq</th>\n",
       "    </tr>\n",
       "  </thead>\n",
       "  <tbody>\n",
       "    <tr>\n",
       "      <th>2335</th>\n",
       "      <td>195</td>\n",
       "      <td>8</td>\n",
       "      <td>9345.0</td>\n",
       "      <td>195.000000</td>\n",
       "      <td>0.020867</td>\n",
       "      <td>8</td>\n",
       "      <td>2.010202e+17</td>\n",
       "      <td>吉林</td>\n",
       "      <td>白城</td>\n",
       "      <td>镇贵</td>\n",
       "      <td>137300</td>\n",
       "      <td>1.0</td>\n",
       "      <td>45.849167</td>\n",
       "      <td>123.197500</td>\n",
       "      <td>3.0</td>\n",
       "      <td>(5-8] 万</td>\n",
       "      <td>本人</td>\n",
       "      <td>男</td>\n",
       "      <td>1970.0</td>\n",
       "      <td>全职工作</td>\n",
       "      <td>国家机关或事业单位</td>\n",
       "      <td>公务员</td>\n",
       "      <td>公共管理,社会保障和社会组织</td>\n",
       "      <td>汉族</td>\n",
       "      <td>大专</td>\n",
       "      <td>15.0</td>\n",
       "      <td>12.0</td>\n",
       "      <td>城市（县级市及以上）</td>\n",
       "      <td>多层住宅（4-6层）</td>\n",
       "      <td>6.0</td>\n",
       "      <td>一层</td>\n",
       "      <td>2004.0</td>\n",
       "      <td>7.0</td>\n",
       "      <td>自有</td>\n",
       "      <td>6.0</td>\n",
       "      <td>2000-2009</td>\n",
       "      <td>砖泥混合</td>\n",
       "      <td>瓦片</td>\n",
       "      <td>① ≤2.8米</td>\n",
       "      <td>(70-90] m</td>\n",
       "      <td>(50-70] m2</td>\n",
       "      <td>1.0</td>\n",
       "      <td>1.0</td>\n",
       "      <td>没有更换过</td>\n",
       "      <td>有</td>\n",
       "      <td>有</td>\n",
       "      <td>没有</td>\n",
       "      <td>NaN</td>\n",
       "      <td>没有</td>\n",
       "      <td>没有</td>\n",
       "      <td>(6,7] 小时</td>\n",
       "      <td>&gt;8小时</td>\n",
       "      <td>265.009705</td>\n",
       "      <td>31.0</td>\n",
       "      <td>13</td>\n",
       "      <td>13</td>\n",
       "      <td>34.0</td>\n",
       "      <td>62.0</td>\n",
       "      <td>4.0</td>\n",
       "      <td>白城</td>\n",
       "      <td>镇贵</td>\n",
       "      <td>True</td>\n",
       "      <td>False</td>\n",
       "      <td>1</td>\n",
       "      <td>True</td>\n",
       "      <td>1.0</td>\n",
       "      <td>1.0</td>\n",
       "      <td>0.0</td>\n",
       "      <td>38.0</td>\n",
       "      <td>Built-up/Urban</td>\n",
       "      <td>Built-up/Urban</td>\n",
       "      <td>Built-up/Urban</td>\n",
       "      <td>Built-up/Urban</td>\n",
       "      <td>70230.140625</td>\n",
       "    </tr>\n",
       "    <tr>\n",
       "      <th>4868</th>\n",
       "      <td>406</td>\n",
       "      <td>9</td>\n",
       "      <td>2641.0</td>\n",
       "      <td>1513.290039</td>\n",
       "      <td>0.572999</td>\n",
       "      <td>9</td>\n",
       "      <td>2.011201e+17</td>\n",
       "      <td>湖北</td>\n",
       "      <td>武汉市</td>\n",
       "      <td>武昌区</td>\n",
       "      <td>430071</td>\n",
       "      <td>3.0</td>\n",
       "      <td>30.554167</td>\n",
       "      <td>114.316111</td>\n",
       "      <td>3.0</td>\n",
       "      <td>(5-8] 万</td>\n",
       "      <td>本人</td>\n",
       "      <td>男</td>\n",
       "      <td>1967.0</td>\n",
       "      <td>全职工作</td>\n",
       "      <td>国家机关或事业单位</td>\n",
       "      <td>事业单位职工</td>\n",
       "      <td>文化,体育和娱乐业</td>\n",
       "      <td>汉族</td>\n",
       "      <td>大学</td>\n",
       "      <td>16.0</td>\n",
       "      <td>12.0</td>\n",
       "      <td>城市（县级市及以上）</td>\n",
       "      <td>高层住宅（11-30层）</td>\n",
       "      <td>17.0</td>\n",
       "      <td>两层</td>\n",
       "      <td>2007.0</td>\n",
       "      <td>7.0</td>\n",
       "      <td>自有</td>\n",
       "      <td>2.0</td>\n",
       "      <td>2000-2009</td>\n",
       "      <td>混凝土</td>\n",
       "      <td>混凝土</td>\n",
       "      <td>① ≤2.8米</td>\n",
       "      <td>(180-250] m2</td>\n",
       "      <td>(180-250] m2</td>\n",
       "      <td>3.0</td>\n",
       "      <td>1.0</td>\n",
       "      <td>没有更换过</td>\n",
       "      <td>有</td>\n",
       "      <td>没有</td>\n",
       "      <td>没有</td>\n",
       "      <td>没有</td>\n",
       "      <td>没有</td>\n",
       "      <td>没有</td>\n",
       "      <td>(5,6] 小时</td>\n",
       "      <td>(2,3] 小时</td>\n",
       "      <td>206.986832</td>\n",
       "      <td>22.0</td>\n",
       "      <td>13</td>\n",
       "      <td>13</td>\n",
       "      <td>26.0</td>\n",
       "      <td>68.0</td>\n",
       "      <td>6.0</td>\n",
       "      <td>武汉市</td>\n",
       "      <td>武昌区</td>\n",
       "      <td>False</td>\n",
       "      <td>False</td>\n",
       "      <td>1</td>\n",
       "      <td>True</td>\n",
       "      <td>1.0</td>\n",
       "      <td>1.0</td>\n",
       "      <td>0.0</td>\n",
       "      <td>32.0</td>\n",
       "      <td>Built-up/Urban</td>\n",
       "      <td>Built-up/Urban</td>\n",
       "      <td>Built-up/Urban</td>\n",
       "      <td>Built-up/Urban</td>\n",
       "      <td>42843.546875</td>\n",
       "    </tr>\n",
       "  </tbody>\n",
       "</table>\n",
       "</div>"
      ],
      "text/plain": [
       "       ID  month  elec_use    elec_bill     price  Month        serial  \\\n",
       "2335  195      8    9345.0   195.000000  0.020867      8  2.010202e+17   \n",
       "4868  406      9    2641.0  1513.290039  0.572999      9  2.011201e+17   \n",
       "\n",
       "     province city county  zipcode  respondent   latitude   longitude  fsize  \\\n",
       "2335       吉林   白城     镇贵   137300         1.0  45.849167  123.197500    3.0   \n",
       "4868       湖北  武汉市    武昌区   430071         3.0  30.554167  114.316111    3.0   \n",
       "\n",
       "       income rltn_to_HoH sex  birthyr employment   employer occupation  \\\n",
       "2335  (5-8] 万          本人   男   1970.0       全职工作  国家机关或事业单位        公务员   \n",
       "4868  (5-8] 万          本人   男   1967.0       全职工作  国家机关或事业单位     事业单位职工   \n",
       "\n",
       "              sector ethnicity edu_lvl  edu_yrs  mths_at_home       urban  \\\n",
       "2335  公共管理,社会保障和社会组织        汉族      大专     15.0          12.0  城市（县级市及以上）   \n",
       "4868       文化,体育和娱乐业        汉族      大学     16.0          12.0  城市（县级市及以上）   \n",
       "\n",
       "            bldlvl  level stories  moveinyr  daystyd own  owntyp      bltyr  \\\n",
       "2335    多层住宅（4-6层）    6.0      一层    2004.0      7.0  自有     6.0  2000-2009   \n",
       "4868  高层住宅（11-30层）   17.0      两层    2007.0      7.0  自有     2.0  2000-2009   \n",
       "\n",
       "      wall roof   height          size         size2  bathroom  balcony  \\\n",
       "2335  砖泥混合   瓦片  ① ≤2.8米     (70-90] m    (50-70] m2       1.0      1.0   \n",
       "4868   混凝土  混凝土  ① ≤2.8米  (180-250] m2  (180-250] m2       3.0      1.0   \n",
       "\n",
       "     newwdw window_D wall_D insltn_D bsmt_D attic_D garage_D    dlgt_w  \\\n",
       "2335  没有更换过        有      有       没有    NaN      没有       没有  (6,7] 小时   \n",
       "4868  没有更换过        有     没有       没有     没有      没有       没有  (5,6] 小时   \n",
       "\n",
       "        dlgt_s  DD_monthly  goodday_count  LC_Type1  LC_Type2  NonTree_Vege  \\\n",
       "2335      >8小时  265.009705           31.0        13        13          34.0   \n",
       "4868  (2,3] 小时  206.986832           22.0        13        13          26.0   \n",
       "\n",
       "      NonVege  Tree_Cover city_ county_  is_north  is_south  summer  \\\n",
       "2335     62.0         4.0    白城      镇贵      True     False       1   \n",
       "4868     68.0         6.0   武汉市     武昌区     False     False       1   \n",
       "\n",
       "      is_summer  new  is_new   sf  Vege_Cover       LC_Type2s        LC_Type3  \\\n",
       "2335       True  1.0     1.0  0.0        38.0  Built-up/Urban  Built-up/Urban   \n",
       "4868       True  1.0     1.0  0.0        32.0  Built-up/Urban  Built-up/Urban   \n",
       "\n",
       "            LC_Type4        LC_Type5         DD_sq  \n",
       "2335  Built-up/Urban  Built-up/Urban  70230.140625  \n",
       "4868  Built-up/Urban  Built-up/Urban  42843.546875  "
      ]
     },
     "execution_count": 1519,
     "metadata": {},
     "output_type": "execute_result"
    }
   ],
   "source": [
    "master1[master1.elec_use > 2000]"
   ]
  },
  {
   "cell_type": "code",
   "execution_count": 1520,
   "metadata": {},
   "outputs": [
    {
     "data": {
      "text/html": [
       "<div>\n",
       "<style scoped>\n",
       "    .dataframe tbody tr th:only-of-type {\n",
       "        vertical-align: middle;\n",
       "    }\n",
       "\n",
       "    .dataframe tbody tr th {\n",
       "        vertical-align: top;\n",
       "    }\n",
       "\n",
       "    .dataframe thead th {\n",
       "        text-align: right;\n",
       "    }\n",
       "</style>\n",
       "<table border=\"1\" class=\"dataframe\">\n",
       "  <thead>\n",
       "    <tr style=\"text-align: right;\">\n",
       "      <th></th>\n",
       "      <th>ID</th>\n",
       "      <th>month</th>\n",
       "      <th>elec_use</th>\n",
       "      <th>elec_bill</th>\n",
       "      <th>price</th>\n",
       "      <th>Month</th>\n",
       "      <th>serial</th>\n",
       "      <th>province</th>\n",
       "      <th>city</th>\n",
       "      <th>county</th>\n",
       "      <th>zipcode</th>\n",
       "      <th>respondent</th>\n",
       "      <th>latitude</th>\n",
       "      <th>longitude</th>\n",
       "      <th>fsize</th>\n",
       "      <th>income</th>\n",
       "      <th>rltn_to_HoH</th>\n",
       "      <th>sex</th>\n",
       "      <th>birthyr</th>\n",
       "      <th>employment</th>\n",
       "      <th>employer</th>\n",
       "      <th>occupation</th>\n",
       "      <th>sector</th>\n",
       "      <th>ethnicity</th>\n",
       "      <th>edu_lvl</th>\n",
       "      <th>edu_yrs</th>\n",
       "      <th>mths_at_home</th>\n",
       "      <th>urban</th>\n",
       "      <th>bldlvl</th>\n",
       "      <th>level</th>\n",
       "      <th>stories</th>\n",
       "      <th>moveinyr</th>\n",
       "      <th>daystyd</th>\n",
       "      <th>own</th>\n",
       "      <th>owntyp</th>\n",
       "      <th>bltyr</th>\n",
       "      <th>wall</th>\n",
       "      <th>roof</th>\n",
       "      <th>height</th>\n",
       "      <th>size</th>\n",
       "      <th>size2</th>\n",
       "      <th>bathroom</th>\n",
       "      <th>balcony</th>\n",
       "      <th>newwdw</th>\n",
       "      <th>window_D</th>\n",
       "      <th>wall_D</th>\n",
       "      <th>insltn_D</th>\n",
       "      <th>bsmt_D</th>\n",
       "      <th>attic_D</th>\n",
       "      <th>garage_D</th>\n",
       "      <th>dlgt_w</th>\n",
       "      <th>dlgt_s</th>\n",
       "      <th>DD_monthly</th>\n",
       "      <th>goodday_count</th>\n",
       "      <th>LC_Type1</th>\n",
       "      <th>LC_Type2</th>\n",
       "      <th>NonTree_Vege</th>\n",
       "      <th>NonVege</th>\n",
       "      <th>Tree_Cover</th>\n",
       "      <th>city_</th>\n",
       "      <th>county_</th>\n",
       "      <th>is_north</th>\n",
       "      <th>is_south</th>\n",
       "      <th>summer</th>\n",
       "      <th>is_summer</th>\n",
       "      <th>new</th>\n",
       "      <th>is_new</th>\n",
       "      <th>sf</th>\n",
       "      <th>Vege_Cover</th>\n",
       "      <th>LC_Type2s</th>\n",
       "      <th>LC_Type3</th>\n",
       "      <th>LC_Type4</th>\n",
       "      <th>LC_Type5</th>\n",
       "      <th>DD_sq</th>\n",
       "    </tr>\n",
       "  </thead>\n",
       "  <tbody>\n",
       "    <tr>\n",
       "      <th>2328</th>\n",
       "      <td>195</td>\n",
       "      <td>1</td>\n",
       "      <td>178.0</td>\n",
       "      <td>99.019997</td>\n",
       "      <td>0.556292</td>\n",
       "      <td>1</td>\n",
       "      <td>2.010202e+17</td>\n",
       "      <td>吉林</td>\n",
       "      <td>白城</td>\n",
       "      <td>镇贵</td>\n",
       "      <td>137300</td>\n",
       "      <td>1.0</td>\n",
       "      <td>45.849167</td>\n",
       "      <td>123.197500</td>\n",
       "      <td>3.0</td>\n",
       "      <td>(5-8] 万</td>\n",
       "      <td>本人</td>\n",
       "      <td>男</td>\n",
       "      <td>1970.0</td>\n",
       "      <td>全职工作</td>\n",
       "      <td>国家机关或事业单位</td>\n",
       "      <td>公务员</td>\n",
       "      <td>公共管理,社会保障和社会组织</td>\n",
       "      <td>汉族</td>\n",
       "      <td>大专</td>\n",
       "      <td>15.0</td>\n",
       "      <td>12.0</td>\n",
       "      <td>城市（县级市及以上）</td>\n",
       "      <td>多层住宅（4-6层）</td>\n",
       "      <td>6.0</td>\n",
       "      <td>一层</td>\n",
       "      <td>2004.0</td>\n",
       "      <td>7.0</td>\n",
       "      <td>自有</td>\n",
       "      <td>6.0</td>\n",
       "      <td>2000-2009</td>\n",
       "      <td>砖泥混合</td>\n",
       "      <td>瓦片</td>\n",
       "      <td>① ≤2.8米</td>\n",
       "      <td>(70-90] m</td>\n",
       "      <td>(50-70] m2</td>\n",
       "      <td>1.0</td>\n",
       "      <td>1.0</td>\n",
       "      <td>没有更换过</td>\n",
       "      <td>有</td>\n",
       "      <td>有</td>\n",
       "      <td>没有</td>\n",
       "      <td>NaN</td>\n",
       "      <td>没有</td>\n",
       "      <td>没有</td>\n",
       "      <td>(6,7] 小时</td>\n",
       "      <td>&gt;8小时</td>\n",
       "      <td>1074.959839</td>\n",
       "      <td>31.0</td>\n",
       "      <td>13</td>\n",
       "      <td>13</td>\n",
       "      <td>34.0</td>\n",
       "      <td>62.0</td>\n",
       "      <td>4.0</td>\n",
       "      <td>白城</td>\n",
       "      <td>镇贵</td>\n",
       "      <td>True</td>\n",
       "      <td>False</td>\n",
       "      <td>0</td>\n",
       "      <td>False</td>\n",
       "      <td>1.0</td>\n",
       "      <td>1.0</td>\n",
       "      <td>0.0</td>\n",
       "      <td>38.0</td>\n",
       "      <td>Built-up/Urban</td>\n",
       "      <td>Built-up/Urban</td>\n",
       "      <td>Built-up/Urban</td>\n",
       "      <td>Built-up/Urban</td>\n",
       "      <td>1.155539e+06</td>\n",
       "    </tr>\n",
       "    <tr>\n",
       "      <th>2329</th>\n",
       "      <td>195</td>\n",
       "      <td>2</td>\n",
       "      <td>NaN</td>\n",
       "      <td>NaN</td>\n",
       "      <td>NaN</td>\n",
       "      <td>2</td>\n",
       "      <td>2.010202e+17</td>\n",
       "      <td>吉林</td>\n",
       "      <td>白城</td>\n",
       "      <td>镇贵</td>\n",
       "      <td>137300</td>\n",
       "      <td>1.0</td>\n",
       "      <td>45.849167</td>\n",
       "      <td>123.197500</td>\n",
       "      <td>3.0</td>\n",
       "      <td>(5-8] 万</td>\n",
       "      <td>本人</td>\n",
       "      <td>男</td>\n",
       "      <td>1970.0</td>\n",
       "      <td>全职工作</td>\n",
       "      <td>国家机关或事业单位</td>\n",
       "      <td>公务员</td>\n",
       "      <td>公共管理,社会保障和社会组织</td>\n",
       "      <td>汉族</td>\n",
       "      <td>大专</td>\n",
       "      <td>15.0</td>\n",
       "      <td>12.0</td>\n",
       "      <td>城市（县级市及以上）</td>\n",
       "      <td>多层住宅（4-6层）</td>\n",
       "      <td>6.0</td>\n",
       "      <td>一层</td>\n",
       "      <td>2004.0</td>\n",
       "      <td>7.0</td>\n",
       "      <td>自有</td>\n",
       "      <td>6.0</td>\n",
       "      <td>2000-2009</td>\n",
       "      <td>砖泥混合</td>\n",
       "      <td>瓦片</td>\n",
       "      <td>① ≤2.8米</td>\n",
       "      <td>(70-90] m</td>\n",
       "      <td>(50-70] m2</td>\n",
       "      <td>1.0</td>\n",
       "      <td>1.0</td>\n",
       "      <td>没有更换过</td>\n",
       "      <td>有</td>\n",
       "      <td>有</td>\n",
       "      <td>没有</td>\n",
       "      <td>NaN</td>\n",
       "      <td>没有</td>\n",
       "      <td>没有</td>\n",
       "      <td>(6,7] 小时</td>\n",
       "      <td>&gt;8小时</td>\n",
       "      <td>814.999451</td>\n",
       "      <td>29.0</td>\n",
       "      <td>13</td>\n",
       "      <td>13</td>\n",
       "      <td>34.0</td>\n",
       "      <td>62.0</td>\n",
       "      <td>4.0</td>\n",
       "      <td>白城</td>\n",
       "      <td>镇贵</td>\n",
       "      <td>True</td>\n",
       "      <td>False</td>\n",
       "      <td>0</td>\n",
       "      <td>False</td>\n",
       "      <td>1.0</td>\n",
       "      <td>1.0</td>\n",
       "      <td>0.0</td>\n",
       "      <td>38.0</td>\n",
       "      <td>Built-up/Urban</td>\n",
       "      <td>Built-up/Urban</td>\n",
       "      <td>Built-up/Urban</td>\n",
       "      <td>Built-up/Urban</td>\n",
       "      <td>6.642241e+05</td>\n",
       "    </tr>\n",
       "    <tr>\n",
       "      <th>2330</th>\n",
       "      <td>195</td>\n",
       "      <td>3</td>\n",
       "      <td>NaN</td>\n",
       "      <td>NaN</td>\n",
       "      <td>NaN</td>\n",
       "      <td>3</td>\n",
       "      <td>2.010202e+17</td>\n",
       "      <td>吉林</td>\n",
       "      <td>白城</td>\n",
       "      <td>镇贵</td>\n",
       "      <td>137300</td>\n",
       "      <td>1.0</td>\n",
       "      <td>45.849167</td>\n",
       "      <td>123.197500</td>\n",
       "      <td>3.0</td>\n",
       "      <td>(5-8] 万</td>\n",
       "      <td>本人</td>\n",
       "      <td>男</td>\n",
       "      <td>1970.0</td>\n",
       "      <td>全职工作</td>\n",
       "      <td>国家机关或事业单位</td>\n",
       "      <td>公务员</td>\n",
       "      <td>公共管理,社会保障和社会组织</td>\n",
       "      <td>汉族</td>\n",
       "      <td>大专</td>\n",
       "      <td>15.0</td>\n",
       "      <td>12.0</td>\n",
       "      <td>城市（县级市及以上）</td>\n",
       "      <td>多层住宅（4-6层）</td>\n",
       "      <td>6.0</td>\n",
       "      <td>一层</td>\n",
       "      <td>2004.0</td>\n",
       "      <td>7.0</td>\n",
       "      <td>自有</td>\n",
       "      <td>6.0</td>\n",
       "      <td>2000-2009</td>\n",
       "      <td>砖泥混合</td>\n",
       "      <td>瓦片</td>\n",
       "      <td>① ≤2.8米</td>\n",
       "      <td>(70-90] m</td>\n",
       "      <td>(50-70] m2</td>\n",
       "      <td>1.0</td>\n",
       "      <td>1.0</td>\n",
       "      <td>没有更换过</td>\n",
       "      <td>有</td>\n",
       "      <td>有</td>\n",
       "      <td>没有</td>\n",
       "      <td>NaN</td>\n",
       "      <td>没有</td>\n",
       "      <td>没有</td>\n",
       "      <td>(6,7] 小时</td>\n",
       "      <td>&gt;8小时</td>\n",
       "      <td>575.029907</td>\n",
       "      <td>31.0</td>\n",
       "      <td>13</td>\n",
       "      <td>13</td>\n",
       "      <td>34.0</td>\n",
       "      <td>62.0</td>\n",
       "      <td>4.0</td>\n",
       "      <td>白城</td>\n",
       "      <td>镇贵</td>\n",
       "      <td>True</td>\n",
       "      <td>False</td>\n",
       "      <td>0</td>\n",
       "      <td>False</td>\n",
       "      <td>1.0</td>\n",
       "      <td>1.0</td>\n",
       "      <td>0.0</td>\n",
       "      <td>38.0</td>\n",
       "      <td>Built-up/Urban</td>\n",
       "      <td>Built-up/Urban</td>\n",
       "      <td>Built-up/Urban</td>\n",
       "      <td>Built-up/Urban</td>\n",
       "      <td>3.306594e+05</td>\n",
       "    </tr>\n",
       "    <tr>\n",
       "      <th>2331</th>\n",
       "      <td>195</td>\n",
       "      <td>4</td>\n",
       "      <td>NaN</td>\n",
       "      <td>NaN</td>\n",
       "      <td>NaN</td>\n",
       "      <td>4</td>\n",
       "      <td>2.010202e+17</td>\n",
       "      <td>吉林</td>\n",
       "      <td>白城</td>\n",
       "      <td>镇贵</td>\n",
       "      <td>137300</td>\n",
       "      <td>1.0</td>\n",
       "      <td>45.849167</td>\n",
       "      <td>123.197500</td>\n",
       "      <td>3.0</td>\n",
       "      <td>(5-8] 万</td>\n",
       "      <td>本人</td>\n",
       "      <td>男</td>\n",
       "      <td>1970.0</td>\n",
       "      <td>全职工作</td>\n",
       "      <td>国家机关或事业单位</td>\n",
       "      <td>公务员</td>\n",
       "      <td>公共管理,社会保障和社会组织</td>\n",
       "      <td>汉族</td>\n",
       "      <td>大专</td>\n",
       "      <td>15.0</td>\n",
       "      <td>12.0</td>\n",
       "      <td>城市（县级市及以上）</td>\n",
       "      <td>多层住宅（4-6层）</td>\n",
       "      <td>6.0</td>\n",
       "      <td>一层</td>\n",
       "      <td>2004.0</td>\n",
       "      <td>7.0</td>\n",
       "      <td>自有</td>\n",
       "      <td>6.0</td>\n",
       "      <td>2000-2009</td>\n",
       "      <td>砖泥混合</td>\n",
       "      <td>瓦片</td>\n",
       "      <td>① ≤2.8米</td>\n",
       "      <td>(70-90] m</td>\n",
       "      <td>(50-70] m2</td>\n",
       "      <td>1.0</td>\n",
       "      <td>1.0</td>\n",
       "      <td>没有更换过</td>\n",
       "      <td>有</td>\n",
       "      <td>有</td>\n",
       "      <td>没有</td>\n",
       "      <td>NaN</td>\n",
       "      <td>没有</td>\n",
       "      <td>没有</td>\n",
       "      <td>(6,7] 小时</td>\n",
       "      <td>&gt;8小时</td>\n",
       "      <td>181.199509</td>\n",
       "      <td>30.0</td>\n",
       "      <td>13</td>\n",
       "      <td>13</td>\n",
       "      <td>34.0</td>\n",
       "      <td>62.0</td>\n",
       "      <td>4.0</td>\n",
       "      <td>白城</td>\n",
       "      <td>镇贵</td>\n",
       "      <td>True</td>\n",
       "      <td>False</td>\n",
       "      <td>1</td>\n",
       "      <td>True</td>\n",
       "      <td>1.0</td>\n",
       "      <td>1.0</td>\n",
       "      <td>0.0</td>\n",
       "      <td>38.0</td>\n",
       "      <td>Built-up/Urban</td>\n",
       "      <td>Built-up/Urban</td>\n",
       "      <td>Built-up/Urban</td>\n",
       "      <td>Built-up/Urban</td>\n",
       "      <td>3.283326e+04</td>\n",
       "    </tr>\n",
       "    <tr>\n",
       "      <th>2332</th>\n",
       "      <td>195</td>\n",
       "      <td>5</td>\n",
       "      <td>NaN</td>\n",
       "      <td>89.250000</td>\n",
       "      <td>NaN</td>\n",
       "      <td>5</td>\n",
       "      <td>2.010202e+17</td>\n",
       "      <td>吉林</td>\n",
       "      <td>白城</td>\n",
       "      <td>镇贵</td>\n",
       "      <td>137300</td>\n",
       "      <td>1.0</td>\n",
       "      <td>45.849167</td>\n",
       "      <td>123.197500</td>\n",
       "      <td>3.0</td>\n",
       "      <td>(5-8] 万</td>\n",
       "      <td>本人</td>\n",
       "      <td>男</td>\n",
       "      <td>1970.0</td>\n",
       "      <td>全职工作</td>\n",
       "      <td>国家机关或事业单位</td>\n",
       "      <td>公务员</td>\n",
       "      <td>公共管理,社会保障和社会组织</td>\n",
       "      <td>汉族</td>\n",
       "      <td>大专</td>\n",
       "      <td>15.0</td>\n",
       "      <td>12.0</td>\n",
       "      <td>城市（县级市及以上）</td>\n",
       "      <td>多层住宅（4-6层）</td>\n",
       "      <td>6.0</td>\n",
       "      <td>一层</td>\n",
       "      <td>2004.0</td>\n",
       "      <td>7.0</td>\n",
       "      <td>自有</td>\n",
       "      <td>6.0</td>\n",
       "      <td>2000-2009</td>\n",
       "      <td>砖泥混合</td>\n",
       "      <td>瓦片</td>\n",
       "      <td>① ≤2.8米</td>\n",
       "      <td>(70-90] m</td>\n",
       "      <td>(50-70] m2</td>\n",
       "      <td>1.0</td>\n",
       "      <td>1.0</td>\n",
       "      <td>没有更换过</td>\n",
       "      <td>有</td>\n",
       "      <td>有</td>\n",
       "      <td>没有</td>\n",
       "      <td>NaN</td>\n",
       "      <td>没有</td>\n",
       "      <td>没有</td>\n",
       "      <td>(6,7] 小时</td>\n",
       "      <td>&gt;8小时</td>\n",
       "      <td>92.870216</td>\n",
       "      <td>31.0</td>\n",
       "      <td>13</td>\n",
       "      <td>13</td>\n",
       "      <td>34.0</td>\n",
       "      <td>62.0</td>\n",
       "      <td>4.0</td>\n",
       "      <td>白城</td>\n",
       "      <td>镇贵</td>\n",
       "      <td>True</td>\n",
       "      <td>False</td>\n",
       "      <td>1</td>\n",
       "      <td>True</td>\n",
       "      <td>1.0</td>\n",
       "      <td>1.0</td>\n",
       "      <td>0.0</td>\n",
       "      <td>38.0</td>\n",
       "      <td>Built-up/Urban</td>\n",
       "      <td>Built-up/Urban</td>\n",
       "      <td>Built-up/Urban</td>\n",
       "      <td>Built-up/Urban</td>\n",
       "      <td>8.624877e+03</td>\n",
       "    </tr>\n",
       "    <tr>\n",
       "      <th>2333</th>\n",
       "      <td>195</td>\n",
       "      <td>6</td>\n",
       "      <td>NaN</td>\n",
       "      <td>9.770000</td>\n",
       "      <td>NaN</td>\n",
       "      <td>6</td>\n",
       "      <td>2.010202e+17</td>\n",
       "      <td>吉林</td>\n",
       "      <td>白城</td>\n",
       "      <td>镇贵</td>\n",
       "      <td>137300</td>\n",
       "      <td>1.0</td>\n",
       "      <td>45.849167</td>\n",
       "      <td>123.197500</td>\n",
       "      <td>3.0</td>\n",
       "      <td>(5-8] 万</td>\n",
       "      <td>本人</td>\n",
       "      <td>男</td>\n",
       "      <td>1970.0</td>\n",
       "      <td>全职工作</td>\n",
       "      <td>国家机关或事业单位</td>\n",
       "      <td>公务员</td>\n",
       "      <td>公共管理,社会保障和社会组织</td>\n",
       "      <td>汉族</td>\n",
       "      <td>大专</td>\n",
       "      <td>15.0</td>\n",
       "      <td>12.0</td>\n",
       "      <td>城市（县级市及以上）</td>\n",
       "      <td>多层住宅（4-6层）</td>\n",
       "      <td>6.0</td>\n",
       "      <td>一层</td>\n",
       "      <td>2004.0</td>\n",
       "      <td>7.0</td>\n",
       "      <td>自有</td>\n",
       "      <td>6.0</td>\n",
       "      <td>2000-2009</td>\n",
       "      <td>砖泥混合</td>\n",
       "      <td>瓦片</td>\n",
       "      <td>① ≤2.8米</td>\n",
       "      <td>(70-90] m</td>\n",
       "      <td>(50-70] m2</td>\n",
       "      <td>1.0</td>\n",
       "      <td>1.0</td>\n",
       "      <td>没有更换过</td>\n",
       "      <td>有</td>\n",
       "      <td>有</td>\n",
       "      <td>没有</td>\n",
       "      <td>NaN</td>\n",
       "      <td>没有</td>\n",
       "      <td>没有</td>\n",
       "      <td>(6,7] 小时</td>\n",
       "      <td>&gt;8小时</td>\n",
       "      <td>228.020157</td>\n",
       "      <td>30.0</td>\n",
       "      <td>13</td>\n",
       "      <td>13</td>\n",
       "      <td>34.0</td>\n",
       "      <td>62.0</td>\n",
       "      <td>4.0</td>\n",
       "      <td>白城</td>\n",
       "      <td>镇贵</td>\n",
       "      <td>True</td>\n",
       "      <td>False</td>\n",
       "      <td>1</td>\n",
       "      <td>True</td>\n",
       "      <td>1.0</td>\n",
       "      <td>1.0</td>\n",
       "      <td>0.0</td>\n",
       "      <td>38.0</td>\n",
       "      <td>Built-up/Urban</td>\n",
       "      <td>Built-up/Urban</td>\n",
       "      <td>Built-up/Urban</td>\n",
       "      <td>Built-up/Urban</td>\n",
       "      <td>5.199319e+04</td>\n",
       "    </tr>\n",
       "    <tr>\n",
       "      <th>2334</th>\n",
       "      <td>195</td>\n",
       "      <td>7</td>\n",
       "      <td>NaN</td>\n",
       "      <td>NaN</td>\n",
       "      <td>NaN</td>\n",
       "      <td>7</td>\n",
       "      <td>2.010202e+17</td>\n",
       "      <td>吉林</td>\n",
       "      <td>白城</td>\n",
       "      <td>镇贵</td>\n",
       "      <td>137300</td>\n",
       "      <td>1.0</td>\n",
       "      <td>45.849167</td>\n",
       "      <td>123.197500</td>\n",
       "      <td>3.0</td>\n",
       "      <td>(5-8] 万</td>\n",
       "      <td>本人</td>\n",
       "      <td>男</td>\n",
       "      <td>1970.0</td>\n",
       "      <td>全职工作</td>\n",
       "      <td>国家机关或事业单位</td>\n",
       "      <td>公务员</td>\n",
       "      <td>公共管理,社会保障和社会组织</td>\n",
       "      <td>汉族</td>\n",
       "      <td>大专</td>\n",
       "      <td>15.0</td>\n",
       "      <td>12.0</td>\n",
       "      <td>城市（县级市及以上）</td>\n",
       "      <td>多层住宅（4-6层）</td>\n",
       "      <td>6.0</td>\n",
       "      <td>一层</td>\n",
       "      <td>2004.0</td>\n",
       "      <td>7.0</td>\n",
       "      <td>自有</td>\n",
       "      <td>6.0</td>\n",
       "      <td>2000-2009</td>\n",
       "      <td>砖泥混合</td>\n",
       "      <td>瓦片</td>\n",
       "      <td>① ≤2.8米</td>\n",
       "      <td>(70-90] m</td>\n",
       "      <td>(50-70] m2</td>\n",
       "      <td>1.0</td>\n",
       "      <td>1.0</td>\n",
       "      <td>没有更换过</td>\n",
       "      <td>有</td>\n",
       "      <td>有</td>\n",
       "      <td>没有</td>\n",
       "      <td>NaN</td>\n",
       "      <td>没有</td>\n",
       "      <td>没有</td>\n",
       "      <td>(6,7] 小时</td>\n",
       "      <td>&gt;8小时</td>\n",
       "      <td>300.099457</td>\n",
       "      <td>31.0</td>\n",
       "      <td>13</td>\n",
       "      <td>13</td>\n",
       "      <td>34.0</td>\n",
       "      <td>62.0</td>\n",
       "      <td>4.0</td>\n",
       "      <td>白城</td>\n",
       "      <td>镇贵</td>\n",
       "      <td>True</td>\n",
       "      <td>False</td>\n",
       "      <td>1</td>\n",
       "      <td>True</td>\n",
       "      <td>1.0</td>\n",
       "      <td>1.0</td>\n",
       "      <td>0.0</td>\n",
       "      <td>38.0</td>\n",
       "      <td>Built-up/Urban</td>\n",
       "      <td>Built-up/Urban</td>\n",
       "      <td>Built-up/Urban</td>\n",
       "      <td>Built-up/Urban</td>\n",
       "      <td>9.005969e+04</td>\n",
       "    </tr>\n",
       "    <tr>\n",
       "      <th>2335</th>\n",
       "      <td>195</td>\n",
       "      <td>8</td>\n",
       "      <td>9345.0</td>\n",
       "      <td>195.000000</td>\n",
       "      <td>0.020867</td>\n",
       "      <td>8</td>\n",
       "      <td>2.010202e+17</td>\n",
       "      <td>吉林</td>\n",
       "      <td>白城</td>\n",
       "      <td>镇贵</td>\n",
       "      <td>137300</td>\n",
       "      <td>1.0</td>\n",
       "      <td>45.849167</td>\n",
       "      <td>123.197500</td>\n",
       "      <td>3.0</td>\n",
       "      <td>(5-8] 万</td>\n",
       "      <td>本人</td>\n",
       "      <td>男</td>\n",
       "      <td>1970.0</td>\n",
       "      <td>全职工作</td>\n",
       "      <td>国家机关或事业单位</td>\n",
       "      <td>公务员</td>\n",
       "      <td>公共管理,社会保障和社会组织</td>\n",
       "      <td>汉族</td>\n",
       "      <td>大专</td>\n",
       "      <td>15.0</td>\n",
       "      <td>12.0</td>\n",
       "      <td>城市（县级市及以上）</td>\n",
       "      <td>多层住宅（4-6层）</td>\n",
       "      <td>6.0</td>\n",
       "      <td>一层</td>\n",
       "      <td>2004.0</td>\n",
       "      <td>7.0</td>\n",
       "      <td>自有</td>\n",
       "      <td>6.0</td>\n",
       "      <td>2000-2009</td>\n",
       "      <td>砖泥混合</td>\n",
       "      <td>瓦片</td>\n",
       "      <td>① ≤2.8米</td>\n",
       "      <td>(70-90] m</td>\n",
       "      <td>(50-70] m2</td>\n",
       "      <td>1.0</td>\n",
       "      <td>1.0</td>\n",
       "      <td>没有更换过</td>\n",
       "      <td>有</td>\n",
       "      <td>有</td>\n",
       "      <td>没有</td>\n",
       "      <td>NaN</td>\n",
       "      <td>没有</td>\n",
       "      <td>没有</td>\n",
       "      <td>(6,7] 小时</td>\n",
       "      <td>&gt;8小时</td>\n",
       "      <td>265.009705</td>\n",
       "      <td>31.0</td>\n",
       "      <td>13</td>\n",
       "      <td>13</td>\n",
       "      <td>34.0</td>\n",
       "      <td>62.0</td>\n",
       "      <td>4.0</td>\n",
       "      <td>白城</td>\n",
       "      <td>镇贵</td>\n",
       "      <td>True</td>\n",
       "      <td>False</td>\n",
       "      <td>1</td>\n",
       "      <td>True</td>\n",
       "      <td>1.0</td>\n",
       "      <td>1.0</td>\n",
       "      <td>0.0</td>\n",
       "      <td>38.0</td>\n",
       "      <td>Built-up/Urban</td>\n",
       "      <td>Built-up/Urban</td>\n",
       "      <td>Built-up/Urban</td>\n",
       "      <td>Built-up/Urban</td>\n",
       "      <td>7.023014e+04</td>\n",
       "    </tr>\n",
       "    <tr>\n",
       "      <th>2336</th>\n",
       "      <td>195</td>\n",
       "      <td>9</td>\n",
       "      <td>NaN</td>\n",
       "      <td>NaN</td>\n",
       "      <td>NaN</td>\n",
       "      <td>9</td>\n",
       "      <td>2.010202e+17</td>\n",
       "      <td>吉林</td>\n",
       "      <td>白城</td>\n",
       "      <td>镇贵</td>\n",
       "      <td>137300</td>\n",
       "      <td>1.0</td>\n",
       "      <td>45.849167</td>\n",
       "      <td>123.197500</td>\n",
       "      <td>3.0</td>\n",
       "      <td>(5-8] 万</td>\n",
       "      <td>本人</td>\n",
       "      <td>男</td>\n",
       "      <td>1970.0</td>\n",
       "      <td>全职工作</td>\n",
       "      <td>国家机关或事业单位</td>\n",
       "      <td>公务员</td>\n",
       "      <td>公共管理,社会保障和社会组织</td>\n",
       "      <td>汉族</td>\n",
       "      <td>大专</td>\n",
       "      <td>15.0</td>\n",
       "      <td>12.0</td>\n",
       "      <td>城市（县级市及以上）</td>\n",
       "      <td>多层住宅（4-6层）</td>\n",
       "      <td>6.0</td>\n",
       "      <td>一层</td>\n",
       "      <td>2004.0</td>\n",
       "      <td>7.0</td>\n",
       "      <td>自有</td>\n",
       "      <td>6.0</td>\n",
       "      <td>2000-2009</td>\n",
       "      <td>砖泥混合</td>\n",
       "      <td>瓦片</td>\n",
       "      <td>① ≤2.8米</td>\n",
       "      <td>(70-90] m</td>\n",
       "      <td>(50-70] m2</td>\n",
       "      <td>1.0</td>\n",
       "      <td>1.0</td>\n",
       "      <td>没有更换过</td>\n",
       "      <td>有</td>\n",
       "      <td>有</td>\n",
       "      <td>没有</td>\n",
       "      <td>NaN</td>\n",
       "      <td>没有</td>\n",
       "      <td>没有</td>\n",
       "      <td>(6,7] 小时</td>\n",
       "      <td>&gt;8小时</td>\n",
       "      <td>73.319839</td>\n",
       "      <td>30.0</td>\n",
       "      <td>13</td>\n",
       "      <td>13</td>\n",
       "      <td>34.0</td>\n",
       "      <td>62.0</td>\n",
       "      <td>4.0</td>\n",
       "      <td>白城</td>\n",
       "      <td>镇贵</td>\n",
       "      <td>True</td>\n",
       "      <td>False</td>\n",
       "      <td>1</td>\n",
       "      <td>True</td>\n",
       "      <td>1.0</td>\n",
       "      <td>1.0</td>\n",
       "      <td>0.0</td>\n",
       "      <td>38.0</td>\n",
       "      <td>Built-up/Urban</td>\n",
       "      <td>Built-up/Urban</td>\n",
       "      <td>Built-up/Urban</td>\n",
       "      <td>Built-up/Urban</td>\n",
       "      <td>5.375799e+03</td>\n",
       "    </tr>\n",
       "    <tr>\n",
       "      <th>2337</th>\n",
       "      <td>195</td>\n",
       "      <td>10</td>\n",
       "      <td>NaN</td>\n",
       "      <td>NaN</td>\n",
       "      <td>NaN</td>\n",
       "      <td>10</td>\n",
       "      <td>2.010202e+17</td>\n",
       "      <td>吉林</td>\n",
       "      <td>白城</td>\n",
       "      <td>镇贵</td>\n",
       "      <td>137300</td>\n",
       "      <td>1.0</td>\n",
       "      <td>45.849167</td>\n",
       "      <td>123.197500</td>\n",
       "      <td>3.0</td>\n",
       "      <td>(5-8] 万</td>\n",
       "      <td>本人</td>\n",
       "      <td>男</td>\n",
       "      <td>1970.0</td>\n",
       "      <td>全职工作</td>\n",
       "      <td>国家机关或事业单位</td>\n",
       "      <td>公务员</td>\n",
       "      <td>公共管理,社会保障和社会组织</td>\n",
       "      <td>汉族</td>\n",
       "      <td>大专</td>\n",
       "      <td>15.0</td>\n",
       "      <td>12.0</td>\n",
       "      <td>城市（县级市及以上）</td>\n",
       "      <td>多层住宅（4-6层）</td>\n",
       "      <td>6.0</td>\n",
       "      <td>一层</td>\n",
       "      <td>2004.0</td>\n",
       "      <td>7.0</td>\n",
       "      <td>自有</td>\n",
       "      <td>6.0</td>\n",
       "      <td>2000-2009</td>\n",
       "      <td>砖泥混合</td>\n",
       "      <td>瓦片</td>\n",
       "      <td>① ≤2.8米</td>\n",
       "      <td>(70-90] m</td>\n",
       "      <td>(50-70] m2</td>\n",
       "      <td>1.0</td>\n",
       "      <td>1.0</td>\n",
       "      <td>没有更换过</td>\n",
       "      <td>有</td>\n",
       "      <td>有</td>\n",
       "      <td>没有</td>\n",
       "      <td>NaN</td>\n",
       "      <td>没有</td>\n",
       "      <td>没有</td>\n",
       "      <td>(6,7] 小时</td>\n",
       "      <td>&gt;8小时</td>\n",
       "      <td>337.749573</td>\n",
       "      <td>31.0</td>\n",
       "      <td>13</td>\n",
       "      <td>13</td>\n",
       "      <td>34.0</td>\n",
       "      <td>62.0</td>\n",
       "      <td>4.0</td>\n",
       "      <td>白城</td>\n",
       "      <td>镇贵</td>\n",
       "      <td>True</td>\n",
       "      <td>False</td>\n",
       "      <td>0</td>\n",
       "      <td>False</td>\n",
       "      <td>1.0</td>\n",
       "      <td>1.0</td>\n",
       "      <td>0.0</td>\n",
       "      <td>38.0</td>\n",
       "      <td>Built-up/Urban</td>\n",
       "      <td>Built-up/Urban</td>\n",
       "      <td>Built-up/Urban</td>\n",
       "      <td>Built-up/Urban</td>\n",
       "      <td>1.140748e+05</td>\n",
       "    </tr>\n",
       "    <tr>\n",
       "      <th>2338</th>\n",
       "      <td>195</td>\n",
       "      <td>11</td>\n",
       "      <td>NaN</td>\n",
       "      <td>NaN</td>\n",
       "      <td>NaN</td>\n",
       "      <td>11</td>\n",
       "      <td>2.010202e+17</td>\n",
       "      <td>吉林</td>\n",
       "      <td>白城</td>\n",
       "      <td>镇贵</td>\n",
       "      <td>137300</td>\n",
       "      <td>1.0</td>\n",
       "      <td>45.849167</td>\n",
       "      <td>123.197500</td>\n",
       "      <td>3.0</td>\n",
       "      <td>(5-8] 万</td>\n",
       "      <td>本人</td>\n",
       "      <td>男</td>\n",
       "      <td>1970.0</td>\n",
       "      <td>全职工作</td>\n",
       "      <td>国家机关或事业单位</td>\n",
       "      <td>公务员</td>\n",
       "      <td>公共管理,社会保障和社会组织</td>\n",
       "      <td>汉族</td>\n",
       "      <td>大专</td>\n",
       "      <td>15.0</td>\n",
       "      <td>12.0</td>\n",
       "      <td>城市（县级市及以上）</td>\n",
       "      <td>多层住宅（4-6层）</td>\n",
       "      <td>6.0</td>\n",
       "      <td>一层</td>\n",
       "      <td>2004.0</td>\n",
       "      <td>7.0</td>\n",
       "      <td>自有</td>\n",
       "      <td>6.0</td>\n",
       "      <td>2000-2009</td>\n",
       "      <td>砖泥混合</td>\n",
       "      <td>瓦片</td>\n",
       "      <td>① ≤2.8米</td>\n",
       "      <td>(70-90] m</td>\n",
       "      <td>(50-70] m2</td>\n",
       "      <td>1.0</td>\n",
       "      <td>1.0</td>\n",
       "      <td>没有更换过</td>\n",
       "      <td>有</td>\n",
       "      <td>有</td>\n",
       "      <td>没有</td>\n",
       "      <td>NaN</td>\n",
       "      <td>没有</td>\n",
       "      <td>没有</td>\n",
       "      <td>(6,7] 小时</td>\n",
       "      <td>&gt;8小时</td>\n",
       "      <td>746.989929</td>\n",
       "      <td>30.0</td>\n",
       "      <td>13</td>\n",
       "      <td>13</td>\n",
       "      <td>34.0</td>\n",
       "      <td>62.0</td>\n",
       "      <td>4.0</td>\n",
       "      <td>白城</td>\n",
       "      <td>镇贵</td>\n",
       "      <td>True</td>\n",
       "      <td>False</td>\n",
       "      <td>0</td>\n",
       "      <td>False</td>\n",
       "      <td>1.0</td>\n",
       "      <td>1.0</td>\n",
       "      <td>0.0</td>\n",
       "      <td>38.0</td>\n",
       "      <td>Built-up/Urban</td>\n",
       "      <td>Built-up/Urban</td>\n",
       "      <td>Built-up/Urban</td>\n",
       "      <td>Built-up/Urban</td>\n",
       "      <td>5.579939e+05</td>\n",
       "    </tr>\n",
       "    <tr>\n",
       "      <th>2339</th>\n",
       "      <td>195</td>\n",
       "      <td>12</td>\n",
       "      <td>NaN</td>\n",
       "      <td>170.000000</td>\n",
       "      <td>NaN</td>\n",
       "      <td>12</td>\n",
       "      <td>2.010202e+17</td>\n",
       "      <td>吉林</td>\n",
       "      <td>白城</td>\n",
       "      <td>镇贵</td>\n",
       "      <td>137300</td>\n",
       "      <td>1.0</td>\n",
       "      <td>45.849167</td>\n",
       "      <td>123.197500</td>\n",
       "      <td>3.0</td>\n",
       "      <td>(5-8] 万</td>\n",
       "      <td>本人</td>\n",
       "      <td>男</td>\n",
       "      <td>1970.0</td>\n",
       "      <td>全职工作</td>\n",
       "      <td>国家机关或事业单位</td>\n",
       "      <td>公务员</td>\n",
       "      <td>公共管理,社会保障和社会组织</td>\n",
       "      <td>汉族</td>\n",
       "      <td>大专</td>\n",
       "      <td>15.0</td>\n",
       "      <td>12.0</td>\n",
       "      <td>城市（县级市及以上）</td>\n",
       "      <td>多层住宅（4-6层）</td>\n",
       "      <td>6.0</td>\n",
       "      <td>一层</td>\n",
       "      <td>2004.0</td>\n",
       "      <td>7.0</td>\n",
       "      <td>自有</td>\n",
       "      <td>6.0</td>\n",
       "      <td>2000-2009</td>\n",
       "      <td>砖泥混合</td>\n",
       "      <td>瓦片</td>\n",
       "      <td>① ≤2.8米</td>\n",
       "      <td>(70-90] m</td>\n",
       "      <td>(50-70] m2</td>\n",
       "      <td>1.0</td>\n",
       "      <td>1.0</td>\n",
       "      <td>没有更换过</td>\n",
       "      <td>有</td>\n",
       "      <td>有</td>\n",
       "      <td>没有</td>\n",
       "      <td>NaN</td>\n",
       "      <td>没有</td>\n",
       "      <td>没有</td>\n",
       "      <td>(6,7] 小时</td>\n",
       "      <td>&gt;8小时</td>\n",
       "      <td>1190.871216</td>\n",
       "      <td>25.0</td>\n",
       "      <td>13</td>\n",
       "      <td>13</td>\n",
       "      <td>34.0</td>\n",
       "      <td>62.0</td>\n",
       "      <td>4.0</td>\n",
       "      <td>白城</td>\n",
       "      <td>镇贵</td>\n",
       "      <td>True</td>\n",
       "      <td>False</td>\n",
       "      <td>0</td>\n",
       "      <td>False</td>\n",
       "      <td>1.0</td>\n",
       "      <td>1.0</td>\n",
       "      <td>0.0</td>\n",
       "      <td>38.0</td>\n",
       "      <td>Built-up/Urban</td>\n",
       "      <td>Built-up/Urban</td>\n",
       "      <td>Built-up/Urban</td>\n",
       "      <td>Built-up/Urban</td>\n",
       "      <td>1.418174e+06</td>\n",
       "    </tr>\n",
       "    <tr>\n",
       "      <th>4860</th>\n",
       "      <td>406</td>\n",
       "      <td>1</td>\n",
       "      <td>1145.0</td>\n",
       "      <td>656.090027</td>\n",
       "      <td>0.573004</td>\n",
       "      <td>1</td>\n",
       "      <td>2.011201e+17</td>\n",
       "      <td>湖北</td>\n",
       "      <td>武汉市</td>\n",
       "      <td>武昌区</td>\n",
       "      <td>430071</td>\n",
       "      <td>3.0</td>\n",
       "      <td>30.554167</td>\n",
       "      <td>114.316111</td>\n",
       "      <td>3.0</td>\n",
       "      <td>(5-8] 万</td>\n",
       "      <td>本人</td>\n",
       "      <td>男</td>\n",
       "      <td>1967.0</td>\n",
       "      <td>全职工作</td>\n",
       "      <td>国家机关或事业单位</td>\n",
       "      <td>事业单位职工</td>\n",
       "      <td>文化,体育和娱乐业</td>\n",
       "      <td>汉族</td>\n",
       "      <td>大学</td>\n",
       "      <td>16.0</td>\n",
       "      <td>12.0</td>\n",
       "      <td>城市（县级市及以上）</td>\n",
       "      <td>高层住宅（11-30层）</td>\n",
       "      <td>17.0</td>\n",
       "      <td>两层</td>\n",
       "      <td>2007.0</td>\n",
       "      <td>7.0</td>\n",
       "      <td>自有</td>\n",
       "      <td>2.0</td>\n",
       "      <td>2000-2009</td>\n",
       "      <td>混凝土</td>\n",
       "      <td>混凝土</td>\n",
       "      <td>① ≤2.8米</td>\n",
       "      <td>(180-250] m2</td>\n",
       "      <td>(180-250] m2</td>\n",
       "      <td>3.0</td>\n",
       "      <td>1.0</td>\n",
       "      <td>没有更换过</td>\n",
       "      <td>有</td>\n",
       "      <td>没有</td>\n",
       "      <td>没有</td>\n",
       "      <td>没有</td>\n",
       "      <td>没有</td>\n",
       "      <td>没有</td>\n",
       "      <td>(5,6] 小时</td>\n",
       "      <td>(2,3] 小时</td>\n",
       "      <td>464.407013</td>\n",
       "      <td>23.0</td>\n",
       "      <td>13</td>\n",
       "      <td>13</td>\n",
       "      <td>26.0</td>\n",
       "      <td>68.0</td>\n",
       "      <td>6.0</td>\n",
       "      <td>武汉市</td>\n",
       "      <td>武昌区</td>\n",
       "      <td>False</td>\n",
       "      <td>False</td>\n",
       "      <td>0</td>\n",
       "      <td>False</td>\n",
       "      <td>1.0</td>\n",
       "      <td>1.0</td>\n",
       "      <td>0.0</td>\n",
       "      <td>32.0</td>\n",
       "      <td>Built-up/Urban</td>\n",
       "      <td>Built-up/Urban</td>\n",
       "      <td>Built-up/Urban</td>\n",
       "      <td>Built-up/Urban</td>\n",
       "      <td>2.156739e+05</td>\n",
       "    </tr>\n",
       "    <tr>\n",
       "      <th>4861</th>\n",
       "      <td>406</td>\n",
       "      <td>2</td>\n",
       "      <td>NaN</td>\n",
       "      <td>NaN</td>\n",
       "      <td>NaN</td>\n",
       "      <td>2</td>\n",
       "      <td>2.011201e+17</td>\n",
       "      <td>湖北</td>\n",
       "      <td>武汉市</td>\n",
       "      <td>武昌区</td>\n",
       "      <td>430071</td>\n",
       "      <td>3.0</td>\n",
       "      <td>30.554167</td>\n",
       "      <td>114.316111</td>\n",
       "      <td>3.0</td>\n",
       "      <td>(5-8] 万</td>\n",
       "      <td>本人</td>\n",
       "      <td>男</td>\n",
       "      <td>1967.0</td>\n",
       "      <td>全职工作</td>\n",
       "      <td>国家机关或事业单位</td>\n",
       "      <td>事业单位职工</td>\n",
       "      <td>文化,体育和娱乐业</td>\n",
       "      <td>汉族</td>\n",
       "      <td>大学</td>\n",
       "      <td>16.0</td>\n",
       "      <td>12.0</td>\n",
       "      <td>城市（县级市及以上）</td>\n",
       "      <td>高层住宅（11-30层）</td>\n",
       "      <td>17.0</td>\n",
       "      <td>两层</td>\n",
       "      <td>2007.0</td>\n",
       "      <td>7.0</td>\n",
       "      <td>自有</td>\n",
       "      <td>2.0</td>\n",
       "      <td>2000-2009</td>\n",
       "      <td>混凝土</td>\n",
       "      <td>混凝土</td>\n",
       "      <td>① ≤2.8米</td>\n",
       "      <td>(180-250] m2</td>\n",
       "      <td>(180-250] m2</td>\n",
       "      <td>3.0</td>\n",
       "      <td>1.0</td>\n",
       "      <td>没有更换过</td>\n",
       "      <td>有</td>\n",
       "      <td>没有</td>\n",
       "      <td>没有</td>\n",
       "      <td>没有</td>\n",
       "      <td>没有</td>\n",
       "      <td>没有</td>\n",
       "      <td>(5,6] 小时</td>\n",
       "      <td>(2,3] 小时</td>\n",
       "      <td>388.054810</td>\n",
       "      <td>25.0</td>\n",
       "      <td>13</td>\n",
       "      <td>13</td>\n",
       "      <td>26.0</td>\n",
       "      <td>68.0</td>\n",
       "      <td>6.0</td>\n",
       "      <td>武汉市</td>\n",
       "      <td>武昌区</td>\n",
       "      <td>False</td>\n",
       "      <td>False</td>\n",
       "      <td>0</td>\n",
       "      <td>False</td>\n",
       "      <td>1.0</td>\n",
       "      <td>1.0</td>\n",
       "      <td>0.0</td>\n",
       "      <td>32.0</td>\n",
       "      <td>Built-up/Urban</td>\n",
       "      <td>Built-up/Urban</td>\n",
       "      <td>Built-up/Urban</td>\n",
       "      <td>Built-up/Urban</td>\n",
       "      <td>1.505865e+05</td>\n",
       "    </tr>\n",
       "    <tr>\n",
       "      <th>4862</th>\n",
       "      <td>406</td>\n",
       "      <td>3</td>\n",
       "      <td>1487.0</td>\n",
       "      <td>852.049988</td>\n",
       "      <td>0.572999</td>\n",
       "      <td>3</td>\n",
       "      <td>2.011201e+17</td>\n",
       "      <td>湖北</td>\n",
       "      <td>武汉市</td>\n",
       "      <td>武昌区</td>\n",
       "      <td>430071</td>\n",
       "      <td>3.0</td>\n",
       "      <td>30.554167</td>\n",
       "      <td>114.316111</td>\n",
       "      <td>3.0</td>\n",
       "      <td>(5-8] 万</td>\n",
       "      <td>本人</td>\n",
       "      <td>男</td>\n",
       "      <td>1967.0</td>\n",
       "      <td>全职工作</td>\n",
       "      <td>国家机关或事业单位</td>\n",
       "      <td>事业单位职工</td>\n",
       "      <td>文化,体育和娱乐业</td>\n",
       "      <td>汉族</td>\n",
       "      <td>大学</td>\n",
       "      <td>16.0</td>\n",
       "      <td>12.0</td>\n",
       "      <td>城市（县级市及以上）</td>\n",
       "      <td>高层住宅（11-30层）</td>\n",
       "      <td>17.0</td>\n",
       "      <td>两层</td>\n",
       "      <td>2007.0</td>\n",
       "      <td>7.0</td>\n",
       "      <td>自有</td>\n",
       "      <td>2.0</td>\n",
       "      <td>2000-2009</td>\n",
       "      <td>混凝土</td>\n",
       "      <td>混凝土</td>\n",
       "      <td>① ≤2.8米</td>\n",
       "      <td>(180-250] m2</td>\n",
       "      <td>(180-250] m2</td>\n",
       "      <td>3.0</td>\n",
       "      <td>1.0</td>\n",
       "      <td>没有更换过</td>\n",
       "      <td>有</td>\n",
       "      <td>没有</td>\n",
       "      <td>没有</td>\n",
       "      <td>没有</td>\n",
       "      <td>没有</td>\n",
       "      <td>没有</td>\n",
       "      <td>(5,6] 小时</td>\n",
       "      <td>(2,3] 小时</td>\n",
       "      <td>133.153168</td>\n",
       "      <td>19.0</td>\n",
       "      <td>13</td>\n",
       "      <td>13</td>\n",
       "      <td>26.0</td>\n",
       "      <td>68.0</td>\n",
       "      <td>6.0</td>\n",
       "      <td>武汉市</td>\n",
       "      <td>武昌区</td>\n",
       "      <td>False</td>\n",
       "      <td>False</td>\n",
       "      <td>0</td>\n",
       "      <td>False</td>\n",
       "      <td>1.0</td>\n",
       "      <td>1.0</td>\n",
       "      <td>0.0</td>\n",
       "      <td>32.0</td>\n",
       "      <td>Built-up/Urban</td>\n",
       "      <td>Built-up/Urban</td>\n",
       "      <td>Built-up/Urban</td>\n",
       "      <td>Built-up/Urban</td>\n",
       "      <td>1.772977e+04</td>\n",
       "    </tr>\n",
       "    <tr>\n",
       "      <th>4863</th>\n",
       "      <td>406</td>\n",
       "      <td>4</td>\n",
       "      <td>NaN</td>\n",
       "      <td>NaN</td>\n",
       "      <td>NaN</td>\n",
       "      <td>4</td>\n",
       "      <td>2.011201e+17</td>\n",
       "      <td>湖北</td>\n",
       "      <td>武汉市</td>\n",
       "      <td>武昌区</td>\n",
       "      <td>430071</td>\n",
       "      <td>3.0</td>\n",
       "      <td>30.554167</td>\n",
       "      <td>114.316111</td>\n",
       "      <td>3.0</td>\n",
       "      <td>(5-8] 万</td>\n",
       "      <td>本人</td>\n",
       "      <td>男</td>\n",
       "      <td>1967.0</td>\n",
       "      <td>全职工作</td>\n",
       "      <td>国家机关或事业单位</td>\n",
       "      <td>事业单位职工</td>\n",
       "      <td>文化,体育和娱乐业</td>\n",
       "      <td>汉族</td>\n",
       "      <td>大学</td>\n",
       "      <td>16.0</td>\n",
       "      <td>12.0</td>\n",
       "      <td>城市（县级市及以上）</td>\n",
       "      <td>高层住宅（11-30层）</td>\n",
       "      <td>17.0</td>\n",
       "      <td>两层</td>\n",
       "      <td>2007.0</td>\n",
       "      <td>7.0</td>\n",
       "      <td>自有</td>\n",
       "      <td>2.0</td>\n",
       "      <td>2000-2009</td>\n",
       "      <td>混凝土</td>\n",
       "      <td>混凝土</td>\n",
       "      <td>① ≤2.8米</td>\n",
       "      <td>(180-250] m2</td>\n",
       "      <td>(180-250] m2</td>\n",
       "      <td>3.0</td>\n",
       "      <td>1.0</td>\n",
       "      <td>没有更换过</td>\n",
       "      <td>有</td>\n",
       "      <td>没有</td>\n",
       "      <td>没有</td>\n",
       "      <td>没有</td>\n",
       "      <td>没有</td>\n",
       "      <td>没有</td>\n",
       "      <td>(5,6] 小时</td>\n",
       "      <td>(2,3] 小时</td>\n",
       "      <td>79.279922</td>\n",
       "      <td>30.0</td>\n",
       "      <td>13</td>\n",
       "      <td>13</td>\n",
       "      <td>26.0</td>\n",
       "      <td>68.0</td>\n",
       "      <td>6.0</td>\n",
       "      <td>武汉市</td>\n",
       "      <td>武昌区</td>\n",
       "      <td>False</td>\n",
       "      <td>False</td>\n",
       "      <td>1</td>\n",
       "      <td>True</td>\n",
       "      <td>1.0</td>\n",
       "      <td>1.0</td>\n",
       "      <td>0.0</td>\n",
       "      <td>32.0</td>\n",
       "      <td>Built-up/Urban</td>\n",
       "      <td>Built-up/Urban</td>\n",
       "      <td>Built-up/Urban</td>\n",
       "      <td>Built-up/Urban</td>\n",
       "      <td>6.285306e+03</td>\n",
       "    </tr>\n",
       "    <tr>\n",
       "      <th>4864</th>\n",
       "      <td>406</td>\n",
       "      <td>5</td>\n",
       "      <td>1094.0</td>\n",
       "      <td>626.859985</td>\n",
       "      <td>0.572998</td>\n",
       "      <td>5</td>\n",
       "      <td>2.011201e+17</td>\n",
       "      <td>湖北</td>\n",
       "      <td>武汉市</td>\n",
       "      <td>武昌区</td>\n",
       "      <td>430071</td>\n",
       "      <td>3.0</td>\n",
       "      <td>30.554167</td>\n",
       "      <td>114.316111</td>\n",
       "      <td>3.0</td>\n",
       "      <td>(5-8] 万</td>\n",
       "      <td>本人</td>\n",
       "      <td>男</td>\n",
       "      <td>1967.0</td>\n",
       "      <td>全职工作</td>\n",
       "      <td>国家机关或事业单位</td>\n",
       "      <td>事业单位职工</td>\n",
       "      <td>文化,体育和娱乐业</td>\n",
       "      <td>汉族</td>\n",
       "      <td>大学</td>\n",
       "      <td>16.0</td>\n",
       "      <td>12.0</td>\n",
       "      <td>城市（县级市及以上）</td>\n",
       "      <td>高层住宅（11-30层）</td>\n",
       "      <td>17.0</td>\n",
       "      <td>两层</td>\n",
       "      <td>2007.0</td>\n",
       "      <td>7.0</td>\n",
       "      <td>自有</td>\n",
       "      <td>2.0</td>\n",
       "      <td>2000-2009</td>\n",
       "      <td>混凝土</td>\n",
       "      <td>混凝土</td>\n",
       "      <td>① ≤2.8米</td>\n",
       "      <td>(180-250] m2</td>\n",
       "      <td>(180-250] m2</td>\n",
       "      <td>3.0</td>\n",
       "      <td>1.0</td>\n",
       "      <td>没有更换过</td>\n",
       "      <td>有</td>\n",
       "      <td>没有</td>\n",
       "      <td>没有</td>\n",
       "      <td>没有</td>\n",
       "      <td>没有</td>\n",
       "      <td>没有</td>\n",
       "      <td>(5,6] 小时</td>\n",
       "      <td>(2,3] 小时</td>\n",
       "      <td>237.300049</td>\n",
       "      <td>31.0</td>\n",
       "      <td>13</td>\n",
       "      <td>13</td>\n",
       "      <td>26.0</td>\n",
       "      <td>68.0</td>\n",
       "      <td>6.0</td>\n",
       "      <td>武汉市</td>\n",
       "      <td>武昌区</td>\n",
       "      <td>False</td>\n",
       "      <td>False</td>\n",
       "      <td>1</td>\n",
       "      <td>True</td>\n",
       "      <td>1.0</td>\n",
       "      <td>1.0</td>\n",
       "      <td>0.0</td>\n",
       "      <td>32.0</td>\n",
       "      <td>Built-up/Urban</td>\n",
       "      <td>Built-up/Urban</td>\n",
       "      <td>Built-up/Urban</td>\n",
       "      <td>Built-up/Urban</td>\n",
       "      <td>5.631131e+04</td>\n",
       "    </tr>\n",
       "    <tr>\n",
       "      <th>4865</th>\n",
       "      <td>406</td>\n",
       "      <td>6</td>\n",
       "      <td>NaN</td>\n",
       "      <td>NaN</td>\n",
       "      <td>NaN</td>\n",
       "      <td>6</td>\n",
       "      <td>2.011201e+17</td>\n",
       "      <td>湖北</td>\n",
       "      <td>武汉市</td>\n",
       "      <td>武昌区</td>\n",
       "      <td>430071</td>\n",
       "      <td>3.0</td>\n",
       "      <td>30.554167</td>\n",
       "      <td>114.316111</td>\n",
       "      <td>3.0</td>\n",
       "      <td>(5-8] 万</td>\n",
       "      <td>本人</td>\n",
       "      <td>男</td>\n",
       "      <td>1967.0</td>\n",
       "      <td>全职工作</td>\n",
       "      <td>国家机关或事业单位</td>\n",
       "      <td>事业单位职工</td>\n",
       "      <td>文化,体育和娱乐业</td>\n",
       "      <td>汉族</td>\n",
       "      <td>大学</td>\n",
       "      <td>16.0</td>\n",
       "      <td>12.0</td>\n",
       "      <td>城市（县级市及以上）</td>\n",
       "      <td>高层住宅（11-30层）</td>\n",
       "      <td>17.0</td>\n",
       "      <td>两层</td>\n",
       "      <td>2007.0</td>\n",
       "      <td>7.0</td>\n",
       "      <td>自有</td>\n",
       "      <td>2.0</td>\n",
       "      <td>2000-2009</td>\n",
       "      <td>混凝土</td>\n",
       "      <td>混凝土</td>\n",
       "      <td>① ≤2.8米</td>\n",
       "      <td>(180-250] m2</td>\n",
       "      <td>(180-250] m2</td>\n",
       "      <td>3.0</td>\n",
       "      <td>1.0</td>\n",
       "      <td>没有更换过</td>\n",
       "      <td>有</td>\n",
       "      <td>没有</td>\n",
       "      <td>没有</td>\n",
       "      <td>没有</td>\n",
       "      <td>没有</td>\n",
       "      <td>没有</td>\n",
       "      <td>(5,6] 小时</td>\n",
       "      <td>(2,3] 小时</td>\n",
       "      <td>313.145874</td>\n",
       "      <td>22.0</td>\n",
       "      <td>13</td>\n",
       "      <td>13</td>\n",
       "      <td>26.0</td>\n",
       "      <td>68.0</td>\n",
       "      <td>6.0</td>\n",
       "      <td>武汉市</td>\n",
       "      <td>武昌区</td>\n",
       "      <td>False</td>\n",
       "      <td>False</td>\n",
       "      <td>1</td>\n",
       "      <td>True</td>\n",
       "      <td>1.0</td>\n",
       "      <td>1.0</td>\n",
       "      <td>0.0</td>\n",
       "      <td>32.0</td>\n",
       "      <td>Built-up/Urban</td>\n",
       "      <td>Built-up/Urban</td>\n",
       "      <td>Built-up/Urban</td>\n",
       "      <td>Built-up/Urban</td>\n",
       "      <td>9.806034e+04</td>\n",
       "    </tr>\n",
       "    <tr>\n",
       "      <th>4866</th>\n",
       "      <td>406</td>\n",
       "      <td>7</td>\n",
       "      <td>1098.0</td>\n",
       "      <td>1093.280029</td>\n",
       "      <td>0.995701</td>\n",
       "      <td>7</td>\n",
       "      <td>2.011201e+17</td>\n",
       "      <td>湖北</td>\n",
       "      <td>武汉市</td>\n",
       "      <td>武昌区</td>\n",
       "      <td>430071</td>\n",
       "      <td>3.0</td>\n",
       "      <td>30.554167</td>\n",
       "      <td>114.316111</td>\n",
       "      <td>3.0</td>\n",
       "      <td>(5-8] 万</td>\n",
       "      <td>本人</td>\n",
       "      <td>男</td>\n",
       "      <td>1967.0</td>\n",
       "      <td>全职工作</td>\n",
       "      <td>国家机关或事业单位</td>\n",
       "      <td>事业单位职工</td>\n",
       "      <td>文化,体育和娱乐业</td>\n",
       "      <td>汉族</td>\n",
       "      <td>大学</td>\n",
       "      <td>16.0</td>\n",
       "      <td>12.0</td>\n",
       "      <td>城市（县级市及以上）</td>\n",
       "      <td>高层住宅（11-30层）</td>\n",
       "      <td>17.0</td>\n",
       "      <td>两层</td>\n",
       "      <td>2007.0</td>\n",
       "      <td>7.0</td>\n",
       "      <td>自有</td>\n",
       "      <td>2.0</td>\n",
       "      <td>2000-2009</td>\n",
       "      <td>混凝土</td>\n",
       "      <td>混凝土</td>\n",
       "      <td>① ≤2.8米</td>\n",
       "      <td>(180-250] m2</td>\n",
       "      <td>(180-250] m2</td>\n",
       "      <td>3.0</td>\n",
       "      <td>1.0</td>\n",
       "      <td>没有更换过</td>\n",
       "      <td>有</td>\n",
       "      <td>没有</td>\n",
       "      <td>没有</td>\n",
       "      <td>没有</td>\n",
       "      <td>没有</td>\n",
       "      <td>没有</td>\n",
       "      <td>(5,6] 小时</td>\n",
       "      <td>(2,3] 小时</td>\n",
       "      <td>435.591003</td>\n",
       "      <td>23.0</td>\n",
       "      <td>13</td>\n",
       "      <td>13</td>\n",
       "      <td>26.0</td>\n",
       "      <td>68.0</td>\n",
       "      <td>6.0</td>\n",
       "      <td>武汉市</td>\n",
       "      <td>武昌区</td>\n",
       "      <td>False</td>\n",
       "      <td>False</td>\n",
       "      <td>1</td>\n",
       "      <td>True</td>\n",
       "      <td>1.0</td>\n",
       "      <td>1.0</td>\n",
       "      <td>0.0</td>\n",
       "      <td>32.0</td>\n",
       "      <td>Built-up/Urban</td>\n",
       "      <td>Built-up/Urban</td>\n",
       "      <td>Built-up/Urban</td>\n",
       "      <td>Built-up/Urban</td>\n",
       "      <td>1.897395e+05</td>\n",
       "    </tr>\n",
       "    <tr>\n",
       "      <th>4867</th>\n",
       "      <td>406</td>\n",
       "      <td>8</td>\n",
       "      <td>NaN</td>\n",
       "      <td>NaN</td>\n",
       "      <td>NaN</td>\n",
       "      <td>8</td>\n",
       "      <td>2.011201e+17</td>\n",
       "      <td>湖北</td>\n",
       "      <td>武汉市</td>\n",
       "      <td>武昌区</td>\n",
       "      <td>430071</td>\n",
       "      <td>3.0</td>\n",
       "      <td>30.554167</td>\n",
       "      <td>114.316111</td>\n",
       "      <td>3.0</td>\n",
       "      <td>(5-8] 万</td>\n",
       "      <td>本人</td>\n",
       "      <td>男</td>\n",
       "      <td>1967.0</td>\n",
       "      <td>全职工作</td>\n",
       "      <td>国家机关或事业单位</td>\n",
       "      <td>事业单位职工</td>\n",
       "      <td>文化,体育和娱乐业</td>\n",
       "      <td>汉族</td>\n",
       "      <td>大学</td>\n",
       "      <td>16.0</td>\n",
       "      <td>12.0</td>\n",
       "      <td>城市（县级市及以上）</td>\n",
       "      <td>高层住宅（11-30层）</td>\n",
       "      <td>17.0</td>\n",
       "      <td>两层</td>\n",
       "      <td>2007.0</td>\n",
       "      <td>7.0</td>\n",
       "      <td>自有</td>\n",
       "      <td>2.0</td>\n",
       "      <td>2000-2009</td>\n",
       "      <td>混凝土</td>\n",
       "      <td>混凝土</td>\n",
       "      <td>① ≤2.8米</td>\n",
       "      <td>(180-250] m2</td>\n",
       "      <td>(180-250] m2</td>\n",
       "      <td>3.0</td>\n",
       "      <td>1.0</td>\n",
       "      <td>没有更换过</td>\n",
       "      <td>有</td>\n",
       "      <td>没有</td>\n",
       "      <td>没有</td>\n",
       "      <td>没有</td>\n",
       "      <td>没有</td>\n",
       "      <td>没有</td>\n",
       "      <td>(5,6] 小时</td>\n",
       "      <td>(2,3] 小时</td>\n",
       "      <td>328.626495</td>\n",
       "      <td>23.0</td>\n",
       "      <td>13</td>\n",
       "      <td>13</td>\n",
       "      <td>26.0</td>\n",
       "      <td>68.0</td>\n",
       "      <td>6.0</td>\n",
       "      <td>武汉市</td>\n",
       "      <td>武昌区</td>\n",
       "      <td>False</td>\n",
       "      <td>False</td>\n",
       "      <td>1</td>\n",
       "      <td>True</td>\n",
       "      <td>1.0</td>\n",
       "      <td>1.0</td>\n",
       "      <td>0.0</td>\n",
       "      <td>32.0</td>\n",
       "      <td>Built-up/Urban</td>\n",
       "      <td>Built-up/Urban</td>\n",
       "      <td>Built-up/Urban</td>\n",
       "      <td>Built-up/Urban</td>\n",
       "      <td>1.079954e+05</td>\n",
       "    </tr>\n",
       "    <tr>\n",
       "      <th>4868</th>\n",
       "      <td>406</td>\n",
       "      <td>9</td>\n",
       "      <td>2641.0</td>\n",
       "      <td>1513.290039</td>\n",
       "      <td>0.572999</td>\n",
       "      <td>9</td>\n",
       "      <td>2.011201e+17</td>\n",
       "      <td>湖北</td>\n",
       "      <td>武汉市</td>\n",
       "      <td>武昌区</td>\n",
       "      <td>430071</td>\n",
       "      <td>3.0</td>\n",
       "      <td>30.554167</td>\n",
       "      <td>114.316111</td>\n",
       "      <td>3.0</td>\n",
       "      <td>(5-8] 万</td>\n",
       "      <td>本人</td>\n",
       "      <td>男</td>\n",
       "      <td>1967.0</td>\n",
       "      <td>全职工作</td>\n",
       "      <td>国家机关或事业单位</td>\n",
       "      <td>事业单位职工</td>\n",
       "      <td>文化,体育和娱乐业</td>\n",
       "      <td>汉族</td>\n",
       "      <td>大学</td>\n",
       "      <td>16.0</td>\n",
       "      <td>12.0</td>\n",
       "      <td>城市（县级市及以上）</td>\n",
       "      <td>高层住宅（11-30层）</td>\n",
       "      <td>17.0</td>\n",
       "      <td>两层</td>\n",
       "      <td>2007.0</td>\n",
       "      <td>7.0</td>\n",
       "      <td>自有</td>\n",
       "      <td>2.0</td>\n",
       "      <td>2000-2009</td>\n",
       "      <td>混凝土</td>\n",
       "      <td>混凝土</td>\n",
       "      <td>① ≤2.8米</td>\n",
       "      <td>(180-250] m2</td>\n",
       "      <td>(180-250] m2</td>\n",
       "      <td>3.0</td>\n",
       "      <td>1.0</td>\n",
       "      <td>没有更换过</td>\n",
       "      <td>有</td>\n",
       "      <td>没有</td>\n",
       "      <td>没有</td>\n",
       "      <td>没有</td>\n",
       "      <td>没有</td>\n",
       "      <td>没有</td>\n",
       "      <td>(5,6] 小时</td>\n",
       "      <td>(2,3] 小时</td>\n",
       "      <td>206.986832</td>\n",
       "      <td>22.0</td>\n",
       "      <td>13</td>\n",
       "      <td>13</td>\n",
       "      <td>26.0</td>\n",
       "      <td>68.0</td>\n",
       "      <td>6.0</td>\n",
       "      <td>武汉市</td>\n",
       "      <td>武昌区</td>\n",
       "      <td>False</td>\n",
       "      <td>False</td>\n",
       "      <td>1</td>\n",
       "      <td>True</td>\n",
       "      <td>1.0</td>\n",
       "      <td>1.0</td>\n",
       "      <td>0.0</td>\n",
       "      <td>32.0</td>\n",
       "      <td>Built-up/Urban</td>\n",
       "      <td>Built-up/Urban</td>\n",
       "      <td>Built-up/Urban</td>\n",
       "      <td>Built-up/Urban</td>\n",
       "      <td>4.284355e+04</td>\n",
       "    </tr>\n",
       "    <tr>\n",
       "      <th>4869</th>\n",
       "      <td>406</td>\n",
       "      <td>10</td>\n",
       "      <td>NaN</td>\n",
       "      <td>NaN</td>\n",
       "      <td>NaN</td>\n",
       "      <td>10</td>\n",
       "      <td>2.011201e+17</td>\n",
       "      <td>湖北</td>\n",
       "      <td>武汉市</td>\n",
       "      <td>武昌区</td>\n",
       "      <td>430071</td>\n",
       "      <td>3.0</td>\n",
       "      <td>30.554167</td>\n",
       "      <td>114.316111</td>\n",
       "      <td>3.0</td>\n",
       "      <td>(5-8] 万</td>\n",
       "      <td>本人</td>\n",
       "      <td>男</td>\n",
       "      <td>1967.0</td>\n",
       "      <td>全职工作</td>\n",
       "      <td>国家机关或事业单位</td>\n",
       "      <td>事业单位职工</td>\n",
       "      <td>文化,体育和娱乐业</td>\n",
       "      <td>汉族</td>\n",
       "      <td>大学</td>\n",
       "      <td>16.0</td>\n",
       "      <td>12.0</td>\n",
       "      <td>城市（县级市及以上）</td>\n",
       "      <td>高层住宅（11-30层）</td>\n",
       "      <td>17.0</td>\n",
       "      <td>两层</td>\n",
       "      <td>2007.0</td>\n",
       "      <td>7.0</td>\n",
       "      <td>自有</td>\n",
       "      <td>2.0</td>\n",
       "      <td>2000-2009</td>\n",
       "      <td>混凝土</td>\n",
       "      <td>混凝土</td>\n",
       "      <td>① ≤2.8米</td>\n",
       "      <td>(180-250] m2</td>\n",
       "      <td>(180-250] m2</td>\n",
       "      <td>3.0</td>\n",
       "      <td>1.0</td>\n",
       "      <td>没有更换过</td>\n",
       "      <td>有</td>\n",
       "      <td>没有</td>\n",
       "      <td>没有</td>\n",
       "      <td>没有</td>\n",
       "      <td>没有</td>\n",
       "      <td>没有</td>\n",
       "      <td>(5,6] 小时</td>\n",
       "      <td>(2,3] 小时</td>\n",
       "      <td>19.570654</td>\n",
       "      <td>23.0</td>\n",
       "      <td>13</td>\n",
       "      <td>13</td>\n",
       "      <td>26.0</td>\n",
       "      <td>68.0</td>\n",
       "      <td>6.0</td>\n",
       "      <td>武汉市</td>\n",
       "      <td>武昌区</td>\n",
       "      <td>False</td>\n",
       "      <td>False</td>\n",
       "      <td>0</td>\n",
       "      <td>False</td>\n",
       "      <td>1.0</td>\n",
       "      <td>1.0</td>\n",
       "      <td>0.0</td>\n",
       "      <td>32.0</td>\n",
       "      <td>Built-up/Urban</td>\n",
       "      <td>Built-up/Urban</td>\n",
       "      <td>Built-up/Urban</td>\n",
       "      <td>Built-up/Urban</td>\n",
       "      <td>3.830105e+02</td>\n",
       "    </tr>\n",
       "    <tr>\n",
       "      <th>4870</th>\n",
       "      <td>406</td>\n",
       "      <td>11</td>\n",
       "      <td>991.0</td>\n",
       "      <td>567.840027</td>\n",
       "      <td>0.572997</td>\n",
       "      <td>11</td>\n",
       "      <td>2.011201e+17</td>\n",
       "      <td>湖北</td>\n",
       "      <td>武汉市</td>\n",
       "      <td>武昌区</td>\n",
       "      <td>430071</td>\n",
       "      <td>3.0</td>\n",
       "      <td>30.554167</td>\n",
       "      <td>114.316111</td>\n",
       "      <td>3.0</td>\n",
       "      <td>(5-8] 万</td>\n",
       "      <td>本人</td>\n",
       "      <td>男</td>\n",
       "      <td>1967.0</td>\n",
       "      <td>全职工作</td>\n",
       "      <td>国家机关或事业单位</td>\n",
       "      <td>事业单位职工</td>\n",
       "      <td>文化,体育和娱乐业</td>\n",
       "      <td>汉族</td>\n",
       "      <td>大学</td>\n",
       "      <td>16.0</td>\n",
       "      <td>12.0</td>\n",
       "      <td>城市（县级市及以上）</td>\n",
       "      <td>高层住宅（11-30层）</td>\n",
       "      <td>17.0</td>\n",
       "      <td>两层</td>\n",
       "      <td>2007.0</td>\n",
       "      <td>7.0</td>\n",
       "      <td>自有</td>\n",
       "      <td>2.0</td>\n",
       "      <td>2000-2009</td>\n",
       "      <td>混凝土</td>\n",
       "      <td>混凝土</td>\n",
       "      <td>① ≤2.8米</td>\n",
       "      <td>(180-250] m2</td>\n",
       "      <td>(180-250] m2</td>\n",
       "      <td>3.0</td>\n",
       "      <td>1.0</td>\n",
       "      <td>没有更换过</td>\n",
       "      <td>有</td>\n",
       "      <td>没有</td>\n",
       "      <td>没有</td>\n",
       "      <td>没有</td>\n",
       "      <td>没有</td>\n",
       "      <td>没有</td>\n",
       "      <td>(5,6] 小时</td>\n",
       "      <td>(2,3] 小时</td>\n",
       "      <td>173.359848</td>\n",
       "      <td>30.0</td>\n",
       "      <td>13</td>\n",
       "      <td>13</td>\n",
       "      <td>26.0</td>\n",
       "      <td>68.0</td>\n",
       "      <td>6.0</td>\n",
       "      <td>武汉市</td>\n",
       "      <td>武昌区</td>\n",
       "      <td>False</td>\n",
       "      <td>False</td>\n",
       "      <td>0</td>\n",
       "      <td>False</td>\n",
       "      <td>1.0</td>\n",
       "      <td>1.0</td>\n",
       "      <td>0.0</td>\n",
       "      <td>32.0</td>\n",
       "      <td>Built-up/Urban</td>\n",
       "      <td>Built-up/Urban</td>\n",
       "      <td>Built-up/Urban</td>\n",
       "      <td>Built-up/Urban</td>\n",
       "      <td>3.005364e+04</td>\n",
       "    </tr>\n",
       "    <tr>\n",
       "      <th>4871</th>\n",
       "      <td>406</td>\n",
       "      <td>12</td>\n",
       "      <td>NaN</td>\n",
       "      <td>NaN</td>\n",
       "      <td>NaN</td>\n",
       "      <td>12</td>\n",
       "      <td>2.011201e+17</td>\n",
       "      <td>湖北</td>\n",
       "      <td>武汉市</td>\n",
       "      <td>武昌区</td>\n",
       "      <td>430071</td>\n",
       "      <td>3.0</td>\n",
       "      <td>30.554167</td>\n",
       "      <td>114.316111</td>\n",
       "      <td>3.0</td>\n",
       "      <td>(5-8] 万</td>\n",
       "      <td>本人</td>\n",
       "      <td>男</td>\n",
       "      <td>1967.0</td>\n",
       "      <td>全职工作</td>\n",
       "      <td>国家机关或事业单位</td>\n",
       "      <td>事业单位职工</td>\n",
       "      <td>文化,体育和娱乐业</td>\n",
       "      <td>汉族</td>\n",
       "      <td>大学</td>\n",
       "      <td>16.0</td>\n",
       "      <td>12.0</td>\n",
       "      <td>城市（县级市及以上）</td>\n",
       "      <td>高层住宅（11-30层）</td>\n",
       "      <td>17.0</td>\n",
       "      <td>两层</td>\n",
       "      <td>2007.0</td>\n",
       "      <td>7.0</td>\n",
       "      <td>自有</td>\n",
       "      <td>2.0</td>\n",
       "      <td>2000-2009</td>\n",
       "      <td>混凝土</td>\n",
       "      <td>混凝土</td>\n",
       "      <td>① ≤2.8米</td>\n",
       "      <td>(180-250] m2</td>\n",
       "      <td>(180-250] m2</td>\n",
       "      <td>3.0</td>\n",
       "      <td>1.0</td>\n",
       "      <td>没有更换过</td>\n",
       "      <td>有</td>\n",
       "      <td>没有</td>\n",
       "      <td>没有</td>\n",
       "      <td>没有</td>\n",
       "      <td>没有</td>\n",
       "      <td>没有</td>\n",
       "      <td>(5,6] 小时</td>\n",
       "      <td>(2,3] 小时</td>\n",
       "      <td>407.610260</td>\n",
       "      <td>31.0</td>\n",
       "      <td>13</td>\n",
       "      <td>13</td>\n",
       "      <td>26.0</td>\n",
       "      <td>68.0</td>\n",
       "      <td>6.0</td>\n",
       "      <td>武汉市</td>\n",
       "      <td>武昌区</td>\n",
       "      <td>False</td>\n",
       "      <td>False</td>\n",
       "      <td>0</td>\n",
       "      <td>False</td>\n",
       "      <td>1.0</td>\n",
       "      <td>1.0</td>\n",
       "      <td>0.0</td>\n",
       "      <td>32.0</td>\n",
       "      <td>Built-up/Urban</td>\n",
       "      <td>Built-up/Urban</td>\n",
       "      <td>Built-up/Urban</td>\n",
       "      <td>Built-up/Urban</td>\n",
       "      <td>1.661461e+05</td>\n",
       "    </tr>\n",
       "  </tbody>\n",
       "</table>\n",
       "</div>"
      ],
      "text/plain": [
       "       ID  month  elec_use    elec_bill     price  Month        serial  \\\n",
       "2328  195      1     178.0    99.019997  0.556292      1  2.010202e+17   \n",
       "2329  195      2       NaN          NaN       NaN      2  2.010202e+17   \n",
       "2330  195      3       NaN          NaN       NaN      3  2.010202e+17   \n",
       "2331  195      4       NaN          NaN       NaN      4  2.010202e+17   \n",
       "2332  195      5       NaN    89.250000       NaN      5  2.010202e+17   \n",
       "2333  195      6       NaN     9.770000       NaN      6  2.010202e+17   \n",
       "2334  195      7       NaN          NaN       NaN      7  2.010202e+17   \n",
       "2335  195      8    9345.0   195.000000  0.020867      8  2.010202e+17   \n",
       "2336  195      9       NaN          NaN       NaN      9  2.010202e+17   \n",
       "2337  195     10       NaN          NaN       NaN     10  2.010202e+17   \n",
       "2338  195     11       NaN          NaN       NaN     11  2.010202e+17   \n",
       "2339  195     12       NaN   170.000000       NaN     12  2.010202e+17   \n",
       "4860  406      1    1145.0   656.090027  0.573004      1  2.011201e+17   \n",
       "4861  406      2       NaN          NaN       NaN      2  2.011201e+17   \n",
       "4862  406      3    1487.0   852.049988  0.572999      3  2.011201e+17   \n",
       "4863  406      4       NaN          NaN       NaN      4  2.011201e+17   \n",
       "4864  406      5    1094.0   626.859985  0.572998      5  2.011201e+17   \n",
       "4865  406      6       NaN          NaN       NaN      6  2.011201e+17   \n",
       "4866  406      7    1098.0  1093.280029  0.995701      7  2.011201e+17   \n",
       "4867  406      8       NaN          NaN       NaN      8  2.011201e+17   \n",
       "4868  406      9    2641.0  1513.290039  0.572999      9  2.011201e+17   \n",
       "4869  406     10       NaN          NaN       NaN     10  2.011201e+17   \n",
       "4870  406     11     991.0   567.840027  0.572997     11  2.011201e+17   \n",
       "4871  406     12       NaN          NaN       NaN     12  2.011201e+17   \n",
       "\n",
       "     province city county  zipcode  respondent   latitude   longitude  fsize  \\\n",
       "2328       吉林   白城     镇贵   137300         1.0  45.849167  123.197500    3.0   \n",
       "2329       吉林   白城     镇贵   137300         1.0  45.849167  123.197500    3.0   \n",
       "2330       吉林   白城     镇贵   137300         1.0  45.849167  123.197500    3.0   \n",
       "2331       吉林   白城     镇贵   137300         1.0  45.849167  123.197500    3.0   \n",
       "2332       吉林   白城     镇贵   137300         1.0  45.849167  123.197500    3.0   \n",
       "2333       吉林   白城     镇贵   137300         1.0  45.849167  123.197500    3.0   \n",
       "2334       吉林   白城     镇贵   137300         1.0  45.849167  123.197500    3.0   \n",
       "2335       吉林   白城     镇贵   137300         1.0  45.849167  123.197500    3.0   \n",
       "2336       吉林   白城     镇贵   137300         1.0  45.849167  123.197500    3.0   \n",
       "2337       吉林   白城     镇贵   137300         1.0  45.849167  123.197500    3.0   \n",
       "2338       吉林   白城     镇贵   137300         1.0  45.849167  123.197500    3.0   \n",
       "2339       吉林   白城     镇贵   137300         1.0  45.849167  123.197500    3.0   \n",
       "4860       湖北  武汉市    武昌区   430071         3.0  30.554167  114.316111    3.0   \n",
       "4861       湖北  武汉市    武昌区   430071         3.0  30.554167  114.316111    3.0   \n",
       "4862       湖北  武汉市    武昌区   430071         3.0  30.554167  114.316111    3.0   \n",
       "4863       湖北  武汉市    武昌区   430071         3.0  30.554167  114.316111    3.0   \n",
       "4864       湖北  武汉市    武昌区   430071         3.0  30.554167  114.316111    3.0   \n",
       "4865       湖北  武汉市    武昌区   430071         3.0  30.554167  114.316111    3.0   \n",
       "4866       湖北  武汉市    武昌区   430071         3.0  30.554167  114.316111    3.0   \n",
       "4867       湖北  武汉市    武昌区   430071         3.0  30.554167  114.316111    3.0   \n",
       "4868       湖北  武汉市    武昌区   430071         3.0  30.554167  114.316111    3.0   \n",
       "4869       湖北  武汉市    武昌区   430071         3.0  30.554167  114.316111    3.0   \n",
       "4870       湖北  武汉市    武昌区   430071         3.0  30.554167  114.316111    3.0   \n",
       "4871       湖北  武汉市    武昌区   430071         3.0  30.554167  114.316111    3.0   \n",
       "\n",
       "       income rltn_to_HoH sex  birthyr employment   employer occupation  \\\n",
       "2328  (5-8] 万          本人   男   1970.0       全职工作  国家机关或事业单位        公务员   \n",
       "2329  (5-8] 万          本人   男   1970.0       全职工作  国家机关或事业单位        公务员   \n",
       "2330  (5-8] 万          本人   男   1970.0       全职工作  国家机关或事业单位        公务员   \n",
       "2331  (5-8] 万          本人   男   1970.0       全职工作  国家机关或事业单位        公务员   \n",
       "2332  (5-8] 万          本人   男   1970.0       全职工作  国家机关或事业单位        公务员   \n",
       "2333  (5-8] 万          本人   男   1970.0       全职工作  国家机关或事业单位        公务员   \n",
       "2334  (5-8] 万          本人   男   1970.0       全职工作  国家机关或事业单位        公务员   \n",
       "2335  (5-8] 万          本人   男   1970.0       全职工作  国家机关或事业单位        公务员   \n",
       "2336  (5-8] 万          本人   男   1970.0       全职工作  国家机关或事业单位        公务员   \n",
       "2337  (5-8] 万          本人   男   1970.0       全职工作  国家机关或事业单位        公务员   \n",
       "2338  (5-8] 万          本人   男   1970.0       全职工作  国家机关或事业单位        公务员   \n",
       "2339  (5-8] 万          本人   男   1970.0       全职工作  国家机关或事业单位        公务员   \n",
       "4860  (5-8] 万          本人   男   1967.0       全职工作  国家机关或事业单位     事业单位职工   \n",
       "4861  (5-8] 万          本人   男   1967.0       全职工作  国家机关或事业单位     事业单位职工   \n",
       "4862  (5-8] 万          本人   男   1967.0       全职工作  国家机关或事业单位     事业单位职工   \n",
       "4863  (5-8] 万          本人   男   1967.0       全职工作  国家机关或事业单位     事业单位职工   \n",
       "4864  (5-8] 万          本人   男   1967.0       全职工作  国家机关或事业单位     事业单位职工   \n",
       "4865  (5-8] 万          本人   男   1967.0       全职工作  国家机关或事业单位     事业单位职工   \n",
       "4866  (5-8] 万          本人   男   1967.0       全职工作  国家机关或事业单位     事业单位职工   \n",
       "4867  (5-8] 万          本人   男   1967.0       全职工作  国家机关或事业单位     事业单位职工   \n",
       "4868  (5-8] 万          本人   男   1967.0       全职工作  国家机关或事业单位     事业单位职工   \n",
       "4869  (5-8] 万          本人   男   1967.0       全职工作  国家机关或事业单位     事业单位职工   \n",
       "4870  (5-8] 万          本人   男   1967.0       全职工作  国家机关或事业单位     事业单位职工   \n",
       "4871  (5-8] 万          本人   男   1967.0       全职工作  国家机关或事业单位     事业单位职工   \n",
       "\n",
       "              sector ethnicity edu_lvl  edu_yrs  mths_at_home       urban  \\\n",
       "2328  公共管理,社会保障和社会组织        汉族      大专     15.0          12.0  城市（县级市及以上）   \n",
       "2329  公共管理,社会保障和社会组织        汉族      大专     15.0          12.0  城市（县级市及以上）   \n",
       "2330  公共管理,社会保障和社会组织        汉族      大专     15.0          12.0  城市（县级市及以上）   \n",
       "2331  公共管理,社会保障和社会组织        汉族      大专     15.0          12.0  城市（县级市及以上）   \n",
       "2332  公共管理,社会保障和社会组织        汉族      大专     15.0          12.0  城市（县级市及以上）   \n",
       "2333  公共管理,社会保障和社会组织        汉族      大专     15.0          12.0  城市（县级市及以上）   \n",
       "2334  公共管理,社会保障和社会组织        汉族      大专     15.0          12.0  城市（县级市及以上）   \n",
       "2335  公共管理,社会保障和社会组织        汉族      大专     15.0          12.0  城市（县级市及以上）   \n",
       "2336  公共管理,社会保障和社会组织        汉族      大专     15.0          12.0  城市（县级市及以上）   \n",
       "2337  公共管理,社会保障和社会组织        汉族      大专     15.0          12.0  城市（县级市及以上）   \n",
       "2338  公共管理,社会保障和社会组织        汉族      大专     15.0          12.0  城市（县级市及以上）   \n",
       "2339  公共管理,社会保障和社会组织        汉族      大专     15.0          12.0  城市（县级市及以上）   \n",
       "4860       文化,体育和娱乐业        汉族      大学     16.0          12.0  城市（县级市及以上）   \n",
       "4861       文化,体育和娱乐业        汉族      大学     16.0          12.0  城市（县级市及以上）   \n",
       "4862       文化,体育和娱乐业        汉族      大学     16.0          12.0  城市（县级市及以上）   \n",
       "4863       文化,体育和娱乐业        汉族      大学     16.0          12.0  城市（县级市及以上）   \n",
       "4864       文化,体育和娱乐业        汉族      大学     16.0          12.0  城市（县级市及以上）   \n",
       "4865       文化,体育和娱乐业        汉族      大学     16.0          12.0  城市（县级市及以上）   \n",
       "4866       文化,体育和娱乐业        汉族      大学     16.0          12.0  城市（县级市及以上）   \n",
       "4867       文化,体育和娱乐业        汉族      大学     16.0          12.0  城市（县级市及以上）   \n",
       "4868       文化,体育和娱乐业        汉族      大学     16.0          12.0  城市（县级市及以上）   \n",
       "4869       文化,体育和娱乐业        汉族      大学     16.0          12.0  城市（县级市及以上）   \n",
       "4870       文化,体育和娱乐业        汉族      大学     16.0          12.0  城市（县级市及以上）   \n",
       "4871       文化,体育和娱乐业        汉族      大学     16.0          12.0  城市（县级市及以上）   \n",
       "\n",
       "            bldlvl  level stories  moveinyr  daystyd own  owntyp      bltyr  \\\n",
       "2328    多层住宅（4-6层）    6.0      一层    2004.0      7.0  自有     6.0  2000-2009   \n",
       "2329    多层住宅（4-6层）    6.0      一层    2004.0      7.0  自有     6.0  2000-2009   \n",
       "2330    多层住宅（4-6层）    6.0      一层    2004.0      7.0  自有     6.0  2000-2009   \n",
       "2331    多层住宅（4-6层）    6.0      一层    2004.0      7.0  自有     6.0  2000-2009   \n",
       "2332    多层住宅（4-6层）    6.0      一层    2004.0      7.0  自有     6.0  2000-2009   \n",
       "2333    多层住宅（4-6层）    6.0      一层    2004.0      7.0  自有     6.0  2000-2009   \n",
       "2334    多层住宅（4-6层）    6.0      一层    2004.0      7.0  自有     6.0  2000-2009   \n",
       "2335    多层住宅（4-6层）    6.0      一层    2004.0      7.0  自有     6.0  2000-2009   \n",
       "2336    多层住宅（4-6层）    6.0      一层    2004.0      7.0  自有     6.0  2000-2009   \n",
       "2337    多层住宅（4-6层）    6.0      一层    2004.0      7.0  自有     6.0  2000-2009   \n",
       "2338    多层住宅（4-6层）    6.0      一层    2004.0      7.0  自有     6.0  2000-2009   \n",
       "2339    多层住宅（4-6层）    6.0      一层    2004.0      7.0  自有     6.0  2000-2009   \n",
       "4860  高层住宅（11-30层）   17.0      两层    2007.0      7.0  自有     2.0  2000-2009   \n",
       "4861  高层住宅（11-30层）   17.0      两层    2007.0      7.0  自有     2.0  2000-2009   \n",
       "4862  高层住宅（11-30层）   17.0      两层    2007.0      7.0  自有     2.0  2000-2009   \n",
       "4863  高层住宅（11-30层）   17.0      两层    2007.0      7.0  自有     2.0  2000-2009   \n",
       "4864  高层住宅（11-30层）   17.0      两层    2007.0      7.0  自有     2.0  2000-2009   \n",
       "4865  高层住宅（11-30层）   17.0      两层    2007.0      7.0  自有     2.0  2000-2009   \n",
       "4866  高层住宅（11-30层）   17.0      两层    2007.0      7.0  自有     2.0  2000-2009   \n",
       "4867  高层住宅（11-30层）   17.0      两层    2007.0      7.0  自有     2.0  2000-2009   \n",
       "4868  高层住宅（11-30层）   17.0      两层    2007.0      7.0  自有     2.0  2000-2009   \n",
       "4869  高层住宅（11-30层）   17.0      两层    2007.0      7.0  自有     2.0  2000-2009   \n",
       "4870  高层住宅（11-30层）   17.0      两层    2007.0      7.0  自有     2.0  2000-2009   \n",
       "4871  高层住宅（11-30层）   17.0      两层    2007.0      7.0  自有     2.0  2000-2009   \n",
       "\n",
       "      wall roof   height          size         size2  bathroom  balcony  \\\n",
       "2328  砖泥混合   瓦片  ① ≤2.8米     (70-90] m    (50-70] m2       1.0      1.0   \n",
       "2329  砖泥混合   瓦片  ① ≤2.8米     (70-90] m    (50-70] m2       1.0      1.0   \n",
       "2330  砖泥混合   瓦片  ① ≤2.8米     (70-90] m    (50-70] m2       1.0      1.0   \n",
       "2331  砖泥混合   瓦片  ① ≤2.8米     (70-90] m    (50-70] m2       1.0      1.0   \n",
       "2332  砖泥混合   瓦片  ① ≤2.8米     (70-90] m    (50-70] m2       1.0      1.0   \n",
       "2333  砖泥混合   瓦片  ① ≤2.8米     (70-90] m    (50-70] m2       1.0      1.0   \n",
       "2334  砖泥混合   瓦片  ① ≤2.8米     (70-90] m    (50-70] m2       1.0      1.0   \n",
       "2335  砖泥混合   瓦片  ① ≤2.8米     (70-90] m    (50-70] m2       1.0      1.0   \n",
       "2336  砖泥混合   瓦片  ① ≤2.8米     (70-90] m    (50-70] m2       1.0      1.0   \n",
       "2337  砖泥混合   瓦片  ① ≤2.8米     (70-90] m    (50-70] m2       1.0      1.0   \n",
       "2338  砖泥混合   瓦片  ① ≤2.8米     (70-90] m    (50-70] m2       1.0      1.0   \n",
       "2339  砖泥混合   瓦片  ① ≤2.8米     (70-90] m    (50-70] m2       1.0      1.0   \n",
       "4860   混凝土  混凝土  ① ≤2.8米  (180-250] m2  (180-250] m2       3.0      1.0   \n",
       "4861   混凝土  混凝土  ① ≤2.8米  (180-250] m2  (180-250] m2       3.0      1.0   \n",
       "4862   混凝土  混凝土  ① ≤2.8米  (180-250] m2  (180-250] m2       3.0      1.0   \n",
       "4863   混凝土  混凝土  ① ≤2.8米  (180-250] m2  (180-250] m2       3.0      1.0   \n",
       "4864   混凝土  混凝土  ① ≤2.8米  (180-250] m2  (180-250] m2       3.0      1.0   \n",
       "4865   混凝土  混凝土  ① ≤2.8米  (180-250] m2  (180-250] m2       3.0      1.0   \n",
       "4866   混凝土  混凝土  ① ≤2.8米  (180-250] m2  (180-250] m2       3.0      1.0   \n",
       "4867   混凝土  混凝土  ① ≤2.8米  (180-250] m2  (180-250] m2       3.0      1.0   \n",
       "4868   混凝土  混凝土  ① ≤2.8米  (180-250] m2  (180-250] m2       3.0      1.0   \n",
       "4869   混凝土  混凝土  ① ≤2.8米  (180-250] m2  (180-250] m2       3.0      1.0   \n",
       "4870   混凝土  混凝土  ① ≤2.8米  (180-250] m2  (180-250] m2       3.0      1.0   \n",
       "4871   混凝土  混凝土  ① ≤2.8米  (180-250] m2  (180-250] m2       3.0      1.0   \n",
       "\n",
       "     newwdw window_D wall_D insltn_D bsmt_D attic_D garage_D    dlgt_w  \\\n",
       "2328  没有更换过        有      有       没有    NaN      没有       没有  (6,7] 小时   \n",
       "2329  没有更换过        有      有       没有    NaN      没有       没有  (6,7] 小时   \n",
       "2330  没有更换过        有      有       没有    NaN      没有       没有  (6,7] 小时   \n",
       "2331  没有更换过        有      有       没有    NaN      没有       没有  (6,7] 小时   \n",
       "2332  没有更换过        有      有       没有    NaN      没有       没有  (6,7] 小时   \n",
       "2333  没有更换过        有      有       没有    NaN      没有       没有  (6,7] 小时   \n",
       "2334  没有更换过        有      有       没有    NaN      没有       没有  (6,7] 小时   \n",
       "2335  没有更换过        有      有       没有    NaN      没有       没有  (6,7] 小时   \n",
       "2336  没有更换过        有      有       没有    NaN      没有       没有  (6,7] 小时   \n",
       "2337  没有更换过        有      有       没有    NaN      没有       没有  (6,7] 小时   \n",
       "2338  没有更换过        有      有       没有    NaN      没有       没有  (6,7] 小时   \n",
       "2339  没有更换过        有      有       没有    NaN      没有       没有  (6,7] 小时   \n",
       "4860  没有更换过        有     没有       没有     没有      没有       没有  (5,6] 小时   \n",
       "4861  没有更换过        有     没有       没有     没有      没有       没有  (5,6] 小时   \n",
       "4862  没有更换过        有     没有       没有     没有      没有       没有  (5,6] 小时   \n",
       "4863  没有更换过        有     没有       没有     没有      没有       没有  (5,6] 小时   \n",
       "4864  没有更换过        有     没有       没有     没有      没有       没有  (5,6] 小时   \n",
       "4865  没有更换过        有     没有       没有     没有      没有       没有  (5,6] 小时   \n",
       "4866  没有更换过        有     没有       没有     没有      没有       没有  (5,6] 小时   \n",
       "4867  没有更换过        有     没有       没有     没有      没有       没有  (5,6] 小时   \n",
       "4868  没有更换过        有     没有       没有     没有      没有       没有  (5,6] 小时   \n",
       "4869  没有更换过        有     没有       没有     没有      没有       没有  (5,6] 小时   \n",
       "4870  没有更换过        有     没有       没有     没有      没有       没有  (5,6] 小时   \n",
       "4871  没有更换过        有     没有       没有     没有      没有       没有  (5,6] 小时   \n",
       "\n",
       "        dlgt_s   DD_monthly  goodday_count  LC_Type1  LC_Type2  NonTree_Vege  \\\n",
       "2328      >8小时  1074.959839           31.0        13        13          34.0   \n",
       "2329      >8小时   814.999451           29.0        13        13          34.0   \n",
       "2330      >8小时   575.029907           31.0        13        13          34.0   \n",
       "2331      >8小时   181.199509           30.0        13        13          34.0   \n",
       "2332      >8小时    92.870216           31.0        13        13          34.0   \n",
       "2333      >8小时   228.020157           30.0        13        13          34.0   \n",
       "2334      >8小时   300.099457           31.0        13        13          34.0   \n",
       "2335      >8小时   265.009705           31.0        13        13          34.0   \n",
       "2336      >8小时    73.319839           30.0        13        13          34.0   \n",
       "2337      >8小时   337.749573           31.0        13        13          34.0   \n",
       "2338      >8小时   746.989929           30.0        13        13          34.0   \n",
       "2339      >8小时  1190.871216           25.0        13        13          34.0   \n",
       "4860  (2,3] 小时   464.407013           23.0        13        13          26.0   \n",
       "4861  (2,3] 小时   388.054810           25.0        13        13          26.0   \n",
       "4862  (2,3] 小时   133.153168           19.0        13        13          26.0   \n",
       "4863  (2,3] 小时    79.279922           30.0        13        13          26.0   \n",
       "4864  (2,3] 小时   237.300049           31.0        13        13          26.0   \n",
       "4865  (2,3] 小时   313.145874           22.0        13        13          26.0   \n",
       "4866  (2,3] 小时   435.591003           23.0        13        13          26.0   \n",
       "4867  (2,3] 小时   328.626495           23.0        13        13          26.0   \n",
       "4868  (2,3] 小时   206.986832           22.0        13        13          26.0   \n",
       "4869  (2,3] 小时    19.570654           23.0        13        13          26.0   \n",
       "4870  (2,3] 小时   173.359848           30.0        13        13          26.0   \n",
       "4871  (2,3] 小时   407.610260           31.0        13        13          26.0   \n",
       "\n",
       "      NonVege  Tree_Cover city_ county_  is_north  is_south  summer  \\\n",
       "2328     62.0         4.0    白城      镇贵      True     False       0   \n",
       "2329     62.0         4.0    白城      镇贵      True     False       0   \n",
       "2330     62.0         4.0    白城      镇贵      True     False       0   \n",
       "2331     62.0         4.0    白城      镇贵      True     False       1   \n",
       "2332     62.0         4.0    白城      镇贵      True     False       1   \n",
       "2333     62.0         4.0    白城      镇贵      True     False       1   \n",
       "2334     62.0         4.0    白城      镇贵      True     False       1   \n",
       "2335     62.0         4.0    白城      镇贵      True     False       1   \n",
       "2336     62.0         4.0    白城      镇贵      True     False       1   \n",
       "2337     62.0         4.0    白城      镇贵      True     False       0   \n",
       "2338     62.0         4.0    白城      镇贵      True     False       0   \n",
       "2339     62.0         4.0    白城      镇贵      True     False       0   \n",
       "4860     68.0         6.0   武汉市     武昌区     False     False       0   \n",
       "4861     68.0         6.0   武汉市     武昌区     False     False       0   \n",
       "4862     68.0         6.0   武汉市     武昌区     False     False       0   \n",
       "4863     68.0         6.0   武汉市     武昌区     False     False       1   \n",
       "4864     68.0         6.0   武汉市     武昌区     False     False       1   \n",
       "4865     68.0         6.0   武汉市     武昌区     False     False       1   \n",
       "4866     68.0         6.0   武汉市     武昌区     False     False       1   \n",
       "4867     68.0         6.0   武汉市     武昌区     False     False       1   \n",
       "4868     68.0         6.0   武汉市     武昌区     False     False       1   \n",
       "4869     68.0         6.0   武汉市     武昌区     False     False       0   \n",
       "4870     68.0         6.0   武汉市     武昌区     False     False       0   \n",
       "4871     68.0         6.0   武汉市     武昌区     False     False       0   \n",
       "\n",
       "      is_summer  new  is_new   sf  Vege_Cover       LC_Type2s        LC_Type3  \\\n",
       "2328      False  1.0     1.0  0.0        38.0  Built-up/Urban  Built-up/Urban   \n",
       "2329      False  1.0     1.0  0.0        38.0  Built-up/Urban  Built-up/Urban   \n",
       "2330      False  1.0     1.0  0.0        38.0  Built-up/Urban  Built-up/Urban   \n",
       "2331       True  1.0     1.0  0.0        38.0  Built-up/Urban  Built-up/Urban   \n",
       "2332       True  1.0     1.0  0.0        38.0  Built-up/Urban  Built-up/Urban   \n",
       "2333       True  1.0     1.0  0.0        38.0  Built-up/Urban  Built-up/Urban   \n",
       "2334       True  1.0     1.0  0.0        38.0  Built-up/Urban  Built-up/Urban   \n",
       "2335       True  1.0     1.0  0.0        38.0  Built-up/Urban  Built-up/Urban   \n",
       "2336       True  1.0     1.0  0.0        38.0  Built-up/Urban  Built-up/Urban   \n",
       "2337      False  1.0     1.0  0.0        38.0  Built-up/Urban  Built-up/Urban   \n",
       "2338      False  1.0     1.0  0.0        38.0  Built-up/Urban  Built-up/Urban   \n",
       "2339      False  1.0     1.0  0.0        38.0  Built-up/Urban  Built-up/Urban   \n",
       "4860      False  1.0     1.0  0.0        32.0  Built-up/Urban  Built-up/Urban   \n",
       "4861      False  1.0     1.0  0.0        32.0  Built-up/Urban  Built-up/Urban   \n",
       "4862      False  1.0     1.0  0.0        32.0  Built-up/Urban  Built-up/Urban   \n",
       "4863       True  1.0     1.0  0.0        32.0  Built-up/Urban  Built-up/Urban   \n",
       "4864       True  1.0     1.0  0.0        32.0  Built-up/Urban  Built-up/Urban   \n",
       "4865       True  1.0     1.0  0.0        32.0  Built-up/Urban  Built-up/Urban   \n",
       "4866       True  1.0     1.0  0.0        32.0  Built-up/Urban  Built-up/Urban   \n",
       "4867       True  1.0     1.0  0.0        32.0  Built-up/Urban  Built-up/Urban   \n",
       "4868       True  1.0     1.0  0.0        32.0  Built-up/Urban  Built-up/Urban   \n",
       "4869      False  1.0     1.0  0.0        32.0  Built-up/Urban  Built-up/Urban   \n",
       "4870      False  1.0     1.0  0.0        32.0  Built-up/Urban  Built-up/Urban   \n",
       "4871      False  1.0     1.0  0.0        32.0  Built-up/Urban  Built-up/Urban   \n",
       "\n",
       "            LC_Type4        LC_Type5         DD_sq  \n",
       "2328  Built-up/Urban  Built-up/Urban  1.155539e+06  \n",
       "2329  Built-up/Urban  Built-up/Urban  6.642241e+05  \n",
       "2330  Built-up/Urban  Built-up/Urban  3.306594e+05  \n",
       "2331  Built-up/Urban  Built-up/Urban  3.283326e+04  \n",
       "2332  Built-up/Urban  Built-up/Urban  8.624877e+03  \n",
       "2333  Built-up/Urban  Built-up/Urban  5.199319e+04  \n",
       "2334  Built-up/Urban  Built-up/Urban  9.005969e+04  \n",
       "2335  Built-up/Urban  Built-up/Urban  7.023014e+04  \n",
       "2336  Built-up/Urban  Built-up/Urban  5.375799e+03  \n",
       "2337  Built-up/Urban  Built-up/Urban  1.140748e+05  \n",
       "2338  Built-up/Urban  Built-up/Urban  5.579939e+05  \n",
       "2339  Built-up/Urban  Built-up/Urban  1.418174e+06  \n",
       "4860  Built-up/Urban  Built-up/Urban  2.156739e+05  \n",
       "4861  Built-up/Urban  Built-up/Urban  1.505865e+05  \n",
       "4862  Built-up/Urban  Built-up/Urban  1.772977e+04  \n",
       "4863  Built-up/Urban  Built-up/Urban  6.285306e+03  \n",
       "4864  Built-up/Urban  Built-up/Urban  5.631131e+04  \n",
       "4865  Built-up/Urban  Built-up/Urban  9.806034e+04  \n",
       "4866  Built-up/Urban  Built-up/Urban  1.897395e+05  \n",
       "4867  Built-up/Urban  Built-up/Urban  1.079954e+05  \n",
       "4868  Built-up/Urban  Built-up/Urban  4.284355e+04  \n",
       "4869  Built-up/Urban  Built-up/Urban  3.830105e+02  \n",
       "4870  Built-up/Urban  Built-up/Urban  3.005364e+04  \n",
       "4871  Built-up/Urban  Built-up/Urban  1.661461e+05  "
      ]
     },
     "execution_count": 1520,
     "metadata": {},
     "output_type": "execute_result"
    }
   ],
   "source": [
    "master1[master1['ID'].isin([195,406])]"
   ]
  },
  {
   "cell_type": "code",
   "execution_count": 1521,
   "metadata": {},
   "outputs": [
    {
     "data": {
      "text/html": [
       "<div>\n",
       "<style scoped>\n",
       "    .dataframe tbody tr th:only-of-type {\n",
       "        vertical-align: middle;\n",
       "    }\n",
       "\n",
       "    .dataframe tbody tr th {\n",
       "        vertical-align: top;\n",
       "    }\n",
       "\n",
       "    .dataframe thead th {\n",
       "        text-align: right;\n",
       "    }\n",
       "</style>\n",
       "<table border=\"1\" class=\"dataframe\">\n",
       "  <thead>\n",
       "    <tr style=\"text-align: right;\">\n",
       "      <th></th>\n",
       "      <th>ID</th>\n",
       "      <th>month</th>\n",
       "      <th>elec_use</th>\n",
       "      <th>elec_bill</th>\n",
       "      <th>price</th>\n",
       "      <th>Month</th>\n",
       "      <th>serial</th>\n",
       "      <th>province</th>\n",
       "      <th>city</th>\n",
       "      <th>county</th>\n",
       "      <th>zipcode</th>\n",
       "      <th>respondent</th>\n",
       "      <th>latitude</th>\n",
       "      <th>longitude</th>\n",
       "      <th>fsize</th>\n",
       "      <th>income</th>\n",
       "      <th>rltn_to_HoH</th>\n",
       "      <th>sex</th>\n",
       "      <th>birthyr</th>\n",
       "      <th>employment</th>\n",
       "      <th>employer</th>\n",
       "      <th>occupation</th>\n",
       "      <th>sector</th>\n",
       "      <th>ethnicity</th>\n",
       "      <th>edu_lvl</th>\n",
       "      <th>edu_yrs</th>\n",
       "      <th>mths_at_home</th>\n",
       "      <th>urban</th>\n",
       "      <th>bldlvl</th>\n",
       "      <th>level</th>\n",
       "      <th>stories</th>\n",
       "      <th>moveinyr</th>\n",
       "      <th>daystyd</th>\n",
       "      <th>own</th>\n",
       "      <th>owntyp</th>\n",
       "      <th>bltyr</th>\n",
       "      <th>wall</th>\n",
       "      <th>roof</th>\n",
       "      <th>height</th>\n",
       "      <th>size</th>\n",
       "      <th>size2</th>\n",
       "      <th>bathroom</th>\n",
       "      <th>balcony</th>\n",
       "      <th>newwdw</th>\n",
       "      <th>window_D</th>\n",
       "      <th>wall_D</th>\n",
       "      <th>insltn_D</th>\n",
       "      <th>bsmt_D</th>\n",
       "      <th>attic_D</th>\n",
       "      <th>garage_D</th>\n",
       "      <th>dlgt_w</th>\n",
       "      <th>dlgt_s</th>\n",
       "      <th>DD_monthly</th>\n",
       "      <th>goodday_count</th>\n",
       "      <th>LC_Type1</th>\n",
       "      <th>LC_Type2</th>\n",
       "      <th>NonTree_Vege</th>\n",
       "      <th>NonVege</th>\n",
       "      <th>Tree_Cover</th>\n",
       "      <th>city_</th>\n",
       "      <th>county_</th>\n",
       "      <th>is_north</th>\n",
       "      <th>is_south</th>\n",
       "      <th>summer</th>\n",
       "      <th>is_summer</th>\n",
       "      <th>new</th>\n",
       "      <th>is_new</th>\n",
       "      <th>sf</th>\n",
       "      <th>Vege_Cover</th>\n",
       "      <th>LC_Type2s</th>\n",
       "      <th>LC_Type3</th>\n",
       "      <th>LC_Type4</th>\n",
       "      <th>LC_Type5</th>\n",
       "      <th>DD_sq</th>\n",
       "    </tr>\n",
       "  </thead>\n",
       "  <tbody>\n",
       "    <tr>\n",
       "      <th>4868</th>\n",
       "      <td>406</td>\n",
       "      <td>9</td>\n",
       "      <td>2641.0</td>\n",
       "      <td>1513.290039</td>\n",
       "      <td>0.572999</td>\n",
       "      <td>9</td>\n",
       "      <td>2.011201e+17</td>\n",
       "      <td>湖北</td>\n",
       "      <td>武汉市</td>\n",
       "      <td>武昌区</td>\n",
       "      <td>430071</td>\n",
       "      <td>3.0</td>\n",
       "      <td>30.554167</td>\n",
       "      <td>114.316111</td>\n",
       "      <td>3.0</td>\n",
       "      <td>(5-8] 万</td>\n",
       "      <td>本人</td>\n",
       "      <td>男</td>\n",
       "      <td>1967.0</td>\n",
       "      <td>全职工作</td>\n",
       "      <td>国家机关或事业单位</td>\n",
       "      <td>事业单位职工</td>\n",
       "      <td>文化,体育和娱乐业</td>\n",
       "      <td>汉族</td>\n",
       "      <td>大学</td>\n",
       "      <td>16.0</td>\n",
       "      <td>12.0</td>\n",
       "      <td>城市（县级市及以上）</td>\n",
       "      <td>高层住宅（11-30层）</td>\n",
       "      <td>17.0</td>\n",
       "      <td>两层</td>\n",
       "      <td>2007.0</td>\n",
       "      <td>7.0</td>\n",
       "      <td>自有</td>\n",
       "      <td>2.0</td>\n",
       "      <td>2000-2009</td>\n",
       "      <td>混凝土</td>\n",
       "      <td>混凝土</td>\n",
       "      <td>① ≤2.8米</td>\n",
       "      <td>(180-250] m2</td>\n",
       "      <td>(180-250] m2</td>\n",
       "      <td>3.0</td>\n",
       "      <td>1.0</td>\n",
       "      <td>没有更换过</td>\n",
       "      <td>有</td>\n",
       "      <td>没有</td>\n",
       "      <td>没有</td>\n",
       "      <td>没有</td>\n",
       "      <td>没有</td>\n",
       "      <td>没有</td>\n",
       "      <td>(5,6] 小时</td>\n",
       "      <td>(2,3] 小时</td>\n",
       "      <td>206.986832</td>\n",
       "      <td>22.0</td>\n",
       "      <td>13</td>\n",
       "      <td>13</td>\n",
       "      <td>26.0</td>\n",
       "      <td>68.0</td>\n",
       "      <td>6.0</td>\n",
       "      <td>武汉市</td>\n",
       "      <td>武昌区</td>\n",
       "      <td>False</td>\n",
       "      <td>False</td>\n",
       "      <td>1</td>\n",
       "      <td>True</td>\n",
       "      <td>1.0</td>\n",
       "      <td>1.0</td>\n",
       "      <td>0.0</td>\n",
       "      <td>32.0</td>\n",
       "      <td>Built-up/Urban</td>\n",
       "      <td>Built-up/Urban</td>\n",
       "      <td>Built-up/Urban</td>\n",
       "      <td>Built-up/Urban</td>\n",
       "      <td>42843.546875</td>\n",
       "    </tr>\n",
       "  </tbody>\n",
       "</table>\n",
       "</div>"
      ],
      "text/plain": [
       "       ID  month  elec_use    elec_bill     price  Month        serial  \\\n",
       "4868  406      9    2641.0  1513.290039  0.572999      9  2.011201e+17   \n",
       "\n",
       "     province city county  zipcode  respondent   latitude   longitude  fsize  \\\n",
       "4868       湖北  武汉市    武昌区   430071         3.0  30.554167  114.316111    3.0   \n",
       "\n",
       "       income rltn_to_HoH sex  birthyr employment   employer occupation  \\\n",
       "4868  (5-8] 万          本人   男   1967.0       全职工作  国家机关或事业单位     事业单位职工   \n",
       "\n",
       "         sector ethnicity edu_lvl  edu_yrs  mths_at_home       urban  \\\n",
       "4868  文化,体育和娱乐业        汉族      大学     16.0          12.0  城市（县级市及以上）   \n",
       "\n",
       "            bldlvl  level stories  moveinyr  daystyd own  owntyp      bltyr  \\\n",
       "4868  高层住宅（11-30层）   17.0      两层    2007.0      7.0  自有     2.0  2000-2009   \n",
       "\n",
       "     wall roof   height          size         size2  bathroom  balcony newwdw  \\\n",
       "4868  混凝土  混凝土  ① ≤2.8米  (180-250] m2  (180-250] m2       3.0      1.0  没有更换过   \n",
       "\n",
       "     window_D wall_D insltn_D bsmt_D attic_D garage_D    dlgt_w    dlgt_s  \\\n",
       "4868        有     没有       没有     没有      没有       没有  (5,6] 小时  (2,3] 小时   \n",
       "\n",
       "      DD_monthly  goodday_count  LC_Type1  LC_Type2  NonTree_Vege  NonVege  \\\n",
       "4868  206.986832           22.0        13        13          26.0     68.0   \n",
       "\n",
       "      Tree_Cover city_ county_  is_north  is_south  summer  is_summer  new  \\\n",
       "4868         6.0   武汉市     武昌区     False     False       1       True  1.0   \n",
       "\n",
       "      is_new   sf  Vege_Cover       LC_Type2s        LC_Type3        LC_Type4  \\\n",
       "4868     1.0  0.0        32.0  Built-up/Urban  Built-up/Urban  Built-up/Urban   \n",
       "\n",
       "            LC_Type5         DD_sq  \n",
       "4868  Built-up/Urban  42843.546875  "
      ]
     },
     "execution_count": 1521,
     "metadata": {},
     "output_type": "execute_result"
    }
   ],
   "source": [
    "master1.loc[[4868],:]"
   ]
  },
  {
   "cell_type": "code",
   "execution_count": 1522,
   "metadata": {},
   "outputs": [
    {
     "data": {
      "text/plain": [
       "<matplotlib.axes._subplots.AxesSubplot at 0x1c63c11e80>"
      ]
     },
     "execution_count": 1522,
     "metadata": {},
     "output_type": "execute_result"
    },
    {
     "data": {
      "image/png": "[encoded data removed]",
      "text/plain": [
       "<Figure size 432x288 with 1 Axes>"
      ]
     },
     "metadata": {
      "needs_background": "light"
     },
     "output_type": "display_data"
    }
   ],
   "source": [
    "master1.elec_use.hist(grid=True, bins=100)"
   ]
  },
  {
   "cell_type": "code",
   "execution_count": 1523,
   "metadata": {},
   "outputs": [
    {
     "data": {
      "text/plain": [
       "<matplotlib.axes._subplots.AxesSubplot at 0x1c62ed1198>"
      ]
     },
     "execution_count": 1523,
     "metadata": {},
     "output_type": "execute_result"
    },
    {
     "data": {
      "image/png": "[encoded data removed]",
      "text/plain": [
       "<Figure size 432x288 with 1 Axes>"
      ]
     },
     "metadata": {
      "needs_background": "light"
     },
     "output_type": "display_data"
    }
   ],
   "source": [
    "master1.plot(x='elec_use', y='elec_bill', kind='scatter')"
   ]
  },
  {
   "cell_type": "code",
   "execution_count": 1529,
   "metadata": {
    "scrolled": true
   },
   "outputs": [
    {
     "data": {
      "text/plain": [
       "15103"
      ]
     },
     "execution_count": 1529,
     "metadata": {},
     "output_type": "execute_result"
    }
   ],
   "source": [
    "master1['elec_use'].count()"
   ]
  },
  {
   "cell_type": "markdown",
   "metadata": {},
   "source": [
    "##### drop `elec_use` >3000"
   ]
  },
  {
   "cell_type": "code",
   "execution_count": 1527,
   "metadata": {},
   "outputs": [],
   "source": [
    "master1_copy = master1.copy()\n",
    "master1 = master1[master1['elec_use']<3000]\n",
    "# note also dropped all NaNs\n",
    "# kept index"
   ]
  },
  {
   "cell_type": "code",
   "execution_count": 1528,
   "metadata": {
    "scrolled": true
   },
   "outputs": [
    {
     "data": {
      "text/plain": [
       "15103"
      ]
     },
     "execution_count": 1528,
     "metadata": {},
     "output_type": "execute_result"
    }
   ],
   "source": [
    "master1['elec_use'].count()"
   ]
  },
  {
   "cell_type": "code",
   "execution_count": 1531,
   "metadata": {},
   "outputs": [],
   "source": [
    "# master1[master1['elec_use']<2000].elec_use.hist(grid=True, bins=100)"
   ]
  },
  {
   "cell_type": "code",
   "execution_count": 1532,
   "metadata": {},
   "outputs": [
    {
     "data": {
      "text/plain": [
       "<matplotlib.axes._subplots.AxesSubplot at 0x1c6300dcf8>"
      ]
     },
     "execution_count": 1532,
     "metadata": {},
     "output_type": "execute_result"
    },
    {
     "data": {
      "image/png": "[encoded data removed]",
      "text/plain": [
       "<Figure size 432x288 with 1 Axes>"
      ]
     },
     "metadata": {
      "needs_background": "light"
     },
     "output_type": "display_data"
    }
   ],
   "source": [
    "master1.elec_use.hist(grid=True, bins=100)"
   ]
  },
  {
   "cell_type": "code",
   "execution_count": 1533,
   "metadata": {},
   "outputs": [
    {
     "data": {
      "text/plain": [
       "<matplotlib.axes._subplots.AxesSubplot at 0x1c62c397b8>"
      ]
     },
     "execution_count": 1533,
     "metadata": {},
     "output_type": "execute_result"
    },
    {
     "data": {
      "image/png": "[encoded data removed]",
      "text/plain": [
       "<Figure size 432x288 with 1 Axes>"
      ]
     },
     "metadata": {
      "needs_background": "light"
     },
     "output_type": "display_data"
    }
   ],
   "source": [
    "master1.plot(x='elec_use', y='elec_bill', kind='scatter')"
   ]
  },
  {
   "cell_type": "code",
   "execution_count": 1534,
   "metadata": {
    "scrolled": true
   },
   "outputs": [
    {
     "data": {
      "text/plain": [
       "Index(['ID', 'month', 'elec_use', 'elec_bill', 'price', 'Month', 'serial',\n",
       "       'province', 'city', 'county', 'zipcode', 'respondent', 'latitude',\n",
       "       'longitude', 'fsize', 'income', 'rltn_to_HoH', 'sex', 'birthyr',\n",
       "       'employment', 'employer', 'occupation', 'sector', 'ethnicity',\n",
       "       'edu_lvl', 'edu_yrs', 'mths_at_home', 'urban', 'bldlvl', 'level',\n",
       "       'stories', 'moveinyr', 'daystyd', 'own', 'owntyp', 'bltyr', 'wall',\n",
       "       'roof', 'height', 'size', 'size2', 'bathroom', 'balcony', 'newwdw',\n",
       "       'window_D', 'wall_D', 'insltn_D', 'bsmt_D', 'attic_D', 'garage_D',\n",
       "       'dlgt_w', 'dlgt_s', 'DD_monthly', 'goodday_count', 'LC_Type1',\n",
       "       'LC_Type2', 'NonTree_Vege', 'NonVege', 'Tree_Cover', 'city_', 'county_',\n",
       "       'is_north', 'is_south', 'summer', 'is_summer', 'new', 'is_new', 'sf',\n",
       "       'Vege_Cover', 'LC_Type2s', 'LC_Type3', 'LC_Type4', 'LC_Type5', 'DD_sq'],\n",
       "      dtype='object')"
      ]
     },
     "execution_count": 1534,
     "metadata": {},
     "output_type": "execute_result"
    }
   ],
   "source": [
    "master1.columns"
   ]
  },
  {
   "cell_type": "markdown",
   "metadata": {},
   "source": [
    "##### D log transformation"
   ]
  },
  {
   "cell_type": "code",
   "execution_count": 1536,
   "metadata": {},
   "outputs": [
    {
     "data": {
      "text/plain": [
       "<matplotlib.axes._subplots.AxesSubplot at 0x1c63c26fd0>"
      ]
     },
     "execution_count": 1536,
     "metadata": {},
     "output_type": "execute_result"
    },
    {
     "data": {
      "image/png": "[encoded data removed]",
      "text/plain": [
       "<Figure size 432x288 with 1 Axes>"
      ]
     },
     "metadata": {
      "needs_background": "light"
     },
     "output_type": "display_data"
    }
   ],
   "source": [
    "# after dropping outlier, still skewed\n",
    "master1.elec_use.hist(grid=True, bins=100)"
   ]
  },
  {
   "cell_type": "code",
   "execution_count": 1537,
   "metadata": {
    "scrolled": true
   },
   "outputs": [
    {
     "name": "stderr",
     "output_type": "stream",
     "text": [
      "/Users/JK/anaconda3/lib/python3.7/site-packages/ipykernel_launcher.py:1: SettingWithCopyWarning: \n",
      "A value is trying to be set on a copy of a slice from a DataFrame.\n",
      "Try using .loc[row_indexer,col_indexer] = value instead\n",
      "\n",
      "See the caveats in the documentation: https://pandas.pydata.org/pandas-docs/stable/user_guide/indexing.html#returning-a-view-versus-a-copy\n",
      "  \"\"\"Entry point for launching an IPython kernel.\n"
     ]
    }
   ],
   "source": [
    "master1['elec_ln'] = np.log1p(master1.elec_use)"
   ]
  },
  {
   "cell_type": "code",
   "execution_count": 1538,
   "metadata": {
    "scrolled": false
   },
   "outputs": [
    {
     "data": {
      "text/plain": [
       "<matplotlib.axes._subplots.AxesSubplot at 0x1c64366c88>"
      ]
     },
     "execution_count": 1538,
     "metadata": {},
     "output_type": "execute_result"
    },
    {
     "data": {
      "image/png": "[encoded data removed]",
      "text/plain": [
       "<Figure size 432x288 with 1 Axes>"
      ]
     },
     "metadata": {
      "needs_background": "light"
     },
     "output_type": "display_data"
    }
   ],
   "source": [
    "master1['elec_ln'].hist(grid=True, bins=100)"
   ]
  },
  {
   "cell_type": "code",
   "execution_count": 1539,
   "metadata": {
    "scrolled": true
   },
   "outputs": [],
   "source": [
    "# master1_copy['elec_ln'].hist(grid=True, bins=100)"
   ]
  },
  {
   "cell_type": "markdown",
   "metadata": {},
   "source": [
    "# Models"
   ]
  },
  {
   "cell_type": "code",
   "execution_count": 1540,
   "metadata": {},
   "outputs": [],
   "source": [
    "master = pd.read_stata('master.dta')"
   ]
  },
  {
   "cell_type": "code",
   "execution_count": 1541,
   "metadata": {
    "scrolled": true
   },
   "outputs": [
    {
     "data": {
      "text/plain": [
       "Index(['ID', 'month', 'elec_use', 'm_elec_use', 'm_elec_use_sum',\n",
       "       'm_elec_use_tot', 'elec_bill', 'price', 'serial', 'province', 'city',\n",
       "       'county', 'latitude', 'longitude', 'fsize', 'income', 'urban', 'a2_1_a',\n",
       "       'a2_1_b', 'a2_1_c', 'a2_1_d', 'a2_1_e', 'a2_1_f', 'a2_1_g', 'a2_1_h',\n",
       "       'a2_1_i', 'a2_1_j', 'a2_1_k', 'b2', 'b3', 'b4', 'b5', 'b5a', 'b6', 'b7',\n",
       "       'b8', 'b9', 'new', 'b10', 'b11', 'b12', 'b13', 'b14', 'b16', 'b16a',\n",
       "       'b16b', 'b16c', 'b17', 'b17a', 'b17b', 'b18', 'b19', 'b19a', 'b19b',\n",
       "       'b20', 'b20a', 'b20b', 'b21', 'b21a', 'b21b', 'b22', 'b22a', 'b22b',\n",
       "       'b22c', 'b22d', 'b23', 'b23a', 'b23b', 'b23c', 'b23d', 'b24', 'b24a',\n",
       "       'b24b', 'b24c', 'b24d', 'b24e', 'b24f', 'b25', 'b26', 'DD_monthly',\n",
       "       'goodday_count', 'LC_Type1', 'LC_Type2', 'LC_Type3', 'LC_Type5',\n",
       "       'LC_Type4', 'NonTree_Vege', 'NonVege', 'Tree_Cover', 'province_n',\n",
       "       'north', 'summer', 'sf', 'DD_sq', 'm_elec_use_temp', '_est_est1'],\n",
       "      dtype='object')"
      ]
     },
     "execution_count": 1541,
     "metadata": {},
     "output_type": "execute_result"
    }
   ],
   "source": [
    "master.columns"
   ]
  },
  {
   "cell_type": "code",
   "execution_count": 1542,
   "metadata": {},
   "outputs": [],
   "source": [
    "master['LC_Type3s'] = master['LC_Type2'].replace(LC_Type3_mapper)"
   ]
  },
  {
   "cell_type": "code",
   "execution_count": 1543,
   "metadata": {},
   "outputs": [
    {
     "data": {
      "text/html": [
       "<div>\n",
       "<style scoped>\n",
       "    .dataframe tbody tr th:only-of-type {\n",
       "        vertical-align: middle;\n",
       "    }\n",
       "\n",
       "    .dataframe tbody tr th {\n",
       "        vertical-align: top;\n",
       "    }\n",
       "\n",
       "    .dataframe thead th {\n",
       "        text-align: right;\n",
       "    }\n",
       "</style>\n",
       "<table border=\"1\" class=\"dataframe\">\n",
       "  <thead>\n",
       "    <tr style=\"text-align: right;\">\n",
       "      <th>LC_Type3s</th>\n",
       "      <th>Built-up/Urban</th>\n",
       "      <th>cropland</th>\n",
       "      <th>forest/savanna</th>\n",
       "      <th>grassland</th>\n",
       "      <th>non-Vegetated</th>\n",
       "      <th>water</th>\n",
       "    </tr>\n",
       "    <tr>\n",
       "      <th>LC_Type3</th>\n",
       "      <th></th>\n",
       "      <th></th>\n",
       "      <th></th>\n",
       "      <th></th>\n",
       "      <th></th>\n",
       "      <th></th>\n",
       "    </tr>\n",
       "  </thead>\n",
       "  <tbody>\n",
       "    <tr>\n",
       "      <th>Urban/Built up</th>\n",
       "      <td>11172</td>\n",
       "      <td>0</td>\n",
       "      <td>0</td>\n",
       "      <td>0</td>\n",
       "      <td>0</td>\n",
       "      <td>0</td>\n",
       "    </tr>\n",
       "    <tr>\n",
       "      <th>forest/shrubland/savanna</th>\n",
       "      <td>0</td>\n",
       "      <td>0</td>\n",
       "      <td>2232</td>\n",
       "      <td>0</td>\n",
       "      <td>0</td>\n",
       "      <td>0</td>\n",
       "    </tr>\n",
       "    <tr>\n",
       "      <th>grassland</th>\n",
       "      <td>0</td>\n",
       "      <td>0</td>\n",
       "      <td>0</td>\n",
       "      <td>744</td>\n",
       "      <td>0</td>\n",
       "      <td>0</td>\n",
       "    </tr>\n",
       "    <tr>\n",
       "      <th>cropland</th>\n",
       "      <td>0</td>\n",
       "      <td>2724</td>\n",
       "      <td>0</td>\n",
       "      <td>0</td>\n",
       "      <td>0</td>\n",
       "      <td>0</td>\n",
       "    </tr>\n",
       "    <tr>\n",
       "      <th>water</th>\n",
       "      <td>0</td>\n",
       "      <td>0</td>\n",
       "      <td>0</td>\n",
       "      <td>0</td>\n",
       "      <td>0</td>\n",
       "      <td>444</td>\n",
       "    </tr>\n",
       "    <tr>\n",
       "      <th>barren</th>\n",
       "      <td>0</td>\n",
       "      <td>0</td>\n",
       "      <td>0</td>\n",
       "      <td>0</td>\n",
       "      <td>84</td>\n",
       "      <td>0</td>\n",
       "    </tr>\n",
       "  </tbody>\n",
       "</table>\n",
       "</div>"
      ],
      "text/plain": [
       "LC_Type3s                 Built-up/Urban  cropland  forest/savanna  grassland  \\\n",
       "LC_Type3                                                                        \n",
       "Urban/Built up                     11172         0               0          0   \n",
       "forest/shrubland/savanna               0         0            2232          0   \n",
       "grassland                              0         0               0        744   \n",
       "cropland                               0      2724               0          0   \n",
       "water                                  0         0               0          0   \n",
       "barren                                 0         0               0          0   \n",
       "\n",
       "LC_Type3s                 non-Vegetated  water  \n",
       "LC_Type3                                        \n",
       "Urban/Built up                        0      0  \n",
       "forest/shrubland/savanna              0      0  \n",
       "grassland                             0      0  \n",
       "cropland                              0      0  \n",
       "water                                 0    444  \n",
       "barren                               84      0  "
      ]
     },
     "execution_count": 1543,
     "metadata": {},
     "output_type": "execute_result"
    }
   ],
   "source": [
    "# master['LC_Type3'] categorical, master['LC_Type3s'] string\n",
    "pd.crosstab(master['LC_Type3'],master['LC_Type3s'])"
   ]
  },
  {
   "cell_type": "code",
   "execution_count": 169,
   "metadata": {},
   "outputs": [],
   "source": [
    "\n",
    "# from linearmodels.datasets import wage_panel\n",
    "\n",
    "# data = wage_panel.load()\n",
    "# data = data.set_index(['nr','year'])\n",
    "# dependent = data.lwage\n",
    "# exog = sm.add_constant(data[['expersq','married','union']])\n",
    "# mod = PanelOLS(dependent, exog, entity_effect=True)\n",
    "# res = mod.fit(cov_type='unadjusted')\n",
    "# res"
   ]
  },
  {
   "cell_type": "code",
   "execution_count": 1544,
   "metadata": {},
   "outputs": [],
   "source": [
    "master_copy = master.copy()\n",
    "master = master[master['elec_use']<3000]"
   ]
  },
  {
   "cell_type": "code",
   "execution_count": 1545,
   "metadata": {},
   "outputs": [
    {
     "data": {
      "text/plain": [
       "(15103, 97)"
      ]
     },
     "execution_count": 1545,
     "metadata": {},
     "output_type": "execute_result"
    }
   ],
   "source": [
    "master.shape"
   ]
  },
  {
   "cell_type": "code",
   "execution_count": 1546,
   "metadata": {},
   "outputs": [
    {
     "data": {
      "text/plain": [
       "(15103, 75)"
      ]
     },
     "execution_count": 1546,
     "metadata": {},
     "output_type": "execute_result"
    }
   ],
   "source": [
    "master1.shape"
   ]
  },
  {
   "cell_type": "markdown",
   "metadata": {},
   "source": [
    "## Cross Section Model"
   ]
  },
  {
   "cell_type": "code",
   "execution_count": 1547,
   "metadata": {},
   "outputs": [],
   "source": [
    "import statsmodels.formula.api as smf"
   ]
  },
  {
   "cell_type": "code",
   "execution_count": 1131,
   "metadata": {
    "scrolled": false
   },
   "outputs": [
    {
     "data": {
      "text/plain": [
       "(3-5] 万        3404\n",
       "(5-8] 万        3136\n",
       "(8-12] 万       2627\n",
       "(1-3] 万        2311\n",
       "(12-15] 万       926\n",
       "(15-20] 万       926\n",
       "(20-25] 万       573\n",
       "≤1万             447\n",
       "(25-30] 万       147\n",
       "(45-50] 万       108\n",
       "NaN              98\n",
       "(35-40] 万        88\n",
       "(30-35]万         82\n",
       "(40-45] 万        60\n",
       "(80-120]万        60\n",
       "(50-80] 万        50\n",
       "(120-200] 万      48\n",
       "(200-500] 万      12\n",
       "Name: income, dtype: int64"
      ]
     },
     "execution_count": 1131,
     "metadata": {},
     "output_type": "execute_result"
    }
   ],
   "source": [
    "master1.income.value_counts(dropna=False)"
   ]
  },
  {
   "cell_type": "code",
   "execution_count": 1132,
   "metadata": {},
   "outputs": [
    {
     "data": {
      "text/plain": [
       "(90-120] m2     4063\n",
       "(120-150] m2    3323\n",
       "(70-90] m       2647\n",
       "(50-70] m2      1627\n",
       "(180-250] m2    1138\n",
       "(150-180] m2     830\n",
       " >250m2          756\n",
       "(30-50] m2       559\n",
       "NaN               66\n",
       "(12-30] m2        58\n",
       "≤12m2             36\n",
       "Name: size, dtype: int64"
      ]
     },
     "execution_count": 1132,
     "metadata": {},
     "output_type": "execute_result"
    }
   ],
   "source": [
    "master1['size'].value_counts(dropna=False)"
   ]
  },
  {
   "cell_type": "code",
   "execution_count": 1133,
   "metadata": {},
   "outputs": [
    {
     "data": {
      "text/plain": [
       "2000-2009    7220\n",
       "1990-1999    4538\n",
       "1980-1989    1962\n",
       "2010年及以后      753\n",
       "1970-1979     360\n",
       "1960-1969     106\n",
       "NaN            67\n",
       "早于1949年        67\n",
       "1949-1959      30\n",
       "Name: bltyr, dtype: int64"
      ]
     },
     "execution_count": 1133,
     "metadata": {},
     "output_type": "execute_result"
    }
   ],
   "source": [
    "master1['bltyr'].value_counts(dropna=False)"
   ]
  },
  {
   "cell_type": "code",
   "execution_count": 1134,
   "metadata": {
    "scrolled": true
   },
   "outputs": [
    {
     "data": {
      "text/plain": [
       "城市（县级市及以上）    9464\n",
       "农村            3077\n",
       "乡镇            2514\n",
       "NaN             48\n",
       "Name: urban, dtype: int64"
      ]
     },
     "execution_count": 1134,
     "metadata": {},
     "output_type": "execute_result"
    }
   ],
   "source": [
    "master1['urban'].value_counts(dropna=False)"
   ]
  },
  {
   "cell_type": "code",
   "execution_count": 1135,
   "metadata": {
    "scrolled": true
   },
   "outputs": [
    {
     "data": {
      "text/plain": [
       "自有     13948\n",
       "他人      1048\n",
       "NaN      107\n",
       "Name: own, dtype: int64"
      ]
     },
     "execution_count": 1135,
     "metadata": {},
     "output_type": "execute_result"
    }
   ],
   "source": [
    "master1['own'].value_counts(dropna=False)"
   ]
  },
  {
   "cell_type": "code",
   "execution_count": 1548,
   "metadata": {},
   "outputs": [],
   "source": [
    "# tried PooledOLS, bug w/ categoricals such as income, urban, has NaN\n",
    "# cs_LC = PooledOLS.from_formula(\"elec_use ~ 1 + DD_monthly*(LC_Type3) + fsize + C(income) + urban + own + size + bltyr + \\\n",
    "#                                 Month + province\", data=master1)\n",
    "# res_cs_LC = cs_LC.fit()\n",
    "# print(res_cs_LC)"
   ]
  },
  {
   "cell_type": "code",
   "execution_count": 1549,
   "metadata": {
    "scrolled": false
   },
   "outputs": [
    {
     "name": "stdout",
     "output_type": "stream",
     "text": [
      "                            OLS Regression Results                            \n",
      "==============================================================================\n",
      "Dep. Variable:               elec_use   R-squared:                       0.259\n",
      "Model:                            OLS   Adj. R-squared:                  0.255\n",
      "Method:                 Least Squares   F-statistic:                     58.64\n",
      "Date:                Sun, 22 Mar 2020   Prob (F-statistic):               0.00\n",
      "Time:                        19:09:48   Log-Likelihood:                -86961.\n",
      "No. Observations:               14179   AIC:                         1.741e+05\n",
      "Df Residuals:                   14094   BIC:                         1.747e+05\n",
      "Df Model:                          84                                         \n",
      "Covariance Type:            nonrobust                                         \n",
      "=========================================================================================================\n",
      "                                            coef    std err          t      P>|t|      [0.025      0.975]\n",
      "---------------------------------------------------------------------------------------------------------\n",
      "Intercept                               102.4302     26.355      3.887      0.000      50.771     154.089\n",
      "LC_Type3[T.cropland]                    -19.1450      4.629     -4.136      0.000     -28.219     -10.071\n",
      "LC_Type3[T.forest/savanna]               -5.2226      5.748     -0.909      0.364     -16.490       6.044\n",
      "LC_Type3[T.grassland]                     8.4918      8.228      1.032      0.302      -7.636      24.620\n",
      "LC_Type3[T.non-Vegetated]                15.2913     25.634      0.597      0.551     -34.955      65.538\n",
      "LC_Type3[T.water]                        12.6166     20.634      0.611      0.541     -27.829      53.062\n",
      "C(income)[T.(1-3] 万]                      7.2579      6.079      1.194      0.233      -4.658      19.174\n",
      "C(income)[T.(3-5] 万]                     14.7913      6.047      2.446      0.014       2.938      26.644\n",
      "C(income)[T.(5-8] 万]                     44.3867      6.154      7.212      0.000      32.323      56.450\n",
      "C(income)[T.(8-12] 万]                    52.2656      6.306      8.288      0.000      39.905      64.626\n",
      "C(income)[T.(12-15] 万]                   57.6640      7.129      8.089      0.000      43.691      71.637\n",
      "C(income)[T.(15-20] 万]                   58.2441      7.157      8.138      0.000      44.215      72.273\n",
      "C(income)[T.(20-25] 万]                   75.4180      7.770      9.706      0.000      60.187      90.649\n",
      "C(income)[T.(25-30] 万]                   93.8941     11.290      8.316      0.000      71.764     116.025\n",
      "C(income)[T.(30-35]万]                   140.1848     15.222      9.209      0.000     110.348     170.022\n",
      "C(income)[T.(35-40] 万]                  165.7362     14.044     11.801      0.000     138.208     193.264\n",
      "C(income)[T.(40-45] 万]                   49.0432     16.323      3.005      0.003      17.048      81.039\n",
      "C(income)[T.(45-50] 万]                   87.8103     13.031      6.738      0.000      62.267     113.354\n",
      "C(income)[T.(50-80] 万]                  149.6937     17.417      8.595      0.000     115.554     183.833\n",
      "C(income)[T.(80-120]万]                  194.6955     16.428     11.852      0.000     162.495     226.896\n",
      "C(income)[T.(120-200] 万]                 71.7847     20.994      3.419      0.001      30.633     112.936\n",
      "C(income)[T.(200-500] 万]                169.2120     33.504      5.051      0.000     103.540     234.884\n",
      "urban[T.乡镇]                              -5.6508      3.452     -1.637      0.102     -12.417       1.115\n",
      "urban[T.农村]                             -37.0026      3.538    -10.460      0.000     -43.937     -30.068\n",
      "own[T.他人]                                11.5059      4.106      2.802      0.005       3.458      19.554\n",
      "size[T.(12-30] m2]                       35.6889     24.709      1.444      0.149     -12.744      84.121\n",
      "size[T.(30-50] m2]                       60.6957     20.160      3.011      0.003      21.179     100.212\n",
      "size[T.(50-70] m2]                       53.2980     19.581      2.722      0.006      14.916      91.680\n",
      "size[T.(70-90] m]                        50.6605     19.466      2.603      0.009      12.505      88.816\n",
      "size[T.(90-120] m2]                      60.5934     19.327      3.135      0.002      22.711      98.476\n",
      "size[T.(120-150] m2]                     74.3516     19.348      3.843      0.000      36.427     112.276\n",
      "size[T.(150-180] m2]                    101.8016     19.708      5.166      0.000      63.172     140.432\n",
      "size[T.(180-250] m2]                     95.3269     19.675      4.845      0.000      56.761     133.893\n",
      "size[T. >250m2]                          77.4252     19.973      3.876      0.000      38.275     116.576\n",
      "bltyr[T.1949-1959]                      -32.8754     25.820     -1.273      0.203     -83.487      17.736\n",
      "bltyr[T.1960-1969]                      -55.3347     19.036     -2.907      0.004     -92.648     -18.022\n",
      "bltyr[T.1970-1979]                      -45.5950     16.713     -2.728      0.006     -78.355     -12.835\n",
      "bltyr[T.1980-1989]                      -42.8755     15.672     -2.736      0.006     -73.596     -12.155\n",
      "bltyr[T.1990-1999]                      -27.6971     15.605     -1.775      0.076     -58.284       2.890\n",
      "bltyr[T.2000-2009]                      -23.7455     15.612     -1.521      0.128     -54.347       6.856\n",
      "bltyr[T.2010年及以后]                       -25.5041     16.177     -1.577      0.115     -57.213       6.205\n",
      "C(Month)[T.2]                            22.1781      4.843      4.580      0.000      12.686      31.670\n",
      "C(Month)[T.3]                             1.2433      5.325      0.234      0.815      -9.194      11.681\n",
      "C(Month)[T.4]                           -14.4797      5.894     -2.457      0.014     -26.033      -2.927\n",
      "C(Month)[T.5]                           -24.5323      5.440     -4.509      0.000     -35.196     -13.868\n",
      "C(Month)[T.6]                            -9.4803      5.208     -1.820      0.069     -19.689       0.729\n",
      "C(Month)[T.7]                            19.0045      5.081      3.740      0.000       9.045      28.964\n",
      "C(Month)[T.8]                            50.6885      5.161      9.822      0.000      40.573      60.804\n",
      "C(Month)[T.9]                            15.4917      5.686      2.724      0.006       4.346      26.637\n",
      "C(Month)[T.10]                          -12.6470      5.815     -2.175      0.030     -24.046      -1.248\n",
      "C(Month)[T.11]                          -19.8407      5.115     -3.879      0.000     -29.867      -9.815\n",
      "C(Month)[T.12]                           -9.9376      4.632     -2.145      0.032     -19.017      -0.858\n",
      "province[T.云南]                          -81.7283      8.762     -9.328      0.000     -98.903     -64.554\n",
      "province[T.内蒙古]                         -29.1435      8.316     -3.504      0.000     -45.445     -12.842\n",
      "province[T.北京]                          -82.5089      6.397    -12.897      0.000     -95.049     -69.969\n",
      "province[T.吉林]                          -94.5157      6.477    -14.593      0.000    -107.211     -81.820\n",
      "province[T.四川]                         -107.5392      7.578    -14.192      0.000    -122.393     -92.686\n",
      "province[T.天津]                          -68.4444      9.485     -7.216      0.000     -87.036     -49.852\n",
      "province[T.宁夏回族自治区]                    -106.5717      9.678    -11.011      0.000    -125.543     -87.601\n",
      "province[T.安徽]                            2.0183      8.068      0.250      0.802     -13.796      17.832\n",
      "province[T.山东]                          -71.1630      5.175    -13.752      0.000     -81.307     -61.020\n",
      "province[T.山西]                          -33.7358      7.383     -4.569      0.000     -48.207     -19.264\n",
      "province[T.广东]                           -3.6537     18.880     -0.194      0.847     -40.662      33.354\n",
      "province[T.广西]                          -23.4455      7.945     -2.951      0.003     -39.018      -7.873\n",
      "province[T.新疆]                          -81.5982      9.283     -8.790      0.000     -99.794     -63.403\n",
      "province[T.江西]                          -97.5299     10.331     -9.441      0.000    -117.780     -77.280\n",
      "province[T.河北]                          -70.5586      6.499    -10.856      0.000     -83.298     -57.819\n",
      "province[T.河南]                          -79.4190      5.447    -14.580      0.000     -90.096     -68.742\n",
      "province[T.浙江]                          -59.8535      7.941     -7.537      0.000     -75.420     -44.287\n",
      "province[T.海南]                          -73.4277     26.432     -2.778      0.005    -125.238     -21.618\n",
      "province[T.湖北]                          -65.5850      5.801    -11.306      0.000     -76.956     -54.214\n",
      "province[T.湖南]                          -34.7017      5.769     -6.015      0.000     -46.009     -23.394\n",
      "province[T.甘肃]                          -31.9958      9.081     -3.523      0.000     -49.796     -14.196\n",
      "province[T.福建]                           22.4993      8.036      2.800      0.005       6.748      38.250\n",
      "province[T.贵州]                          -44.6603      9.514     -4.694      0.000     -63.308     -26.012\n",
      "province[T.辽宁]                          -68.5690      8.926     -7.682      0.000     -86.065     -51.073\n",
      "province[T.重庆]                          132.3764     10.315     12.834      0.000     112.158     152.595\n",
      "province[T.黑龙江]                         -96.7639      7.428    -13.027      0.000    -111.324     -82.204\n",
      "DD_monthly                                0.0189      0.008      2.360      0.018       0.003       0.035\n",
      "DD_monthly:LC_Type3[T.cropland]           0.0100      0.011      0.891      0.373      -0.012       0.032\n",
      "DD_monthly:LC_Type3[T.forest/savanna]    -0.0095      0.019     -0.500      0.617      -0.047       0.028\n",
      "DD_monthly:LC_Type3[T.grassland]          0.0103      0.013      0.792      0.429      -0.015       0.036\n",
      "DD_monthly:LC_Type3[T.non-Vegetated]     -0.0334      0.049     -0.685      0.493      -0.129       0.062\n",
      "DD_monthly:LC_Type3[T.water]             -0.0288      0.074     -0.390      0.697      -0.174       0.116\n",
      "fsize                                    14.2771      0.948     15.065      0.000      12.419      16.135\n",
      "==============================================================================\n",
      "Omnibus:                    12100.748   Durbin-Watson:                   0.804\n",
      "Prob(Omnibus):                  0.000   Jarque-Bera (JB):           816156.094\n",
      "Skew:                           3.731   Prob(JB):                         0.00\n",
      "Kurtosis:                      39.411   Cond. No.                     2.57e+04\n",
      "==============================================================================\n",
      "\n",
      "Warnings:\n",
      "[1] Standard Errors assume that the covariance matrix of the errors is correctly specified.\n",
      "[2] The condition number is large, 2.57e+04. This might indicate that there are\n",
      "strong multicollinearity or other numerical problems.\n"
     ]
    }
   ],
   "source": [
    "cs_LC = smf.ols(\"elec_use ~ 1 + DD_monthly*(LC_Type3) + fsize + C(income) + urban + own + size + bltyr + \\\n",
    "                                C(Month) + province\", data=master1, subset=None, drop_cols=None)\n",
    "res_cs_LC = cs_LC.fit()\n",
    "print(res_cs_LC.summary())"
   ]
  },
  {
   "cell_type": "code",
   "execution_count": 1550,
   "metadata": {},
   "outputs": [],
   "source": [
    "# robust Standard Errors, smaller?"
   ]
  },
  {
   "cell_type": "code",
   "execution_count": 1551,
   "metadata": {},
   "outputs": [],
   "source": [
    "res_cs_LC_robust = res_cs_LC.get_robustcov_results(cov_type='HC1', use_t=None)"
   ]
  },
  {
   "cell_type": "code",
   "execution_count": 1552,
   "metadata": {},
   "outputs": [
    {
     "data": {
      "text/plain": [
       "{'use_t': True,\n",
       " 'adjust_df': False,\n",
       " 'description': 'Standard Errors are heteroscedasticity robust (HC1)'}"
      ]
     },
     "execution_count": 1552,
     "metadata": {},
     "output_type": "execute_result"
    }
   ],
   "source": [
    "res_cs_LC_robust.cov_kwds"
   ]
  },
  {
   "cell_type": "code",
   "execution_count": 1553,
   "metadata": {},
   "outputs": [
    {
     "data": {
      "text/plain": [
       "array([[ 3.00892425e+02, -5.47111289e+00, -3.37232674e+00, ...,\n",
       "         6.31141133e-03, -5.19184399e-02, -1.69116771e+00],\n",
       "       [-5.47111289e+00,  1.66889076e+01,  7.84040520e+00, ...,\n",
       "        -9.31310267e-03, -5.59973608e-03,  2.07263736e-01],\n",
       "       [-3.37232674e+00,  7.84040520e+00,  2.55838847e+01, ...,\n",
       "        -7.55061455e-03, -1.37603696e-02, -8.17583226e-02],\n",
       "       ...,\n",
       "       [ 6.31141133e-03, -9.31310267e-03, -7.55061455e-03, ...,\n",
       "         7.06843362e-04,  2.14550173e-05, -4.56511846e-04],\n",
       "       [-5.19184399e-02, -5.59973608e-03, -1.37603696e-02, ...,\n",
       "         2.14550173e-05,  2.50429429e-03, -1.30736513e-03],\n",
       "       [-1.69116771e+00,  2.07263736e-01, -8.17583226e-02, ...,\n",
       "        -4.56511846e-04, -1.30736513e-03,  9.97779117e-01]])"
      ]
     },
     "execution_count": 1553,
     "metadata": {},
     "output_type": "execute_result"
    }
   ],
   "source": [
    "res_cs_LC_robust.cov_params_default"
   ]
  },
  {
   "cell_type": "code",
   "execution_count": 1554,
   "metadata": {
    "scrolled": false
   },
   "outputs": [
    {
     "name": "stdout",
     "output_type": "stream",
     "text": [
      "                            OLS Regression Results                            \n",
      "==============================================================================\n",
      "Dep. Variable:               elec_use   R-squared:                       0.259\n",
      "Model:                            OLS   Adj. R-squared:                  0.255\n",
      "Method:                 Least Squares   F-statistic:                     50.76\n",
      "Date:                Sun, 22 Mar 2020   Prob (F-statistic):               0.00\n",
      "Time:                        19:10:27   Log-Likelihood:                -86961.\n",
      "No. Observations:               14179   AIC:                         1.741e+05\n",
      "Df Residuals:                   14094   BIC:                         1.747e+05\n",
      "Df Model:                          84                                         \n",
      "Covariance Type:                  HC1                                         \n",
      "=========================================================================================================\n",
      "                                            coef    std err          t      P>|t|      [0.025      0.975]\n",
      "---------------------------------------------------------------------------------------------------------\n",
      "Intercept                               102.4302     17.346      5.905      0.000      68.429     136.431\n",
      "LC_Type3[T.cropland]                    -19.1450      4.085     -4.686      0.000     -27.153     -11.137\n",
      "LC_Type3[T.forest/savanna]               -5.2226      5.058     -1.033      0.302     -15.137       4.692\n",
      "LC_Type3[T.grassland]                     8.4918      5.570      1.525      0.127      -2.426      19.409\n",
      "LC_Type3[T.non-Vegetated]                15.2913     16.012      0.955      0.340     -16.094      46.677\n",
      "LC_Type3[T.water]                        12.6166     13.038      0.968      0.333     -12.939      38.172\n",
      "C(income)[T.(1-3] 万]                      7.2579      4.491      1.616      0.106      -1.545      16.061\n",
      "C(income)[T.(3-5] 万]                     14.7913      4.619      3.202      0.001       5.737      23.845\n",
      "C(income)[T.(5-8] 万]                     44.3867      4.713      9.417      0.000      35.148      53.625\n",
      "C(income)[T.(8-12] 万]                    52.2656      5.050     10.349      0.000      42.366      62.165\n",
      "C(income)[T.(12-15] 万]                   57.6640      6.188      9.319      0.000      45.535      69.793\n",
      "C(income)[T.(15-20] 万]                   58.2441      6.231      9.347      0.000      46.030      70.459\n",
      "C(income)[T.(20-25] 万]                   75.4180      8.396      8.982      0.000      58.960      91.876\n",
      "C(income)[T.(25-30] 万]                   93.8941     15.136      6.203      0.000      64.225     123.563\n",
      "C(income)[T.(30-35]万]                   140.1848     25.388      5.522      0.000      90.422     189.948\n",
      "C(income)[T.(35-40] 万]                  165.7362     27.603      6.004      0.000     111.630     219.842\n",
      "C(income)[T.(40-45] 万]                   49.0432     19.327      2.537      0.011      11.159      86.928\n",
      "C(income)[T.(45-50] 万]                   87.8103     16.049      5.471      0.000      56.352     119.268\n",
      "C(income)[T.(50-80] 万]                  149.6937     37.983      3.941      0.000      75.242     224.145\n",
      "C(income)[T.(80-120]万]                  194.6955     38.699      5.031      0.000     118.841     270.550\n",
      "C(income)[T.(120-200] 万]                 71.7847     28.817      2.491      0.013      15.299     128.270\n",
      "C(income)[T.(200-500] 万]                169.2120     12.528     13.506      0.000     144.655     193.769\n",
      "urban[T.乡镇]                              -5.6508      3.890     -1.453      0.146     -13.276       1.974\n",
      "urban[T.农村]                             -37.0026      3.794     -9.753      0.000     -44.440     -29.566\n",
      "own[T.他人]                                11.5059      4.383      2.625      0.009       2.915      20.097\n",
      "size[T.(12-30] m2]                       35.6889     12.016      2.970      0.003      12.137      59.241\n",
      "size[T.(30-50] m2]                       60.6957      7.513      8.079      0.000      45.969      75.422\n",
      "size[T.(50-70] m2]                       53.2980      6.562      8.123      0.000      40.436      66.160\n",
      "size[T.(70-90] m]                        50.6605      6.353      7.974      0.000      38.207      63.114\n",
      "size[T.(90-120] m2]                      60.5934      6.034     10.041      0.000      48.765      72.421\n",
      "size[T.(120-150] m2]                     74.3516      6.225     11.943      0.000      62.149      86.554\n",
      "size[T.(150-180] m2]                    101.8016      8.509     11.965      0.000      85.124     118.480\n",
      "size[T.(180-250] m2]                     95.3269      8.534     11.170      0.000      78.599     112.055\n",
      "size[T. >250m2]                          77.4252      8.510      9.098      0.000      60.744      94.106\n",
      "bltyr[T.1949-1959]                      -32.8754     15.957     -2.060      0.039     -64.153      -1.597\n",
      "bltyr[T.1960-1969]                      -55.3347     14.335     -3.860      0.000     -83.433     -27.237\n",
      "bltyr[T.1970-1979]                      -45.5950     13.385     -3.407      0.001     -71.831     -19.360\n",
      "bltyr[T.1980-1989]                      -42.8755     13.023     -3.292      0.001     -68.402     -17.349\n",
      "bltyr[T.1990-1999]                      -27.6971     13.074     -2.118      0.034     -53.324      -2.070\n",
      "bltyr[T.2000-2009]                      -23.7455     13.074     -1.816      0.069     -49.372       1.881\n",
      "bltyr[T.2010年及以后]                       -25.5041     13.819     -1.846      0.065     -52.590       1.582\n",
      "C(Month)[T.2]                            22.1781      5.489      4.040      0.000      11.419      32.938\n",
      "C(Month)[T.3]                             1.2433      5.601      0.222      0.824      -9.735      12.222\n",
      "C(Month)[T.4]                           -14.4797      5.768     -2.510      0.012     -25.786      -3.174\n",
      "C(Month)[T.5]                           -24.5323      5.372     -4.567      0.000     -35.061     -14.003\n",
      "C(Month)[T.6]                            -9.4803      5.211     -1.819      0.069     -19.694       0.733\n",
      "C(Month)[T.7]                            19.0045      5.502      3.454      0.001       8.220      29.789\n",
      "C(Month)[T.8]                            50.6885      6.143      8.251      0.000      38.647      62.730\n",
      "C(Month)[T.9]                            15.4917      6.501      2.383      0.017       2.750      28.234\n",
      "C(Month)[T.10]                          -12.6470      5.753     -2.198      0.028     -23.923      -1.371\n",
      "C(Month)[T.11]                          -19.8407      4.886     -4.061      0.000     -29.418     -10.263\n",
      "C(Month)[T.12]                           -9.9376      4.684     -2.122      0.034     -19.118      -0.757\n",
      "province[T.云南]                          -81.7283      8.155    -10.022      0.000     -97.712     -65.744\n",
      "province[T.内蒙古]                         -29.1435      8.558     -3.406      0.001     -45.918     -12.369\n",
      "province[T.北京]                          -82.5089      6.729    -12.261      0.000     -95.699     -69.319\n",
      "province[T.吉林]                          -94.5157      6.635    -14.244      0.000    -107.522     -81.509\n",
      "province[T.四川]                         -107.5392      7.440    -14.455      0.000    -122.122     -92.957\n",
      "province[T.天津]                          -68.4444      8.337     -8.209      0.000     -84.787     -52.102\n",
      "province[T.宁夏回族自治区]                    -106.5717      9.469    -11.255      0.000    -125.132     -88.011\n",
      "province[T.安徽]                            2.0183     12.907      0.156      0.876     -23.281      27.318\n",
      "province[T.山东]                          -71.1630      6.689    -10.639      0.000     -84.274     -58.052\n",
      "province[T.山西]                          -33.7358      9.874     -3.417      0.001     -53.089     -14.382\n",
      "province[T.广东]                           -3.6537     22.864     -0.160      0.873     -48.470      41.163\n",
      "province[T.广西]                          -23.4455      9.502     -2.468      0.014     -42.070      -4.821\n",
      "province[T.新疆]                          -81.5982      8.246     -9.895      0.000     -97.762     -65.434\n",
      "province[T.江西]                          -97.5299     10.307     -9.462      0.000    -117.733     -77.327\n",
      "province[T.河北]                          -70.5586      6.876    -10.261      0.000     -84.037     -57.080\n",
      "province[T.河南]                          -79.4190      6.941    -11.442      0.000     -93.024     -65.814\n",
      "province[T.浙江]                          -59.8535      7.795     -7.678      0.000     -75.133     -44.574\n",
      "province[T.海南]                          -73.4277     20.251     -3.626      0.000    -113.122     -33.733\n",
      "province[T.湖北]                          -65.5850      7.663     -8.559      0.000     -80.605     -50.565\n",
      "province[T.湖南]                          -34.7017      6.985     -4.968      0.000     -48.392     -21.011\n",
      "province[T.甘肃]                          -31.9958      8.408     -3.805      0.000     -48.477     -15.515\n",
      "province[T.福建]                           22.4993     10.567      2.129      0.033       1.787      43.212\n",
      "province[T.贵州]                          -44.6603     10.304     -4.334      0.000     -64.856     -24.464\n",
      "province[T.辽宁]                          -68.5690      7.531     -9.105      0.000     -83.331     -53.807\n",
      "province[T.重庆]                          132.3764     20.568      6.436      0.000      92.060     172.693\n",
      "province[T.黑龙江]                         -96.7639      6.681    -14.484      0.000    -109.859     -83.669\n",
      "DD_monthly                                0.0189      0.007      2.617      0.009       0.005       0.033\n",
      "DD_monthly:LC_Type3[T.cropland]           0.0100      0.009      1.132      0.258      -0.007       0.027\n",
      "DD_monthly:LC_Type3[T.forest/savanna]    -0.0095      0.017     -0.561      0.575      -0.043       0.024\n",
      "DD_monthly:LC_Type3[T.grassland]          0.0103      0.009      1.192      0.233      -0.007       0.027\n",
      "DD_monthly:LC_Type3[T.non-Vegetated]     -0.0334      0.027     -1.258      0.208      -0.086       0.019\n",
      "DD_monthly:LC_Type3[T.water]             -0.0288      0.050     -0.575      0.565      -0.127       0.069\n",
      "fsize                                    14.2771      0.999     14.293      0.000      12.319      16.235\n",
      "==============================================================================\n",
      "Omnibus:                    12100.748   Durbin-Watson:                   0.804\n",
      "Prob(Omnibus):                  0.000   Jarque-Bera (JB):           816156.094\n",
      "Skew:                           3.731   Prob(JB):                         0.00\n",
      "Kurtosis:                      39.411   Cond. No.                     2.57e+04\n",
      "==============================================================================\n",
      "\n",
      "Warnings:\n",
      "[1] Standard Errors are heteroscedasticity robust (HC1)\n",
      "[2] The condition number is large, 2.57e+04. This might indicate that there are\n",
      "strong multicollinearity or other numerical problems.\n"
     ]
    }
   ],
   "source": [
    "print(res_cs_LC_robust.summary())"
   ]
  },
  {
   "cell_type": "markdown",
   "metadata": {},
   "source": [
    "## Panel Model"
   ]
  },
  {
   "cell_type": "code",
   "execution_count": 1555,
   "metadata": {
    "scrolled": true
   },
   "outputs": [],
   "source": [
    "master = master.set_index(['ID','month'])"
   ]
  },
  {
   "cell_type": "code",
   "execution_count": 1556,
   "metadata": {},
   "outputs": [],
   "source": [
    "master1 = master1.set_index(['ID','month'])"
   ]
  },
  {
   "cell_type": "code",
   "execution_count": 1557,
   "metadata": {
    "scrolled": true
   },
   "outputs": [
    {
     "data": {
      "text/html": [
       "<div>\n",
       "<style scoped>\n",
       "    .dataframe tbody tr th:only-of-type {\n",
       "        vertical-align: middle;\n",
       "    }\n",
       "\n",
       "    .dataframe tbody tr th {\n",
       "        vertical-align: top;\n",
       "    }\n",
       "\n",
       "    .dataframe thead th {\n",
       "        text-align: right;\n",
       "    }\n",
       "</style>\n",
       "<table border=\"1\" class=\"dataframe\">\n",
       "  <thead>\n",
       "    <tr style=\"text-align: right;\">\n",
       "      <th></th>\n",
       "      <th></th>\n",
       "      <th>elec_use</th>\n",
       "      <th>elec_bill</th>\n",
       "      <th>price</th>\n",
       "      <th>Month</th>\n",
       "      <th>serial</th>\n",
       "      <th>province</th>\n",
       "      <th>city</th>\n",
       "      <th>county</th>\n",
       "      <th>zipcode</th>\n",
       "      <th>respondent</th>\n",
       "      <th>latitude</th>\n",
       "      <th>longitude</th>\n",
       "      <th>fsize</th>\n",
       "      <th>income</th>\n",
       "      <th>rltn_to_HoH</th>\n",
       "      <th>sex</th>\n",
       "      <th>birthyr</th>\n",
       "      <th>employment</th>\n",
       "      <th>employer</th>\n",
       "      <th>occupation</th>\n",
       "      <th>sector</th>\n",
       "      <th>ethnicity</th>\n",
       "      <th>edu_lvl</th>\n",
       "      <th>edu_yrs</th>\n",
       "      <th>mths_at_home</th>\n",
       "      <th>urban</th>\n",
       "      <th>bldlvl</th>\n",
       "      <th>level</th>\n",
       "      <th>stories</th>\n",
       "      <th>moveinyr</th>\n",
       "      <th>daystyd</th>\n",
       "      <th>own</th>\n",
       "      <th>owntyp</th>\n",
       "      <th>bltyr</th>\n",
       "      <th>wall</th>\n",
       "      <th>roof</th>\n",
       "      <th>height</th>\n",
       "      <th>size</th>\n",
       "      <th>size2</th>\n",
       "      <th>bathroom</th>\n",
       "      <th>balcony</th>\n",
       "      <th>newwdw</th>\n",
       "      <th>window_D</th>\n",
       "      <th>wall_D</th>\n",
       "      <th>insltn_D</th>\n",
       "      <th>bsmt_D</th>\n",
       "      <th>attic_D</th>\n",
       "      <th>garage_D</th>\n",
       "      <th>dlgt_w</th>\n",
       "      <th>dlgt_s</th>\n",
       "      <th>DD_monthly</th>\n",
       "      <th>goodday_count</th>\n",
       "      <th>LC_Type1</th>\n",
       "      <th>LC_Type2</th>\n",
       "      <th>NonTree_Vege</th>\n",
       "      <th>NonVege</th>\n",
       "      <th>Tree_Cover</th>\n",
       "      <th>city_</th>\n",
       "      <th>county_</th>\n",
       "      <th>is_north</th>\n",
       "      <th>is_south</th>\n",
       "      <th>summer</th>\n",
       "      <th>is_summer</th>\n",
       "      <th>new</th>\n",
       "      <th>is_new</th>\n",
       "      <th>sf</th>\n",
       "      <th>Vege_Cover</th>\n",
       "      <th>LC_Type2s</th>\n",
       "      <th>LC_Type3</th>\n",
       "      <th>LC_Type4</th>\n",
       "      <th>LC_Type5</th>\n",
       "      <th>DD_sq</th>\n",
       "      <th>elec_ln</th>\n",
       "    </tr>\n",
       "    <tr>\n",
       "      <th>ID</th>\n",
       "      <th>month</th>\n",
       "      <th></th>\n",
       "      <th></th>\n",
       "      <th></th>\n",
       "      <th></th>\n",
       "      <th></th>\n",
       "      <th></th>\n",
       "      <th></th>\n",
       "      <th></th>\n",
       "      <th></th>\n",
       "      <th></th>\n",
       "      <th></th>\n",
       "      <th></th>\n",
       "      <th></th>\n",
       "      <th></th>\n",
       "      <th></th>\n",
       "      <th></th>\n",
       "      <th></th>\n",
       "      <th></th>\n",
       "      <th></th>\n",
       "      <th></th>\n",
       "      <th></th>\n",
       "      <th></th>\n",
       "      <th></th>\n",
       "      <th></th>\n",
       "      <th></th>\n",
       "      <th></th>\n",
       "      <th></th>\n",
       "      <th></th>\n",
       "      <th></th>\n",
       "      <th></th>\n",
       "      <th></th>\n",
       "      <th></th>\n",
       "      <th></th>\n",
       "      <th></th>\n",
       "      <th></th>\n",
       "      <th></th>\n",
       "      <th></th>\n",
       "      <th></th>\n",
       "      <th></th>\n",
       "      <th></th>\n",
       "      <th></th>\n",
       "      <th></th>\n",
       "      <th></th>\n",
       "      <th></th>\n",
       "      <th></th>\n",
       "      <th></th>\n",
       "      <th></th>\n",
       "      <th></th>\n",
       "      <th></th>\n",
       "      <th></th>\n",
       "      <th></th>\n",
       "      <th></th>\n",
       "      <th></th>\n",
       "      <th></th>\n",
       "      <th></th>\n",
       "      <th></th>\n",
       "      <th></th>\n",
       "      <th></th>\n",
       "      <th></th>\n",
       "      <th></th>\n",
       "      <th></th>\n",
       "      <th></th>\n",
       "      <th></th>\n",
       "      <th></th>\n",
       "      <th></th>\n",
       "      <th></th>\n",
       "      <th></th>\n",
       "      <th></th>\n",
       "      <th></th>\n",
       "      <th></th>\n",
       "      <th></th>\n",
       "      <th></th>\n",
       "      <th></th>\n",
       "    </tr>\n",
       "  </thead>\n",
       "  <tbody>\n",
       "    <tr>\n",
       "      <th>55</th>\n",
       "      <th>1</th>\n",
       "      <td>144.0</td>\n",
       "      <td>62.349998</td>\n",
       "      <td>0.432986</td>\n",
       "      <td>1</td>\n",
       "      <td>2.010201e+17</td>\n",
       "      <td>山东</td>\n",
       "      <td>潍坊市</td>\n",
       "      <td>青州</td>\n",
       "      <td>262513</td>\n",
       "      <td>1.0</td>\n",
       "      <td>36.836109</td>\n",
       "      <td>118.531667</td>\n",
       "      <td>3.0</td>\n",
       "      <td>(8-12] 万</td>\n",
       "      <td>儿子女儿</td>\n",
       "      <td>男</td>\n",
       "      <td>1974.0</td>\n",
       "      <td>全职工作</td>\n",
       "      <td>其他</td>\n",
       "      <td>农民</td>\n",
       "      <td>农,林,牧,渔业</td>\n",
       "      <td>汉族</td>\n",
       "      <td>初中</td>\n",
       "      <td>8.0</td>\n",
       "      <td>12.0</td>\n",
       "      <td>农村</td>\n",
       "      <td>低层住宅（1-3层）</td>\n",
       "      <td>1.0</td>\n",
       "      <td>一层</td>\n",
       "      <td>2007.0</td>\n",
       "      <td>7.0</td>\n",
       "      <td>自有</td>\n",
       "      <td>5.0</td>\n",
       "      <td>2000-2009</td>\n",
       "      <td>砖头</td>\n",
       "      <td>瓦片</td>\n",
       "      <td>(2.8 , 4.5] 米</td>\n",
       "      <td>(120-150] m2</td>\n",
       "      <td>(120-150] m2</td>\n",
       "      <td>1.0</td>\n",
       "      <td>1.0</td>\n",
       "      <td>没有更换过</td>\n",
       "      <td>没有</td>\n",
       "      <td>没有</td>\n",
       "      <td>没有</td>\n",
       "      <td>没有</td>\n",
       "      <td>有</td>\n",
       "      <td>没有</td>\n",
       "      <td>(5,6] 小时</td>\n",
       "      <td>(7,8] 小时</td>\n",
       "      <td>680.759888</td>\n",
       "      <td>8.0</td>\n",
       "      <td>12</td>\n",
       "      <td>12</td>\n",
       "      <td>59.0</td>\n",
       "      <td>36.0</td>\n",
       "      <td>5.0</td>\n",
       "      <td>潍坊市</td>\n",
       "      <td>青州</td>\n",
       "      <td>True</td>\n",
       "      <td>False</td>\n",
       "      <td>0</td>\n",
       "      <td>False</td>\n",
       "      <td>1.0</td>\n",
       "      <td>1.0</td>\n",
       "      <td>1.0</td>\n",
       "      <td>64.0</td>\n",
       "      <td>Cropland</td>\n",
       "      <td>cropland</td>\n",
       "      <td>vege</td>\n",
       "      <td>cropland</td>\n",
       "      <td>463434.03125</td>\n",
       "      <td>4.976734</td>\n",
       "    </tr>\n",
       "  </tbody>\n",
       "</table>\n",
       "</div>"
      ],
      "text/plain": [
       "          elec_use  elec_bill     price  Month        serial province city  \\\n",
       "ID month                                                                     \n",
       "55 1         144.0  62.349998  0.432986      1  2.010201e+17       山东  潍坊市   \n",
       "\n",
       "         county  zipcode  respondent   latitude   longitude  fsize    income  \\\n",
       "ID month                                                                       \n",
       "55 1         青州   262513         1.0  36.836109  118.531667    3.0  (8-12] 万   \n",
       "\n",
       "         rltn_to_HoH sex  birthyr employment employer occupation    sector  \\\n",
       "ID month                                                                     \n",
       "55 1            儿子女儿   男   1974.0       全职工作       其他         农民  农,林,牧,渔业   \n",
       "\n",
       "         ethnicity edu_lvl  edu_yrs  mths_at_home urban      bldlvl  level  \\\n",
       "ID month                                                                     \n",
       "55 1            汉族      初中      8.0          12.0    农村  低层住宅（1-3层）    1.0   \n",
       "\n",
       "         stories  moveinyr  daystyd own  owntyp      bltyr wall roof  \\\n",
       "ID month                                                               \n",
       "55 1          一层    2007.0      7.0  自有     5.0  2000-2009   砖头   瓦片   \n",
       "\n",
       "                 height          size         size2  bathroom  balcony newwdw  \\\n",
       "ID month                                                                        \n",
       "55 1      (2.8 , 4.5] 米  (120-150] m2  (120-150] m2       1.0      1.0  没有更换过   \n",
       "\n",
       "         window_D wall_D insltn_D bsmt_D attic_D garage_D    dlgt_w    dlgt_s  \\\n",
       "ID month                                                                        \n",
       "55 1           没有     没有       没有     没有       有       没有  (5,6] 小时  (7,8] 小时   \n",
       "\n",
       "          DD_monthly  goodday_count  LC_Type1  LC_Type2  NonTree_Vege  \\\n",
       "ID month                                                                \n",
       "55 1      680.759888            8.0        12        12          59.0   \n",
       "\n",
       "          NonVege  Tree_Cover city_ county_  is_north  is_south  summer  \\\n",
       "ID month                                                                  \n",
       "55 1         36.0         5.0   潍坊市      青州      True     False       0   \n",
       "\n",
       "          is_summer  new  is_new   sf  Vege_Cover LC_Type2s  LC_Type3  \\\n",
       "ID month                                                                \n",
       "55 1          False  1.0     1.0  1.0        64.0  Cropland  cropland   \n",
       "\n",
       "         LC_Type4  LC_Type5         DD_sq   elec_ln  \n",
       "ID month                                             \n",
       "55 1         vege  cropland  463434.03125  4.976734  "
      ]
     },
     "execution_count": 1557,
     "metadata": {},
     "output_type": "execute_result"
    }
   ],
   "source": [
    "master1.loc[([55,],1),:]\n",
    "#('bar',),"
   ]
  },
  {
   "cell_type": "code",
   "execution_count": 1558,
   "metadata": {
    "scrolled": false
   },
   "outputs": [
    {
     "name": "stdout",
     "output_type": "stream",
     "text": [
      "                          PanelOLS Estimation Summary                           \n",
      "================================================================================\n",
      "Dep. Variable:               elec_use   R-squared:                        0.0087\n",
      "Estimator:                   PanelOLS   R-squared (Between):             -0.0116\n",
      "No. Observations:               14478   R-squared (Within):               0.0087\n",
      "Date:                Sun, Mar 22 2020   R-squared (Overall):              0.0015\n",
      "Time:                        19:10:59   Log-likelihood                -8.309e+04\n",
      "Cov. Estimator:            Unadjusted                                           \n",
      "                                        F-statistic:                      19.076\n",
      "Entities:                        1381   P-value                           0.0000\n",
      "Avg Obs:                       10.484   Distribution:                 F(6,13091)\n",
      "Min Obs:                       1.0000                                           \n",
      "Max Obs:                       12.000   F-statistic (robust):             19.076\n",
      "                                        P-value                           0.0000\n",
      "Time periods:                      12   Distribution:                 F(6,13091)\n",
      "Avg Obs:                       1206.5                                           \n",
      "Min Obs:                       1101.0                                           \n",
      "Max Obs:                       1320.0                                           \n",
      "                                                                                \n",
      "                                           Parameter Estimates                                           \n",
      "=========================================================================================================\n",
      "                                       Parameter  Std. Err.     T-stat    P-value    Lower CI    Upper CI\n",
      "---------------------------------------------------------------------------------------------------------\n",
      "Intercept                                 144.17     1.1839     121.77     0.0000      141.84      146.49\n",
      "DD_monthly                                0.0365     0.0040     9.0263     0.0000      0.0286      0.0445\n",
      "DD_monthly:LC_Type3[T.cropland]          -0.0171     0.0085    -2.0169     0.0437     -0.0336     -0.0005\n",
      "DD_monthly:LC_Type3[T.forest/savanna]     0.0277     0.0140     1.9799     0.0477      0.0003      0.0552\n",
      "DD_monthly:LC_Type3[T.grassland]         -0.0302     0.0090    -3.3508     0.0008     -0.0478     -0.0125\n",
      "DD_monthly:LC_Type3[T.non-Vegetated]     -0.0244     0.0311    -0.7844     0.4328     -0.0855      0.0366\n",
      "DD_monthly:LC_Type3[T.water]              0.0438     0.0524     0.8350     0.4038     -0.0590      0.1465\n",
      "=========================================================================================================\n",
      "\n",
      "F-test for Poolability: 18.698\n",
      "P-value: 0.0000\n",
      "Distribution: F(1380,13091)\n",
      "\n",
      "Included effects: Entity\n"
     ]
    },
    {
     "name": "stderr",
     "output_type": "stream",
     "text": [
      "/Users/JK/anaconda3/lib/python3.7/site-packages/linearmodels/utility.py:549: MissingValueWarning: \n",
      "Inputs contain missing values. Dropping rows with missing observations.\n",
      "  warnings.warn(missing_value_warning_msg, MissingValueWarning)\n"
     ]
    }
   ],
   "source": [
    "# master1\n",
    "base_LC = PanelOLS.from_formula('elec_use ~ 1 + DD_monthly + DD_monthly:(LC_Type3) + EntityEffects', data=master1)\n",
    "res_base_LC = base_LC.fit()\n",
    "print(res_base_LC)"
   ]
  },
  {
   "cell_type": "markdown",
   "metadata": {},
   "source": [
    "##### Try PooledOLS"
   ]
  },
  {
   "cell_type": "code",
   "execution_count": 1559,
   "metadata": {},
   "outputs": [],
   "source": [
    "from linearmodels.panel import PooledOLS"
   ]
  },
  {
   "cell_type": "code",
   "execution_count": 1560,
   "metadata": {},
   "outputs": [
    {
     "name": "stdout",
     "output_type": "stream",
     "text": [
      "                            OLS Regression Results                            \n",
      "==============================================================================\n",
      "Dep. Variable:               elec_use   R-squared:                       0.009\n",
      "Model:                            OLS   Adj. R-squared:                  0.009\n",
      "Method:                 Least Squares   F-statistic:                     22.89\n",
      "Date:                Sun, 22 Mar 2020   Prob (F-statistic):           4.91e-27\n",
      "Time:                        19:11:28   Log-Likelihood:                -90969.\n",
      "No. Observations:               14478   AIC:                         1.820e+05\n",
      "Df Residuals:                   14471   BIC:                         1.820e+05\n",
      "Df Model:                           6                                         \n",
      "Covariance Type:            nonrobust                                         \n",
      "=========================================================================================================\n",
      "                                            coef    std err          t      P>|t|      [0.025      0.975]\n",
      "---------------------------------------------------------------------------------------------------------\n",
      "Intercept                               150.1123      1.843     81.452      0.000     146.500     153.725\n",
      "DD_monthly                                0.0363      0.005      6.855      0.000       0.026       0.047\n",
      "DD_monthly:LC_Type3[T.cropland]          -0.0822      0.008    -10.418      0.000      -0.098      -0.067\n",
      "DD_monthly:LC_Type3[T.forest/savanna]    -0.0599      0.013     -4.783      0.000      -0.084      -0.035\n",
      "DD_monthly:LC_Type3[T.grassland]         -0.0357      0.009     -3.918      0.000      -0.054      -0.018\n",
      "DD_monthly:LC_Type3[T.non-Vegetated]     -0.0666      0.027     -2.492      0.013      -0.119      -0.014\n",
      "DD_monthly:LC_Type3[T.water]             -0.0276      0.045     -0.619      0.536      -0.115       0.060\n",
      "==============================================================================\n",
      "Omnibus:                    11884.665   Durbin-Watson:                   0.665\n",
      "Prob(Omnibus):                  0.000   Jarque-Bera (JB):           497656.519\n",
      "Skew:                           3.683   Prob(JB):                         0.00\n",
      "Kurtosis:                      30.762   Cond. No.                         666.\n",
      "==============================================================================\n",
      "\n",
      "Warnings:\n",
      "[1] Standard Errors assume that the covariance matrix of the errors is correctly specified.\n"
     ]
    }
   ],
   "source": [
    "cs_LC_simple = smf.ols(\"elec_use ~ 1 +DD_monthly+ DD_monthly:(LC_Type3)\", data=master1, subset=None, drop_cols=None)\n",
    "res_cs_LC_simple = cs_LC_simple.fit()\n",
    "print(res_cs_LC_simple.summary())"
   ]
  },
  {
   "cell_type": "code",
   "execution_count": 1561,
   "metadata": {
    "scrolled": false
   },
   "outputs": [
    {
     "name": "stdout",
     "output_type": "stream",
     "text": [
      "                          PooledOLS Estimation Summary                          \n",
      "================================================================================\n",
      "Dep. Variable:               elec_use   R-squared:                        0.0094\n",
      "Estimator:                  PooledOLS   R-squared (Between):              0.0015\n",
      "No. Observations:               14478   R-squared (Within):              -0.0008\n",
      "Date:                Sun, Mar 22 2020   R-squared (Overall):              0.0094\n",
      "Time:                        19:12:17   Log-likelihood                -9.097e+04\n",
      "Cov. Estimator:            Unadjusted                                           \n",
      "                                        F-statistic:                      22.893\n",
      "Entities:                        1381   P-value                           0.0000\n",
      "Avg Obs:                       10.484   Distribution:                 F(6,14471)\n",
      "Min Obs:                       1.0000                                           \n",
      "Max Obs:                       12.000   F-statistic (robust):             22.893\n",
      "                                        P-value                           0.0000\n",
      "Time periods:                      12   Distribution:                 F(6,14471)\n",
      "Avg Obs:                       1206.5                                           \n",
      "Min Obs:                       1101.0                                           \n",
      "Max Obs:                       1320.0                                           \n",
      "                                                                                \n",
      "                                           Parameter Estimates                                           \n",
      "=========================================================================================================\n",
      "                                       Parameter  Std. Err.     T-stat    P-value    Lower CI    Upper CI\n",
      "---------------------------------------------------------------------------------------------------------\n",
      "Intercept                                 150.11     1.8430     81.452     0.0000      146.50      153.72\n",
      "DD_monthly                                0.0363     0.0053     6.8553     0.0000      0.0259      0.0467\n",
      "DD_monthly:LC_Type3[T.cropland]          -0.0822     0.0079    -10.418     0.0000     -0.0976     -0.0667\n",
      "DD_monthly:LC_Type3[T.forest/savanna]    -0.0599     0.0125    -4.7826     0.0000     -0.0845     -0.0354\n",
      "DD_monthly:LC_Type3[T.grassland]         -0.0357     0.0091    -3.9177     0.0001     -0.0535     -0.0178\n",
      "DD_monthly:LC_Type3[T.non-Vegetated]     -0.0666     0.0267    -2.4917     0.0127     -0.1190     -0.0142\n",
      "DD_monthly:LC_Type3[T.water]             -0.0276     0.0447    -0.6187     0.5361     -0.1152      0.0599\n",
      "=========================================================================================================\n"
     ]
    }
   ],
   "source": [
    "# PooledOLS\n",
    "base_LC_pool = PooledOLS.from_formula('elec_use ~ 1 + DD_monthly + DD_monthly:(LC_Type3)', data=master1)\n",
    "res_base_LC_pool = base_LC_pool.fit()\n",
    "print(res_base_LC_pool)"
   ]
  },
  {
   "cell_type": "code",
   "execution_count": 1562,
   "metadata": {},
   "outputs": [],
   "source": [
    "# no EntityEffects, same as pooledOLS"
   ]
  },
  {
   "cell_type": "code",
   "execution_count": 1563,
   "metadata": {
    "scrolled": false
   },
   "outputs": [
    {
     "name": "stdout",
     "output_type": "stream",
     "text": [
      "                          PanelOLS Estimation Summary                           \n",
      "================================================================================\n",
      "Dep. Variable:               elec_use   R-squared:                        0.0094\n",
      "Estimator:                   PanelOLS   R-squared (Between):              0.0015\n",
      "No. Observations:               14478   R-squared (Within):              -0.0008\n",
      "Date:                Sun, Mar 22 2020   R-squared (Overall):              0.0094\n",
      "Time:                        19:12:47   Log-likelihood                -9.097e+04\n",
      "Cov. Estimator:            Unadjusted                                           \n",
      "                                        F-statistic:                      22.893\n",
      "Entities:                        1381   P-value                           0.0000\n",
      "Avg Obs:                       10.484   Distribution:                 F(6,14471)\n",
      "Min Obs:                       1.0000                                           \n",
      "Max Obs:                       12.000   F-statistic (robust):             22.893\n",
      "                                        P-value                           0.0000\n",
      "Time periods:                      12   Distribution:                 F(6,14471)\n",
      "Avg Obs:                       1206.5                                           \n",
      "Min Obs:                       1101.0                                           \n",
      "Max Obs:                       1320.0                                           \n",
      "                                                                                \n",
      "                                           Parameter Estimates                                           \n",
      "=========================================================================================================\n",
      "                                       Parameter  Std. Err.     T-stat    P-value    Lower CI    Upper CI\n",
      "---------------------------------------------------------------------------------------------------------\n",
      "Intercept                                 150.11     1.8430     81.452     0.0000      146.50      153.72\n",
      "DD_monthly                                0.0363     0.0053     6.8553     0.0000      0.0259      0.0467\n",
      "DD_monthly:LC_Type3[T.cropland]          -0.0822     0.0079    -10.418     0.0000     -0.0976     -0.0667\n",
      "DD_monthly:LC_Type3[T.forest/savanna]    -0.0599     0.0125    -4.7826     0.0000     -0.0845     -0.0354\n",
      "DD_monthly:LC_Type3[T.grassland]         -0.0357     0.0091    -3.9177     0.0001     -0.0535     -0.0178\n",
      "DD_monthly:LC_Type3[T.non-Vegetated]     -0.0666     0.0267    -2.4917     0.0127     -0.1190     -0.0142\n",
      "DD_monthly:LC_Type3[T.water]             -0.0276     0.0447    -0.6187     0.5361     -0.1152      0.0599\n",
      "=========================================================================================================\n",
      "\n",
      "\n"
     ]
    }
   ],
   "source": [
    "base_LC_ = PanelOLS.from_formula('elec_use ~ 1 + DD_monthly + DD_monthly:(LC_Type3)', data=master1)\n",
    "\n",
    "print(base_LC_.fit())"
   ]
  },
  {
   "cell_type": "markdown",
   "metadata": {},
   "source": [
    "##### Try DD_monthly * LC_Type3"
   ]
  },
  {
   "cell_type": "code",
   "execution_count": 1564,
   "metadata": {
    "scrolled": false
   },
   "outputs": [
    {
     "name": "stdout",
     "output_type": "stream",
     "text": [
      "                          PanelOLS Estimation Summary                           \n",
      "================================================================================\n",
      "Dep. Variable:               elec_use   R-squared:                        0.0087\n",
      "Estimator:                   PanelOLS   R-squared (Between):             -0.0116\n",
      "No. Observations:               14478   R-squared (Within):               0.0087\n",
      "Date:                Sun, Mar 22 2020   R-squared (Overall):              0.0015\n",
      "Time:                        19:13:57   Log-likelihood                -8.309e+04\n",
      "Cov. Estimator:            Unadjusted                                           \n",
      "                                        F-statistic:                      19.076\n",
      "Entities:                        1381   P-value                           0.0000\n",
      "Avg Obs:                       10.484   Distribution:                 F(6,13091)\n",
      "Min Obs:                       1.0000                                           \n",
      "Max Obs:                       12.000   F-statistic (robust):             19.076\n",
      "                                        P-value                           0.0000\n",
      "Time periods:                      12   Distribution:                 F(6,13091)\n",
      "Avg Obs:                       1206.5                                           \n",
      "Min Obs:                       1101.0                                           \n",
      "Max Obs:                       1320.0                                           \n",
      "                                                                                \n",
      "                                           Parameter Estimates                                           \n",
      "=========================================================================================================\n",
      "                                       Parameter  Std. Err.     T-stat    P-value    Lower CI    Upper CI\n",
      "---------------------------------------------------------------------------------------------------------\n",
      "Intercept                                 144.17     1.1839     121.77     0.0000      141.84      146.49\n",
      "DD_monthly                                0.0365     0.0040     9.0263     0.0000      0.0286      0.0445\n",
      "DD_monthly:LC_Type3[T.cropland]          -0.0171     0.0085    -2.0169     0.0437     -0.0336     -0.0005\n",
      "DD_monthly:LC_Type3[T.forest/savanna]     0.0277     0.0140     1.9799     0.0477      0.0003      0.0552\n",
      "DD_monthly:LC_Type3[T.grassland]         -0.0302     0.0090    -3.3508     0.0008     -0.0478     -0.0125\n",
      "DD_monthly:LC_Type3[T.non-Vegetated]     -0.0244     0.0311    -0.7844     0.4328     -0.0855      0.0366\n",
      "DD_monthly:LC_Type3[T.water]              0.0438     0.0524     0.8350     0.4038     -0.0590      0.1465\n",
      "=========================================================================================================\n",
      "\n",
      "F-test for Poolability: 18.698\n",
      "P-value: 0.0000\n",
      "Distribution: F(1380,13091)\n",
      "\n",
      "Included effects: Entity\n"
     ]
    },
    {
     "name": "stderr",
     "output_type": "stream",
     "text": [
      "/Users/JK/anaconda3/lib/python3.7/site-packages/linearmodels/panel/model.py:1669: AbsorbingEffectWarning: \n",
      "Variables have been fully absorbed and have removed from the regression:\n",
      "\n",
      "LC_Type3[T.cropland], LC_Type3[T.forest/savanna], LC_Type3[T.grassland], LC_Type3[T.non-Vegetated], LC_Type3[T.water]\n",
      "\n",
      "  AbsorbingEffectWarning,\n"
     ]
    }
   ],
   "source": [
    "base_LC_star = PanelOLS.from_formula('elec_use ~ 1 + DD_monthly + DD_monthly * (LC_Type3) + EntityEffects',\n",
    "                                     drop_absorbed=True, data=master1)\n",
    "res_base_LC_star = base_LC_star.fit()\n",
    "print(res_base_LC_star)"
   ]
  },
  {
   "cell_type": "markdown",
   "metadata": {},
   "source": [
    "##### Try province dummy"
   ]
  },
  {
   "cell_type": "code",
   "execution_count": 1565,
   "metadata": {
    "scrolled": false
   },
   "outputs": [
    {
     "name": "stdout",
     "output_type": "stream",
     "text": [
      "                          PanelOLS Estimation Summary                           \n",
      "================================================================================\n",
      "Dep. Variable:               elec_use   R-squared:                        0.0087\n",
      "Estimator:                   PanelOLS   R-squared (Between):             -0.0116\n",
      "No. Observations:               14478   R-squared (Within):               0.0087\n",
      "Date:                Sun, Mar 22 2020   R-squared (Overall):              0.0015\n",
      "Time:                        19:14:03   Log-likelihood                -8.309e+04\n",
      "Cov. Estimator:            Unadjusted                                           \n",
      "                                        F-statistic:                      19.076\n",
      "Entities:                        1381   P-value                           0.0000\n",
      "Avg Obs:                       10.484   Distribution:                 F(6,13091)\n",
      "Min Obs:                       1.0000                                           \n",
      "Max Obs:                       12.000   F-statistic (robust):             19.076\n",
      "                                        P-value                           0.0000\n",
      "Time periods:                      12   Distribution:                 F(6,13091)\n",
      "Avg Obs:                       1206.5                                           \n",
      "Min Obs:                       1101.0                                           \n",
      "Max Obs:                       1320.0                                           \n",
      "                                                                                \n",
      "                                           Parameter Estimates                                           \n",
      "=========================================================================================================\n",
      "                                       Parameter  Std. Err.     T-stat    P-value    Lower CI    Upper CI\n",
      "---------------------------------------------------------------------------------------------------------\n",
      "Intercept                                 144.17     1.1839     121.77     0.0000      141.84      146.49\n",
      "DD_monthly                                0.0365     0.0040     9.0263     0.0000      0.0286      0.0445\n",
      "DD_monthly:LC_Type3[T.cropland]          -0.0171     0.0085    -2.0169     0.0437     -0.0336     -0.0005\n",
      "DD_monthly:LC_Type3[T.forest/savanna]     0.0277     0.0140     1.9799     0.0477      0.0003      0.0552\n",
      "DD_monthly:LC_Type3[T.grassland]         -0.0302     0.0090    -3.3508     0.0008     -0.0478     -0.0125\n",
      "DD_monthly:LC_Type3[T.non-Vegetated]     -0.0244     0.0311    -0.7844     0.4328     -0.0855      0.0366\n",
      "DD_monthly:LC_Type3[T.water]              0.0438     0.0524     0.8350     0.4038     -0.0590      0.1465\n",
      "=========================================================================================================\n",
      "\n",
      "F-test for Poolability: 18.698\n",
      "P-value: 0.0000\n",
      "Distribution: F(1380,13091)\n",
      "\n",
      "Included effects: Entity\n"
     ]
    },
    {
     "name": "stderr",
     "output_type": "stream",
     "text": [
      "/Users/JK/anaconda3/lib/python3.7/site-packages/linearmodels/panel/model.py:1669: AbsorbingEffectWarning: \n",
      "Variables have been fully absorbed and have removed from the regression:\n",
      "\n",
      "province[T.云南], province[T.内蒙古], province[T.北京], province[T.吉林], province[T.四川], province[T.天津], province[T.宁夏回族自治区], province[T.安徽], province[T.山东], province[T.山西], province[T.广东], province[T.广西], province[T.新疆], province[T.江西], province[T.河北], province[T.河南], province[T.浙江], province[T.海南], province[T.湖北], province[T.湖南], province[T.甘肃], province[T.福建], province[T.贵州], province[T.辽宁], province[T.重庆], province[T.黑龙江]\n",
      "\n",
      "  AbsorbingEffectWarning,\n"
     ]
    }
   ],
   "source": [
    "base_LC_prov = PanelOLS.from_formula('elec_use ~ 1 + DD_monthly + DD_monthly:(LC_Type3) +province + EntityEffects',\n",
    "                                     drop_absorbed=True, data=master1)\n",
    "res_base_LC_prov = base_LC_prov.fit()\n",
    "print(res_base_LC_prov)"
   ]
  },
  {
   "cell_type": "markdown",
   "metadata": {},
   "source": [
    "##### Try Random Effects"
   ]
  },
  {
   "cell_type": "code",
   "execution_count": 1566,
   "metadata": {},
   "outputs": [],
   "source": [
    "from linearmodels.panel import RandomEffects"
   ]
  },
  {
   "cell_type": "code",
   "execution_count": 1567,
   "metadata": {
    "scrolled": false
   },
   "outputs": [
    {
     "name": "stdout",
     "output_type": "stream",
     "text": [
      "                        RandomEffects Estimation Summary                        \n",
      "================================================================================\n",
      "Dep. Variable:               elec_use   R-squared:                        0.0503\n",
      "Estimator:              RandomEffects   R-squared (Between):              0.2078\n",
      "No. Observations:               14478   R-squared (Within):               0.0086\n",
      "Date:                Sun, Mar 22 2020   R-squared (Overall):              0.1251\n",
      "Time:                        19:14:10   Log-likelihood                -8.379e+04\n",
      "Cov. Estimator:            Unadjusted                                           \n",
      "                                        F-statistic:                      23.932\n",
      "Entities:                        1381   P-value                           0.0000\n",
      "Avg Obs:                       10.484   Distribution:                F(32,14445)\n",
      "Min Obs:                       1.0000                                           \n",
      "Max Obs:                       12.000   F-statistic (robust):             14.459\n",
      "                                        P-value                           0.0000\n",
      "Time periods:                      12   Distribution:                F(32,14445)\n",
      "Avg Obs:                       1206.5                                           \n",
      "Min Obs:                       1101.0                                           \n",
      "Max Obs:                       1320.0                                           \n",
      "                                                                                \n",
      "                                           Parameter Estimates                                           \n",
      "=========================================================================================================\n",
      "                                       Parameter  Std. Err.     T-stat    P-value    Lower CI    Upper CI\n",
      "---------------------------------------------------------------------------------------------------------\n",
      "Intercept                                 244.52     13.401     18.247     0.0000      218.25      270.78\n",
      "province[T.云南]                           -169.68     24.100    -7.0407     0.0000     -216.92     -122.44\n",
      "province[T.内蒙古]                          -48.997     22.228    -2.2043     0.0275     -92.567     -5.4269\n",
      "province[T.北京]                           -105.17     19.941    -5.2742     0.0000     -144.26     -66.087\n",
      "province[T.吉林]                           -143.43     18.421    -7.7865     0.0000     -179.54     -107.33\n",
      "province[T.四川]                           -117.30     22.283    -5.2642     0.0000     -160.98     -73.625\n",
      "province[T.天津]                           -106.92     27.600    -3.8740     0.0001     -161.02     -52.823\n",
      "province[T.宁夏回族自治区]                      -122.18     27.725    -4.4070     0.0000     -176.53     -67.839\n",
      "province[T.安徽]                           -6.7393     21.499    -0.3135     0.7539     -48.881      35.402\n",
      "province[T.山东]                           -81.987     15.336    -5.3460     0.0000     -112.05     -51.926\n",
      "province[T.山西]                           -29.211     20.473    -1.4268     0.1537     -69.341      10.919\n",
      "province[T.广东]                            39.520     55.608     0.7107     0.4773     -69.478      148.52\n",
      "province[T.广西]                           -97.389     22.096    -4.4075     0.0000     -140.70     -54.077\n",
      "province[T.新疆]                           -107.83     25.202    -4.2785     0.0000     -157.22     -58.427\n",
      "province[T.江西]                           -151.63     27.635    -5.4869     0.0000     -205.80     -97.462\n",
      "province[T.河北]                           -146.80     18.921    -7.7585     0.0000     -183.89     -109.71\n",
      "province[T.河南]                           -113.90     16.332    -6.9744     0.0000     -145.92     -81.892\n",
      "province[T.浙江]                           -100.60     23.053    -4.3638     0.0000     -145.79     -55.413\n",
      "province[T.海南]                           -120.13     77.692    -1.5462     0.1221     -272.41      32.161\n",
      "province[T.湖北]                           -122.81     16.260    -7.5528     0.0000     -154.68     -90.937\n",
      "province[T.湖南]                           -80.213     16.663    -4.8138     0.0000     -112.87     -47.551\n",
      "province[T.甘肃]                           -55.036     27.645    -1.9908     0.0465     -109.22     -0.8489\n",
      "province[T.福建]                           -15.336     23.600    -0.6498     0.5158     -61.595      30.924\n",
      "province[T.贵州]                           -92.308     27.180    -3.3962     0.0007     -145.58     -39.032\n",
      "province[T.辽宁]                           -121.01     27.057    -4.4725     0.0000     -174.05     -67.976\n",
      "province[T.重庆]                            149.38     24.300     6.1473     0.0000      101.75      197.01\n",
      "province[T.黑龙江]                          -133.91     21.239    -6.3051     0.0000     -175.54     -92.282\n",
      "DD_monthly                                0.0383     0.0040     9.6246     0.0000      0.0305      0.0461\n",
      "DD_monthly:LC_Type3[T.cropland]          -0.0232     0.0081    -2.8676     0.0041     -0.0390     -0.0073\n",
      "DD_monthly:LC_Type3[T.forest/savanna]     0.0212     0.0134     1.5782     0.1145     -0.0051      0.0474\n",
      "DD_monthly:LC_Type3[T.grassland]         -0.0298     0.0088    -3.3998     0.0007     -0.0470     -0.0126\n",
      "DD_monthly:LC_Type3[T.non-Vegetated]     -0.0286     0.0294    -0.9736     0.3303     -0.0863      0.0290\n",
      "DD_monthly:LC_Type3[T.water]              0.0284     0.0492     0.5768     0.5641     -0.0680      0.1247\n",
      "=========================================================================================================\n"
     ]
    }
   ],
   "source": [
    "base_LC_RE = RandomEffects.from_formula('elec_use ~ 1 + DD_monthly + DD_monthly:(LC_Type3) + province ',\n",
    "                                      data=master1)\n",
    "res_base_LC_RE = base_LC_RE.fit()\n",
    "print(res_base_LC_RE)"
   ]
  },
  {
   "cell_type": "code",
   "execution_count": 1568,
   "metadata": {},
   "outputs": [
    {
     "data": {
      "text/plain": [
       "Effects                   11104.974375\n",
       "Residual                   6263.273314\n",
       "Percent due to Effects        0.639384\n",
       "Name: Variance Decomposition, dtype: float64"
      ]
     },
     "execution_count": 1568,
     "metadata": {},
     "output_type": "execute_result"
    }
   ],
   "source": [
    "res_base_LC_RE.variance_decomposition"
   ]
  },
  {
   "cell_type": "markdown",
   "metadata": {},
   "source": [
    "##### Compare Results"
   ]
  },
  {
   "cell_type": "code",
   "execution_count": 1569,
   "metadata": {
    "scrolled": false
   },
   "outputs": [],
   "source": [
    "from linearmodels.panel import compare\n",
    "# print(compare({'Fixed':res_base_LC,'prov':res_base_LC_prov,'star':res_base_LC_star}))"
   ]
  },
  {
   "cell_type": "code",
   "execution_count": 1570,
   "metadata": {
    "scrolled": false
   },
   "outputs": [
    {
     "name": "stdout",
     "output_type": "stream",
     "text": [
      "                                            Model Comparison                                            \n",
      "========================================================================================================\n",
      "                                                   Fixed           prov           Pool                RE\n",
      "--------------------------------------------------------------------------------------------------------\n",
      "Dep. Variable                                   elec_use       elec_use       elec_use          elec_use\n",
      "Estimator                                       PanelOLS       PanelOLS      PooledOLS     RandomEffects\n",
      "No. Observations                                   14478          14478          14478             14478\n",
      "Cov. Est.                                     Unadjusted     Unadjusted     Unadjusted        Unadjusted\n",
      "R-squared                                         0.0087         0.0087         0.0094            0.0503\n",
      "R-Squared (Within)                                0.0087         0.0087        -0.0008            0.0086\n",
      "R-Squared (Between)                              -0.0116        -0.0116         0.0015            0.2078\n",
      "R-Squared (Overall)                               0.0015         0.0015         0.0094            0.1251\n",
      "F-statistic                                       19.076         19.076         22.893            23.932\n",
      "P-value (F-stat)                                  0.0000         0.0000         0.0000            0.0000\n",
      "=======================================     ============   ============   ============   ===============\n",
      "Intercept                                         144.17         144.17         150.11            244.52\n",
      "                                                (121.77)       (121.77)       (81.452)          (18.247)\n",
      "DD_monthly                                        0.0365         0.0365         0.0363            0.0383\n",
      "                                                (9.0263)       (9.0263)       (6.8553)          (9.6246)\n",
      "DD_monthly:LC_Type3[T.cropland]                  -0.0171        -0.0171        -0.0822           -0.0232\n",
      "                                               (-2.0169)      (-2.0169)      (-10.418)         (-2.8676)\n",
      "DD_monthly:LC_Type3[T.forest/savanna]             0.0277         0.0277        -0.0599            0.0212\n",
      "                                                (1.9799)       (1.9799)      (-4.7826)          (1.5782)\n",
      "DD_monthly:LC_Type3[T.grassland]                 -0.0302        -0.0302        -0.0357           -0.0298\n",
      "                                               (-3.3508)      (-3.3508)      (-3.9177)         (-3.3998)\n",
      "DD_monthly:LC_Type3[T.non-Vegetated]             -0.0244        -0.0244        -0.0666           -0.0286\n",
      "                                               (-0.7844)      (-0.7844)      (-2.4917)         (-0.9736)\n",
      "DD_monthly:LC_Type3[T.water]                      0.0438         0.0438        -0.0276            0.0284\n",
      "                                                (0.8350)       (0.8350)      (-0.6187)          (0.5768)\n",
      "province[T.云南]                                                                                   -169.68\n",
      "                                                                                               (-7.0407)\n",
      "province[T.内蒙古]                                                                                  -48.997\n",
      "                                                                                               (-2.2043)\n",
      "province[T.北京]                                                                                   -105.17\n",
      "                                                                                               (-5.2742)\n",
      "province[T.吉林]                                                                                   -143.43\n",
      "                                                                                               (-7.7865)\n",
      "province[T.四川]                                                                                   -117.30\n",
      "                                                                                               (-5.2642)\n",
      "province[T.天津]                                                                                   -106.92\n",
      "                                                                                               (-3.8740)\n",
      "province[T.宁夏回族自治区]                                                                              -122.18\n",
      "                                                                                               (-4.4070)\n",
      "province[T.安徽]                                                                                   -6.7393\n",
      "                                                                                               (-0.3135)\n",
      "province[T.山东]                                                                                   -81.987\n",
      "                                                                                               (-5.3460)\n",
      "province[T.山西]                                                                                   -29.211\n",
      "                                                                                               (-1.4268)\n",
      "province[T.广东]                                                                                    39.520\n",
      "                                                                                                (0.7107)\n",
      "province[T.广西]                                                                                   -97.389\n",
      "                                                                                               (-4.4075)\n",
      "province[T.新疆]                                                                                   -107.83\n",
      "                                                                                               (-4.2785)\n",
      "province[T.江西]                                                                                   -151.63\n",
      "                                                                                               (-5.4869)\n",
      "province[T.河北]                                                                                   -146.80\n",
      "                                                                                               (-7.7585)\n",
      "province[T.河南]                                                                                   -113.90\n",
      "                                                                                               (-6.9744)\n",
      "province[T.浙江]                                                                                   -100.60\n",
      "                                                                                               (-4.3638)\n",
      "province[T.海南]                                                                                   -120.13\n",
      "                                                                                               (-1.5462)\n",
      "province[T.湖北]                                                                                   -122.81\n",
      "                                                                                               (-7.5528)\n",
      "province[T.湖南]                                                                                   -80.213\n",
      "                                                                                               (-4.8138)\n",
      "province[T.甘肃]                                                                                   -55.036\n",
      "                                                                                               (-1.9908)\n",
      "province[T.福建]                                                                                   -15.336\n",
      "                                                                                               (-0.6498)\n",
      "province[T.贵州]                                                                                   -92.308\n",
      "                                                                                               (-3.3962)\n",
      "province[T.辽宁]                                                                                   -121.01\n",
      "                                                                                               (-4.4725)\n",
      "province[T.重庆]                                                                                    149.38\n",
      "                                                                                                (6.1473)\n",
      "province[T.黑龙江]                                                                                  -133.91\n",
      "                                                                                               (-6.3051)\n",
      "========================================= ============== ============== ============== =================\n",
      "Effects                                           Entity         Entity                                 \n",
      "--------------------------------------------------------------------------------------------------------\n",
      "\n",
      "T-stats reported in parentheses\n"
     ]
    }
   ],
   "source": [
    "print(compare({'Fixed':res_base_LC,'prov':res_base_LC_prov,'Pool':res_base_LC_pool,'RE':res_base_LC_RE}))"
   ]
  },
  {
   "cell_type": "code",
   "execution_count": 1573,
   "metadata": {
    "scrolled": false
   },
   "outputs": [
    {
     "name": "stdout",
     "output_type": "stream",
     "text": [
      "                                     Model Comparison                                    \n",
      "=========================================================================================\n",
      "                                                   Fixed        Pool/CS                RE\n",
      "-----------------------------------------------------------------------------------------\n",
      "Dep. Variable                                   elec_use       elec_use          elec_use\n",
      "Estimator                                       PanelOLS      PooledOLS     RandomEffects\n",
      "No. Observations                                   14478          14478             14478\n",
      "Cov. Est.                                     Unadjusted     Unadjusted        Unadjusted\n",
      "R-squared                                         0.0087         0.0094            0.0503\n",
      "R-Squared (Within)                                0.0087        -0.0008            0.0086\n",
      "R-Squared (Between)                              -0.0116         0.0015            0.2078\n",
      "R-Squared (Overall)                               0.0015         0.0094            0.1251\n",
      "F-statistic                                       19.076         22.893            23.932\n",
      "P-value (F-stat)                                  0.0000         0.0000            0.0000\n",
      "=======================================     ============   ============   ===============\n",
      "Intercept                                         144.17         150.11            244.52\n",
      "                                                (121.77)       (81.452)          (18.247)\n",
      "DD_monthly                                        0.0365         0.0363            0.0383\n",
      "                                                (9.0263)       (6.8553)          (9.6246)\n",
      "DD_monthly:LC_Type3[T.cropland]                  -0.0171        -0.0822           -0.0232\n",
      "                                               (-2.0169)      (-10.418)         (-2.8676)\n",
      "DD_monthly:LC_Type3[T.forest/savanna]             0.0277        -0.0599            0.0212\n",
      "                                                (1.9799)      (-4.7826)          (1.5782)\n",
      "DD_monthly:LC_Type3[T.grassland]                 -0.0302        -0.0357           -0.0298\n",
      "                                               (-3.3508)      (-3.9177)         (-3.3998)\n",
      "DD_monthly:LC_Type3[T.non-Vegetated]             -0.0244        -0.0666           -0.0286\n",
      "                                               (-0.7844)      (-2.4917)         (-0.9736)\n",
      "DD_monthly:LC_Type3[T.water]                      0.0438        -0.0276            0.0284\n",
      "                                                (0.8350)      (-0.6187)          (0.5768)\n",
      "province[T.云南]                                                                    -169.68\n",
      "                                                                                (-7.0407)\n",
      "province[T.内蒙古]                                                                   -48.997\n",
      "                                                                                (-2.2043)\n",
      "province[T.北京]                                                                    -105.17\n",
      "                                                                                (-5.2742)\n",
      "province[T.吉林]                                                                    -143.43\n",
      "                                                                                (-7.7865)\n",
      "province[T.四川]                                                                    -117.30\n",
      "                                                                                (-5.2642)\n",
      "province[T.天津]                                                                    -106.92\n",
      "                                                                                (-3.8740)\n",
      "province[T.宁夏回族自治区]                                                               -122.18\n",
      "                                                                                (-4.4070)\n",
      "province[T.安徽]                                                                    -6.7393\n",
      "                                                                                (-0.3135)\n",
      "province[T.山东]                                                                    -81.987\n",
      "                                                                                (-5.3460)\n",
      "province[T.山西]                                                                    -29.211\n",
      "                                                                                (-1.4268)\n",
      "province[T.广东]                                                                     39.520\n",
      "                                                                                 (0.7107)\n",
      "province[T.广西]                                                                    -97.389\n",
      "                                                                                (-4.4075)\n",
      "province[T.新疆]                                                                    -107.83\n",
      "                                                                                (-4.2785)\n",
      "province[T.江西]                                                                    -151.63\n",
      "                                                                                (-5.4869)\n",
      "province[T.河北]                                                                    -146.80\n",
      "                                                                                (-7.7585)\n",
      "province[T.河南]                                                                    -113.90\n",
      "                                                                                (-6.9744)\n",
      "province[T.浙江]                                                                    -100.60\n",
      "                                                                                (-4.3638)\n",
      "province[T.海南]                                                                    -120.13\n",
      "                                                                                (-1.5462)\n",
      "province[T.湖北]                                                                    -122.81\n",
      "                                                                                (-7.5528)\n",
      "province[T.湖南]                                                                    -80.213\n",
      "                                                                                (-4.8138)\n",
      "province[T.甘肃]                                                                    -55.036\n",
      "                                                                                (-1.9908)\n",
      "province[T.福建]                                                                    -15.336\n",
      "                                                                                (-0.6498)\n",
      "province[T.贵州]                                                                    -92.308\n",
      "                                                                                (-3.3962)\n",
      "province[T.辽宁]                                                                    -121.01\n",
      "                                                                                (-4.4725)\n",
      "province[T.重庆]                                                                     149.38\n",
      "                                                                                 (6.1473)\n",
      "province[T.黑龙江]                                                                   -133.91\n",
      "                                                                                (-6.3051)\n",
      "========================================= ============== ============== =================\n",
      "Effects                                           Entity                                 \n",
      "-----------------------------------------------------------------------------------------\n",
      "\n",
      "T-stats reported in parentheses\n"
     ]
    }
   ],
   "source": [
    "print(compare({'Fixed':res_base_LC,'Pool/CS':res_base_LC_pool,'RE':res_base_LC_RE}))"
   ]
  },
  {
   "cell_type": "markdown",
   "metadata": {},
   "source": [
    "##### Try `LC_Type2s`"
   ]
  },
  {
   "cell_type": "code",
   "execution_count": 191,
   "metadata": {
    "scrolled": false
   },
   "outputs": [
    {
     "name": "stdout",
     "output_type": "stream",
     "text": [
      "                          PanelOLS Estimation Summary                           \n",
      "================================================================================\n",
      "Dep. Variable:               elec_use   R-squared:                        0.0112\n",
      "Estimator:                   PanelOLS   R-squared (Between):             -0.0101\n",
      "No. Observations:               14477   R-squared (Within):               0.0112\n",
      "Date:                Wed, Mar 18 2020   R-squared (Overall):              0.0019\n",
      "Time:                        13:18:55   Log-likelihood                 -8.29e+04\n",
      "Cov. Estimator:            Unadjusted                                           \n",
      "                                        F-statistic:                      13.417\n",
      "Entities:                        1381   P-value                           0.0000\n",
      "Avg Obs:                       10.483   Distribution:                F(11,13085)\n",
      "Min Obs:                       1.0000                                           \n",
      "Max Obs:                       12.000   F-statistic (robust):             13.417\n",
      "                                        P-value                           0.0000\n",
      "Time periods:                      12   Distribution:                F(11,13085)\n",
      "Avg Obs:                       1206.4                                           \n",
      "Min Obs:                       1101.0                                           \n",
      "Max Obs:                       1320.0                                           \n",
      "                                                                                \n",
      "                                            Parameter Estimates                                            \n",
      "===========================================================================================================\n",
      "                                         Parameter  Std. Err.     T-stat    P-value    Lower CI    Upper CI\n",
      "-----------------------------------------------------------------------------------------------------------\n",
      "Intercept                                   143.55     1.1766     122.00     0.0000      141.24      145.85\n",
      "DD_monthly                                  0.0368     0.0040     9.2030     0.0000      0.0290      0.0446\n",
      "DD_monthly:LC_Type2s[T.Cropland]           -0.0230     0.0085    -2.6970     0.0070     -0.0398     -0.0063\n",
      "DD_monthly:LC_Type2s[T.Evergreen]           0.2052     0.1563     1.3129     0.1892     -0.1012      0.5115\n",
      "DD_monthly:LC_Type2s[T.Grassland]          -0.0304     0.0089    -3.4216     0.0006     -0.0479     -0.0130\n",
      "DD_monthly:LC_Type2s[T.Mixed forest]        0.1549     0.0656     2.3623     0.0182      0.0264      0.2834\n",
      "DD_monthly:LC_Type2s[T.Non-Vegetated]      -0.0247     0.0308    -0.8026     0.4222     -0.0850      0.0356\n",
      "DD_monthly:LC_Type2s[T.Savanna]             0.0211     0.0143     1.4723     0.1410     -0.0070      0.0491\n",
      "DD_monthly:LC_Type2s[T.Water]               0.3002     0.0877     3.4218     0.0006      0.1282      0.4721\n",
      "DD_monthly:LC_Type2s[T.Wetland]            -0.0930     0.0640    -1.4523     0.1464     -0.2185      0.0325\n",
      "DD_monthly:LC_Type2s[T.Woody Savanna]       0.0028     0.0879     0.0324     0.9742     -0.1695      0.1752\n",
      "DD_monthly:LC_Type2s[T.cropland mosaic]     0.0825     0.0318     2.5940     0.0095      0.0202      0.1449\n",
      "===========================================================================================================\n",
      "\n",
      "F-test for Poolability: 18.590\n",
      "P-value: 0.0000\n",
      "Distribution: F(1380,13085)\n",
      "\n",
      "Included effects: Entity\n"
     ]
    }
   ],
   "source": [
    "base_LC2 = PanelOLS.from_formula('elec_use ~ 1 + DD_monthly + DD_monthly:(LC_Type2s) + EntityEffects', data=master1)\n",
    "\n",
    "print(base_LC2.fit())"
   ]
  },
  {
   "cell_type": "markdown",
   "metadata": {},
   "source": [
    "##### w/ Log `elec_use`"
   ]
  },
  {
   "cell_type": "code",
   "execution_count": 1574,
   "metadata": {
    "scrolled": false
   },
   "outputs": [
    {
     "name": "stdout",
     "output_type": "stream",
     "text": [
      "                          PanelOLS Estimation Summary                           \n",
      "================================================================================\n",
      "Dep. Variable:                elec_ln   R-squared:                        0.0088\n",
      "Estimator:                   PanelOLS   R-squared (Between):             -0.0047\n",
      "No. Observations:               14478   R-squared (Within):               0.0088\n",
      "Date:                Sun, Mar 22 2020   R-squared (Overall):              0.0045\n",
      "Time:                        19:19:12   Log-likelihood                   -7451.3\n",
      "Cov. Estimator:            Unadjusted                                           \n",
      "                                        F-statistic:                      19.461\n",
      "Entities:                        1381   P-value                           0.0000\n",
      "Avg Obs:                       10.484   Distribution:                 F(6,13091)\n",
      "Min Obs:                       1.0000                                           \n",
      "Max Obs:                       12.000   F-statistic (robust):             19.461\n",
      "                                        P-value                           0.0000\n",
      "Time periods:                      12   Distribution:                 F(6,13091)\n",
      "Avg Obs:                       1206.5                                           \n",
      "Min Obs:                       1101.0                                           \n",
      "Max Obs:                       1320.0                                           \n",
      "                                                                                \n",
      "                                           Parameter Estimates                                           \n",
      "=========================================================================================================\n",
      "                                       Parameter  Std. Err.     T-stat    P-value    Lower CI    Upper CI\n",
      "---------------------------------------------------------------------------------------------------------\n",
      "Intercept                                 4.7364     0.0064     742.92     0.0000      4.7239      4.7489\n",
      "DD_monthly                                0.0002   2.18e-05     9.4756     0.0000      0.0002      0.0002\n",
      "DD_monthly:LC_Type3[T.cropland]       -8.245e-05  4.555e-05    -1.8100     0.0703     -0.0002   6.841e-06\n",
      "DD_monthly:LC_Type3[T.forest/savanna]  7.155e-05  7.544e-05     0.9484     0.3429  -7.633e-05      0.0002\n",
      "DD_monthly:LC_Type3[T.grassland]         -0.0002  4.849e-05    -3.1012     0.0019     -0.0002  -5.533e-05\n",
      "DD_monthly:LC_Type3[T.non-Vegetated]  -8.709e-05     0.0002    -0.5194     0.6035     -0.0004      0.0002\n",
      "DD_monthly:LC_Type3[T.water]          -4.534e-05     0.0003    -0.1606     0.8724     -0.0006      0.0005\n",
      "=========================================================================================================\n",
      "\n",
      "F-test for Poolability: 21.191\n",
      "P-value: 0.0000\n",
      "Distribution: F(1380,13091)\n",
      "\n",
      "Included effects: Entity\n"
     ]
    },
    {
     "name": "stderr",
     "output_type": "stream",
     "text": [
      "/Users/JK/anaconda3/lib/python3.7/site-packages/linearmodels/utility.py:549: MissingValueWarning: \n",
      "Inputs contain missing values. Dropping rows with missing observations.\n",
      "  warnings.warn(missing_value_warning_msg, MissingValueWarning)\n"
     ]
    }
   ],
   "source": [
    "base_LC_ln = PanelOLS.from_formula('elec_ln ~ 1 + DD_monthly + DD_monthly:(LC_Type3) + EntityEffects', data=master1)\n",
    "\n",
    "print(base_LC_ln.fit())"
   ]
  },
  {
   "cell_type": "markdown",
   "metadata": {},
   "source": [
    "## Summer"
   ]
  },
  {
   "cell_type": "markdown",
   "metadata": {},
   "source": [
    "First, let's explore if there are any seaonal effect driving the results, especially for forest/savanna"
   ]
  },
  {
   "cell_type": "markdown",
   "metadata": {},
   "source": [
    "DD at 0.1444 , grassland and cropland signi positive, forest/savanna signi and positive"
   ]
  },
  {
   "cell_type": "code",
   "execution_count": 1250,
   "metadata": {
    "scrolled": false
   },
   "outputs": [
    {
     "name": "stdout",
     "output_type": "stream",
     "text": [
      "                          PanelOLS Estimation Summary                           \n",
      "================================================================================\n",
      "Dep. Variable:               elec_use   R-squared:                        0.0433\n",
      "Estimator:                   PanelOLS   R-squared (Between):              0.0110\n",
      "No. Observations:                7296   R-squared (Within):               0.0433\n",
      "Date:                Sun, Mar 22 2020   R-squared (Overall):              0.0318\n",
      "Time:                        14:33:55   Log-likelihood                -4.121e+04\n",
      "Cov. Estimator:            Unadjusted                                           \n",
      "                                        F-statistic:                      44.633\n",
      "Entities:                        1380   P-value                           0.0000\n",
      "Avg Obs:                       5.2870   Distribution:                  F(6,5910)\n",
      "Min Obs:                       1.0000                                           \n",
      "Max Obs:                       6.0000   F-statistic (robust):             44.633\n",
      "                                        P-value                           0.0000\n",
      "Time periods:                       6   Distribution:                  F(6,5910)\n",
      "Avg Obs:                       1216.0                                           \n",
      "Min Obs:                       1180.0                                           \n",
      "Max Obs:                       1281.0                                           \n",
      "                                                                                \n",
      "                                           Parameter Estimates                                           \n",
      "=========================================================================================================\n",
      "                                       Parameter  Std. Err.     T-stat    P-value    Lower CI    Upper CI\n",
      "---------------------------------------------------------------------------------------------------------\n",
      "Intercept                                 127.62     2.1342     59.797     0.0000      123.43      131.80\n",
      "DD_monthly                                0.1444     0.0104     13.886     0.0000      0.1240      0.1648\n",
      "DD_monthly:LC_Type3[T.cropland]          -0.0558     0.0263    -2.1205     0.0340     -0.1074     -0.0042\n",
      "DD_monthly:LC_Type3[T.forest/savanna]     0.0726     0.0308     2.3549     0.0186      0.0122      0.1330\n",
      "DD_monthly:LC_Type3[T.grassland]         -0.1248     0.0453    -2.7583     0.0058     -0.2136     -0.0361\n",
      "DD_monthly:LC_Type3[T.non-Vegetated]     -0.1254     0.0994    -1.2623     0.2069     -0.3202      0.0694\n",
      "DD_monthly:LC_Type3[T.water]              0.0912     0.1019     0.8951     0.3707     -0.1086      0.2911\n",
      "=========================================================================================================\n",
      "\n",
      "F-test for Poolability: 10.827\n",
      "P-value: 0.0000\n",
      "Distribution: F(1379,5910)\n",
      "\n",
      "Included effects: Entity\n"
     ]
    }
   ],
   "source": [
    "summer_LC = PanelOLS.from_formula('elec_use ~ 1 + DD_monthly + DD_monthly:(LC_Type3) + EntityEffects', \n",
    "                                  data=master1[master1['is_summer']])\n",
    "res_summer_LC = summer_LC.fit()\n",
    "print(res_summer_LC)"
   ]
  },
  {
   "cell_type": "markdown",
   "metadata": {},
   "source": [
    "## Winter"
   ]
  },
  {
   "cell_type": "markdown",
   "metadata": {},
   "source": [
    "DD at 0.026, only forest/savanna signi and positive"
   ]
  },
  {
   "cell_type": "code",
   "execution_count": 1246,
   "metadata": {},
   "outputs": [
    {
     "name": "stdout",
     "output_type": "stream",
     "text": [
      "                          PanelOLS Estimation Summary                           \n",
      "================================================================================\n",
      "Dep. Variable:               elec_use   R-squared:                        0.0086\n",
      "Estimator:                   PanelOLS   R-squared (Between):             -0.0230\n",
      "No. Observations:                7182   R-squared (Within):               0.0086\n",
      "Date:                Sun, Mar 22 2020   R-squared (Overall):             -0.0111\n",
      "Time:                        14:31:33   Log-likelihood                -4.024e+04\n",
      "Cov. Estimator:            Unadjusted                                           \n",
      "                                        F-statistic:                      8.3597\n",
      "Entities:                        1381   P-value                           0.0000\n",
      "Avg Obs:                       5.2006   Distribution:                  F(6,5795)\n",
      "Min Obs:                       1.0000                                           \n",
      "Max Obs:                       6.0000   F-statistic (robust):             8.3597\n",
      "                                        P-value                           0.0000\n",
      "Time periods:                       6   Distribution:                  F(6,5795)\n",
      "Avg Obs:                       1197.0                                           \n",
      "Min Obs:                       1101.0                                           \n",
      "Max Obs:                       1320.0                                           \n",
      "                                                                                \n",
      "                                                 Parameter Estimates                                                  \n",
      "======================================================================================================================\n",
      "                                                    Parameter  Std. Err.     T-stat    P-value    Lower CI    Upper CI\n",
      "----------------------------------------------------------------------------------------------------------------------\n",
      "Intercept                                              139.02     1.9281     72.102     0.0000      135.24      142.80\n",
      "DD_monthly                                             0.0260     0.0055     4.6940     0.0000      0.0152      0.0369\n",
      "DD_monthly:C(LC_Type3)[T.forest/shrubland/savanna]     0.0428     0.0185     2.3200     0.0204      0.0066      0.0790\n",
      "DD_monthly:C(LC_Type3)[T.grassland]                   -0.0108     0.0148    -0.7326     0.4638     -0.0397      0.0181\n",
      "DD_monthly:C(LC_Type3)[T.cropland]                     0.0094     0.0119     0.7885     0.4304     -0.0140      0.0328\n",
      "DD_monthly:C(LC_Type3)[T.water]                       -0.0229     0.0625    -0.3656     0.7147     -0.1454      0.0997\n",
      "DD_monthly:C(LC_Type3)[T.barren]                       0.0001     0.0484     0.0022     0.9982     -0.0948      0.0950\n",
      "======================================================================================================================\n",
      "\n",
      "F-test for Poolability: 11.757\n",
      "P-value: 0.0000\n",
      "Distribution: F(1380,5795)\n",
      "\n",
      "Included effects: Entity\n"
     ]
    }
   ],
   "source": [
    "winter_LC = PanelOLS.from_formula('elec_use ~ 1 + DD_monthly + DD_monthly:C(LC_Type3) + EntityEffects', \n",
    "                                  data=master[master['summer'] != 1])\n",
    "\n",
    "res_winter_LC = winter_LC.fit()\n",
    "print(res_winter_LC)"
   ]
  },
  {
   "cell_type": "code",
   "execution_count": 1248,
   "metadata": {},
   "outputs": [
    {
     "name": "stdout",
     "output_type": "stream",
     "text": [
      "                          PanelOLS Estimation Summary                           \n",
      "================================================================================\n",
      "Dep. Variable:               elec_use   R-squared:                        0.0086\n",
      "Estimator:                   PanelOLS   R-squared (Between):             -0.0230\n",
      "No. Observations:                7182   R-squared (Within):               0.0086\n",
      "Date:                Sun, Mar 22 2020   R-squared (Overall):             -0.0111\n",
      "Time:                        14:32:56   Log-likelihood                -4.024e+04\n",
      "Cov. Estimator:            Unadjusted                                           \n",
      "                                        F-statistic:                      8.3597\n",
      "Entities:                        1381   P-value                           0.0000\n",
      "Avg Obs:                       5.2006   Distribution:                  F(6,5795)\n",
      "Min Obs:                       1.0000                                           \n",
      "Max Obs:                       6.0000   F-statistic (robust):             8.3597\n",
      "                                        P-value                           0.0000\n",
      "Time periods:                       6   Distribution:                  F(6,5795)\n",
      "Avg Obs:                       1197.0                                           \n",
      "Min Obs:                       1101.0                                           \n",
      "Max Obs:                       1320.0                                           \n",
      "                                                                                \n",
      "                                           Parameter Estimates                                           \n",
      "=========================================================================================================\n",
      "                                       Parameter  Std. Err.     T-stat    P-value    Lower CI    Upper CI\n",
      "---------------------------------------------------------------------------------------------------------\n",
      "Intercept                                 139.02     1.9281     72.102     0.0000      135.24      142.80\n",
      "DD_monthly                                0.0260     0.0055     4.6940     0.0000      0.0152      0.0369\n",
      "DD_monthly:LC_Type3[T.cropland]           0.0094     0.0119     0.7885     0.4304     -0.0140      0.0328\n",
      "DD_monthly:LC_Type3[T.forest/savanna]     0.0428     0.0185     2.3200     0.0204      0.0066      0.0790\n",
      "DD_monthly:LC_Type3[T.grassland]         -0.0108     0.0148    -0.7326     0.4638     -0.0397      0.0181\n",
      "DD_monthly:LC_Type3[T.non-Vegetated]      0.0001     0.0484     0.0022     0.9982     -0.0948      0.0950\n",
      "DD_monthly:LC_Type3[T.water]             -0.0229     0.0625    -0.3656     0.7147     -0.1454      0.0997\n",
      "=========================================================================================================\n",
      "\n",
      "F-test for Poolability: 11.757\n",
      "P-value: 0.0000\n",
      "Distribution: F(1380,5795)\n",
      "\n",
      "Included effects: Entity\n"
     ]
    },
    {
     "name": "stderr",
     "output_type": "stream",
     "text": [
      "/Users/JK/anaconda3/lib/python3.7/site-packages/linearmodels/utility.py:549: MissingValueWarning: \n",
      "Inputs contain missing values. Dropping rows with missing observations.\n",
      "  warnings.warn(missing_value_warning_msg, MissingValueWarning)\n"
     ]
    }
   ],
   "source": [
    "winter_LC = PanelOLS.from_formula('elec_use ~ 1 + DD_monthly + DD_monthly:(LC_Type3) + EntityEffects', \n",
    "                                  data=master1[~master1['is_summer']])\n",
    "res_winter_LC = winter_LC.fit()\n",
    "print(res_winter_LC)"
   ]
  },
  {
   "cell_type": "markdown",
   "metadata": {},
   "source": [
    "## North China"
   ]
  },
  {
   "cell_type": "markdown",
   "metadata": {},
   "source": [
    "DD at 0.0168, LC nothing is significant, all negative"
   ]
  },
  {
   "cell_type": "markdown",
   "metadata": {},
   "source": [
    "It seems like summer/winter difference is not the driving force for the results on 'forest/savanna'\n",
    "\n",
    "Let's look at the difference between North and South China and see if that could explain it "
   ]
  },
  {
   "cell_type": "markdown",
   "metadata": {},
   "source": [
    "Let's take a look at the distribution of Land Cover across the north and south:\n",
    "- forest/savana mostly in the South\n",
    "- grassland all in the North\n",
    "- cropland roughly evenly split"
   ]
  },
  {
   "cell_type": "code",
   "execution_count": 1241,
   "metadata": {},
   "outputs": [
    {
     "data": {
      "text/plain": [
       "<matplotlib.axes._subplots.AxesSubplot at 0x1c5defc780>"
      ]
     },
     "execution_count": 1241,
     "metadata": {},
     "output_type": "execute_result"
    },
    {
     "data": {
      "image/png": "[encoded data removed]",
      "text/plain": [
       "<Figure size 864x432 with 1 Axes>"
      ]
     },
     "metadata": {
      "needs_background": "light"
     },
     "output_type": "display_data"
    }
   ],
   "source": [
    "pd.crosstab(master1.is_north, master1.LC_Type3).T.plot.bar(stacked=True, rot=1, figsize=(12,6))"
   ]
  },
  {
   "cell_type": "code",
   "execution_count": 273,
   "metadata": {
    "scrolled": true
   },
   "outputs": [
    {
     "data": {
      "text/html": [
       "<div>\n",
       "<style scoped>\n",
       "    .dataframe tbody tr th:only-of-type {\n",
       "        vertical-align: middle;\n",
       "    }\n",
       "\n",
       "    .dataframe tbody tr th {\n",
       "        vertical-align: top;\n",
       "    }\n",
       "\n",
       "    .dataframe thead th {\n",
       "        text-align: right;\n",
       "    }\n",
       "</style>\n",
       "<table border=\"1\" class=\"dataframe\">\n",
       "  <thead>\n",
       "    <tr style=\"text-align: right;\">\n",
       "      <th>LC_Type3</th>\n",
       "      <th>Built-up/Urban</th>\n",
       "      <th>cropland</th>\n",
       "      <th>forest/savanna</th>\n",
       "      <th>grassland</th>\n",
       "      <th>non-Vegetated</th>\n",
       "      <th>water</th>\n",
       "      <th>All</th>\n",
       "    </tr>\n",
       "    <tr>\n",
       "      <th>is_north</th>\n",
       "      <th></th>\n",
       "      <th></th>\n",
       "      <th></th>\n",
       "      <th></th>\n",
       "      <th></th>\n",
       "      <th></th>\n",
       "      <th></th>\n",
       "    </tr>\n",
       "  </thead>\n",
       "  <tbody>\n",
       "    <tr>\n",
       "      <th>False</th>\n",
       "      <td>3740</td>\n",
       "      <td>1038</td>\n",
       "      <td>1863</td>\n",
       "      <td>0</td>\n",
       "      <td>0</td>\n",
       "      <td>376</td>\n",
       "      <td>7017</td>\n",
       "    </tr>\n",
       "    <tr>\n",
       "      <th>True</th>\n",
       "      <td>5736</td>\n",
       "      <td>1453</td>\n",
       "      <td>144</td>\n",
       "      <td>680</td>\n",
       "      <td>72</td>\n",
       "      <td>0</td>\n",
       "      <td>8085</td>\n",
       "    </tr>\n",
       "    <tr>\n",
       "      <th>All</th>\n",
       "      <td>9476</td>\n",
       "      <td>2491</td>\n",
       "      <td>2007</td>\n",
       "      <td>680</td>\n",
       "      <td>72</td>\n",
       "      <td>376</td>\n",
       "      <td>15102</td>\n",
       "    </tr>\n",
       "  </tbody>\n",
       "</table>\n",
       "</div>"
      ],
      "text/plain": [
       "LC_Type3  Built-up/Urban  cropland  forest/savanna  grassland  non-Vegetated  \\\n",
       "is_north                                                                       \n",
       "False               3740      1038            1863          0              0   \n",
       "True                5736      1453             144        680             72   \n",
       "All                 9476      2491            2007        680             72   \n",
       "\n",
       "LC_Type3  water    All  \n",
       "is_north                \n",
       "False       376   7017  \n",
       "True          0   8085  \n",
       "All         376  15102  "
      ]
     },
     "execution_count": 273,
     "metadata": {},
     "output_type": "execute_result"
    }
   ],
   "source": [
    "pd.crosstab(master1.is_north, master1.LC_Type3, margins=True)"
   ]
  },
  {
   "cell_type": "code",
   "execution_count": 1252,
   "metadata": {},
   "outputs": [
    {
     "name": "stdout",
     "output_type": "stream",
     "text": [
      "                                   Model Comparison                                   \n",
      "======================================================================================\n",
      "                                                   Fixed         Summer         Winter\n",
      "--------------------------------------------------------------------------------------\n",
      "Dep. Variable                                   elec_use       elec_use       elec_use\n",
      "Estimator                                       PanelOLS       PanelOLS       PanelOLS\n",
      "No. Observations                                   14478           7296           7182\n",
      "Cov. Est.                                     Unadjusted     Unadjusted     Unadjusted\n",
      "R-squared                                         0.0087         0.0433         0.0086\n",
      "R-Squared (Within)                                0.0087         0.0433         0.0086\n",
      "R-Squared (Between)                              -0.0116         0.0110        -0.0230\n",
      "R-Squared (Overall)                               0.0015         0.0318        -0.0111\n",
      "F-statistic                                       19.076         44.633         8.3597\n",
      "P-value (F-stat)                                  0.0000         0.0000         0.0000\n",
      "=======================================     ============   ============   ============\n",
      "Intercept                                         144.17         127.62         139.02\n",
      "                                                (121.77)       (59.797)       (72.102)\n",
      "DD_monthly                                        0.0365         0.1444         0.0260\n",
      "                                                (9.0263)       (13.886)       (4.6940)\n",
      "DD_monthly:LC_Type3[T.cropland]                  -0.0171        -0.0558         0.0094\n",
      "                                               (-2.0169)      (-2.1205)       (0.7885)\n",
      "DD_monthly:LC_Type3[T.forest/savanna]             0.0277         0.0726         0.0428\n",
      "                                                (1.9799)       (2.3549)       (2.3200)\n",
      "DD_monthly:LC_Type3[T.grassland]                 -0.0302        -0.1248        -0.0108\n",
      "                                               (-3.3508)      (-2.7583)      (-0.7326)\n",
      "DD_monthly:LC_Type3[T.non-Vegetated]             -0.0244        -0.1254         0.0001\n",
      "                                               (-0.7844)      (-1.2623)       (0.0022)\n",
      "DD_monthly:LC_Type3[T.water]                      0.0438         0.0912        -0.0229\n",
      "                                                (0.8350)       (0.8951)      (-0.3656)\n",
      "========================================= ============== ============== ==============\n",
      "Effects                                           Entity         Entity         Entity\n",
      "--------------------------------------------------------------------------------------\n",
      "\n",
      "T-stats reported in parentheses\n"
     ]
    }
   ],
   "source": [
    "print(compare({'Fixed':res_base_LC,'Summer':res_summer_LC,'Winter':res_winter_LC}))"
   ]
  },
  {
   "cell_type": "code",
   "execution_count": 274,
   "metadata": {},
   "outputs": [
    {
     "data": {
      "text/html": [
       "<div>\n",
       "<style scoped>\n",
       "    .dataframe tbody tr th:only-of-type {\n",
       "        vertical-align: middle;\n",
       "    }\n",
       "\n",
       "    .dataframe tbody tr th {\n",
       "        vertical-align: top;\n",
       "    }\n",
       "\n",
       "    .dataframe thead th {\n",
       "        text-align: right;\n",
       "    }\n",
       "</style>\n",
       "<table border=\"1\" class=\"dataframe\">\n",
       "  <thead>\n",
       "    <tr style=\"text-align: right;\">\n",
       "      <th></th>\n",
       "      <th>count</th>\n",
       "      <th>mean</th>\n",
       "      <th>std</th>\n",
       "      <th>min</th>\n",
       "      <th>25%</th>\n",
       "      <th>50%</th>\n",
       "      <th>75%</th>\n",
       "      <th>max</th>\n",
       "    </tr>\n",
       "    <tr>\n",
       "      <th>is_north</th>\n",
       "      <th></th>\n",
       "      <th></th>\n",
       "      <th></th>\n",
       "      <th></th>\n",
       "      <th></th>\n",
       "      <th></th>\n",
       "      <th></th>\n",
       "      <th></th>\n",
       "    </tr>\n",
       "  </thead>\n",
       "  <tbody>\n",
       "    <tr>\n",
       "      <th>False</th>\n",
       "      <td>7017.0</td>\n",
       "      <td>174.273087</td>\n",
       "      <td>153.558212</td>\n",
       "      <td>0.0</td>\n",
       "      <td>76.000000</td>\n",
       "      <td>128.0</td>\n",
       "      <td>225.0</td>\n",
       "      <td>1698.0</td>\n",
       "    </tr>\n",
       "    <tr>\n",
       "      <th>True</th>\n",
       "      <td>8085.0</td>\n",
       "      <td>142.754272</td>\n",
       "      <td>105.668137</td>\n",
       "      <td>0.0</td>\n",
       "      <td>83.290001</td>\n",
       "      <td>115.0</td>\n",
       "      <td>174.0</td>\n",
       "      <td>1752.0</td>\n",
       "    </tr>\n",
       "  </tbody>\n",
       "</table>\n",
       "</div>"
      ],
      "text/plain": [
       "           count        mean         std  min        25%    50%    75%     max\n",
       "is_north                                                                      \n",
       "False     7017.0  174.273087  153.558212  0.0  76.000000  128.0  225.0  1698.0\n",
       "True      8085.0  142.754272  105.668137  0.0  83.290001  115.0  174.0  1752.0"
      ]
     },
     "execution_count": 274,
     "metadata": {},
     "output_type": "execute_result"
    }
   ],
   "source": [
    "master1.groupby('is_north')['elec_use'].describe()"
   ]
  },
  {
   "cell_type": "code",
   "execution_count": 1618,
   "metadata": {
    "scrolled": false
   },
   "outputs": [
    {
     "data": {
      "text/plain": [
       "array([<matplotlib.axes._subplots.AxesSubplot object at 0x1c6b4766a0>,\n",
       "       <matplotlib.axes._subplots.AxesSubplot object at 0x1c6b516eb8>],\n",
       "      dtype=object)"
      ]
     },
     "execution_count": 1618,
     "metadata": {},
     "output_type": "execute_result"
    },
    {
     "data": {
      "image/png": "[encoded data removed]",
      "text/plain": [
       "<Figure size 864x288 with 2 Axes>"
      ]
     },
     "metadata": {
      "needs_background": "light"
     },
     "output_type": "display_data"
    }
   ],
   "source": [
    "master1.hist(column='elec_use', by='is_north',grid=True, figsize=(12,4), bins=20, sharex=True)"
   ]
  },
  {
   "cell_type": "code",
   "execution_count": 1617,
   "metadata": {
    "scrolled": false
   },
   "outputs": [
    {
     "data": {
      "text/plain": [
       "is_north\n",
       "False    AxesSubplot(0.125,0.125;0.775x0.755)\n",
       "True     AxesSubplot(0.125,0.125;0.775x0.755)\n",
       "Name: elec_use, dtype: object"
      ]
     },
     "execution_count": 1617,
     "metadata": {},
     "output_type": "execute_result"
    },
    {
     "data": {
      "image/png": "[encoded data removed]",
      "text/plain": [
       "<Figure size 432x288 with 1 Axes>"
      ]
     },
     "metadata": {
      "needs_background": "light"
     },
     "output_type": "display_data"
    }
   ],
   "source": [
    "master1.groupby('is_north')['elec_use'].hist(alpha=0.8, label='is_north',bins=20)"
   ]
  },
  {
   "cell_type": "markdown",
   "metadata": {},
   "source": [
    "- From the table above, we could see there's a huge discrepancy in the distribution of forest and grassland across north vs south China. All the grasslands are in the north and almost all the forest/savannas are in the south. Therefore, the coefficient of grassland and forest could be driven by the differece in `elec_use`'s response to `DD_monthly` in south vs north China. The base coefficient of DD_montly is 0.1595 in the South and 0.0168 in the North, both higly siginificant.\n",
    "\n",
    "- Combined with regression results from South China, where cropland and forest/savanna are significantly negatively correlated with elec_use, we find that in the north land cover type doesn't have a significant impact on energy use while in the south, Vegetation Cover will significantly reduce the impact of temperature on electricity consumption."
   ]
  },
  {
   "cell_type": "code",
   "execution_count": 1581,
   "metadata": {
    "scrolled": false
   },
   "outputs": [
    {
     "name": "stdout",
     "output_type": "stream",
     "text": [
      "                          PanelOLS Estimation Summary                           \n",
      "================================================================================\n",
      "Dep. Variable:               elec_use   R-squared:                        0.0035\n",
      "Estimator:                   PanelOLS   R-squared (Between):             -0.0146\n",
      "No. Observations:                8077   R-squared (Within):               0.0035\n",
      "Date:                Sun, Mar 22 2020   R-squared (Overall):              0.0016\n",
      "Time:                        20:21:05   Log-likelihood                -4.475e+04\n",
      "Cov. Estimator:            Unadjusted                                           \n",
      "                                        F-statistic:                      5.1812\n",
      "Entities:                         772   P-value                           0.0001\n",
      "Avg Obs:                       10.462   Distribution:                  F(5,7300)\n",
      "Min Obs:                       1.0000                                           \n",
      "Max Obs:                       12.000   F-statistic (robust):             5.1812\n",
      "                                        P-value                           0.0001\n",
      "Time periods:                      12   Distribution:                  F(5,7300)\n",
      "Avg Obs:                       673.08                                           \n",
      "Min Obs:                       636.00                                           \n",
      "Max Obs:                       740.00                                           \n",
      "                                                                                \n",
      "                                           Parameter Estimates                                           \n",
      "=========================================================================================================\n",
      "                                       Parameter  Std. Err.     T-stat    P-value    Lower CI    Upper CI\n",
      "---------------------------------------------------------------------------------------------------------\n",
      "Intercept                                 137.52     1.2601     109.14     0.0000      135.05      139.99\n",
      "DD_monthly                                0.0168     0.0036     4.6790     0.0000      0.0097      0.0238\n",
      "DD_monthly:LC_Type3[T.cropland]          -0.0056     0.0075    -0.7476     0.4547     -0.0203      0.0091\n",
      "DD_monthly:LC_Type3[T.forest/savanna]    -0.0162     0.0203    -0.7980     0.4249     -0.0560      0.0236\n",
      "DD_monthly:LC_Type3[T.grassland]         -0.0104     0.0075    -1.3847     0.1662     -0.0251      0.0043\n",
      "DD_monthly:LC_Type3[T.non-Vegetated]     -0.0046     0.0256    -0.1817     0.8559     -0.0548      0.0455\n",
      "=========================================================================================================\n",
      "\n",
      "F-test for Poolability: 18.103\n",
      "P-value: 0.0000\n",
      "Distribution: F(771,7300)\n",
      "\n",
      "Included effects: Entity\n"
     ]
    }
   ],
   "source": [
    "north_LC = PanelOLS.from_formula('elec_use ~ 1 + DD_monthly + DD_monthly:LC_Type3 + EntityEffects', \n",
    "                                 data=master1[master1['is_north'] ])\n",
    "res_north_LC = north_LC.fit()\n",
    "print(res_north_LC)"
   ]
  },
  {
   "cell_type": "markdown",
   "metadata": {},
   "source": [
    "## South China"
   ]
  },
  {
   "cell_type": "markdown",
   "metadata": {},
   "source": [
    "DD at 0.1576, cropland and forest all signi and negative"
   ]
  },
  {
   "cell_type": "code",
   "execution_count": 296,
   "metadata": {
    "scrolled": true
   },
   "outputs": [
    {
     "data": {
      "text/plain": [
       "Urban/Built up              3740\n",
       "forest/shrubland/savanna    1863\n",
       "cropland                    1038\n",
       "water                        376\n",
       "barren                         0\n",
       "grassland                      0\n",
       "Name: LC_Type3, dtype: int64"
      ]
     },
     "execution_count": 296,
     "metadata": {},
     "output_type": "execute_result"
    }
   ],
   "source": [
    "master[master['north']!='North'].LC_Type3.value_counts()"
   ]
  },
  {
   "cell_type": "code",
   "execution_count": 1582,
   "metadata": {
    "scrolled": false
   },
   "outputs": [
    {
     "name": "stdout",
     "output_type": "stream",
     "text": [
      "                          PanelOLS Estimation Summary                           \n",
      "================================================================================\n",
      "Dep. Variable:               elec_use   R-squared:                        0.0315\n",
      "Estimator:                   PanelOLS   R-squared (Between):              0.0231\n",
      "No. Observations:                6401   R-squared (Within):               0.0315\n",
      "Date:                Sun, Mar 22 2020   R-squared (Overall):              0.0380\n",
      "Time:                        20:22:04   Log-likelihood                -3.778e+04\n",
      "Cov. Estimator:            Unadjusted                                           \n",
      "                                        F-statistic:                      47.001\n",
      "Entities:                         609   P-value                           0.0000\n",
      "Avg Obs:                       10.511   Distribution:                  F(4,5788)\n",
      "Min Obs:                       3.0000                                           \n",
      "Max Obs:                       12.000   F-statistic (robust):             47.001\n",
      "                                        P-value                           0.0000\n",
      "Time periods:                      12   Distribution:                  F(4,5788)\n",
      "Avg Obs:                       533.42                                           \n",
      "Min Obs:                       459.00                                           \n",
      "Max Obs:                       580.00                                           \n",
      "                                                                                \n",
      "                                           Parameter Estimates                                           \n",
      "=========================================================================================================\n",
      "                                       Parameter  Std. Err.     T-stat    P-value    Lower CI    Upper CI\n",
      "---------------------------------------------------------------------------------------------------------\n",
      "Intercept                                 140.22     2.4638     56.914     0.0000      135.39      145.05\n",
      "DD_monthly                                0.1576     0.0127     12.400     0.0000      0.1327      0.1825\n",
      "DD_monthly:LC_Type3[T.cropland]          -0.0899     0.0261    -3.4454     0.0006     -0.1410     -0.0387\n",
      "DD_monthly:LC_Type3[T.forest/savanna]    -0.0655     0.0228    -2.8760     0.0040     -0.1102     -0.0209\n",
      "DD_monthly:LC_Type3[T.water]             -0.0773     0.0628    -1.2310     0.2184     -0.2004      0.0458\n",
      "=========================================================================================================\n",
      "\n",
      "F-test for Poolability: 18.080\n",
      "P-value: 0.0000\n",
      "Distribution: F(608,5788)\n",
      "\n",
      "Included effects: Entity\n"
     ]
    }
   ],
   "source": [
    "south_LC3 = PanelOLS.from_formula('elec_use ~ 1 + DD_monthly + DD_monthly:LC_Type3 + EntityEffects', \n",
    "                                 data=master1[~master1['is_north'] ])\n",
    "\n",
    "res_south_LC3 = south_LC3.fit()\n",
    "print(res_south_LC3)"
   ]
  },
  {
   "cell_type": "markdown",
   "metadata": {},
   "source": [
    "##### Compare"
   ]
  },
  {
   "cell_type": "code",
   "execution_count": 1587,
   "metadata": {},
   "outputs": [
    {
     "name": "stdout",
     "output_type": "stream",
     "text": [
      "                                   Model Comparison                                   \n",
      "======================================================================================\n",
      "                                                   Fixed          North          South\n",
      "--------------------------------------------------------------------------------------\n",
      "Dep. Variable                                   elec_use       elec_use       elec_use\n",
      "Estimator                                       PanelOLS       PanelOLS       PanelOLS\n",
      "No. Observations                                   14478           8077           6401\n",
      "Cov. Est.                                     Unadjusted     Unadjusted     Unadjusted\n",
      "R-squared                                         0.0087         0.0035         0.0315\n",
      "R-Squared (Within)                                0.0087         0.0035         0.0315\n",
      "R-Squared (Between)                              -0.0116        -0.0146         0.0231\n",
      "R-Squared (Overall)                               0.0015         0.0016         0.0380\n",
      "F-statistic                                       19.076         5.1812         47.001\n",
      "P-value (F-stat)                                  0.0000         0.0001         0.0000\n",
      "=======================================     ============   ============   ============\n",
      "Intercept                                         144.17         137.52         140.22\n",
      "                                                (121.77)       (109.14)       (56.914)\n",
      "DD_monthly                                        0.0365         0.0168         0.1576\n",
      "                                                (9.0263)       (4.6790)       (12.400)\n",
      "DD_monthly:LC_Type3[T.cropland]                  -0.0171        -0.0056        -0.0899\n",
      "                                               (-2.0169)      (-0.7476)      (-3.4454)\n",
      "DD_monthly:LC_Type3[T.forest/savanna]             0.0277        -0.0162        -0.0655\n",
      "                                                (1.9799)      (-0.7980)      (-2.8760)\n",
      "DD_monthly:LC_Type3[T.grassland]                 -0.0302        -0.0104               \n",
      "                                               (-3.3508)      (-1.3847)               \n",
      "DD_monthly:LC_Type3[T.non-Vegetated]             -0.0244        -0.0046               \n",
      "                                               (-0.7844)      (-0.1817)               \n",
      "DD_monthly:LC_Type3[T.water]                      0.0438                       -0.0773\n",
      "                                                (0.8350)                     (-1.2310)\n",
      "========================================= ============== ============== ==============\n",
      "Effects                                           Entity         Entity         Entity\n",
      "--------------------------------------------------------------------------------------\n",
      "\n",
      "T-stats reported in parentheses\n"
     ]
    }
   ],
   "source": [
    "print(compare({'Fixed':res_base_LC,'North':res_north_LC,'South':res_south_LC3}))"
   ]
  },
  {
   "cell_type": "markdown",
   "metadata": {},
   "source": [
    "##### LC_Type4"
   ]
  },
  {
   "cell_type": "code",
   "execution_count": 300,
   "metadata": {
    "scrolled": false
   },
   "outputs": [
    {
     "data": {
      "text/plain": [
       "0.0    3740\n",
       "1.0    2901\n",
       "4.0     376\n",
       "Name: LC_Type4, dtype: int64"
      ]
     },
     "execution_count": 300,
     "metadata": {},
     "output_type": "execute_result"
    }
   ],
   "source": [
    "master[master['north']!='North'].LC_Type4.value_counts()"
   ]
  },
  {
   "cell_type": "code",
   "execution_count": 301,
   "metadata": {
    "scrolled": false
   },
   "outputs": [
    {
     "data": {
      "text/plain": [
       "Built-up/Urban    3740\n",
       "vege              2901\n",
       "water              376\n",
       "Name: LC_Type4, dtype: int64"
      ]
     },
     "execution_count": 301,
     "metadata": {},
     "output_type": "execute_result"
    }
   ],
   "source": [
    "master1[~master1['is_north']].LC_Type4.value_counts()"
   ]
  },
  {
   "cell_type": "code",
   "execution_count": 302,
   "metadata": {},
   "outputs": [
    {
     "name": "stdout",
     "output_type": "stream",
     "text": [
      "                          PanelOLS Estimation Summary                           \n",
      "================================================================================\n",
      "Dep. Variable:               elec_use   R-squared:                        0.0331\n",
      "Estimator:                   PanelOLS   R-squared (Between):              0.0236\n",
      "No. Observations:                6400   R-squared (Within):               0.0331\n",
      "Date:                Wed, Mar 18 2020   R-squared (Overall):              0.0394\n",
      "Time:                        19:41:30   Log-likelihood                -3.765e+04\n",
      "Cov. Estimator:            Unadjusted                                           \n",
      "                                        F-statistic:                      66.116\n",
      "Entities:                         609   P-value                           0.0000\n",
      "Avg Obs:                       10.509   Distribution:                  F(3,5788)\n",
      "Min Obs:                       3.0000                                           \n",
      "Max Obs:                       12.000   F-statistic (robust):             66.116\n",
      "                                        P-value                           0.0000\n",
      "Time periods:                      12   Distribution:                  F(3,5788)\n",
      "Avg Obs:                       533.33                                           \n",
      "Min Obs:                       459.00                                           \n",
      "Max Obs:                       580.00                                           \n",
      "                                                                                \n",
      "                                       Parameter Estimates                                       \n",
      "=================================================================================================\n",
      "                               Parameter  Std. Err.     T-stat    P-value    Lower CI    Upper CI\n",
      "-------------------------------------------------------------------------------------------------\n",
      "Intercept                         139.61     2.4177     57.747     0.0000      134.87      144.35\n",
      "DD_monthly                        0.1595     0.0125     12.786     0.0000      0.1351      0.1840\n",
      "DD_monthly:C(LC_Type4)[T.1.0]    -0.0774     0.0190    -4.0800     0.0000     -0.1145     -0.0402\n",
      "DD_monthly:C(LC_Type4)[T.4.0]    -0.0792     0.0616    -1.2852     0.1988     -0.2000      0.0416\n",
      "=================================================================================================\n",
      "\n",
      "F-test for Poolability: 17.963\n",
      "P-value: 0.0000\n",
      "Distribution: F(608,5788)\n",
      "\n",
      "Included effects: Entity\n"
     ]
    }
   ],
   "source": [
    "south_LC4 = PanelOLS.from_formula('elec_use ~ 1 + DD_monthly + DD_monthly:C(LC_Type4) + EntityEffects', \n",
    "                                 data=master[master['north']!='North'])\n",
    "\n",
    "print(south_LC4.fit())"
   ]
  },
  {
   "cell_type": "code",
   "execution_count": 303,
   "metadata": {},
   "outputs": [
    {
     "name": "stdout",
     "output_type": "stream",
     "text": [
      "                          PanelOLS Estimation Summary                           \n",
      "================================================================================\n",
      "Dep. Variable:               elec_use   R-squared:                        0.0331\n",
      "Estimator:                   PanelOLS   R-squared (Between):              0.0236\n",
      "No. Observations:                6400   R-squared (Within):               0.0331\n",
      "Date:                Wed, Mar 18 2020   R-squared (Overall):              0.0394\n",
      "Time:                        19:41:30   Log-likelihood                -3.765e+04\n",
      "Cov. Estimator:            Unadjusted                                           \n",
      "                                        F-statistic:                      66.116\n",
      "Entities:                         609   P-value                           0.0000\n",
      "Avg Obs:                       10.509   Distribution:                  F(3,5788)\n",
      "Min Obs:                       3.0000                                           \n",
      "Max Obs:                       12.000   F-statistic (robust):             66.116\n",
      "                                        P-value                           0.0000\n",
      "Time periods:                      12   Distribution:                  F(3,5788)\n",
      "Avg Obs:                       533.33                                           \n",
      "Min Obs:                       459.00                                           \n",
      "Max Obs:                       580.00                                           \n",
      "                                                                                \n",
      "                                      Parameter Estimates                                       \n",
      "================================================================================================\n",
      "                              Parameter  Std. Err.     T-stat    P-value    Lower CI    Upper CI\n",
      "------------------------------------------------------------------------------------------------\n",
      "Intercept                        139.61     2.4177     57.747     0.0000      134.87      144.35\n",
      "DD_monthly                       0.1595     0.0125     12.786     0.0000      0.1351      0.1840\n",
      "DD_monthly:LC_Type4[T.vege]     -0.0774     0.0190    -4.0800     0.0000     -0.1145     -0.0402\n",
      "DD_monthly:LC_Type4[T.water]    -0.0792     0.0616    -1.2852     0.1988     -0.2000      0.0416\n",
      "================================================================================================\n",
      "\n",
      "F-test for Poolability: 17.963\n",
      "P-value: 0.0000\n",
      "Distribution: F(608,5788)\n",
      "\n",
      "Included effects: Entity\n"
     ]
    }
   ],
   "source": [
    "\n",
    "south_LC4 = PanelOLS.from_formula('elec_use ~ 1 + DD_monthly + DD_monthly:LC_Type4 + EntityEffects', \n",
    "                                 data=master1[~master1['is_north'] ])\n",
    "print(south_LC4.fit())"
   ]
  },
  {
   "cell_type": "markdown",
   "metadata": {},
   "source": [
    "##### NonVege"
   ]
  },
  {
   "cell_type": "code",
   "execution_count": 305,
   "metadata": {
    "scrolled": false
   },
   "outputs": [
    {
     "name": "stdout",
     "output_type": "stream",
     "text": [
      "                          PanelOLS Estimation Summary                           \n",
      "================================================================================\n",
      "Dep. Variable:               elec_use   R-squared:                        0.0314\n",
      "Estimator:                   PanelOLS   R-squared (Between):              0.0153\n",
      "No. Observations:                6340   R-squared (Within):               0.0314\n",
      "Date:                Wed, Mar 18 2020   R-squared (Overall):              0.0344\n",
      "Time:                        19:41:31   Log-likelihood                -3.729e+04\n",
      "Cov. Estimator:            Unadjusted                                           \n",
      "                                        F-statistic:                      92.833\n",
      "Entities:                         603   P-value                           0.0000\n",
      "Avg Obs:                       10.514   Distribution:                  F(2,5735)\n",
      "Min Obs:                       3.0000                                           \n",
      "Max Obs:                       12.000   F-statistic (robust):             92.833\n",
      "                                        P-value                           0.0000\n",
      "Time periods:                      12   Distribution:                  F(2,5735)\n",
      "Avg Obs:                       528.33                                           \n",
      "Min Obs:                       453.00                                           \n",
      "Max Obs:                       576.00                                           \n",
      "                                                                                \n",
      "                                 Parameter Estimates                                  \n",
      "======================================================================================\n",
      "                    Parameter  Std. Err.     T-stat    P-value    Lower CI    Upper CI\n",
      "--------------------------------------------------------------------------------------\n",
      "Intercept              140.37     2.4229     57.935     0.0000      135.62      145.12\n",
      "DD_monthly             0.0554     0.0230     2.4047     0.0162      0.0102      0.1005\n",
      "DD_monthly:NonVege     0.0017     0.0005     3.2296     0.0012      0.0007      0.0027\n",
      "======================================================================================\n",
      "\n",
      "F-test for Poolability: 17.983\n",
      "P-value: 0.0000\n",
      "Distribution: F(602,5735)\n",
      "\n",
      "Included effects: Entity\n"
     ]
    }
   ],
   "source": [
    "south_NV = PanelOLS.from_formula('elec_use ~ 1 + DD_monthly + DD_monthly:NonVege + EntityEffects', \n",
    "                                 data=master1[~master1['is_north'] ])\n",
    "print(south_NV.fit())"
   ]
  },
  {
   "cell_type": "markdown",
   "metadata": {},
   "source": [
    "NonVege significant in south China not in the north"
   ]
  },
  {
   "cell_type": "markdown",
   "metadata": {},
   "source": [
    "## Robust Checks"
   ]
  },
  {
   "cell_type": "markdown",
   "metadata": {},
   "source": [
    "##### Urban vs Rural"
   ]
  },
  {
   "cell_type": "code",
   "execution_count": 306,
   "metadata": {},
   "outputs": [
    {
     "data": {
      "text/plain": [
       "CategoricalDtype(categories=['city', 'town', 'rural'], ordered=True)"
      ]
     },
     "execution_count": 306,
     "metadata": {},
     "output_type": "execute_result"
    }
   ],
   "source": [
    "master.urban.dtype"
   ]
  },
  {
   "cell_type": "code",
   "execution_count": 307,
   "metadata": {},
   "outputs": [
    {
     "data": {
      "text/plain": [
       "CategoricalDtype(categories=['城市（县级市及以上）', '乡镇', '农村'], ordered=True)"
      ]
     },
     "execution_count": 307,
     "metadata": {},
     "output_type": "execute_result"
    }
   ],
   "source": [
    "master1.urban.dtype"
   ]
  },
  {
   "cell_type": "code",
   "execution_count": 308,
   "metadata": {
    "scrolled": false
   },
   "outputs": [
    {
     "data": {
      "text/plain": [
       "city     9463\n",
       "rural    3077\n",
       "town     2514\n",
       "NaN        48\n",
       "Name: urban, dtype: int64"
      ]
     },
     "execution_count": 308,
     "metadata": {},
     "output_type": "execute_result"
    }
   ],
   "source": [
    "master.urban.value_counts(dropna=False)"
   ]
  },
  {
   "cell_type": "code",
   "execution_count": 309,
   "metadata": {
    "scrolled": false
   },
   "outputs": [
    {
     "data": {
      "text/plain": [
       "城市（县级市及以上）    9463\n",
       "农村            3077\n",
       "乡镇            2514\n",
       "NaN             48\n",
       "Name: urban, dtype: int64"
      ]
     },
     "execution_count": 309,
     "metadata": {},
     "output_type": "execute_result"
    }
   ],
   "source": [
    "master1.urban.value_counts(dropna=False)"
   ]
  },
  {
   "cell_type": "code",
   "execution_count": 310,
   "metadata": {},
   "outputs": [
    {
     "data": {
      "text/html": [
       "<div>\n",
       "<style scoped>\n",
       "    .dataframe tbody tr th:only-of-type {\n",
       "        vertical-align: middle;\n",
       "    }\n",
       "\n",
       "    .dataframe tbody tr th {\n",
       "        vertical-align: top;\n",
       "    }\n",
       "\n",
       "    .dataframe thead th {\n",
       "        text-align: right;\n",
       "    }\n",
       "</style>\n",
       "<table border=\"1\" class=\"dataframe\">\n",
       "  <thead>\n",
       "    <tr style=\"text-align: right;\">\n",
       "      <th>urban</th>\n",
       "      <th>city</th>\n",
       "      <th>town</th>\n",
       "      <th>rural</th>\n",
       "    </tr>\n",
       "    <tr>\n",
       "      <th>urban</th>\n",
       "      <th></th>\n",
       "      <th></th>\n",
       "      <th></th>\n",
       "    </tr>\n",
       "  </thead>\n",
       "  <tbody>\n",
       "    <tr>\n",
       "      <th>city</th>\n",
       "      <td>9463</td>\n",
       "      <td>0</td>\n",
       "      <td>0</td>\n",
       "    </tr>\n",
       "    <tr>\n",
       "      <th>town</th>\n",
       "      <td>0</td>\n",
       "      <td>2514</td>\n",
       "      <td>0</td>\n",
       "    </tr>\n",
       "    <tr>\n",
       "      <th>rural</th>\n",
       "      <td>0</td>\n",
       "      <td>0</td>\n",
       "      <td>3077</td>\n",
       "    </tr>\n",
       "  </tbody>\n",
       "</table>\n",
       "</div>"
      ],
      "text/plain": [
       "urban  city  town  rural\n",
       "urban                   \n",
       "city   9463     0      0\n",
       "town      0  2514      0\n",
       "rural     0     0   3077"
      ]
     },
     "execution_count": 310,
     "metadata": {},
     "output_type": "execute_result"
    }
   ],
   "source": [
    "pd.crosstab(master1['urban'], master['urban']) # wrong"
   ]
  },
  {
   "cell_type": "code",
   "execution_count": 311,
   "metadata": {},
   "outputs": [
    {
     "data": {
      "text/html": [
       "<div>\n",
       "<style scoped>\n",
       "    .dataframe tbody tr th:only-of-type {\n",
       "        vertical-align: middle;\n",
       "    }\n",
       "\n",
       "    .dataframe tbody tr th {\n",
       "        vertical-align: top;\n",
       "    }\n",
       "\n",
       "    .dataframe thead th {\n",
       "        text-align: right;\n",
       "    }\n",
       "</style>\n",
       "<table border=\"1\" class=\"dataframe\">\n",
       "  <thead>\n",
       "    <tr style=\"text-align: right;\">\n",
       "      <th>urban</th>\n",
       "      <th>城市（县级市及以上）</th>\n",
       "      <th>乡镇</th>\n",
       "      <th>农村</th>\n",
       "    </tr>\n",
       "    <tr>\n",
       "      <th>urban</th>\n",
       "      <th></th>\n",
       "      <th></th>\n",
       "      <th></th>\n",
       "    </tr>\n",
       "  </thead>\n",
       "  <tbody>\n",
       "    <tr>\n",
       "      <th>城市（县级市及以上）</th>\n",
       "      <td>9463</td>\n",
       "      <td>0</td>\n",
       "      <td>0</td>\n",
       "    </tr>\n",
       "    <tr>\n",
       "      <th>乡镇</th>\n",
       "      <td>0</td>\n",
       "      <td>2514</td>\n",
       "      <td>0</td>\n",
       "    </tr>\n",
       "    <tr>\n",
       "      <th>农村</th>\n",
       "      <td>0</td>\n",
       "      <td>0</td>\n",
       "      <td>3077</td>\n",
       "    </tr>\n",
       "  </tbody>\n",
       "</table>\n",
       "</div>"
      ],
      "text/plain": [
       "urban       城市（县级市及以上）    乡镇    农村\n",
       "urban                             \n",
       "城市（县级市及以上）        9463     0     0\n",
       "乡镇                   0  2514     0\n",
       "农村                   0     0  3077"
      ]
     },
     "execution_count": 311,
     "metadata": {},
     "output_type": "execute_result"
    }
   ],
   "source": [
    "pd.crosstab(master['urban'],master1['urban']) # wrong"
   ]
  },
  {
   "cell_type": "code",
   "execution_count": 313,
   "metadata": {
    "scrolled": false
   },
   "outputs": [
    {
     "name": "stdout",
     "output_type": "stream",
     "text": [
      "                          PanelOLS Estimation Summary                           \n",
      "================================================================================\n",
      "Dep. Variable:               elec_use   R-squared:                        0.0097\n",
      "Estimator:                   PanelOLS   R-squared (Between):             -0.0064\n",
      "No. Observations:               14441   R-squared (Within):               0.0097\n",
      "Date:                Wed, Mar 18 2020   R-squared (Overall):              0.0065\n",
      "Time:                        19:41:31   Log-likelihood                -8.271e+04\n",
      "Cov. Estimator:            Unadjusted                                           \n",
      "                                        F-statistic:                      16.016\n",
      "Entities:                        1378   P-value                           0.0000\n",
      "Avg Obs:                       10.480   Distribution:                 F(8,13055)\n",
      "Min Obs:                       1.0000                                           \n",
      "Max Obs:                       12.000   F-statistic (robust):             16.016\n",
      "                                        P-value                           0.0000\n",
      "Time periods:                      12   Distribution:                 F(8,13055)\n",
      "Avg Obs:                       1203.4                                           \n",
      "Min Obs:                       1098.0                                           \n",
      "Max Obs:                       1317.0                                           \n",
      "                                                                                \n",
      "                                           Parameter Estimates                                           \n",
      "=========================================================================================================\n",
      "                                       Parameter  Std. Err.     T-stat    P-value    Lower CI    Upper CI\n",
      "---------------------------------------------------------------------------------------------------------\n",
      "Intercept                                 144.00     1.1791     122.13     0.0000      141.69      146.31\n",
      "DD_monthly                                0.0365     0.0043     8.5170     0.0000      0.0281      0.0449\n",
      "DD_monthly:urban[T.乡镇]                    0.0144     0.0107     1.3521     0.1764     -0.0065      0.0354\n",
      "DD_monthly:urban[T.农村]                   -0.0245     0.0099    -2.4676     0.0136     -0.0440     -0.0050\n",
      "DD_monthly:LC_Type3[T.cropland]          -0.0068     0.0092    -0.7375     0.4608     -0.0247      0.0112\n",
      "DD_monthly:LC_Type3[T.forest/savanna]     0.0311     0.0142     2.1967     0.0281      0.0033      0.0588\n",
      "DD_monthly:LC_Type3[T.grassland]         -0.0263     0.0090    -2.9121     0.0036     -0.0440     -0.0086\n",
      "DD_monthly:LC_Type3[T.non-Vegetated]     -0.0244     0.0308    -0.7920     0.4284     -0.0849      0.0360\n",
      "DD_monthly:LC_Type3[T.water]              0.0488     0.0519     0.9410     0.3467     -0.0529      0.1505\n",
      "=========================================================================================================\n",
      "\n",
      "F-test for Poolability: 18.312\n",
      "P-value: 0.0000\n",
      "Distribution: F(1377,13055)\n",
      "\n",
      "Included effects: Entity\n"
     ]
    }
   ],
   "source": [
    "urban_LC = PanelOLS.from_formula('elec_use ~ 1 + DD_monthly + DD_monthly:(urban) + DD_monthly:(LC_Type3) + EntityEffects', \n",
    "                                 data=master1.dropna(subset=['urban']))\n",
    "\n",
    "print(urban_LC.fit())"
   ]
  },
  {
   "cell_type": "markdown",
   "metadata": {},
   "source": []
  },
  {
   "cell_type": "markdown",
   "metadata": {},
   "source": [
    "##### SF home vs NonSF"
   ]
  },
  {
   "cell_type": "code",
   "execution_count": 314,
   "metadata": {
    "scrolled": true
   },
   "outputs": [
    {
     "data": {
      "text/plain": [
       "0.0    10355\n",
       "1.0     4747\n",
       "Name: sf, dtype: int64"
      ]
     },
     "execution_count": 314,
     "metadata": {},
     "output_type": "execute_result"
    }
   ],
   "source": [
    "master.sf.value_counts(dropna=False)"
   ]
  },
  {
   "cell_type": "code",
   "execution_count": 315,
   "metadata": {
    "scrolled": false
   },
   "outputs": [
    {
     "data": {
      "text/plain": [
       "0.0    10319\n",
       "1.0     4747\n",
       "NaN       36\n",
       "Name: sf, dtype: int64"
      ]
     },
     "execution_count": 315,
     "metadata": {},
     "output_type": "execute_result"
    }
   ],
   "source": [
    "master1.sf.value_counts(dropna=False)"
   ]
  },
  {
   "cell_type": "code",
   "execution_count": 317,
   "metadata": {
    "scrolled": false
   },
   "outputs": [
    {
     "name": "stdout",
     "output_type": "stream",
     "text": [
      "                          PanelOLS Estimation Summary                           \n",
      "================================================================================\n",
      "Dep. Variable:               elec_use   R-squared:                        0.0093\n",
      "Estimator:                   PanelOLS   R-squared (Between):             -0.0072\n",
      "No. Observations:               14453   R-squared (Within):               0.0093\n",
      "Date:                Wed, Mar 18 2020   R-squared (Overall):              0.0049\n",
      "Time:                        19:41:32   Log-likelihood                -8.279e+04\n",
      "Cov. Estimator:            Unadjusted                                           \n",
      "                                        F-statistic:                      17.486\n",
      "Entities:                        1379   P-value                           0.0000\n",
      "Avg Obs:                       10.481   Distribution:                 F(7,13067)\n",
      "Min Obs:                       1.0000                                           \n",
      "Max Obs:                       12.000   F-statistic (robust):             17.486\n",
      "                                        P-value                           0.0000\n",
      "Time periods:                      12   Distribution:                 F(7,13067)\n",
      "Avg Obs:                       1204.4                                           \n",
      "Min Obs:                       1099.0                                           \n",
      "Max Obs:                       1318.0                                           \n",
      "                                                                                \n",
      "                                           Parameter Estimates                                           \n",
      "=========================================================================================================\n",
      "                                       Parameter  Std. Err.     T-stat    P-value    Lower CI    Upper CI\n",
      "---------------------------------------------------------------------------------------------------------\n",
      "Intercept                                 144.19     1.1769     122.52     0.0000      141.88      146.49\n",
      "DD_monthly                                0.0391     0.0042     9.3902     0.0000      0.0309      0.0472\n",
      "DD_monthly:LC_Type3[T.cropland]          -0.0113     0.0089    -1.2702     0.2040     -0.0287      0.0061\n",
      "DD_monthly:LC_Type3[T.forest/savanna]     0.0317     0.0140     2.2601     0.0238      0.0042      0.0592\n",
      "DD_monthly:LC_Type3[T.grassland]         -0.0298     0.0089    -3.3403     0.0008     -0.0473     -0.0123\n",
      "DD_monthly:LC_Type3[T.non-Vegetated]     -0.0235     0.0308    -0.7642     0.4448     -0.0839      0.0368\n",
      "DD_monthly:LC_Type3[T.water]              0.0457     0.0519     0.8810     0.3783     -0.0560      0.1474\n",
      "DD_monthly:sf                            -0.0155     0.0078    -1.9808     0.0476     -0.0309     -0.0002\n",
      "=========================================================================================================\n",
      "\n",
      "F-test for Poolability: 18.326\n",
      "P-value: 0.0000\n",
      "Distribution: F(1378,13067)\n",
      "\n",
      "Included effects: Entity\n"
     ]
    }
   ],
   "source": [
    "# same as if sf is continuous\n",
    "singlefamily_LC = PanelOLS.from_formula('elec_use ~ 1 + DD_monthly + DD_monthly:(sf) + DD_monthly:(LC_Type3) + EntityEffects', \n",
    "                                 data=master1.dropna(subset=['sf']))\n",
    "\n",
    "print(singlefamily_LC.fit())"
   ]
  },
  {
   "cell_type": "markdown",
   "metadata": {},
   "source": [
    " the `sf` variable is hightly corelated with `urban`\n",
    " \n",
    "so the effect is mostly driven by house being in a urban neighborhood or not"
   ]
  },
  {
   "cell_type": "code",
   "execution_count": 1588,
   "metadata": {
    "scrolled": false
   },
   "outputs": [
    {
     "data": {
      "text/html": [
       "<div>\n",
       "<style scoped>\n",
       "    .dataframe tbody tr th:only-of-type {\n",
       "        vertical-align: middle;\n",
       "    }\n",
       "\n",
       "    .dataframe tbody tr th {\n",
       "        vertical-align: top;\n",
       "    }\n",
       "\n",
       "    .dataframe thead th {\n",
       "        text-align: right;\n",
       "    }\n",
       "</style>\n",
       "<table border=\"1\" class=\"dataframe\">\n",
       "  <thead>\n",
       "    <tr style=\"text-align: right;\">\n",
       "      <th>urban</th>\n",
       "      <th>城市（县级市及以上）</th>\n",
       "      <th>乡镇</th>\n",
       "      <th>农村</th>\n",
       "      <th>All</th>\n",
       "    </tr>\n",
       "    <tr>\n",
       "      <th>sf</th>\n",
       "      <th></th>\n",
       "      <th></th>\n",
       "      <th></th>\n",
       "      <th></th>\n",
       "    </tr>\n",
       "  </thead>\n",
       "  <tbody>\n",
       "    <tr>\n",
       "      <th>0.0</th>\n",
       "      <td>8758</td>\n",
       "      <td>1495</td>\n",
       "      <td>67</td>\n",
       "      <td>10320</td>\n",
       "    </tr>\n",
       "    <tr>\n",
       "      <th>1.0</th>\n",
       "      <td>706</td>\n",
       "      <td>1019</td>\n",
       "      <td>3010</td>\n",
       "      <td>4735</td>\n",
       "    </tr>\n",
       "    <tr>\n",
       "      <th>All</th>\n",
       "      <td>9464</td>\n",
       "      <td>2514</td>\n",
       "      <td>3077</td>\n",
       "      <td>15055</td>\n",
       "    </tr>\n",
       "  </tbody>\n",
       "</table>\n",
       "</div>"
      ],
      "text/plain": [
       "urban  城市（县级市及以上）    乡镇    农村    All\n",
       "sf                                  \n",
       "0.0          8758  1495    67  10320\n",
       "1.0           706  1019  3010   4735\n",
       "All          9464  2514  3077  15055"
      ]
     },
     "execution_count": 1588,
     "metadata": {},
     "output_type": "execute_result"
    }
   ],
   "source": [
    "pd.crosstab(master1['sf'],master1['urban'],margins=True)"
   ]
  },
  {
   "cell_type": "code",
   "execution_count": 1589,
   "metadata": {
    "scrolled": false
   },
   "outputs": [
    {
     "data": {
      "text/html": [
       "<div>\n",
       "<style scoped>\n",
       "    .dataframe tbody tr th:only-of-type {\n",
       "        vertical-align: middle;\n",
       "    }\n",
       "\n",
       "    .dataframe tbody tr th {\n",
       "        vertical-align: top;\n",
       "    }\n",
       "\n",
       "    .dataframe thead th {\n",
       "        text-align: right;\n",
       "    }\n",
       "</style>\n",
       "<table border=\"1\" class=\"dataframe\">\n",
       "  <thead>\n",
       "    <tr style=\"text-align: right;\">\n",
       "      <th>urban</th>\n",
       "      <th>city</th>\n",
       "      <th>town</th>\n",
       "      <th>rural</th>\n",
       "      <th>All</th>\n",
       "    </tr>\n",
       "    <tr>\n",
       "      <th>sf</th>\n",
       "      <th></th>\n",
       "      <th></th>\n",
       "      <th></th>\n",
       "      <th></th>\n",
       "    </tr>\n",
       "  </thead>\n",
       "  <tbody>\n",
       "    <tr>\n",
       "      <th>0.0</th>\n",
       "      <td>8758</td>\n",
       "      <td>1495</td>\n",
       "      <td>67</td>\n",
       "      <td>10320</td>\n",
       "    </tr>\n",
       "    <tr>\n",
       "      <th>1.0</th>\n",
       "      <td>706</td>\n",
       "      <td>1019</td>\n",
       "      <td>3010</td>\n",
       "      <td>4735</td>\n",
       "    </tr>\n",
       "    <tr>\n",
       "      <th>All</th>\n",
       "      <td>9464</td>\n",
       "      <td>2514</td>\n",
       "      <td>3077</td>\n",
       "      <td>15055</td>\n",
       "    </tr>\n",
       "  </tbody>\n",
       "</table>\n",
       "</div>"
      ],
      "text/plain": [
       "urban  city  town  rural    All\n",
       "sf                             \n",
       "0.0    8758  1495     67  10320\n",
       "1.0     706  1019   3010   4735\n",
       "All    9464  2514   3077  15055"
      ]
     },
     "execution_count": 1589,
     "metadata": {},
     "output_type": "execute_result"
    }
   ],
   "source": [
    "pd.crosstab(master['sf'],master['urban'],margins=True)"
   ]
  },
  {
   "cell_type": "code",
   "execution_count": 1590,
   "metadata": {
    "scrolled": false
   },
   "outputs": [
    {
     "data": {
      "text/html": [
       "<div>\n",
       "<style scoped>\n",
       "    .dataframe tbody tr th:only-of-type {\n",
       "        vertical-align: middle;\n",
       "    }\n",
       "\n",
       "    .dataframe tbody tr th {\n",
       "        vertical-align: top;\n",
       "    }\n",
       "\n",
       "    .dataframe thead th {\n",
       "        text-align: right;\n",
       "    }\n",
       "</style>\n",
       "<table border=\"1\" class=\"dataframe\">\n",
       "  <thead>\n",
       "    <tr style=\"text-align: right;\">\n",
       "      <th>sf</th>\n",
       "      <th>0.0</th>\n",
       "      <th>1.0</th>\n",
       "    </tr>\n",
       "    <tr>\n",
       "      <th>sf</th>\n",
       "      <th></th>\n",
       "      <th></th>\n",
       "    </tr>\n",
       "  </thead>\n",
       "  <tbody>\n",
       "    <tr>\n",
       "      <th>0.0</th>\n",
       "      <td>10356</td>\n",
       "      <td>0</td>\n",
       "    </tr>\n",
       "    <tr>\n",
       "      <th>1.0</th>\n",
       "      <td>0</td>\n",
       "      <td>4747</td>\n",
       "    </tr>\n",
       "  </tbody>\n",
       "</table>\n",
       "</div>"
      ],
      "text/plain": [
       "sf     0.0   1.0\n",
       "sf              \n",
       "0.0  10356     0\n",
       "1.0      0  4747"
      ]
     },
     "execution_count": 1590,
     "metadata": {},
     "output_type": "execute_result"
    }
   ],
   "source": [
    "pd.crosstab(master1['sf'],master['sf']) #master1.sf ==0 should be 10319"
   ]
  },
  {
   "cell_type": "code",
   "execution_count": 1591,
   "metadata": {
    "scrolled": false
   },
   "outputs": [
    {
     "data": {
      "text/html": [
       "<div>\n",
       "<style scoped>\n",
       "    .dataframe tbody tr th:only-of-type {\n",
       "        vertical-align: middle;\n",
       "    }\n",
       "\n",
       "    .dataframe tbody tr th {\n",
       "        vertical-align: top;\n",
       "    }\n",
       "\n",
       "    .dataframe thead th {\n",
       "        text-align: right;\n",
       "    }\n",
       "</style>\n",
       "<table border=\"1\" class=\"dataframe\">\n",
       "  <thead>\n",
       "    <tr style=\"text-align: right;\">\n",
       "      <th>sf</th>\n",
       "      <th>0.0</th>\n",
       "      <th>1.0</th>\n",
       "    </tr>\n",
       "    <tr>\n",
       "      <th>sf</th>\n",
       "      <th></th>\n",
       "      <th></th>\n",
       "    </tr>\n",
       "  </thead>\n",
       "  <tbody>\n",
       "    <tr>\n",
       "      <th>0.0</th>\n",
       "      <td>10320</td>\n",
       "      <td>0</td>\n",
       "    </tr>\n",
       "    <tr>\n",
       "      <th>1.0</th>\n",
       "      <td>0</td>\n",
       "      <td>4747</td>\n",
       "    </tr>\n",
       "  </tbody>\n",
       "</table>\n",
       "</div>"
      ],
      "text/plain": [
       "sf     0.0   1.0\n",
       "sf              \n",
       "0.0  10320     0\n",
       "1.0      0  4747"
      ]
     },
     "execution_count": 1591,
     "metadata": {},
     "output_type": "execute_result"
    }
   ],
   "source": [
    "pd.crosstab(master['sf'],master1['sf'])"
   ]
  },
  {
   "cell_type": "markdown",
   "metadata": {},
   "source": [
    "##### Newer building"
   ]
  },
  {
   "cell_type": "code",
   "execution_count": 322,
   "metadata": {
    "scrolled": false
   },
   "outputs": [
    {
     "data": {
      "text/plain": [
       "1.0    12510\n",
       "0.0     2525\n",
       "NaN       67\n",
       "Name: new, dtype: int64"
      ]
     },
     "execution_count": 322,
     "metadata": {},
     "output_type": "execute_result"
    }
   ],
   "source": [
    "master.new.value_counts(dropna=False)"
   ]
  },
  {
   "cell_type": "code",
   "execution_count": 323,
   "metadata": {},
   "outputs": [
    {
     "data": {
      "text/plain": [
       "1.0    12510\n",
       "0.0     2525\n",
       "NaN       67\n",
       "Name: new, dtype: int64"
      ]
     },
     "execution_count": 323,
     "metadata": {},
     "output_type": "execute_result"
    }
   ],
   "source": [
    "master1.new.value_counts(dropna=False)"
   ]
  },
  {
   "cell_type": "code",
   "execution_count": 324,
   "metadata": {},
   "outputs": [
    {
     "data": {
      "text/plain": [
       "1.0    12510\n",
       "0.0     2525\n",
       "NaN       67\n",
       "Name: is_new, dtype: int64"
      ]
     },
     "execution_count": 324,
     "metadata": {},
     "output_type": "execute_result"
    }
   ],
   "source": [
    "master1.is_new.value_counts(dropna=False)"
   ]
  },
  {
   "cell_type": "code",
   "execution_count": 326,
   "metadata": {
    "scrolled": false
   },
   "outputs": [
    {
     "name": "stdout",
     "output_type": "stream",
     "text": [
      "                          PanelOLS Estimation Summary                           \n",
      "================================================================================\n",
      "Dep. Variable:               elec_use   R-squared:                        0.0091\n",
      "Estimator:                   PanelOLS   R-squared (Between):             -0.0098\n",
      "No. Observations:               14422   R-squared (Within):               0.0091\n",
      "Date:                Wed, Mar 18 2020   R-squared (Overall):              0.0032\n",
      "Time:                        19:41:33   Log-likelihood                -8.261e+04\n",
      "Cov. Estimator:            Unadjusted                                           \n",
      "                                        F-statistic:                      17.115\n",
      "Entities:                        1375   P-value                           0.0000\n",
      "Avg Obs:                       10.489   Distribution:                 F(7,13040)\n",
      "Min Obs:                       1.0000                                           \n",
      "Max Obs:                       12.000   F-statistic (robust):             17.115\n",
      "                                        P-value                           0.0000\n",
      "Time periods:                      12   Distribution:                 F(7,13040)\n",
      "Avg Obs:                       1201.8                                           \n",
      "Min Obs:                       1096.0                                           \n",
      "Max Obs:                       1315.0                                           \n",
      "                                                                                \n",
      "                                           Parameter Estimates                                           \n",
      "=========================================================================================================\n",
      "                                       Parameter  Std. Err.     T-stat    P-value    Lower CI    Upper CI\n",
      "---------------------------------------------------------------------------------------------------------\n",
      "Intercept                                 143.88     1.1733     122.63     0.0000      141.58      146.18\n",
      "DD_monthly                                0.0282     0.0086     3.2780     0.0010      0.0113      0.0450\n",
      "DD_monthly:LC_Type3[T.cropland]          -0.0165     0.0084    -1.9630     0.0497     -0.0330  -2.396e-05\n",
      "DD_monthly:LC_Type3[T.forest/savanna]     0.0288     0.0139     2.0702     0.0385      0.0015      0.0561\n",
      "DD_monthly:LC_Type3[T.grassland]         -0.0299     0.0089    -3.3565     0.0008     -0.0474     -0.0125\n",
      "DD_monthly:LC_Type3[T.non-Vegetated]     -0.0260     0.0308    -0.8441     0.3986     -0.0864      0.0344\n",
      "DD_monthly:LC_Type3[T.water]              0.0465     0.0519     0.8961     0.3702     -0.0553      0.1483\n",
      "DD_monthly:is_new                         0.0100     0.0087     1.1380     0.2552     -0.0072      0.0271\n",
      "=========================================================================================================\n",
      "\n",
      "F-test for Poolability: 18.359\n",
      "P-value: 0.0000\n",
      "Distribution: F(1374,13040)\n",
      "\n",
      "Included effects: Entity\n"
     ]
    }
   ],
   "source": [
    "newbuilding_LC = PanelOLS.from_formula('elec_use ~ 1 + DD_monthly + DD_monthly:is_new + DD_monthly:(LC_Type3) + EntityEffects', \n",
    "                                 data=master1.dropna(subset=['is_new']))\n",
    "\n",
    "print(newbuilding_LC.fit())"
   ]
  },
  {
   "cell_type": "markdown",
   "metadata": {},
   "source": [
    "## Machine Learning Models"
   ]
  },
  {
   "cell_type": "code",
   "execution_count": 330,
   "metadata": {},
   "outputs": [],
   "source": [
    "from sklearn.linear_model import LinearRegression\n",
    "#from sklearn.linear_model import Ridge, RidgeCV, Lasso, LassoCV\n",
    "from sklearn.model_selection import KFold, cross_val_score, train_test_split\n",
    "#from sklearn.model_selection import GridSearchCV, RandomizedSearchCV\n",
    "#from sklearn.ensemble import RandomForestRegressor,  GradientBoostingRegressor\n",
    "#from sklearn.kernel_ridge import KernelRidge\n",
    "from sklearn.pipeline import make_pipeline\n",
    "from sklearn.preprocessing import RobustScaler\n",
    "from sklearn.metrics import mean_squared_error"
   ]
  },
  {
   "cell_type": "markdown",
   "metadata": {},
   "source": [
    "### prepare training and test set"
   ]
  },
  {
   "cell_type": "code",
   "execution_count": 1593,
   "metadata": {},
   "outputs": [],
   "source": [
    "to_delete = ['serial','zipcode','elec_ln']"
   ]
  },
  {
   "cell_type": "code",
   "execution_count": 1594,
   "metadata": {},
   "outputs": [],
   "source": [
    "# from panel master1\n",
    "dfml = master1.drop(labels=to_delete,  axis=1, inplace=False)"
   ]
  },
  {
   "cell_type": "code",
   "execution_count": 1595,
   "metadata": {},
   "outputs": [
    {
     "data": {
      "text/plain": [
       "(15103, 73)"
      ]
     },
     "execution_count": 1595,
     "metadata": {},
     "output_type": "execute_result"
    }
   ],
   "source": [
    "master1.shape"
   ]
  },
  {
   "cell_type": "code",
   "execution_count": 1596,
   "metadata": {
    "scrolled": true
   },
   "outputs": [
    {
     "data": {
      "text/plain": [
       "(15103, 70)"
      ]
     },
     "execution_count": 1596,
     "metadata": {},
     "output_type": "execute_result"
    }
   ],
   "source": [
    "dfml.shape"
   ]
  },
  {
   "cell_type": "code",
   "execution_count": 1597,
   "metadata": {},
   "outputs": [
    {
     "data": {
      "text/plain": [
       "Index(['elec_use', 'elec_bill', 'price', 'Month', 'respondent', 'latitude',\n",
       "       'longitude', 'fsize', 'birthyr', 'edu_yrs', 'mths_at_home', 'level',\n",
       "       'moveinyr', 'daystyd', 'owntyp', 'bathroom', 'balcony', 'DD_monthly',\n",
       "       'goodday_count', 'LC_Type1', 'LC_Type2', 'NonTree_Vege', 'NonVege',\n",
       "       'Tree_Cover', 'is_north', 'is_south', 'summer', 'is_summer', 'new',\n",
       "       'is_new', 'sf', 'Vege_Cover', 'DD_sq'],\n",
       "      dtype='object')"
      ]
     },
     "execution_count": 1597,
     "metadata": {},
     "output_type": "execute_result"
    }
   ],
   "source": [
    "dfml._get_numeric_data().columns"
   ]
  },
  {
   "cell_type": "code",
   "execution_count": 1598,
   "metadata": {},
   "outputs": [],
   "source": [
    "# birthyr, moveinyr ?\n",
    "to_convert_category = ['Month','birthyr','moveinyr','owntyp','LC_Type1','LC_Type2']"
   ]
  },
  {
   "cell_type": "code",
   "execution_count": 1599,
   "metadata": {},
   "outputs": [],
   "source": [
    "dfml[to_convert_category] = dfml[to_convert_category].astype('category')"
   ]
  },
  {
   "cell_type": "code",
   "execution_count": 1600,
   "metadata": {},
   "outputs": [],
   "source": [
    "dfml.dropna(axis=0, how='any', inplace=True)"
   ]
  },
  {
   "cell_type": "code",
   "execution_count": 1601,
   "metadata": {},
   "outputs": [
    {
     "data": {
      "text/plain": [
       "(8837, 70)"
      ]
     },
     "execution_count": 1601,
     "metadata": {},
     "output_type": "execute_result"
    }
   ],
   "source": [
    "dfml.shape"
   ]
  },
  {
   "cell_type": "code",
   "execution_count": 1602,
   "metadata": {},
   "outputs": [
    {
     "data": {
      "text/html": [
       "<div>\n",
       "<style scoped>\n",
       "    .dataframe tbody tr th:only-of-type {\n",
       "        vertical-align: middle;\n",
       "    }\n",
       "\n",
       "    .dataframe tbody tr th {\n",
       "        vertical-align: top;\n",
       "    }\n",
       "\n",
       "    .dataframe thead th {\n",
       "        text-align: right;\n",
       "    }\n",
       "</style>\n",
       "<table border=\"1\" class=\"dataframe\">\n",
       "  <thead>\n",
       "    <tr style=\"text-align: right;\">\n",
       "      <th></th>\n",
       "      <th></th>\n",
       "      <th>elec_use</th>\n",
       "      <th>elec_bill</th>\n",
       "      <th>price</th>\n",
       "      <th>respondent</th>\n",
       "      <th>latitude</th>\n",
       "      <th>longitude</th>\n",
       "      <th>fsize</th>\n",
       "      <th>edu_yrs</th>\n",
       "      <th>mths_at_home</th>\n",
       "      <th>level</th>\n",
       "      <th>daystyd</th>\n",
       "      <th>bathroom</th>\n",
       "      <th>balcony</th>\n",
       "      <th>DD_monthly</th>\n",
       "      <th>goodday_count</th>\n",
       "      <th>NonTree_Vege</th>\n",
       "      <th>NonVege</th>\n",
       "      <th>Tree_Cover</th>\n",
       "      <th>is_north</th>\n",
       "      <th>is_south</th>\n",
       "      <th>summer</th>\n",
       "      <th>is_summer</th>\n",
       "      <th>new</th>\n",
       "      <th>is_new</th>\n",
       "      <th>sf</th>\n",
       "      <th>Vege_Cover</th>\n",
       "      <th>DD_sq</th>\n",
       "      <th>Month_1</th>\n",
       "      <th>Month_2</th>\n",
       "      <th>Month_3</th>\n",
       "      <th>Month_4</th>\n",
       "      <th>Month_5</th>\n",
       "      <th>Month_6</th>\n",
       "      <th>Month_7</th>\n",
       "      <th>Month_8</th>\n",
       "      <th>Month_9</th>\n",
       "      <th>Month_10</th>\n",
       "      <th>Month_11</th>\n",
       "      <th>Month_12</th>\n",
       "      <th>province_上海</th>\n",
       "      <th>...</th>\n",
       "      <th>county__闵行区</th>\n",
       "      <th>county__阜康</th>\n",
       "      <th>county__阳曲县</th>\n",
       "      <th>county__阳朔县</th>\n",
       "      <th>county__阳谷县</th>\n",
       "      <th>county__阿鲁科尔沁旗</th>\n",
       "      <th>county__陆川县</th>\n",
       "      <th>county__青山区</th>\n",
       "      <th>county__青州</th>\n",
       "      <th>county__静安区</th>\n",
       "      <th>county__项城市</th>\n",
       "      <th>county__顺义区</th>\n",
       "      <th>county__香坊区</th>\n",
       "      <th>county__驿城区</th>\n",
       "      <th>county__高新技术开发区</th>\n",
       "      <th>county__鹤城区</th>\n",
       "      <th>county__黄浦区</th>\n",
       "      <th>county__龙华区</th>\n",
       "      <th>county__龙沙区</th>\n",
       "      <th>LC_Type2s_Built-up/Urban</th>\n",
       "      <th>LC_Type2s_Cropland</th>\n",
       "      <th>LC_Type2s_Evergreen</th>\n",
       "      <th>LC_Type2s_Grassland</th>\n",
       "      <th>LC_Type2s_Mixed forest</th>\n",
       "      <th>LC_Type2s_Non-Vegetated</th>\n",
       "      <th>LC_Type2s_Savanna</th>\n",
       "      <th>LC_Type2s_Woody Savanna</th>\n",
       "      <th>LC_Type2s_cropland mosaic</th>\n",
       "      <th>LC_Type3_Built-up/Urban</th>\n",
       "      <th>LC_Type3_cropland</th>\n",
       "      <th>LC_Type3_forest/savanna</th>\n",
       "      <th>LC_Type3_grassland</th>\n",
       "      <th>LC_Type3_non-Vegetated</th>\n",
       "      <th>LC_Type4_Built-up/Urban</th>\n",
       "      <th>LC_Type4_non-Vegetated</th>\n",
       "      <th>LC_Type4_vege</th>\n",
       "      <th>LC_Type5_Built-up/Urban</th>\n",
       "      <th>LC_Type5_cropland</th>\n",
       "      <th>LC_Type5_natural_vege</th>\n",
       "      <th>LC_Type5_non-Vegetated</th>\n",
       "    </tr>\n",
       "    <tr>\n",
       "      <th>ID</th>\n",
       "      <th>month</th>\n",
       "      <th></th>\n",
       "      <th></th>\n",
       "      <th></th>\n",
       "      <th></th>\n",
       "      <th></th>\n",
       "      <th></th>\n",
       "      <th></th>\n",
       "      <th></th>\n",
       "      <th></th>\n",
       "      <th></th>\n",
       "      <th></th>\n",
       "      <th></th>\n",
       "      <th></th>\n",
       "      <th></th>\n",
       "      <th></th>\n",
       "      <th></th>\n",
       "      <th></th>\n",
       "      <th></th>\n",
       "      <th></th>\n",
       "      <th></th>\n",
       "      <th></th>\n",
       "      <th></th>\n",
       "      <th></th>\n",
       "      <th></th>\n",
       "      <th></th>\n",
       "      <th></th>\n",
       "      <th></th>\n",
       "      <th></th>\n",
       "      <th></th>\n",
       "      <th></th>\n",
       "      <th></th>\n",
       "      <th></th>\n",
       "      <th></th>\n",
       "      <th></th>\n",
       "      <th></th>\n",
       "      <th></th>\n",
       "      <th></th>\n",
       "      <th></th>\n",
       "      <th></th>\n",
       "      <th></th>\n",
       "      <th></th>\n",
       "      <th></th>\n",
       "      <th></th>\n",
       "      <th></th>\n",
       "      <th></th>\n",
       "      <th></th>\n",
       "      <th></th>\n",
       "      <th></th>\n",
       "      <th></th>\n",
       "      <th></th>\n",
       "      <th></th>\n",
       "      <th></th>\n",
       "      <th></th>\n",
       "      <th></th>\n",
       "      <th></th>\n",
       "      <th></th>\n",
       "      <th></th>\n",
       "      <th></th>\n",
       "      <th></th>\n",
       "      <th></th>\n",
       "      <th></th>\n",
       "      <th></th>\n",
       "      <th></th>\n",
       "      <th></th>\n",
       "      <th></th>\n",
       "      <th></th>\n",
       "      <th></th>\n",
       "      <th></th>\n",
       "      <th></th>\n",
       "      <th></th>\n",
       "      <th></th>\n",
       "      <th></th>\n",
       "      <th></th>\n",
       "      <th></th>\n",
       "      <th></th>\n",
       "      <th></th>\n",
       "      <th></th>\n",
       "      <th></th>\n",
       "      <th></th>\n",
       "      <th></th>\n",
       "      <th></th>\n",
       "    </tr>\n",
       "  </thead>\n",
       "  <tbody>\n",
       "    <tr>\n",
       "      <th rowspan=\"5\" valign=\"top\">5</th>\n",
       "      <th>1</th>\n",
       "      <td>265.0</td>\n",
       "      <td>140.000000</td>\n",
       "      <td>0.528302</td>\n",
       "      <td>1.0</td>\n",
       "      <td>22.857195</td>\n",
       "      <td>110.550453</td>\n",
       "      <td>5.0</td>\n",
       "      <td>12.0</td>\n",
       "      <td>12.0</td>\n",
       "      <td>3.0</td>\n",
       "      <td>7.0</td>\n",
       "      <td>2.0</td>\n",
       "      <td>1.0</td>\n",
       "      <td>317.130524</td>\n",
       "      <td>8.0</td>\n",
       "      <td>37.0</td>\n",
       "      <td>57.0</td>\n",
       "      <td>6.0</td>\n",
       "      <td>False</td>\n",
       "      <td>True</td>\n",
       "      <td>0</td>\n",
       "      <td>False</td>\n",
       "      <td>1.0</td>\n",
       "      <td>1.0</td>\n",
       "      <td>0.0</td>\n",
       "      <td>43.0</td>\n",
       "      <td>100571.773438</td>\n",
       "      <td>1</td>\n",
       "      <td>0</td>\n",
       "      <td>0</td>\n",
       "      <td>0</td>\n",
       "      <td>0</td>\n",
       "      <td>0</td>\n",
       "      <td>0</td>\n",
       "      <td>0</td>\n",
       "      <td>0</td>\n",
       "      <td>0</td>\n",
       "      <td>0</td>\n",
       "      <td>0</td>\n",
       "      <td>0</td>\n",
       "      <td>...</td>\n",
       "      <td>0</td>\n",
       "      <td>0</td>\n",
       "      <td>0</td>\n",
       "      <td>0</td>\n",
       "      <td>0</td>\n",
       "      <td>0</td>\n",
       "      <td>0</td>\n",
       "      <td>0</td>\n",
       "      <td>0</td>\n",
       "      <td>0</td>\n",
       "      <td>0</td>\n",
       "      <td>0</td>\n",
       "      <td>0</td>\n",
       "      <td>0</td>\n",
       "      <td>0</td>\n",
       "      <td>0</td>\n",
       "      <td>0</td>\n",
       "      <td>0</td>\n",
       "      <td>0</td>\n",
       "      <td>1</td>\n",
       "      <td>0</td>\n",
       "      <td>0</td>\n",
       "      <td>0</td>\n",
       "      <td>0</td>\n",
       "      <td>0</td>\n",
       "      <td>0</td>\n",
       "      <td>0</td>\n",
       "      <td>0</td>\n",
       "      <td>1</td>\n",
       "      <td>0</td>\n",
       "      <td>0</td>\n",
       "      <td>0</td>\n",
       "      <td>0</td>\n",
       "      <td>1</td>\n",
       "      <td>0</td>\n",
       "      <td>0</td>\n",
       "      <td>1</td>\n",
       "      <td>0</td>\n",
       "      <td>0</td>\n",
       "      <td>0</td>\n",
       "    </tr>\n",
       "    <tr>\n",
       "      <th>2</th>\n",
       "      <td>461.0</td>\n",
       "      <td>243.550003</td>\n",
       "      <td>0.528308</td>\n",
       "      <td>1.0</td>\n",
       "      <td>22.857195</td>\n",
       "      <td>110.550453</td>\n",
       "      <td>5.0</td>\n",
       "      <td>12.0</td>\n",
       "      <td>12.0</td>\n",
       "      <td>3.0</td>\n",
       "      <td>7.0</td>\n",
       "      <td>2.0</td>\n",
       "      <td>1.0</td>\n",
       "      <td>12.180555</td>\n",
       "      <td>8.0</td>\n",
       "      <td>37.0</td>\n",
       "      <td>57.0</td>\n",
       "      <td>6.0</td>\n",
       "      <td>False</td>\n",
       "      <td>True</td>\n",
       "      <td>0</td>\n",
       "      <td>False</td>\n",
       "      <td>1.0</td>\n",
       "      <td>1.0</td>\n",
       "      <td>0.0</td>\n",
       "      <td>43.0</td>\n",
       "      <td>148.365936</td>\n",
       "      <td>0</td>\n",
       "      <td>1</td>\n",
       "      <td>0</td>\n",
       "      <td>0</td>\n",
       "      <td>0</td>\n",
       "      <td>0</td>\n",
       "      <td>0</td>\n",
       "      <td>0</td>\n",
       "      <td>0</td>\n",
       "      <td>0</td>\n",
       "      <td>0</td>\n",
       "      <td>0</td>\n",
       "      <td>0</td>\n",
       "      <td>...</td>\n",
       "      <td>0</td>\n",
       "      <td>0</td>\n",
       "      <td>0</td>\n",
       "      <td>0</td>\n",
       "      <td>0</td>\n",
       "      <td>0</td>\n",
       "      <td>0</td>\n",
       "      <td>0</td>\n",
       "      <td>0</td>\n",
       "      <td>0</td>\n",
       "      <td>0</td>\n",
       "      <td>0</td>\n",
       "      <td>0</td>\n",
       "      <td>0</td>\n",
       "      <td>0</td>\n",
       "      <td>0</td>\n",
       "      <td>0</td>\n",
       "      <td>0</td>\n",
       "      <td>0</td>\n",
       "      <td>1</td>\n",
       "      <td>0</td>\n",
       "      <td>0</td>\n",
       "      <td>0</td>\n",
       "      <td>0</td>\n",
       "      <td>0</td>\n",
       "      <td>0</td>\n",
       "      <td>0</td>\n",
       "      <td>0</td>\n",
       "      <td>1</td>\n",
       "      <td>0</td>\n",
       "      <td>0</td>\n",
       "      <td>0</td>\n",
       "      <td>0</td>\n",
       "      <td>1</td>\n",
       "      <td>0</td>\n",
       "      <td>0</td>\n",
       "      <td>1</td>\n",
       "      <td>0</td>\n",
       "      <td>0</td>\n",
       "      <td>0</td>\n",
       "    </tr>\n",
       "    <tr>\n",
       "      <th>3</th>\n",
       "      <td>340.0</td>\n",
       "      <td>179.619995</td>\n",
       "      <td>0.528294</td>\n",
       "      <td>1.0</td>\n",
       "      <td>22.857195</td>\n",
       "      <td>110.550453</td>\n",
       "      <td>5.0</td>\n",
       "      <td>12.0</td>\n",
       "      <td>12.0</td>\n",
       "      <td>3.0</td>\n",
       "      <td>7.0</td>\n",
       "      <td>2.0</td>\n",
       "      <td>1.0</td>\n",
       "      <td>17.901831</td>\n",
       "      <td>8.0</td>\n",
       "      <td>37.0</td>\n",
       "      <td>57.0</td>\n",
       "      <td>6.0</td>\n",
       "      <td>False</td>\n",
       "      <td>True</td>\n",
       "      <td>0</td>\n",
       "      <td>False</td>\n",
       "      <td>1.0</td>\n",
       "      <td>1.0</td>\n",
       "      <td>0.0</td>\n",
       "      <td>43.0</td>\n",
       "      <td>320.475555</td>\n",
       "      <td>0</td>\n",
       "      <td>0</td>\n",
       "      <td>1</td>\n",
       "      <td>0</td>\n",
       "      <td>0</td>\n",
       "      <td>0</td>\n",
       "      <td>0</td>\n",
       "      <td>0</td>\n",
       "      <td>0</td>\n",
       "      <td>0</td>\n",
       "      <td>0</td>\n",
       "      <td>0</td>\n",
       "      <td>0</td>\n",
       "      <td>...</td>\n",
       "      <td>0</td>\n",
       "      <td>0</td>\n",
       "      <td>0</td>\n",
       "      <td>0</td>\n",
       "      <td>0</td>\n",
       "      <td>0</td>\n",
       "      <td>0</td>\n",
       "      <td>0</td>\n",
       "      <td>0</td>\n",
       "      <td>0</td>\n",
       "      <td>0</td>\n",
       "      <td>0</td>\n",
       "      <td>0</td>\n",
       "      <td>0</td>\n",
       "      <td>0</td>\n",
       "      <td>0</td>\n",
       "      <td>0</td>\n",
       "      <td>0</td>\n",
       "      <td>0</td>\n",
       "      <td>1</td>\n",
       "      <td>0</td>\n",
       "      <td>0</td>\n",
       "      <td>0</td>\n",
       "      <td>0</td>\n",
       "      <td>0</td>\n",
       "      <td>0</td>\n",
       "      <td>0</td>\n",
       "      <td>0</td>\n",
       "      <td>1</td>\n",
       "      <td>0</td>\n",
       "      <td>0</td>\n",
       "      <td>0</td>\n",
       "      <td>0</td>\n",
       "      <td>1</td>\n",
       "      <td>0</td>\n",
       "      <td>0</td>\n",
       "      <td>1</td>\n",
       "      <td>0</td>\n",
       "      <td>0</td>\n",
       "      <td>0</td>\n",
       "    </tr>\n",
       "    <tr>\n",
       "      <th>4</th>\n",
       "      <td>243.0</td>\n",
       "      <td>128.380005</td>\n",
       "      <td>0.528313</td>\n",
       "      <td>1.0</td>\n",
       "      <td>22.857195</td>\n",
       "      <td>110.550453</td>\n",
       "      <td>5.0</td>\n",
       "      <td>12.0</td>\n",
       "      <td>12.0</td>\n",
       "      <td>3.0</td>\n",
       "      <td>7.0</td>\n",
       "      <td>2.0</td>\n",
       "      <td>1.0</td>\n",
       "      <td>273.800171</td>\n",
       "      <td>9.0</td>\n",
       "      <td>37.0</td>\n",
       "      <td>57.0</td>\n",
       "      <td>6.0</td>\n",
       "      <td>False</td>\n",
       "      <td>True</td>\n",
       "      <td>1</td>\n",
       "      <td>True</td>\n",
       "      <td>1.0</td>\n",
       "      <td>1.0</td>\n",
       "      <td>0.0</td>\n",
       "      <td>43.0</td>\n",
       "      <td>74966.531250</td>\n",
       "      <td>0</td>\n",
       "      <td>0</td>\n",
       "      <td>0</td>\n",
       "      <td>1</td>\n",
       "      <td>0</td>\n",
       "      <td>0</td>\n",
       "      <td>0</td>\n",
       "      <td>0</td>\n",
       "      <td>0</td>\n",
       "      <td>0</td>\n",
       "      <td>0</td>\n",
       "      <td>0</td>\n",
       "      <td>0</td>\n",
       "      <td>...</td>\n",
       "      <td>0</td>\n",
       "      <td>0</td>\n",
       "      <td>0</td>\n",
       "      <td>0</td>\n",
       "      <td>0</td>\n",
       "      <td>0</td>\n",
       "      <td>0</td>\n",
       "      <td>0</td>\n",
       "      <td>0</td>\n",
       "      <td>0</td>\n",
       "      <td>0</td>\n",
       "      <td>0</td>\n",
       "      <td>0</td>\n",
       "      <td>0</td>\n",
       "      <td>0</td>\n",
       "      <td>0</td>\n",
       "      <td>0</td>\n",
       "      <td>0</td>\n",
       "      <td>0</td>\n",
       "      <td>1</td>\n",
       "      <td>0</td>\n",
       "      <td>0</td>\n",
       "      <td>0</td>\n",
       "      <td>0</td>\n",
       "      <td>0</td>\n",
       "      <td>0</td>\n",
       "      <td>0</td>\n",
       "      <td>0</td>\n",
       "      <td>1</td>\n",
       "      <td>0</td>\n",
       "      <td>0</td>\n",
       "      <td>0</td>\n",
       "      <td>0</td>\n",
       "      <td>1</td>\n",
       "      <td>0</td>\n",
       "      <td>0</td>\n",
       "      <td>1</td>\n",
       "      <td>0</td>\n",
       "      <td>0</td>\n",
       "      <td>0</td>\n",
       "    </tr>\n",
       "    <tr>\n",
       "      <th>5</th>\n",
       "      <td>131.0</td>\n",
       "      <td>69.209999</td>\n",
       "      <td>0.528321</td>\n",
       "      <td>1.0</td>\n",
       "      <td>22.857195</td>\n",
       "      <td>110.550453</td>\n",
       "      <td>5.0</td>\n",
       "      <td>12.0</td>\n",
       "      <td>12.0</td>\n",
       "      <td>3.0</td>\n",
       "      <td>7.0</td>\n",
       "      <td>2.0</td>\n",
       "      <td>1.0</td>\n",
       "      <td>300.616943</td>\n",
       "      <td>15.0</td>\n",
       "      <td>37.0</td>\n",
       "      <td>57.0</td>\n",
       "      <td>6.0</td>\n",
       "      <td>False</td>\n",
       "      <td>True</td>\n",
       "      <td>1</td>\n",
       "      <td>True</td>\n",
       "      <td>1.0</td>\n",
       "      <td>1.0</td>\n",
       "      <td>0.0</td>\n",
       "      <td>43.0</td>\n",
       "      <td>90370.546875</td>\n",
       "      <td>0</td>\n",
       "      <td>0</td>\n",
       "      <td>0</td>\n",
       "      <td>0</td>\n",
       "      <td>1</td>\n",
       "      <td>0</td>\n",
       "      <td>0</td>\n",
       "      <td>0</td>\n",
       "      <td>0</td>\n",
       "      <td>0</td>\n",
       "      <td>0</td>\n",
       "      <td>0</td>\n",
       "      <td>0</td>\n",
       "      <td>...</td>\n",
       "      <td>0</td>\n",
       "      <td>0</td>\n",
       "      <td>0</td>\n",
       "      <td>0</td>\n",
       "      <td>0</td>\n",
       "      <td>0</td>\n",
       "      <td>0</td>\n",
       "      <td>0</td>\n",
       "      <td>0</td>\n",
       "      <td>0</td>\n",
       "      <td>0</td>\n",
       "      <td>0</td>\n",
       "      <td>0</td>\n",
       "      <td>0</td>\n",
       "      <td>0</td>\n",
       "      <td>0</td>\n",
       "      <td>0</td>\n",
       "      <td>0</td>\n",
       "      <td>0</td>\n",
       "      <td>1</td>\n",
       "      <td>0</td>\n",
       "      <td>0</td>\n",
       "      <td>0</td>\n",
       "      <td>0</td>\n",
       "      <td>0</td>\n",
       "      <td>0</td>\n",
       "      <td>0</td>\n",
       "      <td>0</td>\n",
       "      <td>1</td>\n",
       "      <td>0</td>\n",
       "      <td>0</td>\n",
       "      <td>0</td>\n",
       "      <td>0</td>\n",
       "      <td>1</td>\n",
       "      <td>0</td>\n",
       "      <td>0</td>\n",
       "      <td>1</td>\n",
       "      <td>0</td>\n",
       "      <td>0</td>\n",
       "      <td>0</td>\n",
       "    </tr>\n",
       "  </tbody>\n",
       "</table>\n",
       "<p>5 rows × 847 columns</p>\n",
       "</div>"
      ],
      "text/plain": [
       "          elec_use   elec_bill     price  respondent   latitude   longitude  \\\n",
       "ID month                                                                      \n",
       "5  1         265.0  140.000000  0.528302         1.0  22.857195  110.550453   \n",
       "   2         461.0  243.550003  0.528308         1.0  22.857195  110.550453   \n",
       "   3         340.0  179.619995  0.528294         1.0  22.857195  110.550453   \n",
       "   4         243.0  128.380005  0.528313         1.0  22.857195  110.550453   \n",
       "   5         131.0   69.209999  0.528321         1.0  22.857195  110.550453   \n",
       "\n",
       "          fsize  edu_yrs  mths_at_home  level  daystyd  bathroom  balcony  \\\n",
       "ID month                                                                    \n",
       "5  1        5.0     12.0          12.0    3.0      7.0       2.0      1.0   \n",
       "   2        5.0     12.0          12.0    3.0      7.0       2.0      1.0   \n",
       "   3        5.0     12.0          12.0    3.0      7.0       2.0      1.0   \n",
       "   4        5.0     12.0          12.0    3.0      7.0       2.0      1.0   \n",
       "   5        5.0     12.0          12.0    3.0      7.0       2.0      1.0   \n",
       "\n",
       "          DD_monthly  goodday_count  NonTree_Vege  NonVege  Tree_Cover  \\\n",
       "ID month                                                                 \n",
       "5  1      317.130524            8.0          37.0     57.0         6.0   \n",
       "   2       12.180555            8.0          37.0     57.0         6.0   \n",
       "   3       17.901831            8.0          37.0     57.0         6.0   \n",
       "   4      273.800171            9.0          37.0     57.0         6.0   \n",
       "   5      300.616943           15.0          37.0     57.0         6.0   \n",
       "\n",
       "          is_north  is_south  summer  is_summer  new  is_new   sf  Vege_Cover  \\\n",
       "ID month                                                                        \n",
       "5  1         False      True       0      False  1.0     1.0  0.0        43.0   \n",
       "   2         False      True       0      False  1.0     1.0  0.0        43.0   \n",
       "   3         False      True       0      False  1.0     1.0  0.0        43.0   \n",
       "   4         False      True       1       True  1.0     1.0  0.0        43.0   \n",
       "   5         False      True       1       True  1.0     1.0  0.0        43.0   \n",
       "\n",
       "                  DD_sq  Month_1  Month_2  Month_3  Month_4  Month_5  Month_6  \\\n",
       "ID month                                                                        \n",
       "5  1      100571.773438        1        0        0        0        0        0   \n",
       "   2         148.365936        0        1        0        0        0        0   \n",
       "   3         320.475555        0        0        1        0        0        0   \n",
       "   4       74966.531250        0        0        0        1        0        0   \n",
       "   5       90370.546875        0        0        0        0        1        0   \n",
       "\n",
       "          Month_7  Month_8  Month_9  Month_10  Month_11  Month_12  \\\n",
       "ID month                                                            \n",
       "5  1            0        0        0         0         0         0   \n",
       "   2            0        0        0         0         0         0   \n",
       "   3            0        0        0         0         0         0   \n",
       "   4            0        0        0         0         0         0   \n",
       "   5            0        0        0         0         0         0   \n",
       "\n",
       "          province_上海  ...  county__闵行区  county__阜康  county__阳曲县  county__阳朔县  \\\n",
       "ID month               ...                                                      \n",
       "5  1                0  ...            0           0            0            0   \n",
       "   2                0  ...            0           0            0            0   \n",
       "   3                0  ...            0           0            0            0   \n",
       "   4                0  ...            0           0            0            0   \n",
       "   5                0  ...            0           0            0            0   \n",
       "\n",
       "          county__阳谷县  county__阿鲁科尔沁旗  county__陆川县  county__青山区  county__青州  \\\n",
       "ID month                                                                      \n",
       "5  1                0               0            0            0           0   \n",
       "   2                0               0            0            0           0   \n",
       "   3                0               0            0            0           0   \n",
       "   4                0               0            0            0           0   \n",
       "   5                0               0            0            0           0   \n",
       "\n",
       "          county__静安区  county__项城市  county__顺义区  county__香坊区  county__驿城区  \\\n",
       "ID month                                                                    \n",
       "5  1                0            0            0            0            0   \n",
       "   2                0            0            0            0            0   \n",
       "   3                0            0            0            0            0   \n",
       "   4                0            0            0            0            0   \n",
       "   5                0            0            0            0            0   \n",
       "\n",
       "          county__高新技术开发区  county__鹤城区  county__黄浦区  county__龙华区  county__龙沙区  \\\n",
       "ID month                                                                        \n",
       "5  1                    0            0            0            0            0   \n",
       "   2                    0            0            0            0            0   \n",
       "   3                    0            0            0            0            0   \n",
       "   4                    0            0            0            0            0   \n",
       "   5                    0            0            0            0            0   \n",
       "\n",
       "          LC_Type2s_Built-up/Urban  LC_Type2s_Cropland  LC_Type2s_Evergreen  \\\n",
       "ID month                                                                      \n",
       "5  1                             1                   0                    0   \n",
       "   2                             1                   0                    0   \n",
       "   3                             1                   0                    0   \n",
       "   4                             1                   0                    0   \n",
       "   5                             1                   0                    0   \n",
       "\n",
       "          LC_Type2s_Grassland  LC_Type2s_Mixed forest  \\\n",
       "ID month                                                \n",
       "5  1                        0                       0   \n",
       "   2                        0                       0   \n",
       "   3                        0                       0   \n",
       "   4                        0                       0   \n",
       "   5                        0                       0   \n",
       "\n",
       "          LC_Type2s_Non-Vegetated  LC_Type2s_Savanna  LC_Type2s_Woody Savanna  \\\n",
       "ID month                                                                        \n",
       "5  1                            0                  0                        0   \n",
       "   2                            0                  0                        0   \n",
       "   3                            0                  0                        0   \n",
       "   4                            0                  0                        0   \n",
       "   5                            0                  0                        0   \n",
       "\n",
       "          LC_Type2s_cropland mosaic  LC_Type3_Built-up/Urban  \\\n",
       "ID month                                                       \n",
       "5  1                              0                        1   \n",
       "   2                              0                        1   \n",
       "   3                              0                        1   \n",
       "   4                              0                        1   \n",
       "   5                              0                        1   \n",
       "\n",
       "          LC_Type3_cropland  LC_Type3_forest/savanna  LC_Type3_grassland  \\\n",
       "ID month                                                                   \n",
       "5  1                      0                        0                   0   \n",
       "   2                      0                        0                   0   \n",
       "   3                      0                        0                   0   \n",
       "   4                      0                        0                   0   \n",
       "   5                      0                        0                   0   \n",
       "\n",
       "          LC_Type3_non-Vegetated  LC_Type4_Built-up/Urban  \\\n",
       "ID month                                                    \n",
       "5  1                           0                        1   \n",
       "   2                           0                        1   \n",
       "   3                           0                        1   \n",
       "   4                           0                        1   \n",
       "   5                           0                        1   \n",
       "\n",
       "          LC_Type4_non-Vegetated  LC_Type4_vege  LC_Type5_Built-up/Urban  \\\n",
       "ID month                                                                   \n",
       "5  1                           0              0                        1   \n",
       "   2                           0              0                        1   \n",
       "   3                           0              0                        1   \n",
       "   4                           0              0                        1   \n",
       "   5                           0              0                        1   \n",
       "\n",
       "          LC_Type5_cropland  LC_Type5_natural_vege  LC_Type5_non-Vegetated  \n",
       "ID month                                                                    \n",
       "5  1                      0                      0                       0  \n",
       "   2                      0                      0                       0  \n",
       "   3                      0                      0                       0  \n",
       "   4                      0                      0                       0  \n",
       "   5                      0                      0                       0  \n",
       "\n",
       "[5 rows x 847 columns]"
      ]
     },
     "execution_count": 1602,
     "metadata": {},
     "output_type": "execute_result"
    }
   ],
   "source": [
    "pd.get_dummies(dfml).head()"
   ]
  },
  {
   "cell_type": "code",
   "execution_count": 1603,
   "metadata": {},
   "outputs": [],
   "source": [
    "X = pd.get_dummies(dfml).iloc[:,2:]"
   ]
  },
  {
   "cell_type": "code",
   "execution_count": 1604,
   "metadata": {
    "scrolled": false
   },
   "outputs": [
    {
     "data": {
      "text/plain": [
       "(8837, 845)"
      ]
     },
     "execution_count": 1604,
     "metadata": {},
     "output_type": "execute_result"
    }
   ],
   "source": [
    "X.shape"
   ]
  },
  {
   "cell_type": "code",
   "execution_count": 1605,
   "metadata": {},
   "outputs": [],
   "source": [
    "y = pd.get_dummies(dfml).iloc[:,0]"
   ]
  },
  {
   "cell_type": "code",
   "execution_count": 1606,
   "metadata": {},
   "outputs": [],
   "source": [
    "X_train, X_test, y_train , y_test = train_test_split(X, y, test_size=0.1, random_state=42 )"
   ]
  },
  {
   "cell_type": "markdown",
   "metadata": {},
   "source": [
    "### Linear Regression"
   ]
  },
  {
   "cell_type": "code",
   "execution_count": 1607,
   "metadata": {},
   "outputs": [],
   "source": [
    "ml_LR = LinearRegression()"
   ]
  },
  {
   "cell_type": "code",
   "execution_count": 1608,
   "metadata": {},
   "outputs": [
    {
     "data": {
      "text/plain": [
       "LinearRegression(copy_X=True, fit_intercept=True, n_jobs=None, normalize=False)"
      ]
     },
     "execution_count": 1608,
     "metadata": {},
     "output_type": "execute_result"
    }
   ],
   "source": [
    "ml_LR.fit(X_train, y_train)"
   ]
  },
  {
   "cell_type": "code",
   "execution_count": 1609,
   "metadata": {},
   "outputs": [
    {
     "data": {
      "text/plain": [
       "0.5230789891955842"
      ]
     },
     "execution_count": 1609,
     "metadata": {},
     "output_type": "execute_result"
    }
   ],
   "source": [
    "ml_LR.score(X_train, y_train)"
   ]
  },
  {
   "cell_type": "code",
   "execution_count": 1610,
   "metadata": {},
   "outputs": [
    {
     "data": {
      "text/plain": [
       "0.5230789891955842"
      ]
     },
     "execution_count": 1610,
     "metadata": {},
     "output_type": "execute_result"
    }
   ],
   "source": [
    "ml_LR.score(X_train, y_train)"
   ]
  },
  {
   "cell_type": "code",
   "execution_count": 1611,
   "metadata": {},
   "outputs": [
    {
     "data": {
      "text/plain": [
       "0.46327734464829434"
      ]
     },
     "execution_count": 1611,
     "metadata": {},
     "output_type": "execute_result"
    }
   ],
   "source": [
    "ml_LR.score(X_test, y_test)"
   ]
  },
  {
   "cell_type": "code",
   "execution_count": 1612,
   "metadata": {},
   "outputs": [
    {
     "data": {
      "text/plain": [
       "0.46327734464829434"
      ]
     },
     "execution_count": 1612,
     "metadata": {},
     "output_type": "execute_result"
    }
   ],
   "source": [
    "ml_LR.score(X_test, y_test)"
   ]
  },
  {
   "cell_type": "markdown",
   "metadata": {},
   "source": [
    "### Lasso"
   ]
  },
  {
   "cell_type": "code",
   "execution_count": null,
   "metadata": {},
   "outputs": [],
   "source": []
  },
  {
   "cell_type": "markdown",
   "metadata": {},
   "source": [
    "### Random Forest"
   ]
  },
  {
   "cell_type": "code",
   "execution_count": null,
   "metadata": {},
   "outputs": [],
   "source": []
  },
  {
   "cell_type": "markdown",
   "metadata": {},
   "source": [
    "### Boosting"
   ]
  },
  {
   "cell_type": "code",
   "execution_count": null,
   "metadata": {},
   "outputs": [],
   "source": []
  }
 ],
 "metadata": {
  "kernelspec": {
   "display_name": "Python 3",
   "language": "python",
   "name": "python3"
  },
  "language_info": {
   "codemirror_mode": {
    "name": "ipython",
    "version": 3
   },
   "file_extension": ".py",
   "mimetype": "text/x-python",
   "name": "python",
   "nbconvert_exporter": "python",
   "pygments_lexer": "ipython3",
   "version": "3.7.3"
  },
  "toc": {
   "base_numbering": 1,
   "nav_menu": {},
   "number_sections": true,
   "sideBar": true,
   "skip_h1_title": false,
   "title_cell": "Table of Contents",
   "title_sidebar": "Contents",
   "toc_cell": true,
   "toc_position": {
    "height": "calc(100% - 180px)",
    "left": "10px",
    "top": "150px",
    "width": "262px"
   },
   "toc_section_display": false,
   "toc_window_display": false
  }
 },
 "nbformat": 4,
 "nbformat_minor": 2
}
