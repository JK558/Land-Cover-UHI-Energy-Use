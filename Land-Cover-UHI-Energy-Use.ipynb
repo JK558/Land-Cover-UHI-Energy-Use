{
 "cells": [
  {
   "cell_type": "markdown",
   "metadata": {
    "toc": true
   },
   "source": [
    "<h1>Table of Contents<span class=\"tocSkip\"></span></h1>\n",
    "<div class=\"toc\"><ul class=\"toc-item\"><li><span><a href=\"#Data-Wrangling\" data-toc-modified-id=\"Data-Wrangling-1\"><span class=\"toc-item-num\">1&nbsp;&nbsp;</span>Data Wrangling</a></span><ul class=\"toc-item\"><li><span><a href=\"#check-GPS-information\" data-toc-modified-id=\"check-GPS-information-1.1\"><span class=\"toc-item-num\">1.1&nbsp;&nbsp;</span>check GPS information</a></span></li><li><span><a href=\"#Select-a-subset-of-columns-to-keep\" data-toc-modified-id=\"Select-a-subset-of-columns-to-keep-1.2\"><span class=\"toc-item-num\">1.2&nbsp;&nbsp;</span>Select a subset of columns to keep</a></span></li><li><span><a href=\"#creat-new-column-month,-elec_use,-elec_bill,-reshape-from-long-to-wide\" data-toc-modified-id=\"creat-new-column-month,-elec_use,-elec_bill,-reshape-from-long-to-wide-1.3\"><span class=\"toc-item-num\">1.3&nbsp;&nbsp;</span>creat new column <code>month</code>, <code>elec_use</code>, <code>elec_bill</code>, reshape from long to wide</a></span></li><li><span><a href=\"#rename-columns\" data-toc-modified-id=\"rename-columns-1.4\"><span class=\"toc-item-num\">1.4&nbsp;&nbsp;</span>rename columns</a></span></li><li><span><a href=\"#Merge-with-LandCover,-LandSurfaceTemperature,-VegetationField\" data-toc-modified-id=\"Merge-with-LandCover,-LandSurfaceTemperature,-VegetationField-1.5\"><span class=\"toc-item-num\">1.5&nbsp;&nbsp;</span>Merge with LandCover, LandSurfaceTemperature, VegetationField</a></span></li><li><span><a href=\"#create-dummies-for-north,-summer,-new-building,-single-family-house\" data-toc-modified-id=\"create-dummies-for-north,-summer,-new-building,-single-family-house-1.6\"><span class=\"toc-item-num\">1.6&nbsp;&nbsp;</span>create dummies for north, summer, new building, single family house</a></span><ul class=\"toc-item\"><li><span><a href=\"#create-dummy-for-north-china,-central,-south-china\" data-toc-modified-id=\"create-dummy-for-north-china,-central,-south-china-1.6.1\"><span class=\"toc-item-num\">1.6.1&nbsp;&nbsp;</span>create dummy for north china, central, south china</a></span></li><li><span><a href=\"#create-sumer-is_summer-dummy\" data-toc-modified-id=\"create-sumer-is_summer-dummy-1.6.2\"><span class=\"toc-item-num\">1.6.2&nbsp;&nbsp;</span>create <code>sumer</code> <code>is_summer</code> dummy</a></span></li><li><span><a href=\"#create-new-building-new-dummy\" data-toc-modified-id=\"create-new-building-new-dummy-1.6.3\"><span class=\"toc-item-num\">1.6.3&nbsp;&nbsp;</span>create new building <code>new</code> dummy</a></span></li><li><span><a href=\"#create-single-family-home-sf-dummy\" data-toc-modified-id=\"create-single-family-home-sf-dummy-1.6.4\"><span class=\"toc-item-num\">1.6.4&nbsp;&nbsp;</span>create single family home <code>sf</code> dummy</a></span></li></ul></li><li><span><a href=\"#generate-LC_Type3,-Vege_Cover\" data-toc-modified-id=\"generate-LC_Type3,-Vege_Cover-1.7\"><span class=\"toc-item-num\">1.7&nbsp;&nbsp;</span>generate <code>LC_Type3</code>, <code>Vege_Cover</code></a></span></li><li><span><a href=\"#clean-up-city-name\" data-toc-modified-id=\"clean-up-city-name-1.8\"><span class=\"toc-item-num\">1.8&nbsp;&nbsp;</span>clean up <code>city</code> name</a></span></li></ul></li><li><span><a href=\"#Analysis\" data-toc-modified-id=\"Analysis-2\"><span class=\"toc-item-num\">2&nbsp;&nbsp;</span>Analysis</a></span><ul class=\"toc-item\"><li><span><a href=\"#Graphs,-Degree-Days-Box-plot\" data-toc-modified-id=\"Graphs,-Degree-Days-Box-plot-2.1\"><span class=\"toc-item-num\">2.1&nbsp;&nbsp;</span>Graphs, <code>Degree Days</code> Box plot</a></span></li><li><span><a href=\"#outliers-in-elec_use\" data-toc-modified-id=\"outliers-in-elec_use-2.2\"><span class=\"toc-item-num\">2.2&nbsp;&nbsp;</span>outliers in <code>elec_use</code></a></span><ul class=\"toc-item\"><li><span><a href=\"#log-transformation\" data-toc-modified-id=\"log-transformation-2.2.1\"><span class=\"toc-item-num\">2.2.1&nbsp;&nbsp;</span>log transformation</a></span></li></ul></li></ul></li><li><span><a href=\"#Models\" data-toc-modified-id=\"Models-3\"><span class=\"toc-item-num\">3&nbsp;&nbsp;</span>Models</a></span><ul class=\"toc-item\"><li><span><a href=\"#cross-sectional\" data-toc-modified-id=\"cross-sectional-3.1\"><span class=\"toc-item-num\">3.1&nbsp;&nbsp;</span>cross sectional</a></span></li><li><span><a href=\"#Panel-with-LandCover\" data-toc-modified-id=\"Panel-with-LandCover-3.2\"><span class=\"toc-item-num\">3.2&nbsp;&nbsp;</span>Panel with LandCover</a></span><ul class=\"toc-item\"><li><span><a href=\"#Try-PooledOLS\" data-toc-modified-id=\"Try-PooledOLS-3.2.1\"><span class=\"toc-item-num\">3.2.1&nbsp;&nbsp;</span>Try PooledOLS</a></span></li><li><span><a href=\"#Try-DD_monthly-*-LC_Type2\" data-toc-modified-id=\"Try-DD_monthly-*-LC_Type2-3.2.2\"><span class=\"toc-item-num\">3.2.2&nbsp;&nbsp;</span>Try DD_monthly * LC_Type2</a></span></li><li><span><a href=\"#Try-province-dummy\" data-toc-modified-id=\"Try-province-dummy-3.2.3\"><span class=\"toc-item-num\">3.2.3&nbsp;&nbsp;</span>Try province dummy</a></span></li><li><span><a href=\"#Try-Random-Effects\" data-toc-modified-id=\"Try-Random-Effects-3.2.4\"><span class=\"toc-item-num\">3.2.4&nbsp;&nbsp;</span>Try Random Effects</a></span></li><li><span><a href=\"#Compare-Results\" data-toc-modified-id=\"Compare-Results-3.2.5\"><span class=\"toc-item-num\">3.2.5&nbsp;&nbsp;</span>Compare Results</a></span></li><li><span><a href=\"#Try-LC_Type2s\" data-toc-modified-id=\"Try-LC_Type2s-3.2.6\"><span class=\"toc-item-num\">3.2.6&nbsp;&nbsp;</span>Try <code>LC_Type2s</code></a></span></li><li><span><a href=\"#w/-Log-elec_use\" data-toc-modified-id=\"w/-Log-elec_use-3.2.7\"><span class=\"toc-item-num\">3.2.7&nbsp;&nbsp;</span>w/ Log <code>elec_use</code></a></span></li></ul></li><li><span><a href=\"#baseline-with-NonVege-and-VegeCover\" data-toc-modified-id=\"baseline-with-NonVege-and-VegeCover-3.3\"><span class=\"toc-item-num\">3.3&nbsp;&nbsp;</span>baseline with NonVege and VegeCover</a></span></li><li><span><a href=\"#Summer\" data-toc-modified-id=\"Summer-3.4\"><span class=\"toc-item-num\">3.4&nbsp;&nbsp;</span>Summer</a></span><ul class=\"toc-item\"><li><span><a href=\"#NonVege\" data-toc-modified-id=\"NonVege-3.4.1\"><span class=\"toc-item-num\">3.4.1&nbsp;&nbsp;</span>NonVege</a></span></li></ul></li><li><span><a href=\"#Winter\" data-toc-modified-id=\"Winter-3.5\"><span class=\"toc-item-num\">3.5&nbsp;&nbsp;</span>Winter</a></span><ul class=\"toc-item\"><li><span><a href=\"#NonVege\" data-toc-modified-id=\"NonVege-3.5.1\"><span class=\"toc-item-num\">3.5.1&nbsp;&nbsp;</span>NonVege</a></span></li></ul></li><li><span><a href=\"#North-China\" data-toc-modified-id=\"North-China-3.6\"><span class=\"toc-item-num\">3.6&nbsp;&nbsp;</span>North China</a></span><ul class=\"toc-item\"><li><span><a href=\"#NonVege\" data-toc-modified-id=\"NonVege-3.6.1\"><span class=\"toc-item-num\">3.6.1&nbsp;&nbsp;</span>NonVege</a></span></li></ul></li><li><span><a href=\"#South-China\" data-toc-modified-id=\"South-China-3.7\"><span class=\"toc-item-num\">3.7&nbsp;&nbsp;</span>South China</a></span><ul class=\"toc-item\"><li><span><a href=\"#NonVege\" data-toc-modified-id=\"NonVege-3.7.1\"><span class=\"toc-item-num\">3.7.1&nbsp;&nbsp;</span>NonVege</a></span></li></ul></li><li><span><a href=\"#Single-Family-home,-urban-home\" data-toc-modified-id=\"Single-Family-home,-urban-home-3.8\"><span class=\"toc-item-num\">3.8&nbsp;&nbsp;</span>Single Family home, urban home</a></span><ul class=\"toc-item\"><li><span><a href=\"#Urban-vs-Rural\" data-toc-modified-id=\"Urban-vs-Rural-3.8.1\"><span class=\"toc-item-num\">3.8.1&nbsp;&nbsp;</span>Urban vs Rural</a></span></li><li><span><a href=\"#SF-home-vs-NonSF\" data-toc-modified-id=\"SF-home-vs-NonSF-3.8.2\"><span class=\"toc-item-num\">3.8.2&nbsp;&nbsp;</span>SF home vs NonSF</a></span></li></ul></li><li><span><a href=\"#Newer-building\" data-toc-modified-id=\"Newer-building-3.9\"><span class=\"toc-item-num\">3.9&nbsp;&nbsp;</span>Newer building</a></span></li><li><span><a href=\"#Machine-Learning-Models\" data-toc-modified-id=\"Machine-Learning-Models-3.10\"><span class=\"toc-item-num\">3.10&nbsp;&nbsp;</span>Machine Learning Models</a></span></li></ul></li></ul></div>"
   ]
  },
  {
   "cell_type": "code",
   "execution_count": 353,
   "metadata": {},
   "outputs": [],
   "source": [
    "import pandas as pd\n",
    "import numpy as np\n",
    "import seaborn as sns\n",
    "# import matplotlib\n",
    "import matplotlib.pyplot as plt\n",
    "from linearmodels.panel import PanelOLS\n",
    "import statsmodels.api as sm"
   ]
  },
  {
   "cell_type": "markdown",
   "metadata": {},
   "source": [
    "### Data Wrangling"
   ]
  },
  {
   "cell_type": "code",
   "execution_count": 354,
   "metadata": {},
   "outputs": [],
   "source": [
    "dfhousehold = pd.read_stata(\"CRECS2012年数据.dta\")\n"
   ]
  },
  {
   "cell_type": "code",
   "execution_count": 355,
   "metadata": {},
   "outputs": [],
   "source": [
    "itr = pd.read_stata('CRECS2012年数据.dta', iterator=True)\n",
    "col_dict = itr.variable_labels()"
   ]
  },
  {
   "cell_type": "code",
   "execution_count": 356,
   "metadata": {},
   "outputs": [
    {
     "data": {
      "text/plain": [
       "pandas.io.stata.StataReader"
      ]
     },
     "execution_count": 356,
     "metadata": {},
     "output_type": "execute_result"
    }
   ],
   "source": [
    "type(itr)"
   ]
  },
  {
   "cell_type": "code",
   "execution_count": 357,
   "metadata": {},
   "outputs": [
    {
     "data": {
      "text/plain": [
       "<pandas.io.stata.StataReader at 0x1c3ab27320>"
      ]
     },
     "execution_count": 357,
     "metadata": {},
     "output_type": "execute_result"
    }
   ],
   "source": [
    "itr"
   ]
  },
  {
   "cell_type": "code",
   "execution_count": 358,
   "metadata": {
    "scrolled": true
   },
   "outputs": [],
   "source": [
    "# dfhousehold.info(verbose=True, null_counts=True)"
   ]
  },
  {
   "cell_type": "code",
   "execution_count": 359,
   "metadata": {},
   "outputs": [
    {
     "data": {
      "text/plain": [
       "True"
      ]
     },
     "execution_count": 359,
     "metadata": {},
     "output_type": "execute_result"
    }
   ],
   "source": [
    "dfhousehold.index.is_unique"
   ]
  },
  {
   "cell_type": "code",
   "execution_count": 360,
   "metadata": {},
   "outputs": [
    {
     "data": {
      "text/plain": [
       "False"
      ]
     },
     "execution_count": 360,
     "metadata": {},
     "output_type": "execute_result"
    }
   ],
   "source": [
    "dfhousehold.serial.is_unique"
   ]
  },
  {
   "cell_type": "code",
   "execution_count": 361,
   "metadata": {},
   "outputs": [
    {
     "data": {
      "text/plain": [
       "True"
      ]
     },
     "execution_count": 361,
     "metadata": {},
     "output_type": "execute_result"
    }
   ],
   "source": [
    "dfhousehold.index.is_monotonic"
   ]
  },
  {
   "cell_type": "code",
   "execution_count": 362,
   "metadata": {
    "scrolled": false
   },
   "outputs": [],
   "source": [
    "# old results ?\n",
    "#dfhousehold.longitude_deg.describe()"
   ]
  },
  {
   "cell_type": "markdown",
   "metadata": {},
   "source": [
    "#### check GPS information"
   ]
  },
  {
   "cell_type": "code",
   "execution_count": 363,
   "metadata": {},
   "outputs": [],
   "source": [
    "# ?\n",
    "#dfhousehold.latitude_deg.describe()"
   ]
  },
  {
   "cell_type": "code",
   "execution_count": 364,
   "metadata": {
    "scrolled": false
   },
   "outputs": [
    {
     "data": {
      "text/plain": [
       "count    1450.000000\n",
       "mean      114.280000\n",
       "std         6.879738\n",
       "min        83.000000\n",
       "25%       112.000000\n",
       "50%       115.000000\n",
       "75%       118.000000\n",
       "max       130.000000\n",
       "Name: longitude_deg, dtype: float64"
      ]
     },
     "execution_count": 364,
     "metadata": {},
     "output_type": "execute_result"
    }
   ],
   "source": [
    "dfhousehold.longitude_deg.describe()"
   ]
  },
  {
   "cell_type": "code",
   "execution_count": 365,
   "metadata": {
    "scrolled": true
   },
   "outputs": [
    {
     "data": {
      "text/plain": [
       "count    1450.000000\n",
       "mean       33.802759\n",
       "std         6.009860\n",
       "min        19.000000\n",
       "25%        29.250000\n",
       "50%        34.000000\n",
       "75%        38.000000\n",
       "max        50.000000\n",
       "Name: latitude_deg, dtype: float64"
      ]
     },
     "execution_count": 365,
     "metadata": {},
     "output_type": "execute_result"
    }
   ],
   "source": [
    "dfhousehold.latitude_deg.describe()"
   ]
  },
  {
   "cell_type": "code",
   "execution_count": 366,
   "metadata": {
    "scrolled": false
   },
   "outputs": [
    {
     "data": {
      "text/html": [
       "<div>\n",
       "<style scoped>\n",
       "    .dataframe tbody tr th:only-of-type {\n",
       "        vertical-align: middle;\n",
       "    }\n",
       "\n",
       "    .dataframe tbody tr th {\n",
       "        vertical-align: top;\n",
       "    }\n",
       "\n",
       "    .dataframe thead th {\n",
       "        text-align: right;\n",
       "    }\n",
       "</style>\n",
       "<table border=\"1\" class=\"dataframe\">\n",
       "  <thead>\n",
       "    <tr style=\"text-align: right;\">\n",
       "      <th></th>\n",
       "      <th>valid</th>\n",
       "      <th>index</th>\n",
       "      <th>serial</th>\n",
       "      <th>province</th>\n",
       "      <th>city</th>\n",
       "      <th>county</th>\n",
       "      <th>zipcode</th>\n",
       "      <th>respondent</th>\n",
       "      <th>no</th>\n",
       "      <th>longitude_deg</th>\n",
       "      <th>...</th>\n",
       "      <th>f6_8_b</th>\n",
       "      <th>f6_8_c</th>\n",
       "      <th>f6_8_d</th>\n",
       "      <th>f6_8_e</th>\n",
       "      <th>f6_9</th>\n",
       "      <th>f6_9_a</th>\n",
       "      <th>f6_9_b</th>\n",
       "      <th>f6_9_c</th>\n",
       "      <th>f6_9_d</th>\n",
       "      <th>f6_9_e</th>\n",
       "    </tr>\n",
       "  </thead>\n",
       "  <tbody>\n",
       "  </tbody>\n",
       "</table>\n",
       "<p>0 rows × 1396 columns</p>\n",
       "</div>"
      ],
      "text/plain": [
       "Empty DataFrame\n",
       "Columns: [valid, index, serial, province, city, county, zipcode, respondent, no, longitude_deg, longitude_min, longitude_sec, latitude_deg, latitude_min, latitude_sec, a1, a2_1_a, a2_1_b, a2_1_c, a2_1_d, a2_1_e, a2_1_f, a2_1_g, a2_1_h, a2_1_i, a2_1_j, a2_1_k, a2_2_a, a2_2_b, a2_2_c, a2_2_d, a2_2_e, a2_2_f, a2_2_g, a2_2_h, a2_2_i, a2_2_j, a2_2_k, a2_3_a, a2_3_b, a2_3_c, a2_3_d, a2_3_e, a2_3_f, a2_3_g, a2_3_h, a2_3_i, a2_3_j, a2_3_k, a2_4_a, a2_4_b, a2_4_c, a2_4_d, a2_4_e, a2_4_f, a2_4_g, a2_4_h, a2_4_i, a2_4_j, a2_4_k, a2_5_a, a2_5_b, a2_5_c, a2_5_d, a2_5_e, a2_5_f, a2_5_g, a2_5_h, a2_5_i, a2_5_j, a2_5_k, a2_6_a, a2_6_b, a2_6_c, a2_6_d, a2_6_e, a2_6_f, a2_6_g, a2_6_h, a2_6_i, a2_6_j, a2_6_k, a2_7_a, a2_7_b, a2_7_c, a2_7_d, a2_7_e, a2_7_f, a2_7_g, a2_7_h, a2_7_i, a2_7_j, a2_7_k, a2_8_a, a2_8_b, a2_8_c, a2_8_d, a2_8_e, a2_8_f, a2_8_g, ...]\n",
       "Index: []\n",
       "\n",
       "[0 rows x 1396 columns]"
      ]
     },
     "execution_count": 366,
     "metadata": {},
     "output_type": "execute_result"
    }
   ],
   "source": [
    "dfhousehold[dfhousehold.longitude_deg <83]"
   ]
  },
  {
   "cell_type": "code",
   "execution_count": 367,
   "metadata": {
    "scrolled": true
   },
   "outputs": [
    {
     "data": {
      "text/html": [
       "<div>\n",
       "<style scoped>\n",
       "    .dataframe tbody tr th:only-of-type {\n",
       "        vertical-align: middle;\n",
       "    }\n",
       "\n",
       "    .dataframe tbody tr th {\n",
       "        vertical-align: top;\n",
       "    }\n",
       "\n",
       "    .dataframe thead th {\n",
       "        text-align: right;\n",
       "    }\n",
       "</style>\n",
       "<table border=\"1\" class=\"dataframe\">\n",
       "  <thead>\n",
       "    <tr style=\"text-align: right;\">\n",
       "      <th></th>\n",
       "      <th>valid</th>\n",
       "      <th>index</th>\n",
       "      <th>serial</th>\n",
       "      <th>province</th>\n",
       "      <th>city</th>\n",
       "      <th>county</th>\n",
       "      <th>zipcode</th>\n",
       "      <th>respondent</th>\n",
       "      <th>no</th>\n",
       "      <th>longitude_deg</th>\n",
       "      <th>...</th>\n",
       "      <th>f6_8_b</th>\n",
       "      <th>f6_8_c</th>\n",
       "      <th>f6_8_d</th>\n",
       "      <th>f6_8_e</th>\n",
       "      <th>f6_9</th>\n",
       "      <th>f6_9_a</th>\n",
       "      <th>f6_9_b</th>\n",
       "      <th>f6_9_c</th>\n",
       "      <th>f6_9_d</th>\n",
       "      <th>f6_9_e</th>\n",
       "    </tr>\n",
       "  </thead>\n",
       "  <tbody>\n",
       "  </tbody>\n",
       "</table>\n",
       "<p>0 rows × 1396 columns</p>\n",
       "</div>"
      ],
      "text/plain": [
       "Empty DataFrame\n",
       "Columns: [valid, index, serial, province, city, county, zipcode, respondent, no, longitude_deg, longitude_min, longitude_sec, latitude_deg, latitude_min, latitude_sec, a1, a2_1_a, a2_1_b, a2_1_c, a2_1_d, a2_1_e, a2_1_f, a2_1_g, a2_1_h, a2_1_i, a2_1_j, a2_1_k, a2_2_a, a2_2_b, a2_2_c, a2_2_d, a2_2_e, a2_2_f, a2_2_g, a2_2_h, a2_2_i, a2_2_j, a2_2_k, a2_3_a, a2_3_b, a2_3_c, a2_3_d, a2_3_e, a2_3_f, a2_3_g, a2_3_h, a2_3_i, a2_3_j, a2_3_k, a2_4_a, a2_4_b, a2_4_c, a2_4_d, a2_4_e, a2_4_f, a2_4_g, a2_4_h, a2_4_i, a2_4_j, a2_4_k, a2_5_a, a2_5_b, a2_5_c, a2_5_d, a2_5_e, a2_5_f, a2_5_g, a2_5_h, a2_5_i, a2_5_j, a2_5_k, a2_6_a, a2_6_b, a2_6_c, a2_6_d, a2_6_e, a2_6_f, a2_6_g, a2_6_h, a2_6_i, a2_6_j, a2_6_k, a2_7_a, a2_7_b, a2_7_c, a2_7_d, a2_7_e, a2_7_f, a2_7_g, a2_7_h, a2_7_i, a2_7_j, a2_7_k, a2_8_a, a2_8_b, a2_8_c, a2_8_d, a2_8_e, a2_8_f, a2_8_g, ...]\n",
       "Index: []\n",
       "\n",
       "[0 rows x 1396 columns]"
      ]
     },
     "execution_count": 367,
     "metadata": {},
     "output_type": "execute_result"
    }
   ],
   "source": [
    "dfhousehold[dfhousehold.latitude_deg <19]"
   ]
  },
  {
   "cell_type": "code",
   "execution_count": 368,
   "metadata": {
    "scrolled": false
   },
   "outputs": [
    {
     "data": {
      "text/plain": [
       "count    1449.000000\n",
       "mean       29.104900\n",
       "std        22.362379\n",
       "min         0.000000\n",
       "25%        13.000000\n",
       "50%        28.000000\n",
       "75%        42.000000\n",
       "max       408.000000\n",
       "Name: longitude_min, dtype: float64"
      ]
     },
     "execution_count": 368,
     "metadata": {},
     "output_type": "execute_result"
    }
   ],
   "source": [
    "dfhousehold.longitude_min.describe()"
   ]
  },
  {
   "cell_type": "code",
   "execution_count": 369,
   "metadata": {
    "scrolled": false
   },
   "outputs": [
    {
     "data": {
      "text/plain": [
       "count      1319.000000\n",
       "mean        595.346313\n",
       "std       20111.531250\n",
       "min           0.000000\n",
       "25%          15.000000\n",
       "50%          30.000000\n",
       "75%          47.000000\n",
       "max      730318.000000\n",
       "Name: longitude_sec, dtype: float64"
      ]
     },
     "execution_count": 369,
     "metadata": {},
     "output_type": "execute_result"
    }
   ],
   "source": [
    "dfhousehold.longitude_sec.describe()"
   ]
  },
  {
   "cell_type": "code",
   "execution_count": 370,
   "metadata": {},
   "outputs": [
    {
     "data": {
      "text/plain": [
       "count    1449.000000\n",
       "mean       30.574499\n",
       "std        20.525574\n",
       "min         0.000000\n",
       "25%        11.000000\n",
       "50%        31.000000\n",
       "75%        49.000000\n",
       "max       172.000000\n",
       "Name: latitude_min, dtype: float64"
      ]
     },
     "execution_count": 370,
     "metadata": {},
     "output_type": "execute_result"
    }
   ],
   "source": [
    "dfhousehold.latitude_min.describe()"
   ]
  },
  {
   "cell_type": "code",
   "execution_count": 371,
   "metadata": {
    "scrolled": true
   },
   "outputs": [
    {
     "data": {
      "text/plain": [
       "count    1316.000000\n",
       "mean       29.553146\n",
       "std        18.404516\n",
       "min         0.000000\n",
       "25%        13.000000\n",
       "50%        28.000000\n",
       "75%        45.000000\n",
       "max        91.000000\n",
       "Name: latitude_sec, dtype: float64"
      ]
     },
     "execution_count": 371,
     "metadata": {},
     "output_type": "execute_result"
    }
   ],
   "source": [
    "dfhousehold.latitude_sec.describe()"
   ]
  },
  {
   "cell_type": "code",
   "execution_count": 372,
   "metadata": {
    "scrolled": false
   },
   "outputs": [],
   "source": [
    "dfhousehold.loc[dfhousehold.longitude_min >60,'longitude_min'] = 0"
   ]
  },
  {
   "cell_type": "code",
   "execution_count": 373,
   "metadata": {},
   "outputs": [
    {
     "data": {
      "text/plain": [
       "Series([], Name: longitude_min, dtype: float64)"
      ]
     },
     "execution_count": 373,
     "metadata": {},
     "output_type": "execute_result"
    }
   ],
   "source": [
    "# checking\n",
    "dfhousehold[dfhousehold.longitude_min >60]['longitude_min']"
   ]
  },
  {
   "cell_type": "code",
   "execution_count": 374,
   "metadata": {
    "scrolled": false
   },
   "outputs": [],
   "source": [
    "dfhousehold.longitude_min.fillna(0, inplace=True)"
   ]
  },
  {
   "cell_type": "code",
   "execution_count": 375,
   "metadata": {
    "scrolled": true
   },
   "outputs": [],
   "source": [
    "dfhousehold.loc[dfhousehold.longitude_sec >60,'longitude_sec'] = 0\n",
    "dfhousehold.longitude_sec.fillna(0, inplace=True)\n",
    "\n",
    "dfhousehold.loc[dfhousehold.latitude_min >60,'latitude_min'] = 0\n",
    "dfhousehold.latitude_min.fillna(0, inplace=True)\n",
    "\n",
    "dfhousehold.loc[dfhousehold.latitude_sec >60,'latitude_sec'] = 0\n",
    "dfhousehold.latitude_sec.fillna(0, inplace=True)"
   ]
  },
  {
   "cell_type": "code",
   "execution_count": 376,
   "metadata": {},
   "outputs": [],
   "source": [
    "# generate longitude = longitude_deg +( longitude_min /60)+( longitude_sec /3600), after(no)\n",
    "# generate latitude = latitude_deg +( latitude_min /60)+( latitude_sec /3600), after(no)\n",
    "# sort index\n",
    "# rename (a1 b1 f1a) (fsize urban income)\n",
    "# keep index-county latitude longitude fsize a2_1_a-a2_1_k urban b2-b14 ///\n",
    "# b16-b26 income f3_1_a-f3_13_a f3_1_d-f3_13_d"
   ]
  },
  {
   "cell_type": "code",
   "execution_count": 377,
   "metadata": {},
   "outputs": [],
   "source": [
    "dfhousehold['longitude'] = dfhousehold['longitude_deg'] + dfhousehold['longitude_min']/60 + dfhousehold['longitude_sec']/3600\n",
    "dfhousehold['latitude'] = dfhousehold['latitude_deg'] + dfhousehold['latitude_min']/60 + dfhousehold['latitude_sec']/3600"
   ]
  },
  {
   "cell_type": "code",
   "execution_count": 378,
   "metadata": {},
   "outputs": [
    {
     "data": {
      "text/plain": [
       "118.231111    17\n",
       "106.419722    11\n",
       "116.583333     9\n",
       "116.600000     9\n",
       "100.160278     9\n",
       "              ..\n",
       "115.664444     1\n",
       "112.246089     1\n",
       "100.165556     1\n",
       "100.165833     1\n",
       "121.000000     1\n",
       "Name: longitude, Length: 1065, dtype: int64"
      ]
     },
     "execution_count": 378,
     "metadata": {},
     "output_type": "execute_result"
    }
   ],
   "source": [
    "dfhousehold.longitude.value_counts()"
   ]
  },
  {
   "cell_type": "code",
   "execution_count": 379,
   "metadata": {},
   "outputs": [
    {
     "data": {
      "text/plain": [
       "30.633333    12\n",
       "35.090000    12\n",
       "29.819723    12\n",
       "26.214445     9\n",
       "29.595278     9\n",
       "             ..\n",
       "40.205833     1\n",
       "30.779444     1\n",
       "24.665277     1\n",
       "35.406944     1\n",
       "26.187500     1\n",
       "Name: latitude, Length: 1051, dtype: int64"
      ]
     },
     "execution_count": 379,
     "metadata": {},
     "output_type": "execute_result"
    }
   ],
   "source": [
    "dfhousehold.latitude.value_counts()"
   ]
  },
  {
   "cell_type": "markdown",
   "metadata": {},
   "source": [
    "#### Select a subset of columns to keep"
   ]
  },
  {
   "cell_type": "code",
   "execution_count": 380,
   "metadata": {
    "scrolled": true
   },
   "outputs": [],
   "source": [
    "cols = []\n",
    "for col in dfhousehold.columns:\n",
    "    if col.startswith(\"a2_1\") or \\\n",
    "     (col.startswith(\"b\") and len(col) <=3) or \\\n",
    "        (col.count(\"_\") == 2 and col.startswith(\"f3_\") and (col[-2:] in ['_a', \"_d\"])):    \n",
    "        cols.append(col)\n"
   ]
  },
  {
   "cell_type": "code",
   "execution_count": 381,
   "metadata": {},
   "outputs": [],
   "source": [
    "column_to_keep = ['index', 'serial', 'province', 'city', 'county', 'zipcode', 'respondent','latitude','longitude', \n",
    "                  'a1' ,'f1a']"
   ]
  },
  {
   "cell_type": "code",
   "execution_count": 382,
   "metadata": {},
   "outputs": [],
   "source": [
    "column_to_keep = column_to_keep + cols"
   ]
  },
  {
   "cell_type": "code",
   "execution_count": 383,
   "metadata": {},
   "outputs": [],
   "source": [
    "#name_b = ['b'+str(i) for i in range(1,27)]"
   ]
  },
  {
   "cell_type": "code",
   "execution_count": 384,
   "metadata": {},
   "outputs": [],
   "source": [
    "#column_to_keep = column_to_keep + name_a2_1 + name_b + name_f3_1"
   ]
  },
  {
   "cell_type": "code",
   "execution_count": 385,
   "metadata": {},
   "outputs": [],
   "source": [
    "# select subset of columns\n",
    "dfhousehold = dfhousehold[column_to_keep]"
   ]
  },
  {
   "cell_type": "markdown",
   "metadata": {},
   "source": [
    "#### creat new column `month`, `elec_use`, `elec_bill`, reshape from long to wide"
   ]
  },
  {
   "cell_type": "code",
   "execution_count": 386,
   "metadata": {
    "scrolled": false
   },
   "outputs": [],
   "source": [
    "dfelec_use = pd.melt(dfhousehold, id_vars=['index'], value_vars=['f3_1_a',\n",
    " 'f3_2_a',\n",
    " 'f3_3_a',\n",
    " 'f3_4_a',\n",
    " 'f3_5_a',\n",
    " 'f3_6_a',\n",
    " 'f3_7_a',\n",
    " 'f3_8_a',\n",
    " 'f3_9_a',\n",
    " 'f3_10_a',\n",
    " 'f3_11_a',\n",
    " 'f3_12_a'])"
   ]
  },
  {
   "cell_type": "code",
   "execution_count": 387,
   "metadata": {},
   "outputs": [],
   "source": [
    "dfelec_use.variable.replace({'f3_1_a':1,\n",
    "                             'f3_2_a':2,\n",
    "                             'f3_3_a':3,\n",
    "                             'f3_4_a':4,\n",
    "                             'f3_5_a':5,\n",
    "                             'f3_6_a':6,\n",
    "                             'f3_7_a':7,\n",
    "                             'f3_8_a':8,\n",
    "                             'f3_9_a':9,\n",
    "                             'f3_10_a':10,\n",
    "                             'f3_11_a':11,\n",
    "                             'f3_12_a':12}, inplace=True)"
   ]
  },
  {
   "cell_type": "code",
   "execution_count": 388,
   "metadata": {
    "scrolled": false
   },
   "outputs": [],
   "source": [
    "dfelec_use.rename(columns={'variable':\"month\", 'value':'elec_use'}, inplace=True)\n",
    "# dfelec_use"
   ]
  },
  {
   "cell_type": "code",
   "execution_count": 389,
   "metadata": {},
   "outputs": [],
   "source": [
    "dfelec_bill = pd.melt(dfhousehold, id_vars=['index'], value_vars=['f3_1_d',\n",
    " 'f3_2_d',\n",
    " 'f3_3_d',\n",
    " 'f3_4_d',\n",
    " 'f3_5_d',\n",
    " 'f3_6_d',\n",
    " 'f3_7_d',\n",
    " 'f3_8_d',\n",
    " 'f3_9_d',\n",
    " 'f3_10_d',\n",
    " 'f3_11_d',\n",
    " 'f3_12_d'])"
   ]
  },
  {
   "cell_type": "code",
   "execution_count": 390,
   "metadata": {},
   "outputs": [],
   "source": [
    "dfelec_bill.variable.replace({'f3_1_d':1,\n",
    "                             'f3_2_d':2,\n",
    "                             'f3_3_d':3,\n",
    "                             'f3_4_d':4,\n",
    "                             'f3_5_d':5,\n",
    "                             'f3_6_d':6,\n",
    "                             'f3_7_d':7,\n",
    "                             'f3_8_d':8,\n",
    "                             'f3_9_d':9,\n",
    "                             'f3_10_d':10,\n",
    "                             'f3_11_d':11,\n",
    "                             'f3_12_d':12}, inplace=True)"
   ]
  },
  {
   "cell_type": "code",
   "execution_count": 391,
   "metadata": {
    "scrolled": false
   },
   "outputs": [],
   "source": [
    "dfelec_bill.rename(columns={'variable':\"month\", 'value':'elec_bill'}, inplace=True)\n",
    "#dfelec_bill"
   ]
  },
  {
   "cell_type": "code",
   "execution_count": 392,
   "metadata": {},
   "outputs": [],
   "source": [
    "dfelec = pd.merge(dfelec_use, dfelec_bill, how='inner')"
   ]
  },
  {
   "cell_type": "code",
   "execution_count": 393,
   "metadata": {},
   "outputs": [],
   "source": [
    "dfelec['Month'] = dfelec.month"
   ]
  },
  {
   "cell_type": "code",
   "execution_count": 394,
   "metadata": {
    "scrolled": true
   },
   "outputs": [
    {
     "data": {
      "text/html": [
       "<div>\n",
       "<style scoped>\n",
       "    .dataframe tbody tr th:only-of-type {\n",
       "        vertical-align: middle;\n",
       "    }\n",
       "\n",
       "    .dataframe tbody tr th {\n",
       "        vertical-align: top;\n",
       "    }\n",
       "\n",
       "    .dataframe thead th {\n",
       "        text-align: right;\n",
       "    }\n",
       "</style>\n",
       "<table border=\"1\" class=\"dataframe\">\n",
       "  <thead>\n",
       "    <tr style=\"text-align: right;\">\n",
       "      <th></th>\n",
       "      <th>index</th>\n",
       "      <th>month</th>\n",
       "      <th>elec_use</th>\n",
       "      <th>elec_bill</th>\n",
       "      <th>Month</th>\n",
       "    </tr>\n",
       "  </thead>\n",
       "  <tbody>\n",
       "    <tr>\n",
       "      <th>0</th>\n",
       "      <td>1</td>\n",
       "      <td>1</td>\n",
       "      <td>265.0</td>\n",
       "      <td>140.029999</td>\n",
       "      <td>1</td>\n",
       "    </tr>\n",
       "    <tr>\n",
       "      <th>1</th>\n",
       "      <td>2</td>\n",
       "      <td>1</td>\n",
       "      <td>78.0</td>\n",
       "      <td>41.209999</td>\n",
       "      <td>1</td>\n",
       "    </tr>\n",
       "    <tr>\n",
       "      <th>2</th>\n",
       "      <td>3</td>\n",
       "      <td>1</td>\n",
       "      <td>330.0</td>\n",
       "      <td>184.559998</td>\n",
       "      <td>1</td>\n",
       "    </tr>\n",
       "    <tr>\n",
       "      <th>3</th>\n",
       "      <td>4</td>\n",
       "      <td>1</td>\n",
       "      <td>200.0</td>\n",
       "      <td>105.599998</td>\n",
       "      <td>1</td>\n",
       "    </tr>\n",
       "    <tr>\n",
       "      <th>4</th>\n",
       "      <td>5</td>\n",
       "      <td>1</td>\n",
       "      <td>265.0</td>\n",
       "      <td>140.000000</td>\n",
       "      <td>1</td>\n",
       "    </tr>\n",
       "  </tbody>\n",
       "</table>\n",
       "</div>"
      ],
      "text/plain": [
       "   index  month  elec_use   elec_bill  Month\n",
       "0      1      1     265.0  140.029999      1\n",
       "1      2      1      78.0   41.209999      1\n",
       "2      3      1     330.0  184.559998      1\n",
       "3      4      1     200.0  105.599998      1\n",
       "4      5      1     265.0  140.000000      1"
      ]
     },
     "execution_count": 394,
     "metadata": {},
     "output_type": "execute_result"
    }
   ],
   "source": [
    "dfelec.head()"
   ]
  },
  {
   "cell_type": "code",
   "execution_count": 395,
   "metadata": {
    "scrolled": false
   },
   "outputs": [
    {
     "data": {
      "text/plain": [
       "Index(['index', 'serial', 'province', 'city', 'county', 'zipcode',\n",
       "       'respondent', 'latitude', 'longitude', 'a1', 'f1a', 'a2_1_a', 'a2_1_b',\n",
       "       'a2_1_c', 'a2_1_d', 'a2_1_e', 'a2_1_f', 'a2_1_g', 'a2_1_h', 'a2_1_i',\n",
       "       'a2_1_j', 'a2_1_k', 'b1', 'b2', 'b3', 'b4', 'b5', 'b5a', 'b6', 'b7',\n",
       "       'b8', 'b9', 'b10', 'b11', 'b12', 'b13', 'b14', 'b16', 'b17', 'b18',\n",
       "       'b19', 'b20', 'b21', 'b22', 'b23', 'b24', 'b25', 'b26', 'f3_1_a',\n",
       "       'f3_2_a', 'f3_3_a', 'f3_4_a', 'f3_5_a', 'f3_6_a', 'f3_7_a', 'f3_8_a',\n",
       "       'f3_9_a', 'f3_10_a', 'f3_11_a', 'f3_12_a', 'f3_13_a', 'f3_1_d',\n",
       "       'f3_2_d', 'f3_3_d', 'f3_4_d', 'f3_5_d', 'f3_6_d', 'f3_7_d', 'f3_8_d',\n",
       "       'f3_9_d', 'f3_10_d', 'f3_11_d', 'f3_12_d', 'f3_13_d'],\n",
       "      dtype='object')"
      ]
     },
     "execution_count": 395,
     "metadata": {},
     "output_type": "execute_result"
    }
   ],
   "source": [
    "dfhousehold.columns"
   ]
  },
  {
   "cell_type": "code",
   "execution_count": 396,
   "metadata": {},
   "outputs": [],
   "source": [
    "dfhousehold.drop(labels=['f3_1_a','f3_2_a', 'f3_3_a', 'f3_4_a', 'f3_5_a', 'f3_6_a', 'f3_7_a', 'f3_8_a',\n",
    "       'f3_9_a', 'f3_10_a', 'f3_11_a', 'f3_12_a', 'f3_13_a', 'f3_1_d',\n",
    "       'f3_2_d', 'f3_3_d', 'f3_4_d', 'f3_5_d', 'f3_6_d', 'f3_7_d', 'f3_8_d',\n",
    "       'f3_9_d', 'f3_10_d', 'f3_11_d', 'f3_12_d', 'f3_13_d'], axis=1, inplace=True)"
   ]
  },
  {
   "cell_type": "code",
   "execution_count": 397,
   "metadata": {
    "scrolled": false
   },
   "outputs": [
    {
     "data": {
      "text/html": [
       "<div>\n",
       "<style scoped>\n",
       "    .dataframe tbody tr th:only-of-type {\n",
       "        vertical-align: middle;\n",
       "    }\n",
       "\n",
       "    .dataframe tbody tr th {\n",
       "        vertical-align: top;\n",
       "    }\n",
       "\n",
       "    .dataframe thead th {\n",
       "        text-align: right;\n",
       "    }\n",
       "</style>\n",
       "<table border=\"1\" class=\"dataframe\">\n",
       "  <thead>\n",
       "    <tr style=\"text-align: right;\">\n",
       "      <th></th>\n",
       "      <th>index</th>\n",
       "      <th>serial</th>\n",
       "      <th>province</th>\n",
       "      <th>city</th>\n",
       "      <th>county</th>\n",
       "      <th>zipcode</th>\n",
       "      <th>respondent</th>\n",
       "      <th>latitude</th>\n",
       "      <th>longitude</th>\n",
       "      <th>a1</th>\n",
       "      <th>...</th>\n",
       "      <th>b17</th>\n",
       "      <th>b18</th>\n",
       "      <th>b19</th>\n",
       "      <th>b20</th>\n",
       "      <th>b21</th>\n",
       "      <th>b22</th>\n",
       "      <th>b23</th>\n",
       "      <th>b24</th>\n",
       "      <th>b25</th>\n",
       "      <th>b26</th>\n",
       "    </tr>\n",
       "  </thead>\n",
       "  <tbody>\n",
       "    <tr>\n",
       "      <th>0</th>\n",
       "      <td>1</td>\n",
       "      <td>2.010202e+17</td>\n",
       "      <td>广西</td>\n",
       "      <td>玉林市</td>\n",
       "      <td>容县</td>\n",
       "      <td>537500</td>\n",
       "      <td>1.0</td>\n",
       "      <td>22.860323</td>\n",
       "      <td>110.550392</td>\n",
       "      <td>3.0</td>\n",
       "      <td>...</td>\n",
       "      <td>NaN</td>\n",
       "      <td>所有窗户</td>\n",
       "      <td>有</td>\n",
       "      <td>没有</td>\n",
       "      <td>没有</td>\n",
       "      <td>没有</td>\n",
       "      <td>没有</td>\n",
       "      <td>没有</td>\n",
       "      <td>(1,2] 小时</td>\n",
       "      <td>(2,3] 小时</td>\n",
       "    </tr>\n",
       "    <tr>\n",
       "      <th>1</th>\n",
       "      <td>2</td>\n",
       "      <td>2.010202e+17</td>\n",
       "      <td>广西</td>\n",
       "      <td>玉林市</td>\n",
       "      <td>容县</td>\n",
       "      <td>537500</td>\n",
       "      <td>1.0</td>\n",
       "      <td>22.859726</td>\n",
       "      <td>110.551969</td>\n",
       "      <td>3.0</td>\n",
       "      <td>...</td>\n",
       "      <td>NaN</td>\n",
       "      <td>没有更换过</td>\n",
       "      <td>没有</td>\n",
       "      <td>没有</td>\n",
       "      <td>没有</td>\n",
       "      <td>没有</td>\n",
       "      <td>有</td>\n",
       "      <td>有</td>\n",
       "      <td>(2,3] 小时</td>\n",
       "      <td>(3,4] 小时</td>\n",
       "    </tr>\n",
       "    <tr>\n",
       "      <th>2</th>\n",
       "      <td>3</td>\n",
       "      <td>2.010202e+17</td>\n",
       "      <td>广西</td>\n",
       "      <td>玉林市</td>\n",
       "      <td>容县</td>\n",
       "      <td>537500</td>\n",
       "      <td>1.0</td>\n",
       "      <td>22.855398</td>\n",
       "      <td>110.549361</td>\n",
       "      <td>3.0</td>\n",
       "      <td>...</td>\n",
       "      <td>NaN</td>\n",
       "      <td>少部分窗户</td>\n",
       "      <td>有</td>\n",
       "      <td>没有</td>\n",
       "      <td>没有</td>\n",
       "      <td>没有</td>\n",
       "      <td>没有</td>\n",
       "      <td>没有</td>\n",
       "      <td>(4,5] 小时</td>\n",
       "      <td>(4,5] 小时</td>\n",
       "    </tr>\n",
       "    <tr>\n",
       "      <th>3</th>\n",
       "      <td>4</td>\n",
       "      <td>2.010202e+17</td>\n",
       "      <td>广西</td>\n",
       "      <td>玉林市</td>\n",
       "      <td>容县</td>\n",
       "      <td>537500</td>\n",
       "      <td>1.0</td>\n",
       "      <td>22.857195</td>\n",
       "      <td>110.550453</td>\n",
       "      <td>5.0</td>\n",
       "      <td>...</td>\n",
       "      <td>NaN</td>\n",
       "      <td>没有更换过</td>\n",
       "      <td>没有</td>\n",
       "      <td>没有</td>\n",
       "      <td>没有</td>\n",
       "      <td>没有</td>\n",
       "      <td>没有</td>\n",
       "      <td>没有</td>\n",
       "      <td>(7,8] 小时</td>\n",
       "      <td>(6,7] 小时</td>\n",
       "    </tr>\n",
       "    <tr>\n",
       "      <th>4</th>\n",
       "      <td>5</td>\n",
       "      <td>2.010202e+17</td>\n",
       "      <td>广西</td>\n",
       "      <td>玉林市</td>\n",
       "      <td>容县</td>\n",
       "      <td>537500</td>\n",
       "      <td>1.0</td>\n",
       "      <td>22.857195</td>\n",
       "      <td>110.550453</td>\n",
       "      <td>5.0</td>\n",
       "      <td>...</td>\n",
       "      <td>1.0</td>\n",
       "      <td>没有更换过</td>\n",
       "      <td>没有</td>\n",
       "      <td>没有</td>\n",
       "      <td>没有</td>\n",
       "      <td>没有</td>\n",
       "      <td>没有</td>\n",
       "      <td>没有</td>\n",
       "      <td>(5,6] 小时</td>\n",
       "      <td>(6,7] 小时</td>\n",
       "    </tr>\n",
       "  </tbody>\n",
       "</table>\n",
       "<p>5 rows × 48 columns</p>\n",
       "</div>"
      ],
      "text/plain": [
       "   index        serial province city county  zipcode  respondent   latitude  \\\n",
       "0      1  2.010202e+17       广西  玉林市     容县   537500         1.0  22.860323   \n",
       "1      2  2.010202e+17       广西  玉林市     容县   537500         1.0  22.859726   \n",
       "2      3  2.010202e+17       广西  玉林市     容县   537500         1.0  22.855398   \n",
       "3      4  2.010202e+17       广西  玉林市     容县   537500         1.0  22.857195   \n",
       "4      5  2.010202e+17       广西  玉林市     容县   537500         1.0  22.857195   \n",
       "\n",
       "    longitude   a1  ...  b17    b18 b19  b20 b21 b22 b23 b24       b25  \\\n",
       "0  110.550392  3.0  ...  NaN   所有窗户   有   没有  没有  没有  没有  没有  (1,2] 小时   \n",
       "1  110.551969  3.0  ...  NaN  没有更换过  没有   没有  没有  没有   有   有  (2,3] 小时   \n",
       "2  110.549361  3.0  ...  NaN  少部分窗户   有   没有  没有  没有  没有  没有  (4,5] 小时   \n",
       "3  110.550453  5.0  ...  NaN  没有更换过  没有   没有  没有  没有  没有  没有  (7,8] 小时   \n",
       "4  110.550453  5.0  ...  1.0  没有更换过  没有   没有  没有  没有  没有  没有  (5,6] 小时   \n",
       "\n",
       "        b26  \n",
       "0  (2,3] 小时  \n",
       "1  (3,4] 小时  \n",
       "2  (4,5] 小时  \n",
       "3  (6,7] 小时  \n",
       "4  (6,7] 小时  \n",
       "\n",
       "[5 rows x 48 columns]"
      ]
     },
     "execution_count": 397,
     "metadata": {},
     "output_type": "execute_result"
    }
   ],
   "source": [
    "dfhousehold.head()"
   ]
  },
  {
   "cell_type": "code",
   "execution_count": 398,
   "metadata": {},
   "outputs": [],
   "source": [
    "dfhousehold = dfelec.merge(dfhousehold, how='inner' )"
   ]
  },
  {
   "cell_type": "code",
   "execution_count": 399,
   "metadata": {
    "scrolled": true
   },
   "outputs": [],
   "source": [
    "dfhousehold.sort_values(by=['index','month'], inplace=True)"
   ]
  },
  {
   "cell_type": "markdown",
   "metadata": {},
   "source": [
    "#### rename columns"
   ]
  },
  {
   "cell_type": "code",
   "execution_count": 400,
   "metadata": {},
   "outputs": [
    {
     "data": {
      "text/plain": [
       "Index(['index', 'month', 'elec_use', 'elec_bill', 'Month', 'serial',\n",
       "       'province', 'city', 'county', 'zipcode', 'respondent', 'latitude',\n",
       "       'longitude', 'a1', 'f1a', 'a2_1_a', 'a2_1_b', 'a2_1_c', 'a2_1_d',\n",
       "       'a2_1_e', 'a2_1_f', 'a2_1_g', 'a2_1_h', 'a2_1_i', 'a2_1_j', 'a2_1_k',\n",
       "       'b1', 'b2', 'b3', 'b4', 'b5', 'b5a', 'b6', 'b7', 'b8', 'b9', 'b10',\n",
       "       'b11', 'b12', 'b13', 'b14', 'b16', 'b17', 'b18', 'b19', 'b20', 'b21',\n",
       "       'b22', 'b23', 'b24', 'b25', 'b26'],\n",
       "      dtype='object')"
      ]
     },
     "execution_count": 400,
     "metadata": {},
     "output_type": "execute_result"
    }
   ],
   "source": [
    "dfhousehold.columns"
   ]
  },
  {
   "cell_type": "code",
   "execution_count": 401,
   "metadata": {
    "scrolled": true
   },
   "outputs": [],
   "source": [
    "column_namemapper = col_dict.fromkeys(cols)"
   ]
  },
  {
   "cell_type": "code",
   "execution_count": 402,
   "metadata": {},
   "outputs": [],
   "source": [
    "for i in column_namemapper:\n",
    "    column_namemapper[i] = col_dict[i]"
   ]
  },
  {
   "cell_type": "code",
   "execution_count": 403,
   "metadata": {
    "scrolled": true
   },
   "outputs": [
    {
     "data": {
      "text/plain": [
       "{'a2_1_a': '与户主关系',\n",
       " 'a2_1_b': '性别',\n",
       " 'a2_1_c': '出生年份',\n",
       " 'a2_1_d': '2012年职业状况',\n",
       " 'a2_1_e': '工作单位性质',\n",
       " 'a2_1_f': '职业类型',\n",
       " 'a2_1_g': '行业类别',\n",
       " 'a2_1_h': '民族',\n",
       " 'a2_1_i': '教育水平',\n",
       " 'a2_1_j': '受教育总年限',\n",
       " 'a2_1_k': '2012年在家中居住时间有几个月',\n",
       " 'b1': '对该建筑所处地理位置描述',\n",
       " 'b2': '按层数划分',\n",
       " 'b3': '该住房位于该建筑第___层',\n",
       " 'b4': '该家庭自身使用的住房空间有几层',\n",
       " 'b5': '该户迁入该住房时间',\n",
       " 'b5a': '如果是2012年迁入,是____月迁入',\n",
       " 'b6': '该户每周在该住房居住时长：____天',\n",
       " 'b7': '现有房屋的产权是',\n",
       " 'b8': '按房屋政策属性,该住房属于',\n",
       " 'b9': '该住房建筑年代',\n",
       " 'b10': '该建筑外墙主体材料',\n",
       " 'b11': '该建筑屋顶主要材料',\n",
       " 'b12': '该住房大致层高',\n",
       " 'b13': '该住房建筑面积 ',\n",
       " 'b14': '该住房实际使用面积',\n",
       " 'b16': '卫生间数量',\n",
       " 'b17': '阳台数量',\n",
       " 'b18': '主动更换过多少窗户',\n",
       " 'b19': '是否给门窗进行过封边处理',\n",
       " 'b20': '是否给外墙进行过保暖改造',\n",
       " 'b21': '是否给阁楼,天花板,管道等添加过隔热绝缘材料',\n",
       " 'b22': '是否有私人独立的地下室',\n",
       " 'b23': '是否有阁楼',\n",
       " 'b24': '是否有封闭式,独立车库',\n",
       " 'b25': '该房屋冬季平均每天日照时间 ',\n",
       " 'b26': '该房屋夏季平均每天日照时间',\n",
       " 'f3_1_a': '一月电力消费量',\n",
       " 'f3_2_a': '二月电力消费量',\n",
       " 'f3_3_a': '三月电力消费量',\n",
       " 'f3_4_a': '四月电力消费量',\n",
       " 'f3_5_a': '五月电力消费量',\n",
       " 'f3_6_a': '六月电力消费量',\n",
       " 'f3_7_a': '七月电力消费量',\n",
       " 'f3_8_a': '八月电力消费量',\n",
       " 'f3_9_a': '九月电力消费量',\n",
       " 'f3_10_a': '十月电力消费量',\n",
       " 'f3_11_a': '十一月电力消费量',\n",
       " 'f3_12_a': '十二月电力消费量',\n",
       " 'f3_13_a': '2012年电力消费量合计',\n",
       " 'f3_1_d': '一月电费支出',\n",
       " 'f3_2_d': '二月电费支出',\n",
       " 'f3_3_d': '三月电费支出',\n",
       " 'f3_4_d': '四月电费支出',\n",
       " 'f3_5_d': '五月电费支出',\n",
       " 'f3_6_d': '六月电费支出',\n",
       " 'f3_7_d': '七月电费支出',\n",
       " 'f3_8_d': '八月电费支出',\n",
       " 'f3_9_d': '九月电费支出',\n",
       " 'f3_10_d': '十月电费支出',\n",
       " 'f3_11_d': '十一月电费支出',\n",
       " 'f3_12_d': '十二月电费支出',\n",
       " 'f3_13_d': '212年电费支出合计'}"
      ]
     },
     "execution_count": 403,
     "metadata": {},
     "output_type": "execute_result"
    }
   ],
   "source": [
    "column_namemapper"
   ]
  },
  {
   "cell_type": "code",
   "execution_count": 404,
   "metadata": {},
   "outputs": [],
   "source": [
    "column_namemapper = {'index':\"ID\",\n",
    "                     'a1':\"fsize\",\n",
    "                     'b1':'urban',\n",
    "                     'f1a':'income',\n",
    "                     \n",
    "                     'a2_1_a': 'rltn_to_HoH',\n",
    "                     'a2_1_b': 'sex',\n",
    "                     'a2_1_c': 'birthyr',\n",
    "                     'a2_1_d': 'employment',\n",
    "                     'a2_1_e': 'employer',\n",
    "                     'a2_1_f': 'occupation',\n",
    "                     'a2_1_g': 'sector',\n",
    "                     'a2_1_h': 'ethnicity',\n",
    "                     'a2_1_i': 'edu_lvl',\n",
    "                     'a2_1_j': 'edu_yrs',\n",
    "                     'a2_1_k': 'mths_at_home',\n",
    "                     \n",
    "                     'b2': 'bldlvl',\n",
    "                     'b3': 'level',\n",
    "                     'b4': 'stories',\n",
    "                     'b5': 'moveinyr',\n",
    "                     'b5a': 'moveinmth',\n",
    "                     'b6': 'daystyd',\n",
    "                     'b7': 'own',\n",
    "                     'b8': 'owntyp',\n",
    "                     'b9': 'bltyr',\n",
    "                     'b10': 'wall',\n",
    "                     'b11': 'roof',\n",
    "                     'b12': 'height',\n",
    "                     'b13': 'size',\n",
    "                     'b14': 'size2',\n",
    "                     'b16': 'bathroom',\n",
    "                     'b17': 'balcony',\n",
    "                     'b18': 'newwdw',\n",
    "                     'b19': 'window_D',\n",
    "                     'b20': 'wall_D',\n",
    "                     'b21': 'insltn_D',\n",
    "                     'b22': 'bsmt_D',\n",
    "                     'b23': 'attic_D',\n",
    "                     'b24': 'garage_D',\n",
    "                     'b25': 'dlgt_w',\n",
    "                     'b26': 'dlgt_s'}"
   ]
  },
  {
   "cell_type": "code",
   "execution_count": 405,
   "metadata": {},
   "outputs": [],
   "source": [
    "# for col in dfhousehold.columns:\n",
    "#     if col.startswith(\"b\"):\n",
    "#         print(dfhousehold[col].value_counts(normalize=True,dropna=False))\n",
    "#         print()"
   ]
  },
  {
   "cell_type": "code",
   "execution_count": 406,
   "metadata": {
    "scrolled": true
   },
   "outputs": [],
   "source": [
    "dfhousehold.rename(column_namemapper, axis=1, inplace=True)"
   ]
  },
  {
   "cell_type": "code",
   "execution_count": 407,
   "metadata": {},
   "outputs": [
    {
     "data": {
      "text/plain": [
       "Index(['ID', 'month', 'elec_use', 'elec_bill', 'Month', 'serial', 'province',\n",
       "       'city', 'county', 'zipcode', 'respondent', 'latitude', 'longitude',\n",
       "       'fsize', 'income', 'rltn_to_HoH', 'sex', 'birthyr', 'employment',\n",
       "       'employer', 'occupation', 'sector', 'ethnicity', 'edu_lvl', 'edu_yrs',\n",
       "       'mths_at_home', 'urban', 'bldlvl', 'level', 'stories', 'moveinyr',\n",
       "       'moveinmth', 'daystyd', 'own', 'owntyp', 'bltyr', 'wall', 'roof',\n",
       "       'height', 'size', 'size2', 'bathroom', 'balcony', 'newwdw', 'window_D',\n",
       "       'wall_D', 'insltn_D', 'bsmt_D', 'attic_D', 'garage_D', 'dlgt_w',\n",
       "       'dlgt_s'],\n",
       "      dtype='object')"
      ]
     },
     "execution_count": 407,
     "metadata": {},
     "output_type": "execute_result"
    }
   ],
   "source": [
    "dfhousehold.columns"
   ]
  },
  {
   "cell_type": "code",
   "execution_count": 408,
   "metadata": {},
   "outputs": [],
   "source": [
    "dfhousehold.to_csv('master1.csv')"
   ]
  },
  {
   "cell_type": "markdown",
   "metadata": {},
   "source": [
    "#### Merge with LandCover, LandSurfaceTemperature, VegetationField"
   ]
  },
  {
   "cell_type": "code",
   "execution_count": 409,
   "metadata": {},
   "outputs": [],
   "source": [
    "LST_pre = pd.read_stata(\"LST_pre.dta\")\n",
    "LC_pre = pd.read_stata(\"LC_pre.dta\")\n",
    "VGF_pre = pd.read_stata(\"VGF_pre.dta\")"
   ]
  },
  {
   "cell_type": "code",
   "execution_count": 410,
   "metadata": {},
   "outputs": [
    {
     "data": {
      "text/html": [
       "<div>\n",
       "<style scoped>\n",
       "    .dataframe tbody tr th:only-of-type {\n",
       "        vertical-align: middle;\n",
       "    }\n",
       "\n",
       "    .dataframe tbody tr th {\n",
       "        vertical-align: top;\n",
       "    }\n",
       "\n",
       "    .dataframe thead th {\n",
       "        text-align: right;\n",
       "    }\n",
       "</style>\n",
       "<table border=\"1\" class=\"dataframe\">\n",
       "  <thead>\n",
       "    <tr style=\"text-align: right;\">\n",
       "      <th></th>\n",
       "      <th>ID</th>\n",
       "      <th>DD_monthly</th>\n",
       "      <th>month</th>\n",
       "      <th>goodday_count</th>\n",
       "    </tr>\n",
       "  </thead>\n",
       "  <tbody>\n",
       "    <tr>\n",
       "      <th>0</th>\n",
       "      <td>1</td>\n",
       "      <td>306.279388</td>\n",
       "      <td>1</td>\n",
       "      <td>8.0</td>\n",
       "    </tr>\n",
       "    <tr>\n",
       "      <th>1</th>\n",
       "      <td>1</td>\n",
       "      <td>8.446699</td>\n",
       "      <td>2</td>\n",
       "      <td>8.0</td>\n",
       "    </tr>\n",
       "    <tr>\n",
       "      <th>2</th>\n",
       "      <td>1</td>\n",
       "      <td>20.421148</td>\n",
       "      <td>3</td>\n",
       "      <td>8.0</td>\n",
       "    </tr>\n",
       "    <tr>\n",
       "      <th>3</th>\n",
       "      <td>1</td>\n",
       "      <td>210.733170</td>\n",
       "      <td>4</td>\n",
       "      <td>9.0</td>\n",
       "    </tr>\n",
       "    <tr>\n",
       "      <th>4</th>\n",
       "      <td>1</td>\n",
       "      <td>262.653107</td>\n",
       "      <td>5</td>\n",
       "      <td>15.0</td>\n",
       "    </tr>\n",
       "  </tbody>\n",
       "</table>\n",
       "</div>"
      ],
      "text/plain": [
       "   ID  DD_monthly  month  goodday_count\n",
       "0   1  306.279388      1            8.0\n",
       "1   1    8.446699      2            8.0\n",
       "2   1   20.421148      3            8.0\n",
       "3   1  210.733170      4            9.0\n",
       "4   1  262.653107      5           15.0"
      ]
     },
     "execution_count": 410,
     "metadata": {},
     "output_type": "execute_result"
    }
   ],
   "source": [
    "LST_pre.head()"
   ]
  },
  {
   "cell_type": "code",
   "execution_count": 411,
   "metadata": {},
   "outputs": [
    {
     "data": {
      "text/html": [
       "<div>\n",
       "<style scoped>\n",
       "    .dataframe tbody tr th:only-of-type {\n",
       "        vertical-align: middle;\n",
       "    }\n",
       "\n",
       "    .dataframe tbody tr th {\n",
       "        vertical-align: top;\n",
       "    }\n",
       "\n",
       "    .dataframe thead th {\n",
       "        text-align: right;\n",
       "    }\n",
       "</style>\n",
       "<table border=\"1\" class=\"dataframe\">\n",
       "  <thead>\n",
       "    <tr style=\"text-align: right;\">\n",
       "      <th></th>\n",
       "      <th>ID</th>\n",
       "      <th>LC_Type1</th>\n",
       "      <th>LC_Type2</th>\n",
       "    </tr>\n",
       "  </thead>\n",
       "  <tbody>\n",
       "    <tr>\n",
       "      <th>0</th>\n",
       "      <td>1</td>\n",
       "      <td>13</td>\n",
       "      <td>13</td>\n",
       "    </tr>\n",
       "    <tr>\n",
       "      <th>1</th>\n",
       "      <td>2</td>\n",
       "      <td>13</td>\n",
       "      <td>13</td>\n",
       "    </tr>\n",
       "    <tr>\n",
       "      <th>2</th>\n",
       "      <td>3</td>\n",
       "      <td>13</td>\n",
       "      <td>13</td>\n",
       "    </tr>\n",
       "    <tr>\n",
       "      <th>3</th>\n",
       "      <td>4</td>\n",
       "      <td>13</td>\n",
       "      <td>13</td>\n",
       "    </tr>\n",
       "    <tr>\n",
       "      <th>4</th>\n",
       "      <td>5</td>\n",
       "      <td>13</td>\n",
       "      <td>13</td>\n",
       "    </tr>\n",
       "  </tbody>\n",
       "</table>\n",
       "</div>"
      ],
      "text/plain": [
       "   ID  LC_Type1  LC_Type2\n",
       "0   1        13        13\n",
       "1   2        13        13\n",
       "2   3        13        13\n",
       "3   4        13        13\n",
       "4   5        13        13"
      ]
     },
     "execution_count": 411,
     "metadata": {},
     "output_type": "execute_result"
    }
   ],
   "source": [
    "LC_pre.head()"
   ]
  },
  {
   "cell_type": "code",
   "execution_count": 412,
   "metadata": {
    "scrolled": true
   },
   "outputs": [
    {
     "data": {
      "text/html": [
       "<div>\n",
       "<style scoped>\n",
       "    .dataframe tbody tr th:only-of-type {\n",
       "        vertical-align: middle;\n",
       "    }\n",
       "\n",
       "    .dataframe tbody tr th {\n",
       "        vertical-align: top;\n",
       "    }\n",
       "\n",
       "    .dataframe thead th {\n",
       "        text-align: right;\n",
       "    }\n",
       "</style>\n",
       "<table border=\"1\" class=\"dataframe\">\n",
       "  <thead>\n",
       "    <tr style=\"text-align: right;\">\n",
       "      <th></th>\n",
       "      <th>ID</th>\n",
       "      <th>NonTree_Vege</th>\n",
       "      <th>NonVege</th>\n",
       "      <th>Tree_Cover</th>\n",
       "    </tr>\n",
       "  </thead>\n",
       "  <tbody>\n",
       "    <tr>\n",
       "      <th>0</th>\n",
       "      <td>1</td>\n",
       "      <td>39.0</td>\n",
       "      <td>56.0</td>\n",
       "      <td>5.0</td>\n",
       "    </tr>\n",
       "    <tr>\n",
       "      <th>1</th>\n",
       "      <td>2</td>\n",
       "      <td>36.0</td>\n",
       "      <td>58.0</td>\n",
       "      <td>6.0</td>\n",
       "    </tr>\n",
       "    <tr>\n",
       "      <th>2</th>\n",
       "      <td>3</td>\n",
       "      <td>25.0</td>\n",
       "      <td>74.0</td>\n",
       "      <td>1.0</td>\n",
       "    </tr>\n",
       "    <tr>\n",
       "      <th>3</th>\n",
       "      <td>4</td>\n",
       "      <td>37.0</td>\n",
       "      <td>57.0</td>\n",
       "      <td>6.0</td>\n",
       "    </tr>\n",
       "    <tr>\n",
       "      <th>4</th>\n",
       "      <td>5</td>\n",
       "      <td>37.0</td>\n",
       "      <td>57.0</td>\n",
       "      <td>6.0</td>\n",
       "    </tr>\n",
       "  </tbody>\n",
       "</table>\n",
       "</div>"
      ],
      "text/plain": [
       "   ID  NonTree_Vege  NonVege  Tree_Cover\n",
       "0   1          39.0     56.0         5.0\n",
       "1   2          36.0     58.0         6.0\n",
       "2   3          25.0     74.0         1.0\n",
       "3   4          37.0     57.0         6.0\n",
       "4   5          37.0     57.0         6.0"
      ]
     },
     "execution_count": 412,
     "metadata": {},
     "output_type": "execute_result"
    }
   ],
   "source": [
    "VGF_pre.head()"
   ]
  },
  {
   "cell_type": "code",
   "execution_count": 413,
   "metadata": {
    "scrolled": true
   },
   "outputs": [],
   "source": [
    "# VGF_pre = VGF_pre.astype('Int16')"
   ]
  },
  {
   "cell_type": "code",
   "execution_count": 414,
   "metadata": {
    "scrolled": false
   },
   "outputs": [
    {
     "data": {
      "text/html": [
       "<div>\n",
       "<style scoped>\n",
       "    .dataframe tbody tr th:only-of-type {\n",
       "        vertical-align: middle;\n",
       "    }\n",
       "\n",
       "    .dataframe tbody tr th {\n",
       "        vertical-align: top;\n",
       "    }\n",
       "\n",
       "    .dataframe thead th {\n",
       "        text-align: right;\n",
       "    }\n",
       "</style>\n",
       "<table border=\"1\" class=\"dataframe\">\n",
       "  <thead>\n",
       "    <tr style=\"text-align: right;\">\n",
       "      <th></th>\n",
       "      <th>ID</th>\n",
       "      <th>NonTree_Vege</th>\n",
       "      <th>NonVege</th>\n",
       "      <th>Tree_Cover</th>\n",
       "    </tr>\n",
       "  </thead>\n",
       "  <tbody>\n",
       "    <tr>\n",
       "      <th>856</th>\n",
       "      <td>857</td>\n",
       "      <td>33.0</td>\n",
       "      <td>63.0</td>\n",
       "      <td>4.0</td>\n",
       "    </tr>\n",
       "    <tr>\n",
       "      <th>203</th>\n",
       "      <td>204</td>\n",
       "      <td>75.0</td>\n",
       "      <td>15.0</td>\n",
       "      <td>10.0</td>\n",
       "    </tr>\n",
       "    <tr>\n",
       "      <th>1439</th>\n",
       "      <td>1440</td>\n",
       "      <td>38.0</td>\n",
       "      <td>58.0</td>\n",
       "      <td>4.0</td>\n",
       "    </tr>\n",
       "    <tr>\n",
       "      <th>590</th>\n",
       "      <td>591</td>\n",
       "      <td>66.0</td>\n",
       "      <td>21.0</td>\n",
       "      <td>13.0</td>\n",
       "    </tr>\n",
       "    <tr>\n",
       "      <th>266</th>\n",
       "      <td>267</td>\n",
       "      <td>74.0</td>\n",
       "      <td>21.0</td>\n",
       "      <td>5.0</td>\n",
       "    </tr>\n",
       "  </tbody>\n",
       "</table>\n",
       "</div>"
      ],
      "text/plain": [
       "        ID  NonTree_Vege  NonVege  Tree_Cover\n",
       "856    857          33.0     63.0         4.0\n",
       "203    204          75.0     15.0        10.0\n",
       "1439  1440          38.0     58.0         4.0\n",
       "590    591          66.0     21.0        13.0\n",
       "266    267          74.0     21.0         5.0"
      ]
     },
     "execution_count": 414,
     "metadata": {},
     "output_type": "execute_result"
    }
   ],
   "source": [
    "VGF_pre.sample(5)"
   ]
  },
  {
   "cell_type": "code",
   "execution_count": 415,
   "metadata": {},
   "outputs": [],
   "source": [
    "master1 = dfhousehold.merge(LST_pre, on=['ID','month'])"
   ]
  },
  {
   "cell_type": "code",
   "execution_count": 416,
   "metadata": {},
   "outputs": [],
   "source": [
    "master1 = master1.merge(LC_pre, on='ID')"
   ]
  },
  {
   "cell_type": "code",
   "execution_count": 417,
   "metadata": {},
   "outputs": [],
   "source": [
    "master1 = master1.merge(VGF_pre, on='ID')"
   ]
  },
  {
   "cell_type": "markdown",
   "metadata": {},
   "source": [
    "#### create dummies for north, summer, new building, single family house"
   ]
  },
  {
   "cell_type": "markdown",
   "metadata": {},
   "source": [
    "##### create dummy for north china, central, south china"
   ]
  },
  {
   "cell_type": "code",
   "execution_count": 418,
   "metadata": {},
   "outputs": [],
   "source": [
    "north = ['内蒙古', '北京', '吉林', '天津', '宁夏回族自治区', '山东', '山西', '新疆', '河北', '河南', '甘肃', '辽宁','黑龙江']\n",
    "master1[\"is_north\"] = master1['province'].isin(north)\n",
    "south = ['云南', '广东', '广西', '江西', '海南', '湖南', '福建', '贵州']\n",
    "master1[\"is_south\"] = master1['province'].isin(south)"
   ]
  },
  {
   "cell_type": "code",
   "execution_count": 419,
   "metadata": {},
   "outputs": [
    {
     "data": {
      "text/plain": [
       "True     9792\n",
       "False    7608\n",
       "Name: is_north, dtype: int64"
      ]
     },
     "execution_count": 419,
     "metadata": {},
     "output_type": "execute_result"
    }
   ],
   "source": [
    "master1[\"is_north\"].value_counts(dropna=False)"
   ]
  },
  {
   "cell_type": "code",
   "execution_count": 420,
   "metadata": {},
   "outputs": [
    {
     "data": {
      "text/plain": [
       "False    13956\n",
       "True      3444\n",
       "Name: is_south, dtype: int64"
      ]
     },
     "execution_count": 420,
     "metadata": {},
     "output_type": "execute_result"
    }
   ],
   "source": [
    "master1[\"is_south\"].value_counts(dropna=False)"
   ]
  },
  {
   "cell_type": "code",
   "execution_count": 421,
   "metadata": {},
   "outputs": [],
   "source": [
    "# create categorical veriable from province"
   ]
  },
  {
   "cell_type": "markdown",
   "metadata": {},
   "source": [
    "##### create `sumer` `is_summer` dummy"
   ]
  },
  {
   "cell_type": "code",
   "execution_count": 422,
   "metadata": {
    "scrolled": true
   },
   "outputs": [],
   "source": [
    "master1['summer'] = np.where((master1.month>=4) & (master1.month<=9) , 1, 0)"
   ]
  },
  {
   "cell_type": "code",
   "execution_count": 423,
   "metadata": {},
   "outputs": [],
   "source": [
    "master1['is_summer'] = (master1.month>=4) & (master1.month<=9)"
   ]
  },
  {
   "cell_type": "code",
   "execution_count": 424,
   "metadata": {},
   "outputs": [
    {
     "data": {
      "text/html": [
       "<div>\n",
       "<style scoped>\n",
       "    .dataframe tbody tr th:only-of-type {\n",
       "        vertical-align: middle;\n",
       "    }\n",
       "\n",
       "    .dataframe tbody tr th {\n",
       "        vertical-align: top;\n",
       "    }\n",
       "\n",
       "    .dataframe thead th {\n",
       "        text-align: right;\n",
       "    }\n",
       "</style>\n",
       "<table border=\"1\" class=\"dataframe\">\n",
       "  <thead>\n",
       "    <tr style=\"text-align: right;\">\n",
       "      <th>is_summer</th>\n",
       "      <th>False</th>\n",
       "      <th>True</th>\n",
       "    </tr>\n",
       "    <tr>\n",
       "      <th>summer</th>\n",
       "      <th></th>\n",
       "      <th></th>\n",
       "    </tr>\n",
       "  </thead>\n",
       "  <tbody>\n",
       "    <tr>\n",
       "      <th>0</th>\n",
       "      <td>8700</td>\n",
       "      <td>0</td>\n",
       "    </tr>\n",
       "    <tr>\n",
       "      <th>1</th>\n",
       "      <td>0</td>\n",
       "      <td>8700</td>\n",
       "    </tr>\n",
       "  </tbody>\n",
       "</table>\n",
       "</div>"
      ],
      "text/plain": [
       "is_summer  False  True \n",
       "summer                 \n",
       "0           8700      0\n",
       "1              0   8700"
      ]
     },
     "execution_count": 424,
     "metadata": {},
     "output_type": "execute_result"
    }
   ],
   "source": [
    "pd.crosstab(master1.summer, master1.is_summer)"
   ]
  },
  {
   "cell_type": "markdown",
   "metadata": {},
   "source": [
    "##### create new building `new` dummy"
   ]
  },
  {
   "cell_type": "code",
   "execution_count": 425,
   "metadata": {
    "scrolled": true
   },
   "outputs": [
    {
     "data": {
      "text/plain": [
       "2000-2009    8400\n",
       "1990-1999    5148\n",
       "1980-1989    2196\n",
       "2010年及以后      924\n",
       "1970-1979     384\n",
       "1960-1969     132\n",
       "早于1949年        96\n",
       "NaN            84\n",
       "1949-1959      36\n",
       "Name: bltyr, dtype: int64"
      ]
     },
     "execution_count": 425,
     "metadata": {},
     "output_type": "execute_result"
    }
   ],
   "source": [
    "master1.bltyr.value_counts(dropna=False)"
   ]
  },
  {
   "cell_type": "code",
   "execution_count": 426,
   "metadata": {
    "scrolled": true
   },
   "outputs": [
    {
     "data": {
      "text/plain": [
       "CategoricalDtype(categories=['早于1949年', '1949-1959', '1960-1969', '1970-1979',\n",
       "                  '1980-1989', '1990-1999', '2000-2009', '2010年及以后'],\n",
       "                 ordered=True)"
      ]
     },
     "execution_count": 426,
     "metadata": {},
     "output_type": "execute_result"
    }
   ],
   "source": [
    "master1.bltyr.dtypes"
   ]
  },
  {
   "cell_type": "code",
   "execution_count": 427,
   "metadata": {},
   "outputs": [],
   "source": [
    "# master1.drop(columns='new', inplace=True)"
   ]
  },
  {
   "cell_type": "code",
   "execution_count": 428,
   "metadata": {},
   "outputs": [
    {
     "data": {
      "text/plain": [
       "True"
      ]
     },
     "execution_count": 428,
     "metadata": {},
     "output_type": "execute_result"
    }
   ],
   "source": [
    "master1.loc[359,'bltyr'] >= '1949-1959'"
   ]
  },
  {
   "cell_type": "code",
   "execution_count": 429,
   "metadata": {
    "scrolled": true
   },
   "outputs": [
    {
     "data": {
      "text/plain": [
       "359    1990-1999\n",
       "Name: bltyr, dtype: category\n",
       "Categories (8, object): [早于1949年 < 1949-1959 < 1960-1969 < 1970-1979 < 1980-1989 < 1990-1999 < 2000-2009 < 2010年及以后]"
      ]
     },
     "execution_count": 429,
     "metadata": {},
     "output_type": "execute_result"
    }
   ],
   "source": [
    "master1.loc[[359],'bltyr'] "
   ]
  },
  {
   "cell_type": "code",
   "execution_count": 430,
   "metadata": {
    "scrolled": true
   },
   "outputs": [
    {
     "data": {
      "text/plain": [
       "360    NaN\n",
       "Name: bltyr, dtype: category\n",
       "Categories (8, object): [早于1949年 < 1949-1959 < 1960-1969 < 1970-1979 < 1980-1989 < 1990-1999 < 2000-2009 < 2010年及以后]"
      ]
     },
     "execution_count": 430,
     "metadata": {},
     "output_type": "execute_result"
    }
   ],
   "source": [
    "master1.loc[[360],'bltyr'] "
   ]
  },
  {
   "cell_type": "code",
   "execution_count": 431,
   "metadata": {},
   "outputs": [
    {
     "data": {
      "text/plain": [
       "float"
      ]
     },
     "execution_count": 431,
     "metadata": {},
     "output_type": "execute_result"
    }
   ],
   "source": [
    "type(master1.bltyr[360])"
   ]
  },
  {
   "cell_type": "code",
   "execution_count": 432,
   "metadata": {},
   "outputs": [],
   "source": [
    "# new = []\n",
    "# old = ['早于1949年', '1949-1959','1960-1969']"
   ]
  },
  {
   "cell_type": "code",
   "execution_count": 433,
   "metadata": {},
   "outputs": [],
   "source": [
    "def gen_newbld(row):\n",
    "    new = None\n",
    "    if isinstance(row.bltyr, str):\n",
    "        return row.bltyr >= '1990-1999' \n",
    "    return new"
   ]
  },
  {
   "cell_type": "code",
   "execution_count": 434,
   "metadata": {},
   "outputs": [],
   "source": [
    "master1['new']= master1.apply(gen_newbld, axis=1)"
   ]
  },
  {
   "cell_type": "code",
   "execution_count": 435,
   "metadata": {},
   "outputs": [
    {
     "data": {
      "text/plain": [
       "dtype('O')"
      ]
     },
     "execution_count": 435,
     "metadata": {},
     "output_type": "execute_result"
    }
   ],
   "source": [
    "master1['new'].dtype"
   ]
  },
  {
   "cell_type": "code",
   "execution_count": 436,
   "metadata": {},
   "outputs": [
    {
     "data": {
      "text/plain": [
       "True     14568\n",
       "False     2748\n",
       "NaN         84\n",
       "Name: new, dtype: int64"
      ]
     },
     "execution_count": 436,
     "metadata": {},
     "output_type": "execute_result"
    }
   ],
   "source": [
    "master1['new'].value_counts(dropna=False)"
   ]
  },
  {
   "cell_type": "code",
   "execution_count": 437,
   "metadata": {},
   "outputs": [],
   "source": [
    "# '早于1949年' wrong!"
   ]
  },
  {
   "cell_type": "code",
   "execution_count": 438,
   "metadata": {},
   "outputs": [
    {
     "data": {
      "text/html": [
       "<div>\n",
       "<style scoped>\n",
       "    .dataframe tbody tr th:only-of-type {\n",
       "        vertical-align: middle;\n",
       "    }\n",
       "\n",
       "    .dataframe tbody tr th {\n",
       "        vertical-align: top;\n",
       "    }\n",
       "\n",
       "    .dataframe thead th {\n",
       "        text-align: right;\n",
       "    }\n",
       "</style>\n",
       "<table border=\"1\" class=\"dataframe\">\n",
       "  <thead>\n",
       "    <tr style=\"text-align: right;\">\n",
       "      <th>bltyr</th>\n",
       "      <th>早于1949年</th>\n",
       "      <th>1949-1959</th>\n",
       "      <th>1960-1969</th>\n",
       "      <th>1970-1979</th>\n",
       "      <th>1980-1989</th>\n",
       "      <th>1990-1999</th>\n",
       "      <th>2000-2009</th>\n",
       "      <th>2010年及以后</th>\n",
       "    </tr>\n",
       "    <tr>\n",
       "      <th>new</th>\n",
       "      <th></th>\n",
       "      <th></th>\n",
       "      <th></th>\n",
       "      <th></th>\n",
       "      <th></th>\n",
       "      <th></th>\n",
       "      <th></th>\n",
       "      <th></th>\n",
       "    </tr>\n",
       "  </thead>\n",
       "  <tbody>\n",
       "    <tr>\n",
       "      <th>False</th>\n",
       "      <td>0</td>\n",
       "      <td>36</td>\n",
       "      <td>132</td>\n",
       "      <td>384</td>\n",
       "      <td>2196</td>\n",
       "      <td>0</td>\n",
       "      <td>0</td>\n",
       "      <td>0</td>\n",
       "    </tr>\n",
       "    <tr>\n",
       "      <th>True</th>\n",
       "      <td>96</td>\n",
       "      <td>0</td>\n",
       "      <td>0</td>\n",
       "      <td>0</td>\n",
       "      <td>0</td>\n",
       "      <td>5148</td>\n",
       "      <td>8400</td>\n",
       "      <td>924</td>\n",
       "    </tr>\n",
       "  </tbody>\n",
       "</table>\n",
       "</div>"
      ],
      "text/plain": [
       "bltyr  早于1949年  1949-1959  1960-1969  1970-1979  1980-1989  1990-1999  \\\n",
       "new                                                                     \n",
       "False        0         36        132        384       2196          0   \n",
       "True        96          0          0          0          0       5148   \n",
       "\n",
       "bltyr  2000-2009  2010年及以后  \n",
       "new                         \n",
       "False          0         0  \n",
       "True        8400       924  "
      ]
     },
     "execution_count": 438,
     "metadata": {},
     "output_type": "execute_result"
    }
   ],
   "source": [
    "pd.crosstab(master1.new, master1.bltyr, dropna=False)"
   ]
  },
  {
   "cell_type": "code",
   "execution_count": 439,
   "metadata": {},
   "outputs": [],
   "source": [
    "master1['new'] = np.where(master1.bltyr >= '1990-1999' , 1, 0)"
   ]
  },
  {
   "cell_type": "code",
   "execution_count": 440,
   "metadata": {},
   "outputs": [],
   "source": [
    "master1.loc[master1.bltyr.isnull(), 'new'] = None"
   ]
  },
  {
   "cell_type": "code",
   "execution_count": 441,
   "metadata": {
    "scrolled": true
   },
   "outputs": [
    {
     "data": {
      "text/plain": [
       "1.0    14472\n",
       "0.0     2844\n",
       "NaN       84\n",
       "Name: new, dtype: int64"
      ]
     },
     "execution_count": 441,
     "metadata": {},
     "output_type": "execute_result"
    }
   ],
   "source": [
    "master1['new'].value_counts(dropna=False)"
   ]
  },
  {
   "cell_type": "code",
   "execution_count": 442,
   "metadata": {
    "scrolled": false
   },
   "outputs": [
    {
     "data": {
      "text/html": [
       "<div>\n",
       "<style scoped>\n",
       "    .dataframe tbody tr th:only-of-type {\n",
       "        vertical-align: middle;\n",
       "    }\n",
       "\n",
       "    .dataframe tbody tr th {\n",
       "        vertical-align: top;\n",
       "    }\n",
       "\n",
       "    .dataframe thead th {\n",
       "        text-align: right;\n",
       "    }\n",
       "</style>\n",
       "<table border=\"1\" class=\"dataframe\">\n",
       "  <thead>\n",
       "    <tr style=\"text-align: right;\">\n",
       "      <th>bltyr</th>\n",
       "      <th>早于1949年</th>\n",
       "      <th>1949-1959</th>\n",
       "      <th>1960-1969</th>\n",
       "      <th>1970-1979</th>\n",
       "      <th>1980-1989</th>\n",
       "      <th>1990-1999</th>\n",
       "      <th>2000-2009</th>\n",
       "      <th>2010年及以后</th>\n",
       "      <th>All</th>\n",
       "    </tr>\n",
       "    <tr>\n",
       "      <th>new</th>\n",
       "      <th></th>\n",
       "      <th></th>\n",
       "      <th></th>\n",
       "      <th></th>\n",
       "      <th></th>\n",
       "      <th></th>\n",
       "      <th></th>\n",
       "      <th></th>\n",
       "      <th></th>\n",
       "    </tr>\n",
       "  </thead>\n",
       "  <tbody>\n",
       "    <tr>\n",
       "      <th>0.0</th>\n",
       "      <td>96</td>\n",
       "      <td>36</td>\n",
       "      <td>132</td>\n",
       "      <td>384</td>\n",
       "      <td>2196</td>\n",
       "      <td>0</td>\n",
       "      <td>0</td>\n",
       "      <td>0</td>\n",
       "      <td>2844</td>\n",
       "    </tr>\n",
       "    <tr>\n",
       "      <th>1.0</th>\n",
       "      <td>0</td>\n",
       "      <td>0</td>\n",
       "      <td>0</td>\n",
       "      <td>0</td>\n",
       "      <td>0</td>\n",
       "      <td>5148</td>\n",
       "      <td>8400</td>\n",
       "      <td>924</td>\n",
       "      <td>14472</td>\n",
       "    </tr>\n",
       "    <tr>\n",
       "      <th>All</th>\n",
       "      <td>96</td>\n",
       "      <td>36</td>\n",
       "      <td>132</td>\n",
       "      <td>384</td>\n",
       "      <td>2196</td>\n",
       "      <td>5148</td>\n",
       "      <td>8400</td>\n",
       "      <td>924</td>\n",
       "      <td>17400</td>\n",
       "    </tr>\n",
       "  </tbody>\n",
       "</table>\n",
       "</div>"
      ],
      "text/plain": [
       "bltyr  早于1949年  1949-1959  1960-1969  1970-1979  1980-1989  1990-1999  \\\n",
       "new                                                                     \n",
       "0.0         96         36        132        384       2196          0   \n",
       "1.0          0          0          0          0          0       5148   \n",
       "All         96         36        132        384       2196       5148   \n",
       "\n",
       "bltyr  2000-2009  2010年及以后    All  \n",
       "new                                \n",
       "0.0            0         0   2844  \n",
       "1.0         8400       924  14472  \n",
       "All         8400       924  17400  "
      ]
     },
     "execution_count": 442,
     "metadata": {},
     "output_type": "execute_result"
    }
   ],
   "source": [
    "pd.crosstab(master1.new, master1.bltyr, dropna=False, margins=True)"
   ]
  },
  {
   "cell_type": "code",
   "execution_count": 443,
   "metadata": {},
   "outputs": [],
   "source": [
    "master1['is_new'] = master1.bltyr >= '1990-1999'"
   ]
  },
  {
   "cell_type": "code",
   "execution_count": 444,
   "metadata": {},
   "outputs": [],
   "source": [
    "# boolean NA type?"
   ]
  },
  {
   "cell_type": "code",
   "execution_count": 445,
   "metadata": {},
   "outputs": [],
   "source": [
    "master1.loc[master1.bltyr.isnull(), 'is_new'] = np.nan"
   ]
  },
  {
   "cell_type": "code",
   "execution_count": 446,
   "metadata": {},
   "outputs": [
    {
     "data": {
      "text/plain": [
       "1.0    14472\n",
       "0.0     2844\n",
       "NaN       84\n",
       "Name: is_new, dtype: int64"
      ]
     },
     "execution_count": 446,
     "metadata": {},
     "output_type": "execute_result"
    }
   ],
   "source": [
    "# turn is_new to float\n",
    "master1['is_new'].value_counts(dropna=False)"
   ]
  },
  {
   "cell_type": "code",
   "execution_count": 447,
   "metadata": {
    "scrolled": true
   },
   "outputs": [
    {
     "data": {
      "text/html": [
       "<div>\n",
       "<style scoped>\n",
       "    .dataframe tbody tr th:only-of-type {\n",
       "        vertical-align: middle;\n",
       "    }\n",
       "\n",
       "    .dataframe tbody tr th {\n",
       "        vertical-align: top;\n",
       "    }\n",
       "\n",
       "    .dataframe thead th {\n",
       "        text-align: right;\n",
       "    }\n",
       "</style>\n",
       "<table border=\"1\" class=\"dataframe\">\n",
       "  <thead>\n",
       "    <tr style=\"text-align: right;\">\n",
       "      <th>bltyr</th>\n",
       "      <th>早于1949年</th>\n",
       "      <th>1949-1959</th>\n",
       "      <th>1960-1969</th>\n",
       "      <th>1970-1979</th>\n",
       "      <th>1980-1989</th>\n",
       "      <th>1990-1999</th>\n",
       "      <th>2000-2009</th>\n",
       "      <th>2010年及以后</th>\n",
       "    </tr>\n",
       "    <tr>\n",
       "      <th>is_new</th>\n",
       "      <th></th>\n",
       "      <th></th>\n",
       "      <th></th>\n",
       "      <th></th>\n",
       "      <th></th>\n",
       "      <th></th>\n",
       "      <th></th>\n",
       "      <th></th>\n",
       "    </tr>\n",
       "  </thead>\n",
       "  <tbody>\n",
       "    <tr>\n",
       "      <th>0.0</th>\n",
       "      <td>96</td>\n",
       "      <td>36</td>\n",
       "      <td>132</td>\n",
       "      <td>384</td>\n",
       "      <td>2196</td>\n",
       "      <td>0</td>\n",
       "      <td>0</td>\n",
       "      <td>0</td>\n",
       "    </tr>\n",
       "    <tr>\n",
       "      <th>1.0</th>\n",
       "      <td>0</td>\n",
       "      <td>0</td>\n",
       "      <td>0</td>\n",
       "      <td>0</td>\n",
       "      <td>0</td>\n",
       "      <td>5148</td>\n",
       "      <td>8400</td>\n",
       "      <td>924</td>\n",
       "    </tr>\n",
       "  </tbody>\n",
       "</table>\n",
       "</div>"
      ],
      "text/plain": [
       "bltyr   早于1949年  1949-1959  1960-1969  1970-1979  1980-1989  1990-1999  \\\n",
       "is_new                                                                   \n",
       "0.0          96         36        132        384       2196          0   \n",
       "1.0           0          0          0          0          0       5148   \n",
       "\n",
       "bltyr   2000-2009  2010年及以后  \n",
       "is_new                       \n",
       "0.0             0         0  \n",
       "1.0          8400       924  "
      ]
     },
     "execution_count": 447,
     "metadata": {},
     "output_type": "execute_result"
    }
   ],
   "source": [
    "pd.crosstab(master1.is_new, master1.bltyr, dropna=False)"
   ]
  },
  {
   "cell_type": "markdown",
   "metadata": {},
   "source": [
    "##### create single family home `sf` dummy"
   ]
  },
  {
   "cell_type": "code",
   "execution_count": 448,
   "metadata": {
    "scrolled": false
   },
   "outputs": [
    {
     "data": {
      "text/plain": [
       "多层住宅（4-6层）             8652\n",
       "低层住宅（1-3层）             5292\n",
       "中高层住宅（7-10层,也称为小高层）    2028\n",
       "高层住宅（11-30层）           1284\n",
       "超高层住宅（30层以上）            108\n",
       "NaN                      36\n",
       "Name: bldlvl, dtype: int64"
      ]
     },
     "execution_count": 448,
     "metadata": {},
     "output_type": "execute_result"
    }
   ],
   "source": [
    "master1.bldlvl.value_counts(dropna=False)"
   ]
  },
  {
   "cell_type": "code",
   "execution_count": 449,
   "metadata": {
    "scrolled": true
   },
   "outputs": [
    {
     "data": {
      "text/plain": [
       "Index(['低层住宅（1-3层）', '多层住宅（4-6层）', '中高层住宅（7-10层,也称为小高层）', '高层住宅（11-30层）',\n",
       "       '超高层住宅（30层以上）'],\n",
       "      dtype='object')"
      ]
     },
     "execution_count": 449,
     "metadata": {},
     "output_type": "execute_result"
    }
   ],
   "source": [
    "master1.bldlvl.cat.categories"
   ]
  },
  {
   "cell_type": "code",
   "execution_count": 450,
   "metadata": {},
   "outputs": [
    {
     "data": {
      "text/plain": [
       "1.0     5844\n",
       "2.0     2424\n",
       "3.0     2292\n",
       "4.0     2220\n",
       "5.0     1848\n",
       "6.0     1080\n",
       "7.0      444\n",
       "NaN      168\n",
       "11.0     144\n",
       "9.0      132\n",
       "10.0     132\n",
       "Name: level, dtype: int64"
      ]
     },
     "execution_count": 450,
     "metadata": {},
     "output_type": "execute_result"
    }
   ],
   "source": [
    "master1.level.value_counts(dropna=False)[:10]"
   ]
  },
  {
   "cell_type": "code",
   "execution_count": 451,
   "metadata": {},
   "outputs": [],
   "source": [
    "master1['sf'] = np.where(master1.bldlvl == '低层住宅（1-3层）' , 1, 0)"
   ]
  },
  {
   "cell_type": "code",
   "execution_count": 452,
   "metadata": {},
   "outputs": [],
   "source": [
    "master1.loc[master1.bldlvl.isnull(), 'sf'] = np.nan"
   ]
  },
  {
   "cell_type": "code",
   "execution_count": 453,
   "metadata": {},
   "outputs": [
    {
     "data": {
      "text/plain": [
       "0.0    12072\n",
       "1.0     5292\n",
       "NaN       36\n",
       "Name: sf, dtype: int64"
      ]
     },
     "execution_count": 453,
     "metadata": {},
     "output_type": "execute_result"
    }
   ],
   "source": [
    "master1['sf'].value_counts(dropna=False)"
   ]
  },
  {
   "cell_type": "markdown",
   "metadata": {},
   "source": [
    "#### generate `LC_Type3`, `Vege_Cover`"
   ]
  },
  {
   "cell_type": "code",
   "execution_count": 454,
   "metadata": {},
   "outputs": [],
   "source": [
    "master1['Vege_Cover'] = master1['Tree_Cover'] + master1['NonTree_Vege'] "
   ]
  },
  {
   "cell_type": "code",
   "execution_count": 455,
   "metadata": {
    "scrolled": true
   },
   "outputs": [
    {
     "data": {
      "text/plain": [
       "13    11172\n",
       "12     2208\n",
       "9      2040\n",
       "10      744\n",
       "14      516\n",
       "0       336\n",
       "11      108\n",
       "8        96\n",
       "15       84\n",
       "5        48\n",
       "2        48\n",
       "Name: LC_Type2, dtype: int64"
      ]
     },
     "execution_count": 455,
     "metadata": {},
     "output_type": "execute_result"
    }
   ],
   "source": [
    "master1.LC_Type2.value_counts(dropna=False)"
   ]
  },
  {
   "cell_type": "code",
   "execution_count": 456,
   "metadata": {},
   "outputs": [],
   "source": [
    "LC_Type2_mapper ={0: 'Water', \n",
    "                  2: 'Evergreen',\n",
    "                 5: 'Mixed forest',\n",
    "                 8: 'Woody Savanna',\n",
    "                 9: 'Savanna',\n",
    "                 10: 'Grassland',\n",
    "                 11: 'Wetland',\n",
    "                 12: 'Cropland',\n",
    "                 13: 'Built-up/Urban',\n",
    "                 14: 'cropland mosaic',\n",
    "                 15: 'Non-Vegetated'}"
   ]
  },
  {
   "cell_type": "code",
   "execution_count": 457,
   "metadata": {},
   "outputs": [],
   "source": [
    "master1['LC_Type2s'] = master1.LC_Type2.replace(LC_Type2_mapper)"
   ]
  },
  {
   "cell_type": "code",
   "execution_count": 458,
   "metadata": {},
   "outputs": [
    {
     "data": {
      "text/plain": [
       "Built-up/Urban     11172\n",
       "Cropland            2208\n",
       "Savanna             2040\n",
       "Grassland            744\n",
       "cropland mosaic      516\n",
       "Water                336\n",
       "Wetland              108\n",
       "Woody Savanna         96\n",
       "Non-Vegetated         84\n",
       "Mixed forest          48\n",
       "Evergreen             48\n",
       "Name: LC_Type2s, dtype: int64"
      ]
     },
     "execution_count": 458,
     "metadata": {},
     "output_type": "execute_result"
    }
   ],
   "source": [
    "master1.LC_Type2s.value_counts(dropna=False)"
   ]
  },
  {
   "cell_type": "code",
   "execution_count": 459,
   "metadata": {},
   "outputs": [
    {
     "data": {
      "text/html": [
       "<div>\n",
       "<style scoped>\n",
       "    .dataframe tbody tr th:only-of-type {\n",
       "        vertical-align: middle;\n",
       "    }\n",
       "\n",
       "    .dataframe tbody tr th {\n",
       "        vertical-align: top;\n",
       "    }\n",
       "\n",
       "    .dataframe thead th {\n",
       "        text-align: right;\n",
       "    }\n",
       "</style>\n",
       "<table border=\"1\" class=\"dataframe\">\n",
       "  <thead>\n",
       "    <tr style=\"text-align: right;\">\n",
       "      <th>LC_Type2s</th>\n",
       "      <th>Built-up/Urban</th>\n",
       "      <th>Cropland</th>\n",
       "      <th>Evergreen</th>\n",
       "      <th>Grassland</th>\n",
       "      <th>Mixed forest</th>\n",
       "      <th>Non-Vegetated</th>\n",
       "      <th>Savanna</th>\n",
       "      <th>Water</th>\n",
       "      <th>Wetland</th>\n",
       "      <th>Woody Savanna</th>\n",
       "      <th>cropland mosaic</th>\n",
       "    </tr>\n",
       "    <tr>\n",
       "      <th>LC_Type2</th>\n",
       "      <th></th>\n",
       "      <th></th>\n",
       "      <th></th>\n",
       "      <th></th>\n",
       "      <th></th>\n",
       "      <th></th>\n",
       "      <th></th>\n",
       "      <th></th>\n",
       "      <th></th>\n",
       "      <th></th>\n",
       "      <th></th>\n",
       "    </tr>\n",
       "  </thead>\n",
       "  <tbody>\n",
       "    <tr>\n",
       "      <th>0</th>\n",
       "      <td>0</td>\n",
       "      <td>0</td>\n",
       "      <td>0</td>\n",
       "      <td>0</td>\n",
       "      <td>0</td>\n",
       "      <td>0</td>\n",
       "      <td>0</td>\n",
       "      <td>336</td>\n",
       "      <td>0</td>\n",
       "      <td>0</td>\n",
       "      <td>0</td>\n",
       "    </tr>\n",
       "    <tr>\n",
       "      <th>2</th>\n",
       "      <td>0</td>\n",
       "      <td>0</td>\n",
       "      <td>48</td>\n",
       "      <td>0</td>\n",
       "      <td>0</td>\n",
       "      <td>0</td>\n",
       "      <td>0</td>\n",
       "      <td>0</td>\n",
       "      <td>0</td>\n",
       "      <td>0</td>\n",
       "      <td>0</td>\n",
       "    </tr>\n",
       "    <tr>\n",
       "      <th>5</th>\n",
       "      <td>0</td>\n",
       "      <td>0</td>\n",
       "      <td>0</td>\n",
       "      <td>0</td>\n",
       "      <td>48</td>\n",
       "      <td>0</td>\n",
       "      <td>0</td>\n",
       "      <td>0</td>\n",
       "      <td>0</td>\n",
       "      <td>0</td>\n",
       "      <td>0</td>\n",
       "    </tr>\n",
       "    <tr>\n",
       "      <th>8</th>\n",
       "      <td>0</td>\n",
       "      <td>0</td>\n",
       "      <td>0</td>\n",
       "      <td>0</td>\n",
       "      <td>0</td>\n",
       "      <td>0</td>\n",
       "      <td>0</td>\n",
       "      <td>0</td>\n",
       "      <td>0</td>\n",
       "      <td>96</td>\n",
       "      <td>0</td>\n",
       "    </tr>\n",
       "    <tr>\n",
       "      <th>9</th>\n",
       "      <td>0</td>\n",
       "      <td>0</td>\n",
       "      <td>0</td>\n",
       "      <td>0</td>\n",
       "      <td>0</td>\n",
       "      <td>0</td>\n",
       "      <td>2040</td>\n",
       "      <td>0</td>\n",
       "      <td>0</td>\n",
       "      <td>0</td>\n",
       "      <td>0</td>\n",
       "    </tr>\n",
       "    <tr>\n",
       "      <th>10</th>\n",
       "      <td>0</td>\n",
       "      <td>0</td>\n",
       "      <td>0</td>\n",
       "      <td>744</td>\n",
       "      <td>0</td>\n",
       "      <td>0</td>\n",
       "      <td>0</td>\n",
       "      <td>0</td>\n",
       "      <td>0</td>\n",
       "      <td>0</td>\n",
       "      <td>0</td>\n",
       "    </tr>\n",
       "    <tr>\n",
       "      <th>11</th>\n",
       "      <td>0</td>\n",
       "      <td>0</td>\n",
       "      <td>0</td>\n",
       "      <td>0</td>\n",
       "      <td>0</td>\n",
       "      <td>0</td>\n",
       "      <td>0</td>\n",
       "      <td>0</td>\n",
       "      <td>108</td>\n",
       "      <td>0</td>\n",
       "      <td>0</td>\n",
       "    </tr>\n",
       "    <tr>\n",
       "      <th>12</th>\n",
       "      <td>0</td>\n",
       "      <td>2208</td>\n",
       "      <td>0</td>\n",
       "      <td>0</td>\n",
       "      <td>0</td>\n",
       "      <td>0</td>\n",
       "      <td>0</td>\n",
       "      <td>0</td>\n",
       "      <td>0</td>\n",
       "      <td>0</td>\n",
       "      <td>0</td>\n",
       "    </tr>\n",
       "    <tr>\n",
       "      <th>13</th>\n",
       "      <td>11172</td>\n",
       "      <td>0</td>\n",
       "      <td>0</td>\n",
       "      <td>0</td>\n",
       "      <td>0</td>\n",
       "      <td>0</td>\n",
       "      <td>0</td>\n",
       "      <td>0</td>\n",
       "      <td>0</td>\n",
       "      <td>0</td>\n",
       "      <td>0</td>\n",
       "    </tr>\n",
       "    <tr>\n",
       "      <th>14</th>\n",
       "      <td>0</td>\n",
       "      <td>0</td>\n",
       "      <td>0</td>\n",
       "      <td>0</td>\n",
       "      <td>0</td>\n",
       "      <td>0</td>\n",
       "      <td>0</td>\n",
       "      <td>0</td>\n",
       "      <td>0</td>\n",
       "      <td>0</td>\n",
       "      <td>516</td>\n",
       "    </tr>\n",
       "    <tr>\n",
       "      <th>15</th>\n",
       "      <td>0</td>\n",
       "      <td>0</td>\n",
       "      <td>0</td>\n",
       "      <td>0</td>\n",
       "      <td>0</td>\n",
       "      <td>84</td>\n",
       "      <td>0</td>\n",
       "      <td>0</td>\n",
       "      <td>0</td>\n",
       "      <td>0</td>\n",
       "      <td>0</td>\n",
       "    </tr>\n",
       "  </tbody>\n",
       "</table>\n",
       "</div>"
      ],
      "text/plain": [
       "LC_Type2s  Built-up/Urban  Cropland  Evergreen  Grassland  Mixed forest  \\\n",
       "LC_Type2                                                                  \n",
       "0                       0         0          0          0             0   \n",
       "2                       0         0         48          0             0   \n",
       "5                       0         0          0          0            48   \n",
       "8                       0         0          0          0             0   \n",
       "9                       0         0          0          0             0   \n",
       "10                      0         0          0        744             0   \n",
       "11                      0         0          0          0             0   \n",
       "12                      0      2208          0          0             0   \n",
       "13                  11172         0          0          0             0   \n",
       "14                      0         0          0          0             0   \n",
       "15                      0         0          0          0             0   \n",
       "\n",
       "LC_Type2s  Non-Vegetated  Savanna  Water  Wetland  Woody Savanna  \\\n",
       "LC_Type2                                                           \n",
       "0                      0        0    336        0              0   \n",
       "2                      0        0      0        0              0   \n",
       "5                      0        0      0        0              0   \n",
       "8                      0        0      0        0             96   \n",
       "9                      0     2040      0        0              0   \n",
       "10                     0        0      0        0              0   \n",
       "11                     0        0      0      108              0   \n",
       "12                     0        0      0        0              0   \n",
       "13                     0        0      0        0              0   \n",
       "14                     0        0      0        0              0   \n",
       "15                    84        0      0        0              0   \n",
       "\n",
       "LC_Type2s  cropland mosaic  \n",
       "LC_Type2                    \n",
       "0                        0  \n",
       "2                        0  \n",
       "5                        0  \n",
       "8                        0  \n",
       "9                        0  \n",
       "10                       0  \n",
       "11                       0  \n",
       "12                       0  \n",
       "13                       0  \n",
       "14                     516  \n",
       "15                       0  "
      ]
     },
     "execution_count": 459,
     "metadata": {},
     "output_type": "execute_result"
    }
   ],
   "source": [
    "pd.crosstab(master1['LC_Type2'], master1['LC_Type2s'], dropna=False)"
   ]
  },
  {
   "cell_type": "code",
   "execution_count": 460,
   "metadata": {},
   "outputs": [],
   "source": [
    "def gen_LC3(LC_Type2):\n",
    "    if LC_Type2 ==0 or LC_Type2==11:\n",
    "        return 'water'\n",
    "    if LC_Type2 >0 and LC_Type2<10:\n",
    "        return 'forest/savanna'\n",
    "    if LC_Type2 ==10:\n",
    "        return 'grassland'\n",
    "    if LC_Type2 ==12 or LC_Type2==14:\n",
    "        return 'cropland'\n",
    "    if LC_Type2 ==13:\n",
    "        return 'Urban built-up'\n",
    "    if LC_Type2 ==15:\n",
    "        return 'barren'"
   ]
  },
  {
   "cell_type": "code",
   "execution_count": 461,
   "metadata": {},
   "outputs": [],
   "source": [
    "LC_Type3_mapper ={0: 'water', \n",
    "                  2: 'forest/savanna',\n",
    "                 5: 'forest/savanna',\n",
    "                 8: 'forest/savanna',\n",
    "                 9: 'forest/savanna',\n",
    "                 10: 'grassland',\n",
    "                 11: 'water',\n",
    "                 12: 'cropland',\n",
    "                 13: 'Built-up/Urban',\n",
    "                 14: 'cropland',\n",
    "                 15: 'non-Vegetated'}"
   ]
  },
  {
   "cell_type": "code",
   "execution_count": 462,
   "metadata": {},
   "outputs": [],
   "source": [
    "#master1['LC_Type3'] = master1['LC_Type2'].apply(gen_LC3)"
   ]
  },
  {
   "cell_type": "code",
   "execution_count": 463,
   "metadata": {},
   "outputs": [],
   "source": [
    "master1['LC_Type3'] = master1['LC_Type2'].replace(LC_Type3_mapper)"
   ]
  },
  {
   "cell_type": "code",
   "execution_count": 464,
   "metadata": {},
   "outputs": [
    {
     "data": {
      "text/plain": [
       "Built-up/Urban    11172\n",
       "cropland           2724\n",
       "forest/savanna     2232\n",
       "grassland           744\n",
       "water               444\n",
       "non-Vegetated        84\n",
       "Name: LC_Type3, dtype: int64"
      ]
     },
     "execution_count": 464,
     "metadata": {},
     "output_type": "execute_result"
    }
   ],
   "source": [
    "master1['LC_Type3'].value_counts(dropna=False)"
   ]
  },
  {
   "cell_type": "code",
   "execution_count": 465,
   "metadata": {},
   "outputs": [
    {
     "data": {
      "text/plain": [
       "Built-up/Urban    11172\n",
       "cropland           2724\n",
       "forest/savanna     2232\n",
       "grassland           744\n",
       "water               444\n",
       "non-Vegetated        84\n",
       "Name: LC_Type3, dtype: int64"
      ]
     },
     "execution_count": 465,
     "metadata": {},
     "output_type": "execute_result"
    }
   ],
   "source": [
    "master1['LC_Type3'].value_counts(dropna=False)"
   ]
  },
  {
   "cell_type": "code",
   "execution_count": 466,
   "metadata": {},
   "outputs": [],
   "source": [
    "# def gen_LC4(LC_Type2):\n",
    "#     if LC_Type2 ==0 or LC_Type2==11:\n",
    "#         return 'water'\n",
    "#     elif LC_Type2 ==13:\n",
    "#         return 'Urban built-up'\n",
    "#     elif LC_Type2 ==15:\n",
    "#         return 'barren'\n",
    "#     else:\n",
    "#         return 'vege'"
   ]
  },
  {
   "cell_type": "code",
   "execution_count": 467,
   "metadata": {},
   "outputs": [],
   "source": [
    "LC_Type4_mapper ={0: 'water', \n",
    "                  2: 'vege',\n",
    "                 5: 'vege',\n",
    "                 8: 'vege',\n",
    "                 9: 'vege',\n",
    "                 10: 'vege',\n",
    "                 11: 'water',\n",
    "                 12: 'vege',\n",
    "                 13: 'Built-up/Urban',\n",
    "                 14: 'vege',\n",
    "                 15: 'non-Vegetated'}"
   ]
  },
  {
   "cell_type": "code",
   "execution_count": 468,
   "metadata": {},
   "outputs": [
    {
     "data": {
      "text/plain": [
       "Built-up/Urban    11172\n",
       "vege               5700\n",
       "water               444\n",
       "non-Vegetated        84\n",
       "Name: LC_Type4, dtype: int64"
      ]
     },
     "execution_count": 468,
     "metadata": {},
     "output_type": "execute_result"
    }
   ],
   "source": [
    "master1['LC_Type4'] = master1['LC_Type2'].replace(LC_Type4_mapper)\n",
    "master1['LC_Type4'].value_counts(dropna=False)"
   ]
  },
  {
   "cell_type": "code",
   "execution_count": 469,
   "metadata": {},
   "outputs": [
    {
     "data": {
      "text/plain": [
       "Built-up/Urban    11172\n",
       "vege               5700\n",
       "water               444\n",
       "non-Vegetated        84\n",
       "Name: LC_Type4, dtype: int64"
      ]
     },
     "execution_count": 469,
     "metadata": {},
     "output_type": "execute_result"
    }
   ],
   "source": [
    "#master1['LC_Type4'] = master1['LC_Type2'].apply(gen_LC4)\n",
    "master1['LC_Type4'].value_counts(dropna=False)"
   ]
  },
  {
   "cell_type": "code",
   "execution_count": 470,
   "metadata": {},
   "outputs": [],
   "source": [
    "# # diff from Stata\n",
    "# def gen_LC5(LC_Type2):\n",
    "#     if LC_Type2 ==0 or LC_Type2==11:\n",
    "#         return 'water'\n",
    "#     elif LC_Type2 ==13:\n",
    "#         return 'Urban built-up'\n",
    "#     elif LC_Type2 ==15:\n",
    "#         return 'barren'\n",
    "#     elif LC_Type2 ==12 or LC_Type2==14:\n",
    "#         return 'cropland'\n",
    "#     else:\n",
    "#         return 'natural_vege'"
   ]
  },
  {
   "cell_type": "code",
   "execution_count": 471,
   "metadata": {},
   "outputs": [],
   "source": [
    "LC_Type5_mapper ={0: 'water', \n",
    "                  2: 'natural_vege',\n",
    "                 5: 'natural_vege',\n",
    "                 8: 'natural_vege',\n",
    "                 9: 'natural_vege',\n",
    "                 10: 'natural_vege',\n",
    "                 11: 'water',\n",
    "                 12: 'cropland',\n",
    "                 13: 'Built-up/Urban',\n",
    "                 14: 'cropland',\n",
    "                 15: 'non-Vegetated'}"
   ]
  },
  {
   "cell_type": "code",
   "execution_count": 472,
   "metadata": {
    "scrolled": true
   },
   "outputs": [
    {
     "data": {
      "text/plain": [
       "Built-up/Urban    11172\n",
       "natural_vege       2976\n",
       "cropland           2724\n",
       "water               444\n",
       "non-Vegetated        84\n",
       "Name: LC_Type5, dtype: int64"
      ]
     },
     "execution_count": 472,
     "metadata": {},
     "output_type": "execute_result"
    }
   ],
   "source": [
    "master1['LC_Type5'] = master1['LC_Type2'].replace(LC_Type5_mapper)\n",
    "master1['LC_Type5'].value_counts(dropna=False)"
   ]
  },
  {
   "cell_type": "code",
   "execution_count": 473,
   "metadata": {
    "scrolled": true
   },
   "outputs": [
    {
     "data": {
      "text/plain": [
       "Built-up/Urban    11172\n",
       "natural_vege       2976\n",
       "cropland           2724\n",
       "water               444\n",
       "non-Vegetated        84\n",
       "Name: LC_Type5, dtype: int64"
      ]
     },
     "execution_count": 473,
     "metadata": {},
     "output_type": "execute_result"
    }
   ],
   "source": [
    "#master1['LC_Type5'] = master1['LC_Type2'].apply(gen_LC5)\n",
    "master1['LC_Type5'].value_counts(dropna=False)"
   ]
  },
  {
   "cell_type": "code",
   "execution_count": 474,
   "metadata": {},
   "outputs": [],
   "source": [
    "master1['DD_sq'] = master1['DD_monthly'] ** 2"
   ]
  },
  {
   "cell_type": "code",
   "execution_count": 475,
   "metadata": {
    "scrolled": true
   },
   "outputs": [
    {
     "data": {
      "text/plain": [
       "Index(['ID', 'month', 'elec_use', 'elec_bill', 'Month', 'serial', 'province',\n",
       "       'city', 'county', 'zipcode', 'respondent', 'latitude', 'longitude',\n",
       "       'fsize', 'income', 'rltn_to_HoH', 'sex', 'birthyr', 'employment',\n",
       "       'employer', 'occupation', 'sector', 'ethnicity', 'edu_lvl', 'edu_yrs',\n",
       "       'mths_at_home', 'urban', 'bldlvl', 'level', 'stories', 'moveinyr',\n",
       "       'moveinmth', 'daystyd', 'own', 'owntyp', 'bltyr', 'wall', 'roof',\n",
       "       'height', 'size', 'size2', 'bathroom', 'balcony', 'newwdw', 'window_D',\n",
       "       'wall_D', 'insltn_D', 'bsmt_D', 'attic_D', 'garage_D', 'dlgt_w',\n",
       "       'dlgt_s', 'DD_monthly', 'goodday_count', 'LC_Type1', 'LC_Type2',\n",
       "       'NonTree_Vege', 'NonVege', 'Tree_Cover', 'is_north', 'is_south',\n",
       "       'summer', 'is_summer', 'new', 'is_new', 'sf', 'Vege_Cover', 'LC_Type2s',\n",
       "       'LC_Type3', 'LC_Type4', 'LC_Type5', 'DD_sq'],\n",
       "      dtype='object')"
      ]
     },
     "execution_count": 475,
     "metadata": {},
     "output_type": "execute_result"
    }
   ],
   "source": [
    "master1.columns"
   ]
  },
  {
   "cell_type": "code",
   "execution_count": 476,
   "metadata": {},
   "outputs": [],
   "source": [
    "# gen m_elec_use=0\n",
    "# replace m_elec_use=1 if elec_use==.\n",
    "\n",
    "# by ID: gen m_elec_use_sum = sum(m_elec_use)\n",
    "# by ID: egen m_elec_use_tot = total(m_elec_use)\n",
    "# order m_elec_use m_elec_use_sum m_elec_use_tot, after (elec_use)"
   ]
  },
  {
   "cell_type": "code",
   "execution_count": 477,
   "metadata": {},
   "outputs": [],
   "source": [
    "master1.to_csv('master1.csv')"
   ]
  },
  {
   "cell_type": "markdown",
   "metadata": {},
   "source": [
    "#### clean up `city` name"
   ]
  },
  {
   "cell_type": "markdown",
   "metadata": {},
   "source": [
    "first, create new column `city_` `county_` to store cleaned up city and county names"
   ]
  },
  {
   "cell_type": "code",
   "execution_count": 478,
   "metadata": {},
   "outputs": [],
   "source": [
    "master1['city_'] = master1.city\n",
    "master1['county_'] = master1.county"
   ]
  },
  {
   "cell_type": "code",
   "execution_count": 479,
   "metadata": {},
   "outputs": [],
   "source": [
    "prov = ['上海', '北京', '天津', '重庆']\n",
    "\n",
    "for i in master1.index:\n",
    "    if master1.loc[i,'county'] == '':\n",
    "        master1.loc[i,'county_'] = master1.loc[i,'city']\n",
    "    if master1.loc[i,'province'] in prov:\n",
    "        master1.loc[i,'city_'] = master1.loc[i,'province']"
   ]
  },
  {
   "cell_type": "code",
   "execution_count": 578,
   "metadata": {},
   "outputs": [
    {
     "name": "stdout",
     "output_type": "stream",
     "text": [
      "    province  city county city_\n",
      "ID                             \n",
      "259       重庆  九龙坡区    谢家湾    重庆\n",
      "264       重庆  九龙坡区    石新路    重庆\n",
      "267       重庆  沙坪坝区   重庆大学    重庆\n"
     ]
    }
   ],
   "source": [
    "print(master1[master1['province'] == '重庆'].groupby('ID')[['province','city','county','city_']].last().loc[(259,264,267),:])"
   ]
  },
  {
   "cell_type": "code",
   "execution_count": 581,
   "metadata": {
    "scrolled": false
   },
   "outputs": [
    {
     "name": "stdout",
     "output_type": "stream",
     "text": [
      "     province  city county city_ county_\n",
      "ID                                      \n",
      "169        上海   上海市    长宁区    上海     长宁区\n",
      "170        上海   上海市    长宁区    上海     长宁区\n",
      "171        上海   上海市    长宁区    上海     长宁区\n",
      "172        上海   上海市    长宁区    上海     长宁区\n",
      "173        上海   上海市    长宁区    上海     长宁区\n",
      "...       ...   ...    ...   ...     ...\n",
      "1122       上海    浦东           上海      浦东\n",
      "1123       上海                 上海        \n",
      "1124       上海  浦东新区           上海    浦东新区\n",
      "1125       上海   虹口区           上海     虹口区\n",
      "1126       上海   长宁区           上海     长宁区\n",
      "\n",
      "[66 rows x 5 columns]\n",
      "     province city county city_ county_\n",
      "ID                                     \n",
      "27         北京   北京    海淀区    北京     海淀区\n",
      "149        北京   北京    顺义区    北京     顺义区\n",
      "152        北京   北京    顺义区    北京     顺义区\n",
      "153        北京   北京    顺义区    北京     顺义区\n",
      "154        北京   北京    顺义区    北京     顺义区\n",
      "155        北京   北京    顺义区    北京     顺义区\n",
      "156        北京   北京    顺义区    北京     顺义区\n",
      "157        北京   北京    顺义区    北京     顺义区\n",
      "159        北京   北京    顺义区    北京     顺义区\n",
      "160        北京   北京    顺义区    北京     顺义区\n",
      "161        北京   北京    顺义区    北京     顺义区\n",
      "162        北京   北京    顺义区    北京     顺义区\n",
      "163        北京   北京    顺义区    北京     顺义区\n",
      "164        北京   北京    顺义区    北京     顺义区\n",
      "165        北京   北京    顺义区    北京     顺义区\n",
      "166        北京   北京    顺义区    北京     顺义区\n",
      "167        北京   北京    顺义区    北京     顺义区\n",
      "168        北京   北京    顺义区    北京     顺义区\n",
      "728        北京   北京           北京      北京\n",
      "735        北京  西城区           北京     西城区\n",
      "834        北京  顺义区           北京     顺义区\n",
      "836        北京  朝阳区           北京     朝阳区\n",
      "837        北京  海淀区           北京     海淀区\n",
      "838        北京  密云区           北京     密云区\n",
      "839        北京  朝阳区           北京     朝阳区\n",
      "841        北京  东城区           北京     东城区\n",
      "1015       北京   朝阳           北京      朝阳\n",
      "1016       北京   朝阳           北京      朝阳\n",
      "1017       北京   朝阳           北京      朝阳\n",
      "1018       北京   朝阳           北京      朝阳\n",
      "1019       北京   朝阳           北京      朝阳\n",
      "1020       北京   朝阳           北京      朝阳\n",
      "1022       北京  通州区           北京     通州区\n",
      "1023       北京  通州区           北京     通州区\n",
      "1024       北京   朝阳           北京      朝阳\n",
      "1025       北京  通州区           北京     通州区\n",
      "1026       北京  通州区           北京     通州区\n",
      "1027       北京  通州区           北京     通州区\n",
      "1028       北京  通州区           北京     通州区\n",
      "1029       北京  通州区           北京     通州区\n",
      "1030       北京  通州区           北京     通州区\n",
      "1032       北京  通州区           北京     通州区\n",
      "1086       北京   通州           北京      通州\n",
      "1100       北京   通州           北京      通州\n",
      "1101       北京   通州           北京      通州\n",
      "1102       北京   通州           北京      通州\n",
      "1103       北京   通州           北京      通州\n",
      "1104       北京  丰台区           北京     丰台区\n",
      "1105       北京  丰台区           北京     丰台区\n",
      "1430       北京  海淀区           北京     海淀区\n",
      "1431       北京  海淀区           北京     海淀区\n",
      "1432       北京  海淀区           北京     海淀区\n",
      "1433       北京   昌平           北京      昌平\n",
      "    province city county city_ county_\n",
      "ID                                    \n",
      "667       天津  津南区           天津     津南区\n",
      "668       天津  津南区           天津     津南区\n",
      "669       天津  津南区           天津     津南区\n",
      "670       天津  津南区           天津     津南区\n",
      "671       天津  津南区           天津     津南区\n",
      "672       天津  津南区           天津     津南区\n",
      "673       天津  津南区           天津     津南区\n",
      "674       天津  津南区           天津     津南区\n",
      "675       天津  津南区           天津     津南区\n",
      "676       天津  津南区           天津     津南区\n",
      "677       天津  津南区           天津     津南区\n",
      "678       天津  津南区           天津     津南区\n",
      "679       天津  津南区           天津     津南区\n",
      "680       天津  津南区           天津     津南区\n",
      "681       天津  津南区           天津     津南区\n",
      "682       天津  津南区           天津     津南区\n",
      "683       天津  津南区           天津     津南区\n",
      "684       天津  津南区           天津     津南区\n",
      "685       天津  津南区           天津     津南区\n",
      "686       天津  津南区           天津     津南区\n",
      "    province  city county city_ county_\n",
      "ID                                     \n",
      "259       重庆  九龙坡区    谢家湾    重庆     谢家湾\n",
      "260       重庆  九龙坡区    谢家湾    重庆     谢家湾\n",
      "261       重庆  沙坪坝区    沙南街    重庆     沙南街\n",
      "262       重庆  九龙坡区    谢家湾    重庆     谢家湾\n",
      "263       重庆  九龙坡区    谢家湾    重庆     谢家湾\n",
      "264       重庆  九龙坡区    石新路    重庆     石新路\n",
      "265       重庆   江北区    观音桥    重庆     观音桥\n",
      "266       重庆   江北区    大石坝    重庆     大石坝\n",
      "267       重庆  沙坪坝区   重庆大学    重庆    重庆大学\n",
      "268       重庆   渝北区    新南璐    重庆     新南璐\n",
      "368       重庆   北碚区           重庆     北碚区\n",
      "369       重庆   北碚区           重庆     北碚区\n",
      "370       重庆   北碚区           重庆     北碚区\n",
      "371       重庆   北碚区           重庆     北碚区\n",
      "372       重庆   北碚区           重庆     北碚区\n",
      "373       重庆   北碚区           重庆     北碚区\n",
      "374       重庆   北碚区           重庆     北碚区\n",
      "375       重庆   北碚区           重庆     北碚区\n",
      "376       重庆   北碚区           重庆     北碚区\n",
      "377       重庆   北碚区           重庆     北碚区\n",
      "378       重庆   北碚区           重庆     北碚区\n",
      "379       重庆   北碚区           重庆     北碚区\n",
      "380       重庆   北碚区           重庆     北碚区\n",
      "381       重庆   北碚区           重庆     北碚区\n",
      "382       重庆   北碚区           重庆     北碚区\n",
      "383       重庆   北碚区           重庆     北碚区\n",
      "384       重庆   北碚区           重庆     北碚区\n",
      "385       重庆   北碚区           重庆     北碚区\n",
      "386       重庆   北碚区           重庆     北碚区\n",
      "387       重庆   北碚区           重庆     北碚区\n"
     ]
    }
   ],
   "source": [
    "for i in ['上海', '北京', '天津', '重庆']:\n",
    "    print(master1[master1['province'] == i].groupby('ID')[['province','city','county','city_','county_']].first())"
   ]
  },
  {
   "cell_type": "code",
   "execution_count": 577,
   "metadata": {},
   "outputs": [
    {
     "data": {
      "text/html": [
       "<div>\n",
       "<style scoped>\n",
       "    .dataframe tbody tr th:only-of-type {\n",
       "        vertical-align: middle;\n",
       "    }\n",
       "\n",
       "    .dataframe tbody tr th {\n",
       "        vertical-align: top;\n",
       "    }\n",
       "\n",
       "    .dataframe thead th {\n",
       "        text-align: right;\n",
       "    }\n",
       "</style>\n",
       "<table border=\"1\" class=\"dataframe\">\n",
       "  <thead>\n",
       "    <tr style=\"text-align: right;\">\n",
       "      <th></th>\n",
       "      <th></th>\n",
       "      <th>province</th>\n",
       "      <th>city</th>\n",
       "      <th>county</th>\n",
       "      <th>city_</th>\n",
       "      <th>county_</th>\n",
       "    </tr>\n",
       "    <tr>\n",
       "      <th>ID</th>\n",
       "      <th>month</th>\n",
       "      <th></th>\n",
       "      <th></th>\n",
       "      <th></th>\n",
       "      <th></th>\n",
       "      <th></th>\n",
       "    </tr>\n",
       "  </thead>\n",
       "  <tbody>\n",
       "    <tr>\n",
       "      <th rowspan=\"5\" valign=\"top\">1</th>\n",
       "      <th>1</th>\n",
       "      <td>广西</td>\n",
       "      <td>玉林市</td>\n",
       "      <td>容县</td>\n",
       "      <td>玉林市</td>\n",
       "      <td>容县</td>\n",
       "    </tr>\n",
       "    <tr>\n",
       "      <th>2</th>\n",
       "      <td>广西</td>\n",
       "      <td>玉林市</td>\n",
       "      <td>容县</td>\n",
       "      <td>玉林市</td>\n",
       "      <td>容县</td>\n",
       "    </tr>\n",
       "    <tr>\n",
       "      <th>3</th>\n",
       "      <td>广西</td>\n",
       "      <td>玉林市</td>\n",
       "      <td>容县</td>\n",
       "      <td>玉林市</td>\n",
       "      <td>容县</td>\n",
       "    </tr>\n",
       "    <tr>\n",
       "      <th>4</th>\n",
       "      <td>广西</td>\n",
       "      <td>玉林市</td>\n",
       "      <td>容县</td>\n",
       "      <td>玉林市</td>\n",
       "      <td>容县</td>\n",
       "    </tr>\n",
       "    <tr>\n",
       "      <th>5</th>\n",
       "      <td>广西</td>\n",
       "      <td>玉林市</td>\n",
       "      <td>容县</td>\n",
       "      <td>玉林市</td>\n",
       "      <td>容县</td>\n",
       "    </tr>\n",
       "    <tr>\n",
       "      <th>...</th>\n",
       "      <th>...</th>\n",
       "      <td>...</td>\n",
       "      <td>...</td>\n",
       "      <td>...</td>\n",
       "      <td>...</td>\n",
       "      <td>...</td>\n",
       "    </tr>\n",
       "    <tr>\n",
       "      <th rowspan=\"5\" valign=\"top\">1450</th>\n",
       "      <th>8</th>\n",
       "      <td>福建</td>\n",
       "      <td>漳州</td>\n",
       "      <td>芗城</td>\n",
       "      <td>漳州</td>\n",
       "      <td>芗城</td>\n",
       "    </tr>\n",
       "    <tr>\n",
       "      <th>9</th>\n",
       "      <td>福建</td>\n",
       "      <td>漳州</td>\n",
       "      <td>芗城</td>\n",
       "      <td>漳州</td>\n",
       "      <td>芗城</td>\n",
       "    </tr>\n",
       "    <tr>\n",
       "      <th>10</th>\n",
       "      <td>福建</td>\n",
       "      <td>漳州</td>\n",
       "      <td>芗城</td>\n",
       "      <td>漳州</td>\n",
       "      <td>芗城</td>\n",
       "    </tr>\n",
       "    <tr>\n",
       "      <th>11</th>\n",
       "      <td>福建</td>\n",
       "      <td>漳州</td>\n",
       "      <td>芗城</td>\n",
       "      <td>漳州</td>\n",
       "      <td>芗城</td>\n",
       "    </tr>\n",
       "    <tr>\n",
       "      <th>12</th>\n",
       "      <td>福建</td>\n",
       "      <td>漳州</td>\n",
       "      <td>芗城</td>\n",
       "      <td>漳州</td>\n",
       "      <td>芗城</td>\n",
       "    </tr>\n",
       "  </tbody>\n",
       "</table>\n",
       "<p>15102 rows × 5 columns</p>\n",
       "</div>"
      ],
      "text/plain": [
       "           province city county city_ county_\n",
       "ID   month                                   \n",
       "1    1           广西  玉林市     容县   玉林市      容县\n",
       "     2           广西  玉林市     容县   玉林市      容县\n",
       "     3           广西  玉林市     容县   玉林市      容县\n",
       "     4           广西  玉林市     容县   玉林市      容县\n",
       "     5           广西  玉林市     容县   玉林市      容县\n",
       "...             ...  ...    ...   ...     ...\n",
       "1450 8           福建   漳州     芗城    漳州      芗城\n",
       "     9           福建   漳州     芗城    漳州      芗城\n",
       "     10          福建   漳州     芗城    漳州      芗城\n",
       "     11          福建   漳州     芗城    漳州      芗城\n",
       "     12          福建   漳州     芗城    漳州      芗城\n",
       "\n",
       "[15102 rows x 5 columns]"
      ]
     },
     "execution_count": 577,
     "metadata": {},
     "output_type": "execute_result"
    }
   ],
   "source": [
    "master1[['province','city','county','city_','county_']]"
   ]
  },
  {
   "cell_type": "markdown",
   "metadata": {},
   "source": [
    " further clean up `city_` name, consolidate ##市 and ##"
   ]
  },
  {
   "cell_type": "code",
   "execution_count": 482,
   "metadata": {},
   "outputs": [
    {
     "data": {
      "text/plain": [
       "临沂市    624\n",
       "潍坊     564\n",
       "常德市    480\n",
       "衡水市    432\n",
       "玉林市    360\n",
       "      ... \n",
       "承德      12\n",
       "成都      12\n",
       "项城市     12\n",
       "济南      12\n",
       "渝北区     12\n",
       "Name: city, Length: 128, dtype: int64"
      ]
     },
     "execution_count": 482,
     "metadata": {},
     "output_type": "execute_result"
    }
   ],
   "source": [
    "master1.city.value_counts(dropna=False)"
   ]
  },
  {
   "cell_type": "code",
   "execution_count": 483,
   "metadata": {},
   "outputs": [
    {
     "data": {
      "text/plain": [
       "北京     864\n",
       "上海     792\n",
       "临沂市    624\n",
       "潍坊     564\n",
       "常德市    480\n",
       "      ... \n",
       "项城市     12\n",
       "运城      12\n",
       "莆田      12\n",
       "济南      12\n",
       "保定市     12\n",
       "Name: city_, Length: 99, dtype: int64"
      ]
     },
     "execution_count": 483,
     "metadata": {},
     "output_type": "execute_result"
    }
   ],
   "source": [
    "master1.city_.value_counts(dropna=False)"
   ]
  },
  {
   "cell_type": "code",
   "execution_count": 484,
   "metadata": {},
   "outputs": [
    {
     "data": {
      "text/plain": [
       "99"
      ]
     },
     "execution_count": 484,
     "metadata": {},
     "output_type": "execute_result"
    }
   ],
   "source": [
    "city_names = set(master1.city_)\n",
    "len(city_names)"
   ]
  },
  {
   "cell_type": "code",
   "execution_count": 485,
   "metadata": {},
   "outputs": [
    {
     "data": {
      "text/plain": [
       "51"
      ]
     },
     "execution_count": 485,
     "metadata": {},
     "output_type": "execute_result"
    }
   ],
   "source": [
    "city_names_withshi = {i for i in city_names if i.endswith('市')}\n",
    "len(city_names_withshi )"
   ]
  },
  {
   "cell_type": "code",
   "execution_count": 486,
   "metadata": {},
   "outputs": [],
   "source": [
    "city_names_withoutshi = {i.rstrip('市') for i in city_names }"
   ]
  },
  {
   "cell_type": "code",
   "execution_count": 487,
   "metadata": {},
   "outputs": [
    {
     "data": {
      "text/plain": [
       "91"
      ]
     },
     "execution_count": 487,
     "metadata": {},
     "output_type": "execute_result"
    }
   ],
   "source": [
    "len(city_names_withoutshi)"
   ]
  },
  {
   "cell_type": "code",
   "execution_count": 488,
   "metadata": {},
   "outputs": [],
   "source": [
    "city_diff = city_names_withoutshi - city_names "
   ]
  },
  {
   "cell_type": "code",
   "execution_count": 489,
   "metadata": {
    "scrolled": true
   },
   "outputs": [
    {
     "data": {
      "text/plain": [
       "43"
      ]
     },
     "execution_count": 489,
     "metadata": {},
     "output_type": "execute_result"
    }
   ],
   "source": [
    "len(city_diff)  # df.city = df.city.str.rstrip('shi')"
   ]
  },
  {
   "cell_type": "code",
   "execution_count": 490,
   "metadata": {},
   "outputs": [],
   "source": [
    "city_names_withshi_strip = {i.rstrip('市') for i in city_names_withshi}"
   ]
  },
  {
   "cell_type": "code",
   "execution_count": 491,
   "metadata": {},
   "outputs": [],
   "source": [
    "city_dup = city_names_withshi_strip - city_diff "
   ]
  },
  {
   "cell_type": "code",
   "execution_count": 492,
   "metadata": {},
   "outputs": [
    {
     "data": {
      "text/plain": [
       "{'成都', '潍坊', '濮阳', '荆州', '荆门', '衡水', '赤峰', '长春'}"
      ]
     },
     "execution_count": 492,
     "metadata": {},
     "output_type": "execute_result"
    }
   ],
   "source": [
    "city_dup"
   ]
  },
  {
   "cell_type": "code",
   "execution_count": 493,
   "metadata": {},
   "outputs": [],
   "source": [
    "# for similar case with '区'\n",
    "city_names_withshi2 = {i for i in city_names if i.endswith('区')}\n",
    "city_names_withoutshi2 = {i.rstrip('区') for i in city_names }\n",
    "city_diff2 = city_names_withoutshi2 - city_names \n",
    "city_names_withshi_strip2 = {i.rstrip('区') for i in city_names_withshi2}\n",
    "city_dup2 = city_names_withshi_strip2 - city_diff2 "
   ]
  },
  {
   "cell_type": "code",
   "execution_count": 494,
   "metadata": {},
   "outputs": [
    {
     "data": {
      "text/plain": [
       "set()"
      ]
     },
     "execution_count": 494,
     "metadata": {},
     "output_type": "execute_result"
    }
   ],
   "source": [
    "city_dup2"
   ]
  },
  {
   "cell_type": "code",
   "execution_count": 495,
   "metadata": {},
   "outputs": [],
   "source": [
    "# 黄埔 黄浦区 likely a typo"
   ]
  },
  {
   "cell_type": "code",
   "execution_count": 496,
   "metadata": {},
   "outputs": [],
   "source": [
    "city_name_mapper = {'成都':'成都市', '潍坊':'潍坊市', '濮阳':'濮阳市', '荆州':'荆州市', '荆门':'荆门市', '衡水':'衡水市', \n",
    "                    '赤峰':'赤峰市',\n",
    "                    '长春':'长春市'}"
   ]
  },
  {
   "cell_type": "code",
   "execution_count": 497,
   "metadata": {},
   "outputs": [],
   "source": [
    "master1.city_.replace(city_name_mapper, inplace=True)"
   ]
  },
  {
   "cell_type": "code",
   "execution_count": 498,
   "metadata": {},
   "outputs": [
    {
     "data": {
      "text/plain": [
       "北京     864\n",
       "上海     792\n",
       "潍坊市    756\n",
       "临沂市    624\n",
       "衡水市    576\n",
       "      ... \n",
       "抚州市     12\n",
       "莆田      12\n",
       "东营      12\n",
       "本溪市     12\n",
       "保定市     12\n",
       "Name: city_, Length: 91, dtype: int64"
      ]
     },
     "execution_count": 498,
     "metadata": {},
     "output_type": "execute_result"
    }
   ],
   "source": [
    "master1.city_.value_counts(dropna=False)"
   ]
  },
  {
   "cell_type": "code",
   "execution_count": 499,
   "metadata": {},
   "outputs": [
    {
     "data": {
      "text/plain": [
       "17400"
      ]
     },
     "execution_count": 499,
     "metadata": {},
     "output_type": "execute_result"
    }
   ],
   "source": [
    "master1.city_.value_counts(dropna=False).sum()"
   ]
  },
  {
   "cell_type": "markdown",
   "metadata": {},
   "source": [
    "### Analysis"
   ]
  },
  {
   "cell_type": "markdown",
   "metadata": {},
   "source": [
    "#### Graphs, `Degree Days` Box plot"
   ]
  },
  {
   "cell_type": "code",
   "execution_count": 569,
   "metadata": {},
   "outputs": [
    {
     "data": {
      "text/html": [
       "<div class='tableauPlaceholder' id='viz1583895459344' style='position: relative'><noscript><a href='#'><img alt=' ' src='https:&#47;&#47;public.tableau.com&#47;static&#47;images&#47;6Z&#47;6ZS9S6WKB&#47;1_rss.png' style='border: none' /></a></noscript><object class='tableauViz'  style='display:none;'><param name='host_url' value='https%3A%2F%2Fpublic.tableau.com%2F' /> <param name='embed_code_version' value='3' /> <param name='path' value='shared&#47;6ZS9S6WKB' /> <param name='toolbar' value='yes' /><param name='static_image' value='https:&#47;&#47;public.tableau.com&#47;static&#47;images&#47;6Z&#47;6ZS9S6WKB&#47;1.png' /> <param name='animate_transition' value='yes' /><param name='display_static_image' value='yes' /><param name='display_spinner' value='yes' /><param name='display_overlay' value='yes' /><param name='display_count' value='yes' /><param name='filter' value='publish=yes' /></object></div>                <script type='text/javascript'>                    var divElement = document.getElementById('viz1583895459344');                    var vizElement = divElement.getElementsByTagName('object')[0];                    vizElement.style.width='100%';vizElement.style.height=(divElement.offsetWidth*0.75)+'px';                    var scriptElement = document.createElement('script');                    scriptElement.src = 'https://public.tableau.com/javascripts/api/viz_v1.js';                    vizElement.parentNode.insertBefore(scriptElement, vizElement);                </script>\n"
      ],
      "text/plain": [
       "<IPython.core.display.HTML object>"
      ]
     },
     "metadata": {},
     "output_type": "display_data"
    }
   ],
   "source": [
    "%%HTML\n",
    "<div class='tableauPlaceholder' id='viz1583895459344' style='position: relative'><noscript><a href='#'><img alt=' ' src='https:&#47;&#47;public.tableau.com&#47;static&#47;images&#47;6Z&#47;6ZS9S6WKB&#47;1_rss.png' style='border: none' /></a></noscript><object class='tableauViz'  style='display:none;'><param name='host_url' value='https%3A%2F%2Fpublic.tableau.com%2F' /> <param name='embed_code_version' value='3' /> <param name='path' value='shared&#47;6ZS9S6WKB' /> <param name='toolbar' value='yes' /><param name='static_image' value='https:&#47;&#47;public.tableau.com&#47;static&#47;images&#47;6Z&#47;6ZS9S6WKB&#47;1.png' /> <param name='animate_transition' value='yes' /><param name='display_static_image' value='yes' /><param name='display_spinner' value='yes' /><param name='display_overlay' value='yes' /><param name='display_count' value='yes' /><param name='filter' value='publish=yes' /></object></div>                <script type='text/javascript'>                    var divElement = document.getElementById('viz1583895459344');                    var vizElement = divElement.getElementsByTagName('object')[0];                    vizElement.style.width='100%';vizElement.style.height=(divElement.offsetWidth*0.75)+'px';                    var scriptElement = document.createElement('script');                    scriptElement.src = 'https://public.tableau.com/javascripts/api/viz_v1.js';                    vizElement.parentNode.insertBefore(scriptElement, vizElement);                </script>"
   ]
  },
  {
   "cell_type": "code",
   "execution_count": 500,
   "metadata": {
    "scrolled": true
   },
   "outputs": [],
   "source": [
    "# master1 = master1.reset_index()"
   ]
  },
  {
   "cell_type": "code",
   "execution_count": 501,
   "metadata": {
    "scrolled": true
   },
   "outputs": [
    {
     "data": {
      "text/plain": [
       "<matplotlib.axes._subplots.AxesSubplot at 0x1c3afbdc50>"
      ]
     },
     "execution_count": 501,
     "metadata": {},
     "output_type": "execute_result"
    },
    {
     "data": {
      "image/png": "[encoded data removed]",
      "text/plain": [
       "<Figure size 432x288 with 1 Axes>"
      ]
     },
     "metadata": {
      "needs_background": "light"
     },
     "output_type": "display_data"
    }
   ],
   "source": [
    "master1.pivot_table(values='DD_monthly',\n",
    "    index='ID',\n",
    "    columns=['month']).plot(kind='box')"
   ]
  },
  {
   "cell_type": "code",
   "execution_count": 570,
   "metadata": {},
   "outputs": [
    {
     "data": {
      "text/plain": [
       "<matplotlib.axes._subplots.AxesSubplot at 0x1c4067a1d0>"
      ]
     },
     "execution_count": 570,
     "metadata": {},
     "output_type": "execute_result"
    },
    {
     "data": {
      "image/png": "[encoded data removed]",
      "text/plain": [
       "<Figure size 432x288 with 1 Axes>"
      ]
     },
     "metadata": {
      "needs_background": "light"
     },
     "output_type": "display_data"
    }
   ],
   "source": [
    "master1.pivot_table(values='elec_use',\n",
    "    index='ID',\n",
    "    columns=['month']).plot(kind='box')"
   ]
  },
  {
   "cell_type": "code",
   "execution_count": 502,
   "metadata": {},
   "outputs": [
    {
     "data": {
      "text/plain": [
       "<matplotlib.axes._subplots.AxesSubplot at 0x1c3c4a7e80>"
      ]
     },
     "execution_count": 502,
     "metadata": {},
     "output_type": "execute_result"
    },
    {
     "data": {
      "image/png": "[encoded data removed]",
      "text/plain": [
       "<Figure size 432x288 with 1 Axes>"
      ]
     },
     "metadata": {
      "needs_background": "light"
     },
     "output_type": "display_data"
    }
   ],
   "source": [
    "master1.pivot_table(values='elec_use',\n",
    "    index='ID',\n",
    "    columns=['month']).plot(kind='box')"
   ]
  },
  {
   "cell_type": "code",
   "execution_count": 280,
   "metadata": {},
   "outputs": [
    {
     "data": {
      "text/plain": [
       "array([[<matplotlib.axes._subplots.AxesSubplot object at 0x1c288cbcc0>,\n",
       "        <matplotlib.axes._subplots.AxesSubplot object at 0x1c316214e0>],\n",
       "       [<matplotlib.axes._subplots.AxesSubplot object at 0x1c2ecdac88>,\n",
       "        <matplotlib.axes._subplots.AxesSubplot object at 0x1c2dced898>],\n",
       "       [<matplotlib.axes._subplots.AxesSubplot object at 0x1c2dcf2518>,\n",
       "        <matplotlib.axes._subplots.AxesSubplot object at 0x1c2ec2aa90>]],\n",
       "      dtype=object)"
      ]
     },
     "execution_count": 280,
     "metadata": {},
     "output_type": "execute_result"
    },
    {
     "data": {
      "image/png": "[encoded data removed]",
      "text/plain": [
       "<Figure size 864x720 with 6 Axes>"
      ]
     },
     "metadata": {
      "needs_background": "light"
     },
     "output_type": "display_data"
    }
   ],
   "source": [
    "master1.hist(column='Tree_Cover', by='LC_Type3', grid=False, figsize=(12,10), layout=(3,2),\n",
    "             sharex=True, color='#86bf91', zorder=2, rwidth=0.9)"
   ]
  },
  {
   "cell_type": "code",
   "execution_count": 503,
   "metadata": {},
   "outputs": [
    {
     "data": {
      "text/plain": [
       "<matplotlib.axes._subplots.AxesSubplot at 0x1c3c4a7048>"
      ]
     },
     "execution_count": 503,
     "metadata": {},
     "output_type": "execute_result"
    },
    {
     "data": {
      "image/png": "[encoded data removed]",
      "text/plain": [
       "<Figure size 432x288 with 1 Axes>"
      ]
     },
     "metadata": {
      "needs_background": "light"
     },
     "output_type": "display_data"
    }
   ],
   "source": [
    "master1.plot(x='elec_use', y='DD_monthly', kind='scatter')"
   ]
  },
  {
   "cell_type": "code",
   "execution_count": 504,
   "metadata": {
    "scrolled": true
   },
   "outputs": [
    {
     "data": {
      "text/plain": [
       "<matplotlib.axes._subplots.AxesSubplot at 0x1c405b4860>"
      ]
     },
     "execution_count": 504,
     "metadata": {},
     "output_type": "execute_result"
    },
    {
     "data": {
      "image/png": "[encoded data removed]",
      "text/plain": [
       "<Figure size 432x288 with 1 Axes>"
      ]
     },
     "metadata": {
      "needs_background": "light"
     },
     "output_type": "display_data"
    }
   ],
   "source": [
    "master1[~master1.is_summer].plot(x='elec_use', y='DD_monthly', kind='scatter')"
   ]
  },
  {
   "cell_type": "code",
   "execution_count": 505,
   "metadata": {
    "scrolled": true
   },
   "outputs": [
    {
     "data": {
      "text/plain": [
       "<matplotlib.axes._subplots.AxesSubplot at 0x1c405a0898>"
      ]
     },
     "execution_count": 505,
     "metadata": {},
     "output_type": "execute_result"
    },
    {
     "data": {
      "image/png": "[encoded data removed]",
      "text/plain": [
       "<Figure size 432x288 with 1 Axes>"
      ]
     },
     "metadata": {
      "needs_background": "light"
     },
     "output_type": "display_data"
    }
   ],
   "source": [
    "master1.Tree_Cover.hist(grid=True, bins=20)"
   ]
  },
  {
   "cell_type": "markdown",
   "metadata": {},
   "source": [
    "#### outliers in `elec_use`"
   ]
  },
  {
   "cell_type": "code",
   "execution_count": 506,
   "metadata": {},
   "outputs": [
    {
     "data": {
      "text/plain": [
       "1195.0359"
      ]
     },
     "execution_count": 506,
     "metadata": {},
     "output_type": "execute_result"
    }
   ],
   "source": [
    "master1.elec_use.quantile(.999)"
   ]
  },
  {
   "cell_type": "code",
   "execution_count": 507,
   "metadata": {},
   "outputs": [
    {
     "data": {
      "text/html": [
       "<div>\n",
       "<style scoped>\n",
       "    .dataframe tbody tr th:only-of-type {\n",
       "        vertical-align: middle;\n",
       "    }\n",
       "\n",
       "    .dataframe tbody tr th {\n",
       "        vertical-align: top;\n",
       "    }\n",
       "\n",
       "    .dataframe thead th {\n",
       "        text-align: right;\n",
       "    }\n",
       "</style>\n",
       "<table border=\"1\" class=\"dataframe\">\n",
       "  <thead>\n",
       "    <tr style=\"text-align: right;\">\n",
       "      <th></th>\n",
       "      <th>ID</th>\n",
       "      <th>month</th>\n",
       "      <th>elec_use</th>\n",
       "      <th>elec_bill</th>\n",
       "      <th>Month</th>\n",
       "      <th>serial</th>\n",
       "      <th>province</th>\n",
       "      <th>city</th>\n",
       "      <th>county</th>\n",
       "      <th>zipcode</th>\n",
       "      <th>...</th>\n",
       "      <th>is_new</th>\n",
       "      <th>sf</th>\n",
       "      <th>Vege_Cover</th>\n",
       "      <th>LC_Type2s</th>\n",
       "      <th>LC_Type3</th>\n",
       "      <th>LC_Type4</th>\n",
       "      <th>LC_Type5</th>\n",
       "      <th>DD_sq</th>\n",
       "      <th>city_</th>\n",
       "      <th>county_</th>\n",
       "    </tr>\n",
       "  </thead>\n",
       "  <tbody>\n",
       "    <tr>\n",
       "      <th>2335</th>\n",
       "      <td>195</td>\n",
       "      <td>8</td>\n",
       "      <td>9345.0</td>\n",
       "      <td>195.000000</td>\n",
       "      <td>8</td>\n",
       "      <td>2.010202e+17</td>\n",
       "      <td>吉林</td>\n",
       "      <td>白城</td>\n",
       "      <td>镇贵</td>\n",
       "      <td>137300</td>\n",
       "      <td>...</td>\n",
       "      <td>1.0</td>\n",
       "      <td>0.0</td>\n",
       "      <td>38.0</td>\n",
       "      <td>Built-up/Urban</td>\n",
       "      <td>Built-up/Urban</td>\n",
       "      <td>Built-up/Urban</td>\n",
       "      <td>Built-up/Urban</td>\n",
       "      <td>70230.140625</td>\n",
       "      <td>白城</td>\n",
       "      <td>镇贵</td>\n",
       "    </tr>\n",
       "    <tr>\n",
       "      <th>3187</th>\n",
       "      <td>266</td>\n",
       "      <td>8</td>\n",
       "      <td>1545.0</td>\n",
       "      <td>902.590027</td>\n",
       "      <td>8</td>\n",
       "      <td>2.011201e+17</td>\n",
       "      <td>重庆</td>\n",
       "      <td>江北区</td>\n",
       "      <td>大石坝</td>\n",
       "      <td>400021</td>\n",
       "      <td>...</td>\n",
       "      <td>1.0</td>\n",
       "      <td>0.0</td>\n",
       "      <td>86.0</td>\n",
       "      <td>Mixed forest</td>\n",
       "      <td>forest/savanna</td>\n",
       "      <td>vege</td>\n",
       "      <td>natural_vege</td>\n",
       "      <td>85269.187500</td>\n",
       "      <td>重庆</td>\n",
       "      <td>大石坝</td>\n",
       "    </tr>\n",
       "    <tr>\n",
       "      <th>4868</th>\n",
       "      <td>406</td>\n",
       "      <td>9</td>\n",
       "      <td>2641.0</td>\n",
       "      <td>1513.290039</td>\n",
       "      <td>9</td>\n",
       "      <td>2.011201e+17</td>\n",
       "      <td>湖北</td>\n",
       "      <td>武汉市</td>\n",
       "      <td>武昌区</td>\n",
       "      <td>430071</td>\n",
       "      <td>...</td>\n",
       "      <td>1.0</td>\n",
       "      <td>0.0</td>\n",
       "      <td>32.0</td>\n",
       "      <td>Built-up/Urban</td>\n",
       "      <td>Built-up/Urban</td>\n",
       "      <td>Built-up/Urban</td>\n",
       "      <td>Built-up/Urban</td>\n",
       "      <td>42843.546875</td>\n",
       "      <td>武汉市</td>\n",
       "      <td>武昌区</td>\n",
       "    </tr>\n",
       "    <tr>\n",
       "      <th>7873</th>\n",
       "      <td>657</td>\n",
       "      <td>2</td>\n",
       "      <td>1642.0</td>\n",
       "      <td>919.520020</td>\n",
       "      <td>2</td>\n",
       "      <td>2.011201e+17</td>\n",
       "      <td>河南</td>\n",
       "      <td>郑州市</td>\n",
       "      <td>巩义市</td>\n",
       "      <td>451283</td>\n",
       "      <td>...</td>\n",
       "      <td>1.0</td>\n",
       "      <td>1.0</td>\n",
       "      <td>79.0</td>\n",
       "      <td>Cropland</td>\n",
       "      <td>cropland</td>\n",
       "      <td>vege</td>\n",
       "      <td>cropland</td>\n",
       "      <td>320009.656250</td>\n",
       "      <td>郑州市</td>\n",
       "      <td>巩义市</td>\n",
       "    </tr>\n",
       "    <tr>\n",
       "      <th>7987</th>\n",
       "      <td>666</td>\n",
       "      <td>8</td>\n",
       "      <td>1752.0</td>\n",
       "      <td>1432.719971</td>\n",
       "      <td>8</td>\n",
       "      <td>2.011201e+17</td>\n",
       "      <td>河南</td>\n",
       "      <td>郑州市</td>\n",
       "      <td>巩义市</td>\n",
       "      <td>451200</td>\n",
       "      <td>...</td>\n",
       "      <td>1.0</td>\n",
       "      <td>0.0</td>\n",
       "      <td>63.0</td>\n",
       "      <td>Built-up/Urban</td>\n",
       "      <td>Built-up/Urban</td>\n",
       "      <td>Built-up/Urban</td>\n",
       "      <td>Built-up/Urban</td>\n",
       "      <td>54887.246094</td>\n",
       "      <td>郑州市</td>\n",
       "      <td>巩义市</td>\n",
       "    </tr>\n",
       "    <tr>\n",
       "      <th>14529</th>\n",
       "      <td>1211</td>\n",
       "      <td>10</td>\n",
       "      <td>1698.0</td>\n",
       "      <td>183.000000</td>\n",
       "      <td>10</td>\n",
       "      <td>2.011201e+17</td>\n",
       "      <td>安徽</td>\n",
       "      <td>马鞍山</td>\n",
       "      <td>当涂</td>\n",
       "      <td>243100</td>\n",
       "      <td>...</td>\n",
       "      <td>1.0</td>\n",
       "      <td>1.0</td>\n",
       "      <td>35.0</td>\n",
       "      <td>Built-up/Urban</td>\n",
       "      <td>Built-up/Urban</td>\n",
       "      <td>Built-up/Urban</td>\n",
       "      <td>Built-up/Urban</td>\n",
       "      <td>1756.415771</td>\n",
       "      <td>马鞍山</td>\n",
       "      <td>当涂</td>\n",
       "    </tr>\n",
       "    <tr>\n",
       "      <th>15074</th>\n",
       "      <td>1257</td>\n",
       "      <td>3</td>\n",
       "      <td>1529.0</td>\n",
       "      <td>836.169983</td>\n",
       "      <td>3</td>\n",
       "      <td>2.010200e+17</td>\n",
       "      <td>山东</td>\n",
       "      <td>临沂市</td>\n",
       "      <td>兰山区</td>\n",
       "      <td>276003</td>\n",
       "      <td>...</td>\n",
       "      <td>1.0</td>\n",
       "      <td>1.0</td>\n",
       "      <td>64.0</td>\n",
       "      <td>Built-up/Urban</td>\n",
       "      <td>Built-up/Urban</td>\n",
       "      <td>Built-up/Urban</td>\n",
       "      <td>Built-up/Urban</td>\n",
       "      <td>23039.419922</td>\n",
       "      <td>临沂市</td>\n",
       "      <td>兰山区</td>\n",
       "    </tr>\n",
       "  </tbody>\n",
       "</table>\n",
       "<p>7 rows × 74 columns</p>\n",
       "</div>"
      ],
      "text/plain": [
       "         ID  month  elec_use    elec_bill  Month        serial province city  \\\n",
       "2335    195      8    9345.0   195.000000      8  2.010202e+17       吉林   白城   \n",
       "3187    266      8    1545.0   902.590027      8  2.011201e+17       重庆  江北区   \n",
       "4868    406      9    2641.0  1513.290039      9  2.011201e+17       湖北  武汉市   \n",
       "7873    657      2    1642.0   919.520020      2  2.011201e+17       河南  郑州市   \n",
       "7987    666      8    1752.0  1432.719971      8  2.011201e+17       河南  郑州市   \n",
       "14529  1211     10    1698.0   183.000000     10  2.011201e+17       安徽  马鞍山   \n",
       "15074  1257      3    1529.0   836.169983      3  2.010200e+17       山东  临沂市   \n",
       "\n",
       "      county  zipcode  ...  is_new   sf  Vege_Cover       LC_Type2s  \\\n",
       "2335      镇贵   137300  ...     1.0  0.0        38.0  Built-up/Urban   \n",
       "3187     大石坝   400021  ...     1.0  0.0        86.0    Mixed forest   \n",
       "4868     武昌区   430071  ...     1.0  0.0        32.0  Built-up/Urban   \n",
       "7873     巩义市   451283  ...     1.0  1.0        79.0        Cropland   \n",
       "7987     巩义市   451200  ...     1.0  0.0        63.0  Built-up/Urban   \n",
       "14529     当涂   243100  ...     1.0  1.0        35.0  Built-up/Urban   \n",
       "15074    兰山区   276003  ...     1.0  1.0        64.0  Built-up/Urban   \n",
       "\n",
       "             LC_Type3        LC_Type4        LC_Type5          DD_sq city_  \\\n",
       "2335   Built-up/Urban  Built-up/Urban  Built-up/Urban   70230.140625    白城   \n",
       "3187   forest/savanna            vege    natural_vege   85269.187500    重庆   \n",
       "4868   Built-up/Urban  Built-up/Urban  Built-up/Urban   42843.546875   武汉市   \n",
       "7873         cropland            vege        cropland  320009.656250   郑州市   \n",
       "7987   Built-up/Urban  Built-up/Urban  Built-up/Urban   54887.246094   郑州市   \n",
       "14529  Built-up/Urban  Built-up/Urban  Built-up/Urban    1756.415771   马鞍山   \n",
       "15074  Built-up/Urban  Built-up/Urban  Built-up/Urban   23039.419922   临沂市   \n",
       "\n",
       "      county_  \n",
       "2335       镇贵  \n",
       "3187      大石坝  \n",
       "4868      武昌区  \n",
       "7873      巩义市  \n",
       "7987      巩义市  \n",
       "14529      当涂  \n",
       "15074     兰山区  \n",
       "\n",
       "[7 rows x 74 columns]"
      ]
     },
     "execution_count": 507,
     "metadata": {},
     "output_type": "execute_result"
    }
   ],
   "source": [
    "master1[master1.elec_use > 1500]"
   ]
  },
  {
   "cell_type": "code",
   "execution_count": 508,
   "metadata": {},
   "outputs": [
    {
     "data": {
      "text/plain": [
       "<matplotlib.axes._subplots.AxesSubplot at 0x1c3c24d9b0>"
      ]
     },
     "execution_count": 508,
     "metadata": {},
     "output_type": "execute_result"
    },
    {
     "data": {
      "image/png": "[encoded data removed]",
      "text/plain": [
       "<Figure size 432x288 with 1 Axes>"
      ]
     },
     "metadata": {
      "needs_background": "light"
     },
     "output_type": "display_data"
    }
   ],
   "source": [
    "master1.elec_use.hist(grid=True, bins=100)"
   ]
  },
  {
   "cell_type": "code",
   "execution_count": 509,
   "metadata": {},
   "outputs": [
    {
     "data": {
      "text/plain": [
       "<matplotlib.axes._subplots.AxesSubplot at 0x1c3e669390>"
      ]
     },
     "execution_count": 509,
     "metadata": {},
     "output_type": "execute_result"
    },
    {
     "data": {
      "image/png": "[encoded data removed]",
      "text/plain": [
       "<Figure size 432x288 with 1 Axes>"
      ]
     },
     "metadata": {
      "needs_background": "light"
     },
     "output_type": "display_data"
    }
   ],
   "source": [
    "master1.plot(x='elec_use', y='elec_bill', kind='scatter')"
   ]
  },
  {
   "cell_type": "code",
   "execution_count": 510,
   "metadata": {},
   "outputs": [
    {
     "data": {
      "text/plain": [
       "15104"
      ]
     },
     "execution_count": 510,
     "metadata": {},
     "output_type": "execute_result"
    }
   ],
   "source": [
    "master1['elec_use'].count()"
   ]
  },
  {
   "cell_type": "code",
   "execution_count": 511,
   "metadata": {},
   "outputs": [],
   "source": [
    "master1_copy = master1.copy()\n",
    "master1 = master1[master1['elec_use']<2000]\n",
    "# note also dropped all NaNs"
   ]
  },
  {
   "cell_type": "code",
   "execution_count": 512,
   "metadata": {},
   "outputs": [
    {
     "data": {
      "text/plain": [
       "<matplotlib.axes._subplots.AxesSubplot at 0x1c3f64da58>"
      ]
     },
     "execution_count": 512,
     "metadata": {},
     "output_type": "execute_result"
    },
    {
     "data": {
      "image/png": "[encoded data removed]",
      "text/plain": [
       "<Figure size 432x288 with 1 Axes>"
      ]
     },
     "metadata": {
      "needs_background": "light"
     },
     "output_type": "display_data"
    }
   ],
   "source": [
    "master1.elec_use.hist(grid=True, bins=100)"
   ]
  },
  {
   "cell_type": "code",
   "execution_count": 513,
   "metadata": {},
   "outputs": [
    {
     "data": {
      "text/plain": [
       "Index(['ID', 'month', 'elec_use', 'elec_bill', 'Month', 'serial', 'province',\n",
       "       'city', 'county', 'zipcode', 'respondent', 'latitude', 'longitude',\n",
       "       'fsize', 'income', 'rltn_to_HoH', 'sex', 'birthyr', 'employment',\n",
       "       'employer', 'occupation', 'sector', 'ethnicity', 'edu_lvl', 'edu_yrs',\n",
       "       'mths_at_home', 'urban', 'bldlvl', 'level', 'stories', 'moveinyr',\n",
       "       'moveinmth', 'daystyd', 'own', 'owntyp', 'bltyr', 'wall', 'roof',\n",
       "       'height', 'size', 'size2', 'bathroom', 'balcony', 'newwdw', 'window_D',\n",
       "       'wall_D', 'insltn_D', 'bsmt_D', 'attic_D', 'garage_D', 'dlgt_w',\n",
       "       'dlgt_s', 'DD_monthly', 'goodday_count', 'LC_Type1', 'LC_Type2',\n",
       "       'NonTree_Vege', 'NonVege', 'Tree_Cover', 'is_north', 'is_south',\n",
       "       'summer', 'is_summer', 'new', 'is_new', 'sf', 'Vege_Cover', 'LC_Type2s',\n",
       "       'LC_Type3', 'LC_Type4', 'LC_Type5', 'DD_sq', 'city_', 'county_'],\n",
       "      dtype='object')"
      ]
     },
     "execution_count": 513,
     "metadata": {},
     "output_type": "execute_result"
    }
   ],
   "source": [
    "master1.columns"
   ]
  },
  {
   "cell_type": "markdown",
   "metadata": {},
   "source": [
    "#####  log transformation"
   ]
  },
  {
   "cell_type": "code",
   "execution_count": 514,
   "metadata": {},
   "outputs": [
    {
     "name": "stderr",
     "output_type": "stream",
     "text": [
      "/Users/JK/anaconda3/lib/python3.7/site-packages/ipykernel_launcher.py:1: SettingWithCopyWarning: \n",
      "A value is trying to be set on a copy of a slice from a DataFrame.\n",
      "Try using .loc[row_indexer,col_indexer] = value instead\n",
      "\n",
      "See the caveats in the documentation: https://pandas.pydata.org/pandas-docs/stable/user_guide/indexing.html#returning-a-view-versus-a-copy\n",
      "  \"\"\"Entry point for launching an IPython kernel.\n"
     ]
    }
   ],
   "source": [
    "master1['elec_ln'] = np.log1p(master1.elec_use)"
   ]
  },
  {
   "cell_type": "code",
   "execution_count": 516,
   "metadata": {
    "scrolled": true
   },
   "outputs": [
    {
     "data": {
      "text/plain": [
       "<matplotlib.axes._subplots.AxesSubplot at 0x1c376f59e8>"
      ]
     },
     "execution_count": 516,
     "metadata": {},
     "output_type": "execute_result"
    },
    {
     "data": {
      "image/png": "[encoded data removed]",
      "text/plain": [
       "<Figure size 432x288 with 1 Axes>"
      ]
     },
     "metadata": {
      "needs_background": "light"
     },
     "output_type": "display_data"
    }
   ],
   "source": [
    "master1['elec_ln'].hist(grid=True, bins=100)"
   ]
  },
  {
   "cell_type": "code",
   "execution_count": 164,
   "metadata": {},
   "outputs": [],
   "source": [
    "master1.to_csv('master1.csv')"
   ]
  },
  {
   "cell_type": "markdown",
   "metadata": {},
   "source": [
    "### Models"
   ]
  },
  {
   "cell_type": "code",
   "execution_count": 165,
   "metadata": {},
   "outputs": [],
   "source": [
    "master = pd.read_stata('master.dta')\n"
   ]
  },
  {
   "cell_type": "code",
   "execution_count": 166,
   "metadata": {
    "scrolled": true
   },
   "outputs": [
    {
     "data": {
      "text/plain": [
       "Index(['ID', 'month', 'elec_use', 'm_elec_use', 'm_elec_use_sum',\n",
       "       'm_elec_use_tot', 'elec_bill', 'price', 'serial', 'province', 'city',\n",
       "       'county', 'latitude', 'longitude', 'fsize', 'income', 'urban', 'a2_1_a',\n",
       "       'a2_1_b', 'a2_1_c', 'a2_1_d', 'a2_1_e', 'a2_1_f', 'a2_1_g', 'a2_1_h',\n",
       "       'a2_1_i', 'a2_1_j', 'a2_1_k', 'b2', 'b3', 'b4', 'b5', 'b5a', 'b6', 'b7',\n",
       "       'b8', 'b9', 'new', 'b10', 'b11', 'b12', 'b13', 'b14', 'b16', 'b16a',\n",
       "       'b16b', 'b16c', 'b17', 'b17a', 'b17b', 'b18', 'b19', 'b19a', 'b19b',\n",
       "       'b20', 'b20a', 'b20b', 'b21', 'b21a', 'b21b', 'b22', 'b22a', 'b22b',\n",
       "       'b22c', 'b22d', 'b23', 'b23a', 'b23b', 'b23c', 'b23d', 'b24', 'b24a',\n",
       "       'b24b', 'b24c', 'b24d', 'b24e', 'b24f', 'b25', 'b26', 'DD_monthly',\n",
       "       'goodday_count', 'LC_Type1', 'LC_Type2', 'LC_Type3', 'LC_Type5',\n",
       "       'LC_Type4', 'NonTree_Vege', 'NonVege', 'Tree_Cover', 'province_n',\n",
       "       'north', 'summer', 'sf', 'DD_sq', 'm_elec_use_temp', '_est_est1'],\n",
       "      dtype='object')"
      ]
     },
     "execution_count": 166,
     "metadata": {},
     "output_type": "execute_result"
    }
   ],
   "source": [
    "master.columns"
   ]
  },
  {
   "cell_type": "code",
   "execution_count": 167,
   "metadata": {},
   "outputs": [],
   "source": [
    "master['LC_Type3s'] = master['LC_Type2'].replace(LC_Type3_mapper)"
   ]
  },
  {
   "cell_type": "code",
   "execution_count": 168,
   "metadata": {},
   "outputs": [
    {
     "data": {
      "text/html": [
       "<div>\n",
       "<style scoped>\n",
       "    .dataframe tbody tr th:only-of-type {\n",
       "        vertical-align: middle;\n",
       "    }\n",
       "\n",
       "    .dataframe tbody tr th {\n",
       "        vertical-align: top;\n",
       "    }\n",
       "\n",
       "    .dataframe thead th {\n",
       "        text-align: right;\n",
       "    }\n",
       "</style>\n",
       "<table border=\"1\" class=\"dataframe\">\n",
       "  <thead>\n",
       "    <tr style=\"text-align: right;\">\n",
       "      <th>LC_Type3s</th>\n",
       "      <th>Built-up/Urban</th>\n",
       "      <th>cropland</th>\n",
       "      <th>forest/savanna</th>\n",
       "      <th>grassland</th>\n",
       "      <th>non-Vegetated</th>\n",
       "      <th>water</th>\n",
       "    </tr>\n",
       "    <tr>\n",
       "      <th>LC_Type3</th>\n",
       "      <th></th>\n",
       "      <th></th>\n",
       "      <th></th>\n",
       "      <th></th>\n",
       "      <th></th>\n",
       "      <th></th>\n",
       "    </tr>\n",
       "  </thead>\n",
       "  <tbody>\n",
       "    <tr>\n",
       "      <th>Urban/Built up</th>\n",
       "      <td>11172</td>\n",
       "      <td>0</td>\n",
       "      <td>0</td>\n",
       "      <td>0</td>\n",
       "      <td>0</td>\n",
       "      <td>0</td>\n",
       "    </tr>\n",
       "    <tr>\n",
       "      <th>forest/shrubland/savanna</th>\n",
       "      <td>0</td>\n",
       "      <td>0</td>\n",
       "      <td>2232</td>\n",
       "      <td>0</td>\n",
       "      <td>0</td>\n",
       "      <td>0</td>\n",
       "    </tr>\n",
       "    <tr>\n",
       "      <th>grassland</th>\n",
       "      <td>0</td>\n",
       "      <td>0</td>\n",
       "      <td>0</td>\n",
       "      <td>744</td>\n",
       "      <td>0</td>\n",
       "      <td>0</td>\n",
       "    </tr>\n",
       "    <tr>\n",
       "      <th>cropland</th>\n",
       "      <td>0</td>\n",
       "      <td>2724</td>\n",
       "      <td>0</td>\n",
       "      <td>0</td>\n",
       "      <td>0</td>\n",
       "      <td>0</td>\n",
       "    </tr>\n",
       "    <tr>\n",
       "      <th>water</th>\n",
       "      <td>0</td>\n",
       "      <td>0</td>\n",
       "      <td>0</td>\n",
       "      <td>0</td>\n",
       "      <td>0</td>\n",
       "      <td>444</td>\n",
       "    </tr>\n",
       "    <tr>\n",
       "      <th>barren</th>\n",
       "      <td>0</td>\n",
       "      <td>0</td>\n",
       "      <td>0</td>\n",
       "      <td>0</td>\n",
       "      <td>84</td>\n",
       "      <td>0</td>\n",
       "    </tr>\n",
       "  </tbody>\n",
       "</table>\n",
       "</div>"
      ],
      "text/plain": [
       "LC_Type3s                 Built-up/Urban  cropland  forest/savanna  grassland  \\\n",
       "LC_Type3                                                                        \n",
       "Urban/Built up                     11172         0               0          0   \n",
       "forest/shrubland/savanna               0         0            2232          0   \n",
       "grassland                              0         0               0        744   \n",
       "cropland                               0      2724               0          0   \n",
       "water                                  0         0               0          0   \n",
       "barren                                 0         0               0          0   \n",
       "\n",
       "LC_Type3s                 non-Vegetated  water  \n",
       "LC_Type3                                        \n",
       "Urban/Built up                        0      0  \n",
       "forest/shrubland/savanna              0      0  \n",
       "grassland                             0      0  \n",
       "cropland                              0      0  \n",
       "water                                 0    444  \n",
       "barren                               84      0  "
      ]
     },
     "execution_count": 168,
     "metadata": {},
     "output_type": "execute_result"
    }
   ],
   "source": [
    "pd.crosstab(master['LC_Type3'],master['LC_Type3s'])"
   ]
  },
  {
   "cell_type": "code",
   "execution_count": 169,
   "metadata": {},
   "outputs": [],
   "source": [
    "\n",
    "# from linearmodels.datasets import wage_panel\n",
    "\n",
    "# data = wage_panel.load()\n",
    "# data = data.set_index(['nr','year'])\n",
    "# dependent = data.lwage\n",
    "# exog = sm.add_constant(data[['expersq','married','union']])\n",
    "# mod = PanelOLS(dependent, exog, entity_effect=True)\n",
    "# res = mod.fit(cov_type='unadjusted')\n",
    "# res"
   ]
  },
  {
   "cell_type": "code",
   "execution_count": 170,
   "metadata": {},
   "outputs": [],
   "source": [
    "master_copy = master.copy()\n",
    "master = master[master['elec_use']<2000]"
   ]
  },
  {
   "cell_type": "code",
   "execution_count": 171,
   "metadata": {},
   "outputs": [
    {
     "data": {
      "text/html": [
       "<div>\n",
       "<style scoped>\n",
       "    .dataframe tbody tr th:only-of-type {\n",
       "        vertical-align: middle;\n",
       "    }\n",
       "\n",
       "    .dataframe tbody tr th {\n",
       "        vertical-align: top;\n",
       "    }\n",
       "\n",
       "    .dataframe thead th {\n",
       "        text-align: right;\n",
       "    }\n",
       "</style>\n",
       "<table border=\"1\" class=\"dataframe\">\n",
       "  <thead>\n",
       "    <tr style=\"text-align: right;\">\n",
       "      <th>LC_Type3s</th>\n",
       "      <th>Built-up/Urban</th>\n",
       "      <th>cropland</th>\n",
       "      <th>forest/savanna</th>\n",
       "      <th>grassland</th>\n",
       "      <th>non-Vegetated</th>\n",
       "      <th>water</th>\n",
       "    </tr>\n",
       "    <tr>\n",
       "      <th>LC_Type3</th>\n",
       "      <th></th>\n",
       "      <th></th>\n",
       "      <th></th>\n",
       "      <th></th>\n",
       "      <th></th>\n",
       "      <th></th>\n",
       "    </tr>\n",
       "  </thead>\n",
       "  <tbody>\n",
       "    <tr>\n",
       "      <th>Urban/Built up</th>\n",
       "      <td>9476</td>\n",
       "      <td>0</td>\n",
       "      <td>0</td>\n",
       "      <td>0</td>\n",
       "      <td>0</td>\n",
       "      <td>0</td>\n",
       "    </tr>\n",
       "    <tr>\n",
       "      <th>forest/shrubland/savanna</th>\n",
       "      <td>0</td>\n",
       "      <td>0</td>\n",
       "      <td>2007</td>\n",
       "      <td>0</td>\n",
       "      <td>0</td>\n",
       "      <td>0</td>\n",
       "    </tr>\n",
       "    <tr>\n",
       "      <th>grassland</th>\n",
       "      <td>0</td>\n",
       "      <td>0</td>\n",
       "      <td>0</td>\n",
       "      <td>680</td>\n",
       "      <td>0</td>\n",
       "      <td>0</td>\n",
       "    </tr>\n",
       "    <tr>\n",
       "      <th>cropland</th>\n",
       "      <td>0</td>\n",
       "      <td>2491</td>\n",
       "      <td>0</td>\n",
       "      <td>0</td>\n",
       "      <td>0</td>\n",
       "      <td>0</td>\n",
       "    </tr>\n",
       "    <tr>\n",
       "      <th>water</th>\n",
       "      <td>0</td>\n",
       "      <td>0</td>\n",
       "      <td>0</td>\n",
       "      <td>0</td>\n",
       "      <td>0</td>\n",
       "      <td>376</td>\n",
       "    </tr>\n",
       "    <tr>\n",
       "      <th>barren</th>\n",
       "      <td>0</td>\n",
       "      <td>0</td>\n",
       "      <td>0</td>\n",
       "      <td>0</td>\n",
       "      <td>72</td>\n",
       "      <td>0</td>\n",
       "    </tr>\n",
       "  </tbody>\n",
       "</table>\n",
       "</div>"
      ],
      "text/plain": [
       "LC_Type3s                 Built-up/Urban  cropland  forest/savanna  grassland  \\\n",
       "LC_Type3                                                                        \n",
       "Urban/Built up                      9476         0               0          0   \n",
       "forest/shrubland/savanna               0         0            2007          0   \n",
       "grassland                              0         0               0        680   \n",
       "cropland                               0      2491               0          0   \n",
       "water                                  0         0               0          0   \n",
       "barren                                 0         0               0          0   \n",
       "\n",
       "LC_Type3s                 non-Vegetated  water  \n",
       "LC_Type3                                        \n",
       "Urban/Built up                        0      0  \n",
       "forest/shrubland/savanna              0      0  \n",
       "grassland                             0      0  \n",
       "cropland                              0      0  \n",
       "water                                 0    376  \n",
       "barren                               72      0  "
      ]
     },
     "execution_count": 171,
     "metadata": {},
     "output_type": "execute_result"
    }
   ],
   "source": [
    "pd.crosstab(master['LC_Type3'],master['LC_Type3s'])"
   ]
  },
  {
   "cell_type": "code",
   "execution_count": 172,
   "metadata": {},
   "outputs": [
    {
     "data": {
      "text/plain": [
       "(15102, 97)"
      ]
     },
     "execution_count": 172,
     "metadata": {},
     "output_type": "execute_result"
    }
   ],
   "source": [
    "master.shape"
   ]
  },
  {
   "cell_type": "code",
   "execution_count": 517,
   "metadata": {},
   "outputs": [
    {
     "data": {
      "text/plain": [
       "(15102, 75)"
      ]
     },
     "execution_count": 517,
     "metadata": {},
     "output_type": "execute_result"
    }
   ],
   "source": [
    "master1.shape"
   ]
  },
  {
   "cell_type": "code",
   "execution_count": 174,
   "metadata": {},
   "outputs": [],
   "source": [
    "master = master.set_index(['ID','month'])"
   ]
  },
  {
   "cell_type": "code",
   "execution_count": 518,
   "metadata": {},
   "outputs": [],
   "source": [
    "master1 = master1.set_index(['ID','month'])"
   ]
  },
  {
   "cell_type": "code",
   "execution_count": 176,
   "metadata": {
    "scrolled": true
   },
   "outputs": [
    {
     "data": {
      "text/html": [
       "<div>\n",
       "<style scoped>\n",
       "    .dataframe tbody tr th:only-of-type {\n",
       "        vertical-align: middle;\n",
       "    }\n",
       "\n",
       "    .dataframe tbody tr th {\n",
       "        vertical-align: top;\n",
       "    }\n",
       "\n",
       "    .dataframe thead th {\n",
       "        text-align: right;\n",
       "    }\n",
       "</style>\n",
       "<table border=\"1\" class=\"dataframe\">\n",
       "  <thead>\n",
       "    <tr style=\"text-align: right;\">\n",
       "      <th></th>\n",
       "      <th></th>\n",
       "      <th>elec_use</th>\n",
       "      <th>elec_bill</th>\n",
       "      <th>Month</th>\n",
       "      <th>serial</th>\n",
       "      <th>province</th>\n",
       "      <th>city</th>\n",
       "      <th>county</th>\n",
       "      <th>zipcode</th>\n",
       "      <th>respondent</th>\n",
       "      <th>latitude</th>\n",
       "      <th>...</th>\n",
       "      <th>sf</th>\n",
       "      <th>Vege_Cover</th>\n",
       "      <th>LC_Type2s</th>\n",
       "      <th>LC_Type3</th>\n",
       "      <th>LC_Type4</th>\n",
       "      <th>LC_Type5</th>\n",
       "      <th>DD_sq</th>\n",
       "      <th>city_</th>\n",
       "      <th>county_</th>\n",
       "      <th>elec_ln</th>\n",
       "    </tr>\n",
       "    <tr>\n",
       "      <th>ID</th>\n",
       "      <th>month</th>\n",
       "      <th></th>\n",
       "      <th></th>\n",
       "      <th></th>\n",
       "      <th></th>\n",
       "      <th></th>\n",
       "      <th></th>\n",
       "      <th></th>\n",
       "      <th></th>\n",
       "      <th></th>\n",
       "      <th></th>\n",
       "      <th></th>\n",
       "      <th></th>\n",
       "      <th></th>\n",
       "      <th></th>\n",
       "      <th></th>\n",
       "      <th></th>\n",
       "      <th></th>\n",
       "      <th></th>\n",
       "      <th></th>\n",
       "      <th></th>\n",
       "      <th></th>\n",
       "    </tr>\n",
       "  </thead>\n",
       "  <tbody>\n",
       "    <tr>\n",
       "      <th>1</th>\n",
       "      <th>2</th>\n",
       "      <td>461.0</td>\n",
       "      <td>243.550003</td>\n",
       "      <td>2</td>\n",
       "      <td>2.010202e+17</td>\n",
       "      <td>广西</td>\n",
       "      <td>玉林市</td>\n",
       "      <td>容县</td>\n",
       "      <td>537500</td>\n",
       "      <td>1.0</td>\n",
       "      <td>22.860323</td>\n",
       "      <td>...</td>\n",
       "      <td>0.0</td>\n",
       "      <td>44.0</td>\n",
       "      <td>Built-up/Urban</td>\n",
       "      <td>Built-up/Urban</td>\n",
       "      <td>Built-up/Urban</td>\n",
       "      <td>Built-up/Urban</td>\n",
       "      <td>71.346725</td>\n",
       "      <td>玉林市</td>\n",
       "      <td>容县</td>\n",
       "      <td>6.135565</td>\n",
       "    </tr>\n",
       "  </tbody>\n",
       "</table>\n",
       "<p>1 rows × 73 columns</p>\n",
       "</div>"
      ],
      "text/plain": [
       "          elec_use   elec_bill  Month        serial province city county  \\\n",
       "ID month                                                                   \n",
       "1  2         461.0  243.550003      2  2.010202e+17       广西  玉林市     容县   \n",
       "\n",
       "          zipcode  respondent   latitude  ...   sf  Vege_Cover  \\\n",
       "ID month                                  ...                    \n",
       "1  2       537500         1.0  22.860323  ...  0.0        44.0   \n",
       "\n",
       "               LC_Type2s        LC_Type3        LC_Type4        LC_Type5  \\\n",
       "ID month                                                                   \n",
       "1  2      Built-up/Urban  Built-up/Urban  Built-up/Urban  Built-up/Urban   \n",
       "\n",
       "              DD_sq city_ county_   elec_ln  \n",
       "ID month                                     \n",
       "1  2      71.346725   玉林市      容县  6.135565  \n",
       "\n",
       "[1 rows x 73 columns]"
      ]
     },
     "execution_count": 176,
     "metadata": {},
     "output_type": "execute_result"
    }
   ],
   "source": [
    "master1.loc[([1,],2),:]\n",
    "#('bar',),"
   ]
  },
  {
   "cell_type": "markdown",
   "metadata": {},
   "source": [
    "#### cross sectional"
   ]
  },
  {
   "cell_type": "code",
   "execution_count": 194,
   "metadata": {
    "scrolled": true
   },
   "outputs": [
    {
     "data": {
      "text/plain": [
       "(3-5] 万        3404\n",
       "(5-8] 万        3135\n",
       "(8-12] 万       2627\n",
       "(1-3] 万        2311\n",
       "(12-15] 万       926\n",
       "(15-20] 万       926\n",
       "(20-25] 万       573\n",
       "≤1万             447\n",
       "(25-30] 万       147\n",
       "(45-50] 万       108\n",
       "NaN              98\n",
       "(35-40] 万        88\n",
       "(30-35]万         82\n",
       "(40-45] 万        60\n",
       "(80-120]万        60\n",
       "(50-80] 万        50\n",
       "(120-200] 万      48\n",
       "(200-500] 万      12\n",
       "Name: income, dtype: int64"
      ]
     },
     "execution_count": 194,
     "metadata": {},
     "output_type": "execute_result"
    }
   ],
   "source": [
    "master1.income.value_counts(dropna=False)"
   ]
  },
  {
   "cell_type": "code",
   "execution_count": 196,
   "metadata": {},
   "outputs": [
    {
     "data": {
      "text/plain": [
       "(90-120] m2     4063\n",
       "(120-150] m2    3323\n",
       "(70-90] m       2647\n",
       "(50-70] m2      1627\n",
       "(180-250] m2    1137\n",
       "(150-180] m2     830\n",
       " >250m2          756\n",
       "(30-50] m2       559\n",
       "NaN               66\n",
       "(12-30] m2        58\n",
       "≤12m2             36\n",
       "Name: size, dtype: int64"
      ]
     },
     "execution_count": 196,
     "metadata": {},
     "output_type": "execute_result"
    }
   ],
   "source": [
    "master1['size'].value_counts(dropna=False)"
   ]
  },
  {
   "cell_type": "code",
   "execution_count": 197,
   "metadata": {},
   "outputs": [
    {
     "data": {
      "text/plain": [
       "2000-2009    7219\n",
       "1990-1999    4538\n",
       "1980-1989    1962\n",
       "2010年及以后      753\n",
       "1970-1979     360\n",
       "1960-1969     106\n",
       "NaN            67\n",
       "早于1949年        67\n",
       "1949-1959      30\n",
       "Name: bltyr, dtype: int64"
      ]
     },
     "execution_count": 197,
     "metadata": {},
     "output_type": "execute_result"
    }
   ],
   "source": [
    "master1['bltyr'].value_counts(dropna=False)"
   ]
  },
  {
   "cell_type": "code",
   "execution_count": 198,
   "metadata": {},
   "outputs": [
    {
     "data": {
      "text/plain": [
       "城市（县级市及以上）    9463\n",
       "农村            3077\n",
       "乡镇            2514\n",
       "NaN             48\n",
       "Name: urban, dtype: int64"
      ]
     },
     "execution_count": 198,
     "metadata": {},
     "output_type": "execute_result"
    }
   ],
   "source": [
    "master1['urban'].value_counts(dropna=False)"
   ]
  },
  {
   "cell_type": "code",
   "execution_count": 199,
   "metadata": {
    "scrolled": true
   },
   "outputs": [
    {
     "data": {
      "text/plain": [
       "自有     13947\n",
       "他人      1048\n",
       "NaN      107\n",
       "Name: own, dtype: int64"
      ]
     },
     "execution_count": 199,
     "metadata": {},
     "output_type": "execute_result"
    }
   ],
   "source": [
    "master1['own'].value_counts(dropna=False)"
   ]
  },
  {
   "cell_type": "code",
   "execution_count": 572,
   "metadata": {},
   "outputs": [],
   "source": [
    "# cs_LC = PooledOLS.from_formula(\"elec_use ~ 1 + DD_monthly*(LC_Type3) + fsize + C(income) + urban + own + size + bltyr + \\\n",
    "#                                 Month + province\", data=master1)\n",
    "# res_cs_LC = cs_LC.fit()\n",
    "# print(res_cs_LC)"
   ]
  },
  {
   "cell_type": "code",
   "execution_count": 201,
   "metadata": {},
   "outputs": [],
   "source": [
    "import statsmodels.formula.api as smf"
   ]
  },
  {
   "cell_type": "code",
   "execution_count": 209,
   "metadata": {
    "scrolled": false
   },
   "outputs": [
    {
     "name": "stdout",
     "output_type": "stream",
     "text": [
      "                            OLS Regression Results                            \n",
      "==============================================================================\n",
      "Dep. Variable:               elec_use   R-squared:                       0.265\n",
      "Model:                            OLS   Adj. R-squared:                  0.260\n",
      "Method:                 Least Squares   F-statistic:                     60.38\n",
      "Date:                Wed, 18 Mar 2020   Prob (F-statistic):               0.00\n",
      "Time:                        17:47:45   Log-Likelihood:                -86713.\n",
      "No. Observations:               14178   AIC:                         1.736e+05\n",
      "Df Residuals:                   14093   BIC:                         1.742e+05\n",
      "Df Model:                          84                                         \n",
      "Covariance Type:            nonrobust                                         \n",
      "=========================================================================================================\n",
      "                                            coef    std err          t      P>|t|      [0.025      0.975]\n",
      "---------------------------------------------------------------------------------------------------------\n",
      "Intercept                               103.0603     25.911      3.977      0.000      52.272     153.849\n",
      "LC_Type3[T.cropland]                    -18.6296      4.551     -4.093      0.000     -27.551      -9.709\n",
      "LC_Type3[T.forest/savanna]               -4.5499      5.651     -0.805      0.421     -15.627       6.527\n",
      "LC_Type3[T.grassland]                     8.4793      8.090      1.048      0.295      -7.377      24.336\n",
      "LC_Type3[T.non-Vegetated]                15.5104     25.202      0.615      0.538     -33.889      64.910\n",
      "LC_Type3[T.water]                        12.8583     20.286      0.634      0.526     -26.906      52.622\n",
      "C(income)[T.(1-3] 万]                      7.7423      5.977      1.295      0.195      -3.973      19.457\n",
      "C(income)[T.(3-5] 万]                     15.6023      5.945      2.624      0.009       3.949      27.256\n",
      "C(income)[T.(5-8] 万]                     44.2055      6.051      7.306      0.000      32.345      56.066\n",
      "C(income)[T.(8-12] 万]                    52.9510      6.200      8.541      0.000      40.799      65.103\n",
      "C(income)[T.(12-15] 万]                   58.4667      7.009      8.342      0.000      44.729      72.205\n",
      "C(income)[T.(15-20] 万]                   58.8465      7.037      8.363      0.000      45.054      72.639\n",
      "C(income)[T.(20-25] 万]                   76.2129      7.639      9.976      0.000      61.238      91.187\n",
      "C(income)[T.(25-30] 万]                   94.4770     11.100      8.511      0.000      72.719     116.235\n",
      "C(income)[T.(30-35]万]                   140.9244     14.966      9.417      0.000     111.590     170.259\n",
      "C(income)[T.(35-40] 万]                  167.7429     13.808     12.149      0.000     140.678     194.808\n",
      "C(income)[T.(40-45] 万]                   49.7789     16.048      3.102      0.002      18.323      81.235\n",
      "C(income)[T.(45-50] 万]                   89.0197     12.812      6.948      0.000      63.907     114.133\n",
      "C(income)[T.(50-80] 万]                  150.3399     17.124      8.780      0.000     116.776     183.904\n",
      "C(income)[T.(80-120]万]                  195.2726     16.151     12.090      0.000     163.615     226.931\n",
      "C(income)[T.(120-200] 万]                 72.3399     20.640      3.505      0.000      31.882     112.798\n",
      "C(income)[T.(200-500] 万]                169.9061     32.939      5.158      0.000     105.341     234.471\n",
      "urban[T.乡镇]                              -4.8460      3.394     -1.428      0.153     -11.498       1.806\n",
      "urban[T.农村]                             -35.6863      3.479    -10.259      0.000     -42.505     -28.868\n",
      "own[T.他人]                                11.6878      4.037      2.895      0.004       3.775      19.600\n",
      "size[T.(12-30] m2]                       35.7975     24.292      1.474      0.141     -11.819      83.414\n",
      "size[T.(30-50] m2]                       60.4980     19.821      3.052      0.002      21.647      99.349\n",
      "size[T.(50-70] m2]                       53.2199     19.252      2.764      0.006      15.484      90.955\n",
      "size[T.(70-90] m]                        50.7176     19.138      2.650      0.008      13.205      88.230\n",
      "size[T.(90-120] m2]                      60.6668     19.001      3.193      0.001      23.422      97.911\n",
      "size[T.(120-150] m2]                     74.3474     19.022      3.908      0.000      37.062     111.633\n",
      "size[T.(150-180] m2]                    101.6993     19.376      5.249      0.000      63.720     139.679\n",
      "size[T.(180-250] m2]                     92.7582     19.344      4.795      0.000      54.841     130.675\n",
      "size[T. >250m2]                          77.0917     19.637      3.926      0.000      38.601     115.582\n",
      "bltyr[T.1949-1959]                      -33.6938     25.385     -1.327      0.184     -83.453      16.065\n",
      "bltyr[T.1960-1969]                      -55.7208     18.715     -2.977      0.003     -92.405     -19.037\n",
      "bltyr[T.1970-1979]                      -45.9186     16.432     -2.795      0.005     -78.126     -13.711\n",
      "bltyr[T.1980-1989]                      -42.8540     15.408     -2.781      0.005     -73.057     -12.652\n",
      "bltyr[T.1990-1999]                      -27.7261     15.342     -1.807      0.071     -57.798       2.346\n",
      "bltyr[T.2000-2009]                      -24.2399     15.349     -1.579      0.114     -54.326       5.846\n",
      "bltyr[T.2010年及以后]                       -25.7833     15.904     -1.621      0.105     -56.958       5.391\n",
      "C(Month)[T.2]                            22.0977      4.761      4.641      0.000      12.765      31.430\n",
      "C(Month)[T.3]                             0.9023      5.235      0.172      0.863      -9.359      11.164\n",
      "C(Month)[T.4]                           -14.9609      5.795     -2.582      0.010     -26.319      -3.602\n",
      "C(Month)[T.5]                           -24.9136      5.349     -4.658      0.000     -35.398     -14.429\n",
      "C(Month)[T.6]                            -9.7828      5.121     -1.910      0.056     -19.820       0.254\n",
      "C(Month)[T.7]                            18.7133      4.996      3.746      0.000       8.921      28.505\n",
      "C(Month)[T.8]                            50.3713      5.074      9.928      0.000      40.426      60.316\n",
      "C(Month)[T.9]                            12.9398      5.592      2.314      0.021       1.980      23.900\n",
      "C(Month)[T.10]                          -13.1135      5.717     -2.294      0.022     -24.320      -1.907\n",
      "C(Month)[T.11]                          -20.1217      5.029     -4.001      0.000     -29.979     -10.265\n",
      "C(Month)[T.12]                           -9.9857      4.554     -2.193      0.028     -18.912      -1.059\n",
      "province[T.云南]                          -83.5467      8.615     -9.698      0.000    -100.433     -66.661\n",
      "province[T.内蒙古]                         -29.2460      8.176     -3.577      0.000     -45.273     -13.219\n",
      "province[T.北京]                          -82.5193      6.290    -13.120      0.000     -94.848     -70.191\n",
      "province[T.吉林]                          -94.3132      6.368    -14.811      0.000    -106.795     -81.832\n",
      "province[T.四川]                         -107.5391      7.450    -14.435      0.000    -122.142     -92.936\n",
      "province[T.天津]                          -69.1668      9.325     -7.417      0.000     -87.446     -50.888\n",
      "province[T.宁夏回族自治区]                    -106.3924      9.515    -11.181      0.000    -125.044     -87.741\n",
      "province[T.安徽]                            1.1798      7.932      0.149      0.882     -14.368      16.727\n",
      "province[T.山东]                          -71.1361      5.088    -13.982      0.000     -81.109     -61.164\n",
      "province[T.山西]                          -33.7679      7.258     -4.652      0.000     -47.995     -19.540\n",
      "province[T.广东]                           -3.6938     18.562     -0.199      0.842     -40.078      32.691\n",
      "province[T.广西]                          -24.1723      7.811     -3.095      0.002     -39.483      -8.862\n",
      "province[T.新疆]                          -81.4484      9.126     -8.925      0.000     -99.337     -63.560\n",
      "province[T.江西]                          -98.5829     10.157     -9.706      0.000    -118.491     -78.674\n",
      "province[T.河北]                          -71.2255      6.390    -11.146      0.000     -83.751     -58.700\n",
      "province[T.河南]                          -79.4101      5.355    -14.828      0.000     -89.907     -68.913\n",
      "province[T.浙江]                          -60.0566      7.808     -7.692      0.000     -75.361     -44.753\n",
      "province[T.海南]                          -74.2782     25.987     -2.858      0.004    -125.215     -23.341\n",
      "province[T.湖北]                          -67.5693      5.704    -11.846      0.000     -78.750     -56.389\n",
      "province[T.湖南]                          -35.2623      5.672     -6.217      0.000     -46.379     -24.145\n",
      "province[T.甘肃]                          -32.2203      8.928     -3.609      0.000     -49.721     -14.720\n",
      "province[T.福建]                           21.5930      7.900      2.733      0.006       6.107      37.079\n",
      "province[T.贵州]                          -45.5052      9.353     -4.865      0.000     -63.839     -27.171\n",
      "province[T.辽宁]                          -68.8955      8.776     -7.851      0.000     -86.097     -51.694\n",
      "province[T.重庆]                          133.1057     10.141     13.125      0.000     113.228     152.984\n",
      "province[T.黑龙江]                         -96.6132      7.303    -13.230      0.000    -110.928     -82.299\n",
      "DD_monthly                                0.0181      0.008      2.302      0.021       0.003       0.034\n",
      "DD_monthly:LC_Type3[T.cropland]           0.0092      0.011      0.829      0.407      -0.013       0.031\n",
      "DD_monthly:LC_Type3[T.forest/savanna]    -0.0099      0.019     -0.529      0.597      -0.047       0.027\n",
      "DD_monthly:LC_Type3[T.grassland]          0.0102      0.013      0.800      0.424      -0.015       0.035\n",
      "DD_monthly:LC_Type3[T.non-Vegetated]     -0.0334      0.048     -0.697      0.486      -0.127       0.061\n",
      "DD_monthly:LC_Type3[T.water]             -0.0293      0.073     -0.403      0.687      -0.172       0.113\n",
      "fsize                                    14.1863      0.932     15.225      0.000      12.360      16.013\n",
      "==============================================================================\n",
      "Omnibus:                    10356.040   Durbin-Watson:                   0.803\n",
      "Prob(Omnibus):                  0.000   Jarque-Bera (JB):           318882.460\n",
      "Skew:                           3.173   Prob(JB):                         0.00\n",
      "Kurtosis:                      25.350   Cond. No.                     2.57e+04\n",
      "==============================================================================\n",
      "\n",
      "Warnings:\n",
      "[1] Standard Errors assume that the covariance matrix of the errors is correctly specified.\n",
      "[2] The condition number is large, 2.57e+04. This might indicate that there are\n",
      "strong multicollinearity or other numerical problems.\n"
     ]
    }
   ],
   "source": [
    "cs_LC = smf.ols(\"elec_use ~ 1 + DD_monthly*(LC_Type3) + fsize + C(income) + urban + own + size + bltyr + \\\n",
    "                                C(Month) + province\", data=master1, subset=None, drop_cols=None)\n",
    "res_cs_LC = cs_LC.fit()\n",
    "print(res_cs_LC.summary())"
   ]
  },
  {
   "cell_type": "code",
   "execution_count": 244,
   "metadata": {},
   "outputs": [],
   "source": [
    "res_cs_LC_robust = res_cs_LC.get_robustcov_results(cov_type='HC1', use_t=None)"
   ]
  },
  {
   "cell_type": "code",
   "execution_count": 246,
   "metadata": {},
   "outputs": [
    {
     "data": {
      "text/plain": [
       "{'use_t': True,\n",
       " 'adjust_df': False,\n",
       " 'description': 'Standard Errors are heteroscedasticity robust (HC1)'}"
      ]
     },
     "execution_count": 246,
     "metadata": {},
     "output_type": "execute_result"
    }
   ],
   "source": [
    "res_cs_LC_robust.cov_kwds"
   ]
  },
  {
   "cell_type": "code",
   "execution_count": 247,
   "metadata": {},
   "outputs": [
    {
     "data": {
      "text/plain": [
       "array([[ 2.99107098e+02, -5.80145783e+00, -3.78719032e+00, ...,\n",
       "         6.31706896e-03, -5.18435454e-02, -1.62940619e+00],\n",
       "       [-5.80145783e+00,  1.64239050e+01,  7.49221934e+00, ...,\n",
       "        -9.31208910e-03, -5.37278063e-03,  2.54860790e-01],\n",
       "       [-3.78719032e+00,  7.49221934e+00,  2.51288967e+01, ...,\n",
       "        -7.54647841e-03, -1.34764532e-02, -2.40926288e-02],\n",
       "       ...,\n",
       "       [ 6.31706896e-03, -9.31208910e-03, -7.54647841e-03, ...,\n",
       "         6.98065082e-04,  2.14604118e-05, -4.57042235e-04],\n",
       "       [-5.18435454e-02, -5.37278063e-03, -1.34764532e-02, ...,\n",
       "         2.14604118e-05,  2.49295652e-03, -1.34767791e-03],\n",
       "       [-1.62940619e+00,  2.54860790e-01, -2.40926288e-02, ...,\n",
       "        -4.57042235e-04, -1.34767791e-03,  9.88581755e-01]])"
      ]
     },
     "execution_count": 247,
     "metadata": {},
     "output_type": "execute_result"
    }
   ],
   "source": [
    "res_cs_LC_robust.cov_params_default"
   ]
  },
  {
   "cell_type": "code",
   "execution_count": 249,
   "metadata": {
    "scrolled": true
   },
   "outputs": [
    {
     "name": "stdout",
     "output_type": "stream",
     "text": [
      "                            OLS Regression Results                            \n",
      "==============================================================================\n",
      "Dep. Variable:               elec_use   R-squared:                       0.265\n",
      "Model:                            OLS   Adj. R-squared:                  0.260\n",
      "Method:                 Least Squares   F-statistic:                     51.07\n",
      "Date:                Wed, 18 Mar 2020   Prob (F-statistic):               0.00\n",
      "Time:                        18:19:50   Log-Likelihood:                -86713.\n",
      "No. Observations:               14178   AIC:                         1.736e+05\n",
      "Df Residuals:                   14093   BIC:                         1.742e+05\n",
      "Df Model:                          84                                         \n",
      "Covariance Type:                  HC1                                         \n",
      "=========================================================================================================\n",
      "                                            coef    std err          t      P>|t|      [0.025      0.975]\n",
      "---------------------------------------------------------------------------------------------------------\n",
      "Intercept                               103.0603     17.295      5.959      0.000      69.160     136.960\n",
      "LC_Type3[T.cropland]                    -18.6296      4.053     -4.597      0.000     -26.573     -10.686\n",
      "LC_Type3[T.forest/savanna]               -4.5499      5.013     -0.908      0.364     -14.376       5.276\n",
      "LC_Type3[T.grassland]                     8.4793      5.560      1.525      0.127      -2.420      19.378\n",
      "LC_Type3[T.non-Vegetated]                15.5104     15.914      0.975      0.330     -15.683      46.704\n",
      "LC_Type3[T.water]                        12.8583     12.990      0.990      0.322     -12.603      38.320\n",
      "C(income)[T.(1-3] 万]                      7.7423      4.467      1.733      0.083      -1.013      16.497\n",
      "C(income)[T.(3-5] 万]                     15.6023      4.549      3.430      0.001       6.686      24.518\n",
      "C(income)[T.(5-8] 万]                     44.2055      4.710      9.386      0.000      34.974      53.437\n",
      "C(income)[T.(8-12] 万]                    52.9510      5.005     10.580      0.000      43.141      62.761\n",
      "C(income)[T.(12-15] 万]                   58.4667      6.136      9.528      0.000      46.439      70.494\n",
      "C(income)[T.(15-20] 万]                   58.8465      6.203      9.486      0.000      46.687      71.006\n",
      "C(income)[T.(20-25] 万]                   76.2129      8.358      9.118      0.000      59.829      92.596\n",
      "C(income)[T.(25-30] 万]                   94.4770     15.128      6.245      0.000      64.824     124.130\n",
      "C(income)[T.(30-35]万]                   140.9244     25.347      5.560      0.000      91.242     190.607\n",
      "C(income)[T.(35-40] 万]                  167.7429     27.513      6.097      0.000     113.814     221.672\n",
      "C(income)[T.(40-45] 万]                   49.7789     19.321      2.576      0.010      11.907      87.651\n",
      "C(income)[T.(45-50] 万]                   89.0197     16.000      5.564      0.000      57.657     120.382\n",
      "C(income)[T.(50-80] 万]                  150.3399     37.932      3.963      0.000      75.988     224.692\n",
      "C(income)[T.(80-120]万]                  195.2726     38.718      5.043      0.000     119.380     271.166\n",
      "C(income)[T.(120-200] 万]                 72.3399     28.812      2.511      0.012      15.865     128.815\n",
      "C(income)[T.(200-500] 万]                169.9061     12.490     13.603      0.000     145.424     194.388\n",
      "urban[T.乡镇]                              -4.8460      3.808     -1.273      0.203     -12.310       2.618\n",
      "urban[T.农村]                             -35.6863      3.562    -10.019      0.000     -42.668     -28.705\n",
      "own[T.他人]                                11.6878      4.379      2.669      0.008       3.104      20.271\n",
      "size[T.(12-30] m2]                       35.7975     12.026      2.977      0.003      12.225      59.370\n",
      "size[T.(30-50] m2]                       60.4980      7.505      8.061      0.000      45.788      75.208\n",
      "size[T.(50-70] m2]                       53.2199      6.554      8.120      0.000      40.373      66.067\n",
      "size[T.(70-90] m]                        50.7176      6.347      7.991      0.000      38.277      63.158\n",
      "size[T.(90-120] m2]                      60.6668      6.027     10.066      0.000      48.853      72.480\n",
      "size[T.(120-150] m2]                     74.3474      6.219     11.955      0.000      62.157      86.538\n",
      "size[T.(150-180] m2]                    101.6993      8.505     11.957      0.000      85.028     118.371\n",
      "size[T.(180-250] m2]                     92.7582      8.146     11.388      0.000      76.792     108.725\n",
      "size[T. >250m2]                          77.0917      8.496      9.074      0.000      60.438      93.746\n",
      "bltyr[T.1949-1959]                      -33.6938     15.910     -2.118      0.034     -64.880      -2.508\n",
      "bltyr[T.1960-1969]                      -55.7208     14.291     -3.899      0.000     -83.732     -27.709\n",
      "bltyr[T.1970-1979]                      -45.9186     13.335     -3.443      0.001     -72.057     -19.780\n",
      "bltyr[T.1980-1989]                      -42.8540     12.977     -3.302      0.001     -68.290     -17.418\n",
      "bltyr[T.1990-1999]                      -27.7261     13.028     -2.128      0.033     -53.264      -2.189\n",
      "bltyr[T.2000-2009]                      -24.2399     13.018     -1.862      0.063     -49.758       1.278\n",
      "bltyr[T.2010年及以后]                       -25.7833     13.771     -1.872      0.061     -52.777       1.210\n",
      "C(Month)[T.2]                            22.0977      5.488      4.027      0.000      11.341      32.855\n",
      "C(Month)[T.3]                             0.9023      5.591      0.161      0.872     -10.056      11.861\n",
      "C(Month)[T.4]                           -14.9609      5.748     -2.603      0.009     -26.228      -3.694\n",
      "C(Month)[T.5]                           -24.9136      5.359     -4.649      0.000     -35.418     -14.410\n",
      "C(Month)[T.6]                            -9.7828      5.202     -1.881      0.060     -19.980       0.414\n",
      "C(Month)[T.7]                            18.7133      5.495      3.406      0.001       7.942      29.484\n",
      "C(Month)[T.8]                            50.3713      6.136      8.208      0.000      38.343      62.400\n",
      "C(Month)[T.9]                            12.9398      5.981      2.163      0.031       1.216      24.664\n",
      "C(Month)[T.10]                          -13.1135      5.734     -2.287      0.022     -24.352      -1.875\n",
      "C(Month)[T.11]                          -20.1217      4.878     -4.125      0.000     -29.683     -10.560\n",
      "C(Month)[T.12]                           -9.9857      4.682     -2.133      0.033     -19.164      -0.808\n",
      "province[T.云南]                          -83.5467      7.951    -10.508      0.000     -99.131     -67.962\n",
      "province[T.内蒙古]                         -29.2460      8.562     -3.416      0.001     -46.029     -12.463\n",
      "province[T.北京]                          -82.5193      6.729    -12.264      0.000     -95.709     -69.330\n",
      "province[T.吉林]                          -94.3132      6.630    -14.225      0.000    -107.309     -81.317\n",
      "province[T.四川]                         -107.5391      7.443    -14.449      0.000    -122.128     -92.951\n",
      "province[T.天津]                          -69.1668      8.302     -8.331      0.000     -85.440     -52.893\n",
      "province[T.宁夏回族自治区]                    -106.3924      9.457    -11.250      0.000    -124.929     -87.855\n",
      "province[T.安徽]                            1.1798     12.882      0.092      0.927     -24.072      26.431\n",
      "province[T.山东]                          -71.1361      6.688    -10.636      0.000     -84.246     -58.027\n",
      "province[T.山西]                          -33.7679      9.873     -3.420      0.001     -53.121     -14.415\n",
      "province[T.广东]                           -3.6938     22.911     -0.161      0.872     -48.603      41.215\n",
      "province[T.广西]                          -24.1723      9.473     -2.552      0.011     -42.740      -5.604\n",
      "province[T.新疆]                          -81.4484      8.244     -9.880      0.000     -97.607     -65.289\n",
      "province[T.江西]                          -98.5829     10.249     -9.619      0.000    -118.672     -78.494\n",
      "province[T.河北]                          -71.2255      6.841    -10.411      0.000     -84.635     -57.815\n",
      "province[T.河南]                          -79.4101      6.939    -11.443      0.000     -93.012     -65.808\n",
      "province[T.浙江]                          -60.0566      7.789     -7.710      0.000     -75.325     -44.789\n",
      "province[T.海南]                          -74.2782     20.157     -3.685      0.000    -113.789     -34.768\n",
      "province[T.湖北]                          -67.5693      7.406     -9.124      0.000     -82.085     -53.053\n",
      "province[T.湖南]                          -35.2623      6.962     -5.065      0.000     -48.909     -21.615\n",
      "province[T.甘肃]                          -32.2203      8.401     -3.835      0.000     -48.688     -15.753\n",
      "province[T.福建]                           21.5930     10.534      2.050      0.040       0.945      42.240\n",
      "province[T.贵州]                          -45.5052     10.275     -4.429      0.000     -65.645     -25.365\n",
      "province[T.辽宁]                          -68.8955      7.525     -9.155      0.000     -83.646     -54.145\n",
      "province[T.重庆]                          133.1057     20.559      6.474      0.000      92.806     173.405\n",
      "province[T.黑龙江]                         -96.6132      6.677    -14.469      0.000    -109.701     -83.525\n",
      "DD_monthly                                0.0181      0.007      2.525      0.012       0.004       0.032\n",
      "DD_monthly:LC_Type3[T.cropland]           0.0092      0.009      1.042      0.298      -0.008       0.026\n",
      "DD_monthly:LC_Type3[T.forest/savanna]    -0.0099      0.017     -0.585      0.559      -0.043       0.023\n",
      "DD_monthly:LC_Type3[T.grassland]          0.0102      0.009      1.185      0.236      -0.007       0.027\n",
      "DD_monthly:LC_Type3[T.non-Vegetated]     -0.0334      0.026     -1.266      0.206      -0.085       0.018\n",
      "DD_monthly:LC_Type3[T.water]             -0.0293      0.050     -0.586      0.558      -0.127       0.069\n",
      "fsize                                    14.1863      0.994     14.268      0.000      12.237      16.135\n",
      "==============================================================================\n",
      "Omnibus:                    10356.040   Durbin-Watson:                   0.803\n",
      "Prob(Omnibus):                  0.000   Jarque-Bera (JB):           318882.460\n",
      "Skew:                           3.173   Prob(JB):                         0.00\n",
      "Kurtosis:                      25.350   Cond. No.                     2.57e+04\n",
      "==============================================================================\n",
      "\n",
      "Warnings:\n",
      "[1] Standard Errors are heteroscedasticity robust (HC1)\n",
      "[2] The condition number is large, 2.57e+04. This might indicate that there are\n",
      "strong multicollinearity or other numerical problems.\n"
     ]
    }
   ],
   "source": [
    "print(res_cs_LC_robust.summary())"
   ]
  },
  {
   "cell_type": "markdown",
   "metadata": {},
   "source": [
    "#### Panel with LandCover"
   ]
  },
  {
   "cell_type": "code",
   "execution_count": 177,
   "metadata": {
    "scrolled": false
   },
   "outputs": [
    {
     "name": "stderr",
     "output_type": "stream",
     "text": [
      "/Users/JK/anaconda3/lib/python3.7/site-packages/linearmodels/utility.py:549: MissingValueWarning: \n",
      "Inputs contain missing values. Dropping rows with missing observations.\n",
      "  warnings.warn(missing_value_warning_msg, MissingValueWarning)\n"
     ]
    },
    {
     "name": "stdout",
     "output_type": "stream",
     "text": [
      "                          PanelOLS Estimation Summary                           \n",
      "================================================================================\n",
      "Dep. Variable:               elec_use   R-squared:                        0.0090\n",
      "Estimator:                   PanelOLS   R-squared (Between):             -0.0118\n",
      "No. Observations:               14477   R-squared (Within):               0.0090\n",
      "Date:                Wed, Mar 18 2020   R-squared (Overall):              0.0016\n",
      "Time:                        13:18:46   Log-likelihood                -8.292e+04\n",
      "Cov. Estimator:            Unadjusted                                           \n",
      "                                        F-statistic:                      19.712\n",
      "Entities:                        1381   P-value                           0.0000\n",
      "Avg Obs:                       10.483   Distribution:                 F(6,13090)\n",
      "Min Obs:                       1.0000                                           \n",
      "Max Obs:                       12.000   F-statistic (robust):             19.712\n",
      "                                        P-value                           0.0000\n",
      "Time periods:                      12   Distribution:                 F(6,13090)\n",
      "Avg Obs:                       1206.4                                           \n",
      "Min Obs:                       1101.0                                           \n",
      "Max Obs:                       1320.0                                           \n",
      "                                                                                \n",
      "                                                Parameter Estimates                                                \n",
      "===================================================================================================================\n",
      "                                                 Parameter  Std. Err.     T-stat    P-value    Lower CI    Upper CI\n",
      "-------------------------------------------------------------------------------------------------------------------\n",
      "Intercept                                           143.94     1.1707     122.95     0.0000      141.65      146.23\n",
      "DD_monthly                                          0.0368     0.0040     9.1945     0.0000      0.0290      0.0446\n",
      "DD_monthly:LC_Type3[T.forest/shrubland/savanna]     0.0275     0.0139     1.9832     0.0474      0.0003      0.0546\n",
      "DD_monthly:LC_Type3[T.grassland]                   -0.0304     0.0089    -3.4185     0.0006     -0.0479     -0.0130\n",
      "DD_monthly:LC_Type3[T.cropland]                    -0.0173     0.0084    -2.0713     0.0383     -0.0337     -0.0009\n",
      "DD_monthly:LC_Type3[T.water]                        0.0435     0.0518     0.8393     0.4013     -0.0581      0.1451\n",
      "DD_monthly:LC_Type3[T.barren]                      -0.0247     0.0308    -0.8019     0.4226     -0.0850      0.0357\n",
      "===================================================================================================================\n",
      "\n",
      "F-test for Poolability: 18.609\n",
      "P-value: 0.0000\n",
      "Distribution: F(1380,13090)\n",
      "\n",
      "Included effects: Entity\n"
     ]
    }
   ],
   "source": [
    "base_LC = PanelOLS.from_formula('elec_use ~ 1 + DD_monthly + DD_monthly:(LC_Type3) + EntityEffects', data=master)\n",
    "\n",
    "print(base_LC.fit())"
   ]
  },
  {
   "cell_type": "code",
   "execution_count": 178,
   "metadata": {
    "scrolled": false
   },
   "outputs": [
    {
     "name": "stdout",
     "output_type": "stream",
     "text": [
      "                          PanelOLS Estimation Summary                           \n",
      "================================================================================\n",
      "Dep. Variable:               elec_use   R-squared:                        0.0090\n",
      "Estimator:                   PanelOLS   R-squared (Between):             -0.0118\n",
      "No. Observations:               14477   R-squared (Within):               0.0090\n",
      "Date:                Wed, Mar 18 2020   R-squared (Overall):              0.0016\n",
      "Time:                        13:18:47   Log-likelihood                -8.292e+04\n",
      "Cov. Estimator:            Unadjusted                                           \n",
      "                                        F-statistic:                      19.712\n",
      "Entities:                        1381   P-value                           0.0000\n",
      "Avg Obs:                       10.483   Distribution:                 F(6,13090)\n",
      "Min Obs:                       1.0000                                           \n",
      "Max Obs:                       12.000   F-statistic (robust):             19.712\n",
      "                                        P-value                           0.0000\n",
      "Time periods:                      12   Distribution:                 F(6,13090)\n",
      "Avg Obs:                       1206.4                                           \n",
      "Min Obs:                       1101.0                                           \n",
      "Max Obs:                       1320.0                                           \n",
      "                                                                                \n",
      "                                           Parameter Estimates                                           \n",
      "=========================================================================================================\n",
      "                                       Parameter  Std. Err.     T-stat    P-value    Lower CI    Upper CI\n",
      "---------------------------------------------------------------------------------------------------------\n",
      "Intercept                                 143.94     1.1707     122.95     0.0000      141.65      146.23\n",
      "DD_monthly                                0.0368     0.0040     9.1945     0.0000      0.0290      0.0446\n",
      "DD_monthly:LC_Type3[T.cropland]          -0.0173     0.0084    -2.0713     0.0383     -0.0337     -0.0009\n",
      "DD_monthly:LC_Type3[T.forest/savanna]     0.0275     0.0139     1.9832     0.0474      0.0003      0.0546\n",
      "DD_monthly:LC_Type3[T.grassland]         -0.0304     0.0089    -3.4185     0.0006     -0.0479     -0.0130\n",
      "DD_monthly:LC_Type3[T.non-Vegetated]     -0.0247     0.0308    -0.8019     0.4226     -0.0850      0.0357\n",
      "DD_monthly:LC_Type3[T.water]              0.0435     0.0518     0.8393     0.4013     -0.0581      0.1451\n",
      "=========================================================================================================\n",
      "\n",
      "F-test for Poolability: 18.609\n",
      "P-value: 0.0000\n",
      "Distribution: F(1380,13090)\n",
      "\n",
      "Included effects: Entity\n"
     ]
    }
   ],
   "source": [
    "# master1\n",
    "base_LC = PanelOLS.from_formula('elec_use ~ 1 + DD_monthly + DD_monthly:(LC_Type3) + EntityEffects', data=master1)\n",
    "res_base_LC = base_LC.fit()\n",
    "print(res_base_LC)"
   ]
  },
  {
   "cell_type": "code",
   "execution_count": 179,
   "metadata": {},
   "outputs": [],
   "source": [
    "# no EntityEffects, same as pooledOLS"
   ]
  },
  {
   "cell_type": "code",
   "execution_count": 180,
   "metadata": {
    "scrolled": false
   },
   "outputs": [
    {
     "name": "stdout",
     "output_type": "stream",
     "text": [
      "                          PanelOLS Estimation Summary                           \n",
      "================================================================================\n",
      "Dep. Variable:               elec_use   R-squared:                        0.0096\n",
      "Estimator:                   PanelOLS   R-squared (Between):              0.0014\n",
      "No. Observations:               14477   R-squared (Within):              -0.0005\n",
      "Date:                Wed, Mar 18 2020   R-squared (Overall):              0.0096\n",
      "Time:                        13:18:48   Log-likelihood                -9.078e+04\n",
      "Cov. Estimator:            Unadjusted                                           \n",
      "                                        F-statistic:                      23.331\n",
      "Entities:                        1381   P-value                           0.0000\n",
      "Avg Obs:                       10.483   Distribution:                 F(6,14470)\n",
      "Min Obs:                       1.0000                                           \n",
      "Max Obs:                       12.000   F-statistic (robust):             23.331\n",
      "                                        P-value                           0.0000\n",
      "Time periods:                      12   Distribution:                 F(6,14470)\n",
      "Avg Obs:                       1206.4                                           \n",
      "Min Obs:                       1101.0                                           \n",
      "Max Obs:                       1320.0                                           \n",
      "                                                                                \n",
      "                                           Parameter Estimates                                           \n",
      "=========================================================================================================\n",
      "                                       Parameter  Std. Err.     T-stat    P-value    Lower CI    Upper CI\n",
      "---------------------------------------------------------------------------------------------------------\n",
      "Intercept                                 149.83     1.8196     82.346     0.0000      146.27      153.40\n",
      "DD_monthly                                0.0365     0.0052     6.9858     0.0000      0.0263      0.0468\n",
      "DD_monthly:LC_Type3[T.cropland]          -0.0818     0.0078    -10.505     0.0000     -0.0971     -0.0665\n",
      "DD_monthly:LC_Type3[T.forest/savanna]    -0.0592     0.0124    -4.7889     0.0000     -0.0835     -0.0350\n",
      "DD_monthly:LC_Type3[T.grassland]         -0.0356     0.0090    -3.9534     0.0001     -0.0532     -0.0179\n",
      "DD_monthly:LC_Type3[T.non-Vegetated]     -0.0665     0.0264    -2.5172     0.0118     -0.1182     -0.0147\n",
      "DD_monthly:LC_Type3[T.water]             -0.0270     0.0441    -0.6118     0.5407     -0.1135      0.0595\n",
      "=========================================================================================================\n",
      "\n",
      "\n"
     ]
    }
   ],
   "source": [
    "base_LC_ = PanelOLS.from_formula('elec_use ~ 1 + DD_monthly + DD_monthly:(LC_Type3)', data=master1)\n",
    "\n",
    "print(base_LC_.fit())"
   ]
  },
  {
   "cell_type": "markdown",
   "metadata": {},
   "source": [
    "##### Try PooledOLS"
   ]
  },
  {
   "cell_type": "code",
   "execution_count": 181,
   "metadata": {},
   "outputs": [],
   "source": [
    "from linearmodels.panel import PooledOLS"
   ]
  },
  {
   "cell_type": "code",
   "execution_count": 182,
   "metadata": {
    "scrolled": false
   },
   "outputs": [
    {
     "name": "stdout",
     "output_type": "stream",
     "text": [
      "                          PooledOLS Estimation Summary                          \n",
      "================================================================================\n",
      "Dep. Variable:               elec_use   R-squared:                        0.0096\n",
      "Estimator:                  PooledOLS   R-squared (Between):              0.0014\n",
      "No. Observations:               14477   R-squared (Within):              -0.0005\n",
      "Date:                Wed, Mar 18 2020   R-squared (Overall):              0.0096\n",
      "Time:                        13:18:49   Log-likelihood                -9.078e+04\n",
      "Cov. Estimator:            Unadjusted                                           \n",
      "                                        F-statistic:                      23.331\n",
      "Entities:                        1381   P-value                           0.0000\n",
      "Avg Obs:                       10.483   Distribution:                 F(6,14470)\n",
      "Min Obs:                       1.0000                                           \n",
      "Max Obs:                       12.000   F-statistic (robust):             23.331\n",
      "                                        P-value                           0.0000\n",
      "Time periods:                      12   Distribution:                 F(6,14470)\n",
      "Avg Obs:                       1206.4                                           \n",
      "Min Obs:                       1101.0                                           \n",
      "Max Obs:                       1320.0                                           \n",
      "                                                                                \n",
      "                                           Parameter Estimates                                           \n",
      "=========================================================================================================\n",
      "                                       Parameter  Std. Err.     T-stat    P-value    Lower CI    Upper CI\n",
      "---------------------------------------------------------------------------------------------------------\n",
      "Intercept                                 149.83     1.8196     82.346     0.0000      146.27      153.40\n",
      "DD_monthly                                0.0365     0.0052     6.9858     0.0000      0.0263      0.0468\n",
      "DD_monthly:LC_Type3[T.cropland]          -0.0818     0.0078    -10.505     0.0000     -0.0971     -0.0665\n",
      "DD_monthly:LC_Type3[T.forest/savanna]    -0.0592     0.0124    -4.7889     0.0000     -0.0835     -0.0350\n",
      "DD_monthly:LC_Type3[T.grassland]         -0.0356     0.0090    -3.9534     0.0001     -0.0532     -0.0179\n",
      "DD_monthly:LC_Type3[T.non-Vegetated]     -0.0665     0.0264    -2.5172     0.0118     -0.1182     -0.0147\n",
      "DD_monthly:LC_Type3[T.water]             -0.0270     0.0441    -0.6118     0.5407     -0.1135      0.0595\n",
      "=========================================================================================================\n"
     ]
    }
   ],
   "source": [
    "base_LC_pool = PooledOLS.from_formula('elec_use ~ 1 + DD_monthly + DD_monthly:(LC_Type3)', data=master1)\n",
    "res_base_LC_pool = base_LC_pool.fit()\n",
    "print(res_base_LC_pool)"
   ]
  },
  {
   "cell_type": "markdown",
   "metadata": {},
   "source": [
    "##### Try DD_monthly * LC_Type2"
   ]
  },
  {
   "cell_type": "code",
   "execution_count": 183,
   "metadata": {
    "scrolled": false
   },
   "outputs": [
    {
     "name": "stdout",
     "output_type": "stream",
     "text": [
      "                          PanelOLS Estimation Summary                           \n",
      "================================================================================\n",
      "Dep. Variable:               elec_use   R-squared:                        0.0090\n",
      "Estimator:                   PanelOLS   R-squared (Between):             -0.0118\n",
      "No. Observations:               14477   R-squared (Within):               0.0090\n",
      "Date:                Wed, Mar 18 2020   R-squared (Overall):              0.0016\n",
      "Time:                        13:18:50   Log-likelihood                -8.292e+04\n",
      "Cov. Estimator:            Unadjusted                                           \n",
      "                                        F-statistic:                      19.712\n",
      "Entities:                        1381   P-value                           0.0000\n",
      "Avg Obs:                       10.483   Distribution:                 F(6,13090)\n",
      "Min Obs:                       1.0000                                           \n",
      "Max Obs:                       12.000   F-statistic (robust):             19.712\n",
      "                                        P-value                           0.0000\n",
      "Time periods:                      12   Distribution:                 F(6,13090)\n",
      "Avg Obs:                       1206.4                                           \n",
      "Min Obs:                       1101.0                                           \n",
      "Max Obs:                       1320.0                                           \n",
      "                                                                                \n",
      "                                           Parameter Estimates                                           \n",
      "=========================================================================================================\n",
      "                                       Parameter  Std. Err.     T-stat    P-value    Lower CI    Upper CI\n",
      "---------------------------------------------------------------------------------------------------------\n",
      "Intercept                                 143.94     1.1707     122.95     0.0000      141.65      146.23\n",
      "DD_monthly                                0.0368     0.0040     9.1945     0.0000      0.0290      0.0446\n",
      "DD_monthly:LC_Type3[T.cropland]          -0.0173     0.0084    -2.0713     0.0383     -0.0337     -0.0009\n",
      "DD_monthly:LC_Type3[T.forest/savanna]     0.0275     0.0139     1.9832     0.0474      0.0003      0.0546\n",
      "DD_monthly:LC_Type3[T.grassland]         -0.0304     0.0089    -3.4185     0.0006     -0.0479     -0.0130\n",
      "DD_monthly:LC_Type3[T.non-Vegetated]     -0.0247     0.0308    -0.8019     0.4226     -0.0850      0.0357\n",
      "DD_monthly:LC_Type3[T.water]              0.0435     0.0518     0.8393     0.4013     -0.0581      0.1451\n",
      "=========================================================================================================\n",
      "\n",
      "F-test for Poolability: 18.609\n",
      "P-value: 0.0000\n",
      "Distribution: F(1380,13090)\n",
      "\n",
      "Included effects: Entity\n"
     ]
    },
    {
     "name": "stderr",
     "output_type": "stream",
     "text": [
      "/Users/JK/anaconda3/lib/python3.7/site-packages/linearmodels/panel/model.py:1669: AbsorbingEffectWarning: \n",
      "Variables have been fully absorbed and have removed from the regression:\n",
      "\n",
      "LC_Type3[T.cropland], LC_Type3[T.forest/savanna], LC_Type3[T.grassland], LC_Type3[T.non-Vegetated], LC_Type3[T.water]\n",
      "\n",
      "  AbsorbingEffectWarning,\n"
     ]
    }
   ],
   "source": [
    "base_LC_star = PanelOLS.from_formula('elec_use ~ 1 + DD_monthly + DD_monthly * (LC_Type3) + EntityEffects',\n",
    "                                     drop_absorbed=True, data=master1)\n",
    "res_base_LC_star = base_LC_star.fit()\n",
    "print(res_base_LC_star)"
   ]
  },
  {
   "cell_type": "markdown",
   "metadata": {},
   "source": [
    "##### Try province dummy"
   ]
  },
  {
   "cell_type": "code",
   "execution_count": 184,
   "metadata": {
    "scrolled": false
   },
   "outputs": [
    {
     "name": "stdout",
     "output_type": "stream",
     "text": [
      "                          PanelOLS Estimation Summary                           \n",
      "================================================================================\n",
      "Dep. Variable:               elec_use   R-squared:                        0.0090\n",
      "Estimator:                   PanelOLS   R-squared (Between):             -0.0118\n",
      "No. Observations:               14477   R-squared (Within):               0.0090\n",
      "Date:                Wed, Mar 18 2020   R-squared (Overall):              0.0016\n",
      "Time:                        13:18:51   Log-likelihood                -8.292e+04\n",
      "Cov. Estimator:            Unadjusted                                           \n",
      "                                        F-statistic:                      19.712\n",
      "Entities:                        1381   P-value                           0.0000\n",
      "Avg Obs:                       10.483   Distribution:                 F(6,13090)\n",
      "Min Obs:                       1.0000                                           \n",
      "Max Obs:                       12.000   F-statistic (robust):             19.712\n",
      "                                        P-value                           0.0000\n",
      "Time periods:                      12   Distribution:                 F(6,13090)\n",
      "Avg Obs:                       1206.4                                           \n",
      "Min Obs:                       1101.0                                           \n",
      "Max Obs:                       1320.0                                           \n",
      "                                                                                \n",
      "                                           Parameter Estimates                                           \n",
      "=========================================================================================================\n",
      "                                       Parameter  Std. Err.     T-stat    P-value    Lower CI    Upper CI\n",
      "---------------------------------------------------------------------------------------------------------\n",
      "Intercept                                 143.94     1.1707     122.95     0.0000      141.65      146.23\n",
      "DD_monthly                                0.0368     0.0040     9.1945     0.0000      0.0290      0.0446\n",
      "DD_monthly:LC_Type3[T.cropland]          -0.0173     0.0084    -2.0713     0.0383     -0.0337     -0.0009\n",
      "DD_monthly:LC_Type3[T.forest/savanna]     0.0275     0.0139     1.9832     0.0474      0.0003      0.0546\n",
      "DD_monthly:LC_Type3[T.grassland]         -0.0304     0.0089    -3.4185     0.0006     -0.0479     -0.0130\n",
      "DD_monthly:LC_Type3[T.non-Vegetated]     -0.0247     0.0308    -0.8019     0.4226     -0.0850      0.0357\n",
      "DD_monthly:LC_Type3[T.water]              0.0435     0.0518     0.8393     0.4013     -0.0581      0.1451\n",
      "=========================================================================================================\n",
      "\n",
      "F-test for Poolability: 18.609\n",
      "P-value: 0.0000\n",
      "Distribution: F(1380,13090)\n",
      "\n",
      "Included effects: Entity\n"
     ]
    },
    {
     "name": "stderr",
     "output_type": "stream",
     "text": [
      "/Users/JK/anaconda3/lib/python3.7/site-packages/linearmodels/panel/model.py:1669: AbsorbingEffectWarning: \n",
      "Variables have been fully absorbed and have removed from the regression:\n",
      "\n",
      "province[T.云南], province[T.内蒙古], province[T.北京], province[T.吉林], province[T.四川], province[T.天津], province[T.宁夏回族自治区], province[T.安徽], province[T.山东], province[T.山西], province[T.广东], province[T.广西], province[T.新疆], province[T.江西], province[T.河北], province[T.河南], province[T.浙江], province[T.海南], province[T.湖北], province[T.湖南], province[T.甘肃], province[T.福建], province[T.贵州], province[T.辽宁], province[T.重庆], province[T.黑龙江]\n",
      "\n",
      "  AbsorbingEffectWarning,\n"
     ]
    }
   ],
   "source": [
    "base_LC_prov = PanelOLS.from_formula('elec_use ~ 1 + DD_monthly + DD_monthly:(LC_Type3) +province + EntityEffects',\n",
    "                                     drop_absorbed=True, data=master1)\n",
    "res_base_LC_prov = base_LC_prov.fit()\n",
    "print(res_base_LC_prov)"
   ]
  },
  {
   "cell_type": "markdown",
   "metadata": {},
   "source": [
    "##### Try Random Effects"
   ]
  },
  {
   "cell_type": "code",
   "execution_count": 185,
   "metadata": {},
   "outputs": [],
   "source": [
    "from linearmodels.panel import RandomEffects"
   ]
  },
  {
   "cell_type": "code",
   "execution_count": 187,
   "metadata": {
    "scrolled": false
   },
   "outputs": [
    {
     "name": "stdout",
     "output_type": "stream",
     "text": [
      "                        RandomEffects Estimation Summary                        \n",
      "================================================================================\n",
      "Dep. Variable:               elec_use   R-squared:                        0.0521\n",
      "Estimator:              RandomEffects   R-squared (Between):              0.2145\n",
      "No. Observations:               14477   R-squared (Within):               0.0089\n",
      "Date:                Wed, Mar 18 2020   R-squared (Overall):              0.1291\n",
      "Time:                        13:18:53   Log-likelihood                -8.362e+04\n",
      "Cov. Estimator:            Unadjusted                                           \n",
      "                                        F-statistic:                      24.831\n",
      "Entities:                        1381   P-value                           0.0000\n",
      "Avg Obs:                       10.483   Distribution:                F(32,14444)\n",
      "Min Obs:                       1.0000                                           \n",
      "Max Obs:                       12.000   F-statistic (robust):             15.034\n",
      "                                        P-value                           0.0000\n",
      "Time periods:                      12   Distribution:                F(32,14444)\n",
      "Avg Obs:                       1206.4                                           \n",
      "Min Obs:                       1101.0                                           \n",
      "Max Obs:                       1320.0                                           \n",
      "                                                                                \n",
      "                                           Parameter Estimates                                           \n",
      "=========================================================================================================\n",
      "                                       Parameter  Std. Err.     T-stat    P-value    Lower CI    Upper CI\n",
      "---------------------------------------------------------------------------------------------------------\n",
      "Intercept                                 244.45     13.158     18.579     0.0000      218.66      270.24\n",
      "province[T.云南]                           -169.64     23.663    -7.1690     0.0000     -216.02     -123.26\n",
      "province[T.内蒙古]                          -49.037     21.828    -2.2466     0.0247     -91.822     -6.2522\n",
      "province[T.北京]                           -105.18     19.579    -5.3719     0.0000     -143.55     -66.798\n",
      "province[T.吉林]                           -143.48     18.089    -7.9322     0.0000     -178.94     -108.03\n",
      "province[T.四川]                           -117.30     21.880    -5.3610     0.0000     -160.19     -74.410\n",
      "province[T.天津]                           -106.94     27.099    -3.9462     0.0001     -160.05     -53.820\n",
      "province[T.宁夏回族自治区]                      -122.23     27.223    -4.4898     0.0000     -175.59     -68.866\n",
      "province[T.安徽]                           -6.7367     21.111    -0.3191     0.7496     -48.117      34.643\n",
      "province[T.山东]                           -82.010     15.058    -5.4464     0.0000     -111.52     -52.495\n",
      "province[T.山西]                           -29.268     20.104    -1.4558     0.1455     -68.674      10.138\n",
      "province[T.广东]                            39.554     54.599     0.7245     0.4688     -67.466      146.57\n",
      "province[T.广西]                           -97.367     21.696    -4.4877     0.0000     -139.89     -54.839\n",
      "province[T.新疆]                           -107.79     24.746    -4.3559     0.0000     -156.30     -59.287\n",
      "province[T.江西]                           -151.60     27.134    -5.5871     0.0000     -204.79     -98.415\n",
      "province[T.河北]                           -146.79     18.577    -7.9015     0.0000     -183.20     -110.38\n",
      "province[T.河南]                           -113.90     16.035    -7.1031     0.0000     -145.33     -82.469\n",
      "province[T.浙江]                           -100.58     22.638    -4.4430     0.0000     -144.95     -56.206\n",
      "province[T.海南]                           -120.11     76.286    -1.5745     0.1154     -269.64      29.420\n",
      "province[T.湖北]                           -124.64     15.966    -7.8071     0.0000     -155.94     -93.350\n",
      "province[T.湖南]                           -80.203     16.361    -4.9021     0.0000     -112.27     -48.133\n",
      "province[T.甘肃]                           -55.065     27.144    -2.0286     0.0425     -108.27     -1.8597\n",
      "province[T.福建]                           -15.325     23.173    -0.6613     0.5084     -60.747      30.097\n",
      "province[T.贵州]                           -92.269     26.688    -3.4573     0.0005     -144.58     -39.957\n",
      "province[T.辽宁]                           -121.01     26.566    -4.5550     0.0000     -173.08     -68.934\n",
      "province[T.重庆]                            149.39     23.866     6.2598     0.0000      102.61      196.17\n",
      "province[T.黑龙江]                          -133.91     20.854    -6.4215     0.0000     -174.79     -93.037\n",
      "DD_monthly                                0.0385     0.0039     9.7972     0.0000      0.0308      0.0462\n",
      "DD_monthly:LC_Type3[T.cropland]          -0.0234     0.0080    -2.9284     0.0034     -0.0390     -0.0077\n",
      "DD_monthly:LC_Type3[T.forest/savanna]     0.0211     0.0132     1.5936     0.1110     -0.0049      0.0471\n",
      "DD_monthly:LC_Type3[T.grassland]         -0.0300     0.0087    -3.4631     0.0005     -0.0470     -0.0130\n",
      "DD_monthly:LC_Type3[T.non-Vegetated]     -0.0289     0.0291    -0.9942     0.3201     -0.0858      0.0281\n",
      "DD_monthly:LC_Type3[T.water]              0.0282     0.0486     0.5799     0.5620     -0.0670      0.1234\n",
      "=========================================================================================================\n"
     ]
    }
   ],
   "source": [
    "base_LC_RE = RandomEffects.from_formula('elec_use ~ 1 + DD_monthly + DD_monthly:(LC_Type3) +province ',\n",
    "                                      data=master1)\n",
    "res_base_LC_RE = base_LC_RE.fit()\n",
    "print(res_base_LC_RE)"
   ]
  },
  {
   "cell_type": "code",
   "execution_count": 188,
   "metadata": {},
   "outputs": [
    {
     "data": {
      "text/plain": [
       "Effects                   10698.616424\n",
       "Residual                   6123.841704\n",
       "Percent due to Effects        0.635972\n",
       "Name: Variance Decomposition, dtype: float64"
      ]
     },
     "execution_count": 188,
     "metadata": {},
     "output_type": "execute_result"
    }
   ],
   "source": [
    "res_base_LC_RE.variance_decomposition"
   ]
  },
  {
   "cell_type": "markdown",
   "metadata": {},
   "source": [
    "##### Compare Results"
   ]
  },
  {
   "cell_type": "code",
   "execution_count": 260,
   "metadata": {
    "scrolled": false
   },
   "outputs": [],
   "source": [
    "from linearmodels.panel import compare\n",
    "# print(compare({'Fixed':res_base_LC,'prov':res_base_LC_prov,'star':res_base_LC_star}))"
   ]
  },
  {
   "cell_type": "code",
   "execution_count": 190,
   "metadata": {
    "scrolled": false
   },
   "outputs": [
    {
     "name": "stdout",
     "output_type": "stream",
     "text": [
      "                                            Model Comparison                                            \n",
      "========================================================================================================\n",
      "                                                   Fixed           prov           Pool                RE\n",
      "--------------------------------------------------------------------------------------------------------\n",
      "Dep. Variable                                   elec_use       elec_use       elec_use          elec_use\n",
      "Estimator                                       PanelOLS       PanelOLS      PooledOLS     RandomEffects\n",
      "No. Observations                                   14477          14477          14477             14477\n",
      "Cov. Est.                                     Unadjusted     Unadjusted     Unadjusted        Unadjusted\n",
      "R-squared                                         0.0090         0.0090         0.0096            0.0521\n",
      "R-Squared (Within)                                0.0090         0.0090        -0.0005            0.0089\n",
      "R-Squared (Between)                              -0.0118        -0.0118         0.0014            0.2145\n",
      "R-Squared (Overall)                               0.0016         0.0016         0.0096            0.1291\n",
      "F-statistic                                       19.712         19.712         23.331            24.831\n",
      "P-value (F-stat)                                  0.0000         0.0000         0.0000            0.0000\n",
      "=======================================     ============   ============   ============   ===============\n",
      "Intercept                                         143.94         143.94         149.83            244.45\n",
      "                                                (122.95)       (122.95)       (82.346)          (18.579)\n",
      "DD_monthly                                        0.0368         0.0368         0.0365            0.0385\n",
      "                                                (9.1945)       (9.1945)       (6.9858)          (9.7972)\n",
      "DD_monthly:LC_Type3[T.cropland]                  -0.0173        -0.0173        -0.0818           -0.0234\n",
      "                                               (-2.0713)      (-2.0713)      (-10.505)         (-2.9284)\n",
      "DD_monthly:LC_Type3[T.forest/savanna]             0.0275         0.0275        -0.0592            0.0211\n",
      "                                                (1.9832)       (1.9832)      (-4.7889)          (1.5936)\n",
      "DD_monthly:LC_Type3[T.grassland]                 -0.0304        -0.0304        -0.0356           -0.0300\n",
      "                                               (-3.4185)      (-3.4185)      (-3.9534)         (-3.4631)\n",
      "DD_monthly:LC_Type3[T.non-Vegetated]             -0.0247        -0.0247        -0.0665           -0.0289\n",
      "                                               (-0.8019)      (-0.8019)      (-2.5172)         (-0.9942)\n",
      "DD_monthly:LC_Type3[T.water]                      0.0435         0.0435        -0.0270            0.0282\n",
      "                                                (0.8393)       (0.8393)      (-0.6118)          (0.5799)\n",
      "province[T.云南]                                                                                   -169.64\n",
      "                                                                                               (-7.1690)\n",
      "province[T.内蒙古]                                                                                  -49.037\n",
      "                                                                                               (-2.2466)\n",
      "province[T.北京]                                                                                   -105.18\n",
      "                                                                                               (-5.3719)\n",
      "province[T.吉林]                                                                                   -143.48\n",
      "                                                                                               (-7.9322)\n",
      "province[T.四川]                                                                                   -117.30\n",
      "                                                                                               (-5.3610)\n",
      "province[T.天津]                                                                                   -106.94\n",
      "                                                                                               (-3.9462)\n",
      "province[T.宁夏回族自治区]                                                                              -122.23\n",
      "                                                                                               (-4.4898)\n",
      "province[T.安徽]                                                                                   -6.7367\n",
      "                                                                                               (-0.3191)\n",
      "province[T.山东]                                                                                   -82.010\n",
      "                                                                                               (-5.4464)\n",
      "province[T.山西]                                                                                   -29.268\n",
      "                                                                                               (-1.4558)\n",
      "province[T.广东]                                                                                    39.554\n",
      "                                                                                                (0.7245)\n",
      "province[T.广西]                                                                                   -97.367\n",
      "                                                                                               (-4.4877)\n",
      "province[T.新疆]                                                                                   -107.79\n",
      "                                                                                               (-4.3559)\n",
      "province[T.江西]                                                                                   -151.60\n",
      "                                                                                               (-5.5871)\n",
      "province[T.河北]                                                                                   -146.79\n",
      "                                                                                               (-7.9015)\n",
      "province[T.河南]                                                                                   -113.90\n",
      "                                                                                               (-7.1031)\n",
      "province[T.浙江]                                                                                   -100.58\n",
      "                                                                                               (-4.4430)\n",
      "province[T.海南]                                                                                   -120.11\n",
      "                                                                                               (-1.5745)\n",
      "province[T.湖北]                                                                                   -124.64\n",
      "                                                                                               (-7.8071)\n",
      "province[T.湖南]                                                                                   -80.203\n",
      "                                                                                               (-4.9021)\n",
      "province[T.甘肃]                                                                                   -55.065\n",
      "                                                                                               (-2.0286)\n",
      "province[T.福建]                                                                                   -15.325\n",
      "                                                                                               (-0.6613)\n",
      "province[T.贵州]                                                                                   -92.269\n",
      "                                                                                               (-3.4573)\n",
      "province[T.辽宁]                                                                                   -121.01\n",
      "                                                                                               (-4.5550)\n",
      "province[T.重庆]                                                                                    149.39\n",
      "                                                                                                (6.2598)\n",
      "province[T.黑龙江]                                                                                  -133.91\n",
      "                                                                                               (-6.4215)\n",
      "========================================= ============== ============== ============== =================\n",
      "Effects                                           Entity         Entity                                 \n",
      "--------------------------------------------------------------------------------------------------------\n",
      "\n",
      "T-stats reported in parentheses\n"
     ]
    }
   ],
   "source": [
    "print(compare({'Fixed':res_base_LC,'prov':res_base_LC_prov,'Pool':res_base_LC_pool,'RE':res_base_LC_RE}))"
   ]
  },
  {
   "cell_type": "markdown",
   "metadata": {},
   "source": [
    "##### Try `LC_Type2s`"
   ]
  },
  {
   "cell_type": "code",
   "execution_count": 191,
   "metadata": {
    "scrolled": false
   },
   "outputs": [
    {
     "name": "stdout",
     "output_type": "stream",
     "text": [
      "                          PanelOLS Estimation Summary                           \n",
      "================================================================================\n",
      "Dep. Variable:               elec_use   R-squared:                        0.0112\n",
      "Estimator:                   PanelOLS   R-squared (Between):             -0.0101\n",
      "No. Observations:               14477   R-squared (Within):               0.0112\n",
      "Date:                Wed, Mar 18 2020   R-squared (Overall):              0.0019\n",
      "Time:                        13:18:55   Log-likelihood                 -8.29e+04\n",
      "Cov. Estimator:            Unadjusted                                           \n",
      "                                        F-statistic:                      13.417\n",
      "Entities:                        1381   P-value                           0.0000\n",
      "Avg Obs:                       10.483   Distribution:                F(11,13085)\n",
      "Min Obs:                       1.0000                                           \n",
      "Max Obs:                       12.000   F-statistic (robust):             13.417\n",
      "                                        P-value                           0.0000\n",
      "Time periods:                      12   Distribution:                F(11,13085)\n",
      "Avg Obs:                       1206.4                                           \n",
      "Min Obs:                       1101.0                                           \n",
      "Max Obs:                       1320.0                                           \n",
      "                                                                                \n",
      "                                            Parameter Estimates                                            \n",
      "===========================================================================================================\n",
      "                                         Parameter  Std. Err.     T-stat    P-value    Lower CI    Upper CI\n",
      "-----------------------------------------------------------------------------------------------------------\n",
      "Intercept                                   143.55     1.1766     122.00     0.0000      141.24      145.85\n",
      "DD_monthly                                  0.0368     0.0040     9.2030     0.0000      0.0290      0.0446\n",
      "DD_monthly:LC_Type2s[T.Cropland]           -0.0230     0.0085    -2.6970     0.0070     -0.0398     -0.0063\n",
      "DD_monthly:LC_Type2s[T.Evergreen]           0.2052     0.1563     1.3129     0.1892     -0.1012      0.5115\n",
      "DD_monthly:LC_Type2s[T.Grassland]          -0.0304     0.0089    -3.4216     0.0006     -0.0479     -0.0130\n",
      "DD_monthly:LC_Type2s[T.Mixed forest]        0.1549     0.0656     2.3623     0.0182      0.0264      0.2834\n",
      "DD_monthly:LC_Type2s[T.Non-Vegetated]      -0.0247     0.0308    -0.8026     0.4222     -0.0850      0.0356\n",
      "DD_monthly:LC_Type2s[T.Savanna]             0.0211     0.0143     1.4723     0.1410     -0.0070      0.0491\n",
      "DD_monthly:LC_Type2s[T.Water]               0.3002     0.0877     3.4218     0.0006      0.1282      0.4721\n",
      "DD_monthly:LC_Type2s[T.Wetland]            -0.0930     0.0640    -1.4523     0.1464     -0.2185      0.0325\n",
      "DD_monthly:LC_Type2s[T.Woody Savanna]       0.0028     0.0879     0.0324     0.9742     -0.1695      0.1752\n",
      "DD_monthly:LC_Type2s[T.cropland mosaic]     0.0825     0.0318     2.5940     0.0095      0.0202      0.1449\n",
      "===========================================================================================================\n",
      "\n",
      "F-test for Poolability: 18.590\n",
      "P-value: 0.0000\n",
      "Distribution: F(1380,13085)\n",
      "\n",
      "Included effects: Entity\n"
     ]
    }
   ],
   "source": [
    "base_LC2 = PanelOLS.from_formula('elec_use ~ 1 + DD_monthly + DD_monthly:(LC_Type2s) + EntityEffects', data=master1)\n",
    "\n",
    "print(base_LC2.fit())"
   ]
  },
  {
   "cell_type": "markdown",
   "metadata": {},
   "source": [
    "##### w/ Log `elec_use`"
   ]
  },
  {
   "cell_type": "code",
   "execution_count": 192,
   "metadata": {
    "scrolled": false
   },
   "outputs": [
    {
     "name": "stdout",
     "output_type": "stream",
     "text": [
      "                          PanelOLS Estimation Summary                           \n",
      "================================================================================\n",
      "Dep. Variable:                elec_ln   R-squared:                        0.0089\n",
      "Estimator:                   PanelOLS   R-squared (Between):             -0.0047\n",
      "No. Observations:               14477   R-squared (Within):               0.0089\n",
      "Date:                Wed, Mar 18 2020   R-squared (Overall):              0.0045\n",
      "Time:                        13:18:56   Log-likelihood                   -7449.4\n",
      "Cov. Estimator:            Unadjusted                                           \n",
      "                                        F-statistic:                      19.486\n",
      "Entities:                        1381   P-value                           0.0000\n",
      "Avg Obs:                       10.483   Distribution:                 F(6,13090)\n",
      "Min Obs:                       1.0000                                           \n",
      "Max Obs:                       12.000   F-statistic (robust):             19.486\n",
      "                                        P-value                           0.0000\n",
      "Time periods:                      12   Distribution:                 F(6,13090)\n",
      "Avg Obs:                       1206.4                                           \n",
      "Min Obs:                       1101.0                                           \n",
      "Max Obs:                       1320.0                                           \n",
      "                                                                                \n",
      "                                           Parameter Estimates                                           \n",
      "=========================================================================================================\n",
      "                                       Parameter  Std. Err.     T-stat    P-value    Lower CI    Upper CI\n",
      "---------------------------------------------------------------------------------------------------------\n",
      "Intercept                                 4.7361     0.0064     742.93     0.0000      4.7236      4.7486\n",
      "DD_monthly                                0.0002   2.18e-05     9.4833     0.0000      0.0002      0.0002\n",
      "DD_monthly:LC_Type3[T.cropland]        -8.26e-05  4.555e-05    -1.8134     0.0698     -0.0002   6.682e-06\n",
      "DD_monthly:LC_Type3[T.forest/savanna]   7.14e-05  7.544e-05     0.9465     0.3439  -7.647e-05      0.0002\n",
      "DD_monthly:LC_Type3[T.grassland]         -0.0002  4.849e-05    -3.1046     0.0019     -0.0002  -5.549e-05\n",
      "DD_monthly:LC_Type3[T.non-Vegetated]  -8.724e-05     0.0002    -0.5204     0.6028     -0.0004      0.0002\n",
      "DD_monthly:LC_Type3[T.water]           -4.55e-05     0.0003    -0.1612     0.8720     -0.0006      0.0005\n",
      "=========================================================================================================\n",
      "\n",
      "F-test for Poolability: 21.160\n",
      "P-value: 0.0000\n",
      "Distribution: F(1380,13090)\n",
      "\n",
      "Included effects: Entity\n"
     ]
    }
   ],
   "source": [
    "base_LC_ln = PanelOLS.from_formula('elec_ln ~ 1 + DD_monthly + DD_monthly:(LC_Type3) + EntityEffects', data=master1)\n",
    "\n",
    "print(base_LC_ln.fit())"
   ]
  },
  {
   "cell_type": "markdown",
   "metadata": {},
   "source": [
    "#### baseline with NonVege and VegeCover"
   ]
  },
  {
   "cell_type": "code",
   "execution_count": 261,
   "metadata": {
    "scrolled": false
   },
   "outputs": [
    {
     "name": "stderr",
     "output_type": "stream",
     "text": [
      "/Users/JK/anaconda3/lib/python3.7/site-packages/linearmodels/utility.py:549: MissingValueWarning: \n",
      "Inputs contain missing values. Dropping rows with missing observations.\n",
      "  warnings.warn(missing_value_warning_msg, MissingValueWarning)\n"
     ]
    },
    {
     "name": "stdout",
     "output_type": "stream",
     "text": [
      "                          PanelOLS Estimation Summary                           \n",
      "================================================================================\n",
      "Dep. Variable:               elec_use   R-squared:                        0.0074\n",
      "Estimator:                   PanelOLS   R-squared (Between):             -0.0122\n",
      "No. Observations:               14375   R-squared (Within):               0.0074\n",
      "Date:                Wed, Mar 18 2020   R-squared (Overall):              0.0015\n",
      "Time:                        19:37:42   Log-likelihood                -8.233e+04\n",
      "Cov. Estimator:            Unadjusted                                           \n",
      "                                        F-statistic:                      48.255\n",
      "Entities:                        1371   P-value                           0.0000\n",
      "Avg Obs:                       10.485   Distribution:                 F(2,13002)\n",
      "Min Obs:                       1.0000                                           \n",
      "Max Obs:                       12.000   F-statistic (robust):             48.255\n",
      "                                        P-value                           0.0000\n",
      "Time periods:                      12   Distribution:                 F(2,13002)\n",
      "Avg Obs:                       1197.9                                           \n",
      "Min Obs:                       1092.0                                           \n",
      "Max Obs:                       1312.0                                           \n",
      "                                                                                \n",
      "                                 Parameter Estimates                                  \n",
      "======================================================================================\n",
      "                    Parameter  Std. Err.     T-stat    P-value    Lower CI    Upper CI\n",
      "--------------------------------------------------------------------------------------\n",
      "Intercept              144.96     1.1498     126.07     0.0000      142.71      147.22\n",
      "DD_monthly             0.0194     0.0083     2.3347     0.0196      0.0031      0.0357\n",
      "DD_monthly:NonVege     0.0002     0.0002     1.4075     0.1593  -9.458e-05      0.0006\n",
      "======================================================================================\n",
      "\n",
      "F-test for Poolability: 18.599\n",
      "P-value: 0.0000\n",
      "Distribution: F(1370,13002)\n",
      "\n",
      "Included effects: Entity\n"
     ]
    }
   ],
   "source": [
    "\n",
    "base_NV = PanelOLS.from_formula('elec_use ~ 1 + DD_monthly + DD_monthly:NonVege + EntityEffects', data=master)\n",
    "print(base_NV.fit())"
   ]
  },
  {
   "cell_type": "code",
   "execution_count": 262,
   "metadata": {
    "scrolled": false
   },
   "outputs": [
    {
     "name": "stdout",
     "output_type": "stream",
     "text": [
      "                          PanelOLS Estimation Summary                           \n",
      "================================================================================\n",
      "Dep. Variable:               elec_use   R-squared:                        0.0074\n",
      "Estimator:                   PanelOLS   R-squared (Between):             -0.0122\n",
      "No. Observations:               14375   R-squared (Within):               0.0074\n",
      "Date:                Wed, Mar 18 2020   R-squared (Overall):              0.0015\n",
      "Time:                        19:37:42   Log-likelihood                -8.233e+04\n",
      "Cov. Estimator:            Unadjusted                                           \n",
      "                                        F-statistic:                      48.255\n",
      "Entities:                        1371   P-value                           0.0000\n",
      "Avg Obs:                       10.485   Distribution:                 F(2,13002)\n",
      "Min Obs:                       1.0000                                           \n",
      "Max Obs:                       12.000   F-statistic (robust):             48.255\n",
      "                                        P-value                           0.0000\n",
      "Time periods:                      12   Distribution:                 F(2,13002)\n",
      "Avg Obs:                       1197.9                                           \n",
      "Min Obs:                       1092.0                                           \n",
      "Max Obs:                       1312.0                                           \n",
      "                                                                                \n",
      "                                 Parameter Estimates                                  \n",
      "======================================================================================\n",
      "                    Parameter  Std. Err.     T-stat    P-value    Lower CI    Upper CI\n",
      "--------------------------------------------------------------------------------------\n",
      "Intercept              144.96     1.1498     126.07     0.0000      142.71      147.22\n",
      "DD_monthly             0.0194     0.0083     2.3347     0.0196      0.0031      0.0357\n",
      "DD_monthly:NonVege     0.0002     0.0002     1.4075     0.1593  -9.458e-05      0.0006\n",
      "======================================================================================\n",
      "\n",
      "F-test for Poolability: 18.599\n",
      "P-value: 0.0000\n",
      "Distribution: F(1370,13002)\n",
      "\n",
      "Included effects: Entity\n"
     ]
    }
   ],
   "source": [
    "\n",
    "base_NV = PanelOLS.from_formula('elec_use ~ 1 + DD_monthly + DD_monthly:NonVege + EntityEffects', data=master1)\n",
    "print(base_NV.fit())"
   ]
  },
  {
   "cell_type": "code",
   "execution_count": 263,
   "metadata": {
    "scrolled": false
   },
   "outputs": [
    {
     "name": "stdout",
     "output_type": "stream",
     "text": [
      "                          PanelOLS Estimation Summary                           \n",
      "================================================================================\n",
      "Dep. Variable:               elec_use   R-squared:                        0.0074\n",
      "Estimator:                   PanelOLS   R-squared (Between):             -0.0122\n",
      "No. Observations:               14375   R-squared (Within):               0.0074\n",
      "Date:                Wed, Mar 18 2020   R-squared (Overall):              0.0015\n",
      "Time:                        19:37:43   Log-likelihood                -8.233e+04\n",
      "Cov. Estimator:            Unadjusted                                           \n",
      "                                        F-statistic:                      48.255\n",
      "Entities:                        1371   P-value                           0.0000\n",
      "Avg Obs:                       10.485   Distribution:                 F(2,13002)\n",
      "Min Obs:                       1.0000                                           \n",
      "Max Obs:                       12.000   F-statistic (robust):             48.255\n",
      "                                        P-value                           0.0000\n",
      "Time periods:                      12   Distribution:                 F(2,13002)\n",
      "Avg Obs:                       1197.9                                           \n",
      "Min Obs:                       1092.0                                           \n",
      "Max Obs:                       1312.0                                           \n",
      "                                                                                \n",
      "                                   Parameter Estimates                                   \n",
      "=========================================================================================\n",
      "                       Parameter  Std. Err.     T-stat    P-value    Lower CI    Upper CI\n",
      "-----------------------------------------------------------------------------------------\n",
      "Intercept                 144.96     1.1498     126.07     0.0000      142.71      147.22\n",
      "DD_monthly                0.0435     0.0099     4.3940     0.0000      0.0241      0.0629\n",
      "DD_monthly:Vege_Cover    -0.0002     0.0002    -1.4075     0.1593     -0.0006   9.458e-05\n",
      "=========================================================================================\n",
      "\n",
      "F-test for Poolability: 18.599\n",
      "P-value: 0.0000\n",
      "Distribution: F(1370,13002)\n",
      "\n",
      "Included effects: Entity\n"
     ]
    }
   ],
   "source": [
    "# Vege_Cover\n",
    "base_VC = PanelOLS.from_formula('elec_use ~ 1 + DD_monthly + DD_monthly:Vege_Cover + EntityEffects', data=master1)\n",
    "print(base_VC.fit())"
   ]
  },
  {
   "cell_type": "code",
   "execution_count": 264,
   "metadata": {
    "scrolled": false
   },
   "outputs": [
    {
     "name": "stdout",
     "output_type": "stream",
     "text": [
      "                          PanelOLS Estimation Summary                           \n",
      "================================================================================\n",
      "Dep. Variable:                elec_ln   R-squared:                        0.0079\n",
      "Estimator:                   PanelOLS   R-squared (Between):             -0.0036\n",
      "No. Observations:               14375   R-squared (Within):               0.0079\n",
      "Date:                Wed, Mar 18 2020   R-squared (Overall):              0.0056\n",
      "Time:                        19:37:43   Log-likelihood                   -7422.2\n",
      "Cov. Estimator:            Unadjusted                                           \n",
      "                                        F-statistic:                      51.598\n",
      "Entities:                        1371   P-value                           0.0000\n",
      "Avg Obs:                       10.485   Distribution:                 F(2,13002)\n",
      "Min Obs:                       1.0000                                           \n",
      "Max Obs:                       12.000   F-statistic (robust):             51.598\n",
      "                                        P-value                           0.0000\n",
      "Time periods:                      12   Distribution:                 F(2,13002)\n",
      "Avg Obs:                       1197.9                                           \n",
      "Min Obs:                       1092.0                                           \n",
      "Max Obs:                       1312.0                                           \n",
      "                                                                                \n",
      "                                   Parameter Estimates                                   \n",
      "=========================================================================================\n",
      "                       Parameter  Std. Err.     T-stat    P-value    Lower CI    Upper CI\n",
      "-----------------------------------------------------------------------------------------\n",
      "Intercept                 4.7412     0.0063     755.70     0.0000      4.7289      4.7535\n",
      "DD_monthly                0.0002  5.404e-05     4.4809     0.0000      0.0001      0.0003\n",
      "DD_monthly:Vege_Cover -1.295e-06  9.339e-07    -1.3861     0.1657  -3.125e-06   5.361e-07\n",
      "=========================================================================================\n",
      "\n",
      "F-test for Poolability: 21.170\n",
      "P-value: 0.0000\n",
      "Distribution: F(1370,13002)\n",
      "\n",
      "Included effects: Entity\n"
     ]
    }
   ],
   "source": [
    "base_VC_ln = PanelOLS.from_formula('elec_ln ~ 1 + DD_monthly + DD_monthly:Vege_Cover + EntityEffects', data=master1)\n",
    "print(base_VC_ln.fit())"
   ]
  },
  {
   "cell_type": "markdown",
   "metadata": {},
   "source": [
    "#### Summer"
   ]
  },
  {
   "cell_type": "markdown",
   "metadata": {},
   "source": [
    "DD at 0.1469, grassland and cropland signi positive, forest/savanna signi and positive"
   ]
  },
  {
   "cell_type": "code",
   "execution_count": 265,
   "metadata": {
    "scrolled": false
   },
   "outputs": [
    {
     "name": "stdout",
     "output_type": "stream",
     "text": [
      "                          PanelOLS Estimation Summary                           \n",
      "================================================================================\n",
      "Dep. Variable:               elec_use   R-squared:                        0.0465\n",
      "Estimator:                   PanelOLS   R-squared (Between):              0.0122\n",
      "No. Observations:                7295   R-squared (Within):               0.0465\n",
      "Date:                Wed, Mar 18 2020   R-squared (Overall):              0.0340\n",
      "Time:                        19:37:43   Log-likelihood                -4.103e+04\n",
      "Cov. Estimator:            Unadjusted                                           \n",
      "                                        F-statistic:                      48.015\n",
      "Entities:                        1380   P-value                           0.0000\n",
      "Avg Obs:                       5.2862   Distribution:                  F(6,5909)\n",
      "Min Obs:                       1.0000                                           \n",
      "Max Obs:                       6.0000   F-statistic (robust):             48.015\n",
      "                                        P-value                           0.0000\n",
      "Time periods:                       6   Distribution:                  F(6,5909)\n",
      "Avg Obs:                       1215.8                                           \n",
      "Min Obs:                       1180.0                                           \n",
      "Max Obs:                       1281.0                                           \n",
      "                                                                                \n",
      "                                                 Parameter Estimates                                                  \n",
      "======================================================================================================================\n",
      "                                                    Parameter  Std. Err.     T-stat    P-value    Lower CI    Upper CI\n",
      "----------------------------------------------------------------------------------------------------------------------\n",
      "Intercept                                              126.89     2.0834     60.904     0.0000      122.80      130.97\n",
      "DD_monthly                                             0.1469     0.0102     14.470     0.0000      0.1270      0.1668\n",
      "DD_monthly:C(LC_Type3)[T.forest/shrubland/savanna]     0.0701     0.0301     2.3292     0.0199      0.0111      0.1291\n",
      "DD_monthly:C(LC_Type3)[T.grassland]                   -0.1273     0.0442    -2.8825     0.0040     -0.2139     -0.0407\n",
      "DD_monthly:C(LC_Type3)[T.cropland]                    -0.0583     0.0257    -2.2698     0.0233     -0.1087     -0.0080\n",
      "DD_monthly:C(LC_Type3)[T.water]                        0.0887     0.0995     0.8919     0.3725     -0.1063      0.2838\n",
      "DD_monthly:C(LC_Type3)[T.barren]                      -0.1279     0.0970    -1.3189     0.1872     -0.3181      0.0622\n",
      "======================================================================================================================\n",
      "\n",
      "F-test for Poolability: 10.773\n",
      "P-value: 0.0000\n",
      "Distribution: F(1379,5909)\n",
      "\n",
      "Included effects: Entity\n"
     ]
    }
   ],
   "source": [
    "summer_LC = PanelOLS.from_formula('elec_use ~ 1 + DD_monthly + DD_monthly:C(LC_Type3) + EntityEffects', \n",
    "                                  data=master[master['summer']==1])\n",
    "\n",
    "print(summer_LC.fit())"
   ]
  },
  {
   "cell_type": "code",
   "execution_count": 266,
   "metadata": {
    "scrolled": true
   },
   "outputs": [
    {
     "name": "stdout",
     "output_type": "stream",
     "text": [
      "                          PanelOLS Estimation Summary                           \n",
      "================================================================================\n",
      "Dep. Variable:               elec_use   R-squared:                        0.0465\n",
      "Estimator:                   PanelOLS   R-squared (Between):              0.0122\n",
      "No. Observations:                7295   R-squared (Within):               0.0465\n",
      "Date:                Wed, Mar 18 2020   R-squared (Overall):              0.0340\n",
      "Time:                        19:37:43   Log-likelihood                -4.103e+04\n",
      "Cov. Estimator:            Unadjusted                                           \n",
      "                                        F-statistic:                      48.015\n",
      "Entities:                        1380   P-value                           0.0000\n",
      "Avg Obs:                       5.2862   Distribution:                  F(6,5909)\n",
      "Min Obs:                       1.0000                                           \n",
      "Max Obs:                       6.0000   F-statistic (robust):             48.015\n",
      "                                        P-value                           0.0000\n",
      "Time periods:                       6   Distribution:                  F(6,5909)\n",
      "Avg Obs:                       1215.8                                           \n",
      "Min Obs:                       1180.0                                           \n",
      "Max Obs:                       1281.0                                           \n",
      "                                                                                \n",
      "                                           Parameter Estimates                                           \n",
      "=========================================================================================================\n",
      "                                       Parameter  Std. Err.     T-stat    P-value    Lower CI    Upper CI\n",
      "---------------------------------------------------------------------------------------------------------\n",
      "Intercept                                 126.89     2.0834     60.904     0.0000      122.80      130.97\n",
      "DD_monthly                                0.1469     0.0102     14.470     0.0000      0.1270      0.1668\n",
      "DD_monthly:LC_Type3[T.cropland]          -0.0583     0.0257    -2.2698     0.0233     -0.1087     -0.0080\n",
      "DD_monthly:LC_Type3[T.forest/savanna]     0.0701     0.0301     2.3292     0.0199      0.0111      0.1291\n",
      "DD_monthly:LC_Type3[T.grassland]         -0.1273     0.0442    -2.8825     0.0040     -0.2139     -0.0407\n",
      "DD_monthly:LC_Type3[T.non-Vegetated]     -0.1279     0.0970    -1.3189     0.1872     -0.3181      0.0622\n",
      "DD_monthly:LC_Type3[T.water]              0.0887     0.0995     0.8919     0.3725     -0.1063      0.2838\n",
      "=========================================================================================================\n",
      "\n",
      "F-test for Poolability: 10.773\n",
      "P-value: 0.0000\n",
      "Distribution: F(1379,5909)\n",
      "\n",
      "Included effects: Entity\n"
     ]
    }
   ],
   "source": [
    "summer_LC = PanelOLS.from_formula('elec_use ~ 1 + DD_monthly + DD_monthly:(LC_Type3) + EntityEffects', \n",
    "                                  data=master1[master1['is_summer']])\n",
    "\n",
    "print(summer_LC.fit())"
   ]
  },
  {
   "cell_type": "markdown",
   "metadata": {},
   "source": [
    "##### NonVege"
   ]
  },
  {
   "cell_type": "code",
   "execution_count": 267,
   "metadata": {
    "scrolled": false
   },
   "outputs": [
    {
     "name": "stdout",
     "output_type": "stream",
     "text": [
      "                          PanelOLS Estimation Summary                           \n",
      "================================================================================\n",
      "Dep. Variable:               elec_use   R-squared:                        0.0429\n",
      "Estimator:                   PanelOLS   R-squared (Between):              0.0087\n",
      "No. Observations:                7244   R-squared (Within):               0.0429\n",
      "Date:                Wed, Mar 18 2020   R-squared (Overall):              0.0319\n",
      "Time:                        19:37:43   Log-likelihood                -4.076e+04\n",
      "Cov. Estimator:            Unadjusted                                           \n",
      "                                        F-statistic:                      131.45\n",
      "Entities:                        1370   P-value                           0.0000\n",
      "Avg Obs:                       5.2876   Distribution:                  F(2,5872)\n",
      "Min Obs:                       1.0000                                           \n",
      "Max Obs:                       6.0000   F-statistic (robust):             131.45\n",
      "                                        P-value                           0.0000\n",
      "Time periods:                       6   Distribution:                  F(2,5872)\n",
      "Avg Obs:                       1207.3                                           \n",
      "Min Obs:                       1171.0                                           \n",
      "Max Obs:                       1273.0                                           \n",
      "                                                                                \n",
      "                                 Parameter Estimates                                  \n",
      "======================================================================================\n",
      "                    Parameter  Std. Err.     T-stat    P-value    Lower CI    Upper CI\n",
      "--------------------------------------------------------------------------------------\n",
      "Intercept              127.22     2.0904     60.860     0.0000      123.13      131.32\n",
      "DD_monthly             0.1532     0.0266     5.7537     0.0000      0.1010      0.2054\n",
      "DD_monthly:NonVege    -0.0003     0.0005    -0.5235     0.6006     -0.0013      0.0008\n",
      "======================================================================================\n",
      "\n",
      "F-test for Poolability: 10.785\n",
      "P-value: 0.0000\n",
      "Distribution: F(1369,5872)\n",
      "\n",
      "Included effects: Entity\n"
     ]
    }
   ],
   "source": [
    "summer_NV = PanelOLS.from_formula('elec_use ~ 1 + DD_monthly + DD_monthly:NonVege + EntityEffects', \n",
    "                                  data=master[master['summer']==1])\n",
    "print(summer_NV.fit())"
   ]
  },
  {
   "cell_type": "code",
   "execution_count": 268,
   "metadata": {
    "scrolled": false
   },
   "outputs": [
    {
     "name": "stdout",
     "output_type": "stream",
     "text": [
      "                          PanelOLS Estimation Summary                           \n",
      "================================================================================\n",
      "Dep. Variable:               elec_use   R-squared:                        0.0429\n",
      "Estimator:                   PanelOLS   R-squared (Between):              0.0087\n",
      "No. Observations:                7244   R-squared (Within):               0.0429\n",
      "Date:                Wed, Mar 18 2020   R-squared (Overall):              0.0319\n",
      "Time:                        19:37:44   Log-likelihood                -4.076e+04\n",
      "Cov. Estimator:            Unadjusted                                           \n",
      "                                        F-statistic:                      131.45\n",
      "Entities:                        1370   P-value                           0.0000\n",
      "Avg Obs:                       5.2876   Distribution:                  F(2,5872)\n",
      "Min Obs:                       1.0000                                           \n",
      "Max Obs:                       6.0000   F-statistic (robust):             131.45\n",
      "                                        P-value                           0.0000\n",
      "Time periods:                       6   Distribution:                  F(2,5872)\n",
      "Avg Obs:                       1207.3                                           \n",
      "Min Obs:                       1171.0                                           \n",
      "Max Obs:                       1273.0                                           \n",
      "                                                                                \n",
      "                                 Parameter Estimates                                  \n",
      "======================================================================================\n",
      "                    Parameter  Std. Err.     T-stat    P-value    Lower CI    Upper CI\n",
      "--------------------------------------------------------------------------------------\n",
      "Intercept              127.22     2.0904     60.860     0.0000      123.13      131.32\n",
      "DD_monthly             0.1532     0.0266     5.7537     0.0000      0.1010      0.2054\n",
      "DD_monthly:NonVege    -0.0003     0.0005    -0.5235     0.6006     -0.0013      0.0008\n",
      "======================================================================================\n",
      "\n",
      "F-test for Poolability: 10.785\n",
      "P-value: 0.0000\n",
      "Distribution: F(1369,5872)\n",
      "\n",
      "Included effects: Entity\n"
     ]
    }
   ],
   "source": [
    "summer_NV = PanelOLS.from_formula('elec_use ~ 1 + DD_monthly + DD_monthly:NonVege + EntityEffects', \n",
    "                                  data=master1[master1['is_summer']])\n",
    "print(summer_NV.fit())"
   ]
  },
  {
   "cell_type": "markdown",
   "metadata": {},
   "source": [
    "#### Winter"
   ]
  },
  {
   "cell_type": "markdown",
   "metadata": {},
   "source": [
    "DD at 0.026, only forest/savanna signi and positive"
   ]
  },
  {
   "cell_type": "code",
   "execution_count": 269,
   "metadata": {},
   "outputs": [
    {
     "name": "stdout",
     "output_type": "stream",
     "text": [
      "                          PanelOLS Estimation Summary                           \n",
      "================================================================================\n",
      "Dep. Variable:               elec_use   R-squared:                        0.0086\n",
      "Estimator:                   PanelOLS   R-squared (Between):             -0.0230\n",
      "No. Observations:                7182   R-squared (Within):               0.0086\n",
      "Date:                Wed, Mar 18 2020   R-squared (Overall):             -0.0111\n",
      "Time:                        19:37:44   Log-likelihood                -4.024e+04\n",
      "Cov. Estimator:            Unadjusted                                           \n",
      "                                        F-statistic:                      8.3597\n",
      "Entities:                        1381   P-value                           0.0000\n",
      "Avg Obs:                       5.2006   Distribution:                  F(6,5795)\n",
      "Min Obs:                       1.0000                                           \n",
      "Max Obs:                       6.0000   F-statistic (robust):             8.3597\n",
      "                                        P-value                           0.0000\n",
      "Time periods:                       6   Distribution:                  F(6,5795)\n",
      "Avg Obs:                       1197.0                                           \n",
      "Min Obs:                       1101.0                                           \n",
      "Max Obs:                       1320.0                                           \n",
      "                                                                                \n",
      "                                                 Parameter Estimates                                                  \n",
      "======================================================================================================================\n",
      "                                                    Parameter  Std. Err.     T-stat    P-value    Lower CI    Upper CI\n",
      "----------------------------------------------------------------------------------------------------------------------\n",
      "Intercept                                              139.02     1.9281     72.102     0.0000      135.24      142.80\n",
      "DD_monthly                                             0.0260     0.0055     4.6940     0.0000      0.0152      0.0369\n",
      "DD_monthly:C(LC_Type3)[T.forest/shrubland/savanna]     0.0428     0.0185     2.3200     0.0204      0.0066      0.0790\n",
      "DD_monthly:C(LC_Type3)[T.grassland]                   -0.0108     0.0148    -0.7326     0.4638     -0.0397      0.0181\n",
      "DD_monthly:C(LC_Type3)[T.cropland]                     0.0094     0.0119     0.7885     0.4304     -0.0140      0.0328\n",
      "DD_monthly:C(LC_Type3)[T.water]                       -0.0229     0.0625    -0.3656     0.7147     -0.1454      0.0997\n",
      "DD_monthly:C(LC_Type3)[T.barren]                       0.0001     0.0484     0.0022     0.9982     -0.0948      0.0950\n",
      "======================================================================================================================\n",
      "\n",
      "F-test for Poolability: 11.757\n",
      "P-value: 0.0000\n",
      "Distribution: F(1380,5795)\n",
      "\n",
      "Included effects: Entity\n"
     ]
    }
   ],
   "source": [
    "winter_LC = PanelOLS.from_formula('elec_use ~ 1 + DD_monthly + DD_monthly:C(LC_Type3) + EntityEffects', \n",
    "                                  data=master[master['summer'] != 1])\n",
    "\n",
    "print(winter_LC.fit())"
   ]
  },
  {
   "cell_type": "code",
   "execution_count": 270,
   "metadata": {},
   "outputs": [
    {
     "name": "stdout",
     "output_type": "stream",
     "text": [
      "                          PanelOLS Estimation Summary                           \n",
      "================================================================================\n",
      "Dep. Variable:               elec_use   R-squared:                        0.0086\n",
      "Estimator:                   PanelOLS   R-squared (Between):             -0.0230\n",
      "No. Observations:                7182   R-squared (Within):               0.0086\n",
      "Date:                Wed, Mar 18 2020   R-squared (Overall):             -0.0111\n",
      "Time:                        19:37:44   Log-likelihood                -4.024e+04\n",
      "Cov. Estimator:            Unadjusted                                           \n",
      "                                        F-statistic:                      8.3597\n",
      "Entities:                        1381   P-value                           0.0000\n",
      "Avg Obs:                       5.2006   Distribution:                  F(6,5795)\n",
      "Min Obs:                       1.0000                                           \n",
      "Max Obs:                       6.0000   F-statistic (robust):             8.3597\n",
      "                                        P-value                           0.0000\n",
      "Time periods:                       6   Distribution:                  F(6,5795)\n",
      "Avg Obs:                       1197.0                                           \n",
      "Min Obs:                       1101.0                                           \n",
      "Max Obs:                       1320.0                                           \n",
      "                                                                                \n",
      "                                           Parameter Estimates                                           \n",
      "=========================================================================================================\n",
      "                                       Parameter  Std. Err.     T-stat    P-value    Lower CI    Upper CI\n",
      "---------------------------------------------------------------------------------------------------------\n",
      "Intercept                                 139.02     1.9281     72.102     0.0000      135.24      142.80\n",
      "DD_monthly                                0.0260     0.0055     4.6940     0.0000      0.0152      0.0369\n",
      "DD_monthly:LC_Type3[T.cropland]           0.0094     0.0119     0.7885     0.4304     -0.0140      0.0328\n",
      "DD_monthly:LC_Type3[T.forest/savanna]     0.0428     0.0185     2.3200     0.0204      0.0066      0.0790\n",
      "DD_monthly:LC_Type3[T.grassland]         -0.0108     0.0148    -0.7326     0.4638     -0.0397      0.0181\n",
      "DD_monthly:LC_Type3[T.non-Vegetated]      0.0001     0.0484     0.0022     0.9982     -0.0948      0.0950\n",
      "DD_monthly:LC_Type3[T.water]             -0.0229     0.0625    -0.3656     0.7147     -0.1454      0.0997\n",
      "=========================================================================================================\n",
      "\n",
      "F-test for Poolability: 11.757\n",
      "P-value: 0.0000\n",
      "Distribution: F(1380,5795)\n",
      "\n",
      "Included effects: Entity\n"
     ]
    }
   ],
   "source": [
    "winter_LC = PanelOLS.from_formula('elec_use ~ 1 + DD_monthly + DD_monthly:(LC_Type3) + EntityEffects', \n",
    "                                  data=master1[~master1['is_summer']])\n",
    "\n",
    "print(winter_LC.fit())"
   ]
  },
  {
   "cell_type": "markdown",
   "metadata": {},
   "source": [
    "##### NonVege"
   ]
  },
  {
   "cell_type": "code",
   "execution_count": 271,
   "metadata": {
    "scrolled": false
   },
   "outputs": [
    {
     "name": "stdout",
     "output_type": "stream",
     "text": [
      "                          PanelOLS Estimation Summary                           \n",
      "================================================================================\n",
      "Dep. Variable:               elec_use   R-squared:                        0.0072\n",
      "Estimator:                   PanelOLS   R-squared (Between):             -0.0153\n",
      "No. Observations:                7131   R-squared (Within):               0.0072\n",
      "Date:                Wed, Mar 18 2020   R-squared (Overall):             -0.0044\n",
      "Time:                        19:37:44   Log-likelihood                -3.995e+04\n",
      "Cov. Estimator:            Unadjusted                                           \n",
      "                                        F-statistic:                      20.826\n",
      "Entities:                        1371   P-value                           0.0000\n",
      "Avg Obs:                       5.2013   Distribution:                  F(2,5758)\n",
      "Min Obs:                       1.0000                                           \n",
      "Max Obs:                       6.0000   F-statistic (robust):             20.826\n",
      "                                        P-value                           0.0000\n",
      "Time periods:                       6   Distribution:                  F(2,5758)\n",
      "Avg Obs:                       1188.5                                           \n",
      "Min Obs:                       1092.0                                           \n",
      "Max Obs:                       1312.0                                           \n",
      "                                                                                \n",
      "                                 Parameter Estimates                                  \n",
      "======================================================================================\n",
      "                    Parameter  Std. Err.     T-stat    P-value    Lower CI    Upper CI\n",
      "--------------------------------------------------------------------------------------\n",
      "Intercept              139.39     1.9304     72.212     0.0000      135.61      143.18\n",
      "DD_monthly             0.0193     0.0128     1.5141     0.1301     -0.0057      0.0443\n",
      "DD_monthly:NonVege     0.0002     0.0003     0.7737     0.4391     -0.0003      0.0007\n",
      "======================================================================================\n",
      "\n",
      "F-test for Poolability: 11.689\n",
      "P-value: 0.0000\n",
      "Distribution: F(1370,5758)\n",
      "\n",
      "Included effects: Entity\n"
     ]
    }
   ],
   "source": [
    "winter_NV = PanelOLS.from_formula('elec_use ~ 1 + DD_monthly + DD_monthly:NonVege + EntityEffects', \n",
    "                                  data=master[master['summer']==0])\n",
    "print(winter_NV.fit())"
   ]
  },
  {
   "cell_type": "code",
   "execution_count": 272,
   "metadata": {
    "scrolled": false
   },
   "outputs": [
    {
     "name": "stdout",
     "output_type": "stream",
     "text": [
      "                          PanelOLS Estimation Summary                           \n",
      "================================================================================\n",
      "Dep. Variable:               elec_use   R-squared:                        0.0072\n",
      "Estimator:                   PanelOLS   R-squared (Between):             -0.0153\n",
      "No. Observations:                7131   R-squared (Within):               0.0072\n",
      "Date:                Wed, Mar 18 2020   R-squared (Overall):             -0.0044\n",
      "Time:                        19:37:44   Log-likelihood                -3.995e+04\n",
      "Cov. Estimator:            Unadjusted                                           \n",
      "                                        F-statistic:                      20.826\n",
      "Entities:                        1371   P-value                           0.0000\n",
      "Avg Obs:                       5.2013   Distribution:                  F(2,5758)\n",
      "Min Obs:                       1.0000                                           \n",
      "Max Obs:                       6.0000   F-statistic (robust):             20.826\n",
      "                                        P-value                           0.0000\n",
      "Time periods:                       6   Distribution:                  F(2,5758)\n",
      "Avg Obs:                       1188.5                                           \n",
      "Min Obs:                       1092.0                                           \n",
      "Max Obs:                       1312.0                                           \n",
      "                                                                                \n",
      "                                 Parameter Estimates                                  \n",
      "======================================================================================\n",
      "                    Parameter  Std. Err.     T-stat    P-value    Lower CI    Upper CI\n",
      "--------------------------------------------------------------------------------------\n",
      "Intercept              139.39     1.9304     72.212     0.0000      135.61      143.18\n",
      "DD_monthly             0.0193     0.0128     1.5141     0.1301     -0.0057      0.0443\n",
      "DD_monthly:NonVege     0.0002     0.0003     0.7737     0.4391     -0.0003      0.0007\n",
      "======================================================================================\n",
      "\n",
      "F-test for Poolability: 11.689\n",
      "P-value: 0.0000\n",
      "Distribution: F(1370,5758)\n",
      "\n",
      "Included effects: Entity\n"
     ]
    }
   ],
   "source": [
    "winter_NV = PanelOLS.from_formula('elec_use ~ 1 + DD_monthly + DD_monthly:NonVege + EntityEffects', \n",
    "                                  data=master1[~master1['is_summer']])\n",
    "print(winter_NV.fit())"
   ]
  },
  {
   "cell_type": "markdown",
   "metadata": {},
   "source": [
    "#### North China"
   ]
  },
  {
   "cell_type": "markdown",
   "metadata": {},
   "source": [
    "DD at 0.0168, LC nothing is significant, all negative"
   ]
  },
  {
   "cell_type": "code",
   "execution_count": 273,
   "metadata": {
    "scrolled": true
   },
   "outputs": [
    {
     "data": {
      "text/html": [
       "<div>\n",
       "<style scoped>\n",
       "    .dataframe tbody tr th:only-of-type {\n",
       "        vertical-align: middle;\n",
       "    }\n",
       "\n",
       "    .dataframe tbody tr th {\n",
       "        vertical-align: top;\n",
       "    }\n",
       "\n",
       "    .dataframe thead th {\n",
       "        text-align: right;\n",
       "    }\n",
       "</style>\n",
       "<table border=\"1\" class=\"dataframe\">\n",
       "  <thead>\n",
       "    <tr style=\"text-align: right;\">\n",
       "      <th>LC_Type3</th>\n",
       "      <th>Built-up/Urban</th>\n",
       "      <th>cropland</th>\n",
       "      <th>forest/savanna</th>\n",
       "      <th>grassland</th>\n",
       "      <th>non-Vegetated</th>\n",
       "      <th>water</th>\n",
       "      <th>All</th>\n",
       "    </tr>\n",
       "    <tr>\n",
       "      <th>is_north</th>\n",
       "      <th></th>\n",
       "      <th></th>\n",
       "      <th></th>\n",
       "      <th></th>\n",
       "      <th></th>\n",
       "      <th></th>\n",
       "      <th></th>\n",
       "    </tr>\n",
       "  </thead>\n",
       "  <tbody>\n",
       "    <tr>\n",
       "      <th>False</th>\n",
       "      <td>3740</td>\n",
       "      <td>1038</td>\n",
       "      <td>1863</td>\n",
       "      <td>0</td>\n",
       "      <td>0</td>\n",
       "      <td>376</td>\n",
       "      <td>7017</td>\n",
       "    </tr>\n",
       "    <tr>\n",
       "      <th>True</th>\n",
       "      <td>5736</td>\n",
       "      <td>1453</td>\n",
       "      <td>144</td>\n",
       "      <td>680</td>\n",
       "      <td>72</td>\n",
       "      <td>0</td>\n",
       "      <td>8085</td>\n",
       "    </tr>\n",
       "    <tr>\n",
       "      <th>All</th>\n",
       "      <td>9476</td>\n",
       "      <td>2491</td>\n",
       "      <td>2007</td>\n",
       "      <td>680</td>\n",
       "      <td>72</td>\n",
       "      <td>376</td>\n",
       "      <td>15102</td>\n",
       "    </tr>\n",
       "  </tbody>\n",
       "</table>\n",
       "</div>"
      ],
      "text/plain": [
       "LC_Type3  Built-up/Urban  cropland  forest/savanna  grassland  non-Vegetated  \\\n",
       "is_north                                                                       \n",
       "False               3740      1038            1863          0              0   \n",
       "True                5736      1453             144        680             72   \n",
       "All                 9476      2491            2007        680             72   \n",
       "\n",
       "LC_Type3  water    All  \n",
       "is_north                \n",
       "False       376   7017  \n",
       "True          0   8085  \n",
       "All         376  15102  "
      ]
     },
     "execution_count": 273,
     "metadata": {},
     "output_type": "execute_result"
    }
   ],
   "source": [
    "pd.crosstab(master1.is_north, master1.LC_Type3, margins=True)"
   ]
  },
  {
   "cell_type": "code",
   "execution_count": 274,
   "metadata": {},
   "outputs": [
    {
     "data": {
      "text/html": [
       "<div>\n",
       "<style scoped>\n",
       "    .dataframe tbody tr th:only-of-type {\n",
       "        vertical-align: middle;\n",
       "    }\n",
       "\n",
       "    .dataframe tbody tr th {\n",
       "        vertical-align: top;\n",
       "    }\n",
       "\n",
       "    .dataframe thead th {\n",
       "        text-align: right;\n",
       "    }\n",
       "</style>\n",
       "<table border=\"1\" class=\"dataframe\">\n",
       "  <thead>\n",
       "    <tr style=\"text-align: right;\">\n",
       "      <th></th>\n",
       "      <th>count</th>\n",
       "      <th>mean</th>\n",
       "      <th>std</th>\n",
       "      <th>min</th>\n",
       "      <th>25%</th>\n",
       "      <th>50%</th>\n",
       "      <th>75%</th>\n",
       "      <th>max</th>\n",
       "    </tr>\n",
       "    <tr>\n",
       "      <th>is_north</th>\n",
       "      <th></th>\n",
       "      <th></th>\n",
       "      <th></th>\n",
       "      <th></th>\n",
       "      <th></th>\n",
       "      <th></th>\n",
       "      <th></th>\n",
       "      <th></th>\n",
       "    </tr>\n",
       "  </thead>\n",
       "  <tbody>\n",
       "    <tr>\n",
       "      <th>False</th>\n",
       "      <td>7017.0</td>\n",
       "      <td>174.273087</td>\n",
       "      <td>153.558212</td>\n",
       "      <td>0.0</td>\n",
       "      <td>76.000000</td>\n",
       "      <td>128.0</td>\n",
       "      <td>225.0</td>\n",
       "      <td>1698.0</td>\n",
       "    </tr>\n",
       "    <tr>\n",
       "      <th>True</th>\n",
       "      <td>8085.0</td>\n",
       "      <td>142.754272</td>\n",
       "      <td>105.668137</td>\n",
       "      <td>0.0</td>\n",
       "      <td>83.290001</td>\n",
       "      <td>115.0</td>\n",
       "      <td>174.0</td>\n",
       "      <td>1752.0</td>\n",
       "    </tr>\n",
       "  </tbody>\n",
       "</table>\n",
       "</div>"
      ],
      "text/plain": [
       "           count        mean         std  min        25%    50%    75%     max\n",
       "is_north                                                                      \n",
       "False     7017.0  174.273087  153.558212  0.0  76.000000  128.0  225.0  1698.0\n",
       "True      8085.0  142.754272  105.668137  0.0  83.290001  115.0  174.0  1752.0"
      ]
     },
     "execution_count": 274,
     "metadata": {},
     "output_type": "execute_result"
    }
   ],
   "source": [
    "master1.groupby('is_north')['elec_use'].describe()"
   ]
  },
  {
   "cell_type": "code",
   "execution_count": 275,
   "metadata": {
    "scrolled": false
   },
   "outputs": [
    {
     "data": {
      "text/plain": [
       "is_north\n",
       "False    AxesSubplot(0.125,0.125;0.775x0.755)\n",
       "True     AxesSubplot(0.125,0.125;0.775x0.755)\n",
       "Name: Tree_Cover, dtype: object"
      ]
     },
     "execution_count": 275,
     "metadata": {},
     "output_type": "execute_result"
    },
    {
     "data": {
      "image/png": "[encoded data removed]",
      "text/plain": [
       "<Figure size 432x288 with 1 Axes>"
      ]
     },
     "metadata": {
      "needs_background": "light"
     },
     "output_type": "display_data"
    }
   ],
   "source": [
    "master1.groupby('is_north')['Tree_Cover'].hist()"
   ]
  },
  {
   "cell_type": "code",
   "execution_count": 276,
   "metadata": {},
   "outputs": [],
   "source": [
    "import pandas as pd"
   ]
  },
  {
   "cell_type": "code",
   "execution_count": 277,
   "metadata": {},
   "outputs": [
    {
     "data": {
      "text/plain": [
       "'1.0.2'"
      ]
     },
     "execution_count": 277,
     "metadata": {},
     "output_type": "execute_result"
    }
   ],
   "source": [
    "pd.__version__"
   ]
  },
  {
   "cell_type": "code",
   "execution_count": 278,
   "metadata": {},
   "outputs": [
    {
     "data": {
      "text/plain": [
       "dtype('O')"
      ]
     },
     "execution_count": 278,
     "metadata": {},
     "output_type": "execute_result"
    }
   ],
   "source": [
    "master1.LC_Type3.dtype"
   ]
  },
  {
   "cell_type": "code",
   "execution_count": 279,
   "metadata": {},
   "outputs": [
    {
     "data": {
      "text/plain": [
       "CategoricalDtype(categories=['Urban/Built up', 'forest/shrubland/savanna', 'grassland',\n",
       "                  'cropland', 'water', 'barren'],\n",
       "                 ordered=True)"
      ]
     },
     "execution_count": 279,
     "metadata": {},
     "output_type": "execute_result"
    }
   ],
   "source": [
    "master.LC_Type3.dtype"
   ]
  },
  {
   "cell_type": "code",
   "execution_count": 280,
   "metadata": {},
   "outputs": [
    {
     "data": {
      "text/plain": [
       "array([[<matplotlib.axes._subplots.AxesSubplot object at 0x1c288cbcc0>,\n",
       "        <matplotlib.axes._subplots.AxesSubplot object at 0x1c316214e0>],\n",
       "       [<matplotlib.axes._subplots.AxesSubplot object at 0x1c2ecdac88>,\n",
       "        <matplotlib.axes._subplots.AxesSubplot object at 0x1c2dced898>],\n",
       "       [<matplotlib.axes._subplots.AxesSubplot object at 0x1c2dcf2518>,\n",
       "        <matplotlib.axes._subplots.AxesSubplot object at 0x1c2ec2aa90>]],\n",
       "      dtype=object)"
      ]
     },
     "execution_count": 280,
     "metadata": {},
     "output_type": "execute_result"
    },
    {
     "data": {
      "image/png": "[encoded data removed]",
      "text/plain": [
       "<Figure size 864x720 with 6 Axes>"
      ]
     },
     "metadata": {
      "needs_background": "light"
     },
     "output_type": "display_data"
    }
   ],
   "source": [
    "master1.hist(column='Tree_Cover', by='LC_Type3', grid=False, figsize=(12,10), layout=(3,2),\n",
    "             sharex=True, color='#86bf91', zorder=2, rwidth=0.9)"
   ]
  },
  {
   "cell_type": "code",
   "execution_count": 287,
   "metadata": {
    "scrolled": true
   },
   "outputs": [
    {
     "data": {
      "text/plain": [
       "<matplotlib.axes._subplots.AxesSubplot at 0x1c2a07dc50>"
      ]
     },
     "execution_count": 287,
     "metadata": {},
     "output_type": "execute_result"
    },
    {
     "data": {
      "image/png": "[encoded data removed]",
      "text/plain": [
       "<Figure size 432x288 with 1 Axes>"
      ]
     },
     "metadata": {
      "needs_background": "light"
     },
     "output_type": "display_data"
    }
   ],
   "source": [
    "master1[master1.is_north]['Tree_Cover'].hist()"
   ]
  },
  {
   "cell_type": "code",
   "execution_count": 288,
   "metadata": {},
   "outputs": [
    {
     "data": {
      "text/plain": [
       "<matplotlib.axes._subplots.AxesSubplot at 0x1c317df0b8>"
      ]
     },
     "execution_count": 288,
     "metadata": {},
     "output_type": "execute_result"
    },
    {
     "data": {
      "image/png": "[encoded data removed]",
      "text/plain": [
       "<Figure size 432x288 with 1 Axes>"
      ]
     },
     "metadata": {
      "needs_background": "light"
     },
     "output_type": "display_data"
    }
   ],
   "source": [
    "master1[~master1.is_north]['Tree_Cover'].hist()"
   ]
  },
  {
   "cell_type": "markdown",
   "metadata": {},
   "source": [
    "From the table above, we could see there's a huge discrepancy in the distribution of forest and grassland across north vs south China. All the grasslands are in the north and almost all the forest/savannas are in the south. Therefore, the coefficient of grassland and forest could be driven by the differece in `elec_use`'s response to `DD_monthly` in south vs north China. The base coefficient of DD_montly is 0.1595 in the South and 0.0168 in the North, both higly siginificant.\n",
    "\n",
    "Combined with regression results from South China, where cropland and forest/savanna are significantly negatively correlated with elec_use, we find that in the north land cover type doesn't have a significant impact on energy use while in the south, Vegetation Cover will significantly reduce the impact of temperature on electricity consumption."
   ]
  },
  {
   "cell_type": "code",
   "execution_count": 289,
   "metadata": {
    "scrolled": true
   },
   "outputs": [
    {
     "data": {
      "text/plain": [
       "CategoricalDtype(categories=['Urban/Built up', 'forest/shrubland/savanna', 'grassland',\n",
       "                  'cropland', 'water', 'barren'],\n",
       "                 ordered=True)"
      ]
     },
     "execution_count": 289,
     "metadata": {},
     "output_type": "execute_result"
    }
   ],
   "source": [
    "master['LC_Type3'].dtypes"
   ]
  },
  {
   "cell_type": "code",
   "execution_count": 290,
   "metadata": {
    "scrolled": true
   },
   "outputs": [
    {
     "data": {
      "text/plain": [
       "Urban/Built up              5736\n",
       "cropland                    1453\n",
       "grassland                    680\n",
       "forest/shrubland/savanna     144\n",
       "barren                        72\n",
       "water                          0\n",
       "Name: LC_Type3, dtype: int64"
      ]
     },
     "execution_count": 290,
     "metadata": {},
     "output_type": "execute_result"
    }
   ],
   "source": [
    "master[master['north']=='North'].LC_Type3.value_counts()"
   ]
  },
  {
   "cell_type": "code",
   "execution_count": 291,
   "metadata": {
    "scrolled": true
   },
   "outputs": [
    {
     "data": {
      "text/plain": [
       "Built-up/Urban    5736\n",
       "cropland          1453\n",
       "grassland          680\n",
       "forest/savanna     144\n",
       "non-Vegetated       72\n",
       "Name: LC_Type3s, dtype: int64"
      ]
     },
     "execution_count": 291,
     "metadata": {},
     "output_type": "execute_result"
    }
   ],
   "source": [
    "master[master['north']=='North'].LC_Type3s.value_counts()"
   ]
  },
  {
   "cell_type": "code",
   "execution_count": 292,
   "metadata": {
    "scrolled": false
   },
   "outputs": [
    {
     "name": "stdout",
     "output_type": "stream",
     "text": [
      "                          PanelOLS Estimation Summary                           \n",
      "================================================================================\n",
      "Dep. Variable:               elec_use   R-squared:                        0.0035\n",
      "Estimator:                   PanelOLS   R-squared (Between):             -0.0146\n",
      "No. Observations:                8077   R-squared (Within):               0.0035\n",
      "Date:                Wed, Mar 18 2020   R-squared (Overall):              0.0016\n",
      "Time:                        19:41:02   Log-likelihood                -4.475e+04\n",
      "Cov. Estimator:            Unadjusted                                           \n",
      "                                        F-statistic:                      5.1812\n",
      "Entities:                         772   P-value                           0.0001\n",
      "Avg Obs:                       10.462   Distribution:                  F(5,7300)\n",
      "Min Obs:                       1.0000                                           \n",
      "Max Obs:                       12.000   F-statistic (robust):             5.1812\n",
      "                                        P-value                           0.0001\n",
      "Time periods:                      12   Distribution:                  F(5,7300)\n",
      "Avg Obs:                       673.08                                           \n",
      "Min Obs:                       636.00                                           \n",
      "Max Obs:                       740.00                                           \n",
      "                                                                                \n",
      "                                           Parameter Estimates                                            \n",
      "==========================================================================================================\n",
      "                                        Parameter  Std. Err.     T-stat    P-value    Lower CI    Upper CI\n",
      "----------------------------------------------------------------------------------------------------------\n",
      "Intercept                                  137.52     1.2601     109.14     0.0000      135.05      139.99\n",
      "DD_monthly                                 0.0168     0.0036     4.6790     0.0000      0.0097      0.0238\n",
      "DD_monthly:LC_Type3s[T.cropland]          -0.0056     0.0075    -0.7476     0.4547     -0.0203      0.0091\n",
      "DD_monthly:LC_Type3s[T.forest/savanna]    -0.0162     0.0203    -0.7980     0.4249     -0.0560      0.0236\n",
      "DD_monthly:LC_Type3s[T.grassland]         -0.0104     0.0075    -1.3847     0.1662     -0.0251      0.0043\n",
      "DD_monthly:LC_Type3s[T.non-Vegetated]     -0.0046     0.0256    -0.1817     0.8559     -0.0548      0.0455\n",
      "==========================================================================================================\n",
      "\n",
      "F-test for Poolability: 18.103\n",
      "P-value: 0.0000\n",
      "Distribution: F(771,7300)\n",
      "\n",
      "Included effects: Entity\n"
     ]
    },
    {
     "name": "stderr",
     "output_type": "stream",
     "text": [
      "/Users/JK/anaconda3/lib/python3.7/site-packages/linearmodels/utility.py:549: MissingValueWarning: \n",
      "Inputs contain missing values. Dropping rows with missing observations.\n",
      "  warnings.warn(missing_value_warning_msg, MissingValueWarning)\n"
     ]
    }
   ],
   "source": [
    "north_LC = PanelOLS.from_formula('elec_use ~ 1 + DD_monthly + DD_monthly:LC_Type3s + EntityEffects', \n",
    "                                 data=master[master['north']=='North'])\n",
    "\n",
    "print(north_LC.fit())"
   ]
  },
  {
   "cell_type": "code",
   "execution_count": 293,
   "metadata": {
    "scrolled": false
   },
   "outputs": [
    {
     "name": "stdout",
     "output_type": "stream",
     "text": [
      "                          PanelOLS Estimation Summary                           \n",
      "================================================================================\n",
      "Dep. Variable:               elec_use   R-squared:                        0.0035\n",
      "Estimator:                   PanelOLS   R-squared (Between):             -0.0146\n",
      "No. Observations:                8077   R-squared (Within):               0.0035\n",
      "Date:                Wed, Mar 18 2020   R-squared (Overall):              0.0016\n",
      "Time:                        19:41:05   Log-likelihood                -4.475e+04\n",
      "Cov. Estimator:            Unadjusted                                           \n",
      "                                        F-statistic:                      5.1812\n",
      "Entities:                         772   P-value                           0.0001\n",
      "Avg Obs:                       10.462   Distribution:                  F(5,7300)\n",
      "Min Obs:                       1.0000                                           \n",
      "Max Obs:                       12.000   F-statistic (robust):             5.1812\n",
      "                                        P-value                           0.0001\n",
      "Time periods:                      12   Distribution:                  F(5,7300)\n",
      "Avg Obs:                       673.08                                           \n",
      "Min Obs:                       636.00                                           \n",
      "Max Obs:                       740.00                                           \n",
      "                                                                                \n",
      "                                           Parameter Estimates                                           \n",
      "=========================================================================================================\n",
      "                                       Parameter  Std. Err.     T-stat    P-value    Lower CI    Upper CI\n",
      "---------------------------------------------------------------------------------------------------------\n",
      "Intercept                                 137.52     1.2601     109.14     0.0000      135.05      139.99\n",
      "DD_monthly                                0.0168     0.0036     4.6790     0.0000      0.0097      0.0238\n",
      "DD_monthly:LC_Type3[T.cropland]          -0.0056     0.0075    -0.7476     0.4547     -0.0203      0.0091\n",
      "DD_monthly:LC_Type3[T.forest/savanna]    -0.0162     0.0203    -0.7980     0.4249     -0.0560      0.0236\n",
      "DD_monthly:LC_Type3[T.grassland]         -0.0104     0.0075    -1.3847     0.1662     -0.0251      0.0043\n",
      "DD_monthly:LC_Type3[T.non-Vegetated]     -0.0046     0.0256    -0.1817     0.8559     -0.0548      0.0455\n",
      "=========================================================================================================\n",
      "\n",
      "F-test for Poolability: 18.103\n",
      "P-value: 0.0000\n",
      "Distribution: F(771,7300)\n",
      "\n",
      "Included effects: Entity\n"
     ]
    }
   ],
   "source": [
    "north_LC = PanelOLS.from_formula('elec_use ~ 1 + DD_monthly + DD_monthly:LC_Type3 + EntityEffects', \n",
    "                                 data=master1[master1['is_north'] ])\n",
    "\n",
    "print(north_LC.fit())"
   ]
  },
  {
   "cell_type": "markdown",
   "metadata": {},
   "source": [
    "##### NonVege"
   ]
  },
  {
   "cell_type": "code",
   "execution_count": 294,
   "metadata": {
    "scrolled": false
   },
   "outputs": [
    {
     "name": "stdout",
     "output_type": "stream",
     "text": [
      "                          PanelOLS Estimation Summary                           \n",
      "================================================================================\n",
      "Dep. Variable:               elec_use   R-squared:                        0.0035\n",
      "Estimator:                   PanelOLS   R-squared (Between):             -0.0136\n",
      "No. Observations:                8035   R-squared (Within):               0.0035\n",
      "Date:                Wed, Mar 18 2020   R-squared (Overall):              0.0017\n",
      "Time:                        19:41:28   Log-likelihood                -4.453e+04\n",
      "Cov. Estimator:            Unadjusted                                           \n",
      "                                        F-statistic:                      12.779\n",
      "Entities:                         768   P-value                           0.0000\n",
      "Avg Obs:                       10.462   Distribution:                  F(2,7265)\n",
      "Min Obs:                       1.0000                                           \n",
      "Max Obs:                       12.000   F-statistic (robust):             12.779\n",
      "                                        P-value                           0.0000\n",
      "Time periods:                      12   Distribution:                  F(2,7265)\n",
      "Avg Obs:                       669.58                                           \n",
      "Min Obs:                       633.00                                           \n",
      "Max Obs:                       736.00                                           \n",
      "                                                                                \n",
      "                                 Parameter Estimates                                  \n",
      "======================================================================================\n",
      "                    Parameter  Std. Err.     T-stat    P-value    Lower CI    Upper CI\n",
      "--------------------------------------------------------------------------------------\n",
      "Intercept              137.39     1.2605     108.99     0.0000      134.91      139.86\n",
      "DD_monthly             0.0030     0.0076     0.3896     0.6968     -0.0120      0.0180\n",
      "DD_monthly:NonVege     0.0002     0.0002     1.4910     0.1360  -7.285e-05      0.0005\n",
      "======================================================================================\n",
      "\n",
      "F-test for Poolability: 18.162\n",
      "P-value: 0.0000\n",
      "Distribution: F(767,7265)\n",
      "\n",
      "Included effects: Entity\n"
     ]
    }
   ],
   "source": [
    "north_NV = PanelOLS.from_formula('elec_use ~ 1 + DD_monthly + DD_monthly:NonVege + EntityEffects', \n",
    "                                  data=master[master['north']=='North'])\n",
    "print(north_NV.fit())"
   ]
  },
  {
   "cell_type": "code",
   "execution_count": 295,
   "metadata": {
    "scrolled": false
   },
   "outputs": [
    {
     "name": "stdout",
     "output_type": "stream",
     "text": [
      "                          PanelOLS Estimation Summary                           \n",
      "================================================================================\n",
      "Dep. Variable:               elec_use   R-squared:                        0.0035\n",
      "Estimator:                   PanelOLS   R-squared (Between):             -0.0136\n",
      "No. Observations:                8035   R-squared (Within):               0.0035\n",
      "Date:                Wed, Mar 18 2020   R-squared (Overall):              0.0017\n",
      "Time:                        19:41:29   Log-likelihood                -4.453e+04\n",
      "Cov. Estimator:            Unadjusted                                           \n",
      "                                        F-statistic:                      12.779\n",
      "Entities:                         768   P-value                           0.0000\n",
      "Avg Obs:                       10.462   Distribution:                  F(2,7265)\n",
      "Min Obs:                       1.0000                                           \n",
      "Max Obs:                       12.000   F-statistic (robust):             12.779\n",
      "                                        P-value                           0.0000\n",
      "Time periods:                      12   Distribution:                  F(2,7265)\n",
      "Avg Obs:                       669.58                                           \n",
      "Min Obs:                       633.00                                           \n",
      "Max Obs:                       736.00                                           \n",
      "                                                                                \n",
      "                                 Parameter Estimates                                  \n",
      "======================================================================================\n",
      "                    Parameter  Std. Err.     T-stat    P-value    Lower CI    Upper CI\n",
      "--------------------------------------------------------------------------------------\n",
      "Intercept              137.39     1.2605     108.99     0.0000      134.91      139.86\n",
      "DD_monthly             0.0030     0.0076     0.3896     0.6968     -0.0120      0.0180\n",
      "DD_monthly:NonVege     0.0002     0.0002     1.4910     0.1360  -7.285e-05      0.0005\n",
      "======================================================================================\n",
      "\n",
      "F-test for Poolability: 18.162\n",
      "P-value: 0.0000\n",
      "Distribution: F(767,7265)\n",
      "\n",
      "Included effects: Entity\n"
     ]
    }
   ],
   "source": [
    "north_NV = PanelOLS.from_formula('elec_use ~ 1 + DD_monthly + DD_monthly:NonVege + EntityEffects', \n",
    "                                  data=master1[master1['is_north'] ])\n",
    "print(north_NV.fit())"
   ]
  },
  {
   "cell_type": "markdown",
   "metadata": {},
   "source": [
    "#### South China"
   ]
  },
  {
   "cell_type": "markdown",
   "metadata": {},
   "source": [
    "DD at 0.1595, cropland and forest all signi and negative"
   ]
  },
  {
   "cell_type": "code",
   "execution_count": 296,
   "metadata": {
    "scrolled": true
   },
   "outputs": [
    {
     "data": {
      "text/plain": [
       "Urban/Built up              3740\n",
       "forest/shrubland/savanna    1863\n",
       "cropland                    1038\n",
       "water                        376\n",
       "barren                         0\n",
       "grassland                      0\n",
       "Name: LC_Type3, dtype: int64"
      ]
     },
     "execution_count": 296,
     "metadata": {},
     "output_type": "execute_result"
    }
   ],
   "source": [
    "master[master['north']!='North'].LC_Type3.value_counts()"
   ]
  },
  {
   "cell_type": "code",
   "execution_count": 297,
   "metadata": {},
   "outputs": [
    {
     "data": {
      "text/plain": [
       "Built-up/Urban    3740\n",
       "forest/savanna    1863\n",
       "cropland          1038\n",
       "water              376\n",
       "Name: LC_Type3s, dtype: int64"
      ]
     },
     "execution_count": 297,
     "metadata": {},
     "output_type": "execute_result"
    }
   ],
   "source": [
    "master[master['north']!='North'].LC_Type3s.value_counts()"
   ]
  },
  {
   "cell_type": "code",
   "execution_count": 298,
   "metadata": {
    "scrolled": true
   },
   "outputs": [
    {
     "name": "stdout",
     "output_type": "stream",
     "text": [
      "                          PanelOLS Estimation Summary                           \n",
      "================================================================================\n",
      "Dep. Variable:               elec_use   R-squared:                        0.0333\n",
      "Estimator:                   PanelOLS   R-squared (Between):              0.0244\n",
      "No. Observations:                6400   R-squared (Within):               0.0333\n",
      "Date:                Wed, Mar 18 2020   R-squared (Overall):              0.0399\n",
      "Time:                        19:41:29   Log-likelihood                -3.765e+04\n",
      "Cov. Estimator:            Unadjusted                                           \n",
      "                                        F-statistic:                      49.760\n",
      "Entities:                         609   P-value                           0.0000\n",
      "Avg Obs:                       10.509   Distribution:                  F(4,5787)\n",
      "Min Obs:                       3.0000                                           \n",
      "Max Obs:                       12.000   F-statistic (robust):             49.760\n",
      "                                        P-value                           0.0000\n",
      "Time periods:                      12   Distribution:                  F(4,5787)\n",
      "Avg Obs:                       533.33                                           \n",
      "Min Obs:                       459.00                                           \n",
      "Max Obs:                       580.00                                           \n",
      "                                                                                \n",
      "                                           Parameter Estimates                                            \n",
      "==========================================================================================================\n",
      "                                        Parameter  Std. Err.     T-stat    P-value    Lower CI    Upper CI\n",
      "----------------------------------------------------------------------------------------------------------\n",
      "Intercept                                  139.58     2.4181     57.722     0.0000      134.84      144.32\n",
      "DD_monthly                                 0.1595     0.0125     12.786     0.0000      0.1351      0.1840\n",
      "DD_monthly:LC_Type3s[T.cropland]          -0.0918     0.0256    -3.5846     0.0003     -0.1420     -0.0416\n",
      "DD_monthly:LC_Type3s[T.forest/savanna]    -0.0674     0.0224    -3.0152     0.0026     -0.1113     -0.0236\n",
      "DD_monthly:LC_Type3s[T.water]             -0.0792     0.0616    -1.2851     0.1988     -0.2000      0.0416\n",
      "==========================================================================================================\n",
      "\n",
      "F-test for Poolability: 17.943\n",
      "P-value: 0.0000\n",
      "Distribution: F(608,5787)\n",
      "\n",
      "Included effects: Entity\n"
     ]
    }
   ],
   "source": [
    "south_LC3 = PanelOLS.from_formula('elec_use ~ 1 + DD_monthly + DD_monthly:LC_Type3s + EntityEffects', \n",
    "                                 data=master[master['north']!='North'])\n",
    "print(south_LC3.fit())"
   ]
  },
  {
   "cell_type": "code",
   "execution_count": 299,
   "metadata": {
    "scrolled": false
   },
   "outputs": [
    {
     "name": "stdout",
     "output_type": "stream",
     "text": [
      "                          PanelOLS Estimation Summary                           \n",
      "================================================================================\n",
      "Dep. Variable:               elec_use   R-squared:                        0.0333\n",
      "Estimator:                   PanelOLS   R-squared (Between):              0.0244\n",
      "No. Observations:                6400   R-squared (Within):               0.0333\n",
      "Date:                Wed, Mar 18 2020   R-squared (Overall):              0.0399\n",
      "Time:                        19:41:30   Log-likelihood                -3.765e+04\n",
      "Cov. Estimator:            Unadjusted                                           \n",
      "                                        F-statistic:                      49.760\n",
      "Entities:                         609   P-value                           0.0000\n",
      "Avg Obs:                       10.509   Distribution:                  F(4,5787)\n",
      "Min Obs:                       3.0000                                           \n",
      "Max Obs:                       12.000   F-statistic (robust):             49.760\n",
      "                                        P-value                           0.0000\n",
      "Time periods:                      12   Distribution:                  F(4,5787)\n",
      "Avg Obs:                       533.33                                           \n",
      "Min Obs:                       459.00                                           \n",
      "Max Obs:                       580.00                                           \n",
      "                                                                                \n",
      "                                           Parameter Estimates                                           \n",
      "=========================================================================================================\n",
      "                                       Parameter  Std. Err.     T-stat    P-value    Lower CI    Upper CI\n",
      "---------------------------------------------------------------------------------------------------------\n",
      "Intercept                                 139.58     2.4181     57.722     0.0000      134.84      144.32\n",
      "DD_monthly                                0.1595     0.0125     12.786     0.0000      0.1351      0.1840\n",
      "DD_monthly:LC_Type3[T.cropland]          -0.0918     0.0256    -3.5846     0.0003     -0.1420     -0.0416\n",
      "DD_monthly:LC_Type3[T.forest/savanna]    -0.0674     0.0224    -3.0152     0.0026     -0.1113     -0.0236\n",
      "DD_monthly:LC_Type3[T.water]             -0.0792     0.0616    -1.2851     0.1988     -0.2000      0.0416\n",
      "=========================================================================================================\n",
      "\n",
      "F-test for Poolability: 17.943\n",
      "P-value: 0.0000\n",
      "Distribution: F(608,5787)\n",
      "\n",
      "Included effects: Entity\n"
     ]
    }
   ],
   "source": [
    "south_LC3 = PanelOLS.from_formula('elec_use ~ 1 + DD_monthly + DD_monthly:LC_Type3 + EntityEffects', \n",
    "                                 data=master1[~master1['is_north'] ])\n",
    "print(south_LC3.fit())"
   ]
  },
  {
   "cell_type": "markdown",
   "metadata": {},
   "source": [
    "LC_Type4"
   ]
  },
  {
   "cell_type": "code",
   "execution_count": 300,
   "metadata": {
    "scrolled": false
   },
   "outputs": [
    {
     "data": {
      "text/plain": [
       "0.0    3740\n",
       "1.0    2901\n",
       "4.0     376\n",
       "Name: LC_Type4, dtype: int64"
      ]
     },
     "execution_count": 300,
     "metadata": {},
     "output_type": "execute_result"
    }
   ],
   "source": [
    "master[master['north']!='North'].LC_Type4.value_counts()"
   ]
  },
  {
   "cell_type": "code",
   "execution_count": 301,
   "metadata": {
    "scrolled": false
   },
   "outputs": [
    {
     "data": {
      "text/plain": [
       "Built-up/Urban    3740\n",
       "vege              2901\n",
       "water              376\n",
       "Name: LC_Type4, dtype: int64"
      ]
     },
     "execution_count": 301,
     "metadata": {},
     "output_type": "execute_result"
    }
   ],
   "source": [
    "master1[~master1['is_north']].LC_Type4.value_counts()"
   ]
  },
  {
   "cell_type": "code",
   "execution_count": 302,
   "metadata": {},
   "outputs": [
    {
     "name": "stdout",
     "output_type": "stream",
     "text": [
      "                          PanelOLS Estimation Summary                           \n",
      "================================================================================\n",
      "Dep. Variable:               elec_use   R-squared:                        0.0331\n",
      "Estimator:                   PanelOLS   R-squared (Between):              0.0236\n",
      "No. Observations:                6400   R-squared (Within):               0.0331\n",
      "Date:                Wed, Mar 18 2020   R-squared (Overall):              0.0394\n",
      "Time:                        19:41:30   Log-likelihood                -3.765e+04\n",
      "Cov. Estimator:            Unadjusted                                           \n",
      "                                        F-statistic:                      66.116\n",
      "Entities:                         609   P-value                           0.0000\n",
      "Avg Obs:                       10.509   Distribution:                  F(3,5788)\n",
      "Min Obs:                       3.0000                                           \n",
      "Max Obs:                       12.000   F-statistic (robust):             66.116\n",
      "                                        P-value                           0.0000\n",
      "Time periods:                      12   Distribution:                  F(3,5788)\n",
      "Avg Obs:                       533.33                                           \n",
      "Min Obs:                       459.00                                           \n",
      "Max Obs:                       580.00                                           \n",
      "                                                                                \n",
      "                                       Parameter Estimates                                       \n",
      "=================================================================================================\n",
      "                               Parameter  Std. Err.     T-stat    P-value    Lower CI    Upper CI\n",
      "-------------------------------------------------------------------------------------------------\n",
      "Intercept                         139.61     2.4177     57.747     0.0000      134.87      144.35\n",
      "DD_monthly                        0.1595     0.0125     12.786     0.0000      0.1351      0.1840\n",
      "DD_monthly:C(LC_Type4)[T.1.0]    -0.0774     0.0190    -4.0800     0.0000     -0.1145     -0.0402\n",
      "DD_monthly:C(LC_Type4)[T.4.0]    -0.0792     0.0616    -1.2852     0.1988     -0.2000      0.0416\n",
      "=================================================================================================\n",
      "\n",
      "F-test for Poolability: 17.963\n",
      "P-value: 0.0000\n",
      "Distribution: F(608,5788)\n",
      "\n",
      "Included effects: Entity\n"
     ]
    }
   ],
   "source": [
    "south_LC4 = PanelOLS.from_formula('elec_use ~ 1 + DD_monthly + DD_monthly:C(LC_Type4) + EntityEffects', \n",
    "                                 data=master[master['north']!='North'])\n",
    "\n",
    "print(south_LC4.fit())"
   ]
  },
  {
   "cell_type": "code",
   "execution_count": 303,
   "metadata": {},
   "outputs": [
    {
     "name": "stdout",
     "output_type": "stream",
     "text": [
      "                          PanelOLS Estimation Summary                           \n",
      "================================================================================\n",
      "Dep. Variable:               elec_use   R-squared:                        0.0331\n",
      "Estimator:                   PanelOLS   R-squared (Between):              0.0236\n",
      "No. Observations:                6400   R-squared (Within):               0.0331\n",
      "Date:                Wed, Mar 18 2020   R-squared (Overall):              0.0394\n",
      "Time:                        19:41:30   Log-likelihood                -3.765e+04\n",
      "Cov. Estimator:            Unadjusted                                           \n",
      "                                        F-statistic:                      66.116\n",
      "Entities:                         609   P-value                           0.0000\n",
      "Avg Obs:                       10.509   Distribution:                  F(3,5788)\n",
      "Min Obs:                       3.0000                                           \n",
      "Max Obs:                       12.000   F-statistic (robust):             66.116\n",
      "                                        P-value                           0.0000\n",
      "Time periods:                      12   Distribution:                  F(3,5788)\n",
      "Avg Obs:                       533.33                                           \n",
      "Min Obs:                       459.00                                           \n",
      "Max Obs:                       580.00                                           \n",
      "                                                                                \n",
      "                                      Parameter Estimates                                       \n",
      "================================================================================================\n",
      "                              Parameter  Std. Err.     T-stat    P-value    Lower CI    Upper CI\n",
      "------------------------------------------------------------------------------------------------\n",
      "Intercept                        139.61     2.4177     57.747     0.0000      134.87      144.35\n",
      "DD_monthly                       0.1595     0.0125     12.786     0.0000      0.1351      0.1840\n",
      "DD_monthly:LC_Type4[T.vege]     -0.0774     0.0190    -4.0800     0.0000     -0.1145     -0.0402\n",
      "DD_monthly:LC_Type4[T.water]    -0.0792     0.0616    -1.2852     0.1988     -0.2000      0.0416\n",
      "================================================================================================\n",
      "\n",
      "F-test for Poolability: 17.963\n",
      "P-value: 0.0000\n",
      "Distribution: F(608,5788)\n",
      "\n",
      "Included effects: Entity\n"
     ]
    }
   ],
   "source": [
    "\n",
    "south_LC4 = PanelOLS.from_formula('elec_use ~ 1 + DD_monthly + DD_monthly:LC_Type4 + EntityEffects', \n",
    "                                 data=master1[~master1['is_north'] ])\n",
    "print(south_LC4.fit())"
   ]
  },
  {
   "cell_type": "markdown",
   "metadata": {},
   "source": [
    "##### NonVege"
   ]
  },
  {
   "cell_type": "code",
   "execution_count": 304,
   "metadata": {
    "scrolled": false
   },
   "outputs": [
    {
     "name": "stdout",
     "output_type": "stream",
     "text": [
      "                          PanelOLS Estimation Summary                           \n",
      "================================================================================\n",
      "Dep. Variable:               elec_use   R-squared:                        0.0314\n",
      "Estimator:                   PanelOLS   R-squared (Between):              0.0153\n",
      "No. Observations:                6340   R-squared (Within):               0.0314\n",
      "Date:                Wed, Mar 18 2020   R-squared (Overall):              0.0344\n",
      "Time:                        19:41:30   Log-likelihood                -3.729e+04\n",
      "Cov. Estimator:            Unadjusted                                           \n",
      "                                        F-statistic:                      92.833\n",
      "Entities:                         603   P-value                           0.0000\n",
      "Avg Obs:                       10.514   Distribution:                  F(2,5735)\n",
      "Min Obs:                       3.0000                                           \n",
      "Max Obs:                       12.000   F-statistic (robust):             92.833\n",
      "                                        P-value                           0.0000\n",
      "Time periods:                      12   Distribution:                  F(2,5735)\n",
      "Avg Obs:                       528.33                                           \n",
      "Min Obs:                       453.00                                           \n",
      "Max Obs:                       576.00                                           \n",
      "                                                                                \n",
      "                                 Parameter Estimates                                  \n",
      "======================================================================================\n",
      "                    Parameter  Std. Err.     T-stat    P-value    Lower CI    Upper CI\n",
      "--------------------------------------------------------------------------------------\n",
      "Intercept              140.37     2.4229     57.935     0.0000      135.62      145.12\n",
      "DD_monthly             0.0554     0.0230     2.4047     0.0162      0.0102      0.1005\n",
      "DD_monthly:NonVege     0.0017     0.0005     3.2296     0.0012      0.0007      0.0027\n",
      "======================================================================================\n",
      "\n",
      "F-test for Poolability: 17.983\n",
      "P-value: 0.0000\n",
      "Distribution: F(602,5735)\n",
      "\n",
      "Included effects: Entity\n"
     ]
    }
   ],
   "source": [
    "south_NV = PanelOLS.from_formula('elec_use ~ 1 + DD_monthly + DD_monthly:NonVege + EntityEffects', \n",
    "                                  data=master[master['north'] !='North'])\n",
    "print(south_NV.fit())"
   ]
  },
  {
   "cell_type": "code",
   "execution_count": 305,
   "metadata": {
    "scrolled": false
   },
   "outputs": [
    {
     "name": "stdout",
     "output_type": "stream",
     "text": [
      "                          PanelOLS Estimation Summary                           \n",
      "================================================================================\n",
      "Dep. Variable:               elec_use   R-squared:                        0.0314\n",
      "Estimator:                   PanelOLS   R-squared (Between):              0.0153\n",
      "No. Observations:                6340   R-squared (Within):               0.0314\n",
      "Date:                Wed, Mar 18 2020   R-squared (Overall):              0.0344\n",
      "Time:                        19:41:31   Log-likelihood                -3.729e+04\n",
      "Cov. Estimator:            Unadjusted                                           \n",
      "                                        F-statistic:                      92.833\n",
      "Entities:                         603   P-value                           0.0000\n",
      "Avg Obs:                       10.514   Distribution:                  F(2,5735)\n",
      "Min Obs:                       3.0000                                           \n",
      "Max Obs:                       12.000   F-statistic (robust):             92.833\n",
      "                                        P-value                           0.0000\n",
      "Time periods:                      12   Distribution:                  F(2,5735)\n",
      "Avg Obs:                       528.33                                           \n",
      "Min Obs:                       453.00                                           \n",
      "Max Obs:                       576.00                                           \n",
      "                                                                                \n",
      "                                 Parameter Estimates                                  \n",
      "======================================================================================\n",
      "                    Parameter  Std. Err.     T-stat    P-value    Lower CI    Upper CI\n",
      "--------------------------------------------------------------------------------------\n",
      "Intercept              140.37     2.4229     57.935     0.0000      135.62      145.12\n",
      "DD_monthly             0.0554     0.0230     2.4047     0.0162      0.0102      0.1005\n",
      "DD_monthly:NonVege     0.0017     0.0005     3.2296     0.0012      0.0007      0.0027\n",
      "======================================================================================\n",
      "\n",
      "F-test for Poolability: 17.983\n",
      "P-value: 0.0000\n",
      "Distribution: F(602,5735)\n",
      "\n",
      "Included effects: Entity\n"
     ]
    }
   ],
   "source": [
    "south_NV = PanelOLS.from_formula('elec_use ~ 1 + DD_monthly + DD_monthly:NonVege + EntityEffects', \n",
    "                                 data=master1[~master1['is_north'] ])\n",
    "print(south_NV.fit())"
   ]
  },
  {
   "cell_type": "markdown",
   "metadata": {},
   "source": [
    "NonVege significant in south China not in the north"
   ]
  },
  {
   "cell_type": "markdown",
   "metadata": {},
   "source": [
    "#### Single Family home, urban home"
   ]
  },
  {
   "cell_type": "markdown",
   "metadata": {},
   "source": [
    "##### Urban vs Rural"
   ]
  },
  {
   "cell_type": "code",
   "execution_count": 306,
   "metadata": {},
   "outputs": [
    {
     "data": {
      "text/plain": [
       "CategoricalDtype(categories=['city', 'town', 'rural'], ordered=True)"
      ]
     },
     "execution_count": 306,
     "metadata": {},
     "output_type": "execute_result"
    }
   ],
   "source": [
    "master.urban.dtype"
   ]
  },
  {
   "cell_type": "code",
   "execution_count": 307,
   "metadata": {},
   "outputs": [
    {
     "data": {
      "text/plain": [
       "CategoricalDtype(categories=['城市（县级市及以上）', '乡镇', '农村'], ordered=True)"
      ]
     },
     "execution_count": 307,
     "metadata": {},
     "output_type": "execute_result"
    }
   ],
   "source": [
    "master1.urban.dtype"
   ]
  },
  {
   "cell_type": "code",
   "execution_count": 308,
   "metadata": {
    "scrolled": false
   },
   "outputs": [
    {
     "data": {
      "text/plain": [
       "city     9463\n",
       "rural    3077\n",
       "town     2514\n",
       "NaN        48\n",
       "Name: urban, dtype: int64"
      ]
     },
     "execution_count": 308,
     "metadata": {},
     "output_type": "execute_result"
    }
   ],
   "source": [
    "master.urban.value_counts(dropna=False)"
   ]
  },
  {
   "cell_type": "code",
   "execution_count": 309,
   "metadata": {
    "scrolled": false
   },
   "outputs": [
    {
     "data": {
      "text/plain": [
       "城市（县级市及以上）    9463\n",
       "农村            3077\n",
       "乡镇            2514\n",
       "NaN             48\n",
       "Name: urban, dtype: int64"
      ]
     },
     "execution_count": 309,
     "metadata": {},
     "output_type": "execute_result"
    }
   ],
   "source": [
    "master1.urban.value_counts(dropna=False)"
   ]
  },
  {
   "cell_type": "code",
   "execution_count": 310,
   "metadata": {},
   "outputs": [
    {
     "data": {
      "text/html": [
       "<div>\n",
       "<style scoped>\n",
       "    .dataframe tbody tr th:only-of-type {\n",
       "        vertical-align: middle;\n",
       "    }\n",
       "\n",
       "    .dataframe tbody tr th {\n",
       "        vertical-align: top;\n",
       "    }\n",
       "\n",
       "    .dataframe thead th {\n",
       "        text-align: right;\n",
       "    }\n",
       "</style>\n",
       "<table border=\"1\" class=\"dataframe\">\n",
       "  <thead>\n",
       "    <tr style=\"text-align: right;\">\n",
       "      <th>urban</th>\n",
       "      <th>city</th>\n",
       "      <th>town</th>\n",
       "      <th>rural</th>\n",
       "    </tr>\n",
       "    <tr>\n",
       "      <th>urban</th>\n",
       "      <th></th>\n",
       "      <th></th>\n",
       "      <th></th>\n",
       "    </tr>\n",
       "  </thead>\n",
       "  <tbody>\n",
       "    <tr>\n",
       "      <th>city</th>\n",
       "      <td>9463</td>\n",
       "      <td>0</td>\n",
       "      <td>0</td>\n",
       "    </tr>\n",
       "    <tr>\n",
       "      <th>town</th>\n",
       "      <td>0</td>\n",
       "      <td>2514</td>\n",
       "      <td>0</td>\n",
       "    </tr>\n",
       "    <tr>\n",
       "      <th>rural</th>\n",
       "      <td>0</td>\n",
       "      <td>0</td>\n",
       "      <td>3077</td>\n",
       "    </tr>\n",
       "  </tbody>\n",
       "</table>\n",
       "</div>"
      ],
      "text/plain": [
       "urban  city  town  rural\n",
       "urban                   \n",
       "city   9463     0      0\n",
       "town      0  2514      0\n",
       "rural     0     0   3077"
      ]
     },
     "execution_count": 310,
     "metadata": {},
     "output_type": "execute_result"
    }
   ],
   "source": [
    "pd.crosstab(master1['urban'], master['urban']) # wrong"
   ]
  },
  {
   "cell_type": "code",
   "execution_count": 311,
   "metadata": {},
   "outputs": [
    {
     "data": {
      "text/html": [
       "<div>\n",
       "<style scoped>\n",
       "    .dataframe tbody tr th:only-of-type {\n",
       "        vertical-align: middle;\n",
       "    }\n",
       "\n",
       "    .dataframe tbody tr th {\n",
       "        vertical-align: top;\n",
       "    }\n",
       "\n",
       "    .dataframe thead th {\n",
       "        text-align: right;\n",
       "    }\n",
       "</style>\n",
       "<table border=\"1\" class=\"dataframe\">\n",
       "  <thead>\n",
       "    <tr style=\"text-align: right;\">\n",
       "      <th>urban</th>\n",
       "      <th>城市（县级市及以上）</th>\n",
       "      <th>乡镇</th>\n",
       "      <th>农村</th>\n",
       "    </tr>\n",
       "    <tr>\n",
       "      <th>urban</th>\n",
       "      <th></th>\n",
       "      <th></th>\n",
       "      <th></th>\n",
       "    </tr>\n",
       "  </thead>\n",
       "  <tbody>\n",
       "    <tr>\n",
       "      <th>城市（县级市及以上）</th>\n",
       "      <td>9463</td>\n",
       "      <td>0</td>\n",
       "      <td>0</td>\n",
       "    </tr>\n",
       "    <tr>\n",
       "      <th>乡镇</th>\n",
       "      <td>0</td>\n",
       "      <td>2514</td>\n",
       "      <td>0</td>\n",
       "    </tr>\n",
       "    <tr>\n",
       "      <th>农村</th>\n",
       "      <td>0</td>\n",
       "      <td>0</td>\n",
       "      <td>3077</td>\n",
       "    </tr>\n",
       "  </tbody>\n",
       "</table>\n",
       "</div>"
      ],
      "text/plain": [
       "urban       城市（县级市及以上）    乡镇    农村\n",
       "urban                             \n",
       "城市（县级市及以上）        9463     0     0\n",
       "乡镇                   0  2514     0\n",
       "农村                   0     0  3077"
      ]
     },
     "execution_count": 311,
     "metadata": {},
     "output_type": "execute_result"
    }
   ],
   "source": [
    "pd.crosstab(master['urban'],master1['urban']) # wrong"
   ]
  },
  {
   "cell_type": "code",
   "execution_count": 312,
   "metadata": {
    "scrolled": false
   },
   "outputs": [
    {
     "name": "stdout",
     "output_type": "stream",
     "text": [
      "                          PanelOLS Estimation Summary                           \n",
      "================================================================================\n",
      "Dep. Variable:               elec_use   R-squared:                        0.0097\n",
      "Estimator:                   PanelOLS   R-squared (Between):             -0.0064\n",
      "No. Observations:               14441   R-squared (Within):               0.0097\n",
      "Date:                Wed, Mar 18 2020   R-squared (Overall):              0.0065\n",
      "Time:                        19:41:31   Log-likelihood                -8.271e+04\n",
      "Cov. Estimator:            Unadjusted                                           \n",
      "                                        F-statistic:                      16.016\n",
      "Entities:                        1378   P-value                           0.0000\n",
      "Avg Obs:                       10.480   Distribution:                 F(8,13055)\n",
      "Min Obs:                       1.0000                                           \n",
      "Max Obs:                       12.000   F-statistic (robust):             16.016\n",
      "                                        P-value                           0.0000\n",
      "Time periods:                      12   Distribution:                 F(8,13055)\n",
      "Avg Obs:                       1203.4                                           \n",
      "Min Obs:                       1098.0                                           \n",
      "Max Obs:                       1317.0                                           \n",
      "                                                                                \n",
      "                                                 Parameter Estimates                                                  \n",
      "======================================================================================================================\n",
      "                                                    Parameter  Std. Err.     T-stat    P-value    Lower CI    Upper CI\n",
      "----------------------------------------------------------------------------------------------------------------------\n",
      "Intercept                                              144.00     1.1791     122.13     0.0000      141.69      146.31\n",
      "DD_monthly                                             0.0365     0.0043     8.5170     0.0000      0.0281      0.0449\n",
      "DD_monthly:C(urban)[T.town]                            0.0144     0.0107     1.3521     0.1764     -0.0065      0.0354\n",
      "DD_monthly:C(urban)[T.rural]                          -0.0245     0.0099    -2.4676     0.0136     -0.0440     -0.0050\n",
      "DD_monthly:C(LC_Type3)[T.forest/shrubland/savanna]     0.0311     0.0142     2.1967     0.0281      0.0033      0.0588\n",
      "DD_monthly:C(LC_Type3)[T.grassland]                   -0.0263     0.0090    -2.9121     0.0036     -0.0440     -0.0086\n",
      "DD_monthly:C(LC_Type3)[T.cropland]                    -0.0068     0.0092    -0.7375     0.4608     -0.0247      0.0112\n",
      "DD_monthly:C(LC_Type3)[T.water]                        0.0488     0.0519     0.9410     0.3467     -0.0529      0.1505\n",
      "DD_monthly:C(LC_Type3)[T.barren]                      -0.0244     0.0308    -0.7920     0.4284     -0.0849      0.0360\n",
      "======================================================================================================================\n",
      "\n",
      "F-test for Poolability: 18.312\n",
      "P-value: 0.0000\n",
      "Distribution: F(1377,13055)\n",
      "\n",
      "Included effects: Entity\n"
     ]
    },
    {
     "name": "stderr",
     "output_type": "stream",
     "text": [
      "/Users/JK/anaconda3/lib/python3.7/site-packages/linearmodels/utility.py:549: MissingValueWarning: \n",
      "Inputs contain missing values. Dropping rows with missing observations.\n",
      "  warnings.warn(missing_value_warning_msg, MissingValueWarning)\n"
     ]
    }
   ],
   "source": [
    "urban_LC = PanelOLS.from_formula('elec_use ~ 1 + DD_monthly + DD_monthly:C(urban) + DD_monthly:C(LC_Type3) + EntityEffects', \n",
    "                                 data=master.dropna(subset=['urban']))\n",
    "\n",
    "print(urban_LC.fit())"
   ]
  },
  {
   "cell_type": "code",
   "execution_count": 313,
   "metadata": {
    "scrolled": false
   },
   "outputs": [
    {
     "name": "stdout",
     "output_type": "stream",
     "text": [
      "                          PanelOLS Estimation Summary                           \n",
      "================================================================================\n",
      "Dep. Variable:               elec_use   R-squared:                        0.0097\n",
      "Estimator:                   PanelOLS   R-squared (Between):             -0.0064\n",
      "No. Observations:               14441   R-squared (Within):               0.0097\n",
      "Date:                Wed, Mar 18 2020   R-squared (Overall):              0.0065\n",
      "Time:                        19:41:31   Log-likelihood                -8.271e+04\n",
      "Cov. Estimator:            Unadjusted                                           \n",
      "                                        F-statistic:                      16.016\n",
      "Entities:                        1378   P-value                           0.0000\n",
      "Avg Obs:                       10.480   Distribution:                 F(8,13055)\n",
      "Min Obs:                       1.0000                                           \n",
      "Max Obs:                       12.000   F-statistic (robust):             16.016\n",
      "                                        P-value                           0.0000\n",
      "Time periods:                      12   Distribution:                 F(8,13055)\n",
      "Avg Obs:                       1203.4                                           \n",
      "Min Obs:                       1098.0                                           \n",
      "Max Obs:                       1317.0                                           \n",
      "                                                                                \n",
      "                                           Parameter Estimates                                           \n",
      "=========================================================================================================\n",
      "                                       Parameter  Std. Err.     T-stat    P-value    Lower CI    Upper CI\n",
      "---------------------------------------------------------------------------------------------------------\n",
      "Intercept                                 144.00     1.1791     122.13     0.0000      141.69      146.31\n",
      "DD_monthly                                0.0365     0.0043     8.5170     0.0000      0.0281      0.0449\n",
      "DD_monthly:urban[T.乡镇]                    0.0144     0.0107     1.3521     0.1764     -0.0065      0.0354\n",
      "DD_monthly:urban[T.农村]                   -0.0245     0.0099    -2.4676     0.0136     -0.0440     -0.0050\n",
      "DD_monthly:LC_Type3[T.cropland]          -0.0068     0.0092    -0.7375     0.4608     -0.0247      0.0112\n",
      "DD_monthly:LC_Type3[T.forest/savanna]     0.0311     0.0142     2.1967     0.0281      0.0033      0.0588\n",
      "DD_monthly:LC_Type3[T.grassland]         -0.0263     0.0090    -2.9121     0.0036     -0.0440     -0.0086\n",
      "DD_monthly:LC_Type3[T.non-Vegetated]     -0.0244     0.0308    -0.7920     0.4284     -0.0849      0.0360\n",
      "DD_monthly:LC_Type3[T.water]              0.0488     0.0519     0.9410     0.3467     -0.0529      0.1505\n",
      "=========================================================================================================\n",
      "\n",
      "F-test for Poolability: 18.312\n",
      "P-value: 0.0000\n",
      "Distribution: F(1377,13055)\n",
      "\n",
      "Included effects: Entity\n"
     ]
    }
   ],
   "source": [
    "urban_LC = PanelOLS.from_formula('elec_use ~ 1 + DD_monthly + DD_monthly:(urban) + DD_monthly:(LC_Type3) + EntityEffects', \n",
    "                                 data=master1.dropna(subset=['urban']))\n",
    "\n",
    "print(urban_LC.fit())"
   ]
  },
  {
   "cell_type": "markdown",
   "metadata": {},
   "source": []
  },
  {
   "cell_type": "markdown",
   "metadata": {},
   "source": [
    "##### SF home vs NonSF"
   ]
  },
  {
   "cell_type": "code",
   "execution_count": 314,
   "metadata": {
    "scrolled": true
   },
   "outputs": [
    {
     "data": {
      "text/plain": [
       "0.0    10355\n",
       "1.0     4747\n",
       "Name: sf, dtype: int64"
      ]
     },
     "execution_count": 314,
     "metadata": {},
     "output_type": "execute_result"
    }
   ],
   "source": [
    "master.sf.value_counts(dropna=False)"
   ]
  },
  {
   "cell_type": "code",
   "execution_count": 315,
   "metadata": {
    "scrolled": false
   },
   "outputs": [
    {
     "data": {
      "text/plain": [
       "0.0    10319\n",
       "1.0     4747\n",
       "NaN       36\n",
       "Name: sf, dtype: int64"
      ]
     },
     "execution_count": 315,
     "metadata": {},
     "output_type": "execute_result"
    }
   ],
   "source": [
    "master1.sf.value_counts(dropna=False)"
   ]
  },
  {
   "cell_type": "code",
   "execution_count": 316,
   "metadata": {
    "scrolled": false
   },
   "outputs": [
    {
     "name": "stdout",
     "output_type": "stream",
     "text": [
      "                          PanelOLS Estimation Summary                           \n",
      "================================================================================\n",
      "Dep. Variable:               elec_use   R-squared:                        0.0092\n",
      "Estimator:                   PanelOLS   R-squared (Between):             -0.0072\n",
      "No. Observations:               14477   R-squared (Within):               0.0092\n",
      "Date:                Wed, Mar 18 2020   R-squared (Overall):              0.0049\n",
      "Time:                        19:41:32   Log-likelihood                -8.292e+04\n",
      "Cov. Estimator:            Unadjusted                                           \n",
      "                                        F-statistic:                      17.444\n",
      "Entities:                        1381   P-value                           0.0000\n",
      "Avg Obs:                       10.483   Distribution:                 F(7,13089)\n",
      "Min Obs:                       1.0000                                           \n",
      "Max Obs:                       12.000   F-statistic (robust):             17.444\n",
      "                                        P-value                           0.0000\n",
      "Time periods:                      12   Distribution:                 F(7,13089)\n",
      "Avg Obs:                       1206.4                                           \n",
      "Min Obs:                       1101.0                                           \n",
      "Max Obs:                       1320.0                                           \n",
      "                                                                                \n",
      "                                                 Parameter Estimates                                                  \n",
      "======================================================================================================================\n",
      "                                                    Parameter  Std. Err.     T-stat    P-value    Lower CI    Upper CI\n",
      "----------------------------------------------------------------------------------------------------------------------\n",
      "Intercept                                              144.14     1.1751     122.66     0.0000      141.84      146.45\n",
      "DD_monthly                                             0.0390     0.0042     9.3821     0.0000      0.0308      0.0471\n",
      "DD_monthly:C(sf)[T.1.0]                               -0.0153     0.0078    -1.9523     0.0509     -0.0306   6.109e-05\n",
      "DD_monthly:C(LC_Type3)[T.forest/shrubland/savanna]     0.0317     0.0140     2.2600     0.0238      0.0042      0.0592\n",
      "DD_monthly:C(LC_Type3)[T.grassland]                   -0.0298     0.0089    -3.3391     0.0008     -0.0472     -0.0123\n",
      "DD_monthly:C(LC_Type3)[T.cropland]                    -0.0117     0.0088    -1.3231     0.1858     -0.0290      0.0056\n",
      "DD_monthly:C(LC_Type3)[T.water]                        0.0457     0.0518     0.8817     0.3779     -0.0559      0.1473\n",
      "DD_monthly:C(LC_Type3)[T.barren]                      -0.0235     0.0308    -0.7639     0.4449     -0.0839      0.0368\n",
      "======================================================================================================================\n",
      "\n",
      "F-test for Poolability: 18.331\n",
      "P-value: 0.0000\n",
      "Distribution: F(1380,13089)\n",
      "\n",
      "Included effects: Entity\n"
     ]
    }
   ],
   "source": [
    "singlefamily_LC = PanelOLS.from_formula('elec_use ~ 1 + DD_monthly + DD_monthly:C(sf) + DD_monthly:C(LC_Type3) + EntityEffects', \n",
    "                                 data=master)\n",
    "\n",
    "print(singlefamily_LC.fit())"
   ]
  },
  {
   "cell_type": "code",
   "execution_count": 317,
   "metadata": {
    "scrolled": false
   },
   "outputs": [
    {
     "name": "stdout",
     "output_type": "stream",
     "text": [
      "                          PanelOLS Estimation Summary                           \n",
      "================================================================================\n",
      "Dep. Variable:               elec_use   R-squared:                        0.0093\n",
      "Estimator:                   PanelOLS   R-squared (Between):             -0.0072\n",
      "No. Observations:               14453   R-squared (Within):               0.0093\n",
      "Date:                Wed, Mar 18 2020   R-squared (Overall):              0.0049\n",
      "Time:                        19:41:32   Log-likelihood                -8.279e+04\n",
      "Cov. Estimator:            Unadjusted                                           \n",
      "                                        F-statistic:                      17.486\n",
      "Entities:                        1379   P-value                           0.0000\n",
      "Avg Obs:                       10.481   Distribution:                 F(7,13067)\n",
      "Min Obs:                       1.0000                                           \n",
      "Max Obs:                       12.000   F-statistic (robust):             17.486\n",
      "                                        P-value                           0.0000\n",
      "Time periods:                      12   Distribution:                 F(7,13067)\n",
      "Avg Obs:                       1204.4                                           \n",
      "Min Obs:                       1099.0                                           \n",
      "Max Obs:                       1318.0                                           \n",
      "                                                                                \n",
      "                                           Parameter Estimates                                           \n",
      "=========================================================================================================\n",
      "                                       Parameter  Std. Err.     T-stat    P-value    Lower CI    Upper CI\n",
      "---------------------------------------------------------------------------------------------------------\n",
      "Intercept                                 144.19     1.1769     122.52     0.0000      141.88      146.49\n",
      "DD_monthly                                0.0391     0.0042     9.3902     0.0000      0.0309      0.0472\n",
      "DD_monthly:LC_Type3[T.cropland]          -0.0113     0.0089    -1.2702     0.2040     -0.0287      0.0061\n",
      "DD_monthly:LC_Type3[T.forest/savanna]     0.0317     0.0140     2.2601     0.0238      0.0042      0.0592\n",
      "DD_monthly:LC_Type3[T.grassland]         -0.0298     0.0089    -3.3403     0.0008     -0.0473     -0.0123\n",
      "DD_monthly:LC_Type3[T.non-Vegetated]     -0.0235     0.0308    -0.7642     0.4448     -0.0839      0.0368\n",
      "DD_monthly:LC_Type3[T.water]              0.0457     0.0519     0.8810     0.3783     -0.0560      0.1474\n",
      "DD_monthly:sf                            -0.0155     0.0078    -1.9808     0.0476     -0.0309     -0.0002\n",
      "=========================================================================================================\n",
      "\n",
      "F-test for Poolability: 18.326\n",
      "P-value: 0.0000\n",
      "Distribution: F(1378,13067)\n",
      "\n",
      "Included effects: Entity\n"
     ]
    }
   ],
   "source": [
    "# same as if sf is continuous\n",
    "singlefamily_LC = PanelOLS.from_formula('elec_use ~ 1 + DD_monthly + DD_monthly:(sf) + DD_monthly:(LC_Type3) + EntityEffects', \n",
    "                                 data=master1.dropna(subset=['sf']))\n",
    "\n",
    "print(singlefamily_LC.fit())"
   ]
  },
  {
   "cell_type": "markdown",
   "metadata": {},
   "source": [
    "    the `sf` variable is hightly corelated with `urban`\n",
    "so the effect is mostly driven by house being in a urban neighborhood or not"
   ]
  },
  {
   "cell_type": "code",
   "execution_count": null,
   "metadata": {},
   "outputs": [],
   "source": []
  },
  {
   "cell_type": "code",
   "execution_count": 318,
   "metadata": {
    "scrolled": false
   },
   "outputs": [
    {
     "data": {
      "text/html": [
       "<div>\n",
       "<style scoped>\n",
       "    .dataframe tbody tr th:only-of-type {\n",
       "        vertical-align: middle;\n",
       "    }\n",
       "\n",
       "    .dataframe tbody tr th {\n",
       "        vertical-align: top;\n",
       "    }\n",
       "\n",
       "    .dataframe thead th {\n",
       "        text-align: right;\n",
       "    }\n",
       "</style>\n",
       "<table border=\"1\" class=\"dataframe\">\n",
       "  <thead>\n",
       "    <tr style=\"text-align: right;\">\n",
       "      <th>urban</th>\n",
       "      <th>城市（县级市及以上）</th>\n",
       "      <th>乡镇</th>\n",
       "      <th>农村</th>\n",
       "      <th>All</th>\n",
       "    </tr>\n",
       "    <tr>\n",
       "      <th>sf</th>\n",
       "      <th></th>\n",
       "      <th></th>\n",
       "      <th></th>\n",
       "      <th></th>\n",
       "    </tr>\n",
       "  </thead>\n",
       "  <tbody>\n",
       "    <tr>\n",
       "      <th>0.0</th>\n",
       "      <td>8757</td>\n",
       "      <td>1495</td>\n",
       "      <td>67</td>\n",
       "      <td>10319</td>\n",
       "    </tr>\n",
       "    <tr>\n",
       "      <th>1.0</th>\n",
       "      <td>706</td>\n",
       "      <td>1019</td>\n",
       "      <td>3010</td>\n",
       "      <td>4735</td>\n",
       "    </tr>\n",
       "    <tr>\n",
       "      <th>All</th>\n",
       "      <td>9463</td>\n",
       "      <td>2514</td>\n",
       "      <td>3077</td>\n",
       "      <td>15054</td>\n",
       "    </tr>\n",
       "  </tbody>\n",
       "</table>\n",
       "</div>"
      ],
      "text/plain": [
       "urban  城市（县级市及以上）    乡镇    农村    All\n",
       "sf                                  \n",
       "0.0          8757  1495    67  10319\n",
       "1.0           706  1019  3010   4735\n",
       "All          9463  2514  3077  15054"
      ]
     },
     "execution_count": 318,
     "metadata": {},
     "output_type": "execute_result"
    }
   ],
   "source": [
    "pd.crosstab(master1['sf'],master1['urban'],margins=True)"
   ]
  },
  {
   "cell_type": "code",
   "execution_count": 319,
   "metadata": {
    "scrolled": false
   },
   "outputs": [
    {
     "data": {
      "text/html": [
       "<div>\n",
       "<style scoped>\n",
       "    .dataframe tbody tr th:only-of-type {\n",
       "        vertical-align: middle;\n",
       "    }\n",
       "\n",
       "    .dataframe tbody tr th {\n",
       "        vertical-align: top;\n",
       "    }\n",
       "\n",
       "    .dataframe thead th {\n",
       "        text-align: right;\n",
       "    }\n",
       "</style>\n",
       "<table border=\"1\" class=\"dataframe\">\n",
       "  <thead>\n",
       "    <tr style=\"text-align: right;\">\n",
       "      <th>urban</th>\n",
       "      <th>city</th>\n",
       "      <th>town</th>\n",
       "      <th>rural</th>\n",
       "      <th>All</th>\n",
       "    </tr>\n",
       "    <tr>\n",
       "      <th>sf</th>\n",
       "      <th></th>\n",
       "      <th></th>\n",
       "      <th></th>\n",
       "      <th></th>\n",
       "    </tr>\n",
       "  </thead>\n",
       "  <tbody>\n",
       "    <tr>\n",
       "      <th>0.0</th>\n",
       "      <td>8757</td>\n",
       "      <td>1495</td>\n",
       "      <td>67</td>\n",
       "      <td>10319</td>\n",
       "    </tr>\n",
       "    <tr>\n",
       "      <th>1.0</th>\n",
       "      <td>706</td>\n",
       "      <td>1019</td>\n",
       "      <td>3010</td>\n",
       "      <td>4735</td>\n",
       "    </tr>\n",
       "    <tr>\n",
       "      <th>All</th>\n",
       "      <td>9463</td>\n",
       "      <td>2514</td>\n",
       "      <td>3077</td>\n",
       "      <td>15054</td>\n",
       "    </tr>\n",
       "  </tbody>\n",
       "</table>\n",
       "</div>"
      ],
      "text/plain": [
       "urban  city  town  rural    All\n",
       "sf                             \n",
       "0.0    8757  1495     67  10319\n",
       "1.0     706  1019   3010   4735\n",
       "All    9463  2514   3077  15054"
      ]
     },
     "execution_count": 319,
     "metadata": {},
     "output_type": "execute_result"
    }
   ],
   "source": [
    "pd.crosstab(master['sf'],master['urban'],margins=True)"
   ]
  },
  {
   "cell_type": "code",
   "execution_count": 320,
   "metadata": {
    "scrolled": false
   },
   "outputs": [
    {
     "data": {
      "text/html": [
       "<div>\n",
       "<style scoped>\n",
       "    .dataframe tbody tr th:only-of-type {\n",
       "        vertical-align: middle;\n",
       "    }\n",
       "\n",
       "    .dataframe tbody tr th {\n",
       "        vertical-align: top;\n",
       "    }\n",
       "\n",
       "    .dataframe thead th {\n",
       "        text-align: right;\n",
       "    }\n",
       "</style>\n",
       "<table border=\"1\" class=\"dataframe\">\n",
       "  <thead>\n",
       "    <tr style=\"text-align: right;\">\n",
       "      <th>sf</th>\n",
       "      <th>0.0</th>\n",
       "      <th>1.0</th>\n",
       "    </tr>\n",
       "    <tr>\n",
       "      <th>sf</th>\n",
       "      <th></th>\n",
       "      <th></th>\n",
       "    </tr>\n",
       "  </thead>\n",
       "  <tbody>\n",
       "    <tr>\n",
       "      <th>0.0</th>\n",
       "      <td>10355</td>\n",
       "      <td>0</td>\n",
       "    </tr>\n",
       "    <tr>\n",
       "      <th>1.0</th>\n",
       "      <td>0</td>\n",
       "      <td>4747</td>\n",
       "    </tr>\n",
       "  </tbody>\n",
       "</table>\n",
       "</div>"
      ],
      "text/plain": [
       "sf     0.0   1.0\n",
       "sf              \n",
       "0.0  10355     0\n",
       "1.0      0  4747"
      ]
     },
     "execution_count": 320,
     "metadata": {},
     "output_type": "execute_result"
    }
   ],
   "source": [
    "pd.crosstab(master1['sf'],master['sf']) #master1.sf ==0 should be 10319"
   ]
  },
  {
   "cell_type": "code",
   "execution_count": 321,
   "metadata": {
    "scrolled": false
   },
   "outputs": [
    {
     "data": {
      "text/html": [
       "<div>\n",
       "<style scoped>\n",
       "    .dataframe tbody tr th:only-of-type {\n",
       "        vertical-align: middle;\n",
       "    }\n",
       "\n",
       "    .dataframe tbody tr th {\n",
       "        vertical-align: top;\n",
       "    }\n",
       "\n",
       "    .dataframe thead th {\n",
       "        text-align: right;\n",
       "    }\n",
       "</style>\n",
       "<table border=\"1\" class=\"dataframe\">\n",
       "  <thead>\n",
       "    <tr style=\"text-align: right;\">\n",
       "      <th>sf</th>\n",
       "      <th>0.0</th>\n",
       "      <th>1.0</th>\n",
       "    </tr>\n",
       "    <tr>\n",
       "      <th>sf</th>\n",
       "      <th></th>\n",
       "      <th></th>\n",
       "    </tr>\n",
       "  </thead>\n",
       "  <tbody>\n",
       "    <tr>\n",
       "      <th>0.0</th>\n",
       "      <td>10319</td>\n",
       "      <td>0</td>\n",
       "    </tr>\n",
       "    <tr>\n",
       "      <th>1.0</th>\n",
       "      <td>0</td>\n",
       "      <td>4747</td>\n",
       "    </tr>\n",
       "  </tbody>\n",
       "</table>\n",
       "</div>"
      ],
      "text/plain": [
       "sf     0.0   1.0\n",
       "sf              \n",
       "0.0  10319     0\n",
       "1.0      0  4747"
      ]
     },
     "execution_count": 321,
     "metadata": {},
     "output_type": "execute_result"
    }
   ],
   "source": [
    "pd.crosstab(master['sf'],master1['sf'])"
   ]
  },
  {
   "cell_type": "markdown",
   "metadata": {},
   "source": [
    "#### Newer building"
   ]
  },
  {
   "cell_type": "code",
   "execution_count": 322,
   "metadata": {
    "scrolled": false
   },
   "outputs": [
    {
     "data": {
      "text/plain": [
       "1.0    12510\n",
       "0.0     2525\n",
       "NaN       67\n",
       "Name: new, dtype: int64"
      ]
     },
     "execution_count": 322,
     "metadata": {},
     "output_type": "execute_result"
    }
   ],
   "source": [
    "master.new.value_counts(dropna=False)"
   ]
  },
  {
   "cell_type": "code",
   "execution_count": 323,
   "metadata": {},
   "outputs": [
    {
     "data": {
      "text/plain": [
       "1.0    12510\n",
       "0.0     2525\n",
       "NaN       67\n",
       "Name: new, dtype: int64"
      ]
     },
     "execution_count": 323,
     "metadata": {},
     "output_type": "execute_result"
    }
   ],
   "source": [
    "master1.new.value_counts(dropna=False)"
   ]
  },
  {
   "cell_type": "code",
   "execution_count": 324,
   "metadata": {},
   "outputs": [
    {
     "data": {
      "text/plain": [
       "1.0    12510\n",
       "0.0     2525\n",
       "NaN       67\n",
       "Name: is_new, dtype: int64"
      ]
     },
     "execution_count": 324,
     "metadata": {},
     "output_type": "execute_result"
    }
   ],
   "source": [
    "master1.is_new.value_counts(dropna=False)"
   ]
  },
  {
   "cell_type": "code",
   "execution_count": 329,
   "metadata": {
    "scrolled": false
   },
   "outputs": [
    {
     "name": "stdout",
     "output_type": "stream",
     "text": [
      "                          PanelOLS Estimation Summary                           \n",
      "================================================================================\n",
      "Dep. Variable:               elec_use   R-squared:                        0.0091\n",
      "Estimator:                   PanelOLS   R-squared (Between):             -0.0098\n",
      "No. Observations:               14422   R-squared (Within):               0.0091\n",
      "Date:                Wed, Mar 18 2020   R-squared (Overall):              0.0032\n",
      "Time:                        19:43:43   Log-likelihood                -8.261e+04\n",
      "Cov. Estimator:            Unadjusted                                           \n",
      "                                        F-statistic:                      17.115\n",
      "Entities:                        1375   P-value                           0.0000\n",
      "Avg Obs:                       10.489   Distribution:                 F(7,13040)\n",
      "Min Obs:                       1.0000                                           \n",
      "Max Obs:                       12.000   F-statistic (robust):             17.115\n",
      "                                        P-value                           0.0000\n",
      "Time periods:                      12   Distribution:                 F(7,13040)\n",
      "Avg Obs:                       1201.8                                           \n",
      "Min Obs:                       1096.0                                           \n",
      "Max Obs:                       1315.0                                           \n",
      "                                                                                \n",
      "                                                Parameter Estimates                                                \n",
      "===================================================================================================================\n",
      "                                                 Parameter  Std. Err.     T-stat    P-value    Lower CI    Upper CI\n",
      "-------------------------------------------------------------------------------------------------------------------\n",
      "Intercept                                           143.88     1.1733     122.63     0.0000      141.58      146.18\n",
      "DD_monthly                                          0.0282     0.0086     3.2780     0.0010      0.0113      0.0450\n",
      "DD_monthly:C(new)[T.1.0]                            0.0100     0.0087     1.1380     0.2552     -0.0072      0.0271\n",
      "DD_monthly:LC_Type3[T.forest/shrubland/savanna]     0.0288     0.0139     2.0702     0.0385      0.0015      0.0561\n",
      "DD_monthly:LC_Type3[T.grassland]                   -0.0299     0.0089    -3.3565     0.0008     -0.0474     -0.0125\n",
      "DD_monthly:LC_Type3[T.cropland]                    -0.0165     0.0084    -1.9630     0.0497     -0.0330  -2.396e-05\n",
      "DD_monthly:LC_Type3[T.water]                        0.0465     0.0519     0.8961     0.3702     -0.0553      0.1483\n",
      "DD_monthly:LC_Type3[T.barren]                      -0.0260     0.0308    -0.8441     0.3986     -0.0864      0.0344\n",
      "===================================================================================================================\n",
      "\n",
      "F-test for Poolability: 18.359\n",
      "P-value: 0.0000\n",
      "Distribution: F(1374,13040)\n",
      "\n",
      "Included effects: Entity\n"
     ]
    }
   ],
   "source": [
    "newbuilding_LC = PanelOLS.from_formula('elec_use ~ 1 + DD_monthly + DD_monthly:C(new) + DD_monthly:(LC_Type3) + EntityEffects', \n",
    "                                 data=master.dropna(subset=['new']))\n",
    "\n",
    "print(newbuilding_LC.fit())"
   ]
  },
  {
   "cell_type": "code",
   "execution_count": 326,
   "metadata": {
    "scrolled": false
   },
   "outputs": [
    {
     "name": "stdout",
     "output_type": "stream",
     "text": [
      "                          PanelOLS Estimation Summary                           \n",
      "================================================================================\n",
      "Dep. Variable:               elec_use   R-squared:                        0.0091\n",
      "Estimator:                   PanelOLS   R-squared (Between):             -0.0098\n",
      "No. Observations:               14422   R-squared (Within):               0.0091\n",
      "Date:                Wed, Mar 18 2020   R-squared (Overall):              0.0032\n",
      "Time:                        19:41:33   Log-likelihood                -8.261e+04\n",
      "Cov. Estimator:            Unadjusted                                           \n",
      "                                        F-statistic:                      17.115\n",
      "Entities:                        1375   P-value                           0.0000\n",
      "Avg Obs:                       10.489   Distribution:                 F(7,13040)\n",
      "Min Obs:                       1.0000                                           \n",
      "Max Obs:                       12.000   F-statistic (robust):             17.115\n",
      "                                        P-value                           0.0000\n",
      "Time periods:                      12   Distribution:                 F(7,13040)\n",
      "Avg Obs:                       1201.8                                           \n",
      "Min Obs:                       1096.0                                           \n",
      "Max Obs:                       1315.0                                           \n",
      "                                                                                \n",
      "                                           Parameter Estimates                                           \n",
      "=========================================================================================================\n",
      "                                       Parameter  Std. Err.     T-stat    P-value    Lower CI    Upper CI\n",
      "---------------------------------------------------------------------------------------------------------\n",
      "Intercept                                 143.88     1.1733     122.63     0.0000      141.58      146.18\n",
      "DD_monthly                                0.0282     0.0086     3.2780     0.0010      0.0113      0.0450\n",
      "DD_monthly:LC_Type3[T.cropland]          -0.0165     0.0084    -1.9630     0.0497     -0.0330  -2.396e-05\n",
      "DD_monthly:LC_Type3[T.forest/savanna]     0.0288     0.0139     2.0702     0.0385      0.0015      0.0561\n",
      "DD_monthly:LC_Type3[T.grassland]         -0.0299     0.0089    -3.3565     0.0008     -0.0474     -0.0125\n",
      "DD_monthly:LC_Type3[T.non-Vegetated]     -0.0260     0.0308    -0.8441     0.3986     -0.0864      0.0344\n",
      "DD_monthly:LC_Type3[T.water]              0.0465     0.0519     0.8961     0.3702     -0.0553      0.1483\n",
      "DD_monthly:is_new                         0.0100     0.0087     1.1380     0.2552     -0.0072      0.0271\n",
      "=========================================================================================================\n",
      "\n",
      "F-test for Poolability: 18.359\n",
      "P-value: 0.0000\n",
      "Distribution: F(1374,13040)\n",
      "\n",
      "Included effects: Entity\n"
     ]
    }
   ],
   "source": [
    "newbuilding_LC = PanelOLS.from_formula('elec_use ~ 1 + DD_monthly + DD_monthly:is_new + DD_monthly:(LC_Type3) + EntityEffects', \n",
    "                                 data=master1.dropna(subset=['is_new']))\n",
    "\n",
    "print(newbuilding_LC.fit())"
   ]
  },
  {
   "cell_type": "code",
   "execution_count": 327,
   "metadata": {
    "scrolled": false
   },
   "outputs": [
    {
     "name": "stdout",
     "output_type": "stream",
     "text": [
      "                          PanelOLS Estimation Summary                           \n",
      "================================================================================\n",
      "Dep. Variable:               elec_use   R-squared:                        0.0091\n",
      "Estimator:                   PanelOLS   R-squared (Between):             -0.0098\n",
      "No. Observations:               14422   R-squared (Within):               0.0091\n",
      "Date:                Wed, Mar 18 2020   R-squared (Overall):              0.0032\n",
      "Time:                        19:41:33   Log-likelihood                -8.261e+04\n",
      "Cov. Estimator:            Unadjusted                                           \n",
      "                                        F-statistic:                      17.115\n",
      "Entities:                        1375   P-value                           0.0000\n",
      "Avg Obs:                       10.489   Distribution:                 F(7,13040)\n",
      "Min Obs:                       1.0000                                           \n",
      "Max Obs:                       12.000   F-statistic (robust):             17.115\n",
      "                                        P-value                           0.0000\n",
      "Time periods:                      12   Distribution:                 F(7,13040)\n",
      "Avg Obs:                       1201.8                                           \n",
      "Min Obs:                       1096.0                                           \n",
      "Max Obs:                       1315.0                                           \n",
      "                                                                                \n",
      "                                           Parameter Estimates                                           \n",
      "=========================================================================================================\n",
      "                                       Parameter  Std. Err.     T-stat    P-value    Lower CI    Upper CI\n",
      "---------------------------------------------------------------------------------------------------------\n",
      "Intercept                                 143.88     1.1733     122.63     0.0000      141.58      146.18\n",
      "DD_monthly                                0.0282     0.0086     3.2780     0.0010      0.0113      0.0450\n",
      "DD_monthly:LC_Type3[T.cropland]          -0.0165     0.0084    -1.9630     0.0497     -0.0330  -2.396e-05\n",
      "DD_monthly:LC_Type3[T.forest/savanna]     0.0288     0.0139     2.0702     0.0385      0.0015      0.0561\n",
      "DD_monthly:LC_Type3[T.grassland]         -0.0299     0.0089    -3.3565     0.0008     -0.0474     -0.0125\n",
      "DD_monthly:LC_Type3[T.non-Vegetated]     -0.0260     0.0308    -0.8441     0.3986     -0.0864      0.0344\n",
      "DD_monthly:LC_Type3[T.water]              0.0465     0.0519     0.8961     0.3702     -0.0553      0.1483\n",
      "DD_monthly:is_new                         0.0100     0.0087     1.1380     0.2552     -0.0072      0.0271\n",
      "=========================================================================================================\n",
      "\n",
      "F-test for Poolability: 18.359\n",
      "P-value: 0.0000\n",
      "Distribution: F(1374,13040)\n",
      "\n",
      "Included effects: Entity\n"
     ]
    }
   ],
   "source": [
    "# old 'is_new', w/o NaNs\n",
    "newbuilding_LC = PanelOLS.from_formula('elec_use ~ 1 + DD_monthly + DD_monthly:is_new + DD_monthly:(LC_Type3) + EntityEffects', \n",
    "                                 data=master1.dropna(subset=['is_new']))\n",
    "\n",
    "print(newbuilding_LC.fit())"
   ]
  },
  {
   "cell_type": "code",
   "execution_count": 328,
   "metadata": {},
   "outputs": [],
   "source": [
    "# results different since the \"is_new\" discrepancy"
   ]
  },
  {
   "cell_type": "markdown",
   "metadata": {},
   "source": [
    "#### Machine Learning Models"
   ]
  },
  {
   "cell_type": "code",
   "execution_count": 330,
   "metadata": {},
   "outputs": [],
   "source": [
    "from sklearn.linear_model import LinearRegression\n",
    "#from sklearn.linear_model import Ridge, RidgeCV, Lasso, LassoCV\n",
    "from sklearn.model_selection import KFold, cross_val_score, train_test_split\n",
    "#from sklearn.model_selection import GridSearchCV, RandomizedSearchCV\n",
    "#from sklearn.ensemble import RandomForestRegressor,  GradientBoostingRegressor\n",
    "#from sklearn.kernel_ridge import KernelRidge\n",
    "from sklearn.pipeline import make_pipeline\n",
    "from sklearn.preprocessing import RobustScaler\n",
    "from sklearn.metrics import mean_squared_error"
   ]
  },
  {
   "cell_type": "code",
   "execution_count": 350,
   "metadata": {},
   "outputs": [],
   "source": [
    "to_delete = ['moveinmth','serial','zipcode','elec_ln']"
   ]
  },
  {
   "cell_type": "code",
   "execution_count": 546,
   "metadata": {},
   "outputs": [],
   "source": [
    "dfml = master1.drop(labels=to_delete,  axis=1, inplace=False)"
   ]
  },
  {
   "cell_type": "code",
   "execution_count": 547,
   "metadata": {},
   "outputs": [
    {
     "data": {
      "text/plain": [
       "Index(['elec_use', 'elec_bill', 'Month', 'respondent', 'latitude', 'longitude',\n",
       "       'fsize', 'birthyr', 'edu_yrs', 'mths_at_home', 'level', 'moveinyr',\n",
       "       'daystyd', 'owntyp', 'bathroom', 'balcony', 'DD_monthly',\n",
       "       'goodday_count', 'LC_Type1', 'LC_Type2', 'NonTree_Vege', 'NonVege',\n",
       "       'Tree_Cover', 'is_north', 'is_south', 'summer', 'is_summer', 'new',\n",
       "       'is_new', 'sf', 'Vege_Cover', 'DD_sq'],\n",
       "      dtype='object')"
      ]
     },
     "execution_count": 547,
     "metadata": {},
     "output_type": "execute_result"
    }
   ],
   "source": [
    "dfml._get_numeric_data().columns"
   ]
  },
  {
   "cell_type": "code",
   "execution_count": 522,
   "metadata": {},
   "outputs": [],
   "source": [
    "to_convert_category = ['Month','birthyr','moveinyr','owntyp','LC_Type1','LC_Type2']"
   ]
  },
  {
   "cell_type": "code",
   "execution_count": 548,
   "metadata": {},
   "outputs": [],
   "source": [
    "dfml[to_convert_category] = X[to_convert_category].astype('category')"
   ]
  },
  {
   "cell_type": "code",
   "execution_count": 559,
   "metadata": {},
   "outputs": [],
   "source": [
    "dfml.dropna(axis=0, how='any', inplace=True)"
   ]
  },
  {
   "cell_type": "code",
   "execution_count": 560,
   "metadata": {},
   "outputs": [
    {
     "data": {
      "text/html": [
       "<div>\n",
       "<style scoped>\n",
       "    .dataframe tbody tr th:only-of-type {\n",
       "        vertical-align: middle;\n",
       "    }\n",
       "\n",
       "    .dataframe tbody tr th {\n",
       "        vertical-align: top;\n",
       "    }\n",
       "\n",
       "    .dataframe thead th {\n",
       "        text-align: right;\n",
       "    }\n",
       "</style>\n",
       "<table border=\"1\" class=\"dataframe\">\n",
       "  <thead>\n",
       "    <tr style=\"text-align: right;\">\n",
       "      <th></th>\n",
       "      <th></th>\n",
       "      <th>elec_use</th>\n",
       "      <th>elec_bill</th>\n",
       "      <th>respondent</th>\n",
       "      <th>latitude</th>\n",
       "      <th>longitude</th>\n",
       "      <th>fsize</th>\n",
       "      <th>edu_yrs</th>\n",
       "      <th>mths_at_home</th>\n",
       "      <th>level</th>\n",
       "      <th>daystyd</th>\n",
       "      <th>...</th>\n",
       "      <th>county__静安区</th>\n",
       "      <th>county__项城市</th>\n",
       "      <th>county__顺义区</th>\n",
       "      <th>county__香坊区</th>\n",
       "      <th>county__驿城区</th>\n",
       "      <th>county__高新技术开发区</th>\n",
       "      <th>county__鹤城区</th>\n",
       "      <th>county__黄浦区</th>\n",
       "      <th>county__龙华区</th>\n",
       "      <th>county__龙沙区</th>\n",
       "    </tr>\n",
       "    <tr>\n",
       "      <th>ID</th>\n",
       "      <th>month</th>\n",
       "      <th></th>\n",
       "      <th></th>\n",
       "      <th></th>\n",
       "      <th></th>\n",
       "      <th></th>\n",
       "      <th></th>\n",
       "      <th></th>\n",
       "      <th></th>\n",
       "      <th></th>\n",
       "      <th></th>\n",
       "      <th></th>\n",
       "      <th></th>\n",
       "      <th></th>\n",
       "      <th></th>\n",
       "      <th></th>\n",
       "      <th></th>\n",
       "      <th></th>\n",
       "      <th></th>\n",
       "      <th></th>\n",
       "      <th></th>\n",
       "      <th></th>\n",
       "    </tr>\n",
       "  </thead>\n",
       "  <tbody>\n",
       "    <tr>\n",
       "      <th rowspan=\"5\" valign=\"top\">5</th>\n",
       "      <th>1</th>\n",
       "      <td>265.0</td>\n",
       "      <td>140.000000</td>\n",
       "      <td>1.0</td>\n",
       "      <td>22.857195</td>\n",
       "      <td>110.550453</td>\n",
       "      <td>5.0</td>\n",
       "      <td>12.0</td>\n",
       "      <td>12.0</td>\n",
       "      <td>3.0</td>\n",
       "      <td>7.0</td>\n",
       "      <td>...</td>\n",
       "      <td>0</td>\n",
       "      <td>0</td>\n",
       "      <td>0</td>\n",
       "      <td>0</td>\n",
       "      <td>0</td>\n",
       "      <td>0</td>\n",
       "      <td>0</td>\n",
       "      <td>0</td>\n",
       "      <td>0</td>\n",
       "      <td>0</td>\n",
       "    </tr>\n",
       "    <tr>\n",
       "      <th>2</th>\n",
       "      <td>461.0</td>\n",
       "      <td>243.550003</td>\n",
       "      <td>1.0</td>\n",
       "      <td>22.857195</td>\n",
       "      <td>110.550453</td>\n",
       "      <td>5.0</td>\n",
       "      <td>12.0</td>\n",
       "      <td>12.0</td>\n",
       "      <td>3.0</td>\n",
       "      <td>7.0</td>\n",
       "      <td>...</td>\n",
       "      <td>0</td>\n",
       "      <td>0</td>\n",
       "      <td>0</td>\n",
       "      <td>0</td>\n",
       "      <td>0</td>\n",
       "      <td>0</td>\n",
       "      <td>0</td>\n",
       "      <td>0</td>\n",
       "      <td>0</td>\n",
       "      <td>0</td>\n",
       "    </tr>\n",
       "    <tr>\n",
       "      <th>3</th>\n",
       "      <td>340.0</td>\n",
       "      <td>179.619995</td>\n",
       "      <td>1.0</td>\n",
       "      <td>22.857195</td>\n",
       "      <td>110.550453</td>\n",
       "      <td>5.0</td>\n",
       "      <td>12.0</td>\n",
       "      <td>12.0</td>\n",
       "      <td>3.0</td>\n",
       "      <td>7.0</td>\n",
       "      <td>...</td>\n",
       "      <td>0</td>\n",
       "      <td>0</td>\n",
       "      <td>0</td>\n",
       "      <td>0</td>\n",
       "      <td>0</td>\n",
       "      <td>0</td>\n",
       "      <td>0</td>\n",
       "      <td>0</td>\n",
       "      <td>0</td>\n",
       "      <td>0</td>\n",
       "    </tr>\n",
       "    <tr>\n",
       "      <th>4</th>\n",
       "      <td>243.0</td>\n",
       "      <td>128.380005</td>\n",
       "      <td>1.0</td>\n",
       "      <td>22.857195</td>\n",
       "      <td>110.550453</td>\n",
       "      <td>5.0</td>\n",
       "      <td>12.0</td>\n",
       "      <td>12.0</td>\n",
       "      <td>3.0</td>\n",
       "      <td>7.0</td>\n",
       "      <td>...</td>\n",
       "      <td>0</td>\n",
       "      <td>0</td>\n",
       "      <td>0</td>\n",
       "      <td>0</td>\n",
       "      <td>0</td>\n",
       "      <td>0</td>\n",
       "      <td>0</td>\n",
       "      <td>0</td>\n",
       "      <td>0</td>\n",
       "      <td>0</td>\n",
       "    </tr>\n",
       "    <tr>\n",
       "      <th>5</th>\n",
       "      <td>131.0</td>\n",
       "      <td>69.209999</td>\n",
       "      <td>1.0</td>\n",
       "      <td>22.857195</td>\n",
       "      <td>110.550453</td>\n",
       "      <td>5.0</td>\n",
       "      <td>12.0</td>\n",
       "      <td>12.0</td>\n",
       "      <td>3.0</td>\n",
       "      <td>7.0</td>\n",
       "      <td>...</td>\n",
       "      <td>0</td>\n",
       "      <td>0</td>\n",
       "      <td>0</td>\n",
       "      <td>0</td>\n",
       "      <td>0</td>\n",
       "      <td>0</td>\n",
       "      <td>0</td>\n",
       "      <td>0</td>\n",
       "      <td>0</td>\n",
       "      <td>0</td>\n",
       "    </tr>\n",
       "  </tbody>\n",
       "</table>\n",
       "<p>5 rows × 846 columns</p>\n",
       "</div>"
      ],
      "text/plain": [
       "          elec_use   elec_bill  respondent   latitude   longitude  fsize  \\\n",
       "ID month                                                                   \n",
       "5  1         265.0  140.000000         1.0  22.857195  110.550453    5.0   \n",
       "   2         461.0  243.550003         1.0  22.857195  110.550453    5.0   \n",
       "   3         340.0  179.619995         1.0  22.857195  110.550453    5.0   \n",
       "   4         243.0  128.380005         1.0  22.857195  110.550453    5.0   \n",
       "   5         131.0   69.209999         1.0  22.857195  110.550453    5.0   \n",
       "\n",
       "          edu_yrs  mths_at_home  level  daystyd  ...  county__静安区  \\\n",
       "ID month                                         ...                \n",
       "5  1         12.0          12.0    3.0      7.0  ...            0   \n",
       "   2         12.0          12.0    3.0      7.0  ...            0   \n",
       "   3         12.0          12.0    3.0      7.0  ...            0   \n",
       "   4         12.0          12.0    3.0      7.0  ...            0   \n",
       "   5         12.0          12.0    3.0      7.0  ...            0   \n",
       "\n",
       "          county__项城市  county__顺义区  county__香坊区  county__驿城区  county__高新技术开发区  \\\n",
       "ID month                                                                        \n",
       "5  1                0            0            0            0                0   \n",
       "   2                0            0            0            0                0   \n",
       "   3                0            0            0            0                0   \n",
       "   4                0            0            0            0                0   \n",
       "   5                0            0            0            0                0   \n",
       "\n",
       "          county__鹤城区  county__黄浦区  county__龙华区  county__龙沙区  \n",
       "ID month                                                      \n",
       "5  1                0            0            0            0  \n",
       "   2                0            0            0            0  \n",
       "   3                0            0            0            0  \n",
       "   4                0            0            0            0  \n",
       "   5                0            0            0            0  \n",
       "\n",
       "[5 rows x 846 columns]"
      ]
     },
     "execution_count": 560,
     "metadata": {},
     "output_type": "execute_result"
    }
   ],
   "source": [
    "pd.get_dummies(dfml).head()"
   ]
  },
  {
   "cell_type": "code",
   "execution_count": 571,
   "metadata": {},
   "outputs": [
    {
     "data": {
      "text/plain": [
       "(8861, 844)"
      ]
     },
     "execution_count": 571,
     "metadata": {},
     "output_type": "execute_result"
    }
   ],
   "source": [
    "X.shape"
   ]
  },
  {
   "cell_type": "code",
   "execution_count": 561,
   "metadata": {},
   "outputs": [],
   "source": [
    "X = pd.get_dummies(dfml).iloc[:,2:]"
   ]
  },
  {
   "cell_type": "code",
   "execution_count": 562,
   "metadata": {},
   "outputs": [],
   "source": [
    "y = pd.get_dummies(dfml).iloc[:,0]"
   ]
  },
  {
   "cell_type": "code",
   "execution_count": 563,
   "metadata": {},
   "outputs": [],
   "source": [
    "X_train, X_test, y_train , y_test = train_test_split(X, y, test_size=0.1, random_state=42 )"
   ]
  },
  {
   "cell_type": "code",
   "execution_count": 556,
   "metadata": {},
   "outputs": [],
   "source": [
    "ml_LR = LinearRegression()"
   ]
  },
  {
   "cell_type": "code",
   "execution_count": 564,
   "metadata": {},
   "outputs": [
    {
     "data": {
      "text/plain": [
       "LinearRegression(copy_X=True, fit_intercept=True, n_jobs=None, normalize=False)"
      ]
     },
     "execution_count": 564,
     "metadata": {},
     "output_type": "execute_result"
    }
   ],
   "source": [
    "ml_LR.fit(X_train, y_train)"
   ]
  },
  {
   "cell_type": "code",
   "execution_count": 567,
   "metadata": {},
   "outputs": [
    {
     "data": {
      "text/plain": [
       "0.5276848726100689"
      ]
     },
     "execution_count": 567,
     "metadata": {},
     "output_type": "execute_result"
    }
   ],
   "source": [
    "ml_LR.score(X_train, y_train)"
   ]
  },
  {
   "cell_type": "code",
   "execution_count": 568,
   "metadata": {},
   "outputs": [
    {
     "data": {
      "text/plain": [
       "0.4346199405325565"
      ]
     },
     "execution_count": 568,
     "metadata": {},
     "output_type": "execute_result"
    }
   ],
   "source": [
    "ml_LR.score(X_test, y_test)"
   ]
  }
 ],
 "metadata": {
  "kernelspec": {
   "display_name": "Python 3",
   "language": "python",
   "name": "python3"
  },
  "language_info": {
   "codemirror_mode": {
    "name": "ipython",
    "version": 3
   },
   "file_extension": ".py",
   "mimetype": "text/x-python",
   "name": "python",
   "nbconvert_exporter": "python",
   "pygments_lexer": "ipython3",
   "version": "3.7.3"
  },
  "toc": {
   "base_numbering": 1,
   "nav_menu": {},
   "number_sections": true,
   "sideBar": true,
   "skip_h1_title": false,
   "title_cell": "Table of Contents",
   "title_sidebar": "Contents",
   "toc_cell": true,
   "toc_position": {
    "height": "calc(100% - 180px)",
    "left": "10px",
    "top": "150px",
    "width": "372px"
   },
   "toc_section_display": true,
   "toc_window_display": true
  }
 },
 "nbformat": 4,
 "nbformat_minor": 2
}
